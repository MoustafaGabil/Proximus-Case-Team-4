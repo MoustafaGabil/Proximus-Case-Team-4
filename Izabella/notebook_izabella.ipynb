{
 "cells": [
  {
   "cell_type": "markdown",
   "metadata": {},
   "source": [
    "Gophish - first steps :D "
   ]
  },
  {
   "cell_type": "code",
   "execution_count": 46,
   "metadata": {},
   "outputs": [],
   "source": [
    "from gophish import Gophish\n",
    "from gophish.models import Template\n",
    "from gophish.models import Page\n",
    "from gophish.models import SMTP\n",
    "from gophish.models import User, Group\n",
    "from gophish.models import Group, Page, Template, SMTP, Campaign\n",
    "from dotenv import load_dotenv\n",
    "import os"
   ]
  },
  {
   "cell_type": "code",
   "execution_count": 47,
   "metadata": {},
   "outputs": [],
   "source": [
    "# Load environment variables from .env file\n",
    "load_dotenv()\n",
    "\n",
    "# Get data from .env file\n",
    "api_key = os.getenv('API_KEY')\n",
    "smtp_password = os.getenv('SMTP_PASSWORD')\n",
    "smtp_email = os.getenv('STMP_EMAIL')"
   ]
  },
  {
   "cell_type": "code",
   "execution_count": 48,
   "metadata": {},
   "outputs": [
    {
     "name": "stdout",
     "output_type": "stream",
     "text": [
      "Successfully connected! Number of campaigns: 1\n"
     ]
    },
    {
     "name": "stderr",
     "output_type": "stream",
     "text": [
      "c:\\Users\\izama\\Documents\\GitHub\\GNT-Arai-7\\Proximus-Case-Team-4\\.venv\\Lib\\site-packages\\urllib3\\connectionpool.py:1097: InsecureRequestWarning: Unverified HTTPS request is being made to host 'localhost'. Adding certificate verification is strongly advised. See: https://urllib3.readthedocs.io/en/latest/advanced-usage.html#tls-warnings\n"
     ]
    }
   ],
   "source": [
    "api_url = 'https://localhost:3333'\n",
    "api = Gophish(api_key, host=api_url, verify=False)\n",
    "\n",
    "# Test - Fetching the list of campaigns\n",
    "try:\n",
    "    campaigns = api.campaigns.get()\n",
    "    print(f\"Successfully connected! Number of campaigns: {len(campaigns)}\")\n",
    "except Exception as e:\n",
    "    print(f\"Connection error: {e}\")"
   ]
  },
  {
   "cell_type": "markdown",
   "metadata": {},
   "source": [
    "Email template"
   ]
  },
  {
   "cell_type": "code",
   "execution_count": 36,
   "metadata": {},
   "outputs": [
    {
     "name": "stdout",
     "output_type": "stream",
     "text": [
      "Template created with ID: 2\n"
     ]
    },
    {
     "name": "stderr",
     "output_type": "stream",
     "text": [
      "c:\\Users\\izama\\Documents\\GitHub\\GNT-Arai-7\\Proximus-Case-Team-4\\.venv\\Lib\\site-packages\\urllib3\\connectionpool.py:1097: InsecureRequestWarning: Unverified HTTPS request is being made to host 'localhost'. Adding certificate verification is strongly advised. See: https://urllib3.readthedocs.io/en/latest/advanced-usage.html#tls-warnings\n"
     ]
    }
   ],
   "source": [
    "# Creating a Template object\n",
    "template = Template(\n",
    "    name=\"Test Template\",\n",
    "    subject=\"Important Update\",\n",
    "    text=\"This is a test email for the campaign.\",\n",
    "    html=\"<p>This is a <strong>test email</strong> for the campaign.</p>\"\n",
    ")\n",
    "\n",
    "# Send a request to the API to create a template\n",
    "created_template = api.templates.post(template)\n",
    "\n",
    "print(f\"Template created with ID: {created_template.id}\")\n"
   ]
  },
  {
   "cell_type": "markdown",
   "metadata": {},
   "source": [
    "Landing page"
   ]
  },
  {
   "cell_type": "code",
   "execution_count": 37,
   "metadata": {},
   "outputs": [
    {
     "name": "stdout",
     "output_type": "stream",
     "text": [
      "Landing page created with ID: 3\n"
     ]
    },
    {
     "name": "stderr",
     "output_type": "stream",
     "text": [
      "c:\\Users\\izama\\Documents\\GitHub\\GNT-Arai-7\\Proximus-Case-Team-4\\.venv\\Lib\\site-packages\\urllib3\\connectionpool.py:1097: InsecureRequestWarning: Unverified HTTPS request is being made to host 'localhost'. Adding certificate verification is strongly advised. See: https://urllib3.readthedocs.io/en/latest/advanced-usage.html#tls-warnings\n"
     ]
    }
   ],
   "source": [
    "# Create a new landing page with the desired HTML content\n",
    "page = Page(\n",
    "    name='Test Page',  # Name of the page\n",
    "    html=\"<html><body>Click <a href=\\\"{{.URL}}\\\">here</a></body></html>\"  # HTML content with a placeholder for the URL\n",
    ")\n",
    "\n",
    "# Sending the request to the API to create the landing page\n",
    "created_page = api.pages.post(page)\n",
    "\n",
    "# Printing the ID of the created landing page\n",
    "print(f\"Landing page created with ID: {created_page.id}\")\n"
   ]
  },
  {
   "cell_type": "markdown",
   "metadata": {},
   "source": [
    "Sending profile"
   ]
  },
  {
   "cell_type": "code",
   "execution_count": 38,
   "metadata": {},
   "outputs": [
    {
     "name": "stdout",
     "output_type": "stream",
     "text": [
      "Sending profile created with ID: 6\n"
     ]
    },
    {
     "name": "stderr",
     "output_type": "stream",
     "text": [
      "c:\\Users\\izama\\Documents\\GitHub\\GNT-Arai-7\\Proximus-Case-Team-4\\.venv\\Lib\\site-packages\\urllib3\\connectionpool.py:1097: InsecureRequestWarning: Unverified HTTPS request is being made to host 'localhost'. Adding certificate verification is strongly advised. See: https://urllib3.readthedocs.io/en/latest/advanced-usage.html#tls-warnings\n"
     ]
    }
   ],
   "source": [
    "# Create a new SMTP sending profile\n",
    "smtp = SMTP(name='Test SMTP')  # Create the SMTP profile with a name\n",
    "smtp.host = \"smtp.gmail.com:587\"  # Gmail SMTP server with port 587\n",
    "smtp.from_address = smtp_email  # Sender email address from .env file\n",
    "smtp.interface_type = \"SMTP\"  # Define interface type as SMTP\n",
    "smtp.username = smtp_email  # Set a user namefrom .env file\n",
    "smtp.password = smtp_password   # Password from .env file\n",
    "smtp.ignore_cert_errors = True  # Ignore certificate errors for testing\n",
    "\n",
    "\n",
    "# Sending the request to the API to create the sending profile\n",
    "created_smtp = api.smtp.post(smtp)\n",
    "\n",
    "# Printing the ID of the created sending profile\n",
    "print(f\"Sending profile created with ID: {created_smtp.id}\")"
   ]
  },
  {
   "cell_type": "markdown",
   "metadata": {},
   "source": [
    "Create New Group\n"
   ]
  },
  {
   "cell_type": "code",
   "execution_count": 39,
   "metadata": {},
   "outputs": [
    {
     "name": "stdout",
     "output_type": "stream",
     "text": [
      "Group created with ID: 2\n"
     ]
    },
    {
     "name": "stderr",
     "output_type": "stream",
     "text": [
      "c:\\Users\\izama\\Documents\\GitHub\\GNT-Arai-7\\Proximus-Case-Team-4\\.venv\\Lib\\site-packages\\urllib3\\connectionpool.py:1097: InsecureRequestWarning: Unverified HTTPS request is being made to host 'localhost'. Adding certificate verification is strongly advised. See: https://urllib3.readthedocs.io/en/latest/advanced-usage.html#tls-warnings\n"
     ]
    }
   ],
   "source": [
    "# Create a list of users (targets)\n",
    "targets = [\n",
    "    User(first_name='Izu', last_name='Mac', email='imb95@icloud.com')\n",
    "]\n",
    "\n",
    "# Create a group with a name and targets\n",
    "group = Group(name='Test Group', targets=targets)\n",
    "\n",
    "# Sending the request to the API to create the group\n",
    "created_group = api.groups.post(group)\n",
    "\n",
    "# Printing the ID of the created group\n",
    "print(f\"Group created with ID: {created_group.id}\")"
   ]
  },
  {
   "cell_type": "markdown",
   "metadata": {},
   "source": [
    "Create New Campaign\n"
   ]
  },
  {
   "cell_type": "code",
   "execution_count": 40,
   "metadata": {},
   "outputs": [
    {
     "name": "stdout",
     "output_type": "stream",
     "text": [
      "Campaign created with ID: 5\n"
     ]
    },
    {
     "name": "stderr",
     "output_type": "stream",
     "text": [
      "c:\\Users\\izama\\Documents\\GitHub\\GNT-Arai-7\\Proximus-Case-Team-4\\.venv\\Lib\\site-packages\\urllib3\\connectionpool.py:1097: InsecureRequestWarning: Unverified HTTPS request is being made to host 'localhost'. Adding certificate verification is strongly advised. See: https://urllib3.readthedocs.io/en/latest/advanced-usage.html#tls-warnings\n"
     ]
    }
   ],
   "source": [
    "# Create a list of groups (using the existing group)\n",
    "groups = [Group(name='Test Group')]  # Replace with the actual group name\n",
    "\n",
    "# Create an existing landing page (replace with the actual page name)\n",
    "page = Page(name='Test Page')\n",
    "\n",
    "# Create an existing template (replace with the actual template name)\n",
    "template = Template(name='Test Template')\n",
    "\n",
    "# Create an existing SMTP profile (replace with the actual SMTP profile name)\n",
    "smtp = SMTP(name='Test SMTP')\n",
    "\n",
    "# Define the URL of the phishing server\n",
    "url = 'http://phishing_server'  # Replace with your actual phishing server URL\n",
    "\n",
    "# Create the campaign with the above components\n",
    "campaign = Campaign(\n",
    "    name='Test Campaign',  # Name of the campaign\n",
    "    groups=groups,            # List of groups\n",
    "    page=page,                # Page object\n",
    "    template=template,        # Template object\n",
    "    smtp=smtp                 # SMTP profile object\n",
    ")\n",
    "\n",
    "# Sending the request to the API to create the campaign\n",
    "created_campaign = api.campaigns.post(campaign)\n",
    "\n",
    "# Printing the ID of the created campaign\n",
    "print(f\"Campaign created with ID: {created_campaign.id}\")"
   ]
  }
 ],
 "metadata": {
  "kernelspec": {
   "display_name": ".venv",
   "language": "python",
   "name": "python3"
  },
  "language_info": {
   "codemirror_mode": {
    "name": "ipython",
    "version": 3
   },
   "file_extension": ".py",
   "mimetype": "text/x-python",
   "name": "python",
   "nbconvert_exporter": "python",
   "pygments_lexer": "ipython3",
   "version": "3.12.6"
  }
 },
 "nbformat": 4,
 "nbformat_minor": 2
}
