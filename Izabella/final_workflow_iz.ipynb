{
 "cells": [
  {
   "cell_type": "code",
   "execution_count": 609,
   "metadata": {},
   "outputs": [
    {
     "name": "stdout",
     "output_type": "stream",
     "text": [
      "I am a large language model, trained by Google.\n",
      "\n"
     ]
    }
   ],
   "source": [
    "from google import genai\n",
    "from dotenv import load_dotenv\n",
    "import os\n",
    "from google.genai.types import GenerateContentConfig, Tool\n",
    "import json\n",
    "import re\n",
    "import random as rd\n",
    "\n",
    "# Load environment variables from the .env file\n",
    "load_dotenv()\n",
    "\n",
    "# Retrieve the API key from the .env file\n",
    "api_key = os.getenv('GEMINI_API_KEY')\n",
    "\n",
    "# Initialize the Google AI client\n",
    "client = genai.Client(api_key=api_key)\n",
    "\n",
    "# Generate content\n",
    "response = client.models.generate_content(\n",
    "    model='gemini-2.0-flash-exp', contents='What is your name?'\n",
    ")\n",
    "print(response.text)\n",
    "\n",
    "\n"
   ]
  },
  {
   "cell_type": "markdown",
   "metadata": {},
   "source": [
    "*Function to extract Json of LLm output and save it to a file*"
   ]
  },
  {
   "cell_type": "code",
   "execution_count": 610,
   "metadata": {},
   "outputs": [],
   "source": [
    "def save_json_from_string(input_string, output_filename):\n",
    "    \"\"\"\n",
    "    Extracts JSON content from a string and saves it to a JSON file with the specified name.\n",
    "\n",
    "    :param input_string: The input string containing JSON data within brackets.\n",
    "    :param output_filename: The name of the output JSON file (e.g., \"data.json\").\n",
    "    :return: True if the operation was successful, False otherwise.\n",
    "    \"\"\"\n",
    "    # Step 1: Extract the JSON content within the brackets\n",
    "    result = re.search(r'\\[.*\\]', input_string, re.DOTALL)\n",
    "\n",
    "    if result:\n",
    "        extracted_content = result.group(0)  # Get the matched content\n",
    "\n",
    "        try:\n",
    "            # Step 2: Parse the extracted content into a Python object (list/dict)\n",
    "            json_data = json.loads(extracted_content)\n",
    "\n",
    "            # Step 3: Write the JSON data to a file\n",
    "            with open(output_filename, \"w\", encoding=\"utf-8\") as json_file:\n",
    "                json.dump(json_data, json_file, indent=4)  # Save with pretty formatting\n",
    "\n",
    "            print(f\"JSON data has been successfully written to '{output_filename}'.\")\n",
    "            return True  # Operation was successful\n",
    "        except json.JSONDecodeError as e:\n",
    "            print(f\"Error parsing JSON: {e}\")\n",
    "        except Exception as e:\n",
    "            print(f\"An error occurred while writing the file: {e}\")\n",
    "    else:\n",
    "        print(\"No content found within brackets.\")\n",
    "\n",
    "    return False  # Operation failed"
   ]
  },
  {
   "cell_type": "code",
   "execution_count": 611,
   "metadata": {},
   "outputs": [],
   "source": [
    "MODEL = \"gemini-2.0-flash-exp\""
   ]
  },
  {
   "cell_type": "code",
   "execution_count": 612,
   "metadata": {},
   "outputs": [],
   "source": [
    "\n",
    "COMPANY = 'Proximus'"
   ]
  },
  {
   "cell_type": "code",
   "execution_count": 613,
   "metadata": {},
   "outputs": [],
   "source": [
    "safety_settings = [\n",
    "    {\"category\": \"HARM_CATEGORY_HARASSMENT\", \"threshold\": \"BLOCK_NONE\"},\n",
    "    {\"category\": \"HARM_CATEGORY_HATE_SPEECH\", \"threshold\": \"BLOCK_NONE\"},\n",
    "    {\"category\": \"HARM_CATEGORY_SEXUALLY_EXPLICIT\", \"threshold\": \"BLOCK_NONE\"},\n",
    "    {\"category\": \"HARM_CATEGORY_DANGEROUS_CONTENT\", \"threshold\": \"BLOCK_NONE\"},\n",
    "]"
   ]
  },
  {
   "cell_type": "markdown",
   "metadata": {},
   "source": [
    "**1. SETTING UP A RESEARCH ASSISTANT** (temperature = 0, tools = google search)"
   ]
  },
  {
   "cell_type": "code",
   "execution_count": 614,
   "metadata": {},
   "outputs": [],
   "source": [
    "system_instruction = \"\"\"You are an analyst that conducts company research.\n",
    "You are given a company name, and you will work on a company report. You have access\n",
    "to Google Search to look up company news, updates, metrics, public records and linkedin pages to write research reports.\n",
    "\n",
    "When given a company name, identify key aspects to research, look up that information\n",
    "and then write an elaborate company report. \n",
    "\n",
    "Focus on Belgian companies.\n",
    "\n",
    "Thoroughly plan your work in detail and steps, but avoid discussing it. Do not add any additional comments after finishing the report.\"\"\""
   ]
  },
  {
   "cell_type": "code",
   "execution_count": 615,
   "metadata": {},
   "outputs": [],
   "source": [
    "config = GenerateContentConfig(system_instruction=system_instruction, tools=[Tool(google_search={})], temperature=0,maxOutputTokens=8000, top_p=0.9, top_k=5, safety_settings=safety_settings)"
   ]
  },
  {
   "cell_type": "markdown",
   "metadata": {},
   "source": [
    "**Proximus News report**"
   ]
  },
  {
   "cell_type": "code",
   "execution_count": 616,
   "metadata": {},
   "outputs": [],
   "source": [
    "contents = f\"\"\"\n",
    "Write a report about {COMPANY}.\n",
    "\n",
    "The report should contain an extensive overview of the most important news facts of the last 2 weeks. \n",
    "\n",
    "The report should be written in this style example:\n",
    "\n",
    "Use this JSON schema:\n",
    "\n",
    "Proximus_news = {{'subject':str, 'overview':str, 'source':str}}\n",
    "Return: list[Proximus_news]\n",
    "\"\"\"\n",
    "\n",
    "response = client.models.generate_content(\n",
    "    model=MODEL, config=config, contents=contents)\n",
    "\n"
   ]
  },
  {
   "cell_type": "code",
   "execution_count": 617,
   "metadata": {},
   "outputs": [
    {
     "name": "stdout",
     "output_type": "stream",
     "text": [
      "JSON data has been successfully written to 'proximus_news.json'.\n"
     ]
    },
    {
     "data": {
      "text/plain": [
       "True"
      ]
     },
     "execution_count": 617,
     "metadata": {},
     "output_type": "execute_result"
    }
   ],
   "source": [
    "save_json_from_string(response.text, 'proximus_news.json')"
   ]
  },
  {
   "cell_type": "markdown",
   "metadata": {},
   "source": [
    "**Proximus Key Employees and Roles**"
   ]
  },
  {
   "cell_type": "code",
   "execution_count": 618,
   "metadata": {},
   "outputs": [],
   "source": [
    "contents = f\"\"\"\n",
    "Write a report about {COMPANY}\n",
    "\n",
    "The report should only contain a comprehensive summary of the employees in the company. \n",
    "\n",
    "The report should contain, the complete first name and family name, an email address with this structure \"first name.family name@{COMPANY}.be\" (put it all in lower case), the role that they have within the company and the department that they make part of.\n",
    "\n",
    "Do not include abbreviations in names, and exclude employees whose full first and last names cannot be found.\n",
    "\n",
    "Give me as much grounded names that you can find with your research and put them all in the report.\n",
    "\n",
    "The report should be written in this style example:\n",
    "\n",
    "Use this JSON schema:\n",
    "\n",
    "Proximus_employees = {{'first_name':str, 'family_name':str, 'role':str, 'department':str, 'email_address':str}}\n",
    "Return: list[Proximus_employees]\n",
    "\"\"\"\n",
    "\n",
    "response = client.models.generate_content(\n",
    "    model=MODEL, config=config, contents=contents)\n"
   ]
  },
  {
   "cell_type": "code",
   "execution_count": 619,
   "metadata": {},
   "outputs": [
    {
     "name": "stdout",
     "output_type": "stream",
     "text": [
      "JSON data has been successfully written to 'proximus_employees.json'.\n"
     ]
    },
    {
     "data": {
      "text/plain": [
       "True"
      ]
     },
     "execution_count": 619,
     "metadata": {},
     "output_type": "execute_result"
    }
   ],
   "source": [
    "save_json_from_string(response.text, 'proximus_employees.json')"
   ]
  },
  {
   "cell_type": "markdown",
   "metadata": {},
   "source": [
    "**Proximus Departments**"
   ]
  },
  {
   "cell_type": "code",
   "execution_count": 620,
   "metadata": {},
   "outputs": [],
   "source": [
    "contents = f\"\"\"\n",
    "\n",
    "Write a report about {COMPANY}\n",
    "\n",
    "The report should exclusively provide a detailed summary of the company's departments and their respective subdivisions, if any.\n",
    "\n",
    "Include in the report the full address where the headquarter of the provider is located, the main phone number and vat number.\n",
    "\n",
    "Do not include abbreviations in the report.\n",
    "\n",
    "Provide a detailed list, specifying only verified and public information. Do not include speculative or incomplete details.\n",
    "\n",
    "The report should be written in this style example:\n",
    "\n",
    "Use this JSON schema:\n",
    "\n",
    "Proximus_departments = {{'department':str, 'subdivision':list[str], 'address':str, 'phone':str, 'vat':str}}\n",
    "Return: list[Proximus_departments]\n",
    "\"\"\"\n",
    "\n",
    "response = client.models.generate_content(\n",
    "    model=MODEL, config=config, contents=contents)\n"
   ]
  },
  {
   "cell_type": "code",
   "execution_count": 621,
   "metadata": {},
   "outputs": [
    {
     "name": "stdout",
     "output_type": "stream",
     "text": [
      "JSON data has been successfully written to 'proximus_departments.json'.\n"
     ]
    },
    {
     "data": {
      "text/plain": [
       "True"
      ]
     },
     "execution_count": 621,
     "metadata": {},
     "output_type": "execute_result"
    }
   ],
   "source": [
    "save_json_from_string(response.text, 'proximus_departments.json')"
   ]
  },
  {
   "cell_type": "markdown",
   "metadata": {},
   "source": [
    "**Proximus Colors**"
   ]
  },
  {
   "cell_type": "code",
   "execution_count": 622,
   "metadata": {},
   "outputs": [],
   "source": [
    "contents = f\"\"\"\n",
    "\n",
    "Write a report about {COMPANY}\n",
    "\n",
    "The report should exclusively provide the main colors of Company's branding, including any official color codes such as HEX or RGB. Focus on the primary colors used in the company's logo and website.\n",
    "\n",
    "Do not include speculative colors and focus only on the main ones.\n",
    "\n",
    "The report should be written in this style example:\n",
    "\n",
    "Use this JSON schema:\n",
    "\n",
    "company_colors = {{'color_name_1':str, 'hex_code_1':str, 'rgb_code_1':list[int]}},{{'color_name_2':str,'hex_code_2':str,'rgb_code_2':list[int]}}\n",
    "Return: list[company_colors]\n",
    "\n",
    "Thoroughly plan your work in detail and steps, but avoid discussing it. Do not add any additional comments after finishing the report.\n",
    "\"\"\"\n",
    "\n",
    "\n",
    "response = client.models.generate_content(\n",
    "    model=MODEL, config=config, contents=contents)\n",
    "\n"
   ]
  },
  {
   "cell_type": "code",
   "execution_count": 623,
   "metadata": {},
   "outputs": [
    {
     "name": "stdout",
     "output_type": "stream",
     "text": [
      "JSON data has been successfully written to 'proximus_colors.json'.\n"
     ]
    },
    {
     "data": {
      "text/plain": [
       "True"
      ]
     },
     "execution_count": 623,
     "metadata": {},
     "output_type": "execute_result"
    }
   ],
   "source": [
    "save_json_from_string(response.text, 'proximus_colors.json')"
   ]
  },
  {
   "cell_type": "markdown",
   "metadata": {},
   "source": [
    "**Proximus Service providers**"
   ]
  },
  {
   "cell_type": "markdown",
   "metadata": {},
   "source": [
    "Picking a particular type of service provider"
   ]
  },
  {
   "cell_type": "code",
   "execution_count": 624,
   "metadata": {},
   "outputs": [],
   "source": [
    "type_service = [\n",
    "    \"Infrastructure and maintenance\",\n",
    "    \"Technology and equipment supply\",\n",
    "    \"Network and connectivity services\",\n",
    "    \"Customer support\",\n",
    "    \"Billing and payments\",\n",
    "    \"Cloud and data hosting\",\n",
    "    \"Marketing and advertising\",\n",
    "    \"Consulting\",\n",
    "    \"Research and innovation\"\n",
    "]"
   ]
  },
  {
   "cell_type": "code",
   "execution_count": 625,
   "metadata": {},
   "outputs": [
    {
     "name": "stdout",
     "output_type": "stream",
     "text": [
      "Consulting\n"
     ]
    }
   ],
   "source": [
    "random_service=rd.choice(type_service)\n",
    "print(random_service)"
   ]
  },
  {
   "cell_type": "code",
   "execution_count": 626,
   "metadata": {},
   "outputs": [],
   "source": [
    "contents = f\"\"\"\n",
    "\n",
    "Write a report about {COMPANY}\n",
    "\n",
    "List the main Belgian service providers of the company. Include any known suppliers, contractors, technology service providers, or any other third-party companies that the company relies on. \n",
    "Provide the names of the service providers, type and description of the services they provide to the company. Also include the providers homepage in the report, if you can't find it, don not include the provider in the report. \n",
    "\n",
    "The service provider needs to be active in delivering {random_service} to {COMPANY}\n",
    "\n",
    "The report should be written in this style example:\n",
    "\n",
    "Use this JSON schema:\n",
    "\n",
    "company_service = {{\"provider\":str,\"service\":str,\"type\":str,\"provider_homepage\":str]}}\n",
    "Return: list[company_service]\n",
    "\"\"\"\n",
    "\n",
    "response = client.models.generate_content(\n",
    "    model=MODEL, config=config, contents=contents)\n",
    "\n"
   ]
  },
  {
   "cell_type": "code",
   "execution_count": 627,
   "metadata": {},
   "outputs": [
    {
     "name": "stdout",
     "output_type": "stream",
     "text": [
      "JSON data has been successfully written to 'proximus_providers.json'.\n"
     ]
    },
    {
     "data": {
      "text/plain": [
       "True"
      ]
     },
     "execution_count": 627,
     "metadata": {},
     "output_type": "execute_result"
    }
   ],
   "source": [
    "save_json_from_string(response.text, 'proximus_providers.json')"
   ]
  },
  {
   "cell_type": "markdown",
   "metadata": {},
   "source": [
    "**Merge the proximus data**"
   ]
  },
  {
   "cell_type": "code",
   "execution_count": 628,
   "metadata": {},
   "outputs": [
    {
     "name": "stdout",
     "output_type": "stream",
     "text": [
      "Data successfully merged into blended_data_proximus.json\n"
     ]
    }
   ],
   "source": [
    "\n",
    "# File paths for input and output\n",
    "input_files = {\n",
    "    \"colors\": \"proximus_colors.json\",\n",
    "    \"departments\": \"proximus_departments.json\",\n",
    "    \"employees\": \"proximus_employees.json\",\n",
    "    \"news\": \"proximus_news.json\",\n",
    "    \"providers\": \"proximus_providers.json\"\n",
    "}\n",
    "output_file = \"blended_data_proximus.json\"\n",
    "\n",
    "# Combine all data into one dictionary\n",
    "blended_data = {}\n",
    "\n",
    "for key, file_path in input_files.items():\n",
    "    with open(file_path, 'r') as f:\n",
    "        blended_data[key] = json.load(f)\n",
    "\n",
    "# Write the combined data to a new JSON file\n",
    "with open(output_file, 'w') as f:\n",
    "    json.dump(blended_data, f, indent=4)\n",
    "\n",
    "print(f\"Data successfully merged into {output_file}\")"
   ]
  },
  {
   "cell_type": "markdown",
   "metadata": {},
   "source": [
    "**Providers info** (Proceed with one Provider)"
   ]
  },
  {
   "cell_type": "code",
   "execution_count": 629,
   "metadata": {},
   "outputs": [],
   "source": [
    "# Load JSON data from the file\n",
    "with open(\"proximus_providers.json\", \"r\") as file:\n",
    "    providers = json.load(file)"
   ]
  },
  {
   "cell_type": "code",
   "execution_count": 630,
   "metadata": {},
   "outputs": [],
   "source": [
    "# Function to pick a random provider\n",
    "def pick_random_provider(providers):\n",
    "    if not providers:\n",
    "        return None  # Handle the case where the list is empty\n",
    "    return rd.choice(providers)"
   ]
  },
  {
   "cell_type": "code",
   "execution_count": 631,
   "metadata": {},
   "outputs": [
    {
     "name": "stdout",
     "output_type": "stream",
     "text": [
      "{'provider': 'Accenture', 'service': 'Consulting on Next Generation Digital TV Platform', 'type': 'Technology Consulting', 'provider_homepage': 'accenture.com'}\n"
     ]
    }
   ],
   "source": [
    "provider = pick_random_provider(providers)\n",
    "\n",
    "print(provider)"
   ]
  },
  {
   "cell_type": "code",
   "execution_count": 632,
   "metadata": {},
   "outputs": [
    {
     "name": "stdout",
     "output_type": "stream",
     "text": [
      "Data saved to provider_general_data.json\n"
     ]
    }
   ],
   "source": [
    "provider = [provider]\n",
    "file_path = 'provider_general_data.json'\n",
    "\n",
    "# Write the data to the JSON file\n",
    "with open(file_path, 'w') as json_file:\n",
    "    json.dump(provider, json_file, indent=4)\n",
    "\n",
    "print(f'Data saved to {file_path}')"
   ]
  },
  {
   "cell_type": "markdown",
   "metadata": {},
   "source": [
    "**Provider Key Employees and Roles**"
   ]
  },
  {
   "cell_type": "code",
   "execution_count": 633,
   "metadata": {},
   "outputs": [],
   "source": [
    "contents = f\"\"\"\n",
    "    Write a report about company {provider}. This company is a provider of {COMPANY}\n",
    "\n",
    "    The report should only contain a comprehensive summary of the employees in the company.\n",
    "\n",
    "    The report should contain, the complete first name and family name, an email address with this structure \"first name.family name@{provider}.be\" (put it all in lower case), the role that they have within the company and the department that they make part of.\n",
    "\n",
    "    Do not include abbreviations in names, and exclude employees whose full first and last names cannot be found. Make sure the first and the last name contains more then 2 characters. Do not include employees of {COMPANY} in the report.\n",
    "\n",
    "    Give me as much grounded names that you can find with your research and put them all in the report.\n",
    "\n",
    "    The report should be written in this style example:\n",
    "\n",
    "    Use this JSON schema:\n",
    "\n",
    "    Employees = {{'provider': str, 'first_name': str, 'family_name': str, 'role': str, 'department': str, 'email_address':str}}\n",
    "    Return: list[Employees]\n",
    "    \"\"\"\n",
    "    \n",
    "response = client.models.generate_content(\n",
    "    model=MODEL, config=config, contents=contents)\n",
    "\n",
    "\n",
    "    "
   ]
  },
  {
   "cell_type": "code",
   "execution_count": 634,
   "metadata": {},
   "outputs": [
    {
     "name": "stdout",
     "output_type": "stream",
     "text": [
      "JSON data has been successfully written to 'provider_employees.json'.\n"
     ]
    },
    {
     "data": {
      "text/plain": [
       "True"
      ]
     },
     "execution_count": 634,
     "metadata": {},
     "output_type": "execute_result"
    }
   ],
   "source": [
    "save_json_from_string(response.text, 'provider_employees.json')"
   ]
  },
  {
   "cell_type": "markdown",
   "metadata": {},
   "source": [
    "**Provider Colors**"
   ]
  },
  {
   "cell_type": "code",
   "execution_count": 635,
   "metadata": {},
   "outputs": [],
   "source": [
    "\n",
    "contents = f\"\"\"\n",
    "\n",
    "    Write a report about company {provider}. This company is a provider of {COMPANY}\n",
    "\n",
    "    The report should exclusively provide the main colors of Company's branding, including any official color codes such as HEX or RGB. Focus on the primary colors used in the company's logo and website.\n",
    "\n",
    "    Do not include speculative colors and focus only on the main ones.\n",
    "\n",
    "    The report should be written in this style example:\n",
    "\n",
    "    Use this JSON schema:\n",
    "\n",
    "    company_colors = {{'provider':str,'color_name_1':str, 'hex_code_1':str, 'rgb_code_1':list[int]}},{{'color_name_2':str,'hex_code_2':str,'rgb_code_2':list[int]}}\n",
    "    Return: list[company_colors]\n",
    "\n",
    "    Thoroughly plan your work in detail and steps, but avoid discussing it. Do not add any additional comments after finishing the report.\n",
    "    \"\"\"\n",
    "\n",
    "\n",
    "response = client.models.generate_content(\n",
    "        model=MODEL, config=config, contents=contents)\n",
    "\n"
   ]
  },
  {
   "cell_type": "code",
   "execution_count": 636,
   "metadata": {},
   "outputs": [
    {
     "name": "stdout",
     "output_type": "stream",
     "text": [
      "JSON data has been successfully written to 'provider_color.json'.\n"
     ]
    },
    {
     "data": {
      "text/plain": [
       "True"
      ]
     },
     "execution_count": 636,
     "metadata": {},
     "output_type": "execute_result"
    }
   ],
   "source": [
    "save_json_from_string(response.text, 'provider_color.json')"
   ]
  },
  {
   "cell_type": "markdown",
   "metadata": {},
   "source": [
    "**Provider Departments**"
   ]
  },
  {
   "cell_type": "code",
   "execution_count": 637,
   "metadata": {},
   "outputs": [],
   "source": [
    "contents = f\"\"\"\n",
    "\n",
    "Write a report about company {provider}. This company is a provider of {COMPANY}\n",
    "\n",
    "The report should exclusively provide a detailed summary of the company's departments and their respective subdivisions, if any.\n",
    "\n",
    "Include in the report the full address where the headquarter of the provider is located, the main phone number and vat number.\n",
    "\n",
    "Do not include abbreviations in the report.\n",
    "\n",
    "Provide a detailed list, specifying only verified and public information. Do not include speculative or incomplete details.\n",
    "\n",
    "The report should be written in this style example:\n",
    "\n",
    "Use this JSON schema:\n",
    "\n",
    "Provider_departments = {{'provider':str,'department':str, 'subdivision':list[str],'address':str, 'phone':str, 'vat':str}}\n",
    "Return: list[Provider_departments]\n",
    "\"\"\"\n",
    "\n",
    "response = client.models.generate_content(\n",
    "    model=MODEL, config=config, contents=contents)\n",
    "\n"
   ]
  },
  {
   "cell_type": "code",
   "execution_count": 638,
   "metadata": {},
   "outputs": [
    {
     "name": "stdout",
     "output_type": "stream",
     "text": [
      "JSON data has been successfully written to 'provider_departments.json'.\n"
     ]
    },
    {
     "data": {
      "text/plain": [
       "True"
      ]
     },
     "execution_count": 638,
     "metadata": {},
     "output_type": "execute_result"
    }
   ],
   "source": [
    "save_json_from_string(response.text, 'provider_departments.json')"
   ]
  },
  {
   "cell_type": "markdown",
   "metadata": {},
   "source": [
    "**Blend Data from Json files Providers**"
   ]
  },
  {
   "cell_type": "code",
   "execution_count": 639,
   "metadata": {},
   "outputs": [
    {
     "name": "stdout",
     "output_type": "stream",
     "text": [
      "Current working directory: c:\\Users\\mgabi\\Desktop\\becode\\becode_projects\\Proximus-Case-Team-4\\Moustafa\n",
      "Data loaded from provider_general_data.json (Type: <class 'list'>): [{'provider': 'Accenture', 'service': 'Consulting on Next Generation Digital TV Platform', 'type': 'Technology Consulting', 'provider_homepage': 'accenture.com'}]\n",
      "Data loaded from provider_employees.json (Type: <class 'list'>): [{'provider': 'Accenture', 'first_name': 'Kristof', 'family_name': 'Lambert', 'role': 'Country Managing Director', 'department': 'Financial Services', 'email_address': 'kristof.lambert@accenture.be'}, {'provider': 'Accenture', 'first_name': 'Bart', 'family_name': 'De Ridder', 'role': 'Intelligent Platform Services Lead', 'department': 'France and the Benelux', 'email_address': 'bart.deridder@accenture.be'}, {'provider': 'Accenture', 'first_name': 'Jean-Marc', 'family_name': 'Ollagnier', 'role': 'Chairman', 'department': 'EMEA', 'email_address': 'jean-marc.ollagnier@accenture.be'}, {'provider': 'Accenture', 'first_name': 'Bhaskar', 'family_name': 'Ghosh', 'role': 'Chief Strategy And Innovation', 'department': 'Strategy and Innovation', 'email_address': 'bhaskar.ghosh@accenture.be'}, {'provider': 'Accenture', 'first_name': 'Julie', 'family_name': 'Sweet', 'role': 'CEO', 'department': 'Executive Leadership', 'email_address': 'julie.sweet@accenture.be'}, {'provider': 'Accenture', 'first_name': 'Jack', 'family_name': 'Azagury', 'role': 'Group Chief Executive', 'department': 'Strategy', 'email_address': 'jack.azagury@accenture.be'}, {'provider': 'Accenture', 'first_name': 'Joel', 'family_name': 'Unruch', 'role': 'General Counsel, Secretary & C', 'department': 'Legal', 'email_address': 'joel.unruch@accenture.be'}, {'provider': 'Accenture', 'first_name': 'John', 'family_name': 'Walsh', 'role': 'COO', 'department': 'Operations', 'email_address': 'john.walsh@accenture.be'}, {'provider': 'Accenture', 'first_name': 'Leonardo', 'family_name': 'Framil', 'role': 'CEO – Growth Markets', 'department': 'Growth Markets', 'email_address': 'leonardo.framil@accenture.be'}, {'provider': 'Accenture', 'first_name': 'Paul', 'family_name': 'Daugherty', 'role': 'Senior Technology Advisor', 'department': 'Technology', 'email_address': 'paul.daugherty@accenture.be'}]\n",
      "Data loaded from provider_color.json (Type: <class 'list'>): [{'provider': 'Accenture', 'color_name_1': 'Purple', 'hex_code_1': '#a100ff', 'rgb_code_1': [161, 0, 255]}, {'color_name_2': 'Black', 'hex_code_2': '#000000', 'rgb_code_2': [0, 0, 0]}]\n",
      "Data loaded from provider_departments.json (Type: <class 'list'>): [{'provider': 'Accenture', 'department': 'Strategy', 'subdivision': ['Corporate Finance', 'Mergers & Acquisitions', 'Operating Model Strategy', 'Sales & Marketing Strategy', 'Strategic Cost Reduction', 'Strategic Planning & Growth'], 'address': 'Rue Picard 11/100, 1000 Bruxelles', 'phone': '+3222267211', 'vat': 'BE0438675669'}, {'provider': 'Accenture', 'department': 'Finance & Enterprise Performance', 'subdivision': ['Finance Operations', 'Enterprise Performance Management'], 'address': 'Rue Picard 11/100, 1000 Bruxelles', 'phone': '+3222267211', 'vat': 'BE0438675669'}, {'provider': 'Accenture', 'department': 'Talent & Organization', 'subdivision': [], 'address': 'Rue Picard 11/100, 1000 Bruxelles', 'phone': '+3222267211', 'vat': 'BE0438675669'}, {'provider': 'Accenture', 'department': 'Capabilities', 'subdivision': ['Cloud', 'Cybersecurity', 'Data and Artificial Intelligence', 'Digital Engineering and Manufacturing', 'Emerging Technology', 'Ecosystem Partners', 'Finance and Risk Management', 'Infrastructure and Capital Projects', 'Learning', 'Marketing and Experience', 'Metaverse', 'Sales and Commerce', 'Strategic Managed Services', 'Strategy', 'Supply Chain', 'Sustainability', 'Talent and Organization', 'Technology Transformation'], 'address': 'Rue Picard 11/100, 1000 Bruxelles', 'phone': '+3222267211', 'vat': 'BE0438675669'}]\n",
      "Blended Data: {\n",
      "    \"Accenture\": {\n",
      "        \"general\": {\n",
      "            \"provider\": \"Accenture\",\n",
      "            \"service\": \"Consulting on Next Generation Digital TV Platform\",\n",
      "            \"type\": \"Technology Consulting\",\n",
      "            \"provider_homepage\": \"accenture.com\"\n",
      "        },\n",
      "        \"employee\": [\n",
      "            {\n",
      "                \"provider\": \"Accenture\",\n",
      "                \"first_name\": \"Kristof\",\n",
      "                \"family_name\": \"Lambert\",\n",
      "                \"role\": \"Country Managing Director\",\n",
      "                \"department\": \"Financial Services\",\n",
      "                \"email_address\": \"kristof.lambert@accenture.be\"\n",
      "            },\n",
      "            {\n",
      "                \"provider\": \"Accenture\",\n",
      "                \"first_name\": \"Bart\",\n",
      "                \"family_name\": \"De Ridder\",\n",
      "                \"role\": \"Intelligent Platform Services Lead\",\n",
      "                \"department\": \"France and the Benelux\",\n",
      "                \"email_address\": \"bart.deridder@accenture.be\"\n",
      "            },\n",
      "            {\n",
      "                \"provider\": \"Accenture\",\n",
      "                \"first_name\": \"Jean-Marc\",\n",
      "                \"family_name\": \"Ollagnier\",\n",
      "                \"role\": \"Chairman\",\n",
      "                \"department\": \"EMEA\",\n",
      "                \"email_address\": \"jean-marc.ollagnier@accenture.be\"\n",
      "            },\n",
      "            {\n",
      "                \"provider\": \"Accenture\",\n",
      "                \"first_name\": \"Bhaskar\",\n",
      "                \"family_name\": \"Ghosh\",\n",
      "                \"role\": \"Chief Strategy And Innovation\",\n",
      "                \"department\": \"Strategy and Innovation\",\n",
      "                \"email_address\": \"bhaskar.ghosh@accenture.be\"\n",
      "            },\n",
      "            {\n",
      "                \"provider\": \"Accenture\",\n",
      "                \"first_name\": \"Julie\",\n",
      "                \"family_name\": \"Sweet\",\n",
      "                \"role\": \"CEO\",\n",
      "                \"department\": \"Executive Leadership\",\n",
      "                \"email_address\": \"julie.sweet@accenture.be\"\n",
      "            },\n",
      "            {\n",
      "                \"provider\": \"Accenture\",\n",
      "                \"first_name\": \"Jack\",\n",
      "                \"family_name\": \"Azagury\",\n",
      "                \"role\": \"Group Chief Executive\",\n",
      "                \"department\": \"Strategy\",\n",
      "                \"email_address\": \"jack.azagury@accenture.be\"\n",
      "            },\n",
      "            {\n",
      "                \"provider\": \"Accenture\",\n",
      "                \"first_name\": \"Joel\",\n",
      "                \"family_name\": \"Unruch\",\n",
      "                \"role\": \"General Counsel, Secretary & C\",\n",
      "                \"department\": \"Legal\",\n",
      "                \"email_address\": \"joel.unruch@accenture.be\"\n",
      "            },\n",
      "            {\n",
      "                \"provider\": \"Accenture\",\n",
      "                \"first_name\": \"John\",\n",
      "                \"family_name\": \"Walsh\",\n",
      "                \"role\": \"COO\",\n",
      "                \"department\": \"Operations\",\n",
      "                \"email_address\": \"john.walsh@accenture.be\"\n",
      "            },\n",
      "            {\n",
      "                \"provider\": \"Accenture\",\n",
      "                \"first_name\": \"Leonardo\",\n",
      "                \"family_name\": \"Framil\",\n",
      "                \"role\": \"CEO \\u2013 Growth Markets\",\n",
      "                \"department\": \"Growth Markets\",\n",
      "                \"email_address\": \"leonardo.framil@accenture.be\"\n",
      "            },\n",
      "            {\n",
      "                \"provider\": \"Accenture\",\n",
      "                \"first_name\": \"Paul\",\n",
      "                \"family_name\": \"Daugherty\",\n",
      "                \"role\": \"Senior Technology Advisor\",\n",
      "                \"department\": \"Technology\",\n",
      "                \"email_address\": \"paul.daugherty@accenture.be\"\n",
      "            }\n",
      "        ],\n",
      "        \"color\": {\n",
      "            \"provider\": \"Accenture\",\n",
      "            \"color_name_1\": \"Purple\",\n",
      "            \"hex_code_1\": \"#a100ff\",\n",
      "            \"rgb_code_1\": [\n",
      "                161,\n",
      "                0,\n",
      "                255\n",
      "            ]\n",
      "        },\n",
      "        \"departments\": [\n",
      "            {\n",
      "                \"provider\": \"Accenture\",\n",
      "                \"department\": \"Strategy\",\n",
      "                \"subdivision\": [\n",
      "                    \"Corporate Finance\",\n",
      "                    \"Mergers & Acquisitions\",\n",
      "                    \"Operating Model Strategy\",\n",
      "                    \"Sales & Marketing Strategy\",\n",
      "                    \"Strategic Cost Reduction\",\n",
      "                    \"Strategic Planning & Growth\"\n",
      "                ],\n",
      "                \"address\": \"Rue Picard 11/100, 1000 Bruxelles\",\n",
      "                \"phone\": \"+3222267211\",\n",
      "                \"vat\": \"BE0438675669\"\n",
      "            },\n",
      "            {\n",
      "                \"provider\": \"Accenture\",\n",
      "                \"department\": \"Finance & Enterprise Performance\",\n",
      "                \"subdivision\": [\n",
      "                    \"Finance Operations\",\n",
      "                    \"Enterprise Performance Management\"\n",
      "                ],\n",
      "                \"address\": \"Rue Picard 11/100, 1000 Bruxelles\",\n",
      "                \"phone\": \"+3222267211\",\n",
      "                \"vat\": \"BE0438675669\"\n",
      "            },\n",
      "            {\n",
      "                \"provider\": \"Accenture\",\n",
      "                \"department\": \"Talent & Organization\",\n",
      "                \"subdivision\": [],\n",
      "                \"address\": \"Rue Picard 11/100, 1000 Bruxelles\",\n",
      "                \"phone\": \"+3222267211\",\n",
      "                \"vat\": \"BE0438675669\"\n",
      "            },\n",
      "            {\n",
      "                \"provider\": \"Accenture\",\n",
      "                \"department\": \"Capabilities\",\n",
      "                \"subdivision\": [\n",
      "                    \"Cloud\",\n",
      "                    \"Cybersecurity\",\n",
      "                    \"Data and Artificial Intelligence\",\n",
      "                    \"Digital Engineering and Manufacturing\",\n",
      "                    \"Emerging Technology\",\n",
      "                    \"Ecosystem Partners\",\n",
      "                    \"Finance and Risk Management\",\n",
      "                    \"Infrastructure and Capital Projects\",\n",
      "                    \"Learning\",\n",
      "                    \"Marketing and Experience\",\n",
      "                    \"Metaverse\",\n",
      "                    \"Sales and Commerce\",\n",
      "                    \"Strategic Managed Services\",\n",
      "                    \"Strategy\",\n",
      "                    \"Supply Chain\",\n",
      "                    \"Sustainability\",\n",
      "                    \"Talent and Organization\",\n",
      "                    \"Technology Transformation\"\n",
      "                ],\n",
      "                \"address\": \"Rue Picard 11/100, 1000 Bruxelles\",\n",
      "                \"phone\": \"+3222267211\",\n",
      "                \"vat\": \"BE0438675669\"\n",
      "            }\n",
      "        ]\n",
      "    }\n",
      "}\n",
      "Blended data has been saved to 'blended_data_providers.json'\n"
     ]
    }
   ],
   "source": [
    "# Function to read JSON data from a file and debug if necessary\n",
    "def read_json_file(file_path):\n",
    "    with open(file_path, 'r') as file:\n",
    "        try:\n",
    "            data = json.load(file)\n",
    "            # Debugging: Print the entire content of the file to inspect the structure\n",
    "            print(f\"Data loaded from {file_path} (Type: {type(data)}): {data}\")\n",
    "            if not isinstance(data, list):\n",
    "                raise ValueError(f\"Data in {file_path} is not a list as expected.\")\n",
    "            return data\n",
    "        except json.JSONDecodeError:\n",
    "            print(f\"Error decoding JSON from {file_path}\")\n",
    "            return []  # Return an empty list if the JSON is malformed\n",
    "\n",
    "# Function to blend data\n",
    "def blend_data_from_files(general_file, employee_file, color_file, department_file):\n",
    "    # Read data from files\n",
    "    general_data = read_json_file(general_file)\n",
    "    employee_data = read_json_file(employee_file)\n",
    "    color_data = read_json_file(color_file)\n",
    "    department_data = read_json_file(department_file)\n",
    "    \n",
    "    # Merge data\n",
    "    merged_data = {}\n",
    "\n",
    "    # Add general data\n",
    "    for entry in general_data:\n",
    "        try:\n",
    "            provider = entry[\"provider\"]\n",
    "            merged_data[provider] = {\"general\": entry}\n",
    "        except KeyError:\n",
    "            print(\"KeyError: Missing 'provider' in general data entry.\")\n",
    "            continue\n",
    "\n",
    "    # Add employee data\n",
    "    for entry in employee_data:\n",
    "        try:\n",
    "            provider = entry[\"provider\"]\n",
    "            if provider in merged_data:\n",
    "                if \"employee\" not in merged_data[provider]:\n",
    "                    merged_data[provider][\"employee\"] = []\n",
    "                merged_data[provider][\"employee\"].append(entry)\n",
    "        except KeyError:\n",
    "            print(\"KeyError: Missing 'provider' in employee data entry.\")\n",
    "            continue\n",
    "\n",
    "    # Add color data\n",
    "    for entry in color_data:\n",
    "        try:\n",
    "            provider = entry.get(\"provider\", \"Unknown\")\n",
    "            if provider in merged_data:\n",
    "                if \"color\" not in merged_data[provider]:\n",
    "                    merged_data[provider][\"color\"] = {}\n",
    "                merged_data[provider][\"color\"].update(entry)\n",
    "        except KeyError:\n",
    "            print(\"KeyError: Missing 'provider' in color data entry.\")\n",
    "            continue\n",
    "\n",
    "    # Add department data\n",
    "    for entry in department_data:\n",
    "        try:\n",
    "            provider = entry[\"provider\"]\n",
    "            if provider in merged_data:\n",
    "                if \"departments\" not in merged_data[provider]:\n",
    "                    merged_data[provider][\"departments\"] = []\n",
    "                merged_data[provider][\"departments\"].append(entry)\n",
    "        except KeyError:\n",
    "            print(\"KeyError: Missing 'provider' in department data entry.\")\n",
    "            continue\n",
    "\n",
    "    return merged_data\n",
    "\n",
    "# File paths\n",
    "general_file = 'provider_general_data.json'\n",
    "employee_file = 'provider_employees.json'\n",
    "color_file = 'provider_color.json'\n",
    "department_file = 'provider_departments.json'\n",
    "\n",
    "# Debugging: Print current working directory\n",
    "print(\"Current working directory:\", os.getcwd())\n",
    "\n",
    "# Blend the data\n",
    "blended_result = blend_data_from_files(general_file, employee_file, color_file, department_file)\n",
    "\n",
    "# Debugging: Print the blended data to verify\n",
    "print(\"Blended Data:\", json.dumps(blended_result, indent=4))\n",
    "\n",
    "# Write the result to a new JSON file and capture any potential errors\n",
    "try:\n",
    "    with open('blended_data_providers.json', 'w') as output_file:\n",
    "        json.dump(blended_result, output_file, indent=4)\n",
    "    print(\"Blended data has been saved to 'blended_data_providers.json'\")\n",
    "except Exception as e:\n",
    "    print(f\"Error saving file: {e}\")\n",
    "\n",
    "\n",
    "\n",
    "\n"
   ]
  },
  {
   "cell_type": "markdown",
   "metadata": {},
   "source": [
    "**2. SETTING UP THE EMAIL WRITING ASSISTANT** (temperature = 1, tools= ??)"
   ]
  },
  {
   "cell_type": "markdown",
   "metadata": {},
   "source": [
    "**Determine Tone of Email**"
   ]
  },
  {
   "cell_type": "code",
   "execution_count": 640,
   "metadata": {},
   "outputs": [],
   "source": [
    "email_tones = [\n",
    "    \"Urgent\",\n",
    "    \"Firm\",\n",
    "    \"Action Required\",\n",
    "    \"Time-Sensitive\",\n",
    "    \"Polite\",\n",
    "    \"Friendly\",\n",
    "    \"Professional\",\n",
    "    \"Empathetic\"\n",
    "]"
   ]
  },
  {
   "cell_type": "code",
   "execution_count": 641,
   "metadata": {},
   "outputs": [],
   "source": [
    "random_tone = rd.choice(email_tones)"
   ]
  },
  {
   "cell_type": "code",
   "execution_count": 642,
   "metadata": {},
   "outputs": [
    {
     "name": "stdout",
     "output_type": "stream",
     "text": [
      "Urgent\n"
     ]
    }
   ],
   "source": [
    "print(random_tone)"
   ]
  },
  {
   "cell_type": "markdown",
   "metadata": {},
   "source": [
    "**Setting up some dummy data about proximus employees**"
   ]
  },
  {
   "cell_type": "code",
   "execution_count": 643,
   "metadata": {},
   "outputs": [],
   "source": [
    "proximus_employees = [\n",
    "    {\n",
    "        \"name\": \"Marie Declercq\", \n",
    "        \"email\": \"marie.declercq@proximus.be\", \n",
    "        \"role\": \"Data Analyst\", \n",
    "        \"language\": \"Dutch\", \n",
    "        \"department\": \"Consumer Market\"\n",
    "    },\n",
    "    {\n",
    "        \"name\": \"Luc Vandenberg\", \n",
    "        \"email\": \"luc.vandenberg@proximus.be\", \n",
    "        \"role\": \"Cybersecurity Specialist\", \n",
    "        \"language\": \"Dutch\", \n",
    "        \"department\": \"Network & Wholesale\"\n",
    "    },\n",
    "    {\n",
    "        \"name\": \"Emma Wouters\", \n",
    "        \"email\": \"emma.wouters@proximus.be\", \n",
    "        \"role\": \"Marketing Specialist\", \n",
    "        \"language\": \"English\", \n",
    "        \"department\": \"Enterprise Market\"\n",
    "    },\n",
    "    {\n",
    "        \"name\": \"Jai Mehta\", \n",
    "        \"email\": \"jai.mehta@proximus.be\", \n",
    "        \"role\": \"System Administrator\", \n",
    "        \"language\": \"English\", \n",
    "        \"department\": \"IT Infrastructure\"\n",
    "    },\n",
    "    {\n",
    "        \"name\": \"Guillaume Boutin\", \n",
    "        \"email\": \"guillaume.boutin@proximus.be\", \n",
    "        \"role\": \"Chief Executive Officer\", \n",
    "        \"language\": \"French\", \n",
    "        \"department\": \"Chief Executive Officer's Department\"\n",
    "    }\n",
    "] "
   ]
  },
  {
   "cell_type": "code",
   "execution_count": 644,
   "metadata": {},
   "outputs": [],
   "source": [
    "random_employee = rd.choice(proximus_employees)"
   ]
  },
  {
   "cell_type": "code",
   "execution_count": 645,
   "metadata": {},
   "outputs": [
    {
     "name": "stdout",
     "output_type": "stream",
     "text": [
      "{'name': 'Emma Wouters', 'email': 'emma.wouters@proximus.be', 'role': 'Marketing Specialist', 'language': 'English', 'department': 'Enterprise Market'}\n"
     ]
    }
   ],
   "source": [
    "print(random_employee)"
   ]
  },
  {
   "cell_type": "markdown",
   "metadata": {},
   "source": [
    "**Setting Up the Model Configuration**"
   ]
  },
  {
   "cell_type": "code",
   "execution_count": 646,
   "metadata": {},
   "outputs": [],
   "source": [
    "system_instruction= f\"\"\"You are a skilled copywriter with a knack for creating emails that feel\n",
    "    personal, relevant, urgent and engaging. Your task is to write emails to employees of\n",
    "    {COMPANY} all while maintaining a tone that feels individual, tailored and professional. \n",
    "    \n",
    "    The email should appear to come from a relevant source. Encourage actions like clicking links or downloading attachments with a sense of urgency. Align the email subject with the sender's theme and message.\n",
    "    \n",
    "    Incorporate in your answer only complete emails.\n",
    "    \n",
    "    Everything about the sender address, subject, and email body is focused on the recipient interacting with the link.\n",
    "    \n",
    "    If you encounter any characters as \"/\", \"\\\", \"-\",\"_\" replace them with an empty string. \n",
    "    \n",
    "    Separate paragraphs in the email body using HTML paragraph tags:<p>for the start of a paragraph and</p>for the end. This will create proper paragraph breaks when the output is rendered as HTML\n",
    "    \n",
    "    Always put dates and locations in the body of the email between <strong> and </strong> to be used in html code\n",
    "    \n",
    "    If you mention a date it needs to be written in this example format 'Wednesday 29 January at 13:00'\n",
    "    \n",
    "    The email should have a {random_tone} tone.\n",
    "    \n",
    "    The receiver of the email is {random_employee['name']} and should be in {random_employee['language']}. Address the receiver formal and by his full name.\n",
    "\n",
    "    The email signature should contain the first name, family name, role and the company name of one of the employees of {provider}. \n",
    "\n",
    "    Do not include the link in the body of the email, as it will be implemented separately and placed below the text body, refer to it in the text body where it is placed.\n",
    "\n",
    "    Just plain text in the body, nothing to include anymore.\n",
    "    \n",
    "    Give also suitable color for the call to action button based on the subject of the email in rgb.\n",
    "    \n",
    "    Create also a call to action text that is limited to maximum 3 words but do not include it in the body.\n",
    "\n",
    "    The email should be written in this style example:\n",
    "\n",
    "    Use this JSON schema:\n",
    "\n",
    "    Provider_email = {{'subject':str,'addressing_the_receiver':str, 'body':str, 'email_sign_fullname':str, 'email_sign_role':str, 'email_sign_company':str, 'call_to_action_text':str, 'call_to_action_color':list[int]}}\n",
    "    Return: list[Provider_email]\n",
    "        \n",
    "        \n",
    "        \"\"\""
   ]
  },
  {
   "cell_type": "code",
   "execution_count": 647,
   "metadata": {},
   "outputs": [],
   "source": [
    "config = GenerateContentConfig(system_instruction=system_instruction, temperature=1,maxOutputTokens=8000, top_p=0.9, top_k=40, safety_settings=safety_settings)"
   ]
  },
  {
   "cell_type": "markdown",
   "metadata": {},
   "source": [
    "**Fetch some Provider Context to generate better emails**"
   ]
  },
  {
   "cell_type": "code",
   "execution_count": 648,
   "metadata": {},
   "outputs": [],
   "source": [
    "# Load JSON data from the file\n",
    "with open(\"provider_employees.json\", \"r\") as file:\n",
    "    provider_employees = json.load(file)"
   ]
  },
  {
   "cell_type": "code",
   "execution_count": 649,
   "metadata": {},
   "outputs": [],
   "source": [
    "# Load JSON data from the file\n",
    "with open(\"provider_departments.json\", \"r\") as file:\n",
    "    provider_departments = json.load(file)"
   ]
  },
  {
   "cell_type": "markdown",
   "metadata": {},
   "source": [
    "**Fetch a random Date**"
   ]
  },
  {
   "cell_type": "code",
   "execution_count": 650,
   "metadata": {},
   "outputs": [
    {
     "name": "stdout",
     "output_type": "stream",
     "text": [
      "Random Date: 2025-01-29 10:00:00\n",
      "Day (number): 29\n",
      "Day (name): Wednesday\n",
      "Month: January\n",
      "Hour: 10\n",
      "Formatted Date: Wednesday 29 January\n",
      "Formatted Date with Hour: Wednesday 29 January at 10\n"
     ]
    }
   ],
   "source": [
    "import random as rd\n",
    "from datetime import datetime, timedelta\n",
    "\n",
    "def pick_random_date():\n",
    "    # Define the time range\n",
    "    start_hour = 9  # 9 AM\n",
    "    end_hour = 16   # 4 PM (exclusive)\n",
    "\n",
    "    # Get the current date\n",
    "    today = datetime.now()\n",
    "\n",
    "    # Generate a list of valid weekdays (Monday to Friday) within 7 days\n",
    "    valid_days = []\n",
    "    for i in range(1, 8):\n",
    "        candidate_date = today + timedelta(days=i)\n",
    "        if candidate_date.weekday() < 5:  # 0=Monday, 4=Friday\n",
    "            valid_days.append(candidate_date)\n",
    "\n",
    "    # Pick a random day from the valid weekdays\n",
    "    random_day = rd.choice(valid_days)\n",
    "\n",
    "    # Randomly choose an hour between 9 AM and 4 PM\n",
    "    random_hour = rd.randint(start_hour, end_hour - 1)\n",
    "\n",
    "    # Combine the random day and hour into a datetime object\n",
    "    random_date = random_day.replace(hour=random_hour, minute=0, second=0, microsecond=0)\n",
    "\n",
    "    return random_date\n",
    "\n",
    "# Usage example\n",
    "random_date = pick_random_date()\n",
    "print(\"Random Date:\", random_date)\n",
    "print(\"Day (number):\", random_date.day)\n",
    "print(\"Day (name):\", random_date.strftime('%A'))  # Full day name like 'Monday'\n",
    "print(\"Month:\", random_date.strftime('%B'))  # Full month name like 'December'\n",
    "print(\"Hour:\", random_date.hour)\n",
    "print(\"Formatted Date:\", random_date.strftime('%A %d %B'))  # Example: 'Friday 24 January'\n",
    "print(\"Formatted Date with Hour:\", random_date.strftime('%A %d %B at %H'))  # Example: 'Friday 24 January at 11 hour'\n"
   ]
  },
  {
   "cell_type": "code",
   "execution_count": 651,
   "metadata": {},
   "outputs": [],
   "source": [
    "telecom_employee_events = [\n",
    "    \"Seminars\",\n",
    "    \"Presentations\",\n",
    "    \"Networking Meetings\",\n",
    "    \"Workshops\",\n",
    "    \"Training Sessions\",\n",
    "    \"Industry Roundtables\",\n",
    "    \"Panel Discussions\",\n",
    "    \"Webinars\",\n",
    "    \"Conferences\",\n",
    "    \"Hackathons\",\n",
    "    \"Product Demos\",\n",
    "    \"Leadership Forums\",\n",
    "    \"Strategic Planning Meetings\",\n",
    "    \"Customer Experience Sessions\",\n",
    "    \"Innovation Labs\"\n",
    "]"
   ]
  },
  {
   "cell_type": "code",
   "execution_count": 652,
   "metadata": {},
   "outputs": [],
   "source": [
    "random_event=rd.choice(telecom_employee_events)"
   ]
  },
  {
   "cell_type": "code",
   "execution_count": 653,
   "metadata": {},
   "outputs": [
    {
     "name": "stdout",
     "output_type": "stream",
     "text": [
      "Conferences\n"
     ]
    }
   ],
   "source": [
    "print(random_event)"
   ]
  },
  {
   "cell_type": "code",
   "execution_count": 654,
   "metadata": {},
   "outputs": [],
   "source": [
    "urgent_provider_issues = [\n",
    "    \"Network Outages\",\n",
    "    \"SLA Violations\",\n",
    "    \"Payment Delays\",\n",
    "    \"Contract Breach\",\n",
    "    \"Quality Failures\",\n",
    "    \"Security Risks\",\n",
    "    \"Price Increases\",\n",
    "    \"Missed Deadlines\",\n",
    "    \"Regulatory Issues\",\n",
    "    \"Billing Discrepancies\"\n",
    "]"
   ]
  },
  {
   "cell_type": "code",
   "execution_count": 655,
   "metadata": {},
   "outputs": [],
   "source": [
    "random_issue=rd.choice(urgent_provider_issues)"
   ]
  },
  {
   "cell_type": "code",
   "execution_count": 656,
   "metadata": {},
   "outputs": [
    {
     "name": "stdout",
     "output_type": "stream",
     "text": [
      "Payment Delays\n"
     ]
    }
   ],
   "source": [
    "print(random_issue)"
   ]
  },
  {
   "cell_type": "markdown",
   "metadata": {},
   "source": [
    "**Emails Provider to Proximus**"
   ]
  },
  {
   "cell_type": "markdown",
   "metadata": {},
   "source": [
    "Service related Emails"
   ]
  },
  {
   "cell_type": "code",
   "execution_count": 657,
   "metadata": {},
   "outputs": [],
   "source": [
    "contents = f\"\"\"\n",
    "\n",
    "{provider} is a service provider of {COMPANY}. {provider} has these {provider_departments}.\n",
    "\n",
    "Write some tailored emails based on the role of {random_employee['role']} about an urgent matter that needs to be solved related to {COMPANY} concerning a service that {provider} offers. Elaborate about the issue and point out why it needs to be solved as quick as possible.\n",
    "\n",
    "\"\"\"\n",
    "\n",
    "response = client.models.generate_content(\n",
    "    model=MODEL, config=config, contents=contents)\n",
    "\n"
   ]
  },
  {
   "cell_type": "markdown",
   "metadata": {},
   "source": [
    "repairing a string"
   ]
  },
  {
   "cell_type": "code",
   "execution_count": 658,
   "metadata": {},
   "outputs": [],
   "source": [
    "def repair_json_response(response_text):\n",
    "    \"\"\"\n",
    "    Repairs a potentially malformed JSON string from `response.text`.\n",
    "    Ensures it starts with '[' and ends with ']' after the last complete dictionary.\n",
    "\n",
    "    Args:\n",
    "        response_text (str): The response text containing a potentially malformed JSON string.\n",
    "\n",
    "    Returns:\n",
    "        None: Prints the repaired JSON string.\n",
    "\n",
    "    Raises:\n",
    "        ValueError: If the string cannot be repaired into valid JSON.\n",
    "    \"\"\"\n",
    "    # Remove the unwanted prefix if it exists\n",
    "    if response_text.strip().startswith(\"```json\") or response_text.strip().startswith(\"[```json\"):\n",
    "        response_text = response_text.replace(\"```json\", \"\", 1).replace(\"[```json\", \"\", 1).strip()\n",
    "\n",
    "    # Ensure the string starts with '['\n",
    "    if not response_text.strip().startswith(\"[\"):\n",
    "        response_text = \"[\" + response_text\n",
    "\n",
    "    # Find the last closing brace ('}')\n",
    "    last_brace_index = response_text.rfind(\"}\")\n",
    "    if last_brace_index == -1:\n",
    "        raise ValueError(\"No closing brace found in the response text.\")\n",
    "\n",
    "    # Trim the string up to the last complete dictionary and close the list\n",
    "    repaired_string = response_text[:last_brace_index + 1].rstrip(\", \\n\") + \"]\"\n",
    "    \n",
    "    # Print the repaired JSON string\n",
    "    return repaired_string\n"
   ]
  },
  {
   "cell_type": "code",
   "execution_count": 659,
   "metadata": {},
   "outputs": [
    {
     "data": {
      "text/plain": [
       "'[\\n  {\\n    \"subject\": \"URGENT: Digital TV Platform Analysis Requires Immediate Review\",\\n    \"addressing_the_receiver\": \"Dear Emma Wouters,\",\\n    \"body\": \"<p>We\\'ve identified a critical issue in our analysis of the Next Generation Digital TV Platform that requires your immediate attention. Our team at Accenture has uncovered inconsistencies in the current marketing strategy alignment with the platform\\'s new capabilities.</p><p>These discrepancies are directly impacting our ability to effectively market the platform to our target audience, potentially leading to missed opportunities and decreased customer engagement. It\\'s crucial that we rectify this immediately to avoid any further impact on the launch timeline and market penetration.</p><p>Please review the detailed report available through the link below. We need your feedback and input by <strong>Thursday 30 January at 10:00</strong> to ensure we can make the necessary adjustments swiftly. Your prompt response is essential to the success of this project.</p>\",\\n    \"email_sign_fullname\": \"John Smith\",\\n    \"email_sign_role\": \"Technology Consultant\",\\n    \"email_sign_company\": \"Accenture\",\\n    \"call_to_action_text\": \"Review Now\",\\n    \"call_to_action_color\": [255, 0, 0]\\n  },\\n  {\\n    \"subject\": \"Critical: Marketing Strategy Adjustment Needed for Digital TV Platform\",\\n      \"addressing_the_receiver\": \"Dear Emma Wouters,\",\\n    \"body\": \"<p>A vital update regarding the Next Generation Digital TV Platform requires your urgent action. Our recent consultation has highlighted a misalignment between the current marketing messaging and the platform’s user experience, leading to potential confusion among our customer base.</p><p>This misalignment could significantly hamper our launch success and overall marketing effectiveness. We must align the marketing strategy with the user experience as quickly as possible to guarantee a smooth rollout and positive reception from our customers. </p><p>Please access the document through the link provided below which outlines the required changes, and give us your feedback and input by <strong>Friday 31 January at 14:00</strong>. Your immediate attention is vital for a successful launch.</p>\",\\n    \"email_sign_fullname\": \"John Smith\",\\n    \"email_sign_role\": \"Technology Consultant\",\\n    \"email_sign_company\": \"Accenture\",\\n        \"call_to_action_text\":\"Check Now\",\\n        \"call_to_action_color\": [255, 165, 0]\\n  },\\n    {\\n    \"subject\": \"Immediate Action Required: Digital TV Platform Marketing Strategy Update\",\\n      \"addressing_the_receiver\": \"Dear Emma Wouters,\",\\n    \"body\": \"<p>This is an urgent request concerning the marketing strategy for the Next Generation Digital TV Platform. Our consulting team at Accenture has found that the current strategy does not fully leverage the innovative features of the new platform, and the time to adjust is now.</p><p>This lack of alignment is causing delays in reaching our key demographic, potentially resulting in lower adoption rates and missed revenue targets. Immediate adjustments are needed to ensure the marketing efforts resonate with our audience and drive desired results.</p><p>The detailed adjustment plan is ready for your review and is accessible through the link below. Please give us your feedback by <strong>Monday 3 February at 09:00</strong> so we can swiftly implement the necessary changes. Your prompt attention to this matter is critical.</p>\",\\n    \"email_sign_fullname\": \"John Smith\",\\n    \"email_sign_role\": \"Technology Consultant\",\\n    \"email_sign_company\": \"Accenture\",\\n        \"call_to_action_text\":\"Act Fast\",\\n        \"call_to_action_color\": [255, 69, 0]\\n  }]'"
      ]
     },
     "execution_count": 659,
     "metadata": {},
     "output_type": "execute_result"
    }
   ],
   "source": [
    "response_llm = response.text\n",
    "repair_json_response(response_llm)"
   ]
  },
  {
   "cell_type": "code",
   "execution_count": 660,
   "metadata": {},
   "outputs": [
    {
     "name": "stdout",
     "output_type": "stream",
     "text": [
      "JSON data has been successfully written to 'emails_related_service.json'.\n"
     ]
    },
    {
     "data": {
      "text/plain": [
       "True"
      ]
     },
     "execution_count": 660,
     "metadata": {},
     "output_type": "execute_result"
    }
   ],
   "source": [
    "save_json_from_string(response_llm, 'emails_related_service.json')"
   ]
  },
  {
   "cell_type": "markdown",
   "metadata": {},
   "source": [
    "Provider - Proximus Employee events"
   ]
  },
  {
   "cell_type": "code",
   "execution_count": 661,
   "metadata": {},
   "outputs": [],
   "source": [
    "contents = f\"\"\"\n",
    "\n",
    "{provider} is a service provider of {COMPANY}. {provider} has these {provider_departments}.\n",
    "\n",
    "Write some tailored emails based on the role of {random_employee['role']} about an event that is organized by {provider}. \n",
    "\n",
    "The event is {random_event} and is geared towards {random_employee['role']}. \n",
    "\n",
    "The event will take place on this date {random_date.strftime('%A %d %B at %H hour')}, the date needs to at least 5 days from sending.\n",
    "\n",
    "Mention the location of the event based on the {provider} headquarter\n",
    "\n",
    "Do not include urgent in the subject of the email. State that the spots available are limited and urgent action is required.\n",
    "\n",
    "\"\"\"\n",
    "\n",
    "response = client.models.generate_content(\n",
    "    model=MODEL, config=config, contents=contents)\n",
    "\n"
   ]
  },
  {
   "cell_type": "code",
   "execution_count": 662,
   "metadata": {},
   "outputs": [
    {
     "data": {
      "text/plain": [
       "'[\\n  {\\n    \"subject\": \"Exclusive Invitation: Digital TV Platform Conference for Marketing Specialists\",\\n    \"addressing_the_receiver\": \"Dear Emma Wouters,\",\\n    \"body\": \"<p>We are excited to invite you to an exclusive conference focused on the Next Generation Digital TV Platform, specifically tailored for Marketing Specialists like yourself. This is a unique opportunity to gain insights and strategies that can elevate your marketing initiatives.</p><p>The conference will be held at our headquarters located at <strong>Rue Picard 11/100, 1000 Bruxelles</strong> on <strong>Wednesday 29 January at 10:00</strong>.</p><p> Given the high interest and limited spots, we encourage you to secure your place as soon as possible by clicking the link below. Don\\'t miss this chance to connect with industry leaders and enhance your expertise.</p>\",\\n    \"email_sign_fullname\": \"Frederik De Smet\",\\n    \"email_sign_role\": \"Technology Consultant\",\\n    \"email_sign_company\": \"Accenture\",\\n    \"call_to_action_text\": \"Register Now\",\\n      \"call_to_action_color\": [255, 69, 0]\\n  },\\n  {\\n    \"subject\": \"Limited Seats: Digital TV Marketing Conference - Secure Your Spot Now\",\\n    \"addressing_the_receiver\": \"Dear Emma Wouters,\",\\n     \"body\": \"<p>We\\'re reaching out to offer you a special invitation to our upcoming conference on the Next Generation Digital TV Platform, designed specifically for Marketing Specialists. This event is focused on the cutting-edge strategies and tools that can propel your marketing campaigns forward.</p><p>The conference will take place at <strong>Rue Picard 11/100, 1000 Bruxelles</strong> on <strong>Wednesday 29 January at 10:00</strong>. Due to the limited seating, we urge you to register without delay.</p><p>Take immediate action to guarantee your participation. The registration link is provided below, make sure to confirm your attendance.</p>\",\\n    \"email_sign_fullname\": \"Frederik De Smet\",\\n    \"email_sign_role\": \"Technology Consultant\",\\n    \"email_sign_company\": \"Accenture\",\\n     \"call_to_action_text\": \"Claim Seat\",\\n     \"call_to_action_color\": [255, 165, 0]\\n  },\\n  {\\n    \"subject\": \"Don\\'t Miss Out: Digital TV Platform Marketing Conference\",\\n    \"addressing_the_receiver\": \"Dear Emma Wouters,\",\\n     \"body\": \"<p>We are contacting you to present an unmissable opportunity: a dedicated conference focused on the Next Generation Digital TV Platform, especially curated for Marketing Specialists. This is your chance to explore new marketing horizons and strategies.</p><p> The conference is scheduled for <strong>Wednesday 29 January at 10:00</strong>, and will be held at our main office: <strong>Rue Picard 11/100, 1000 Bruxelles</strong>. </p><p>Due to the limited capacity, immediate action is required to secure your attendance. Please use the link below to finalize your registration and ensure your participation.</p>\",\\n    \"email_sign_fullname\": \"Frederik De Smet\",\\n    \"email_sign_role\": \"Technology Consultant\",\\n    \"email_sign_company\": \"Accenture\",\\n     \"call_to_action_text\": \"Confirm Now\",\\n      \"call_to_action_color\": [255, 0, 0]\\n  }]'"
      ]
     },
     "execution_count": 662,
     "metadata": {},
     "output_type": "execute_result"
    }
   ],
   "source": [
    "response_llm = response.text\n",
    "repair_json_response(response_llm)"
   ]
  },
  {
   "cell_type": "code",
   "execution_count": 663,
   "metadata": {},
   "outputs": [
    {
     "name": "stdout",
     "output_type": "stream",
     "text": [
      "JSON data has been successfully written to 'emails_employee_event.json'.\n"
     ]
    },
    {
     "data": {
      "text/plain": [
       "True"
      ]
     },
     "execution_count": 663,
     "metadata": {},
     "output_type": "execute_result"
    }
   ],
   "source": [
    "save_json_from_string(response_llm, 'emails_employee_event.json')"
   ]
  },
  {
   "cell_type": "markdown",
   "metadata": {},
   "source": [
    "Provider issues with Proximus"
   ]
  },
  {
   "cell_type": "code",
   "execution_count": 664,
   "metadata": {},
   "outputs": [],
   "source": [
    "contents= f\"\"\"\n",
    "\n",
    "{provider} is a service provider of {COMPANY}. {provider} has these {provider_departments}.\n",
    "\n",
    "Write some tailored emails based on the role of {random_employee['role']} about an issue that {provider} have with {COMPANY}. \n",
    "\n",
    "The issue is {random_issue} and is related to {random_employee['role']}. Elaborate about the issue.\n",
    "\n",
    "The issue needs to be solved before {random_date.strftime('%A %d %B at %H hour')}\n",
    "\n",
    "\"\"\"\n",
    "\n",
    "response = client.models.generate_content(\n",
    "    model=MODEL, config=config, contents=contents)\n",
    "\n"
   ]
  },
  {
   "cell_type": "code",
   "execution_count": 665,
   "metadata": {},
   "outputs": [
    {
     "data": {
      "text/plain": [
       "'[\\n  {\\n    \"subject\": \"Urgent: Payment Delay Impacting Marketing Campaigns\",\\n    \"addressing_the_receiver\": \"Dear Emma Wouters,\",\\n    \"body\": \"<p>We are reaching out to you today regarding an urgent matter that requires your immediate attention. Accenture has identified significant payment delays for services related to the Next Generation Digital TV Platform, specifically impacting marketing initiatives.</p><p>These delays are causing severe disruptions in our ability to effectively execute planned campaigns. This directly affects Proximus\\'s marketing goals and the overall project timeline. We must address this immediately to minimize further impact. We need your cooperation to resolve this before <strong>Wednesday 29 January at 10:00</strong>.</p><p>Please find the detailed report regarding the outstanding payments by clicking the link below. Review it and get in touch with us as soon as possible. Your swift action is crucial to ensure the smooth continuation of our partnership and the success of the marketing campaigns. </p>\",\\n    \"email_sign_fullname\": \"Niels Van Damme\",\\n    \"email_sign_role\": \"Technology Consultant\",\\n    \"email_sign_company\": \"Accenture\",\\n    \"call_to_action_text\": \"View Report\",\\n     \"call_to_action_color\": [255, 0, 0]\\n  }]'"
      ]
     },
     "execution_count": 665,
     "metadata": {},
     "output_type": "execute_result"
    }
   ],
   "source": [
    "response_llm = response.text\n",
    "repair_json_response(response_llm)"
   ]
  },
  {
   "cell_type": "code",
   "execution_count": 666,
   "metadata": {},
   "outputs": [
    {
     "name": "stdout",
     "output_type": "stream",
     "text": [
      "JSON data has been successfully written to 'emails_provider_issue.json'.\n"
     ]
    },
    {
     "data": {
      "text/plain": [
       "True"
      ]
     },
     "execution_count": 666,
     "metadata": {},
     "output_type": "execute_result"
    }
   ],
   "source": [
    "save_json_from_string(response_llm, 'emails_provider_issue.json')"
   ]
  },
  {
   "cell_type": "markdown",
   "metadata": {},
   "source": [
    "Proximus News"
   ]
  },
  {
   "cell_type": "code",
   "execution_count": 667,
   "metadata": {},
   "outputs": [],
   "source": [
    "# Load JSON data from the file\n",
    "with open(\"proximus_news.json\", \"r\") as file:\n",
    "    proximus_news = json.load(file)"
   ]
  },
  {
   "cell_type": "code",
   "execution_count": 668,
   "metadata": {},
   "outputs": [],
   "source": [
    "contents= f\"\"\"\n",
    "\n",
    "{provider} is a service provider of {COMPANY}.\n",
    "\n",
    "Write some tailored emails based on the role of {random_employee['role']} about an business opportunity that {provider} can offer {COMPANY} regarding {proximus_news}.\n",
    "\n",
    "The particular business opportunity is also closely related to {random_employee}\n",
    "\n",
    "\"\"\"\n",
    "\n",
    "response = client.models.generate_content(\n",
    "    model=MODEL, config=config, contents=contents)"
   ]
  },
  {
   "cell_type": "code",
   "execution_count": 669,
   "metadata": {},
   "outputs": [
    {
     "data": {
      "text/plain": [
       "'[\\n  {\\n    \"subject\": \"Urgent: Optimize Digital TV Strategy for Proximus\\' New HQ\",\\n    \"addressing_the_receiver\": \"Dear Emma Wouters,\",\\n    \"body\": \"<p>I hope this email finds you well.</p><p>With Proximus\\' exciting move to Tour & Taxis in <strong>the first half of 2027</strong>, there\\'s a critical opportunity to enhance your digital TV strategy. Accenture\\'s expertise in next-generation digital TV platforms can ensure a smooth transition and an advanced viewing experience for all employees. </p><p> We believe that integrating innovative solutions now will not only facilitate this transition but also set a new standard for workplace entertainment and communication. This is time sensitive as the move is planned to start in <strong>the first half of 2027</strong>.</p><p>Please review the attached document outlining our proposed approach for Proximus. It\\'s essential to discuss this immediately to ensure we can align our strategies with the relocation timeline.</p>\",\\n    \"email_sign_fullname\": \"Arnaud Bernard\",\\n    \"email_sign_role\": \"Technology Consulting Lead\",\\n     \"email_sign_company\": \"Accenture\",\\n    \"call_to_action_text\": \"View Now\",\\n    \"call_to_action_color\": [255, 69, 0]\\n  },\\n  {\\n    \"subject\": \"Critical: Enhance Fiber Network Marketing with Accenture\\'s Tech Insights\",\\n    \"addressing_the_receiver\": \"Dear Emma Wouters,\",\\n    \"body\": \"<p>I hope this email finds you well.</p><p>Given Proximus\\' fiber network\\'s superior performance, as highlighted by nPerf and Ookla, there’s a pressing need to capitalize on this advantage in your marketing strategy. Accenture’s consulting on Next Generation Digital TV Platform can offer critical insights into leveraging this high-speed connectivity to drive marketing initiatives.</p><p>We can help you highlight this advantage to your customers in a new and engaging way. We can provide tailored strategies to convert these technological achievements into a competitive edge in the market. </p><p>To explore how we can quickly boost your marketing efforts, please access the detailed proposal through the link below and schedule a quick call with us this week.</p>\",\\n    \"email_sign_fullname\": \"Arnaud Bernard\",\\n    \"email_sign_role\": \"Technology Consulting Lead\",\\n    \"email_sign_company\": \"Accenture\",\\n     \"call_to_action_text\": \"Act Fast\",\\n     \"call_to_action_color\": [255, 69, 0]\\n  },\\n   {\\n    \"subject\": \"Urgent: Proximus Global Strategy – Digital TV Platform Optimization\",\\n    \"addressing_the_receiver\": \"Dear Emma Wouters,\",\\n     \"body\": \"<p>I hope this email finds you well.</p><p>With the establishment of Proximus Global, there\\'s an urgent need to ensure a cohesive and advanced digital TV platform strategy across all international divisions. Accenture\\'s expertise in next-generation digital TV platforms can be crucial in integrating BICS, Telesign, and Route Mobile under a unified approach.</p><p>We must ensure the digital TV offerings are optimized for each market, reflecting the global vision. Our consulting can also help in harmonizing the tech aspects of the new structure. </p><p>Please review our attached proposal immediately to see how Accenture can help Proximus Global. Let’s schedule a meeting <strong>this week</strong> to discuss this opportunity.</p>\",\\n    \"email_sign_fullname\": \"Arnaud Bernard\",\\n    \"email_sign_role\": \"Technology Consulting Lead\",\\n    \"email_sign_company\": \"Accenture\",\\n    \"call_to_action_text\": \"Check Now\",\\n    \"call_to_action_color\": [255, 69, 0]\\n  }]'"
      ]
     },
     "execution_count": 669,
     "metadata": {},
     "output_type": "execute_result"
    }
   ],
   "source": [
    "response_llm = response.text\n",
    "repair_json_response(response_llm)"
   ]
  },
  {
   "cell_type": "code",
   "execution_count": 670,
   "metadata": {},
   "outputs": [
    {
     "name": "stdout",
     "output_type": "stream",
     "text": [
      "JSON data has been successfully written to 'emails_provider_news_issue.json'.\n"
     ]
    },
    {
     "data": {
      "text/plain": [
       "True"
      ]
     },
     "execution_count": 670,
     "metadata": {},
     "output_type": "execute_result"
    }
   ],
   "source": [
    "save_json_from_string(response_llm, 'emails_provider_news_issue.json')"
   ]
  },
  {
   "cell_type": "markdown",
   "metadata": {},
   "source": [
    "**Internal Emails Proximus**"
   ]
  },
  {
   "cell_type": "code",
   "execution_count": null,
   "metadata": {},
   "outputs": [],
   "source": []
  },
  {
   "cell_type": "markdown",
   "metadata": {},
   "source": [
    "**3. BLENDING DATA IN HTML**"
   ]
  },
  {
   "cell_type": "code",
   "execution_count": 671,
   "metadata": {},
   "outputs": [],
   "source": [
    "\n",
    "fake_link = \"https://example.com/secure-login\"\n",
    "# logo = \"https://encrypted-tbn0.gstatic.com/images?q=tbn:ANd9GcTSGEPQPSgVcETmtsfevb9aZp2LTlYOcy1mAm8xD0FROr4oMWA-xuO6vEV6v3Igwpr7tS8&usqp=CAU\""
   ]
  },
  {
   "cell_type": "code",
   "execution_count": 672,
   "metadata": {},
   "outputs": [],
   "source": [
    "\n",
    "with open('blended_data_providers.json', 'r') as file:\n",
    "    data = json.load(file)\n",
    "\n",
    "# If I don't know the provider name so, I have to loop over them.\n",
    "for provider_data in data.values():\n",
    "    general_info = provider_data.get('general', {})\n",
    "    provider = general_info.get('provider') or 'BICS'\n",
    "    departments = provider_data.get('departments', [])\n",
    "    address = (departments[0].get('address') if departments else None) or 'Boulevard du Roi Albert II, 27, B-1030 Brussels, Belgium'\n",
    "    depart = (departments[0].get('department') if departments else None) or 'IT development'\n",
    "\n",
    "    color_info = provider_data.get('color', {})\n",
    "    color_name = color_info.get('rgb_code_1') or '[28, 151, 212]'  #################### I am suggesting to write \"light\" before the color name to avoid sight harm ####\n",
    "    color_name = f\"rgb{tuple(color_name)}\" if isinstance(color_name, list) else color_name\n",
    "    phone = (departments[0].get('phone') if departments else None) or '+32 2 547 52 10'\n",
    "    vat = (departments[0].get('vat') if departments else None) or 'BE 0866 977 981'\n"
   ]
  },
  {
   "cell_type": "code",
   "execution_count": 679,
   "metadata": {},
   "outputs": [],
   "source": [
    "color_name = color_info.get('rgb_code_1') or [28, 151, 212]  # Default RGB values\n",
    "if isinstance(color_name, list):\n",
    "    brightness_factor = 0.8\n",
    "    color_name = [int(value * brightness_factor) for value in color_name]\n",
    "    color_name = f\"rgb{tuple(color_name)}\"\n",
    "\n",
    "### The header color here is being fixed to avoid wiered extracted colours\n",
    "\n",
    "color_name = \"rgb(192, 192, 192)\""
   ]
  },
  {
   "cell_type": "code",
   "execution_count": 680,
   "metadata": {},
   "outputs": [],
   "source": [
    "json_dir = \"\"  # Replace with the directory containing your files\n",
    "\n",
    "# List of specific JSON files to process\n",
    "specific_files = [\n",
    "    \"emails_employee_event.json\",\n",
    "    \"emails_provider_issue.json\",\n",
    "    \"emails_provider_news_issue.json\",\n",
    "    \"emails_related_service.json\",\n",
    "]\n",
    "\n",
    "# Iterate through the specific JSON files\n",
    "for filename in specific_files:\n",
    "    file_path = os.path.join(json_dir, filename)\n",
    "\n",
    "    # Check if the file exists to avoid errors\n",
    "    if os.path.exists(file_path):\n",
    "        # Open and load the JSON file\n",
    "        with open(file_path, \"r\", encoding=\"utf-8\") as file:\n",
    "            email_data = json.load(file)\n",
    "\n",
    "\n",
    "# Iterate through each dictionary in the list\n",
    "        for email in email_data:\n",
    "            subject =  email[\"subject\"]\n",
    "            email_body = email[\"body\"]\n",
    "            sender_name = email[\"email_sign_fullname\"]\n",
    "            sender_role = email[\"email_sign_role\"]\n",
    "            company_name = email[\"email_sign_company\"]\n",
    "            receiver_name = email[\"addressing_the_receiver\"]                ### This can be removed If we have the list of the recivers\n",
    "            cta = email[\"call_to_action_text\"]\n",
    "            cta_color = email[\"call_to_action_color\"]\n",
    "            cta_color = f\"rgb{tuple(cta_color)}\" if isinstance(cta_color, list) else cta_color\n",
    "            \n",
    "            # for reciver in receiver_employee:  #------> check how many receiver you prefere\n",
    "            #     \"\"\" Here we can extract the data for the reciver later as done for the sender\"\"\"\n",
    "            html_content = f\"\"\"\n",
    "                            <!DOCTYPE html>\n",
    "                            <html lang=\"en\">\n",
    "                            <head>\n",
    "                                <meta charset=\"UTF-8\">\n",
    "                                <meta name=\"viewport\" content=\"width=device-width, initial-scale=1.0\">\n",
    "                                <title>{subject}</title>\n",
    "                                <style>\n",
    "                                    body {{\n",
    "                                        font-family: Arial, sans-serif;\n",
    "                                        background-color: #f4f4f4;\n",
    "                                        margin: 0;\n",
    "                                        padding: 0;\n",
    "                                    }}\n",
    "                                    .email-container {{\n",
    "                                        width: 600px;\n",
    "                                        margin: 20px auto;\n",
    "                                        background-color: #fff;\n",
    "                                        border: 1px solid #ddd;\n",
    "                                        border-radius: 10px;\n",
    "                                        padding: 20px;\n",
    "                                    }}\n",
    "                                    .email-header {{\n",
    "                                        background-color: {color_name};\n",
    "                                        color: #fff;\n",
    "                                        padding: 10px 0;\n",
    "                                        text-align: center;\n",
    "                                    }}\n",
    "                                    .email-header img {{\n",
    "                                        width: 120px;\n",
    "                                        margin-bottom: 10px;\n",
    "                                    }}\n",
    "                                    .email-header h1 {{\n",
    "                                        font-size: 24px;\n",
    "                                        font-weight: bold;\n",
    "                                        margin: 0;\n",
    "                                    }}\n",
    "                                    .email-content {{\n",
    "                                        font-size: 16px;\n",
    "                                        color: #333;\n",
    "                                        margin-top: 20px;\n",
    "                                    }}\n",
    "                                    .cta-button {{\n",
    "                                        display: inline-block;\n",
    "                                        padding: 10px 20px;\n",
    "                                        background-color: {cta_color};\n",
    "                                        color: white;\n",
    "                                        text-align: center;\n",
    "                                        font-weight: bold;\n",
    "                                        border-radius: 5px;\n",
    "                                        text-decoration: none;\n",
    "                                        margin-top: 20px;\n",
    "                                    }}\n",
    "                                    .cta-button:hover {{\n",
    "                                        background-color: {color_name};\n",
    "                                    }}\n",
    "                                    .email-footer {{\n",
    "                                        font-size: 14px;\n",
    "                                        color: #777;\n",
    "                                        text-align: center;\n",
    "                                        margin-top: 20px;\n",
    "                                        border-top: 1px solid #ddd;\n",
    "                                        padding-top: 20px;\n",
    "                                    }}\n",
    "                                    .email-footer a {{\n",
    "                                        color: {color_name};\n",
    "                                        text-decoration: none;\n",
    "                                    }}\n",
    "                                    .social-icons {{\n",
    "                                        margin-top: 10px;\n",
    "                                        text-align: center;\n",
    "                                    }}\n",
    "                                    .social-icons a {{\n",
    "                                        margin: 0 10px;\n",
    "                                        display: inline-block;\n",
    "                                    }}\n",
    "                                    .social-icons img {{\n",
    "                                        width: 24px;\n",
    "                                        height: 24px;\n",
    "                                    }}\n",
    "                                    .additional-footer {{\n",
    "                                        font-size: 12px;\n",
    "                                        color: #333;\n",
    "                                        background-color: #d3d3d3; /* Gray background color */\n",
    "                                        text-align: center;\n",
    "                                        padding: 10px;\n",
    "                                        border-top: 1px solid #ccc;\n",
    "                                        border-radius: 0 0 10px 10px;\n",
    "                                        margin-top: 10px;\n",
    "                                    }}\n",
    "                                </style>\n",
    "                            </head>\n",
    "                            <body>\n",
    "                                <div class=\"email-container\">\n",
    "                                    <div class=\"email-header\">\n",
    "                                        <img src=\"\" alt=\"\">    \n",
    "                                        <h1>{subject}</h1>\n",
    "                                    </div>\n",
    "\n",
    "                                    <div class=\"email-content\">\n",
    "                                        <h2>{receiver_name}</h2>\n",
    "                                        <p>{email_body}</p>  <!-- Use the dynamically generated email body here -->\n",
    "                                        <a href=\"{fake_link}\" class=\"cta-button\">{cta}</a>\n",
    "                                        \n",
    "                                        <!-- Signature Directly Integrated -->\n",
    "                                        <p style=\"margin-top: 20px;\">Best regards,</p>\n",
    "                                        <p style=\"margin: 5px 0;\"><strong>{sender_name}</strong></p>\n",
    "                                        <p style=\"margin: 5px 0;\">{sender_role}</p>\n",
    "                                        <p style=\"margin: 5px 0;\">{company_name}</p>\n",
    "                                    </div>\n",
    "\n",
    "                                    <div class=\"email-footer\">\n",
    "                                        <p><strong>{depart}</strong></p>\n",
    "                                        <p>Email: support@{provider.lower().replace(' ', '')}.be | Phone: {phone}</p>\n",
    "                                        <p>Visit our website: <a href=\"{fake_link}\">www.{provider.lower().replace(' ', '')}.com</a></p>\n",
    "\n",
    "                                        <div class=\"social-icons\">\n",
    "                                            <a href={fake_link}>\n",
    "                                                <img src=\"https://upload.wikimedia.org/wikipedia/commons/5/51/Facebook_f_logo_%282019%29.svg\" alt=\"Facebook\">\n",
    "                                            </a>\n",
    "                                            <a href={fake_link}>\n",
    "                                                <img src=\"https://www.svgrepo.com/show/452123/twitter.svg\" alt=\"Twitter\">\n",
    "                                            </a>\n",
    "                                            <a href={fake_link}>\n",
    "                                                <img src=\"https://upload.wikimedia.org/wikipedia/commons/e/e9/Linkedin_icon.svg\" alt=\"LinkedIn\">\n",
    "                                            </a>\n",
    "                                        </div>\n",
    "                                    </div>\n",
    "\n",
    "                                    <div class=\"additional-footer\">\n",
    "                                        <p>Please be aware that this email and its links include data about your individual profile. \n",
    "                                        In order to avoid that third parties can access your personal data, \n",
    "                                        you should not forward this email and the links contained in it.</p>\n",
    "                                        <p><strong>© 2025 The {provider} Belgium n.v./s.a.</strong></p>\n",
    "                                        <p>{address}<br>KBO/BCE {vat} (RPR/RPM Brussel/Bruxelles)</p>\n",
    "                                        <p>\n",
    "                                            <a href={fake_link}>Terms of use</a> - \n",
    "                                            <a href={fake_link}>Privacy policy</a> - \n",
    "                                            <a href={fake_link}>Contact us</a>\n",
    "                                        </p>\n",
    "\n",
    "                                        <!-- Container for logo and QR code -->\n",
    "                                        <div class=\"unsubscribe-container\" style=\"text-align: center; margin-top: 20px; font-size: 12px; color: #555;\">\n",
    "                                            <p>If you no longer wish to receive notifications, you can \n",
    "                                                <a href=\"{fake_link}\" style=\"color: #007BFF; text-decoration: none;\">unsubscribe here</a>.\n",
    "                                            </p>\n",
    "                                        </div>\n",
    "                                    </div>\n",
    "                                </div>\n",
    "                            </body>\n",
    "\n",
    "                            \"\"\"\n",
    "\n",
    "            # Save the HTML file\n",
    "            os.makedirs('samples', exist_ok=True)\n",
    "            sanitized_subject = re.sub(r'[\\/:*?\"<>|]', '_', subject)\n",
    "            filename = f\"{receiver_name}_phishing_email_{sanitized_subject}.html\"\n",
    "            file_path = os.path.join('samples', filename)\n",
    "\n",
    "            # Save the HTML file\n",
    "            with open(file_path, \"w\", encoding=\"utf-8\") as file:\n",
    "                file.write(html_content)"
   ]
  },
  {
   "cell_type": "markdown",
   "metadata": {},
   "source": []
  },
  {
   "cell_type": "markdown",
   "metadata": {},
   "source": [
    "**4. SENDING MAILS TO GOPHISH**"
   ]
  },
  {
   "cell_type": "markdown",
   "metadata": {},
   "source": []
  },
  {
   "cell_type": "code",
   "execution_count": 11,
   "metadata": {},
   "outputs": [],
   "source": [
    "from gophish import Gophish\n",
    "from gophish.models import Template\n",
    "from gophish.models import Page\n",
    "from gophish.models import SMTP\n",
    "from gophish.models import User, Group\n",
    "from gophish.models import Group, Page, Template, SMTP, Campaign\n",
    "from dotenv import load_dotenv\n",
    "import os\n",
    "import time"
   ]
  },
  {
   "cell_type": "code",
   "execution_count": 2,
   "metadata": {},
   "outputs": [],
   "source": [
    "# Load environment variables from .env file\n",
    "load_dotenv()\n",
    "\n",
    "# Get data from .env file\n",
    "api_key = os.getenv('GOPHISH_API_KEY')\n",
    "smtp_password = os.getenv('SMTP_PASSWORD')\n",
    "smtp_email = os.getenv('SMTP_EMAIL')"
   ]
  },
  {
   "cell_type": "code",
   "execution_count": 3,
   "metadata": {},
   "outputs": [
    {
     "name": "stdout",
     "output_type": "stream",
     "text": [
      "Successfully connected! Number of campaigns: 0\n"
     ]
    },
    {
     "name": "stderr",
     "output_type": "stream",
     "text": [
      "c:\\Users\\izama\\Documents\\GitHub\\GNT-Arai-7\\Proximus-Case-Team-4\\.venv\\Lib\\site-packages\\urllib3\\connectionpool.py:1097: InsecureRequestWarning: Unverified HTTPS request is being made to host 'localhost'. Adding certificate verification is strongly advised. See: https://urllib3.readthedocs.io/en/latest/advanced-usage.html#tls-warnings\n",
      "  warnings.warn(\n"
     ]
    }
   ],
   "source": [
    "api_url = 'https://localhost:3333'\n",
    "api = Gophish(api_key, host=api_url, verify=False)\n",
    "\n",
    "# Test - Fetching the list of campaigns\n",
    "try:\n",
    "    campaigns = api.campaigns.get()\n",
    "    print(f\"Successfully connected! Number of campaigns: {len(campaigns)}\")\n",
    "except Exception as e:\n",
    "    print(f\"Connection error: {e}\")"
   ]
  },
  {
   "cell_type": "markdown",
   "metadata": {},
   "source": [
    "Email template"
   ]
  },
  {
   "cell_type": "code",
   "execution_count": 4,
   "metadata": {},
   "outputs": [
    {
     "name": "stderr",
     "output_type": "stream",
     "text": [
      "c:\\Users\\izama\\Documents\\GitHub\\GNT-Arai-7\\Proximus-Case-Team-4\\.venv\\Lib\\site-packages\\urllib3\\connectionpool.py:1097: InsecureRequestWarning: Unverified HTTPS request is being made to host 'localhost'. Adding certificate verification is strongly advised. See: https://urllib3.readthedocs.io/en/latest/advanced-usage.html#tls-warnings\n",
      "  warnings.warn(\n"
     ]
    },
    {
     "name": "stdout",
     "output_type": "stream",
     "text": [
      "Template 'Dear Emma Wouters,_phishing_email_Critical_ Enhance Fiber Network Marketing with Accenture's Tech Insights' created with ID: 9\n"
     ]
    },
    {
     "name": "stderr",
     "output_type": "stream",
     "text": [
      "c:\\Users\\izama\\Documents\\GitHub\\GNT-Arai-7\\Proximus-Case-Team-4\\.venv\\Lib\\site-packages\\urllib3\\connectionpool.py:1097: InsecureRequestWarning: Unverified HTTPS request is being made to host 'localhost'. Adding certificate verification is strongly advised. See: https://urllib3.readthedocs.io/en/latest/advanced-usage.html#tls-warnings\n",
      "  warnings.warn(\n"
     ]
    },
    {
     "name": "stdout",
     "output_type": "stream",
     "text": [
      "Template 'Dear Emma Wouters,_phishing_email_Critical_ Marketing Strategy Adjustment Needed for Digital TV Platform' created with ID: 10\n"
     ]
    },
    {
     "name": "stderr",
     "output_type": "stream",
     "text": [
      "c:\\Users\\izama\\Documents\\GitHub\\GNT-Arai-7\\Proximus-Case-Team-4\\.venv\\Lib\\site-packages\\urllib3\\connectionpool.py:1097: InsecureRequestWarning: Unverified HTTPS request is being made to host 'localhost'. Adding certificate verification is strongly advised. See: https://urllib3.readthedocs.io/en/latest/advanced-usage.html#tls-warnings\n",
      "  warnings.warn(\n"
     ]
    },
    {
     "name": "stdout",
     "output_type": "stream",
     "text": [
      "Template 'Dear Emma Wouters,_phishing_email_Don't Miss Out_ Digital TV Platform Marketing Conference' created with ID: 11\n"
     ]
    },
    {
     "name": "stderr",
     "output_type": "stream",
     "text": [
      "c:\\Users\\izama\\Documents\\GitHub\\GNT-Arai-7\\Proximus-Case-Team-4\\.venv\\Lib\\site-packages\\urllib3\\connectionpool.py:1097: InsecureRequestWarning: Unverified HTTPS request is being made to host 'localhost'. Adding certificate verification is strongly advised. See: https://urllib3.readthedocs.io/en/latest/advanced-usage.html#tls-warnings\n",
      "  warnings.warn(\n"
     ]
    },
    {
     "name": "stdout",
     "output_type": "stream",
     "text": [
      "Template 'Dear Emma Wouters,_phishing_email_Exclusive Invitation_ Digital TV Platform Conference for Marketing Specialists' created with ID: 12\n"
     ]
    },
    {
     "name": "stderr",
     "output_type": "stream",
     "text": [
      "c:\\Users\\izama\\Documents\\GitHub\\GNT-Arai-7\\Proximus-Case-Team-4\\.venv\\Lib\\site-packages\\urllib3\\connectionpool.py:1097: InsecureRequestWarning: Unverified HTTPS request is being made to host 'localhost'. Adding certificate verification is strongly advised. See: https://urllib3.readthedocs.io/en/latest/advanced-usage.html#tls-warnings\n",
      "  warnings.warn(\n"
     ]
    },
    {
     "name": "stdout",
     "output_type": "stream",
     "text": [
      "Template 'Dear Emma Wouters,_phishing_email_Immediate Action Required_ Digital TV Platform Marketing Strategy Update' created with ID: 13\n"
     ]
    },
    {
     "name": "stderr",
     "output_type": "stream",
     "text": [
      "c:\\Users\\izama\\Documents\\GitHub\\GNT-Arai-7\\Proximus-Case-Team-4\\.venv\\Lib\\site-packages\\urllib3\\connectionpool.py:1097: InsecureRequestWarning: Unverified HTTPS request is being made to host 'localhost'. Adding certificate verification is strongly advised. See: https://urllib3.readthedocs.io/en/latest/advanced-usage.html#tls-warnings\n",
      "  warnings.warn(\n"
     ]
    },
    {
     "name": "stdout",
     "output_type": "stream",
     "text": [
      "Template 'Dear Emma Wouters,_phishing_email_Limited Seats_ Digital TV Marketing Conference - Secure Your Spot Now' created with ID: 14\n"
     ]
    },
    {
     "name": "stderr",
     "output_type": "stream",
     "text": [
      "c:\\Users\\izama\\Documents\\GitHub\\GNT-Arai-7\\Proximus-Case-Team-4\\.venv\\Lib\\site-packages\\urllib3\\connectionpool.py:1097: InsecureRequestWarning: Unverified HTTPS request is being made to host 'localhost'. Adding certificate verification is strongly advised. See: https://urllib3.readthedocs.io/en/latest/advanced-usage.html#tls-warnings\n",
      "  warnings.warn(\n"
     ]
    },
    {
     "name": "stdout",
     "output_type": "stream",
     "text": [
      "Template 'Dear Emma Wouters,_phishing_email_URGENT_ Digital TV Platform Analysis Requires Immediate Review' created with ID: 15\n"
     ]
    },
    {
     "name": "stderr",
     "output_type": "stream",
     "text": [
      "c:\\Users\\izama\\Documents\\GitHub\\GNT-Arai-7\\Proximus-Case-Team-4\\.venv\\Lib\\site-packages\\urllib3\\connectionpool.py:1097: InsecureRequestWarning: Unverified HTTPS request is being made to host 'localhost'. Adding certificate verification is strongly advised. See: https://urllib3.readthedocs.io/en/latest/advanced-usage.html#tls-warnings\n",
      "  warnings.warn(\n"
     ]
    },
    {
     "name": "stdout",
     "output_type": "stream",
     "text": [
      "Template 'Dear Emma Wouters,_phishing_email_Urgent_ Optimize Digital TV Strategy for Proximus' New HQ' created with ID: 16\n"
     ]
    },
    {
     "name": "stderr",
     "output_type": "stream",
     "text": [
      "c:\\Users\\izama\\Documents\\GitHub\\GNT-Arai-7\\Proximus-Case-Team-4\\.venv\\Lib\\site-packages\\urllib3\\connectionpool.py:1097: InsecureRequestWarning: Unverified HTTPS request is being made to host 'localhost'. Adding certificate verification is strongly advised. See: https://urllib3.readthedocs.io/en/latest/advanced-usage.html#tls-warnings\n",
      "  warnings.warn(\n"
     ]
    },
    {
     "name": "stdout",
     "output_type": "stream",
     "text": [
      "Template 'Dear Emma Wouters,_phishing_email_Urgent_ Payment Delay Impacting Marketing Campaigns' created with ID: 17\n",
      "Template 'Dear Emma Wouters,_phishing_email_Urgent_ Proximus Global Strategy – Digital TV Platform Optimization' created with ID: 18\n"
     ]
    },
    {
     "name": "stderr",
     "output_type": "stream",
     "text": [
      "c:\\Users\\izama\\Documents\\GitHub\\GNT-Arai-7\\Proximus-Case-Team-4\\.venv\\Lib\\site-packages\\urllib3\\connectionpool.py:1097: InsecureRequestWarning: Unverified HTTPS request is being made to host 'localhost'. Adding certificate verification is strongly advised. See: https://urllib3.readthedocs.io/en/latest/advanced-usage.html#tls-warnings\n",
      "  warnings.warn(\n"
     ]
    }
   ],
   "source": [
    "\n",
    "samples_folder = \"samples\"\n",
    "\n",
    "# Iterating through files in a folder\n",
    "for filename in os.listdir(samples_folder):\n",
    "    if filename.endswith(\".html\"):\n",
    "        # Load the content of the HTML file\n",
    "        file_path = os.path.join(samples_folder, filename)\n",
    "        with open(file_path, \"r\", encoding=\"utf-8\") as file:\n",
    "            html_content = file.read()\n",
    "        \n",
    "        # Create a template name based on the file name\n",
    "        template_name = os.path.splitext(filename)[0]\n",
    "        \n",
    "        # Creating a Email Template \n",
    "        template = Template(\n",
    "            name=template_name,\n",
    "            subject=\"Important Update\",  \n",
    "            text=\"Fallback text for the email.\",  \n",
    "            html=html_content  \n",
    "        )\n",
    "        \n",
    "        # Send a request to the API to create a template\n",
    "        created_template = api.templates.post(template)\n",
    "        print(f\"Template '{template_name}' created with ID: {created_template.id}\")"
   ]
  },
  {
   "cell_type": "markdown",
   "metadata": {},
   "source": [
    "Landing Page"
   ]
  },
  {
   "cell_type": "code",
   "execution_count": 5,
   "metadata": {},
   "outputs": [
    {
     "name": "stdout",
     "output_type": "stream",
     "text": [
      "Landing page created with ID: 7\n"
     ]
    },
    {
     "name": "stderr",
     "output_type": "stream",
     "text": [
      "c:\\Users\\izama\\Documents\\GitHub\\GNT-Arai-7\\Proximus-Case-Team-4\\.venv\\Lib\\site-packages\\urllib3\\connectionpool.py:1097: InsecureRequestWarning: Unverified HTTPS request is being made to host 'localhost'. Adding certificate verification is strongly advised. See: https://urllib3.readthedocs.io/en/latest/advanced-usage.html#tls-warnings\n",
      "  warnings.warn(\n"
     ]
    }
   ],
   "source": [
    "# Create a new landing page with the desired HTML content\n",
    "page = Page(\n",
    "    name='Test Page',  # Name of the page\n",
    "    html=\"<html><body>Click <a href=\\\"{{.URL}}\\\">here</a></body></html>\"  # HTML content with a placeholder for the URL\n",
    ")\n",
    "\n",
    "# Sending the request to the API to create the landing page\n",
    "created_page = api.pages.post(page)\n",
    "\n",
    "# Printing the ID of the created landing page\n",
    "print(f\"Landing page created with ID: {created_page.id}\")\n"
   ]
  },
  {
   "cell_type": "markdown",
   "metadata": {},
   "source": [
    "Sending profile"
   ]
  },
  {
   "cell_type": "code",
   "execution_count": 6,
   "metadata": {},
   "outputs": [
    {
     "name": "stdout",
     "output_type": "stream",
     "text": [
      "Sending profile created with ID: 7\n"
     ]
    },
    {
     "name": "stderr",
     "output_type": "stream",
     "text": [
      "c:\\Users\\izama\\Documents\\GitHub\\GNT-Arai-7\\Proximus-Case-Team-4\\.venv\\Lib\\site-packages\\urllib3\\connectionpool.py:1097: InsecureRequestWarning: Unverified HTTPS request is being made to host 'localhost'. Adding certificate verification is strongly advised. See: https://urllib3.readthedocs.io/en/latest/advanced-usage.html#tls-warnings\n",
      "  warnings.warn(\n"
     ]
    }
   ],
   "source": [
    "# Create a new SMTP sending profile\n",
    "smtp = SMTP(name='Test SMTP')  # Create the SMTP profile with a name\n",
    "smtp.host = \"smtp.gmail.com:587\"  # Gmail SMTP server with port 587\n",
    "smtp.from_address = smtp_email  # Sender email address from .env file\n",
    "smtp.interface_type = \"SMTP\"  # Define interface type as SMTP\n",
    "smtp.username = smtp_email  # Set a user namefrom .env file\n",
    "smtp.password = smtp_password   # Password from .env file\n",
    "smtp.ignore_cert_errors = True  # Ignore certificate errors for testing\n",
    "\n",
    "\n",
    "# Sending the request to the API to create the sending profile\n",
    "created_smtp = api.smtp.post(smtp)\n",
    "\n",
    "# Printing the ID of the created sending profile\n",
    "print(f\"Sending profile created with ID: {created_smtp.id}\")"
   ]
  },
  {
   "cell_type": "markdown",
   "metadata": {},
   "source": [
    "Create New Group"
   ]
  },
  {
   "cell_type": "code",
   "execution_count": 7,
   "metadata": {},
   "outputs": [
    {
     "name": "stdout",
     "output_type": "stream",
     "text": [
      "Group created with ID: 4\n"
     ]
    },
    {
     "name": "stderr",
     "output_type": "stream",
     "text": [
      "c:\\Users\\izama\\Documents\\GitHub\\GNT-Arai-7\\Proximus-Case-Team-4\\.venv\\Lib\\site-packages\\urllib3\\connectionpool.py:1097: InsecureRequestWarning: Unverified HTTPS request is being made to host 'localhost'. Adding certificate verification is strongly advised. See: https://urllib3.readthedocs.io/en/latest/advanced-usage.html#tls-warnings\n",
      "  warnings.warn(\n"
     ]
    }
   ],
   "source": [
    "# Create a list of users (targets)\n",
    "targets = [\n",
    "    User(first_name='Izu', last_name='Mac', email='imb95@icloud.com')\n",
    "]\n",
    "\n",
    "# Create a group with a name and targets\n",
    "group = Group(name='Test Group', targets=targets)\n",
    "\n",
    "# Sending the request to the API to create the group\n",
    "created_group = api.groups.post(group)\n",
    "\n",
    "# Printing the ID of the created group\n",
    "print(f\"Group created with ID: {created_group.id}\")"
   ]
  },
  {
   "cell_type": "markdown",
   "metadata": {},
   "source": [
    "Create New Campaign\n"
   ]
  },
  {
   "cell_type": "code",
   "execution_count": 12,
   "metadata": {},
   "outputs": [
    {
     "name": "stderr",
     "output_type": "stream",
     "text": [
      "c:\\Users\\izama\\Documents\\GitHub\\GNT-Arai-7\\Proximus-Case-Team-4\\.venv\\Lib\\site-packages\\urllib3\\connectionpool.py:1097: InsecureRequestWarning: Unverified HTTPS request is being made to host 'localhost'. Adding certificate verification is strongly advised. See: https://urllib3.readthedocs.io/en/latest/advanced-usage.html#tls-warnings\n",
      "  warnings.warn(\n"
     ]
    },
    {
     "name": "stdout",
     "output_type": "stream",
     "text": [
      "Template 'Dear Emma Wouters,_phishing_email_Critical_ Enhance Fiber Network Marketing with Accenture's Tech Insights_1737655571' created with ID: 19\n"
     ]
    },
    {
     "name": "stderr",
     "output_type": "stream",
     "text": [
      "c:\\Users\\izama\\Documents\\GitHub\\GNT-Arai-7\\Proximus-Case-Team-4\\.venv\\Lib\\site-packages\\urllib3\\connectionpool.py:1097: InsecureRequestWarning: Unverified HTTPS request is being made to host 'localhost'. Adding certificate verification is strongly advised. See: https://urllib3.readthedocs.io/en/latest/advanced-usage.html#tls-warnings\n",
      "  warnings.warn(\n"
     ]
    },
    {
     "name": "stdout",
     "output_type": "stream",
     "text": [
      "Campaign 'Campaign for Dear Emma Wouters,_phishing_email_Critical_ Enhance Fiber Network Marketing with Accenture's Tech Insights_1737655571' created with ID: 13\n"
     ]
    },
    {
     "name": "stderr",
     "output_type": "stream",
     "text": [
      "c:\\Users\\izama\\Documents\\GitHub\\GNT-Arai-7\\Proximus-Case-Team-4\\.venv\\Lib\\site-packages\\urllib3\\connectionpool.py:1097: InsecureRequestWarning: Unverified HTTPS request is being made to host 'localhost'. Adding certificate verification is strongly advised. See: https://urllib3.readthedocs.io/en/latest/advanced-usage.html#tls-warnings\n",
      "  warnings.warn(\n"
     ]
    },
    {
     "name": "stdout",
     "output_type": "stream",
     "text": [
      "Template 'Dear Emma Wouters,_phishing_email_Critical_ Marketing Strategy Adjustment Needed for Digital TV Platform_1737655575' created with ID: 20\n"
     ]
    },
    {
     "name": "stderr",
     "output_type": "stream",
     "text": [
      "c:\\Users\\izama\\Documents\\GitHub\\GNT-Arai-7\\Proximus-Case-Team-4\\.venv\\Lib\\site-packages\\urllib3\\connectionpool.py:1097: InsecureRequestWarning: Unverified HTTPS request is being made to host 'localhost'. Adding certificate verification is strongly advised. See: https://urllib3.readthedocs.io/en/latest/advanced-usage.html#tls-warnings\n",
      "  warnings.warn(\n"
     ]
    },
    {
     "name": "stdout",
     "output_type": "stream",
     "text": [
      "Campaign 'Campaign for Dear Emma Wouters,_phishing_email_Critical_ Marketing Strategy Adjustment Needed for Digital TV Platform_1737655575' created with ID: 14\n"
     ]
    },
    {
     "name": "stderr",
     "output_type": "stream",
     "text": [
      "c:\\Users\\izama\\Documents\\GitHub\\GNT-Arai-7\\Proximus-Case-Team-4\\.venv\\Lib\\site-packages\\urllib3\\connectionpool.py:1097: InsecureRequestWarning: Unverified HTTPS request is being made to host 'localhost'. Adding certificate verification is strongly advised. See: https://urllib3.readthedocs.io/en/latest/advanced-usage.html#tls-warnings\n",
      "  warnings.warn(\n"
     ]
    },
    {
     "name": "stdout",
     "output_type": "stream",
     "text": [
      "Template 'Dear Emma Wouters,_phishing_email_Don't Miss Out_ Digital TV Platform Marketing Conference_1737655579' created with ID: 21\n"
     ]
    },
    {
     "name": "stderr",
     "output_type": "stream",
     "text": [
      "c:\\Users\\izama\\Documents\\GitHub\\GNT-Arai-7\\Proximus-Case-Team-4\\.venv\\Lib\\site-packages\\urllib3\\connectionpool.py:1097: InsecureRequestWarning: Unverified HTTPS request is being made to host 'localhost'. Adding certificate verification is strongly advised. See: https://urllib3.readthedocs.io/en/latest/advanced-usage.html#tls-warnings\n",
      "  warnings.warn(\n"
     ]
    },
    {
     "name": "stdout",
     "output_type": "stream",
     "text": [
      "Campaign 'Campaign for Dear Emma Wouters,_phishing_email_Don't Miss Out_ Digital TV Platform Marketing Conference_1737655579' created with ID: 15\n"
     ]
    },
    {
     "name": "stderr",
     "output_type": "stream",
     "text": [
      "c:\\Users\\izama\\Documents\\GitHub\\GNT-Arai-7\\Proximus-Case-Team-4\\.venv\\Lib\\site-packages\\urllib3\\connectionpool.py:1097: InsecureRequestWarning: Unverified HTTPS request is being made to host 'localhost'. Adding certificate verification is strongly advised. See: https://urllib3.readthedocs.io/en/latest/advanced-usage.html#tls-warnings\n",
      "  warnings.warn(\n"
     ]
    },
    {
     "name": "stdout",
     "output_type": "stream",
     "text": [
      "Template 'Dear Emma Wouters,_phishing_email_Exclusive Invitation_ Digital TV Platform Conference for Marketing Specialists_1737655583' created with ID: 22\n"
     ]
    },
    {
     "name": "stderr",
     "output_type": "stream",
     "text": [
      "c:\\Users\\izama\\Documents\\GitHub\\GNT-Arai-7\\Proximus-Case-Team-4\\.venv\\Lib\\site-packages\\urllib3\\connectionpool.py:1097: InsecureRequestWarning: Unverified HTTPS request is being made to host 'localhost'. Adding certificate verification is strongly advised. See: https://urllib3.readthedocs.io/en/latest/advanced-usage.html#tls-warnings\n",
      "  warnings.warn(\n"
     ]
    },
    {
     "name": "stdout",
     "output_type": "stream",
     "text": [
      "Campaign 'Campaign for Dear Emma Wouters,_phishing_email_Exclusive Invitation_ Digital TV Platform Conference for Marketing Specialists_1737655583' created with ID: 16\n"
     ]
    },
    {
     "name": "stderr",
     "output_type": "stream",
     "text": [
      "c:\\Users\\izama\\Documents\\GitHub\\GNT-Arai-7\\Proximus-Case-Team-4\\.venv\\Lib\\site-packages\\urllib3\\connectionpool.py:1097: InsecureRequestWarning: Unverified HTTPS request is being made to host 'localhost'. Adding certificate verification is strongly advised. See: https://urllib3.readthedocs.io/en/latest/advanced-usage.html#tls-warnings\n",
      "  warnings.warn(\n"
     ]
    },
    {
     "name": "stdout",
     "output_type": "stream",
     "text": [
      "Template 'Dear Emma Wouters,_phishing_email_Immediate Action Required_ Digital TV Platform Marketing Strategy Update_1737655587' created with ID: 23\n"
     ]
    },
    {
     "name": "stderr",
     "output_type": "stream",
     "text": [
      "c:\\Users\\izama\\Documents\\GitHub\\GNT-Arai-7\\Proximus-Case-Team-4\\.venv\\Lib\\site-packages\\urllib3\\connectionpool.py:1097: InsecureRequestWarning: Unverified HTTPS request is being made to host 'localhost'. Adding certificate verification is strongly advised. See: https://urllib3.readthedocs.io/en/latest/advanced-usage.html#tls-warnings\n",
      "  warnings.warn(\n"
     ]
    },
    {
     "name": "stdout",
     "output_type": "stream",
     "text": [
      "Campaign 'Campaign for Dear Emma Wouters,_phishing_email_Immediate Action Required_ Digital TV Platform Marketing Strategy Update_1737655587' created with ID: 17\n"
     ]
    },
    {
     "name": "stderr",
     "output_type": "stream",
     "text": [
      "c:\\Users\\izama\\Documents\\GitHub\\GNT-Arai-7\\Proximus-Case-Team-4\\.venv\\Lib\\site-packages\\urllib3\\connectionpool.py:1097: InsecureRequestWarning: Unverified HTTPS request is being made to host 'localhost'. Adding certificate verification is strongly advised. See: https://urllib3.readthedocs.io/en/latest/advanced-usage.html#tls-warnings\n",
      "  warnings.warn(\n"
     ]
    },
    {
     "name": "stdout",
     "output_type": "stream",
     "text": [
      "Template 'Dear Emma Wouters,_phishing_email_Limited Seats_ Digital TV Marketing Conference - Secure Your Spot Now_1737655592' created with ID: 24\n"
     ]
    },
    {
     "name": "stderr",
     "output_type": "stream",
     "text": [
      "c:\\Users\\izama\\Documents\\GitHub\\GNT-Arai-7\\Proximus-Case-Team-4\\.venv\\Lib\\site-packages\\urllib3\\connectionpool.py:1097: InsecureRequestWarning: Unverified HTTPS request is being made to host 'localhost'. Adding certificate verification is strongly advised. See: https://urllib3.readthedocs.io/en/latest/advanced-usage.html#tls-warnings\n",
      "  warnings.warn(\n"
     ]
    },
    {
     "name": "stdout",
     "output_type": "stream",
     "text": [
      "Campaign 'Campaign for Dear Emma Wouters,_phishing_email_Limited Seats_ Digital TV Marketing Conference - Secure Your Spot Now_1737655592' created with ID: 18\n"
     ]
    },
    {
     "name": "stderr",
     "output_type": "stream",
     "text": [
      "c:\\Users\\izama\\Documents\\GitHub\\GNT-Arai-7\\Proximus-Case-Team-4\\.venv\\Lib\\site-packages\\urllib3\\connectionpool.py:1097: InsecureRequestWarning: Unverified HTTPS request is being made to host 'localhost'. Adding certificate verification is strongly advised. See: https://urllib3.readthedocs.io/en/latest/advanced-usage.html#tls-warnings\n",
      "  warnings.warn(\n"
     ]
    },
    {
     "name": "stdout",
     "output_type": "stream",
     "text": [
      "Template 'Dear Emma Wouters,_phishing_email_URGENT_ Digital TV Platform Analysis Requires Immediate Review_1737655596' created with ID: 25\n"
     ]
    },
    {
     "name": "stderr",
     "output_type": "stream",
     "text": [
      "c:\\Users\\izama\\Documents\\GitHub\\GNT-Arai-7\\Proximus-Case-Team-4\\.venv\\Lib\\site-packages\\urllib3\\connectionpool.py:1097: InsecureRequestWarning: Unverified HTTPS request is being made to host 'localhost'. Adding certificate verification is strongly advised. See: https://urllib3.readthedocs.io/en/latest/advanced-usage.html#tls-warnings\n",
      "  warnings.warn(\n"
     ]
    },
    {
     "name": "stdout",
     "output_type": "stream",
     "text": [
      "Campaign 'Campaign for Dear Emma Wouters,_phishing_email_URGENT_ Digital TV Platform Analysis Requires Immediate Review_1737655596' created with ID: 19\n"
     ]
    },
    {
     "name": "stderr",
     "output_type": "stream",
     "text": [
      "c:\\Users\\izama\\Documents\\GitHub\\GNT-Arai-7\\Proximus-Case-Team-4\\.venv\\Lib\\site-packages\\urllib3\\connectionpool.py:1097: InsecureRequestWarning: Unverified HTTPS request is being made to host 'localhost'. Adding certificate verification is strongly advised. See: https://urllib3.readthedocs.io/en/latest/advanced-usage.html#tls-warnings\n",
      "  warnings.warn(\n"
     ]
    },
    {
     "name": "stdout",
     "output_type": "stream",
     "text": [
      "Template 'Dear Emma Wouters,_phishing_email_Urgent_ Optimize Digital TV Strategy for Proximus' New HQ_1737655600' created with ID: 26\n"
     ]
    },
    {
     "name": "stderr",
     "output_type": "stream",
     "text": [
      "c:\\Users\\izama\\Documents\\GitHub\\GNT-Arai-7\\Proximus-Case-Team-4\\.venv\\Lib\\site-packages\\urllib3\\connectionpool.py:1097: InsecureRequestWarning: Unverified HTTPS request is being made to host 'localhost'. Adding certificate verification is strongly advised. See: https://urllib3.readthedocs.io/en/latest/advanced-usage.html#tls-warnings\n",
      "  warnings.warn(\n"
     ]
    },
    {
     "name": "stdout",
     "output_type": "stream",
     "text": [
      "Campaign 'Campaign for Dear Emma Wouters,_phishing_email_Urgent_ Optimize Digital TV Strategy for Proximus' New HQ_1737655600' created with ID: 20\n"
     ]
    },
    {
     "name": "stderr",
     "output_type": "stream",
     "text": [
      "c:\\Users\\izama\\Documents\\GitHub\\GNT-Arai-7\\Proximus-Case-Team-4\\.venv\\Lib\\site-packages\\urllib3\\connectionpool.py:1097: InsecureRequestWarning: Unverified HTTPS request is being made to host 'localhost'. Adding certificate verification is strongly advised. See: https://urllib3.readthedocs.io/en/latest/advanced-usage.html#tls-warnings\n",
      "  warnings.warn(\n"
     ]
    },
    {
     "name": "stdout",
     "output_type": "stream",
     "text": [
      "Template 'Dear Emma Wouters,_phishing_email_Urgent_ Payment Delay Impacting Marketing Campaigns_1737655605' created with ID: 27\n"
     ]
    },
    {
     "name": "stderr",
     "output_type": "stream",
     "text": [
      "c:\\Users\\izama\\Documents\\GitHub\\GNT-Arai-7\\Proximus-Case-Team-4\\.venv\\Lib\\site-packages\\urllib3\\connectionpool.py:1097: InsecureRequestWarning: Unverified HTTPS request is being made to host 'localhost'. Adding certificate verification is strongly advised. See: https://urllib3.readthedocs.io/en/latest/advanced-usage.html#tls-warnings\n",
      "  warnings.warn(\n"
     ]
    },
    {
     "name": "stdout",
     "output_type": "stream",
     "text": [
      "Campaign 'Campaign for Dear Emma Wouters,_phishing_email_Urgent_ Payment Delay Impacting Marketing Campaigns_1737655605' created with ID: 21\n"
     ]
    },
    {
     "name": "stderr",
     "output_type": "stream",
     "text": [
      "c:\\Users\\izama\\Documents\\GitHub\\GNT-Arai-7\\Proximus-Case-Team-4\\.venv\\Lib\\site-packages\\urllib3\\connectionpool.py:1097: InsecureRequestWarning: Unverified HTTPS request is being made to host 'localhost'. Adding certificate verification is strongly advised. See: https://urllib3.readthedocs.io/en/latest/advanced-usage.html#tls-warnings\n",
      "  warnings.warn(\n"
     ]
    },
    {
     "name": "stdout",
     "output_type": "stream",
     "text": [
      "Template 'Dear Emma Wouters,_phishing_email_Urgent_ Proximus Global Strategy – Digital TV Platform Optimization_1737655609' created with ID: 28\n",
      "Campaign 'Campaign for Dear Emma Wouters,_phishing_email_Urgent_ Proximus Global Strategy – Digital TV Platform Optimization_1737655609' created with ID: 22\n"
     ]
    },
    {
     "name": "stderr",
     "output_type": "stream",
     "text": [
      "c:\\Users\\izama\\Documents\\GitHub\\GNT-Arai-7\\Proximus-Case-Team-4\\.venv\\Lib\\site-packages\\urllib3\\connectionpool.py:1097: InsecureRequestWarning: Unverified HTTPS request is being made to host 'localhost'. Adding certificate verification is strongly advised. See: https://urllib3.readthedocs.io/en/latest/advanced-usage.html#tls-warnings\n",
      "  warnings.warn(\n"
     ]
    }
   ],
   "source": [
    "# Path to the folder with sample HTML emails\n",
    "samples_folder = \"samples\"\n",
    "\n",
    "# List of groups (adjust to existing groups in your system)\n",
    "groups = [Group(name='Test Group')]  # Replace with the actual group name\n",
    "\n",
    "# Landing page (adjust to an existing page in your system)\n",
    "page = Page(name='Test Page')  # Replace with the actual page name\n",
    "\n",
    "# SMTP profile (adjust to an existing SMTP profile in your system)\n",
    "smtp = SMTP(name='Test SMTP')  # Replace with the actual SMTP profile name\n",
    "\n",
    "# URL of the phishing server (adjust to your server URL)\n",
    "url = 'http://phishing_server'  # Replace with the actual URL\n",
    "\n",
    "# Iterate over HTML files in the folder\n",
    "for filename in os.listdir(samples_folder):\n",
    "    if filename.endswith(\".html\"):\n",
    "        # Read the content of the HTML file\n",
    "        file_path = os.path.join(samples_folder, filename)\n",
    "        with open(file_path, \"r\", encoding=\"utf-8\") as file:\n",
    "            html_content = file.read()\n",
    "        \n",
    "        # Create a unique template name by appending a timestamp\n",
    "        base_name = os.path.splitext(filename)[0]\n",
    "        timestamp = int(time.time())  # Current Unix timestamp\n",
    "        template_name = f\"{base_name}_{timestamp}\"        \n",
    "        \n",
    "        # Create a template\n",
    "        template = Template(\n",
    "            name=template_name,\n",
    "            subject=f\"Campaign for {template_name}\",  # Adjust the subject as needed\n",
    "            text=\"Fallback text for the email.\",      # Optional plain text content\n",
    "            html=html_content                         # HTML content from the file\n",
    "        )\n",
    "        \n",
    "        # Send a request to the API to create the template\n",
    "        created_template = api.templates.post(template)\n",
    "        print(f\"Template '{template_name}' created with ID: {created_template.id}\")\n",
    "        \n",
    "        # Create a campaign using the template\n",
    "        campaign = Campaign(\n",
    "            name=f\"Campaign for {template_name}\",  # Campaign name\n",
    "            groups=groups,                         # Groups for the campaign\n",
    "            page=page,                             # Landing page\n",
    "            template=created_template,             # Template for the campaign\n",
    "            smtp=smtp                              # SMTP profile\n",
    "        )\n",
    "        \n",
    "        # Send a request to the API to create the campaign\n",
    "        created_campaign = api.campaigns.post(campaign)\n",
    "        print(f\"Campaign '{campaign.name}' created with ID: {created_campaign.id}\")\n"
   ]
  }
 ],
 "metadata": {
  "kernelspec": {
   "display_name": ".venv",
   "language": "python",
   "name": "python3"
  },
  "language_info": {
   "codemirror_mode": {
    "name": "ipython",
    "version": 3
   },
   "file_extension": ".py",
   "mimetype": "text/x-python",
   "name": "python",
   "nbconvert_exporter": "python",
   "pygments_lexer": "ipython3",
   "version": "3.12.6"
  }
 },
 "nbformat": 4,
 "nbformat_minor": 2
}
