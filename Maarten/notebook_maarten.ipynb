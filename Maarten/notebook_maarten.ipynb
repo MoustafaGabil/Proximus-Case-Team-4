{
 "cells": [
  {
   "cell_type": "code",
   "execution_count": 13,
   "metadata": {},
   "outputs": [],
   "source": [
    "from dotenv import load_dotenv\n",
    "import os\n",
    "import google.generativeai as genai\n",
    "\n",
    "# load and set API key\n",
    "load_dotenv()\n",
    "gemini_api_key = os.getenv(\"GEMINI_API_KEY\")\n",
    "# set up Gemini\n",
    "genai.configure(api_key=gemini_api_key)\n",
    "model = genai.GenerativeModel('gemini-1.5-flash')\n",
    "\n",
    "# simple prompt\n",
    "def get_response(prompt):\n",
    "    generation_config = genai.types.GenerationConfig(temperature=0.8)\n",
    "    response = model.generate_content(prompt, generation_config=generation_config)\n",
    "    return response"
   ]
  },
  {
   "cell_type": "markdown",
   "metadata": {},
   "source": [
    "### Create employee data"
   ]
  },
  {
   "cell_type": "code",
   "execution_count": 14,
   "metadata": {},
   "outputs": [
    {
     "name": "stdout",
     "output_type": "stream",
     "text": [
      "Employees:  [{'name': 'Jan De Vries', 'function': 'Software Engineer', 'department': 'Technology', 'email': 'jan.devries@proximus.be', 'preferred_language': 'Dutch'}, {'name': 'Marie Dubois', 'function': 'Network Engineer', 'department': 'Technology', 'email': 'marie.dubois@proximus.be', 'preferred_language': 'French'}, {'name': 'Peter Jones', 'function': 'Project Manager', 'department': 'Product Development', 'email': 'peter.jones@proximus.be', 'preferred_language': 'English'}, {'name': 'Annelies Janssen', 'function': 'Data Analyst', 'department': 'Business Intelligence', 'email': 'annelies.janssen@proximus.be', 'preferred_language': 'Dutch'}, {'name': 'Jean-Pierre Lefevre', 'function': 'Sales Representative', 'department': 'Sales & Marketing', 'email': 'jean-pierre.lefevre@proximus.be', 'preferred_language': 'French'}, {'name': 'Sarah Smith', 'function': 'Marketing Manager', 'department': 'Sales & Marketing', 'email': 'sarah.smith@proximus.be', 'preferred_language': 'English'}, {'name': 'Tom Vermeulen', 'function': 'Customer Service Agent', 'department': 'Customer Service', 'email': 'tom.vermeulen@proximus.be', 'preferred_language': 'Dutch'}, {'name': 'Sophie Dupont', 'function': 'Customer Support Manager', 'department': 'Customer Service', 'email': 'sophie.dupont@proximus.be', 'preferred_language': 'French'}, {'name': 'David Brown', 'function': 'Finance Manager', 'department': 'Finance', 'email': 'david.brown@proximus.be', 'preferred_language': 'English'}, {'name': 'Els De Bruyne', 'function': 'Accountant', 'department': 'Finance', 'email': 'els.debruyne@proximus.be', 'preferred_language': 'Dutch'}, {'name': 'Guillaume Moreau', 'function': 'UX Designer', 'department': 'Product Development', 'email': 'guillaume.moreau@proximus.be', 'preferred_language': 'French'}, {'name': 'Karen Wilson', 'function': 'UI Designer', 'department': 'Product Development', 'email': 'karen.wilson@proximus.be', 'preferred_language': 'English'}, {'name': 'Bart De Smet', 'function': 'Network Administrator', 'department': 'Technology', 'email': 'bart.desmet@proximus.be', 'preferred_language': 'Dutch'}, {'name': 'Isabelle Martin', 'function': 'HR Manager', 'department': 'Human Resources', 'email': 'isabelle.martin@proximus.be', 'preferred_language': 'French'}, {'name': 'Michael Taylor', 'function': 'IT Support Specialist', 'department': 'Technology', 'email': 'michael.taylor@proximus.be', 'preferred_language': 'English'}, {'name': 'Liesbeth Van den Berg', 'function': 'Recruitment Specialist', 'department': 'Human Resources', 'email': 'liesbeth.vandenberg@proximus.be', 'preferred_language': 'Dutch'}, {'name': 'Antoine Bernard', 'function': 'Legal Counsel', 'department': 'Legal', 'email': 'antoine.bernard@proximus.be', 'preferred_language': 'French'}, {'name': 'Charlotte Evans', 'function': 'Data Scientist', 'department': 'Business Intelligence', 'email': 'charlotte.evans@proximus.be', 'preferred_language': 'English'}, {'name': 'Koen Willems', 'function': 'Cybersecurity Analyst', 'department': 'Technology', 'email': 'koen.willems@proximus.be', 'preferred_language': 'Dutch'}, {'name': 'Elodie Rousseau', 'function': 'Social Media Manager', 'department': 'Sales & Marketing', 'email': 'elodie.rousseau@proximus.be', 'preferred_language': 'French'}]\n",
      "Departments:  {'Customer Service', 'Finance', 'Product Development', 'Human Resources', 'Sales & Marketing', 'Technology', 'Business Intelligence', 'Legal'}\n"
     ]
    }
   ],
   "source": [
    "import json\n",
    "\n",
    "prompt1 = [\n",
    "    {\"parts\": [{\"text\": \"\"\"create fake employee data for a big Belgian telecom company (Proximus), and return in a json format. \n",
    "                It should contain 20 employees, including for each name: function, department, e-mail, and preferred language (Dutch, French or English). \n",
    "                Have no more than 5 departments, and make sure all of the company activieties fall into those departments. \n",
    "                Do not return anything other than the json.\"\"\"}]}\n",
    "]\n",
    "result = get_response(prompt1)\n",
    "\n",
    "# Extract the answer\n",
    "clean_result = result.text[7:].strip()[:-3].strip()\n",
    "\n",
    "# create employee list, departments dict\n",
    "employee_data = json.loads(clean_result)\n",
    "print(\"Employees: \", employee_data)\n",
    "\n",
    "departments = {employee['department'] for employee in employee_data}\n",
    "print(\"Departments: \", departments)\n",
    "## add data to include a description to departments (Tavily/Google search for Proximus company structure)"
   ]
  },
  {
   "cell_type": "markdown",
   "metadata": {},
   "source": [
    "### Create list of senders"
   ]
  },
  {
   "cell_type": "code",
   "execution_count": 15,
   "metadata": {},
   "outputs": [],
   "source": [
    "# Microsoft products\n",
    "\n",
    "# Local companies"
   ]
  },
  {
   "cell_type": "markdown",
   "metadata": {},
   "source": [
    "### Get company logos"
   ]
  },
  {
   "cell_type": "code",
   "execution_count": 32,
   "metadata": {},
   "outputs": [],
   "source": [
    "from tavily import TavilyClient\n",
    "import requests\n",
    "\n",
    "company_name = \"Proximus\"\n",
    "\n",
    "def get_logo(company_name):\n",
    "    \"\"\"Takes company name as an input, saves company logo to file\"\"\"\n",
    "    # Instantiating  TavilyClient\n",
    "    load_dotenv()\n",
    "    tavily_api_key = os.getenv(\"TAVILY_API_KEY\")\n",
    "    client = TavilyClient(api_key=tavily_api_key)\n",
    "    # Logo search (returns 5 logo urls, with description)\n",
    "    response = client.search(f\"{company_name} logo\", include_images=True, include_image_descriptions=True)\n",
    "    # Gemini picks a favourite\n",
    "    prompt3 = [\n",
    "        {\"parts\": [{\"text\": f\"\"\"From this list of dictionaries added after this, select the most recent company logo, according to the description. \n",
    "    Only return the link. {response['images']} \"\"\"}]}\n",
    "        ]\n",
    "    logo_url = (get_response(prompt3).text).strip()\n",
    "    # Retreive the image\n",
    "    image = requests.get(logo_url)\n",
    "    # Save to file\n",
    "    if image.status_code == 200:\n",
    "        file_extension = os.path.splitext(logo_url)[1]\n",
    "        with open(rf\"logos\\{company_name}{file_extension}\", \"wb\") as file:\n",
    "            file.write(image.content)\n",
    "    else:\n",
    "        print(f\"Failed to retrieve the image for {company_name}. Status code:\", image.status_code)\n",
    "\n",
    "\n",
    "get_logo(\"Proximus\")"
   ]
  },
  {
   "cell_type": "markdown",
   "metadata": {},
   "source": [
    "### Get date and time to include in prompt"
   ]
  },
  {
   "cell_type": "code",
   "execution_count": 17,
   "metadata": {},
   "outputs": [
    {
     "data": {
      "text/plain": [
       "'The current date and time is 2025-01-17 13:22:05.390546, today is a Friday.'"
      ]
     },
     "execution_count": 17,
     "metadata": {},
     "output_type": "execute_result"
    }
   ],
   "source": [
    "from datetime import datetime\n",
    "\n",
    "def get_datetime():\n",
    "    current_datetime = datetime.now()\n",
    "    day_of_week_str = current_datetime.strftime(\"%A\")\n",
    "    return f\"The current date and time is {current_datetime}, today is a {day_of_week_str}.\"\n",
    "\n",
    "get_datetime()"
   ]
  }
 ],
 "metadata": {
  "kernelspec": {
   "display_name": "proxenv",
   "language": "python",
   "name": "python3"
  },
  "language_info": {
   "codemirror_mode": {
    "name": "ipython",
    "version": 3
   },
   "file_extension": ".py",
   "mimetype": "text/x-python",
   "name": "python",
   "nbconvert_exporter": "python",
   "pygments_lexer": "ipython3",
   "version": "3.12.6"
  }
 },
 "nbformat": 4,
 "nbformat_minor": 2
}
