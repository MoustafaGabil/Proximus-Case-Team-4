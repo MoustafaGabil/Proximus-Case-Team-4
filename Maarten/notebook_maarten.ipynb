{
 "cells": [
  {
   "cell_type": "code",
   "execution_count": 3,
   "metadata": {},
   "outputs": [
    {
     "ename": "ModuleNotFoundError",
     "evalue": "No module named 'google'",
     "output_type": "error",
     "traceback": [
      "\u001b[1;31m---------------------------------------------------------------------------\u001b[0m",
      "\u001b[1;31mModuleNotFoundError\u001b[0m                       Traceback (most recent call last)",
      "Cell \u001b[1;32mIn[3], line 3\u001b[0m\n\u001b[0;32m      1\u001b[0m \u001b[38;5;28;01mfrom\u001b[39;00m \u001b[38;5;21;01mdotenv\u001b[39;00m \u001b[38;5;28;01mimport\u001b[39;00m load_dotenv\n\u001b[0;32m      2\u001b[0m \u001b[38;5;28;01mimport\u001b[39;00m \u001b[38;5;21;01mos\u001b[39;00m\n\u001b[1;32m----> 3\u001b[0m \u001b[38;5;28;01mimport\u001b[39;00m \u001b[38;5;21;01mgoogle\u001b[39;00m\u001b[38;5;21;01m.\u001b[39;00m\u001b[38;5;21;01mgenerativeai\u001b[39;00m \u001b[38;5;28;01mas\u001b[39;00m \u001b[38;5;21;01mgenai\u001b[39;00m\n\u001b[0;32m      5\u001b[0m \u001b[38;5;66;03m# load and set API key\u001b[39;00m\n\u001b[0;32m      6\u001b[0m load_dotenv()\n",
      "\u001b[1;31mModuleNotFoundError\u001b[0m: No module named 'google'"
     ]
    }
   ],
   "source": [
    "from dotenv import load_dotenv\n",
    "import os\n",
    "import google.generativeai as genai\n",
    "\n",
    "# load and set API key\n",
    "load_dotenv()\n",
    "gemini_api_key = os.getenv(\"GEMINI_API_KEY\")\n",
    "\n",
    "# set up Gemini\n",
    "genai.configure(api_key=gemini_api_key)\n",
    "model = genai.GenerativeModel('gemini-1.5-flash')\n",
    "\n",
    "# standard prompt\n",
    "def get_response(prompt):\n",
    "    generation_config = genai.types.GenerationConfig(temperature=0.8)\n",
    "    response = model.generate_content(prompt, generation_config=generation_config)\n",
    "    return response"
   ]
  },
  {
   "cell_type": "code",
   "execution_count": 1,
   "metadata": {},
   "outputs": [
    {
     "ename": "NameError",
     "evalue": "name 'get_response' is not defined",
     "output_type": "error",
     "traceback": [
      "\u001b[1;31m---------------------------------------------------------------------------\u001b[0m",
      "\u001b[1;31mNameError\u001b[0m                                 Traceback (most recent call last)",
      "Cell \u001b[1;32mIn[1], line 10\u001b[0m\n\u001b[0;32m      3\u001b[0m \u001b[38;5;66;03m# Create employees\u001b[39;00m\n\u001b[0;32m      4\u001b[0m prompt1 \u001b[38;5;241m=\u001b[39m [\n\u001b[0;32m      5\u001b[0m     {\u001b[38;5;124m\"\u001b[39m\u001b[38;5;124mparts\u001b[39m\u001b[38;5;124m\"\u001b[39m: [{\u001b[38;5;124m\"\u001b[39m\u001b[38;5;124mtext\u001b[39m\u001b[38;5;124m\"\u001b[39m: \u001b[38;5;124m\"\"\"\u001b[39m\u001b[38;5;124mcreate fake employee data for a big Belgian telecom company (Proximus), and return as a json.\u001b[39m\n\u001b[0;32m      6\u001b[0m \u001b[38;5;124m                It should contain 20 employees, including for each name: function, department, and e-mail.\u001b[39m\n\u001b[0;32m      7\u001b[0m \u001b[38;5;124m                Make sure to have every department included. Do not return anything other than the json\u001b[39m\u001b[38;5;124m\"\"\"\u001b[39m}]}\n\u001b[0;32m      8\u001b[0m ]\n\u001b[1;32m---> 10\u001b[0m result \u001b[38;5;241m=\u001b[39m \u001b[43mget_response\u001b[49m(prompt1)\n\u001b[0;32m     12\u001b[0m \u001b[38;5;66;03m# Remove the markdown\u001b[39;00m\n\u001b[0;32m     13\u001b[0m clean_json \u001b[38;5;241m=\u001b[39m result\u001b[38;5;241m.\u001b[39mtext[\u001b[38;5;241m7\u001b[39m:]\u001b[38;5;241m.\u001b[39mstrip()[:\u001b[38;5;241m-\u001b[39m\u001b[38;5;241m3\u001b[39m]\u001b[38;5;241m.\u001b[39mstrip()\n",
      "\u001b[1;31mNameError\u001b[0m: name 'get_response' is not defined"
     ]
    }
   ],
   "source": [
    "import json\n",
    "\n",
    "# Create employees\n",
    "prompt1 = [\n",
    "    {\"parts\": [{\"text\": \"\"\"create fake employee data for a big Belgian telecom company (Proximus), and return as a json.\n",
    "                It should contain 20 employees, including for each name: function, department, and e-mail.\n",
    "                Make sure to have every department included. Do not return anything other than the json\"\"\"}]}\n",
    "]\n",
    "\n",
    "result = get_response(prompt1)\n",
    "\n",
    "# Remove the markdown\n",
    "clean_json = result.text[7:].strip()[:-3].strip()\n",
    "# convert to dict\n",
    "employee_data = json.loads(clean_json)\n",
    "print(employee_data)\n",
    "# get departments\n",
    "departments = {employee['department'] for employee in employee_data}\n",
    "print(departments)"
   ]
  },
  {
   "cell_type": "code",
   "execution_count": 48,
   "metadata": {},
   "outputs": [
    {
     "name": "stdout",
     "output_type": "stream",
     "text": [
      "I cannot directly access and browse the internet in real-time to gather specific client information for Proximus.  This kind of data is often kept confidential due to business agreements and competitive reasons.  Publicly available information about specific client relationships is rarely this detailed.\n",
      "\n",
      "To find this information, you would need to:\n",
      "\n",
      "1. **Check Proximus's website:** Look for a \"Clients\" or \"Case Studies\" section.  They may highlight some larger partnerships, but rarely with the level of detail you request.\n",
      "\n",
      "2. **Search news articles and press releases:** Use search engines (Google, Bing, etc.) and search for \"Proximus\" combined with keywords like \"[company name] partnership,\" \"[company name] Proximus,\" or \"[company name] contract.\" This might uncover announcements of collaborations, but the specifics will likely be limited.\n",
      "\n",
      "3. **Look at company websites:** Visit the websites of major Belgian companies.  If they have a \"Partners\" or \"Clients\" section, you might find Proximus listed.  However, the details of the service provided are unlikely to be revealed.\n",
      "\n",
      "4. **LinkedIn:** Search for employees at both Proximus and potential client companies.  Their profiles might mention collaborations, but again, rarely with the level of detail you need.\n",
      "\n",
      "Because of the confidentiality surrounding client relationships, obtaining a list of 20 companies with the requested level of detail is highly improbable using publicly available information alone.  Even finding 20 companies that *mention* a partnership with Proximus without details is a challenge.  The information is simply not generally publicized in this way.\n",
      "\n"
     ]
    }
   ],
   "source": [
    "prompt2 = [\n",
    "    {\"parts\": [{\"text\": f\"\"\"\n",
    "Search for publically available information on 20 companies who have Belgian telecom company Proximus as a client. For each of them, present a list containing:\n",
    "- The company name\n",
    "- The type of service they offer Proximus. when uncleat, describe their cooperation\n",
    "- when this cooperation starts/started. When unavailable, return 'Date unknown'.\n",
    "make sure the results are related to at least 5 departments from this list: {departments} \"\"\"}]}\n",
    "    ]\n",
    "\n",
    "result2 = get_response(prompt2)\n",
    "print(result2.text)"
   ]
  },
  {
   "cell_type": "code",
   "execution_count": 166,
   "metadata": {},
   "outputs": [
    {
     "name": "stderr",
     "output_type": "stream",
     "text": [
      "<string>:32: SyntaxWarning: invalid escape sequence '\\{'\n",
      "<>:32: SyntaxWarning: invalid escape sequence '\\{'\n",
      "<string>:32: SyntaxWarning: invalid escape sequence '\\{'\n",
      "<>:32: SyntaxWarning: invalid escape sequence '\\{'\n",
      "C:\\Users\\becod\\AppData\\Local\\Temp\\ipykernel_6968\\2541001120.py:32: SyntaxWarning: invalid escape sequence '\\{'\n",
      "  with open(f\"logos\\{company_name}{file_extension}\", \"wb\") as file:\n"
     ]
    },
    {
     "name": "stdout",
     "output_type": "stream",
     "text": [
      "[{'url': 'https://logos-world.net/wp-content/uploads/2023/04/Proximus-Logo.jpg', 'description': 'The design features a stylized, abstract symbol resembling interconnected loops in a rich purple color, accompanied by the text \"proximus\" in a bold, modern font.'}, {'url': 'https://logos-world.net/wp-content/uploads/2023/04/Proximus-Logo-History.jpg', 'description': 'The display showcases the evolution of the Proximus logo from 1994 to the present, highlighting four distinct designs used during different time periods.'}, {'url': 'https://logosdownload.com/logo/proximus-logo-1024.png', 'description': None}, {'url': 'http://img1.wikia.nocookie.net/__cb20141021140901/logopedia/images/8/8f/Proximus.png', 'description': 'The Proximus logo features the word \"proximus\" in a modern, stylized font, predominantly in purple, with an abstract design element that includes blue and white.'}, {'url': 'https://www.liblogo.com/img-logo/pr4107fca8-proximus-logo-file-proximus-logo-2014-svg-liblogo.png', 'description': 'The Proximus logo features the word \"proximus\" in bold purple text, with a stylized blue and aqua graphic forming a double-loop design in the middle.'}]\n",
      "https://logos-world.net/wp-content/uploads/2023/04/Proximus-Logo.jpg\n",
      ".jpg\n"
     ]
    }
   ],
   "source": [
    "from tavily import TavilyClient\n",
    "import requests\n",
    "\n",
    "company_name = \"Proximus\"\n",
    "\n",
    "# Instantiating  TavilyClient\n",
    "client = TavilyClient(api_key=\"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\")\n",
    "\n",
    "# Logo search query\n",
    "response = client.search(f\"{company_name} logo\", include_images=True, include_image_descriptions=True)\n",
    "\n",
    "print(response['images'])\n",
    "\n",
    "# Choose a logo url\n",
    "prompt3 = [\n",
    "    {\"parts\": [{\"text\": f\"\"\"\n",
    "From this list of dictionaries added after this, select the most recent company logo, according to the description. \n",
    "Only return the link. {response['images']} \"\"\"}]}\n",
    "    ]\n",
    "result3 = get_response(prompt3)\n",
    "image_url = str(result3.text).strip()\n",
    "print(image_url)\n",
    "\n",
    "# Save file extention\n",
    "file_extension = os.path.splitext(image_url)[1]\n",
    "print(file_extension)\n",
    "\n",
    "# Retreive and save the image\n",
    "image = requests.get(image_url)\n",
    "if image.status_code == 200:\n",
    "    # Open a file in write-binary mode and save the content\n",
    "    with open(f\"logos\\{company_name}{file_extension}\", \"wb\") as file:\n",
    "        file.write(image.content)\n",
    "else:\n",
    "    print(\"Failed to retrieve the image. Status code:\", image.status_code)"
   ]
  },
  {
   "cell_type": "code",
   "execution_count": 152,
   "metadata": {},
   "outputs": [
    {
     "name": "stdout",
     "output_type": "stream",
     "text": [
      "The current date and time is 2025-01-16 15:52:17.653709, today is a Thursday.\n"
     ]
    }
   ],
   "source": [
    "from datetime import datetime\n",
    "\n",
    "# Get the current date, time, and day of week\n",
    "current_datetime = datetime.now()\n",
    "day_of_week_str = current_datetime.strftime(\"%A\")\n",
    "\n",
    "print(f\"The current date and time is {current_datetime}, today is a {day_of_week_str}.\")"
   ]
  }
 ],
 "metadata": {
  "kernelspec": {
   "display_name": "Python 3",
   "language": "python",
   "name": "python3"
  },
  "language_info": {
   "codemirror_mode": {
    "name": "ipython",
    "version": 3
   },
   "file_extension": ".py",
   "mimetype": "text/x-python",
   "name": "python",
   "nbconvert_exporter": "python",
   "pygments_lexer": "ipython3",
   "version": "3.12.6"
  }
 },
 "nbformat": 4,
 "nbformat_minor": 2
}
