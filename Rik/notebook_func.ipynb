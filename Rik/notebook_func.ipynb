{
 "cells": [
  {
   "cell_type": "code",
   "execution_count": 38,
   "metadata": {},
   "outputs": [
    {
     "name": "stdout",
     "output_type": "stream",
     "text": [
      "I am a large language model, trained by Google.\n",
      "\n"
     ]
    }
   ],
   "source": [
    "from google import genai\n",
    "from google.genai import types\n",
    "from google.genai.types import GenerateContentConfig, Tool, FunctionDeclaration, ToolConfig, Content, Part, GenerateContentResponse\n",
    "from dotenv import load_dotenv\n",
    "from datetime import datetime\n",
    "import os\n",
    "\n",
    "# Load environment variables from the .env file\n",
    "load_dotenv()\n",
    "\n",
    "# Retrieve the API key from the .env file\n",
    "api_key = os.getenv('GEMINI_API_KEY')\n",
    "\n",
    "# Initialize the Google AI client\n",
    "client = genai.Client(api_key=api_key)\n",
    "\n",
    "# Generate content\n",
    "response = client.models.generate_content(\n",
    "    model='gemini-2.0-flash-exp', contents='What is your name?'\n",
    ")\n",
    "print(response.text)\n"
   ]
  },
  {
   "cell_type": "code",
   "execution_count": 39,
   "metadata": {},
   "outputs": [],
   "source": [
    "sys_instruction = \"\"\"You are an analyst that conducts company research.\n",
    "You are given a company name, and you will work on a company report. You have access\n",
    "to Google Search to look up company news, updates and metrics to write research reports. Feel free to plan your work and talk about it, but when you start writing the report,\n",
    "put a line of dashes (---) to demarcate the report itself, and say nothing else after\n",
    "the report has finished..\"\"\"\n",
    "\n",
    "user_prompt= \"\"\"When given a company name, identify key aspects to research, look up that information\n",
    "and then write a concise company report.\n",
    "\n",
    "Add to the report a link to the most recent company logo, the company colors in rgb, a summary of companies who offer services to them, a comprehensive summary of the key and their roles in the company, a summary of departments of the company. \n",
    "\n",
    "Add in the end the current date, without using google search\"\"\"\n",
    "\n",
    "\n"
   ]
  },
  {
   "cell_type": "code",
   "execution_count": 40,
   "metadata": {},
   "outputs": [],
   "source": [
    "# Define the get_datetime function\n",
    "def get_datetime() -> str:\n",
    "    \"\"\"\n",
    "    Get the current date and time along with the day of the week.\n",
    "\n",
    "    Returns:\n",
    "        str: A formatted string containing the current date, time, \n",
    "        and the day of the week.\n",
    "    \"\"\"\n",
    "    current_datetime: datetime = datetime.now()\n",
    "    day_of_week_str: str = current_datetime.strftime(\"%A\")\n",
    "    return f\"The current date and time is {current_datetime}, today is a {day_of_week_str}.\"\n",
    "\n",
    "\n",
    "# Define the schema for the get_datetime function\n",
    "get_datetime_schema = {\n",
    "    \"name\": \"get_datetime\",\n",
    "    \"description\": \"Get the current date and time along with the day of the week.\",\n",
    "    \"parameters\": {\n",
    "        \"type\": \"object\",\n",
    "        \"properties\": {},\n",
    "        \"required\": []\n",
    "    },\n",
    "    \"return_type\": \"string\",\n",
    "}\n",
    "\n",
    "# Function declaration for get_datetime\n",
    "get_datetime_func = FunctionDeclaration.from_function(func=get_datetime, client=client)"
   ]
  },
  {
   "cell_type": "code",
   "execution_count": 41,
   "metadata": {},
   "outputs": [],
   "source": [
    "tools=Tool(google_search={}, function_declarations=[get_datetime_func])"
   ]
  },
  {
   "cell_type": "code",
   "execution_count": 42,
   "metadata": {},
   "outputs": [],
   "source": [
    "config = GenerateContentConfig(system_instruction=sys_instruction, tools=[tools], temperature=0,maxOutputTokens=4000)"
   ]
  },
  {
   "cell_type": "code",
   "execution_count": 43,
   "metadata": {},
   "outputs": [],
   "source": [
    "MODEL = \"gemini-2.0-flash-exp\"\n",
    "COMPANY = 'Proximus'"
   ]
  },
  {
   "cell_type": "code",
   "execution_count": 46,
   "metadata": {},
   "outputs": [
    {
     "ename": "ValueError",
     "evalue": "GenerateContentResponse.text only supports text parts, but got function_call partvideo_metadata=None thought=None code_execution_result=None executable_code=None file_data=None function_call=FunctionCall(id=None, args={}, name='get_datetime') function_response=None inline_data=None text=None",
     "output_type": "error",
     "traceback": [
      "\u001b[1;31m---------------------------------------------------------------------------\u001b[0m",
      "\u001b[1;31mValueError\u001b[0m                                Traceback (most recent call last)",
      "Cell \u001b[1;32mIn[46], line 4\u001b[0m\n\u001b[0;32m      1\u001b[0m response \u001b[38;5;241m=\u001b[39m client\u001b[38;5;241m.\u001b[39mmodels\u001b[38;5;241m.\u001b[39mgenerate_content(\n\u001b[0;32m      2\u001b[0m     model\u001b[38;5;241m=\u001b[39mMODEL, config\u001b[38;5;241m=\u001b[39mconfig, contents\u001b[38;5;241m=\u001b[39m[COMPANY])\n\u001b[1;32m----> 4\u001b[0m \u001b[38;5;28mprint\u001b[39m(\u001b[43mresponse\u001b[49m\u001b[38;5;241;43m.\u001b[39;49m\u001b[43mtext\u001b[49m)\n",
      "File \u001b[1;32mc:\\Users\\Rik\\Desktop\\Proximus-Case-Team-4\\proximus\\lib\\site-packages\\google\\genai\\types.py:2485\u001b[0m, in \u001b[0;36mGenerateContentResponse.text\u001b[1;34m(self)\u001b[0m\n\u001b[0;32m   2481\u001b[0m \u001b[38;5;28;01mfor\u001b[39;00m field_name, field_value \u001b[38;5;129;01min\u001b[39;00m part\u001b[38;5;241m.\u001b[39mdict(\n\u001b[0;32m   2482\u001b[0m     exclude\u001b[38;5;241m=\u001b[39m{\u001b[38;5;124m\"\u001b[39m\u001b[38;5;124mtext\u001b[39m\u001b[38;5;124m\"\u001b[39m, \u001b[38;5;124m\"\u001b[39m\u001b[38;5;124mthought\u001b[39m\u001b[38;5;124m\"\u001b[39m}\n\u001b[0;32m   2483\u001b[0m )\u001b[38;5;241m.\u001b[39mitems():\n\u001b[0;32m   2484\u001b[0m   \u001b[38;5;28;01mif\u001b[39;00m field_value \u001b[38;5;129;01mis\u001b[39;00m \u001b[38;5;129;01mnot\u001b[39;00m \u001b[38;5;28;01mNone\u001b[39;00m:\n\u001b[1;32m-> 2485\u001b[0m     \u001b[38;5;28;01mraise\u001b[39;00m \u001b[38;5;167;01mValueError\u001b[39;00m(\n\u001b[0;32m   2486\u001b[0m         \u001b[38;5;124m\"\u001b[39m\u001b[38;5;124mGenerateContentResponse.text only supports text parts, but got\u001b[39m\u001b[38;5;124m\"\u001b[39m\n\u001b[0;32m   2487\u001b[0m         \u001b[38;5;124mf\u001b[39m\u001b[38;5;124m\"\u001b[39m\u001b[38;5;124m \u001b[39m\u001b[38;5;132;01m{\u001b[39;00mfield_name\u001b[38;5;132;01m}\u001b[39;00m\u001b[38;5;124m part\u001b[39m\u001b[38;5;132;01m{\u001b[39;00mpart\u001b[38;5;132;01m}\u001b[39;00m\u001b[38;5;124m\"\u001b[39m\n\u001b[0;32m   2488\u001b[0m     )\n\u001b[0;32m   2489\u001b[0m \u001b[38;5;28;01mif\u001b[39;00m \u001b[38;5;28misinstance\u001b[39m(part\u001b[38;5;241m.\u001b[39mtext, \u001b[38;5;28mstr\u001b[39m):\n\u001b[0;32m   2490\u001b[0m   \u001b[38;5;28;01mif\u001b[39;00m \u001b[38;5;28misinstance\u001b[39m(part\u001b[38;5;241m.\u001b[39mthought, \u001b[38;5;28mbool\u001b[39m) \u001b[38;5;129;01mand\u001b[39;00m part\u001b[38;5;241m.\u001b[39mthought:\n",
      "\u001b[1;31mValueError\u001b[0m: GenerateContentResponse.text only supports text parts, but got function_call partvideo_metadata=None thought=None code_execution_result=None executable_code=None file_data=None function_call=FunctionCall(id=None, args={}, name='get_datetime') function_response=None inline_data=None text=None"
     ]
    }
   ],
   "source": [
    "response = client.models.generate_content(\n",
    "    model=MODEL, config=config, contents=[COMPANY])\n",
    "\n",
    "print(response.text)\n"
   ]
  }
 ],
 "metadata": {
  "kernelspec": {
   "display_name": "proximus",
   "language": "python",
   "name": "python3"
  },
  "language_info": {
   "codemirror_mode": {
    "name": "ipython",
    "version": 3
   },
   "file_extension": ".py",
   "mimetype": "text/x-python",
   "name": "python",
   "nbconvert_exporter": "python",
   "pygments_lexer": "ipython3",
   "version": "3.10.11"
  }
 },
 "nbformat": 4,
 "nbformat_minor": 2
}
