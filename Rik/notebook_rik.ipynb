{
 "cells": [
  {
   "cell_type": "code",
   "execution_count": 29,
   "metadata": {},
   "outputs": [
    {
     "name": "stdout",
     "output_type": "stream",
     "text": [
      "cold\n",
      "\n"
     ]
    }
   ],
   "source": [
    "import google.generativeai as genai\n",
    "from dotenv import load_dotenv\n",
    "import os\n",
    "\n",
    "load_dotenv()\n",
    "\n",
    "gemini_api_key = os.getenv(\"GEMINI_API_KEY\")\n",
    "\n",
    "genai.configure(api_key=gemini_api_key)\n",
    "\n",
    "model = genai.GenerativeModel('gemini-1.5-flash')\n",
    "response = model.generate_content(\"The opposite of hot is\")\n",
    "print(response.text)\n",
    "\n"
   ]
  },
  {
   "cell_type": "code",
   "execution_count": 30,
   "metadata": {},
   "outputs": [
    {
     "name": "stdout",
     "output_type": "stream",
     "text": [
      "model_info.input_token_limit=1000000\n",
      "model_info.output_token_limit=8192\n"
     ]
    }
   ],
   "source": [
    "model_info = genai.get_model(\"models/gemini-1.5-flash\")\n",
    "\n",
    "print(f\"{model_info.input_token_limit=}\")\n",
    "print(f\"{model_info.output_token_limit=}\")"
   ]
  },
  {
   "cell_type": "code",
   "execution_count": 31,
   "metadata": {},
   "outputs": [],
   "source": [
    "system_prompt = (\n",
    "    \"You are an advanced AI model assisting in generating emails. \"\n",
    "    \"Your responses should be realistic, role-specific, and in an html style format. \"\n",
    "    \"Ensure emails are non-malicious and explicitly designed get maximum of engagement and are optimized for Clickthrough rate. \"\n",
    ")"
   ]
  },
  {
   "cell_type": "code",
   "execution_count": 32,
   "metadata": {},
   "outputs": [],
   "source": [
    "proximus_employees = {\n",
    "    \"Proximus employees\": [\n",
    "        {\"name\": \"Shyam\", \"email\": \"shyamjaiswal@gmail.com\", \"role\": \"Software Engineer\"},\n",
    "        {\"name\": \"Bob\", \"email\": \"bob32@gmail.com\", \"role\": \"Network Specialist\"},\n",
    "        {\"name\": \"Jai\", \"email\": \"jai87@gmail.com\", \"role\": \"System Administrator\"},\n",
    "        {\"name\": \"Marie\", \"email\": \"marie.declercq@proximus.be\", \"role\": \"Data Analyst\"},\n",
    "        {\"name\": \"Luc\", \"email\": \"luc.vandenberg@proximus.be\", \"role\": \"Cybersecurity Specialist\"},\n",
    "        {\"name\": \"Sofie\", \"email\": \"sofie.peeters@proximus.be\", \"role\": \"Sales Manager\"},\n",
    "        {\"name\": \"Jan\", \"email\": \"jan.dumont@proximus.be\", \"role\": \"Project Manager\"},\n",
    "        {\"name\": \"Lotte\", \"email\": \"lotte.vermeulen@proximus.be\", \"role\": \"HR Specialist\"},\n",
    "        {\"name\": \"Bart\", \"email\": \"bart.vanhoof@proximus.be\", \"role\": \"Cloud Engineer\"},\n",
    "        {\"name\": \"Emma\", \"email\": \"emma.wouters@proximus.be\", \"role\": \"Marketing Specialist\"}\n",
    "    ]\n",
    "}\n",
    "\n",
    "\n"
   ]
  },
  {
   "cell_type": "code",
   "execution_count": 33,
   "metadata": {},
   "outputs": [],
   "source": [
    "def create_user_prompt(name, role):\n",
    "    base_prompt = (\n",
    "        f\"Generate an email targeting a {role}. \"\n",
    "        f\"The email should appear urgent and relevant to their role. \"\n",
    "        f\"Address the recipient as '{name}' and make it convincing. \"\n",
    "        f\"Include a reason for clicking a link or downloading an attachment and include the link.\"\n",
    "        f\"The Sender Address is who the email come from. It’s one of the first things a recipient sees, and it needs to match the theme of the email. For example, if you’re sending an email from a bank, the sender address should use a display name that includes the bank's name. The email address could use a domain that closely resembles the bank’s domain, an unrelated domain with a similar local-part, or a domain that replicates the bank’s domain\"\n",
    "        f\"The subject needs to match what is in both the sender's address and email body. For example, if the email is a notification from a bank, the sender's display name might include the word Notification, and the subject line should reflect similar themes for consistency.\"\n",
    "        f\"Once a recipient has clicked on the email, it’s time for the email body to do its work. The email body needs to entice the recipient to perform some action, such as clicking on a link or downloading an attachment.To entice the recipient, the email body will typically include urgency while also exuding legitimacy. On the surface, the email body needs to give the recipient no reason to question its legitimacy. The email body should include elements of personalization, use of logos, and official wording.\"\n",
    "        f\"The payload could be an attachment, a link, or even a request for a response. Everything about the sender address, subject line, and email body is crafted and styled to encourage the recipient to interact with the payload. Once interaction occurs, the email's objective is achieved.\"\n",
    "        f\"remove any disclaimer or reference to phishing\"\n",
    "    )\n",
    "    return base_prompt"
   ]
  },
  {
   "cell_type": "code",
   "execution_count": 34,
   "metadata": {},
   "outputs": [],
   "source": [
    "import pandas as pd\n",
    "import openpyxl\n",
    "\n",
    "# Convert .xlsx to .csv\n",
    "input_file = \"mail_ex.xlsx\"\n",
    "output_file = \"mail_ex.csv\"\n",
    "\n",
    "df = pd.read_excel(input_file)\n",
    "df.to_csv(output_file, index=False)"
   ]
  },
  {
   "cell_type": "code",
   "execution_count": 35,
   "metadata": {},
   "outputs": [
    {
     "ename": "InvalidArgument",
     "evalue": "400 Unsupported MIME type: application/vnd.ms-excel",
     "output_type": "error",
     "traceback": [
      "\u001b[1;31m---------------------------------------------------------------------------\u001b[0m",
      "\u001b[1;31m_InactiveRpcError\u001b[0m                         Traceback (most recent call last)",
      "File \u001b[1;32mc:\\Users\\Rik\\Desktop\\Proximus-Case-Team-4\\proximus\\lib\\site-packages\\google\\api_core\\grpc_helpers.py:76\u001b[0m, in \u001b[0;36m_wrap_unary_errors.<locals>.error_remapped_callable\u001b[1;34m(*args, **kwargs)\u001b[0m\n\u001b[0;32m     75\u001b[0m \u001b[38;5;28;01mtry\u001b[39;00m:\n\u001b[1;32m---> 76\u001b[0m     \u001b[38;5;28;01mreturn\u001b[39;00m callable_(\u001b[38;5;241m*\u001b[39margs, \u001b[38;5;241m*\u001b[39m\u001b[38;5;241m*\u001b[39mkwargs)\n\u001b[0;32m     77\u001b[0m \u001b[38;5;28;01mexcept\u001b[39;00m grpc\u001b[38;5;241m.\u001b[39mRpcError \u001b[38;5;28;01mas\u001b[39;00m exc:\n",
      "File \u001b[1;32mc:\\Users\\Rik\\Desktop\\Proximus-Case-Team-4\\proximus\\lib\\site-packages\\grpc\\_channel.py:1181\u001b[0m, in \u001b[0;36m_UnaryUnaryMultiCallable.__call__\u001b[1;34m(self, request, timeout, metadata, credentials, wait_for_ready, compression)\u001b[0m\n\u001b[0;32m   1175\u001b[0m (\n\u001b[0;32m   1176\u001b[0m     state,\n\u001b[0;32m   1177\u001b[0m     call,\n\u001b[0;32m   1178\u001b[0m ) \u001b[38;5;241m=\u001b[39m \u001b[38;5;28mself\u001b[39m\u001b[38;5;241m.\u001b[39m_blocking(\n\u001b[0;32m   1179\u001b[0m     request, timeout, metadata, credentials, wait_for_ready, compression\n\u001b[0;32m   1180\u001b[0m )\n\u001b[1;32m-> 1181\u001b[0m \u001b[38;5;28;01mreturn\u001b[39;00m \u001b[43m_end_unary_response_blocking\u001b[49m\u001b[43m(\u001b[49m\u001b[43mstate\u001b[49m\u001b[43m,\u001b[49m\u001b[43m \u001b[49m\u001b[43mcall\u001b[49m\u001b[43m,\u001b[49m\u001b[43m \u001b[49m\u001b[38;5;28;43;01mFalse\u001b[39;49;00m\u001b[43m,\u001b[49m\u001b[43m \u001b[49m\u001b[38;5;28;43;01mNone\u001b[39;49;00m\u001b[43m)\u001b[49m\n",
      "File \u001b[1;32mc:\\Users\\Rik\\Desktop\\Proximus-Case-Team-4\\proximus\\lib\\site-packages\\grpc\\_channel.py:1006\u001b[0m, in \u001b[0;36m_end_unary_response_blocking\u001b[1;34m(state, call, with_call, deadline)\u001b[0m\n\u001b[0;32m   1005\u001b[0m \u001b[38;5;28;01melse\u001b[39;00m:\n\u001b[1;32m-> 1006\u001b[0m     \u001b[38;5;28;01mraise\u001b[39;00m _InactiveRpcError(state)\n",
      "\u001b[1;31m_InactiveRpcError\u001b[0m: <_InactiveRpcError of RPC that terminated with:\n\tstatus = StatusCode.INVALID_ARGUMENT\n\tdetails = \"Unsupported MIME type: application/vnd.ms-excel\"\n\tdebug_error_string = \"UNKNOWN:Error received from peer ipv4:108.177.15.95:443 {grpc_message:\"Unsupported MIME type: application/vnd.ms-excel\", grpc_status:3, created_time:\"2025-01-17T08:12:22.1561626+00:00\"}\"\n>",
      "\nThe above exception was the direct cause of the following exception:\n",
      "\u001b[1;31mInvalidArgument\u001b[0m                           Traceback (most recent call last)",
      "Cell \u001b[1;32mIn[35], line 5\u001b[0m\n\u001b[0;32m      1\u001b[0m \u001b[38;5;28;01mfrom\u001b[39;00m\u001b[38;5;250m \u001b[39m\u001b[38;5;21;01mgoogle\u001b[39;00m\u001b[38;5;21;01m.\u001b[39;00m\u001b[38;5;21;01mgenerativeai\u001b[39;00m\u001b[38;5;250m \u001b[39m\u001b[38;5;28;01mimport\u001b[39;00m caching\n\u001b[0;32m      3\u001b[0m upload_context \u001b[38;5;241m=\u001b[39m genai\u001b[38;5;241m.\u001b[39mupload_file(path\u001b[38;5;241m=\u001b[39m\u001b[38;5;124m\"\u001b[39m\u001b[38;5;124mmail_ex.csv\u001b[39m\u001b[38;5;124m\"\u001b[39m)\n\u001b[1;32m----> 5\u001b[0m cache \u001b[38;5;241m=\u001b[39m \u001b[43mcaching\u001b[49m\u001b[38;5;241;43m.\u001b[39;49m\u001b[43mCachedContent\u001b[49m\u001b[38;5;241;43m.\u001b[39;49m\u001b[43mcreate\u001b[49m\u001b[43m(\u001b[49m\u001b[43mmodel\u001b[49m\u001b[38;5;241;43m=\u001b[39;49m\u001b[38;5;124;43m'\u001b[39;49m\u001b[38;5;124;43mgemini-1.5-flash-001\u001b[39;49m\u001b[38;5;124;43m'\u001b[39;49m\u001b[43m,\u001b[49m\u001b[43m \u001b[49m\u001b[43mdisplay_name\u001b[49m\u001b[38;5;241;43m=\u001b[39;49m\u001b[38;5;124;43m'\u001b[39;49m\u001b[38;5;124;43mmails_examples\u001b[39;49m\u001b[38;5;124;43m'\u001b[39;49m\u001b[43m,\u001b[49m\u001b[43m \u001b[49m\u001b[43msystem_instruction\u001b[49m\u001b[38;5;241;43m=\u001b[39;49m\u001b[43msystem_prompt\u001b[49m\u001b[43m,\u001b[49m\u001b[43m \u001b[49m\u001b[43mcontents\u001b[49m\u001b[38;5;241;43m=\u001b[39;49m\u001b[43m[\u001b[49m\u001b[43mupload_context\u001b[49m\u001b[43m]\u001b[49m\u001b[43m)\u001b[49m\n",
      "File \u001b[1;32mc:\\Users\\Rik\\Desktop\\Proximus-Case-Team-4\\proximus\\lib\\site-packages\\google\\generativeai\\caching.py:219\u001b[0m, in \u001b[0;36mCachedContent.create\u001b[1;34m(cls, model, display_name, system_instruction, contents, tools, tool_config, ttl, expire_time)\u001b[0m\n\u001b[0;32m    206\u001b[0m client \u001b[38;5;241m=\u001b[39m get_default_cache_client()\n\u001b[0;32m    208\u001b[0m request \u001b[38;5;241m=\u001b[39m \u001b[38;5;28mcls\u001b[39m\u001b[38;5;241m.\u001b[39m_prepare_create_request(\n\u001b[0;32m    209\u001b[0m     model\u001b[38;5;241m=\u001b[39mmodel,\n\u001b[0;32m    210\u001b[0m     display_name\u001b[38;5;241m=\u001b[39mdisplay_name,\n\u001b[1;32m   (...)\u001b[0m\n\u001b[0;32m    216\u001b[0m     expire_time\u001b[38;5;241m=\u001b[39mexpire_time,\n\u001b[0;32m    217\u001b[0m )\n\u001b[1;32m--> 219\u001b[0m response \u001b[38;5;241m=\u001b[39m \u001b[43mclient\u001b[49m\u001b[38;5;241;43m.\u001b[39;49m\u001b[43mcreate_cached_content\u001b[49m\u001b[43m(\u001b[49m\u001b[43mrequest\u001b[49m\u001b[43m)\u001b[49m\n\u001b[0;32m    220\u001b[0m result \u001b[38;5;241m=\u001b[39m CachedContent\u001b[38;5;241m.\u001b[39m_from_obj(response)\n\u001b[0;32m    221\u001b[0m \u001b[38;5;28;01mreturn\u001b[39;00m result\n",
      "File \u001b[1;32mc:\\Users\\Rik\\Desktop\\Proximus-Case-Team-4\\proximus\\lib\\site-packages\\google\\ai\\generativelanguage_v1beta\\services\\cache_service\\client.py:876\u001b[0m, in \u001b[0;36mCacheServiceClient.create_cached_content\u001b[1;34m(self, request, cached_content, retry, timeout, metadata)\u001b[0m\n\u001b[0;32m    873\u001b[0m \u001b[38;5;28mself\u001b[39m\u001b[38;5;241m.\u001b[39m_validate_universe_domain()\n\u001b[0;32m    875\u001b[0m \u001b[38;5;66;03m# Send the request.\u001b[39;00m\n\u001b[1;32m--> 876\u001b[0m response \u001b[38;5;241m=\u001b[39m \u001b[43mrpc\u001b[49m\u001b[43m(\u001b[49m\n\u001b[0;32m    877\u001b[0m \u001b[43m    \u001b[49m\u001b[43mrequest\u001b[49m\u001b[43m,\u001b[49m\n\u001b[0;32m    878\u001b[0m \u001b[43m    \u001b[49m\u001b[43mretry\u001b[49m\u001b[38;5;241;43m=\u001b[39;49m\u001b[43mretry\u001b[49m\u001b[43m,\u001b[49m\n\u001b[0;32m    879\u001b[0m \u001b[43m    \u001b[49m\u001b[43mtimeout\u001b[49m\u001b[38;5;241;43m=\u001b[39;49m\u001b[43mtimeout\u001b[49m\u001b[43m,\u001b[49m\n\u001b[0;32m    880\u001b[0m \u001b[43m    \u001b[49m\u001b[43mmetadata\u001b[49m\u001b[38;5;241;43m=\u001b[39;49m\u001b[43mmetadata\u001b[49m\u001b[43m,\u001b[49m\n\u001b[0;32m    881\u001b[0m \u001b[43m\u001b[49m\u001b[43m)\u001b[49m\n\u001b[0;32m    883\u001b[0m \u001b[38;5;66;03m# Done; return the response.\u001b[39;00m\n\u001b[0;32m    884\u001b[0m \u001b[38;5;28;01mreturn\u001b[39;00m response\n",
      "File \u001b[1;32mc:\\Users\\Rik\\Desktop\\Proximus-Case-Team-4\\proximus\\lib\\site-packages\\google\\api_core\\gapic_v1\\method.py:131\u001b[0m, in \u001b[0;36m_GapicCallable.__call__\u001b[1;34m(self, timeout, retry, compression, *args, **kwargs)\u001b[0m\n\u001b[0;32m    128\u001b[0m \u001b[38;5;28;01mif\u001b[39;00m \u001b[38;5;28mself\u001b[39m\u001b[38;5;241m.\u001b[39m_compression \u001b[38;5;129;01mis\u001b[39;00m \u001b[38;5;129;01mnot\u001b[39;00m \u001b[38;5;28;01mNone\u001b[39;00m:\n\u001b[0;32m    129\u001b[0m     kwargs[\u001b[38;5;124m\"\u001b[39m\u001b[38;5;124mcompression\u001b[39m\u001b[38;5;124m\"\u001b[39m] \u001b[38;5;241m=\u001b[39m compression\n\u001b[1;32m--> 131\u001b[0m \u001b[38;5;28;01mreturn\u001b[39;00m wrapped_func(\u001b[38;5;241m*\u001b[39margs, \u001b[38;5;241m*\u001b[39m\u001b[38;5;241m*\u001b[39mkwargs)\n",
      "File \u001b[1;32mc:\\Users\\Rik\\Desktop\\Proximus-Case-Team-4\\proximus\\lib\\site-packages\\google\\api_core\\grpc_helpers.py:78\u001b[0m, in \u001b[0;36m_wrap_unary_errors.<locals>.error_remapped_callable\u001b[1;34m(*args, **kwargs)\u001b[0m\n\u001b[0;32m     76\u001b[0m     \u001b[38;5;28;01mreturn\u001b[39;00m callable_(\u001b[38;5;241m*\u001b[39margs, \u001b[38;5;241m*\u001b[39m\u001b[38;5;241m*\u001b[39mkwargs)\n\u001b[0;32m     77\u001b[0m \u001b[38;5;28;01mexcept\u001b[39;00m grpc\u001b[38;5;241m.\u001b[39mRpcError \u001b[38;5;28;01mas\u001b[39;00m exc:\n\u001b[1;32m---> 78\u001b[0m     \u001b[38;5;28;01mraise\u001b[39;00m exceptions\u001b[38;5;241m.\u001b[39mfrom_grpc_error(exc) \u001b[38;5;28;01mfrom\u001b[39;00m\u001b[38;5;250m \u001b[39m\u001b[38;5;21;01mexc\u001b[39;00m\n",
      "\u001b[1;31mInvalidArgument\u001b[0m: 400 Unsupported MIME type: application/vnd.ms-excel"
     ]
    }
   ],
   "source": [
    "from google.generativeai import caching\n",
    "\n",
    "upload_context = genai.upload_file(path=\"mail_ex.csv\")\n",
    "\n",
    "cache = caching.CachedContent.create(model='gemini-1.5-flash-001', display_name='mails_examples', system_instruction=system_prompt, contents=[upload_context])"
   ]
  },
  {
   "cell_type": "code",
   "execution_count": 23,
   "metadata": {},
   "outputs": [],
   "source": [
    "model = genai.GenerativeModel(model_name='gemini-1.5-flash', system_instruction=system_prompt)\n",
    "\n",
    "generation_config = genai.GenerationConfig(stop_sequences=[\"\\n\\n\", \"--\"],max_output_tokens=400, temperature=0.7, top_p=0.9, top_k= 40, presence_penalty=0.7, frequency_penalty= 0.3)\n",
    "\n"
   ]
  },
  {
   "cell_type": "code",
   "execution_count": 24,
   "metadata": {},
   "outputs": [],
   "source": [
    "proximus_employees = {\n",
    "    \"Proximus employees\": [\n",
    "        {\"name\": \"Shyam\", \"email\": \"shyamjaiswal@gmail.com\", \"role\": \"Software Engineer\"}]}"
   ]
  },
  {
   "cell_type": "code",
   "execution_count": 25,
   "metadata": {},
   "outputs": [],
   "source": [
    "output_file = \"generated_emails.html\"\n",
    "\n",
    "for employee in proximus_employees[\"Proximus employees\"]:\n",
    "    name = employee[\"name\"]\n",
    "    role = employee[\"role\"]\n",
    "    email = employee[\"email\"]\n",
    "\n",
    "    # Generate the user prompt\n",
    "    user_prompt = create_user_prompt(name, role)\n",
    "\n",
    "    # Generate the response using the model\n",
    "    responses = model.generate_content(user_prompt,generation_config=generation_config)\n",
    "\n",
    "    # Process the response (e.g., print it or save it)\n",
    "    for response in responses:\n",
    "        email_content = response.text  # Assuming response.text contains HTML-formatted content\n",
    "        with open(output_file, \"a\") as f:\n",
    "            f.write(email_content + \"\\n\") "
   ]
  }
 ],
 "metadata": {
  "kernelspec": {
   "display_name": "Python 3",
   "language": "python",
   "name": "python3"
  },
  "language_info": {
   "codemirror_mode": {
    "name": "ipython",
    "version": 3
   },
   "file_extension": ".py",
   "mimetype": "text/x-python",
   "name": "python",
   "nbconvert_exporter": "python",
   "pygments_lexer": "ipython3",
   "version": "3.12.6"
  }
 },
 "nbformat": 4,
 "nbformat_minor": 2
}
