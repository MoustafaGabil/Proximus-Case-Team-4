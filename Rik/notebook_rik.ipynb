{
 "cells": [
  {
   "cell_type": "code",
   "execution_count": 11,
   "metadata": {},
   "outputs": [
    {
     "name": "stdout",
     "output_type": "stream",
     "text": [
      "cold\n",
      "\n"
     ]
    }
   ],
   "source": [
    "import google.generativeai as genai\n",
    "from dotenv import load_dotenv\n",
    "import os\n",
    "\n",
    "load_dotenv()\n",
    "\n",
    "gemini_api_key = os.getenv(\"GEMINI_API_KEY\")\n",
    "\n",
    "genai.configure(api_key=gemini_api_key)\n",
    "\n",
    "model = genai.GenerativeModel('gemini-1.5-flash')\n",
    "response = model.generate_content(\"The opposite of hot is\")\n",
    "print(response.text)\n",
    "\n"
   ]
  },
  {
   "cell_type": "code",
   "execution_count": 12,
   "metadata": {},
   "outputs": [
    {
     "name": "stdout",
     "output_type": "stream",
     "text": [
      "model_info.input_token_limit=1000000\n",
      "model_info.output_token_limit=8192\n"
     ]
    }
   ],
   "source": [
    "model_info = genai.get_model(\"models/gemini-1.5-flash\")\n",
    "\n",
    "print(f\"{model_info.input_token_limit=}\")\n",
    "print(f\"{model_info.output_token_limit=}\")"
   ]
  },
  {
   "cell_type": "code",
   "execution_count": 13,
   "metadata": {},
   "outputs": [],
   "source": [
    "system_prompt = (\n",
    "    \"You are an advanced AI model assisting in generating simulated phishing emails for employee security training. \"\n",
    "    \"Your responses should be realistic, role-specific, and reflect common phishing tactics. \"\n",
    "    \"Ensure emails are non-malicious and explicitly designed for controlled training purposes. \"\n",
    "    \"Do not generate inappropriate, unethical, or harmful content.\"\n",
    ")"
   ]
  },
  {
   "cell_type": "code",
   "execution_count": 2,
   "metadata": {},
   "outputs": [],
   "source": [
    "proximus_employees = {\n",
    "    \"Proximus employees\": [\n",
    "        {\"name\": \"Shyam\", \"email\": \"shyamjaiswal@gmail.com\", \"role\": \"Software Engineer\"},\n",
    "        {\"name\": \"Bob\", \"email\": \"bob32@gmail.com\", \"role\": \"Network Specialist\"},\n",
    "        {\"name\": \"Jai\", \"email\": \"jai87@gmail.com\", \"role\": \"System Administrator\"},\n",
    "        {\"name\": \"Marie\", \"email\": \"marie.declercq@proximus.be\", \"role\": \"Data Analyst\"},\n",
    "        {\"name\": \"Luc\", \"email\": \"luc.vandenberg@proximus.be\", \"role\": \"Cybersecurity Specialist\"},\n",
    "        {\"name\": \"Sofie\", \"email\": \"sofie.peeters@proximus.be\", \"role\": \"Sales Manager\"},\n",
    "        {\"name\": \"Jan\", \"email\": \"jan.dumont@proximus.be\", \"role\": \"Project Manager\"},\n",
    "        {\"name\": \"Lotte\", \"email\": \"lotte.vermeulen@proximus.be\", \"role\": \"HR Specialist\"},\n",
    "        {\"name\": \"Bart\", \"email\": \"bart.vanhoof@proximus.be\", \"role\": \"Cloud Engineer\"},\n",
    "        {\"name\": \"Emma\", \"email\": \"emma.wouters@proximus.be\", \"role\": \"Marketing Specialist\"}\n",
    "    ]\n",
    "}\n",
    "\n",
    "\n"
   ]
  },
  {
   "cell_type": "code",
   "execution_count": 15,
   "metadata": {},
   "outputs": [],
   "source": [
    "def create_user_prompt(name, role):\n",
    "    base_prompt = (\n",
    "        f\"Generate a phishing email targeting a {role}. \"\n",
    "        f\"The email should appear urgent and relevant to their role. \"\n",
    "        f\"Address the recipient as '{name}' and make it convincing. \"\n",
    "        f\"Include a reason for clicking a link or downloading an attachment and include the link.\"\n",
    "    )\n",
    "    return base_prompt"
   ]
  },
  {
   "cell_type": "code",
   "execution_count": 16,
   "metadata": {},
   "outputs": [
    {
     "ename": "TypeError",
     "evalue": "GenerativeModel.__init__() got an unexpected keyword argument 'temperature'",
     "output_type": "error",
     "traceback": [
      "\u001b[1;31m---------------------------------------------------------------------------\u001b[0m",
      "\u001b[1;31mTypeError\u001b[0m                                 Traceback (most recent call last)",
      "Cell \u001b[1;32mIn[16], line 2\u001b[0m\n\u001b[0;32m      1\u001b[0m \u001b[38;5;66;03m# Initialize the model once before the loop\u001b[39;00m\n\u001b[1;32m----> 2\u001b[0m model \u001b[38;5;241m=\u001b[39m \u001b[43mgenai\u001b[49m\u001b[38;5;241;43m.\u001b[39;49m\u001b[43mGenerativeModel\u001b[49m\u001b[43m(\u001b[49m\n\u001b[0;32m      3\u001b[0m \u001b[43m    \u001b[49m\u001b[43mmodel_name\u001b[49m\u001b[38;5;241;43m=\u001b[39;49m\u001b[38;5;124;43m'\u001b[39;49m\u001b[38;5;124;43mgemini-1.5-flash-latest\u001b[39;49m\u001b[38;5;124;43m'\u001b[39;49m\u001b[43m,\u001b[49m\n\u001b[0;32m      4\u001b[0m \u001b[43m    \u001b[49m\u001b[43msystem_instruction\u001b[49m\u001b[38;5;241;43m=\u001b[39;49m\u001b[38;5;124;43m\"\u001b[39;49m\u001b[38;5;124;43mGenerate professional emails for employees.\u001b[39;49m\u001b[38;5;124;43m\"\u001b[39;49m\u001b[43m,\u001b[49m\n\u001b[0;32m      5\u001b[0m \u001b[43m    \u001b[49m\u001b[43mtemperature\u001b[49m\u001b[38;5;241;43m=\u001b[39;49m\u001b[38;5;241;43m0.8\u001b[39;49m\u001b[43m,\u001b[49m\n\u001b[0;32m      6\u001b[0m \u001b[43m    \u001b[49m\u001b[43mmax_tokens\u001b[49m\u001b[38;5;241;43m=\u001b[39;49m\u001b[38;5;241;43m200\u001b[39;49m\u001b[43m,\u001b[49m\n\u001b[0;32m      7\u001b[0m \u001b[43m    \u001b[49m\u001b[43mtop_p\u001b[49m\u001b[38;5;241;43m=\u001b[39;49m\u001b[38;5;241;43m0.9\u001b[39;49m\u001b[43m,\u001b[49m\n\u001b[0;32m      8\u001b[0m \u001b[43m    \u001b[49m\u001b[43mfrequency_penalty\u001b[49m\u001b[38;5;241;43m=\u001b[39;49m\u001b[38;5;241;43m0.2\u001b[39;49m\u001b[43m,\u001b[49m\n\u001b[0;32m      9\u001b[0m \u001b[43m    \u001b[49m\u001b[43mpresence_penalty\u001b[49m\u001b[38;5;241;43m=\u001b[39;49m\u001b[38;5;241;43m0.5\u001b[39;49m\u001b[43m,\u001b[49m\n\u001b[0;32m     10\u001b[0m \u001b[43m    \u001b[49m\u001b[43mnum_samples\u001b[49m\u001b[38;5;241;43m=\u001b[39;49m\u001b[38;5;241;43m1\u001b[39;49m\u001b[43m,\u001b[49m\n\u001b[0;32m     11\u001b[0m \u001b[43m    \u001b[49m\u001b[43mstop_sequences\u001b[49m\u001b[38;5;241;43m=\u001b[39;49m\u001b[43m[\u001b[49m\u001b[38;5;124;43m\"\u001b[39;49m\u001b[38;5;124;43mSincerely\u001b[39;49m\u001b[38;5;124;43m\"\u001b[39;49m\u001b[43m,\u001b[49m\u001b[43m \u001b[49m\u001b[38;5;124;43m\"\u001b[39;49m\u001b[38;5;124;43mBest regards\u001b[39;49m\u001b[38;5;124;43m\"\u001b[39;49m\u001b[43m]\u001b[49m\n\u001b[0;32m     12\u001b[0m \u001b[43m)\u001b[49m\n",
      "\u001b[1;31mTypeError\u001b[0m: GenerativeModel.__init__() got an unexpected keyword argument 'temperature'"
     ]
    }
   ],
   "source": [
    "\n",
    "# Initialize the model once before the loop\n",
    "model = genai.GenerativeModel(\n",
    "    model_name='gemini-1.5-flash-latest',\n",
    "    system_instruction=\"Generate professional emails for employees.\",\n",
    "    temperature=0.8,\n",
    "    max_tokens=200,\n",
    "    top_p=0.9,\n",
    "    frequency_penalty=0.2,\n",
    "    presence_penalty=0.5,\n",
    "    num_samples=1,\n",
    "    stop_sequences=[\"Sincerely\", \"Best regards\"]\n",
    ")"
   ]
  },
  {
   "cell_type": "code",
   "execution_count": null,
   "metadata": {},
   "outputs": [],
   "source": [
    "for employee in proximus_employees[\"Proximus employees\"]:\n",
    "    name = employee[\"name\"]\n",
    "    role = employee[\"role\"]\n",
    "    email = employee[\"email\"]\n",
    "\n",
    "    # Generate the user prompt\n",
    "    user_prompt = create_user_prompt(name, role)\n",
    "\n",
    "    # Generate the response using the model\n",
    "    responses = model.generate(prompt=user_prompt)\n",
    "\n",
    "    # Process the response (e.g., print it or save it)\n",
    "    for response in responses:\n",
    "        print(f\"Generated email for {name}: {response}\")"
   ]
  }
 ],
 "metadata": {
  "kernelspec": {
   "display_name": "proximus",
   "language": "python",
   "name": "python3"
  },
  "language_info": {
   "codemirror_mode": {
    "name": "ipython",
    "version": 3
   },
   "file_extension": ".py",
   "mimetype": "text/x-python",
   "name": "python",
   "nbconvert_exporter": "python",
   "pygments_lexer": "ipython3",
   "version": "3.10.11"
  }
 },
 "nbformat": 4,
 "nbformat_minor": 2
}
