{
 "cells": [
  {
   "cell_type": "code",
   "execution_count": 685,
   "metadata": {},
   "outputs": [
    {
     "name": "stdout",
     "output_type": "stream",
     "text": [
      "I am a large language model, trained by Google.\n",
      "\n"
     ]
    }
   ],
   "source": [
    "from google import genai\n",
    "from dotenv import load_dotenv\n",
    "import os\n",
    "from google.genai.types import GenerateContentConfig, Tool\n",
    "import json\n",
    "import re\n",
    "import random as rd\n",
    "\n",
    "# Load environment variables from the .env file\n",
    "load_dotenv()\n",
    "\n",
    "# Retrieve the API key from the .env file\n",
    "api_key = os.getenv('GEMINI_API_KEY')\n",
    "\n",
    "# Initialize the Google AI client\n",
    "client = genai.Client(api_key=api_key)\n",
    "\n",
    "# Generate content\n",
    "response = client.models.generate_content(\n",
    "    model='gemini-2.0-flash-exp', contents='What is your name?'\n",
    ")\n",
    "print(response.text)\n",
    "\n",
    "\n"
   ]
  },
  {
   "cell_type": "markdown",
   "metadata": {},
   "source": [
    "*Function to extract Json of LLm output and save it to a file*"
   ]
  },
  {
   "cell_type": "code",
   "execution_count": 686,
   "metadata": {},
   "outputs": [],
   "source": [
    "def save_json_from_string(input_string, output_filename):\n",
    "    \"\"\"\n",
    "    Extracts JSON content from a string and saves it to a JSON file with the specified name.\n",
    "\n",
    "    :param input_string: The input string containing JSON data within brackets.\n",
    "    :param output_filename: The name of the output JSON file (e.g., \"data.json\").\n",
    "    :return: True if the operation was successful, False otherwise.\n",
    "    \"\"\"\n",
    "    # Step 1: Extract the JSON content within the brackets\n",
    "    result = re.search(r'\\[.*\\]', input_string, re.DOTALL)\n",
    "\n",
    "    if result:\n",
    "        extracted_content = result.group(0)  # Get the matched content\n",
    "\n",
    "        try:\n",
    "            # Step 2: Parse the extracted content into a Python object (list/dict)\n",
    "            json_data = json.loads(extracted_content)\n",
    "\n",
    "            # Step 3: Write the JSON data to a file\n",
    "            with open(output_filename, \"w\", encoding=\"utf-8\") as json_file:\n",
    "                json.dump(json_data, json_file, indent=4)  # Save with pretty formatting\n",
    "\n",
    "            print(f\"JSON data has been successfully written to '{output_filename}'.\")\n",
    "            return True  # Operation was successful\n",
    "        except json.JSONDecodeError as e:\n",
    "            print(f\"Error parsing JSON: {e}\")\n",
    "        except Exception as e:\n",
    "            print(f\"An error occurred while writing the file: {e}\")\n",
    "    else:\n",
    "        print(\"No content found within brackets.\")\n",
    "\n",
    "    return False  # Operation failed"
   ]
  },
  {
   "cell_type": "code",
   "execution_count": 687,
   "metadata": {},
   "outputs": [],
   "source": [
    "MODEL = \"gemini-2.0-flash-exp\""
   ]
  },
  {
   "cell_type": "code",
   "execution_count": 688,
   "metadata": {},
   "outputs": [],
   "source": [
    "\n",
    "COMPANY = 'Proximus'"
   ]
  },
  {
   "cell_type": "code",
   "execution_count": 689,
   "metadata": {},
   "outputs": [],
   "source": [
    "safety_settings = [\n",
    "    {\"category\": \"HARM_CATEGORY_HARASSMENT\", \"threshold\": \"BLOCK_NONE\"},\n",
    "    {\"category\": \"HARM_CATEGORY_HATE_SPEECH\", \"threshold\": \"BLOCK_NONE\"},\n",
    "    {\"category\": \"HARM_CATEGORY_SEXUALLY_EXPLICIT\", \"threshold\": \"BLOCK_NONE\"},\n",
    "    {\"category\": \"HARM_CATEGORY_DANGEROUS_CONTENT\", \"threshold\": \"BLOCK_NONE\"},\n",
    "]"
   ]
  },
  {
   "cell_type": "markdown",
   "metadata": {},
   "source": [
    "**1. SETTING UP A RESEARCH ASSISTANT** (temperature = 0, tools = google search)"
   ]
  },
  {
   "cell_type": "code",
   "execution_count": 690,
   "metadata": {},
   "outputs": [],
   "source": [
    "system_instruction = \"\"\"You are an analyst that conducts company research.\n",
    "You are given a company name, and you will work on a company report. You have access\n",
    "to Google Search to look up company news, updates, metrics, public records and linkedin pages to write research reports.\n",
    "\n",
    "When given a company name, identify key aspects to research, look up that information\n",
    "and then write an elaborate company report. \n",
    "\n",
    "Thoroughly plan your work in detail and steps, but avoid discussing it. Do not add any additional comments after finishing the report.\"\"\""
   ]
  },
  {
   "cell_type": "code",
   "execution_count": 691,
   "metadata": {},
   "outputs": [],
   "source": [
    "config = GenerateContentConfig(system_instruction=system_instruction, tools=[Tool(google_search={})], temperature=0,maxOutputTokens=8000, top_p=0.9, top_k=5, safety_settings=safety_settings)"
   ]
  },
  {
   "cell_type": "markdown",
   "metadata": {},
   "source": [
    "**Proximus News report**"
   ]
  },
  {
   "cell_type": "code",
   "execution_count": 692,
   "metadata": {},
   "outputs": [],
   "source": [
    "contents = f\"\"\"\n",
    "Write a report about {COMPANY}.\n",
    "\n",
    "The report should contain an extensive overview of the most important news facts of the last 2 weeks. \n",
    "\n",
    "The report should be written in this style example:\n",
    "\n",
    "Use this JSON schema:\n",
    "\n",
    "Proximus_news = {{'subject':str, 'overview':str, 'source':str}}\n",
    "Return: list[Proximus_news]\n",
    "\"\"\"\n",
    "\n",
    "response = client.models.generate_content(\n",
    "    model=MODEL, config=config, contents=contents)\n",
    "\n"
   ]
  },
  {
   "cell_type": "code",
   "execution_count": 693,
   "metadata": {},
   "outputs": [
    {
     "name": "stdout",
     "output_type": "stream",
     "text": [
      "JSON data has been successfully written to 'proximus_news.json'.\n"
     ]
    },
    {
     "data": {
      "text/plain": [
       "True"
      ]
     },
     "execution_count": 693,
     "metadata": {},
     "output_type": "execute_result"
    }
   ],
   "source": [
    "save_json_from_string(response.text, 'proximus_news.json')"
   ]
  },
  {
   "cell_type": "markdown",
   "metadata": {},
   "source": [
    "**Proximus Key Employees and Roles**"
   ]
  },
  {
   "cell_type": "code",
   "execution_count": 694,
   "metadata": {},
   "outputs": [],
   "source": [
    "contents = f\"\"\"\n",
    "Write a report about {COMPANY}\n",
    "\n",
    "The report should only contain a comprehensive summary of the employees in the company. \n",
    "\n",
    "The report should contain, the complete first name and family name, an email address with this structure \"first name.family name@{COMPANY}.be\" (put it all in lower case), the role that they have within the company and the department that they make part of.\n",
    "\n",
    "Do not include abbreviations in names, and exclude employees whose full first and last names cannot be found.\n",
    "\n",
    "Give me as much grounded names that you can find with your research and put them all in the report.\n",
    "\n",
    "The report should be written in this style example:\n",
    "\n",
    "Use this JSON schema:\n",
    "\n",
    "Proximus_employees = {{'first_name':str, 'family_name':str, 'role':str, 'department':str, 'email_address':str}}\n",
    "Return: list[Proximus_employees]\n",
    "\"\"\"\n",
    "\n",
    "response = client.models.generate_content(\n",
    "    model=MODEL, config=config, contents=contents)\n"
   ]
  },
  {
   "cell_type": "code",
   "execution_count": 695,
   "metadata": {},
   "outputs": [
    {
     "name": "stdout",
     "output_type": "stream",
     "text": [
      "JSON data has been successfully written to 'proximus_employees.json'.\n"
     ]
    },
    {
     "data": {
      "text/plain": [
       "True"
      ]
     },
     "execution_count": 695,
     "metadata": {},
     "output_type": "execute_result"
    }
   ],
   "source": [
    "save_json_from_string(response.text, 'proximus_employees.json')"
   ]
  },
  {
   "cell_type": "markdown",
   "metadata": {},
   "source": [
    "**Proximus Departments**"
   ]
  },
  {
   "cell_type": "code",
   "execution_count": 696,
   "metadata": {},
   "outputs": [],
   "source": [
    "contents = f\"\"\"\n",
    "\n",
    "Write a report about {COMPANY}\n",
    "\n",
    "The report should exclusively provide a detailed summary of the company's departments and their respective subdivisions, if any.\n",
    "\n",
    "Include in the report the full address where the headquarter of the provider is located, the main phone number and vat number.\n",
    "\n",
    "Do not include abbreviations in the report.\n",
    "\n",
    "Provide a detailed list, specifying only verified and public information. Do not include speculative or incomplete details.\n",
    "\n",
    "The report should be written in this style example:\n",
    "\n",
    "Use this JSON schema:\n",
    "\n",
    "Proximus_departments = {{'department':str, 'subdivision':list[str], 'address':str, 'phone':str, 'vat':str}}\n",
    "Return: list[Proximus_departments]\n",
    "\"\"\"\n",
    "\n",
    "response = client.models.generate_content(\n",
    "    model=MODEL, config=config, contents=contents)\n"
   ]
  },
  {
   "cell_type": "code",
   "execution_count": 697,
   "metadata": {},
   "outputs": [
    {
     "name": "stdout",
     "output_type": "stream",
     "text": [
      "JSON data has been successfully written to 'proximus_departments.json'.\n"
     ]
    },
    {
     "data": {
      "text/plain": [
       "True"
      ]
     },
     "execution_count": 697,
     "metadata": {},
     "output_type": "execute_result"
    }
   ],
   "source": [
    "save_json_from_string(response.text, 'proximus_departments.json')"
   ]
  },
  {
   "cell_type": "markdown",
   "metadata": {},
   "source": [
    "**Proximus Colors**"
   ]
  },
  {
   "cell_type": "code",
   "execution_count": 698,
   "metadata": {},
   "outputs": [],
   "source": [
    "contents = f\"\"\"\n",
    "\n",
    "Write a report about {COMPANY}\n",
    "\n",
    "The report should exclusively provide the main colors of Company's branding, including any official color codes such as HEX or RGB. Focus on the primary colors used in the company's logo and website.\n",
    "\n",
    "Do not include speculative colors and focus only on the main ones.\n",
    "\n",
    "The report should be written in this style example:\n",
    "\n",
    "Use this JSON schema:\n",
    "\n",
    "company_colors = {{'color_name_1':str, 'hex_code_1':str, 'rgb_code_1':list[int]}},{{'color_name_2':str,'hex_code_2':str,'rgb_code_2':list[int]}}\n",
    "Return: list[company_colors]\n",
    "\n",
    "Thoroughly plan your work in detail and steps, but avoid discussing it. Do not add any additional comments after finishing the report.\n",
    "\"\"\"\n",
    "\n",
    "\n",
    "response = client.models.generate_content(\n",
    "    model=MODEL, config=config, contents=contents)\n",
    "\n"
   ]
  },
  {
   "cell_type": "code",
   "execution_count": 699,
   "metadata": {},
   "outputs": [
    {
     "name": "stdout",
     "output_type": "stream",
     "text": [
      "JSON data has been successfully written to 'proximus_colors.json'.\n"
     ]
    },
    {
     "data": {
      "text/plain": [
       "True"
      ]
     },
     "execution_count": 699,
     "metadata": {},
     "output_type": "execute_result"
    }
   ],
   "source": [
    "save_json_from_string(response.text, 'proximus_colors.json')"
   ]
  },
  {
   "cell_type": "markdown",
   "metadata": {},
   "source": [
    "**Proximus Service providers**"
   ]
  },
  {
   "cell_type": "markdown",
   "metadata": {},
   "source": [
    "Picking a particular type of service provider"
   ]
  },
  {
   "cell_type": "code",
   "execution_count": 700,
   "metadata": {},
   "outputs": [],
   "source": [
    "type_service = [\n",
    "    \"Infrastructure and maintenance\",\n",
    "    \"Technology and equipment supply\",\n",
    "    \"Network and connectivity services\",\n",
    "    \"Customer support\",\n",
    "    \"Billing and payments\",\n",
    "    \"Cloud and data hosting\",\n",
    "    \"Marketing and advertising\",\n",
    "    \"Consulting\",\n",
    "    \"Research and innovation\"\n",
    "]"
   ]
  },
  {
   "cell_type": "code",
   "execution_count": 701,
   "metadata": {},
   "outputs": [
    {
     "name": "stdout",
     "output_type": "stream",
     "text": [
      "Customer support\n"
     ]
    }
   ],
   "source": [
    "random_service=rd.choice(type_service)\n",
    "print(random_service)"
   ]
  },
  {
   "cell_type": "code",
   "execution_count": 702,
   "metadata": {},
   "outputs": [],
   "source": [
    "contents = f\"\"\"\n",
    "\n",
    "Write a report about {COMPANY}\n",
    "\n",
    "List the main Belgian service providers of the company. Include any known suppliers, contractors, technology service providers, or any other third-party companies that the company relies on. \n",
    "Provide the names of the service providers, type and description of the services they provide to the company. Also include the providers homepage in the report, if you can't find it, don not include the provider in the report. \n",
    "\n",
    "The service provider needs to be active in delivering {random_service} to {COMPANY}\n",
    "\n",
    "The report should be written in this style example:\n",
    "\n",
    "Use this JSON schema:\n",
    "\n",
    "company_service = {{\"provider\":str,\"service\":str,\"type\":str,\"provider_homepage\":str]}}\n",
    "Return: list[company_service]\n",
    "\"\"\"\n",
    "\n",
    "response = client.models.generate_content(\n",
    "    model=MODEL, config=config, contents=contents)\n",
    "\n"
   ]
  },
  {
   "cell_type": "code",
   "execution_count": 703,
   "metadata": {},
   "outputs": [
    {
     "name": "stdout",
     "output_type": "stream",
     "text": [
      "JSON data has been successfully written to 'proximus_providers.json'.\n"
     ]
    },
    {
     "data": {
      "text/plain": [
       "True"
      ]
     },
     "execution_count": 703,
     "metadata": {},
     "output_type": "execute_result"
    }
   ],
   "source": [
    "save_json_from_string(response.text, 'proximus_providers.json')"
   ]
  },
  {
   "cell_type": "markdown",
   "metadata": {},
   "source": [
    "**Merge the proximus data**"
   ]
  },
  {
   "cell_type": "code",
   "execution_count": 704,
   "metadata": {},
   "outputs": [
    {
     "name": "stdout",
     "output_type": "stream",
     "text": [
      "Data successfully merged into blended_data_proximus.json\n"
     ]
    }
   ],
   "source": [
    "\n",
    "# File paths for input and output\n",
    "input_files = {\n",
    "    \"colors\": \"proximus_colors.json\",\n",
    "    \"departments\": \"proximus_departments.json\",\n",
    "    \"employees\": \"proximus_employees.json\",\n",
    "    \"news\": \"proximus_news.json\",\n",
    "    \"providers\": \"proximus_providers.json\"\n",
    "}\n",
    "output_file = \"blended_data_proximus.json\"\n",
    "\n",
    "# Combine all data into one dictionary\n",
    "blended_data = {}\n",
    "\n",
    "for key, file_path in input_files.items():\n",
    "    with open(file_path, 'r') as f:\n",
    "        blended_data[key] = json.load(f)\n",
    "\n",
    "# Write the combined data to a new JSON file\n",
    "with open(output_file, 'w') as f:\n",
    "    json.dump(blended_data, f, indent=4)\n",
    "\n",
    "print(f\"Data successfully merged into {output_file}\")"
   ]
  },
  {
   "cell_type": "markdown",
   "metadata": {},
   "source": [
    "**Providers info** (Proceed with one Provider)"
   ]
  },
  {
   "cell_type": "code",
   "execution_count": 705,
   "metadata": {},
   "outputs": [],
   "source": [
    "# Load JSON data from the file\n",
    "with open(\"proximus_providers.json\", \"r\") as file:\n",
    "    providers = json.load(file)"
   ]
  },
  {
   "cell_type": "code",
   "execution_count": 706,
   "metadata": {},
   "outputs": [],
   "source": [
    "# Function to pick a random provider\n",
    "def pick_random_provider(providers):\n",
    "    if not providers:\n",
    "        return None  # Handle the case where the list is empty\n",
    "    return rd.choice(providers)"
   ]
  },
  {
   "cell_type": "code",
   "execution_count": 707,
   "metadata": {},
   "outputs": [
    {
     "name": "stdout",
     "output_type": "stream",
     "text": [
      "{'provider': 'Tech Mahindra', 'service': 'Design and build a technology platform', 'type': 'Technology platform development', 'provider_homepage': 'https://www.techmahindra.com/'}\n"
     ]
    }
   ],
   "source": [
    "provider = pick_random_provider(providers)\n",
    "\n",
    "print(provider)"
   ]
  },
  {
   "cell_type": "code",
   "execution_count": 708,
   "metadata": {},
   "outputs": [
    {
     "name": "stdout",
     "output_type": "stream",
     "text": [
      "Data saved to provider_general_data.json\n"
     ]
    }
   ],
   "source": [
    "provider = [provider]\n",
    "file_path = 'provider_general_data.json'\n",
    "\n",
    "# Write the data to the JSON file\n",
    "with open(file_path, 'w') as json_file:\n",
    "    json.dump(provider, json_file, indent=4)\n",
    "\n",
    "print(f'Data saved to {file_path}')"
   ]
  },
  {
   "cell_type": "markdown",
   "metadata": {},
   "source": [
    "**Provider Key Employees and Roles**"
   ]
  },
  {
   "cell_type": "code",
   "execution_count": 709,
   "metadata": {},
   "outputs": [],
   "source": [
    "contents = f\"\"\"\n",
    "    Write a report about company {provider}. This company is a provider of {COMPANY}\n",
    "\n",
    "    The report should only contain a comprehensive summary of the employees in the company.\n",
    "\n",
    "    The report should contain, the complete first name and family name, an email address with this structure \"first name.family name@{provider}.be\" (put it all in lower case), the role that they have within the company and the department that they make part of.\n",
    "\n",
    "    Do not include abbreviations in names, and exclude employees whose full first and last names cannot be found. Make sure the first and the last name contains more then 2 characters. Do not include employees of {COMPANY} in the report.\n",
    "\n",
    "    Give me as much grounded names that you can find with your research and put them all in the report.\n",
    "\n",
    "    The report should be written in this style example:\n",
    "\n",
    "    Use this JSON schema:\n",
    "\n",
    "    Employees = {{'provider': str, 'first_name': str, 'family_name': str, 'role': str, 'department': str, 'email_address':str}}\n",
    "    Return: list[Employees]\n",
    "    \"\"\"\n",
    "    \n",
    "response = client.models.generate_content(\n",
    "    model=MODEL, config=config, contents=contents)\n",
    "\n",
    "\n",
    "    "
   ]
  },
  {
   "cell_type": "code",
   "execution_count": 710,
   "metadata": {},
   "outputs": [
    {
     "name": "stdout",
     "output_type": "stream",
     "text": [
      "JSON data has been successfully written to 'provider_employees.json'.\n"
     ]
    },
    {
     "data": {
      "text/plain": [
       "True"
      ]
     },
     "execution_count": 710,
     "metadata": {},
     "output_type": "execute_result"
    }
   ],
   "source": [
    "save_json_from_string(response.text, 'provider_employees.json')"
   ]
  },
  {
   "cell_type": "markdown",
   "metadata": {},
   "source": [
    "**Provider Colors**"
   ]
  },
  {
   "cell_type": "code",
   "execution_count": 711,
   "metadata": {},
   "outputs": [],
   "source": [
    "\n",
    "contents = f\"\"\"\n",
    "\n",
    "    Write a report about company {provider}. This company is a provider of {COMPANY}\n",
    "\n",
    "    The report should exclusively provide the main colors of Company's branding, including any official color codes such as HEX or RGB. Focus on the primary colors used in the company's logo and website.\n",
    "\n",
    "    Do not include speculative colors and focus only on the main ones.\n",
    "\n",
    "    The report should be written in this style example:\n",
    "\n",
    "    Use this JSON schema:\n",
    "\n",
    "    company_colors = {{'provider':str,'color_name_1':str, 'hex_code_1':str, 'rgb_code_1':list[int]}},{{'color_name_2':str,'hex_code_2':str,'rgb_code_2':list[int]}}\n",
    "    Return: list[company_colors]\n",
    "\n",
    "    Thoroughly plan your work in detail and steps, but avoid discussing it. Do not add any additional comments after finishing the report.\n",
    "    \"\"\"\n",
    "\n",
    "\n",
    "response = client.models.generate_content(\n",
    "        model=MODEL, config=config, contents=contents)\n",
    "\n"
   ]
  },
  {
   "cell_type": "code",
   "execution_count": 712,
   "metadata": {},
   "outputs": [
    {
     "name": "stdout",
     "output_type": "stream",
     "text": [
      "JSON data has been successfully written to 'provider_color.json'.\n"
     ]
    },
    {
     "data": {
      "text/plain": [
       "True"
      ]
     },
     "execution_count": 712,
     "metadata": {},
     "output_type": "execute_result"
    }
   ],
   "source": [
    "save_json_from_string(response.text, 'provider_color.json')"
   ]
  },
  {
   "cell_type": "markdown",
   "metadata": {},
   "source": [
    "**Provider Departments**"
   ]
  },
  {
   "cell_type": "code",
   "execution_count": 713,
   "metadata": {},
   "outputs": [],
   "source": [
    "contents = f\"\"\"\n",
    "\n",
    "Write a report about company {provider}. This company is a provider of {COMPANY}\n",
    "\n",
    "The report should exclusively provide a detailed summary of the company's departments and their respective subdivisions, if any.\n",
    "\n",
    "Include in the report the full address where the headquarter of the provider is located, the main phone number and vat number.\n",
    "\n",
    "Do not include abbreviations in the report.\n",
    "\n",
    "Provide a detailed list, specifying only verified and public information. Do not include speculative or incomplete details.\n",
    "\n",
    "The report should be written in this style example:\n",
    "\n",
    "Use this JSON schema:\n",
    "\n",
    "Provider_departments = {{'provider':str,'department':str, 'subdivision':list[str],'address':str, 'phone':str, 'vat':str}}\n",
    "Return: list[Provider_departments]\n",
    "\"\"\"\n",
    "\n",
    "response = client.models.generate_content(\n",
    "    model=MODEL, config=config, contents=contents)\n",
    "\n"
   ]
  },
  {
   "cell_type": "code",
   "execution_count": 714,
   "metadata": {},
   "outputs": [
    {
     "name": "stdout",
     "output_type": "stream",
     "text": [
      "JSON data has been successfully written to 'provider_departments.json'.\n"
     ]
    },
    {
     "data": {
      "text/plain": [
       "True"
      ]
     },
     "execution_count": 714,
     "metadata": {},
     "output_type": "execute_result"
    }
   ],
   "source": [
    "save_json_from_string(response.text, 'provider_departments.json')"
   ]
  },
  {
   "cell_type": "markdown",
   "metadata": {},
   "source": [
    "**Blend Data from Json files Providers**"
   ]
  },
  {
   "cell_type": "code",
   "execution_count": 715,
   "metadata": {},
   "outputs": [
    {
     "name": "stdout",
     "output_type": "stream",
     "text": [
      "Current working directory: c:\\Users\\Rik\\Desktop\\Proximus-Case-Team-4\\Rik\n",
      "Data loaded from provider_general_data.json (Type: <class 'list'>): [{'provider': 'Tech Mahindra', 'service': 'Design and build a technology platform', 'type': 'Technology platform development', 'provider_homepage': 'https://www.techmahindra.com/'}]\n",
      "Data loaded from provider_employees.json (Type: <class 'list'>): [{'provider': 'Tech Mahindra', 'first_name': 'Anand', 'family_name': 'Mahindra', 'role': 'Chairman', 'department': 'Leadership', 'email_address': 'anand.mahindra@techmahindra.be'}, {'provider': 'Tech Mahindra', 'first_name': 'Mohit', 'family_name': 'Joshi', 'role': 'CEO and Managing Director', 'department': 'Leadership', 'email_address': 'mohit.joshi@techmahindra.be'}, {'provider': 'Tech Mahindra', 'first_name': 'Atul', 'family_name': 'Soneja', 'role': 'Chief Operating Officer', 'department': 'Leadership', 'email_address': 'atul.soneja@techmahindra.be'}, {'provider': 'Tech Mahindra', 'first_name': 'Rohit', 'family_name': 'Anand', 'role': 'Chief Financial Officer', 'department': 'Leadership', 'email_address': 'rohit.anand@techmahindra.be'}, {'provider': 'Tech Mahindra', 'first_name': 'Richard', 'family_name': 'Lobo', 'role': 'Chief People Officer', 'department': 'Leadership', 'email_address': 'richard.lobo@techmahindra.be'}, {'provider': 'Tech Mahindra', 'first_name': 'Lakshmanan', 'family_name': 'Chidambaram', 'role': 'President and Head of Americas Leadership Council', 'department': 'Leadership', 'email_address': 'lakshmanan.chidambaram@techmahindra.be'}, {'provider': 'Tech Mahindra', 'first_name': 'Harshul', 'family_name': 'Asnani', 'role': 'President and Head - Europe Business', 'department': 'Leadership', 'email_address': 'harshul.asnani@techmahindra.be'}, {'provider': 'Tech Mahindra', 'first_name': 'Harshvendra', 'family_name': 'Soin', 'role': 'President - Asia Pacific and Japan Business', 'department': 'Leadership', 'email_address': 'harshvendra.soin@techmahindra.be'}, {'provider': 'Tech Mahindra', 'first_name': 'Abhishek', 'family_name': 'Shankar', 'role': 'President - Communications Business, Americas', 'department': 'Leadership', 'email_address': 'abhishek.shankar@techmahindra.be'}, {'provider': 'Tech Mahindra', 'first_name': 'Sumit', 'family_name': 'Kumar Popli', 'role': 'President - Technology, Media and Entertainment (TME) Business', 'department': 'Leadership', 'email_address': 'sumit.kumarpopli@techmahindra.be'}, {'provider': 'Tech Mahindra', 'first_name': 'Kunal', 'family_name': 'Purohit', 'role': 'President – Next Gen Services', 'department': 'Leadership', 'email_address': 'kunal.purohit@techmahindra.be'}, {'provider': 'Tech Mahindra', 'first_name': 'Narasimham', 'family_name': 'RV', 'role': 'President – Engineering Services', 'department': 'Leadership', 'email_address': 'narasimham.rv@techmahindra.be'}, {'provider': 'Tech Mahindra', 'first_name': 'Birendra', 'family_name': 'Sen', 'role': 'President – Business Process Services', 'department': 'Leadership', 'email_address': 'birendra.sen@techmahindra.be'}, {'provider': 'Tech Mahindra', 'first_name': 'Rajesh', 'family_name': 'Chandiramani', 'role': 'Chief Executive Officer – Comviva', 'department': 'Leadership', 'email_address': 'rajesh.chandiramani@techmahindra.be'}, {'provider': 'Tech Mahindra', 'first_name': 'Vineet', 'family_name': 'Vij', 'role': 'General Counsel & Chief Legal Officer', 'department': 'Leadership', 'email_address': 'vineet.vij@techmahindra.be'}, {'provider': 'Tech Mahindra', 'first_name': 'Nitesh', 'family_name': 'Aggarwal', 'role': 'Chief Strategy and Risk Officer', 'department': 'Leadership', 'email_address': 'nitesh.aggarwal@techmahindra.be'}, {'provider': 'Tech Mahindra', 'first_name': 'Pallavi', 'family_name': 'Katiyar', 'role': 'Chief Information Officer (CIO)', 'department': 'Leadership', 'email_address': 'pallavi.katiyar@techmahindra.be'}, {'provider': 'Tech Mahindra', 'first_name': 'Peeyush', 'family_name': 'Dubey', 'role': 'Chief Marketing Officer', 'department': 'Leadership', 'email_address': 'peeyush.dubey@techmahindra.be'}, {'provider': 'Tech Mahindra', 'first_name': 'Sudeep', 'family_name': 'Chopra', 'role': 'Chief Internal Auditor and Corporate Ombudsman', 'department': 'Leadership', 'email_address': 'sudeep.chopra@techmahindra.be'}, {'provider': 'Tech Mahindra', 'first_name': 'Sandeep', 'family_name': 'Chandna', 'role': 'Chief Sustainability Officer', 'department': 'Leadership', 'email_address': 'sandeep.chandna@techmahindra.be'}, {'provider': 'Tech Mahindra', 'first_name': 'Hetzel', 'family_name': 'Folden', 'role': 'Senior Vice President', 'department': 'Executive Team', 'email_address': 'hetzel.folden@techmahindra.be'}, {'provider': 'Tech Mahindra', 'first_name': 'Keshab', 'family_name': 'Panda', 'role': 'Senior Vice President', 'department': 'Executive Team', 'email_address': 'keshab.panda@techmahindra.be'}, {'provider': 'Tech Mahindra', 'first_name': 'Anil', 'family_name': 'Kumar', 'role': 'Senior Vice President', 'department': 'Executive Team', 'email_address': 'anil.kumar@techmahindra.be'}, {'provider': 'Tech Mahindra', 'first_name': 'Eddie', 'family_name': 'Woods', 'role': 'Vice President', 'department': 'Executive Team', 'email_address': 'eddie.woods@techmahindra.be'}, {'provider': 'Tech Mahindra', 'first_name': 'Pat', 'family_name': 'Sullivan', 'role': 'Vice President', 'department': 'Executive Team', 'email_address': 'pat.sullivan@techmahindra.be'}, {'provider': 'Tech Mahindra', 'first_name': 'Aman', 'family_name': 'Sethi', 'role': 'Vice President - Public Sector', 'department': 'Executive Team', 'email_address': 'aman.sethi@techmahindra.be'}, {'provider': 'Tech Mahindra', 'first_name': 'Jayant', 'family_name': 'Mehta', 'role': 'Vice President & Business Head-Healthcare', 'department': 'Executive Team', 'email_address': 'jayant.mehta@techmahindra.be'}, {'provider': 'Tech Mahindra', 'first_name': 'Sandeep', 'family_name': 'Khajuria', 'role': 'Vice President, Transportation and Logistics Business', 'department': 'Executive Team', 'email_address': 'sandeep.khajuria@techmahindra.be'}, {'provider': 'Tech Mahindra', 'first_name': 'Krishna', 'family_name': 'Kumaraswamy', 'role': 'SVP & Head - Global Delivery & Transformation', 'department': 'Executive Team', 'email_address': 'krishna.kumaraswamy@techmahindra.be'}, {'provider': 'Tech Mahindra', 'first_name': 'Lokesh', 'family_name': 'Gupta', 'role': 'AVP (Global Leadership Cadre) - Sales & BD (Semiconductors)', 'department': 'Executive Team', 'email_address': 'lokesh.gupta@techmahindra.be'}, {'provider': 'Tech Mahindra', 'first_name': 'Rajiv', 'family_name': 'Sinha', 'role': 'AVP Telecom', 'department': 'Executive Team', 'email_address': 'rajiv.sinha@techmahindra.be'}, {'provider': 'Tech Mahindra', 'first_name': 'Joseph', 'family_name': 'Abraham', 'role': 'Director and Senior Vice President', 'department': 'Executive Team', 'email_address': 'joseph.abraham@techmahindra.be'}, {'provider': 'Tech Mahindra', 'first_name': 'Pavan', 'family_name': 'Maddali', 'role': 'Senior Vice President', 'department': 'Executive Team', 'email_address': 'pavan.maddali@techmahindra.be'}, {'provider': 'Tech Mahindra', 'first_name': 'Mathew', 'family_name': 'Daniel', 'role': 'Senior Vice President', 'department': 'Executive Team', 'email_address': 'mathew.daniel@techmahindra.be'}, {'provider': 'Tech Mahindra', 'first_name': 'Hari', 'family_name': 'Natarajan', 'role': 'Senior Vice President', 'department': 'Executive Team', 'email_address': 'hari.natarajan@techmahindra.be'}, {'provider': 'Tech Mahindra', 'first_name': 'Manoj', 'family_name': 'Gupta', 'role': 'Senior Vice President', 'department': 'Executive Team', 'email_address': 'manoj.gupta@techmahindra.be'}, {'provider': 'Tech Mahindra', 'first_name': 'Raj', 'family_name': 'Lakkamraju', 'role': 'Senior Vice President and Head of Semiconductor Business Group', 'department': 'Executive Team', 'email_address': 'raj.lakkamraju@techmahindra.be'}, {'provider': 'Tech Mahindra', 'first_name': 'Ken', 'family_name': 'Taormina', 'role': 'Senior Vice President Global Manufacturing', 'department': 'Executive Team', 'email_address': 'ken.taormina@techmahindra.be'}, {'provider': 'Tech Mahindra', 'first_name': 'Terry', 'family_name': 'Mascarenhas', 'role': 'Senior Vice President Infrastructure', 'department': 'Executive Team', 'email_address': 'terry.mascarenhas@techmahindra.be'}, {'provider': 'Tech Mahindra', 'first_name': 'Amitabh', 'family_name': 'Sharma', 'role': 'Asst. VP HR', 'department': 'Human Resources', 'email_address': 'amitabh.sharma@techmahindra.be'}, {'provider': 'Tech Mahindra', 'first_name': 'Dedra', 'family_name': 'Ware', 'role': 'Executive HR', 'department': 'Human Resources', 'email_address': 'dedra.ware@techmahindra.be'}, {'provider': 'Tech Mahindra', 'first_name': 'Divya', 'family_name': 'Vijay', 'role': 'HR Recruiter', 'department': 'Human Resources', 'email_address': 'divya.vijay@techmahindra.be'}, {'provider': 'Tech Mahindra', 'first_name': 'Shrikant', 'family_name': 'Dubey', 'role': 'HR Recruiter', 'department': 'Human Resources', 'email_address': 'shrikant.dubey@techmahindra.be'}, {'provider': 'Tech Mahindra', 'first_name': 'Anand', 'family_name': 'Gopal', 'role': 'Human Resources Manager', 'department': 'Human Resources', 'email_address': 'anand.gopal@techmahindra.be'}]\n",
      "Data loaded from provider_color.json (Type: <class 'list'>): [{'provider': 'Tech Mahindra', 'color_name_1': 'Rising Red', 'hex_code_1': '#E31837', 'rgb_code_1': [227, 24, 55]}, {'color_name_2': 'Steel Grey', 'hex_code_2': '#4D4D4F', 'rgb_code_2': [77, 77, 79]}, {'color_name_3': 'Ink Black', 'hex_code_3': '#231F20', 'rgb_code_3': [35, 31, 32]}, {'color_name_4': 'Light Grey', 'hex_code_4': '#E6E7E8', 'rgb_code_4': [230, 231, 232]}, {'color_name_5': 'White', 'hex_code_5': '#FFFFFF', 'rgb_code_5': [255, 255, 255]}]\n",
      "Data loaded from provider_departments.json (Type: <class 'list'>): [{'provider': 'Tech Mahindra', 'department': 'Information Technology Services', 'subdivision': ['Consulting', 'Enterprise Applications', 'Engineering Services', 'Network Services', 'Customer Experience & Design', 'AI & Analytics', 'Cloud & Infrastructure Services', 'Application Development & Maintenance Services', 'Cybersecurity', 'Mobile Solutions', 'SAP', 'Oracle', 'Digital Supply Chain', 'Integrated Engineering Solutions', 'Performance Engineering', 'Telecom Product Engineering', 'Business Excellence', 'Testing', '5G & Network Services', 'Experience Design Services'], 'address': 'Plot No. 1, Phase III, Rajiv Gandhi Infotech Park, Hinjewadi, Pune – 411 057, Maharashtra, India', 'phone': '+91 20 6601 8100', 'vat': 'L64200MH1986PLC041370'}, {'provider': 'Tech Mahindra', 'department': 'Business Process Services', 'subdivision': ['Business Process Outsourcing'], 'address': 'Plot No. 1, Phase III, Rajiv Gandhi Infotech Park, Hinjewadi, Pune – 411 057, Maharashtra, India', 'phone': '+91 20 6601 8100', 'vat': 'L64200MH1986PLC041370'}, {'provider': 'Tech Mahindra', 'department': 'Integrated Engineering Services', 'subdivision': [], 'address': 'Plot No. 1, Phase III, Rajiv Gandhi Infotech Park, Hinjewadi, Pune – 411 057, Maharashtra, India', 'phone': '+91 20 6601 8100', 'vat': 'L64200MH1986PLC041370'}, {'provider': 'Tech Mahindra', 'department': 'Infrastructure & Cloud Services', 'subdivision': [], 'address': 'Plot No. 1, Phase III, Rajiv Gandhi Infotech Park, Hinjewadi, Pune – 411 057, Maharashtra, India', 'phone': '+91 20 6601 8100', 'vat': 'L64200MH1986PLC041370'}, {'provider': 'Tech Mahindra', 'department': 'Experience Design Services', 'subdivision': [], 'address': 'Plot No. 1, Phase III, Rajiv Gandhi Infotech Park, Hinjewadi, Pune – 411 057, Maharashtra, India', 'phone': '+91 20 6601 8100', 'vat': 'L64200MH1986PLC041370'}, {'provider': 'Tech Mahindra', 'department': 'Application Development & Maintenance Services', 'subdivision': [], 'address': 'Plot No. 1, Phase III, Rajiv Gandhi Infotech Park, Hinjewadi, Pune – 411 057, Maharashtra, India', 'phone': '+91 20 6601 8100', 'vat': 'L64200MH1986PLC041370'}, {'provider': 'Tech Mahindra', 'department': 'Supply Chain Digital Transformation', 'subdivision': [], 'address': 'Plot No. 1, Phase III, Rajiv Gandhi Infotech Park, Hinjewadi, Pune – 411 057, Maharashtra, India', 'phone': '+91 20 6601 8100', 'vat': 'L64200MH1986PLC041370'}, {'provider': 'Tech Mahindra', 'department': 'Architectural & Industrial Design', 'subdivision': [], 'address': 'Plot No. 1, Phase III, Rajiv Gandhi Infotech Park, Hinjewadi, Pune – 411 057, Maharashtra, India', 'phone': '+91 20 6601 8100', 'vat': 'L64200MH1986PLC041370'}, {'provider': 'Tech Mahindra', 'department': 'Global Business Units', 'subdivision': ['Americas (3 units)', 'Asia-Pacific', 'Europe', 'India'], 'address': 'Plot No. 1, Phase III, Rajiv Gandhi Infotech Park, Hinjewadi, Pune – 411 057, Maharashtra, India', 'phone': '+91 20 6601 8100', 'vat': 'L64200MH1986PLC041370'}]\n",
      "Blended Data: {\n",
      "    \"Tech Mahindra\": {\n",
      "        \"general\": {\n",
      "            \"provider\": \"Tech Mahindra\",\n",
      "            \"service\": \"Design and build a technology platform\",\n",
      "            \"type\": \"Technology platform development\",\n",
      "            \"provider_homepage\": \"https://www.techmahindra.com/\"\n",
      "        },\n",
      "        \"employee\": [\n",
      "            {\n",
      "                \"provider\": \"Tech Mahindra\",\n",
      "                \"first_name\": \"Anand\",\n",
      "                \"family_name\": \"Mahindra\",\n",
      "                \"role\": \"Chairman\",\n",
      "                \"department\": \"Leadership\",\n",
      "                \"email_address\": \"anand.mahindra@techmahindra.be\"\n",
      "            },\n",
      "            {\n",
      "                \"provider\": \"Tech Mahindra\",\n",
      "                \"first_name\": \"Mohit\",\n",
      "                \"family_name\": \"Joshi\",\n",
      "                \"role\": \"CEO and Managing Director\",\n",
      "                \"department\": \"Leadership\",\n",
      "                \"email_address\": \"mohit.joshi@techmahindra.be\"\n",
      "            },\n",
      "            {\n",
      "                \"provider\": \"Tech Mahindra\",\n",
      "                \"first_name\": \"Atul\",\n",
      "                \"family_name\": \"Soneja\",\n",
      "                \"role\": \"Chief Operating Officer\",\n",
      "                \"department\": \"Leadership\",\n",
      "                \"email_address\": \"atul.soneja@techmahindra.be\"\n",
      "            },\n",
      "            {\n",
      "                \"provider\": \"Tech Mahindra\",\n",
      "                \"first_name\": \"Rohit\",\n",
      "                \"family_name\": \"Anand\",\n",
      "                \"role\": \"Chief Financial Officer\",\n",
      "                \"department\": \"Leadership\",\n",
      "                \"email_address\": \"rohit.anand@techmahindra.be\"\n",
      "            },\n",
      "            {\n",
      "                \"provider\": \"Tech Mahindra\",\n",
      "                \"first_name\": \"Richard\",\n",
      "                \"family_name\": \"Lobo\",\n",
      "                \"role\": \"Chief People Officer\",\n",
      "                \"department\": \"Leadership\",\n",
      "                \"email_address\": \"richard.lobo@techmahindra.be\"\n",
      "            },\n",
      "            {\n",
      "                \"provider\": \"Tech Mahindra\",\n",
      "                \"first_name\": \"Lakshmanan\",\n",
      "                \"family_name\": \"Chidambaram\",\n",
      "                \"role\": \"President and Head of Americas Leadership Council\",\n",
      "                \"department\": \"Leadership\",\n",
      "                \"email_address\": \"lakshmanan.chidambaram@techmahindra.be\"\n",
      "            },\n",
      "            {\n",
      "                \"provider\": \"Tech Mahindra\",\n",
      "                \"first_name\": \"Harshul\",\n",
      "                \"family_name\": \"Asnani\",\n",
      "                \"role\": \"President and Head - Europe Business\",\n",
      "                \"department\": \"Leadership\",\n",
      "                \"email_address\": \"harshul.asnani@techmahindra.be\"\n",
      "            },\n",
      "            {\n",
      "                \"provider\": \"Tech Mahindra\",\n",
      "                \"first_name\": \"Harshvendra\",\n",
      "                \"family_name\": \"Soin\",\n",
      "                \"role\": \"President - Asia Pacific and Japan Business\",\n",
      "                \"department\": \"Leadership\",\n",
      "                \"email_address\": \"harshvendra.soin@techmahindra.be\"\n",
      "            },\n",
      "            {\n",
      "                \"provider\": \"Tech Mahindra\",\n",
      "                \"first_name\": \"Abhishek\",\n",
      "                \"family_name\": \"Shankar\",\n",
      "                \"role\": \"President - Communications Business, Americas\",\n",
      "                \"department\": \"Leadership\",\n",
      "                \"email_address\": \"abhishek.shankar@techmahindra.be\"\n",
      "            },\n",
      "            {\n",
      "                \"provider\": \"Tech Mahindra\",\n",
      "                \"first_name\": \"Sumit\",\n",
      "                \"family_name\": \"Kumar Popli\",\n",
      "                \"role\": \"President - Technology, Media and Entertainment (TME) Business\",\n",
      "                \"department\": \"Leadership\",\n",
      "                \"email_address\": \"sumit.kumarpopli@techmahindra.be\"\n",
      "            },\n",
      "            {\n",
      "                \"provider\": \"Tech Mahindra\",\n",
      "                \"first_name\": \"Kunal\",\n",
      "                \"family_name\": \"Purohit\",\n",
      "                \"role\": \"President \\u2013 Next Gen Services\",\n",
      "                \"department\": \"Leadership\",\n",
      "                \"email_address\": \"kunal.purohit@techmahindra.be\"\n",
      "            },\n",
      "            {\n",
      "                \"provider\": \"Tech Mahindra\",\n",
      "                \"first_name\": \"Narasimham\",\n",
      "                \"family_name\": \"RV\",\n",
      "                \"role\": \"President \\u2013 Engineering Services\",\n",
      "                \"department\": \"Leadership\",\n",
      "                \"email_address\": \"narasimham.rv@techmahindra.be\"\n",
      "            },\n",
      "            {\n",
      "                \"provider\": \"Tech Mahindra\",\n",
      "                \"first_name\": \"Birendra\",\n",
      "                \"family_name\": \"Sen\",\n",
      "                \"role\": \"President \\u2013 Business Process Services\",\n",
      "                \"department\": \"Leadership\",\n",
      "                \"email_address\": \"birendra.sen@techmahindra.be\"\n",
      "            },\n",
      "            {\n",
      "                \"provider\": \"Tech Mahindra\",\n",
      "                \"first_name\": \"Rajesh\",\n",
      "                \"family_name\": \"Chandiramani\",\n",
      "                \"role\": \"Chief Executive Officer \\u2013 Comviva\",\n",
      "                \"department\": \"Leadership\",\n",
      "                \"email_address\": \"rajesh.chandiramani@techmahindra.be\"\n",
      "            },\n",
      "            {\n",
      "                \"provider\": \"Tech Mahindra\",\n",
      "                \"first_name\": \"Vineet\",\n",
      "                \"family_name\": \"Vij\",\n",
      "                \"role\": \"General Counsel & Chief Legal Officer\",\n",
      "                \"department\": \"Leadership\",\n",
      "                \"email_address\": \"vineet.vij@techmahindra.be\"\n",
      "            },\n",
      "            {\n",
      "                \"provider\": \"Tech Mahindra\",\n",
      "                \"first_name\": \"Nitesh\",\n",
      "                \"family_name\": \"Aggarwal\",\n",
      "                \"role\": \"Chief Strategy and Risk Officer\",\n",
      "                \"department\": \"Leadership\",\n",
      "                \"email_address\": \"nitesh.aggarwal@techmahindra.be\"\n",
      "            },\n",
      "            {\n",
      "                \"provider\": \"Tech Mahindra\",\n",
      "                \"first_name\": \"Pallavi\",\n",
      "                \"family_name\": \"Katiyar\",\n",
      "                \"role\": \"Chief Information Officer (CIO)\",\n",
      "                \"department\": \"Leadership\",\n",
      "                \"email_address\": \"pallavi.katiyar@techmahindra.be\"\n",
      "            },\n",
      "            {\n",
      "                \"provider\": \"Tech Mahindra\",\n",
      "                \"first_name\": \"Peeyush\",\n",
      "                \"family_name\": \"Dubey\",\n",
      "                \"role\": \"Chief Marketing Officer\",\n",
      "                \"department\": \"Leadership\",\n",
      "                \"email_address\": \"peeyush.dubey@techmahindra.be\"\n",
      "            },\n",
      "            {\n",
      "                \"provider\": \"Tech Mahindra\",\n",
      "                \"first_name\": \"Sudeep\",\n",
      "                \"family_name\": \"Chopra\",\n",
      "                \"role\": \"Chief Internal Auditor and Corporate Ombudsman\",\n",
      "                \"department\": \"Leadership\",\n",
      "                \"email_address\": \"sudeep.chopra@techmahindra.be\"\n",
      "            },\n",
      "            {\n",
      "                \"provider\": \"Tech Mahindra\",\n",
      "                \"first_name\": \"Sandeep\",\n",
      "                \"family_name\": \"Chandna\",\n",
      "                \"role\": \"Chief Sustainability Officer\",\n",
      "                \"department\": \"Leadership\",\n",
      "                \"email_address\": \"sandeep.chandna@techmahindra.be\"\n",
      "            },\n",
      "            {\n",
      "                \"provider\": \"Tech Mahindra\",\n",
      "                \"first_name\": \"Hetzel\",\n",
      "                \"family_name\": \"Folden\",\n",
      "                \"role\": \"Senior Vice President\",\n",
      "                \"department\": \"Executive Team\",\n",
      "                \"email_address\": \"hetzel.folden@techmahindra.be\"\n",
      "            },\n",
      "            {\n",
      "                \"provider\": \"Tech Mahindra\",\n",
      "                \"first_name\": \"Keshab\",\n",
      "                \"family_name\": \"Panda\",\n",
      "                \"role\": \"Senior Vice President\",\n",
      "                \"department\": \"Executive Team\",\n",
      "                \"email_address\": \"keshab.panda@techmahindra.be\"\n",
      "            },\n",
      "            {\n",
      "                \"provider\": \"Tech Mahindra\",\n",
      "                \"first_name\": \"Anil\",\n",
      "                \"family_name\": \"Kumar\",\n",
      "                \"role\": \"Senior Vice President\",\n",
      "                \"department\": \"Executive Team\",\n",
      "                \"email_address\": \"anil.kumar@techmahindra.be\"\n",
      "            },\n",
      "            {\n",
      "                \"provider\": \"Tech Mahindra\",\n",
      "                \"first_name\": \"Eddie\",\n",
      "                \"family_name\": \"Woods\",\n",
      "                \"role\": \"Vice President\",\n",
      "                \"department\": \"Executive Team\",\n",
      "                \"email_address\": \"eddie.woods@techmahindra.be\"\n",
      "            },\n",
      "            {\n",
      "                \"provider\": \"Tech Mahindra\",\n",
      "                \"first_name\": \"Pat\",\n",
      "                \"family_name\": \"Sullivan\",\n",
      "                \"role\": \"Vice President\",\n",
      "                \"department\": \"Executive Team\",\n",
      "                \"email_address\": \"pat.sullivan@techmahindra.be\"\n",
      "            },\n",
      "            {\n",
      "                \"provider\": \"Tech Mahindra\",\n",
      "                \"first_name\": \"Aman\",\n",
      "                \"family_name\": \"Sethi\",\n",
      "                \"role\": \"Vice President - Public Sector\",\n",
      "                \"department\": \"Executive Team\",\n",
      "                \"email_address\": \"aman.sethi@techmahindra.be\"\n",
      "            },\n",
      "            {\n",
      "                \"provider\": \"Tech Mahindra\",\n",
      "                \"first_name\": \"Jayant\",\n",
      "                \"family_name\": \"Mehta\",\n",
      "                \"role\": \"Vice President & Business Head-Healthcare\",\n",
      "                \"department\": \"Executive Team\",\n",
      "                \"email_address\": \"jayant.mehta@techmahindra.be\"\n",
      "            },\n",
      "            {\n",
      "                \"provider\": \"Tech Mahindra\",\n",
      "                \"first_name\": \"Sandeep\",\n",
      "                \"family_name\": \"Khajuria\",\n",
      "                \"role\": \"Vice President, Transportation and Logistics Business\",\n",
      "                \"department\": \"Executive Team\",\n",
      "                \"email_address\": \"sandeep.khajuria@techmahindra.be\"\n",
      "            },\n",
      "            {\n",
      "                \"provider\": \"Tech Mahindra\",\n",
      "                \"first_name\": \"Krishna\",\n",
      "                \"family_name\": \"Kumaraswamy\",\n",
      "                \"role\": \"SVP & Head - Global Delivery & Transformation\",\n",
      "                \"department\": \"Executive Team\",\n",
      "                \"email_address\": \"krishna.kumaraswamy@techmahindra.be\"\n",
      "            },\n",
      "            {\n",
      "                \"provider\": \"Tech Mahindra\",\n",
      "                \"first_name\": \"Lokesh\",\n",
      "                \"family_name\": \"Gupta\",\n",
      "                \"role\": \"AVP (Global Leadership Cadre) - Sales & BD (Semiconductors)\",\n",
      "                \"department\": \"Executive Team\",\n",
      "                \"email_address\": \"lokesh.gupta@techmahindra.be\"\n",
      "            },\n",
      "            {\n",
      "                \"provider\": \"Tech Mahindra\",\n",
      "                \"first_name\": \"Rajiv\",\n",
      "                \"family_name\": \"Sinha\",\n",
      "                \"role\": \"AVP Telecom\",\n",
      "                \"department\": \"Executive Team\",\n",
      "                \"email_address\": \"rajiv.sinha@techmahindra.be\"\n",
      "            },\n",
      "            {\n",
      "                \"provider\": \"Tech Mahindra\",\n",
      "                \"first_name\": \"Joseph\",\n",
      "                \"family_name\": \"Abraham\",\n",
      "                \"role\": \"Director and Senior Vice President\",\n",
      "                \"department\": \"Executive Team\",\n",
      "                \"email_address\": \"joseph.abraham@techmahindra.be\"\n",
      "            },\n",
      "            {\n",
      "                \"provider\": \"Tech Mahindra\",\n",
      "                \"first_name\": \"Pavan\",\n",
      "                \"family_name\": \"Maddali\",\n",
      "                \"role\": \"Senior Vice President\",\n",
      "                \"department\": \"Executive Team\",\n",
      "                \"email_address\": \"pavan.maddali@techmahindra.be\"\n",
      "            },\n",
      "            {\n",
      "                \"provider\": \"Tech Mahindra\",\n",
      "                \"first_name\": \"Mathew\",\n",
      "                \"family_name\": \"Daniel\",\n",
      "                \"role\": \"Senior Vice President\",\n",
      "                \"department\": \"Executive Team\",\n",
      "                \"email_address\": \"mathew.daniel@techmahindra.be\"\n",
      "            },\n",
      "            {\n",
      "                \"provider\": \"Tech Mahindra\",\n",
      "                \"first_name\": \"Hari\",\n",
      "                \"family_name\": \"Natarajan\",\n",
      "                \"role\": \"Senior Vice President\",\n",
      "                \"department\": \"Executive Team\",\n",
      "                \"email_address\": \"hari.natarajan@techmahindra.be\"\n",
      "            },\n",
      "            {\n",
      "                \"provider\": \"Tech Mahindra\",\n",
      "                \"first_name\": \"Manoj\",\n",
      "                \"family_name\": \"Gupta\",\n",
      "                \"role\": \"Senior Vice President\",\n",
      "                \"department\": \"Executive Team\",\n",
      "                \"email_address\": \"manoj.gupta@techmahindra.be\"\n",
      "            },\n",
      "            {\n",
      "                \"provider\": \"Tech Mahindra\",\n",
      "                \"first_name\": \"Raj\",\n",
      "                \"family_name\": \"Lakkamraju\",\n",
      "                \"role\": \"Senior Vice President and Head of Semiconductor Business Group\",\n",
      "                \"department\": \"Executive Team\",\n",
      "                \"email_address\": \"raj.lakkamraju@techmahindra.be\"\n",
      "            },\n",
      "            {\n",
      "                \"provider\": \"Tech Mahindra\",\n",
      "                \"first_name\": \"Ken\",\n",
      "                \"family_name\": \"Taormina\",\n",
      "                \"role\": \"Senior Vice President Global Manufacturing\",\n",
      "                \"department\": \"Executive Team\",\n",
      "                \"email_address\": \"ken.taormina@techmahindra.be\"\n",
      "            },\n",
      "            {\n",
      "                \"provider\": \"Tech Mahindra\",\n",
      "                \"first_name\": \"Terry\",\n",
      "                \"family_name\": \"Mascarenhas\",\n",
      "                \"role\": \"Senior Vice President Infrastructure\",\n",
      "                \"department\": \"Executive Team\",\n",
      "                \"email_address\": \"terry.mascarenhas@techmahindra.be\"\n",
      "            },\n",
      "            {\n",
      "                \"provider\": \"Tech Mahindra\",\n",
      "                \"first_name\": \"Amitabh\",\n",
      "                \"family_name\": \"Sharma\",\n",
      "                \"role\": \"Asst. VP HR\",\n",
      "                \"department\": \"Human Resources\",\n",
      "                \"email_address\": \"amitabh.sharma@techmahindra.be\"\n",
      "            },\n",
      "            {\n",
      "                \"provider\": \"Tech Mahindra\",\n",
      "                \"first_name\": \"Dedra\",\n",
      "                \"family_name\": \"Ware\",\n",
      "                \"role\": \"Executive HR\",\n",
      "                \"department\": \"Human Resources\",\n",
      "                \"email_address\": \"dedra.ware@techmahindra.be\"\n",
      "            },\n",
      "            {\n",
      "                \"provider\": \"Tech Mahindra\",\n",
      "                \"first_name\": \"Divya\",\n",
      "                \"family_name\": \"Vijay\",\n",
      "                \"role\": \"HR Recruiter\",\n",
      "                \"department\": \"Human Resources\",\n",
      "                \"email_address\": \"divya.vijay@techmahindra.be\"\n",
      "            },\n",
      "            {\n",
      "                \"provider\": \"Tech Mahindra\",\n",
      "                \"first_name\": \"Shrikant\",\n",
      "                \"family_name\": \"Dubey\",\n",
      "                \"role\": \"HR Recruiter\",\n",
      "                \"department\": \"Human Resources\",\n",
      "                \"email_address\": \"shrikant.dubey@techmahindra.be\"\n",
      "            },\n",
      "            {\n",
      "                \"provider\": \"Tech Mahindra\",\n",
      "                \"first_name\": \"Anand\",\n",
      "                \"family_name\": \"Gopal\",\n",
      "                \"role\": \"Human Resources Manager\",\n",
      "                \"department\": \"Human Resources\",\n",
      "                \"email_address\": \"anand.gopal@techmahindra.be\"\n",
      "            }\n",
      "        ],\n",
      "        \"color\": {\n",
      "            \"provider\": \"Tech Mahindra\",\n",
      "            \"color_name_1\": \"Rising Red\",\n",
      "            \"hex_code_1\": \"#E31837\",\n",
      "            \"rgb_code_1\": [\n",
      "                227,\n",
      "                24,\n",
      "                55\n",
      "            ]\n",
      "        },\n",
      "        \"departments\": [\n",
      "            {\n",
      "                \"provider\": \"Tech Mahindra\",\n",
      "                \"department\": \"Information Technology Services\",\n",
      "                \"subdivision\": [\n",
      "                    \"Consulting\",\n",
      "                    \"Enterprise Applications\",\n",
      "                    \"Engineering Services\",\n",
      "                    \"Network Services\",\n",
      "                    \"Customer Experience & Design\",\n",
      "                    \"AI & Analytics\",\n",
      "                    \"Cloud & Infrastructure Services\",\n",
      "                    \"Application Development & Maintenance Services\",\n",
      "                    \"Cybersecurity\",\n",
      "                    \"Mobile Solutions\",\n",
      "                    \"SAP\",\n",
      "                    \"Oracle\",\n",
      "                    \"Digital Supply Chain\",\n",
      "                    \"Integrated Engineering Solutions\",\n",
      "                    \"Performance Engineering\",\n",
      "                    \"Telecom Product Engineering\",\n",
      "                    \"Business Excellence\",\n",
      "                    \"Testing\",\n",
      "                    \"5G & Network Services\",\n",
      "                    \"Experience Design Services\"\n",
      "                ],\n",
      "                \"address\": \"Plot No. 1, Phase III, Rajiv Gandhi Infotech Park, Hinjewadi, Pune \\u2013 411 057, Maharashtra, India\",\n",
      "                \"phone\": \"+91 20 6601 8100\",\n",
      "                \"vat\": \"L64200MH1986PLC041370\"\n",
      "            },\n",
      "            {\n",
      "                \"provider\": \"Tech Mahindra\",\n",
      "                \"department\": \"Business Process Services\",\n",
      "                \"subdivision\": [\n",
      "                    \"Business Process Outsourcing\"\n",
      "                ],\n",
      "                \"address\": \"Plot No. 1, Phase III, Rajiv Gandhi Infotech Park, Hinjewadi, Pune \\u2013 411 057, Maharashtra, India\",\n",
      "                \"phone\": \"+91 20 6601 8100\",\n",
      "                \"vat\": \"L64200MH1986PLC041370\"\n",
      "            },\n",
      "            {\n",
      "                \"provider\": \"Tech Mahindra\",\n",
      "                \"department\": \"Integrated Engineering Services\",\n",
      "                \"subdivision\": [],\n",
      "                \"address\": \"Plot No. 1, Phase III, Rajiv Gandhi Infotech Park, Hinjewadi, Pune \\u2013 411 057, Maharashtra, India\",\n",
      "                \"phone\": \"+91 20 6601 8100\",\n",
      "                \"vat\": \"L64200MH1986PLC041370\"\n",
      "            },\n",
      "            {\n",
      "                \"provider\": \"Tech Mahindra\",\n",
      "                \"department\": \"Infrastructure & Cloud Services\",\n",
      "                \"subdivision\": [],\n",
      "                \"address\": \"Plot No. 1, Phase III, Rajiv Gandhi Infotech Park, Hinjewadi, Pune \\u2013 411 057, Maharashtra, India\",\n",
      "                \"phone\": \"+91 20 6601 8100\",\n",
      "                \"vat\": \"L64200MH1986PLC041370\"\n",
      "            },\n",
      "            {\n",
      "                \"provider\": \"Tech Mahindra\",\n",
      "                \"department\": \"Experience Design Services\",\n",
      "                \"subdivision\": [],\n",
      "                \"address\": \"Plot No. 1, Phase III, Rajiv Gandhi Infotech Park, Hinjewadi, Pune \\u2013 411 057, Maharashtra, India\",\n",
      "                \"phone\": \"+91 20 6601 8100\",\n",
      "                \"vat\": \"L64200MH1986PLC041370\"\n",
      "            },\n",
      "            {\n",
      "                \"provider\": \"Tech Mahindra\",\n",
      "                \"department\": \"Application Development & Maintenance Services\",\n",
      "                \"subdivision\": [],\n",
      "                \"address\": \"Plot No. 1, Phase III, Rajiv Gandhi Infotech Park, Hinjewadi, Pune \\u2013 411 057, Maharashtra, India\",\n",
      "                \"phone\": \"+91 20 6601 8100\",\n",
      "                \"vat\": \"L64200MH1986PLC041370\"\n",
      "            },\n",
      "            {\n",
      "                \"provider\": \"Tech Mahindra\",\n",
      "                \"department\": \"Supply Chain Digital Transformation\",\n",
      "                \"subdivision\": [],\n",
      "                \"address\": \"Plot No. 1, Phase III, Rajiv Gandhi Infotech Park, Hinjewadi, Pune \\u2013 411 057, Maharashtra, India\",\n",
      "                \"phone\": \"+91 20 6601 8100\",\n",
      "                \"vat\": \"L64200MH1986PLC041370\"\n",
      "            },\n",
      "            {\n",
      "                \"provider\": \"Tech Mahindra\",\n",
      "                \"department\": \"Architectural & Industrial Design\",\n",
      "                \"subdivision\": [],\n",
      "                \"address\": \"Plot No. 1, Phase III, Rajiv Gandhi Infotech Park, Hinjewadi, Pune \\u2013 411 057, Maharashtra, India\",\n",
      "                \"phone\": \"+91 20 6601 8100\",\n",
      "                \"vat\": \"L64200MH1986PLC041370\"\n",
      "            },\n",
      "            {\n",
      "                \"provider\": \"Tech Mahindra\",\n",
      "                \"department\": \"Global Business Units\",\n",
      "                \"subdivision\": [\n",
      "                    \"Americas (3 units)\",\n",
      "                    \"Asia-Pacific\",\n",
      "                    \"Europe\",\n",
      "                    \"India\"\n",
      "                ],\n",
      "                \"address\": \"Plot No. 1, Phase III, Rajiv Gandhi Infotech Park, Hinjewadi, Pune \\u2013 411 057, Maharashtra, India\",\n",
      "                \"phone\": \"+91 20 6601 8100\",\n",
      "                \"vat\": \"L64200MH1986PLC041370\"\n",
      "            }\n",
      "        ]\n",
      "    }\n",
      "}\n",
      "Blended data has been saved to 'blended_data_providers.json'\n"
     ]
    }
   ],
   "source": [
    "# Function to read JSON data from a file and debug if necessary\n",
    "def read_json_file(file_path):\n",
    "    with open(file_path, 'r') as file:\n",
    "        try:\n",
    "            data = json.load(file)\n",
    "            # Debugging: Print the entire content of the file to inspect the structure\n",
    "            print(f\"Data loaded from {file_path} (Type: {type(data)}): {data}\")\n",
    "            if not isinstance(data, list):\n",
    "                raise ValueError(f\"Data in {file_path} is not a list as expected.\")\n",
    "            return data\n",
    "        except json.JSONDecodeError:\n",
    "            print(f\"Error decoding JSON from {file_path}\")\n",
    "            return []  # Return an empty list if the JSON is malformed\n",
    "\n",
    "# Function to blend data\n",
    "def blend_data_from_files(general_file, employee_file, color_file, department_file):\n",
    "    # Read data from files\n",
    "    general_data = read_json_file(general_file)\n",
    "    employee_data = read_json_file(employee_file)\n",
    "    color_data = read_json_file(color_file)\n",
    "    department_data = read_json_file(department_file)\n",
    "    \n",
    "    # Merge data\n",
    "    merged_data = {}\n",
    "\n",
    "    # Add general data\n",
    "    for entry in general_data:\n",
    "        try:\n",
    "            provider = entry[\"provider\"]\n",
    "            merged_data[provider] = {\"general\": entry}\n",
    "        except KeyError:\n",
    "            print(\"KeyError: Missing 'provider' in general data entry.\")\n",
    "            continue\n",
    "\n",
    "    # Add employee data\n",
    "    for entry in employee_data:\n",
    "        try:\n",
    "            provider = entry[\"provider\"]\n",
    "            if provider in merged_data:\n",
    "                if \"employee\" not in merged_data[provider]:\n",
    "                    merged_data[provider][\"employee\"] = []\n",
    "                merged_data[provider][\"employee\"].append(entry)\n",
    "        except KeyError:\n",
    "            print(\"KeyError: Missing 'provider' in employee data entry.\")\n",
    "            continue\n",
    "\n",
    "    # Add color data\n",
    "    for entry in color_data:\n",
    "        try:\n",
    "            provider = entry.get(\"provider\", \"Unknown\")\n",
    "            if provider in merged_data:\n",
    "                if \"color\" not in merged_data[provider]:\n",
    "                    merged_data[provider][\"color\"] = {}\n",
    "                merged_data[provider][\"color\"].update(entry)\n",
    "        except KeyError:\n",
    "            print(\"KeyError: Missing 'provider' in color data entry.\")\n",
    "            continue\n",
    "\n",
    "    # Add department data\n",
    "    for entry in department_data:\n",
    "        try:\n",
    "            provider = entry[\"provider\"]\n",
    "            if provider in merged_data:\n",
    "                if \"departments\" not in merged_data[provider]:\n",
    "                    merged_data[provider][\"departments\"] = []\n",
    "                merged_data[provider][\"departments\"].append(entry)\n",
    "        except KeyError:\n",
    "            print(\"KeyError: Missing 'provider' in department data entry.\")\n",
    "            continue\n",
    "\n",
    "    return merged_data\n",
    "\n",
    "# File paths\n",
    "general_file = 'provider_general_data.json'\n",
    "employee_file = 'provider_employees.json'\n",
    "color_file = 'provider_color.json'\n",
    "department_file = 'provider_departments.json'\n",
    "\n",
    "# Debugging: Print current working directory\n",
    "print(\"Current working directory:\", os.getcwd())\n",
    "\n",
    "# Blend the data\n",
    "blended_result = blend_data_from_files(general_file, employee_file, color_file, department_file)\n",
    "\n",
    "# Debugging: Print the blended data to verify\n",
    "print(\"Blended Data:\", json.dumps(blended_result, indent=4))\n",
    "\n",
    "# Write the result to a new JSON file and capture any potential errors\n",
    "try:\n",
    "    with open('blended_data_providers.json', 'w') as output_file:\n",
    "        json.dump(blended_result, output_file, indent=4)\n",
    "    print(\"Blended data has been saved to 'blended_data_providers.json'\")\n",
    "except Exception as e:\n",
    "    print(f\"Error saving file: {e}\")\n",
    "\n",
    "\n",
    "\n",
    "\n"
   ]
  },
  {
   "cell_type": "markdown",
   "metadata": {},
   "source": [
    "**2. SETTING UP THE EMAIL WRITING ASSISTANT** (temperature = 1, tools= ??)"
   ]
  },
  {
   "cell_type": "code",
   "execution_count": 716,
   "metadata": {},
   "outputs": [],
   "source": [
    "email_tones = [\n",
    "    \"Urgent\",\n",
    "    \"Firm\",\n",
    "    \"Action Required\",\n",
    "    \"Time-Sensitive\",\n",
    "    \"Polite\",\n",
    "    \"Friendly\",\n",
    "    \"Professional\",\n",
    "    \"Empathetic\"\n",
    "]"
   ]
  },
  {
   "cell_type": "code",
   "execution_count": 717,
   "metadata": {},
   "outputs": [],
   "source": [
    "random_tone = rd.choice(email_tones)"
   ]
  },
  {
   "cell_type": "code",
   "execution_count": 718,
   "metadata": {},
   "outputs": [
    {
     "name": "stdout",
     "output_type": "stream",
     "text": [
      "Polite\n"
     ]
    }
   ],
   "source": [
    "print(random_tone)"
   ]
  },
  {
   "cell_type": "code",
   "execution_count": 719,
   "metadata": {},
   "outputs": [],
   "source": [
    "system_instruction= f\"\"\"You are a skilled copywriter with a knack for creating emails that feel\n",
    "    personal, relevant, urgent and engaging. Your task is to write emails to employees of\n",
    "    {COMPANY} all while maintaining a tone that feels individual, tailored and professional. \n",
    "    \n",
    "    The email should appear to come from a relevant source. Encourage actions like clicking links or downloading attachments with a sense of urgency. Align the email subject with the sender's theme and message.\n",
    "    \n",
    "    Incorporate in your answer only complete emails.\n",
    "    \n",
    "    Everything about the sender address, subject, and email body is focused on the recipient interacting with the link.\n",
    "    \n",
    "    If you encounter any characters as \"/\", \"\\\", \"-\" replace them with \"_\"\n",
    "    \n",
    "    The email should have a {random_tone} tone.\n",
    "    \n",
    "    The receiver of the email is {random_employee['name']} and should be in {random_employee['language']}. Address the receiver formal and by his full name.\n",
    "\n",
    "    The email signature should contain the first name, family name, role and the company name of one of the employees of {provider}. \n",
    "\n",
    "    Do not include the link in the body of the email, as it will be implemented separately and placed below the text body, refer to it in the text body where it is placed.\n",
    "\n",
    "    Just plain text in the body, nothing to include anymore.\n",
    "\n",
    "    The email should be written in this style example:\n",
    "\n",
    "    Use this JSON schema:\n",
    "\n",
    "    Provider_email = {{'subject':str,'addressing_the_receiver':str, 'body':str, 'email_sign_fullname':str, 'email_sign_role':str, 'email_sign_company':str}}\n",
    "    Return: list[Provider_email]\n",
    "        \n",
    "        \n",
    "        \"\"\""
   ]
  },
  {
   "cell_type": "code",
   "execution_count": 720,
   "metadata": {},
   "outputs": [],
   "source": [
    "config = GenerateContentConfig(system_instruction=system_instruction, temperature=1,maxOutputTokens=8000, top_p=0.9, top_k=40, safety_settings=safety_settings)"
   ]
  },
  {
   "cell_type": "markdown",
   "metadata": {},
   "source": [
    "**Fetch some Provider Context to generate better emails**"
   ]
  },
  {
   "cell_type": "code",
   "execution_count": 721,
   "metadata": {},
   "outputs": [],
   "source": [
    "# Load JSON data from the file\n",
    "with open(\"provider_employees.json\", \"r\") as file:\n",
    "    provider_employees = json.load(file)"
   ]
  },
  {
   "cell_type": "code",
   "execution_count": 722,
   "metadata": {},
   "outputs": [],
   "source": [
    "# Load JSON data from the file\n",
    "with open(\"provider_departments.json\", \"r\") as file:\n",
    "    provider_departments = json.load(file)"
   ]
  },
  {
   "cell_type": "markdown",
   "metadata": {},
   "source": [
    "**Setting up some dummy data about proximus employees**"
   ]
  },
  {
   "cell_type": "code",
   "execution_count": 723,
   "metadata": {},
   "outputs": [],
   "source": [
    "proximus_employees = [\n",
    "    {\n",
    "        \"name\": \"Marie Declercq\", \n",
    "        \"email\": \"marie.declercq@proximus.be\", \n",
    "        \"role\": \"Data Analyst\", \n",
    "        \"language\": \"Dutch\", \n",
    "        \"department\": \"Consumer Market\"\n",
    "    },\n",
    "    {\n",
    "        \"name\": \"Luc Vandenberg\", \n",
    "        \"email\": \"luc.vandenberg@proximus.be\", \n",
    "        \"role\": \"Cybersecurity Specialist\", \n",
    "        \"language\": \"Dutch\", \n",
    "        \"department\": \"Network & Wholesale\"\n",
    "    },\n",
    "    {\n",
    "        \"name\": \"Emma Wouters\", \n",
    "        \"email\": \"emma.wouters@proximus.be\", \n",
    "        \"role\": \"Marketing Specialist\", \n",
    "        \"language\": \"English\", \n",
    "        \"department\": \"Enterprise Market\"\n",
    "    },\n",
    "    {\n",
    "        \"name\": \"Jai Mehta\", \n",
    "        \"email\": \"jai.mehta@proximus.be\", \n",
    "        \"role\": \"System Administrator\", \n",
    "        \"language\": \"English\", \n",
    "        \"department\": \"IT Infrastructure\"\n",
    "    },\n",
    "    {\n",
    "        \"name\": \"Guillaume Boutin\", \n",
    "        \"email\": \"guillaume.boutin@proximus.be\", \n",
    "        \"role\": \"Chief Executive Officer\", \n",
    "        \"language\": \"French\", \n",
    "        \"department\": \"Chief Executive Officer's Department\"\n",
    "    }\n",
    "] \n"
   ]
  },
  {
   "cell_type": "code",
   "execution_count": 724,
   "metadata": {},
   "outputs": [],
   "source": [
    "random_employee = rd.choice(proximus_employees)"
   ]
  },
  {
   "cell_type": "code",
   "execution_count": 725,
   "metadata": {},
   "outputs": [
    {
     "name": "stdout",
     "output_type": "stream",
     "text": [
      "{'name': 'Emma Wouters', 'email': 'emma.wouters@proximus.be', 'role': 'Marketing Specialist', 'language': 'English', 'department': 'Enterprise Market'}\n"
     ]
    }
   ],
   "source": [
    "print(random_employee)"
   ]
  },
  {
   "cell_type": "code",
   "execution_count": 726,
   "metadata": {},
   "outputs": [],
   "source": [
    "telecom_employee_events = [\n",
    "    \"Seminars\",\n",
    "    \"Presentations\",\n",
    "    \"Networking Meetings\",\n",
    "    \"Workshops\",\n",
    "    \"Training Sessions\",\n",
    "    \"Industry Roundtables\",\n",
    "    \"Panel Discussions\",\n",
    "    \"Webinars\",\n",
    "    \"Conferences\",\n",
    "    \"Hackathons\",\n",
    "    \"Product Demos\",\n",
    "    \"Leadership Forums\",\n",
    "    \"Strategic Planning Meetings\",\n",
    "    \"Customer Experience Sessions\",\n",
    "    \"Innovation Labs\"\n",
    "]"
   ]
  },
  {
   "cell_type": "code",
   "execution_count": 727,
   "metadata": {},
   "outputs": [],
   "source": [
    "random_event=rd.choice(telecom_employee_events)"
   ]
  },
  {
   "cell_type": "code",
   "execution_count": 728,
   "metadata": {},
   "outputs": [
    {
     "name": "stdout",
     "output_type": "stream",
     "text": [
      "Strategic Planning Meetings\n"
     ]
    }
   ],
   "source": [
    "print(random_event)"
   ]
  },
  {
   "cell_type": "code",
   "execution_count": 729,
   "metadata": {},
   "outputs": [],
   "source": [
    "urgent_provider_issues = [\n",
    "    \"Network Outages\",\n",
    "    \"SLA Violations\",\n",
    "    \"Payment Delays\",\n",
    "    \"Contract Breach\",\n",
    "    \"Quality Failures\",\n",
    "    \"Security Risks\",\n",
    "    \"Price Increases\",\n",
    "    \"Missed Deadlines\",\n",
    "    \"Regulatory Issues\",\n",
    "    \"Billing Discrepancies\"\n",
    "]"
   ]
  },
  {
   "cell_type": "code",
   "execution_count": 730,
   "metadata": {},
   "outputs": [],
   "source": [
    "random_issue=rd.choice(urgent_provider_issues)"
   ]
  },
  {
   "cell_type": "code",
   "execution_count": 731,
   "metadata": {},
   "outputs": [
    {
     "name": "stdout",
     "output_type": "stream",
     "text": [
      "Missed Deadlines\n"
     ]
    }
   ],
   "source": [
    "print(random_issue)"
   ]
  },
  {
   "cell_type": "markdown",
   "metadata": {},
   "source": [
    "**Emails Provider to Proximus**"
   ]
  },
  {
   "cell_type": "markdown",
   "metadata": {},
   "source": [
    "Service related Emails"
   ]
  },
  {
   "cell_type": "code",
   "execution_count": 732,
   "metadata": {},
   "outputs": [],
   "source": [
    "contents = f\"\"\"\n",
    "\n",
    "{provider} is a service provider of {COMPANY}. {provider} has these {provider_departments}.\n",
    "\n",
    "Write some tailored emails based on the role of {random_employee['role']} about an urgent matter that needs to be solved related to {COMPANY} concerning a service that {provider} offers. Elaborate about the issue and point out why it needs to be solved as quick as possible.\n",
    "\n",
    "\"\"\"\n",
    "\n",
    "response = client.models.generate_content(\n",
    "    model=MODEL, config=config, contents=contents)\n",
    "\n"
   ]
  },
  {
   "cell_type": "markdown",
   "metadata": {},
   "source": [
    "repairing a string"
   ]
  },
  {
   "cell_type": "code",
   "execution_count": 733,
   "metadata": {},
   "outputs": [],
   "source": [
    "def repair_json_response(response_text):\n",
    "    \"\"\"\n",
    "    Repairs a potentially malformed JSON string from `response.text`.\n",
    "    Ensures it starts with '[' and ends with ']' after the last complete dictionary.\n",
    "\n",
    "    Args:\n",
    "        response_text (str): The response text containing a potentially malformed JSON string.\n",
    "\n",
    "    Returns:\n",
    "        None: Prints the repaired JSON string.\n",
    "\n",
    "    Raises:\n",
    "        ValueError: If the string cannot be repaired into valid JSON.\n",
    "    \"\"\"\n",
    "    # Remove the unwanted prefix if it exists\n",
    "    if response_text.strip().startswith(\"```json\") or response_text.strip().startswith(\"[```json\"):\n",
    "        response_text = response_text.replace(\"```json\", \"\", 1).replace(\"[```json\", \"\", 1).strip()\n",
    "\n",
    "    # Ensure the string starts with '['\n",
    "    if not response_text.strip().startswith(\"[\"):\n",
    "        response_text = \"[\" + response_text\n",
    "\n",
    "    # Find the last closing brace ('}')\n",
    "    last_brace_index = response_text.rfind(\"}\")\n",
    "    if last_brace_index == -1:\n",
    "        raise ValueError(\"No closing brace found in the response text.\")\n",
    "\n",
    "    # Trim the string up to the last complete dictionary and close the list\n",
    "    repaired_string = response_text[:last_brace_index + 1].rstrip(\", \\n\") + \"]\"\n",
    "    \n",
    "    # Print the repaired JSON string\n",
    "    return repaired_string\n"
   ]
  },
  {
   "cell_type": "code",
   "execution_count": 734,
   "metadata": {},
   "outputs": [
    {
     "data": {
      "text/plain": [
       "'[\\n  {\\n    \"subject\": \"Dringend_Nieuwe_Technologieplatform_Implementatie\",\\n    \"addressing_the_receiver\": \"Geachte Mevrouw Declercq,\",\\n    \"body\": \"We hebben een dringend probleem vastgesteld met de implementatie van het nieuwe technologieplatform. Het is cruciaal dat we dit zo snel mogelijk oplossen om verstoringen in onze diensten te voorkomen. Ik verzoek u vriendelijk om de onderstaande link te bezoeken om de details te bekijken en de nodige stappen te ondernemen. Uw snelle actie is van groot belang voor de continuïteit van onze activiteiten.\",\\n    \"email_sign_fullname\": \"Kiran Kumar\",\\n    \"email_sign_role\": \"Project Manager\",\\n    \"email_sign_company\": \"Tech Mahindra\",\\n    \"receiver_full_name\": \"Marie Declercq\"\\n  }]'"
      ]
     },
     "execution_count": 734,
     "metadata": {},
     "output_type": "execute_result"
    }
   ],
   "source": [
    "response_llm = response.text\n",
    "repair_json_response(response_llm)"
   ]
  },
  {
   "cell_type": "code",
   "execution_count": 735,
   "metadata": {},
   "outputs": [
    {
     "name": "stdout",
     "output_type": "stream",
     "text": [
      "JSON data has been successfully written to 'emails_related_service.json'.\n"
     ]
    },
    {
     "data": {
      "text/plain": [
       "True"
      ]
     },
     "execution_count": 735,
     "metadata": {},
     "output_type": "execute_result"
    }
   ],
   "source": [
    "save_json_from_string(response_llm, 'emails_related_service.json')"
   ]
  },
  {
   "cell_type": "markdown",
   "metadata": {},
   "source": [
    "Provider - Proximus Employee events"
   ]
  },
  {
   "cell_type": "code",
   "execution_count": 736,
   "metadata": {},
   "outputs": [],
   "source": [
    "contents = f\"\"\"\n",
    "\n",
    "{provider} is a service provider of {COMPANY}. {provider} has these {provider_departments}.\n",
    "\n",
    "Write some tailored emails based on the role of {random_employee['role']} about an event that is organized by {provider}. \n",
    "\n",
    "The event is {random_event} and is geared towards {random_employee['role']}.\n",
    "\n",
    "Do not include urgent in the subject of the email. State that the spots available are limited and urgent action is required.\n",
    "\n",
    "\"\"\"\n",
    "\n",
    "response = client.models.generate_content(\n",
    "    model=MODEL, config=config, contents=contents)\n",
    "\n"
   ]
  },
  {
   "cell_type": "code",
   "execution_count": 737,
   "metadata": {},
   "outputs": [
    {
     "data": {
      "text/plain": [
       "'[\\n  {\\n    \"subject\": \"Exclusieve Uitnodiging: Strategische Planningsbijeenkomst voor Marketing Specialisten\",\\n    \"addressing_the_receiver\": \"Geachte mevrouw Declercq,\",\\n    \"body\": \"We hopen dat deze e-mail u goed bereikt. \\\\n\\\\nTech Mahindra nodigt u, als gewaardeerde Marketing Specialist bij Proximus, van harte uit voor onze exclusieve Strategische Planningsbijeenkomst. Deze sessie is speciaal ontworpen om marketing professionals zoals u samen te brengen, de nieuwste trends en innovaties te bespreken, en gezamenlijk te werken aan strategieën die uw marketingdoelen zullen overtreffen.\\\\n\\\\nEr zijn beperkte plaatsen beschikbaar, dus we moedigen u aan om snel te handelen. Klik op de onderstaande link om uw plek te reserveren.\\\\n\\\\nWe kijken uit naar uw deelname en een inspirerende sessie samen.\",\\n    \"email_sign_fullname\": \"Anand Mahindra\",\\n    \"email_sign_role\": \"CEO\",\\n    \"email_sign_company\": \"Tech Mahindra\",\\n    \"receiver_full_name\": \"Marie Declercq\"\\n  }]'"
      ]
     },
     "execution_count": 737,
     "metadata": {},
     "output_type": "execute_result"
    }
   ],
   "source": [
    "response_llm = response.text\n",
    "repair_json_response(response_llm)"
   ]
  },
  {
   "cell_type": "code",
   "execution_count": 738,
   "metadata": {},
   "outputs": [
    {
     "name": "stdout",
     "output_type": "stream",
     "text": [
      "JSON data has been successfully written to 'emails_employee_event.json'.\n"
     ]
    },
    {
     "data": {
      "text/plain": [
       "True"
      ]
     },
     "execution_count": 738,
     "metadata": {},
     "output_type": "execute_result"
    }
   ],
   "source": [
    "save_json_from_string(response_llm, 'emails_employee_event.json')"
   ]
  },
  {
   "cell_type": "markdown",
   "metadata": {},
   "source": [
    "Provider issues with Proximus"
   ]
  },
  {
   "cell_type": "code",
   "execution_count": 739,
   "metadata": {},
   "outputs": [],
   "source": [
    "contents= f\"\"\"\n",
    "\n",
    "{provider} is a service provider of {COMPANY}. {provider} has these {provider_departments}.\n",
    "\n",
    "Write some tailored emails based on the role of {random_employee['role']} about an issue that {provider} have with {COMPANY}. \n",
    "\n",
    "The issue is {random_issue} and is related to {random_employee['role']}. Elaborate about the issue. \n",
    "\n",
    "\"\"\"\n",
    "\n",
    "response = client.models.generate_content(\n",
    "    model=MODEL, config=config, contents=contents)\n",
    "\n"
   ]
  },
  {
   "cell_type": "code",
   "execution_count": 740,
   "metadata": {},
   "outputs": [
    {
     "data": {
      "text/plain": [
       "'[\\n  {\\n    \"subject\": \"Belangrijke update: Tech Mahindra platform deadlines\",\\n    \"addressing_the_receiver\": \"Geachte Mevrouw Declercq,\",\\n    \"body\": \"Ik hoop dat deze e_mail u goed bereikt. \\\\n\\\\nWe schrijven u vandaag met betrekking tot de voortgang van de technologieplatformontwikkeling door Tech Mahindra. Het spijt ons u te moeten informeren dat er een aanzienlijke vertraging is opgetreden bij het behalen van enkele cruciale deadlines. Deze vertragingen hebben directe gevolgen voor onze marketingplanning en campagnes, met name wat betreft de lancering van de nieuwe platformfuncties waarvoor uw input van essentieel belang is. \\\\n\\\\nOm de situatie te begrijpen en samen tot een oplossing te komen, vragen we u dringend om de bijgevoegde documentatie te bekijken. Het biedt een gedetailleerd overzicht van de specifieke gemiste deadlines en de mogelijke impact op onze marketingactiviteiten. Het is cruciaal dat we dit zo snel mogelijk bekijken, zodat we eventuele verdere gevolgen kunnen minimaliseren. \\\\n\\\\nWe waarderen uw medewerking en begrip in deze zaak.\",\\n    \"email_sign_fullname\": \"Anika Sharma\",\\n    \"email_sign_role\": \"Projectmanager\",\\n    \"email_sign_company\": \"Tech Mahindra\",\\n    \"receiver_full_name\": \"Marie Declercq\"\\n  }]'"
      ]
     },
     "execution_count": 740,
     "metadata": {},
     "output_type": "execute_result"
    }
   ],
   "source": [
    "response_llm = response.text\n",
    "repair_json_response(response_llm)"
   ]
  },
  {
   "cell_type": "code",
   "execution_count": 741,
   "metadata": {},
   "outputs": [
    {
     "name": "stdout",
     "output_type": "stream",
     "text": [
      "JSON data has been successfully written to 'emails_provider_issue.json'.\n"
     ]
    },
    {
     "data": {
      "text/plain": [
       "True"
      ]
     },
     "execution_count": 741,
     "metadata": {},
     "output_type": "execute_result"
    }
   ],
   "source": [
    "save_json_from_string(response_llm, 'emails_provider_issue.json')"
   ]
  },
  {
   "cell_type": "markdown",
   "metadata": {},
   "source": [
    "**Internal Emails Proximus**"
   ]
  },
  {
   "cell_type": "code",
   "execution_count": null,
   "metadata": {},
   "outputs": [],
   "source": []
  },
  {
   "cell_type": "markdown",
   "metadata": {},
   "source": [
    "**3. BLENDING DATA IN HTML**"
   ]
  },
  {
   "cell_type": "markdown",
   "metadata": {},
   "source": []
  },
  {
   "cell_type": "markdown",
   "metadata": {},
   "source": [
    "**4. SENDING MAILS TO GOPHISH**"
   ]
  },
  {
   "cell_type": "markdown",
   "metadata": {},
   "source": []
  }
 ],
 "metadata": {
  "kernelspec": {
   "display_name": "proximus",
   "language": "python",
   "name": "python3"
  },
  "language_info": {
   "codemirror_mode": {
    "name": "ipython",
    "version": 3
   },
   "file_extension": ".py",
   "mimetype": "text/x-python",
   "name": "python",
   "nbconvert_exporter": "python",
   "pygments_lexer": "ipython3",
   "version": "3.10.11"
  }
 },
 "nbformat": 4,
 "nbformat_minor": 2
}
