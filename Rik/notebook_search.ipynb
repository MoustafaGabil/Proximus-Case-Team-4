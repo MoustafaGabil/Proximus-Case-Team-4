{
 "cells": [
  {
   "cell_type": "code",
   "execution_count": 1268,
   "metadata": {},
   "outputs": [
    {
     "name": "stdout",
     "output_type": "stream",
     "text": [
      "I am a large language model, trained by Google.\n",
      "\n"
     ]
    }
   ],
   "source": [
    "from google import genai\n",
    "from dotenv import load_dotenv\n",
    "import os\n",
    "from pydantic import BaseModel, ValidationError\n",
    "from typing import List\n",
    "from google.genai.types import GenerateContentConfig, Tool\n",
    "from google.generativeai.types import HarmCategory, HarmBlockThreshold\n",
    "import json\n",
    "import re\n",
    "import random as rd\n",
    "\n",
    "# Load environment variables from the .env file\n",
    "load_dotenv()\n",
    "\n",
    "# Retrieve the API key from the .env file\n",
    "api_key = os.getenv('GEMINI_API_KEY')\n",
    "\n",
    "# Initialize the Google AI client\n",
    "client = genai.Client(api_key=api_key)\n",
    "\n",
    "# Generate content\n",
    "response = client.models.generate_content(\n",
    "    model='gemini-2.0-flash-exp', contents='What is your name?'\n",
    ")\n",
    "print(response.text)\n",
    "\n",
    "\n"
   ]
  },
  {
   "cell_type": "markdown",
   "metadata": {},
   "source": [
    "*Function to extract Json of LLm output and save it to a file*"
   ]
  },
  {
   "cell_type": "code",
   "execution_count": 1269,
   "metadata": {},
   "outputs": [],
   "source": [
    "def save_json_from_string(input_string, output_filename):\n",
    "    \"\"\"\n",
    "    Extracts JSON content from a string and saves it to a JSON file with the specified name.\n",
    "\n",
    "    :param input_string: The input string containing JSON data within brackets.\n",
    "    :param output_filename: The name of the output JSON file (e.g., \"data.json\").\n",
    "    :return: True if the operation was successful, False otherwise.\n",
    "    \"\"\"\n",
    "    # Step 1: Extract the JSON content within the brackets\n",
    "    result = re.search(r'\\[.*\\]', input_string, re.DOTALL)\n",
    "\n",
    "    if result:\n",
    "        extracted_content = result.group(0)  # Get the matched content\n",
    "\n",
    "        try:\n",
    "            # Step 2: Parse the extracted content into a Python object (list/dict)\n",
    "            json_data = json.loads(extracted_content)\n",
    "\n",
    "            # Step 3: Write the JSON data to a file\n",
    "            with open(output_filename, \"w\", encoding=\"utf-8\") as json_file:\n",
    "                json.dump(json_data, json_file, indent=4)  # Save with pretty formatting\n",
    "\n",
    "            print(f\"JSON data has been successfully written to '{output_filename}'.\")\n",
    "            return True  # Operation was successful\n",
    "        except json.JSONDecodeError as e:\n",
    "            print(f\"Error parsing JSON: {e}\")\n",
    "        except Exception as e:\n",
    "            print(f\"An error occurred while writing the file: {e}\")\n",
    "    else:\n",
    "        print(\"No content found within brackets.\")\n",
    "\n",
    "    return False  # Operation failed"
   ]
  },
  {
   "cell_type": "code",
   "execution_count": 1270,
   "metadata": {},
   "outputs": [],
   "source": [
    "MODEL = \"gemini-2.0-flash-exp\""
   ]
  },
  {
   "cell_type": "code",
   "execution_count": 1271,
   "metadata": {},
   "outputs": [],
   "source": [
    "\n",
    "COMPANY = 'Proximus'"
   ]
  },
  {
   "cell_type": "code",
   "execution_count": 1272,
   "metadata": {},
   "outputs": [],
   "source": [
    "safety_settings = [\n",
    "    {\"category\": \"HARM_CATEGORY_HARASSMENT\", \"threshold\": \"BLOCK_NONE\"},\n",
    "    {\"category\": \"HARM_CATEGORY_HATE_SPEECH\", \"threshold\": \"BLOCK_NONE\"},\n",
    "    {\"category\": \"HARM_CATEGORY_SEXUALLY_EXPLICIT\", \"threshold\": \"BLOCK_NONE\"},\n",
    "    {\"category\": \"HARM_CATEGORY_DANGEROUS_CONTENT\", \"threshold\": \"BLOCK_NONE\"},\n",
    "]"
   ]
  },
  {
   "cell_type": "markdown",
   "metadata": {},
   "source": [
    "**1. SETTING UP A RESEARCH ASSISTANT** (temperature = 0, tools = google search)"
   ]
  },
  {
   "cell_type": "code",
   "execution_count": 1273,
   "metadata": {},
   "outputs": [],
   "source": [
    "system_instruction = \"\"\"You are an analyst that conducts company research.\n",
    "You are given a company name, and you will work on a company report. You have access\n",
    "to Google Search to look up company news, updates, metrics, public records and linkedin pages to write research reports.\n",
    "\n",
    "When given a company name, identify key aspects to research, look up that information\n",
    "and then write an elaborate company report. \n",
    "\n",
    "Thoroughly plan your work in detail and steps, but avoid discussing it. Do not add any additional comments after finishing the report.\"\"\""
   ]
  },
  {
   "cell_type": "code",
   "execution_count": 1274,
   "metadata": {},
   "outputs": [],
   "source": [
    "config = GenerateContentConfig(system_instruction=system_instruction, tools=[Tool(google_search={})], temperature=0,maxOutputTokens=8000, top_p=0.9, top_k=5, safety_settings=safety_settings)"
   ]
  },
  {
   "cell_type": "markdown",
   "metadata": {},
   "source": [
    "**Main Company report**"
   ]
  },
  {
   "cell_type": "code",
   "execution_count": 1275,
   "metadata": {},
   "outputs": [
    {
     "name": "stdout",
     "output_type": "stream",
     "text": [
      "```json\n",
      "[\n",
      "    {\n",
      "        \"subject\": \"Proximus Rebrands Global Arm as Proximus Global\",\n",
      "        \"overview\": \"Proximus has integrated its international divisions, including BICS, Telesign, and Route Mobile, under a new umbrella brand called Proximus Global. This new entity is valued at approximately €3.1 billion in equity. The move aims to streamline operations, harmonize roles, and leverage cross-selling opportunities. Clear Bridge Ventures, the investment vehicle of Route Mobile's founders, retains an 8.7% stake in Proximus Global, with Proximus owning the rest. Guillaume Boutin will serve as CEO of Proximus Global while continuing as group CEO.\",\n",
      "        \"source\": \"Light Reading, telecomtv.com\"\n",
      "    },\n",
      "    {\n",
      "        \"subject\": \"Scarlet Offers More Data at Same Price\",\n",
      "        \"overview\": \"Scarlet, a subsidiary of Proximus, has increased the data volumes on its mobile plans without raising prices. This new offer is effective as of the beginning of 2025.\",\n",
      "        \"source\": \"proximus.com\"\n",
      "    },\n",
      "     {\n",
      "        \"subject\": \"Proximus Tests Cargo Sailboat in Supply Chain\",\n",
      "        \"overview\": \"Proximus is exploring sustainable transportation methods by testing the use of a cargo sailboat in its supply chain, in collaboration with Sagemcom.\",\n",
      "        \"source\": \"proximus.com\"\n",
      "    },\n",
      "    {\n",
      "        \"subject\": \"Proximus Shareholding Transparency Declaration\",\n",
      "        \"overview\": \"Proximus has issued multiple transparency declarations regarding its shareholding structure.\",\n",
      "        \"source\": \"proximus.com\"\n",
      "    },\n",
      "    {\n",
      "        \"subject\": \"Proximus Fiber Network Recognized for Performance\",\n",
      "        \"overview\": \"Studies by nPerf and Ookla have recognized Proximus' fiber network for its superior speed and performance compared to competitors.\",\n",
      "         \"source\": \"proximus.com\"\n",
      "    },\n",
      "    {\n",
      "        \"subject\": \"Proximus Sells Luxembourg Towers\",\n",
      "        \"overview\": \"Proximus has sold its mobile tower assets in Luxembourg to InfraRed Capital Partners for approximately €108 million.\",\n",
      "        \"source\": \"datacenterdynamics.com, marketscreener.com\"\n",
      "    },\n",
      "    {\n",
      "        \"subject\": \"Proximus Reportedly Plans to Sell Be-Mobile\",\n",
      "        \"overview\": \"Proximus is reportedly planning to sell its mobility subsidiary, Be-Mobile, to fund its fiber optic cable rollout. Proximus owns around 93% of Be-Mobile.\",\n",
      "        \"source\": \"datacenterdynamics.com\"\n",
      "    },\n",
      "     {\n",
      "        \"subject\": \"Proximus Completes Data Center Sale\",\n",
      "        \"overview\": \"Proximus has finalized the sale of its data centers to Datacenter United in a sale-leaseback deal valued at €128 million. The transaction is expected to close by Q1 2025.\",\n",
      "        \"source\": \"datacenterdynamics.com\"\n",
      "    },\n",
      "    {\n",
      "        \"subject\": \"Microsoft and Proximus Announce Strategic Partnership\",\n",
      "        \"overview\": \"Microsoft and Proximus have entered into a 5-year strategic partnership to enhance cloud and AI solutions. This partnership will allow both companies to leverage their expertise and product leadership, with Microsoft strengthening its use of Proximus' CPaaS & DI product suites.\",\n",
      "        \"source\": \"thecyberexpress.com\"\n",
      "    }\n",
      "]\n",
      "```\n"
     ]
    }
   ],
   "source": [
    "contents = f\"\"\"\n",
    "Write a report about {COMPANY}.\n",
    "\n",
    "The report should contain an extensive overview of the most important news facts of the last 2 weeks. \n",
    "\n",
    "The report should be written in this style example:\n",
    "\n",
    "Use this JSON schema:\n",
    "\n",
    "Proximus_news = {{'subject':str, 'overview':str, 'source':str}}\n",
    "Return: list[Proximus_news]\n",
    "\"\"\"\n",
    "\n",
    "response = client.models.generate_content(\n",
    "    model=MODEL, config=config, contents=contents)\n",
    "\n",
    "print(response.text)\n"
   ]
  },
  {
   "cell_type": "code",
   "execution_count": 1276,
   "metadata": {},
   "outputs": [
    {
     "name": "stdout",
     "output_type": "stream",
     "text": [
      "JSON data has been successfully written to 'proximus_news.json'.\n"
     ]
    },
    {
     "data": {
      "text/plain": [
       "True"
      ]
     },
     "execution_count": 1276,
     "metadata": {},
     "output_type": "execute_result"
    }
   ],
   "source": [
    "save_json_from_string(response.text, 'proximus_news.json')"
   ]
  },
  {
   "cell_type": "markdown",
   "metadata": {},
   "source": [
    "**Proximus Key Employees and Roles**"
   ]
  },
  {
   "cell_type": "code",
   "execution_count": 1277,
   "metadata": {},
   "outputs": [
    {
     "name": "stdout",
     "output_type": "stream",
     "text": [
      "```json\n",
      "[\n",
      "    {\n",
      "        \"first_name\": \"Guillaume\",\n",
      "        \"family_name\": \"Boutin\",\n",
      "        \"role\": \"Chief Executive Officer\",\n",
      "        \"department\": \"CEO's department\",\n",
      "        \"email_address\": \"guillaume.boutin@proximus.be\"\n",
      "    },\n",
      "    {\n",
      "        \"first_name\": \"Stefaan\",\n",
      "        \"family_name\": \"De Clerck\",\n",
      "         \"role\": \"Chairman of the Board\",\n",
      "        \"department\": \"Board of Directors\",\n",
      "        \"email_address\": \"stefaan.declerck@proximus.be\"\n",
      "    },\n",
      "    {\n",
      "        \"first_name\": \"Ben\",\n",
      "        \"family_name\": \"Appel\",\n",
      "        \"role\": \"Corporate Affairs Lead\",\n",
      "        \"department\": \"Corporate Affairs\",\n",
      "        \"email_address\": \"ben.appel@proximus.be\"\n",
      "    },\n",
      "    {\n",
      "        \"first_name\": \"Jim\",\n",
      "        \"family_name\": \"Casteele\",\n",
      "        \"role\": \"Consumer Market Lead\",\n",
      "        \"department\": \"Consumer Market\",\n",
      "        \"email_address\": \"jim.casteele@proximus.be\"\n",
      "    },\n",
      "    {\n",
      "        \"first_name\": \"Anne-Sophie\",\n",
      "        \"family_name\": \"Lotgering\",\n",
      "        \"role\": \"Enterprise IT Services & Segments Lead\",\n",
      "         \"department\": \"Enterprise Market\",\n",
      "        \"email_address\": \"anne-sophie.lotgering@proximus.be\"\n",
      "    },\n",
      "    {\n",
      "        \"first_name\": \"Antonietta\",\n",
      "        \"family_name\": \"Mastroianni\",\n",
      "        \"role\": \"Digital & IT Lead\",\n",
      "        \"department\": \"Digital & IT\",\n",
      "        \"email_address\": \"antonietta.mastroianni@proximus.be\"\n",
      "    },\n",
      "     {\n",
      "        \"first_name\": \"Mark\",\n",
      "        \"family_name\": \"Reid\",\n",
      "        \"role\": \"Finance Lead\",\n",
      "        \"department\": \"Finance\",\n",
      "        \"email_address\":\"mark.reid@proximus.be\"\n",
      "    },\n",
      "    {\n",
      "        \"first_name\":\"Geert\",\n",
      "        \"family_name\":\"Standaert\",\n",
      "        \"role\":\"Network & Wholesale Lead\",\n",
      "        \"department\":\"Network & Wholesale\",\n",
      "        \"email_address\":\"geert.standaert@proximus.be\"\n",
      "    },\n",
      "    {\n",
      "        \"first_name\": \"Renaud\",\n",
      "        \"family_name\": \"Tilmans\",\n",
      "        \"role\": \"Enterprise Telco Services & Ops Lead\",\n",
      "        \"department\":\"Customer Operations\",\n",
      "        \"email_address\": \"renaud.tilmans@proximus.be\"\n",
      "    },\n",
      "    {\n",
      "        \"first_name\": \"Jan\",\n",
      "        \"family_name\": \"Van Acoleyen\",\n",
      "        \"role\": \"Human Capital Lead\",\n",
      "        \"department\": \"Human Capital\",\n",
      "        \"email_address\": \"jan.vanacoleyen@proximus.be\"\n",
      "    },\n",
      "    {\n",
      "      \"first_name\": \"Caroline\",\n",
      "      \"family_name\": \"Basyn\",\n",
      "      \"role\": \"Independent director\",\n",
      "      \"department\": \"Board of Directors\",\n",
      "      \"email_address\": \"caroline.basyn@proximus.be\"\n",
      "    },\n",
      "    {\n",
      "      \"first_name\": \"Cécile\",\n",
      "      \"family_name\": \"Coune\",\n",
      "       \"role\":\"Independent director\",\n",
      "       \"department\": \"Board of Directors\",\n",
      "      \"email_address\": \"cecile.coune@proximus.be\"\n",
      "    },\n",
      "    {\n",
      "      \"first_name\": \"Karel\",\n",
      "      \"family_name\": \"De Gucht\",\n",
      "      \"role\": \"Director\",\n",
      "      \"department\": \"Board of Directors\",\n",
      "      \"email_address\": \"karel.degucht@proximus.be\"\n",
      "    },\n",
      "    {\n",
      "      \"first_name\": \"Béatrice\",\n",
      "      \"family_name\": \"de Mahieu\",\n",
      "      \"role\": \"Director\",\n",
      "      \"department\": \"Board of Directors\",\n",
      "      \"email_address\": \"beatrice.demahieu@proximus.be\"\n",
      "    },\n",
      "    {\n",
      "      \"first_name\": \"Martin\",\n",
      "      \"family_name\": \"De Prycker\",\n",
      "      \"role\":\"Independent director\",\n",
      "      \"department\": \"Board of Directors\",\n",
      "      \"email_address\": \"martin.deprycker@proximus.be\"\n",
      "    },\n",
      "    {\n",
      "      \"first_name\":\"Audrey\",\n",
      "      \"family_name\":\"Hanard\",\n",
      "      \"role\":\"Director\",\n",
      "      \"department\": \"Board of Directors\",\n",
      "      \"email_address\":\"audrey.hanard@proximus.be\"\n",
      "    },\n",
      "    {\n",
      "      \"first_name\":\"Ibrahim\",\n",
      "      \"family_name\":\"Ouassari\",\n",
      "      \"role\":\"Director\",\n",
      "      \"department\": \"Board of Directors\",\n",
      "      \"email_address\":\"ibrahim.ouassari@proximus.be\"\n",
      "    },\n",
      "    {\n",
      "      \"first_name\":\"Catherine\",\n",
      "      \"family_name\":\"Rutten\",\n",
      "      \"role\":\"Independent director\",\n",
      "      \"department\": \"Board of Directors\",\n",
      "      \"email_address\":\"catherine.rutten@proximus.be\"\n",
      "    },\n",
      "    {\n",
      "      \"first_name\":\"Joachim\",\n",
      "      \"family_name\":\"Sonne\",\n",
      "      \"role\":\"Independent director\",\n",
      "      \"department\": \"Board of Directors\",\n",
      "      \"email_address\":\"joachim.sonne@proximus.be\"\n",
      "    },\n",
      "    {\n",
      "        \"first_name\": \"Karl\",\n",
      "        \"family_name\": \"Cuveele\",\n",
      "        \"role\": \"Managing Director Proximus Real Estate\",\n",
      "        \"department\": \"Real Estate\",\n",
      "        \"email_address\": \"karl.cuveele@proximus.be\"\n",
      "    },\n",
      "    {\n",
      "        \"first_name\": \"Jacques\",\n",
      "        \"family_name\": \"Ruckert\",\n",
      "        \"role\": \"Chief Solutions & Innovation Officer\",\n",
      "         \"department\": \"Solutions & Innovation\",\n",
      "        \"email_address\": \"jacques.ruckert@proximus.be\"\n",
      "    },\n",
      "    {\n",
      "        \"first_name\": \"Jason\",\n",
      "        \"family_name\":\"Vanherrewegge\",\n",
      "        \"role\":\"Chief Editor\",\n",
      "        \"department\":\"Editorial\",\n",
      "        \"email_address\":\"jason.vanherrewegge@proximus.be\"\n",
      "    },\n",
      "    {\n",
      "        \"first_name\": \"Geert\",\n",
      "        \"family_name\": \"Kelchtermans\",\n",
      "        \"role\": \"VP Small & Medium Enterprises - Tribe Lead\",\n",
      "        \"department\": \"Small & Medium Enterprises\",\n",
      "        \"email_address\": \"geert.kelchtermans@proximus.be\"\n",
      "    },\n",
      "     {\n",
      "        \"first_name\":\"Jan\",\n",
      "        \"family_name\":\"van Oekelen\",\n",
      "        \"role\":\"Lead Manager Solution Sales\",\n",
      "        \"department\":\"Sales\",\n",
      "        \"email_address\":\"jan.vanoekelen@proximus.be\"\n",
      "    },\n",
      "    {\n",
      "        \"first_name\":\"Sebastien\",\n",
      "        \"family_name\":\"Evrard\",\n",
      "        \"role\":\"Center Of Excellence Lead - Pricing & Promotions\",\n",
      "        \"department\":\"Pricing & Promotions\",\n",
      "        \"email_address\":\"sebastien.evrard@proximus.be\"\n",
      "    },\n",
      "    {\n",
      "        \"first_name\":\"Thomas\",\n",
      "        \"family_name\":\"Vanherk\",\n",
      "        \"role\":\"Team Lead ICT Pricing & Costing\",\n",
      "        \"department\":\"ICT Pricing & Costing\",\n",
      "        \"email_address\":\"thomas.vanherk@proximus.be\"\n",
      "    },\n",
      "    {\n",
      "        \"first_name\":\"Annemie\",\n",
      "        \"family_name\":\"Peetermans\",\n",
      "        \"role\":\"Product Owner Lead - E2e Sales Journeys Physical Channels\",\n",
      "        \"department\":\"Sales\",\n",
      "        \"email_address\":\"annemie.peetermans@proximus.be\"\n",
      "    },\n",
      "    {\n",
      "        \"first_name\":\"Olivier\",\n",
      "        \"family_name\":\"Crucq\",\n",
      "        \"role\":\"Director Commercial & Marketing Chapter Area\",\n",
      "        \"department\":\"Commercial & Marketing\",\n",
      "        \"email_address\":\"olivier.crucq@proximus.be\"\n",
      "    },\n",
      "     {\n",
      "        \"first_name\":\"Paul\",\n",
      "        \"family_name\":\"Burch\",\n",
      "        \"role\":\"Sales & Marketing Director\",\n",
      "        \"department\":\"Sales & Marketing\",\n",
      "        \"email_address\":\"paul.burch@proximus.be\"\n",
      "    },\n",
      "    {\n",
      "        \"first_name\":\"Pierre\",\n",
      "        \"family_name\":\"Demoulin\",\n",
      "        \"role\":\"Fiber Sales Lead\",\n",
      "        \"department\":\"Sales\",\n",
      "        \"email_address\":\"pierre.demoulin@proximus.be\"\n",
      "    },\n",
      "    {\n",
      "        \"first_name\":\"Igor\",\n",
      "        \"family_name\":\"Makedonsky\",\n",
      "        \"role\":\"Director Group Legal & Insurance - General Counsel\",\n",
      "        \"department\":\"Legal & Insurance\",\n",
      "        \"email_address\":\"igor.makedonsky@proximus.be\"\n",
      "    }\n",
      "]\n",
      "```\n"
     ]
    }
   ],
   "source": [
    "contents = f\"\"\"\n",
    "Write a report about {COMPANY}\n",
    "\n",
    "The report should only contain a comprehensive summary of the employees in the company. \n",
    "\n",
    "The report should contain, the complete first name and family name, an email address with this structure \"first name.family name@{COMPANY}.be\" (put it all in lower case), the role that they have within the company and the department that they make part of.\n",
    "\n",
    "Do not include abbreviations in names, and exclude employees whose full first and last names cannot be found.\n",
    "\n",
    "Give me as much grounded names that you can find with your research and put them all in the report.\n",
    "\n",
    "The report should be written in this style example:\n",
    "\n",
    "Use this JSON schema:\n",
    "\n",
    "Proximus_employees = {{'first_name':str, 'family_name':str, 'role':str, 'department':str, 'email_address':str}}\n",
    "Return: list[Proximus_employees]\n",
    "\"\"\"\n",
    "\n",
    "response = client.models.generate_content(\n",
    "    model=MODEL, config=config, contents=contents)\n",
    "\n",
    "print(response.text)"
   ]
  },
  {
   "cell_type": "code",
   "execution_count": 1278,
   "metadata": {},
   "outputs": [
    {
     "name": "stdout",
     "output_type": "stream",
     "text": [
      "JSON data has been successfully written to 'proximus_employees.json'.\n"
     ]
    },
    {
     "data": {
      "text/plain": [
       "True"
      ]
     },
     "execution_count": 1278,
     "metadata": {},
     "output_type": "execute_result"
    }
   ],
   "source": [
    "save_json_from_string(response.text, 'proximus_employees.json')"
   ]
  },
  {
   "cell_type": "markdown",
   "metadata": {},
   "source": [
    "**Departments Proximus**"
   ]
  },
  {
   "cell_type": "code",
   "execution_count": 1279,
   "metadata": {},
   "outputs": [
    {
     "name": "stdout",
     "output_type": "stream",
     "text": [
      "```json\n",
      "[\n",
      "  {\n",
      "    \"department\": \"CEO's Department\",\n",
      "    \"subdivision\": [],\n",
      "    \"address\": \"Boulevard du Roi Albert II, 27, 1030 Brussels, Belgium\",\n",
      "    \"phone\": \"+32 2 202 41 11\",\n",
      "    \"vat\": \"BE 0202239951\"\n",
      "  },\n",
      "  {\n",
      "    \"department\": \"Consumer Market\",\n",
      "    \"subdivision\": [],\n",
      "     \"address\": \"Boulevard du Roi Albert II, 27, 1030 Brussels, Belgium\",\n",
      "    \"phone\": \"+32 2 202 41 11\",\n",
      "    \"vat\": \"BE 0202239951\"\n",
      "  },\n",
      "  {\n",
      "    \"department\": \"Enterprise Market\",\n",
      "    \"subdivision\": [],\n",
      "     \"address\": \"Boulevard du Roi Albert II, 27, 1030 Brussels, Belgium\",\n",
      "    \"phone\": \"+32 2 202 41 11\",\n",
      "    \"vat\": \"BE 0202239951\"\n",
      "  },\n",
      "   {\n",
      "    \"department\": \"Corporate Affairs\",\n",
      "    \"subdivision\": [],\n",
      "     \"address\": \"Boulevard du Roi Albert II, 27, 1030 Brussels, Belgium\",\n",
      "    \"phone\": \"+32 2 202 41 11\",\n",
      "    \"vat\": \"BE 0202239951\"\n",
      "  },\n",
      "  {\n",
      "    \"department\": \"Network & Wholesale\",\n",
      "    \"subdivision\": [],\n",
      "     \"address\": \"Boulevard du Roi Albert II, 27, 1030 Brussels, Belgium\",\n",
      "    \"phone\": \"+32 2 202 41 11\",\n",
      "    \"vat\": \"BE 0202239951\"\n",
      "  },\n",
      "  {\n",
      "    \"department\": \"Customer Operations\",\n",
      "    \"subdivision\": [],\n",
      "     \"address\": \"Boulevard du Roi Albert II, 27, 1030 Brussels, Belgium\",\n",
      "    \"phone\": \"+32 2 202 41 11\",\n",
      "    \"vat\": \"BE 0202239951\"\n",
      "  },\n",
      "    {\n",
      "    \"department\": \"Human Capital\",\n",
      "    \"subdivision\": [],\n",
      "     \"address\": \"Boulevard du Roi Albert II, 27, 1030 Brussels, Belgium\",\n",
      "    \"phone\": \"+32 2 202 41 11\",\n",
      "    \"vat\": \"BE 0202239951\"\n",
      "  },\n",
      "  {\n",
      "    \"department\": \"Digital & IT\",\n",
      "    \"subdivision\": [],\n",
      "     \"address\": \"Boulevard du Roi Albert II, 27, 1030 Brussels, Belgium\",\n",
      "    \"phone\": \"+32 2 202 41 11\",\n",
      "    \"vat\": \"BE 0202239951\"\n",
      "  },\n",
      "  {\n",
      "    \"department\": \"Finance\",\n",
      "    \"subdivision\": [],\n",
      "     \"address\": \"Boulevard du Roi Albert II, 27, 1030 Brussels, Belgium\",\n",
      "    \"phone\": \"+32 2 202 41 11\",\n",
      "    \"vat\": \"BE 0202239951\"\n",
      "  }\n",
      "]\n",
      "```\n"
     ]
    }
   ],
   "source": [
    "contents = f\"\"\"\n",
    "\n",
    "Write a report about {COMPANY}\n",
    "\n",
    "The report should exclusively provide a detailed summary of the company's departments and their respective subdivisions, if any.\n",
    "\n",
    "Include in the report the full address where the headquarter of the provider is located, the main phone number and vat number.\n",
    "\n",
    "Do not include abbreviations in the report.\n",
    "\n",
    "Provide a detailed list, specifying only verified and public information. Do not include speculative or incomplete details.\n",
    "\n",
    "The report should be written in this style example:\n",
    "\n",
    "Use this JSON schema:\n",
    "\n",
    "Proximus_departments = {{'department':str, 'subdivision':list[str], 'address':str, 'phone':str, 'vat':str}}\n",
    "Return: list[Proximus_departments]\n",
    "\"\"\"\n",
    "\n",
    "response = client.models.generate_content(\n",
    "    model=MODEL, config=config, contents=contents)\n",
    "\n",
    "print(response.text)"
   ]
  },
  {
   "cell_type": "code",
   "execution_count": 1280,
   "metadata": {},
   "outputs": [
    {
     "name": "stdout",
     "output_type": "stream",
     "text": [
      "JSON data has been successfully written to 'proximus_departments.json'.\n"
     ]
    },
    {
     "data": {
      "text/plain": [
       "True"
      ]
     },
     "execution_count": 1280,
     "metadata": {},
     "output_type": "execute_result"
    }
   ],
   "source": [
    "save_json_from_string(response.text, 'proximus_departments.json')"
   ]
  },
  {
   "cell_type": "markdown",
   "metadata": {},
   "source": [
    "**Company Colors**"
   ]
  },
  {
   "cell_type": "code",
   "execution_count": 1281,
   "metadata": {},
   "outputs": [
    {
     "name": "stdout",
     "output_type": "stream",
     "text": [
      "```json\n",
      "[\n",
      "    {\n",
      "        \"color_name_1\": \"Primary Purple\",\n",
      "        \"hex_code_1\": \"#5C2D91\",\n",
      "        \"rgb_code_1\": [92, 45, 145]\n",
      "    },\n",
      "    {\n",
      "        \"color_name_2\": \"White\",\n",
      "        \"hex_code_2\": \"#FFFFFF\",\n",
      "        \"rgb_code_2\": [255, 255, 255]\n",
      "    },\n",
      "    {\n",
      "        \"color_name_3\": \"Black\",\n",
      "         \"hex_code_3\": \"#000000\",\n",
      "         \"rgb_code_3\": [0, 0, 0]\n",
      "    }\n",
      "]\n",
      "```\n"
     ]
    }
   ],
   "source": [
    "contents = f\"\"\"\n",
    "\n",
    "Write a report about {COMPANY}\n",
    "\n",
    "The report should exclusively provide the main colors of Company's branding, including any official color codes such as HEX or RGB. Focus on the primary colors used in the company's logo and website.\n",
    "\n",
    "Do not include speculative colors and focus only on the main ones.\n",
    "\n",
    "The report should be written in this style example:\n",
    "\n",
    "Use this JSON schema:\n",
    "\n",
    "company_colors = {{'color_name_1':str, 'hex_code_1':str, 'rgb_code_1':list[int]}},{{'color_name_2':str,'hex_code_2':str,'rgb_code_2':list[int]}}\n",
    "Return: list[company_colors]\n",
    "\n",
    "Thoroughly plan your work in detail and steps, but avoid discussing it. Do not add any additional comments after finishing the report.\n",
    "\"\"\"\n",
    "\n",
    "\n",
    "response = client.models.generate_content(\n",
    "    model=MODEL, config=config, contents=contents)\n",
    "\n",
    "print(response.text)"
   ]
  },
  {
   "cell_type": "code",
   "execution_count": 1282,
   "metadata": {},
   "outputs": [
    {
     "name": "stdout",
     "output_type": "stream",
     "text": [
      "JSON data has been successfully written to 'proximus_colors.json'.\n"
     ]
    },
    {
     "data": {
      "text/plain": [
       "True"
      ]
     },
     "execution_count": 1282,
     "metadata": {},
     "output_type": "execute_result"
    }
   ],
   "source": [
    "save_json_from_string(response.text, 'proximus_colors.json')"
   ]
  },
  {
   "cell_type": "markdown",
   "metadata": {},
   "source": [
    "**Blend data from Json files Proximus**"
   ]
  },
  {
   "cell_type": "code",
   "execution_count": 1283,
   "metadata": {},
   "outputs": [
    {
     "name": "stdout",
     "output_type": "stream",
     "text": [
      "Data successfully merged into blended_data_proximus.json\n"
     ]
    }
   ],
   "source": [
    "\n",
    "# File paths for input and output\n",
    "input_files = {\n",
    "    \"colors\": \"proximus_colors.json\",\n",
    "    \"departments\": \"proximus_departments.json\",\n",
    "    \"employees\": \"proximus_employees.json\",\n",
    "    \"news\": \"proximus_news.json\",\n",
    "    \"providers\": \"proximus_providers.json\"\n",
    "}\n",
    "output_file = \"blended_data_proximus.json\"\n",
    "\n",
    "# Combine all data into one dictionary\n",
    "blended_data = {}\n",
    "\n",
    "for key, file_path in input_files.items():\n",
    "    with open(file_path, 'r') as f:\n",
    "        blended_data[key] = json.load(f)\n",
    "\n",
    "# Write the combined data to a new JSON file\n",
    "with open(output_file, 'w') as f:\n",
    "    json.dump(blended_data, f, indent=4)\n",
    "\n",
    "print(f\"Data successfully merged into {output_file}\")\n"
   ]
  },
  {
   "cell_type": "markdown",
   "metadata": {},
   "source": [
    "**Service providers**"
   ]
  },
  {
   "cell_type": "code",
   "execution_count": 1284,
   "metadata": {},
   "outputs": [
    {
     "name": "stdout",
     "output_type": "stream",
     "text": [
      "```json\n",
      "[\n",
      "  {\n",
      "    \"provider\": \"Tech Mahindra\",\n",
      "    \"service\": \"Design and build a technology platform called 'Tech Hub'\",\n",
      "    \"type\": \"Technology Platform Development\",\n",
      "    \"provider_homepage\": \"https://www.techmahindra.com/\"\n",
      "  },\n",
      "    {\n",
      "    \"provider\": \"Comviva\",\n",
      "    \"service\": \"Provides the BlueMarble platform that powers the 'Tech Hub' platform\",\n",
      "    \"type\": \"Technology Platform\",\n",
      "    \"provider_homepage\": null\n",
      "  },\n",
      "  {\n",
      "    \"provider\": \"BICS\",\n",
      "    \"service\": \"International communications enabler, global voice carrier, and provider of mobile data services\",\n",
      "    \"type\": \"Telecommunications\",\n",
      "    \"provider_homepage\": \"https://www.bics.com/\"\n",
      "  },\n",
      "  {\n",
      "    \"provider\": \"Telesign\",\n",
      "     \"service\": \"Specializes in communication platforms and digital identity\",\n",
      "    \"type\": \"Digital Identity and Communication Platforms\",\n",
      "    \"provider_homepage\": null\n",
      "  },\n",
      "  {\n",
      "    \"provider\": \"Be-Mobile\",\n",
      "    \"service\": \"Smart mobility solutions\",\n",
      "    \"type\": \"IT Services\",\n",
      "    \"provider_homepage\": null\n",
      "  },\n",
      "   {\n",
      "    \"provider\": \"ClearMedia\",\n",
      "    \"service\": \"Cloud, cybersecurity, and digital workplace solutions\",\n",
      "    \"type\": \"IT Services\",\n",
      "     \"provider_homepage\": null\n",
      "  },\n",
      "  {\n",
      "    \"provider\": \"Codit\",\n",
      "    \"service\": \"Microsoft Azure cloud solutions\",\n",
      "    \"type\": \"IT Services\",\n",
      "    \"provider_homepage\": null\n",
      "  },\n",
      "    {\n",
      "    \"provider\":\"Davinsi Labs\",\n",
      "    \"service\":\"Cybersecurity and operational intelligence\",\n",
      "    \"type\":\"IT Services\",\n",
      "    \"provider_homepage\": null\n",
      "  },\n",
      "  {\n",
      "    \"provider\": \"Proximus Spearit\",\n",
      "    \"service\": \"IT services\",\n",
      "     \"type\": \"IT Services\",\n",
      "    \"provider_homepage\": null\n",
      "  },\n",
      "    {\n",
      "    \"provider\": \"Telindus\",\n",
      "    \"service\": \"Telecommunication services, ICT infrastructure, multi-cloud, digital finance solutions, cybersecurity, business applications, managed services and training services\",\n",
      "    \"type\": \"IT Services\",\n",
      "    \"provider_homepage\": null\n",
      "  },\n",
      "  {\n",
      "    \"provider\": \"Nokia\",\n",
      "    \"service\": \"Vendor partnership\",\n",
      "    \"type\": \"Telecommunications Equipment\",\n",
      "    \"provider_homepage\": \"https://www.nokia.com/\"\n",
      "  },\n",
      "  {\n",
      "    \"provider\": \"Ericsson\",\n",
      "    \"service\": \"Vendor partnership\",\n",
      "     \"type\": \"Telecommunications Equipment\",\n",
      "    \"provider_homepage\": \"https://www.ericsson.com/\"\n",
      "  },\n",
      "    {\n",
      "    \"provider\": \"Unifiber\",\n",
      "    \"service\": \"Vendor partnership\",\n",
      "    \"type\": \"Telecommunications Equipment\",\n",
      "    \"provider_homepage\": null\n",
      "  },\n",
      "    {\n",
      "    \"provider\": \"Infosys\",\n",
      "    \"service\": \"Vendor partnership\",\n",
      "    \"type\": \"IT Services\",\n",
      "    \"provider_homepage\": \"https://www.infosys.com/\"\n",
      "  },\n",
      "  {\n",
      "    \"provider\": \"H. Essers\",\n",
      "     \"service\": \"Logistics and delivery services\",\n",
      "    \"type\": \"Logistics\",\n",
      "    \"provider_homepage\": null\n",
      "  },\n",
      "    {\n",
      "    \"provider\": \"Citymesh\",\n",
      "    \"service\": \"B2B telecom operator specializing in wireless networks\",\n",
      "    \"type\": \"Telecommunications\",\n",
      "    \"provider_homepage\": \"https://www.citymesh.com/\"\n",
      "  },\n",
      "  {\n",
      "    \"provider\": \"Destiny\",\n",
      "    \"service\": \"Secure cloud communication solutions\",\n",
      "    \"type\": \"Telecommunications\",\n",
      "    \"provider_homepage\": null\n",
      "  },\n",
      "    {\n",
      "    \"provider\": \"Sewan\",\n",
      "    \"service\": \"International telecom carrier offering fixed and mobile voice, cloud services and internet access\",\n",
      "     \"type\": \"Telecommunications\",\n",
      "    \"provider_homepage\": null\n",
      "  },\n",
      "  {\n",
      "    \"provider\": \"Belcenter\",\n",
      "    \"service\": \"B2B telco player operating an IP based network\",\n",
      "    \"type\": \"Telecommunications\",\n",
      "    \"provider_homepage\": \"https://www.belcenter.be/\"\n",
      "  },\n",
      "  {\n",
      "    \"provider\": \"Colt Technology Services\",\n",
      "    \"service\": \"Global digital infrastructure company providing digital connectivity\",\n",
      "    \"type\": \"Telecommunications\",\n",
      "    \"provider_homepage\": \"https://www.colt.net/\"\n",
      "  },\n",
      "  {\n",
      "    \"provider\": \"Comsave\",\n",
      "    \"service\": \"E-commerce platform for internet and last-mile access services\",\n",
      "    \"type\": \"E-commerce Platform\",\n",
      "    \"provider_homepage\": null\n",
      "  },\n",
      "    {\n",
      "    \"provider\": \"Scarlet\",\n",
      "    \"service\": \"Subsidiary company using Proximus' infrastructure for offering services\",\n",
      "    \"type\": \"Telecommunications\",\n",
      "    \"provider_homepage\": \"https://www.scarlet.be/\"\n",
      "  },\n",
      "    {\n",
      "    \"provider\": \"Yoin\",\n",
      "    \"service\": \"Independent telecom provider specializing in mobile subscriptions and internet at home\",\n",
      "    \"type\": \"Telecommunications\",\n",
      "    \"provider_homepage\": null\n",
      "  },\n",
      "    {\n",
      "    \"provider\": \"Clerk Chat\",\n",
      "    \"service\": \"Customer communication platform\",\n",
      "    \"type\": \"Customer Communication\",\n",
      "    \"provider_homepage\": \"https://clerk.chat/\"\n",
      "  },\n",
      "    {\n",
      "    \"provider\": \"Broadcom\",\n",
      "    \"service\": \"Provides cloud services\",\n",
      "    \"type\": \"Cloud Services\",\n",
      "    \"provider_homepage\": \"https://www.broadcom.com/\"\n",
      "  },\n",
      "    {\n",
      "    \"provider\": \"VMware\",\n",
      "    \"service\": \"Provides Hosted Private Cloud services\",\n",
      "    \"type\": \"Cloud Services\",\n",
      "    \"provider_homepage\": null\n",
      "  }\n",
      "]\n",
      "```\n"
     ]
    }
   ],
   "source": [
    "contents = f\"\"\"\n",
    "\n",
    "Write a report about {COMPANY}\n",
    "\n",
    "List the main service providers of the company. Include any known suppliers, contractors, technology service providers, or any other third-party companies that the company relies on. \n",
    "Provide the names of the service providers, type and description of the services they provide to the company. Also include the providers homepage in the report, if you can't find it, don not include the provider in the report. Don t include providers with brackets in their company name. \n",
    "\n",
    "The report should be written in this style example:\n",
    "\n",
    "Use this JSON schema:\n",
    "\n",
    "company_service = {{\"provider\":str,\"service\":str,\"type\":str,\"provider_homepage\":str]}}\n",
    "Return: list[company_service]\n",
    "\"\"\"\n",
    "\n",
    "response = client.models.generate_content(\n",
    "    model=MODEL, config=config, contents=contents)\n",
    "\n",
    "print(response.text)"
   ]
  },
  {
   "cell_type": "code",
   "execution_count": 1285,
   "metadata": {},
   "outputs": [
    {
     "name": "stdout",
     "output_type": "stream",
     "text": [
      "JSON data has been successfully written to 'proximus_providers.json'.\n"
     ]
    },
    {
     "data": {
      "text/plain": [
       "True"
      ]
     },
     "execution_count": 1285,
     "metadata": {},
     "output_type": "execute_result"
    }
   ],
   "source": [
    "save_json_from_string(response.text, 'proximus_providers.json')"
   ]
  },
  {
   "cell_type": "markdown",
   "metadata": {},
   "source": [
    "**Providers info** (Proceed with one Provider)"
   ]
  },
  {
   "cell_type": "code",
   "execution_count": 1286,
   "metadata": {},
   "outputs": [],
   "source": [
    "# Load JSON data from the file\n",
    "with open(\"proximus_providers.json\", \"r\") as file:\n",
    "    providers = json.load(file)"
   ]
  },
  {
   "cell_type": "code",
   "execution_count": 1287,
   "metadata": {},
   "outputs": [],
   "source": [
    "# Function to pick a random provider\n",
    "def pick_random_provider(providers):\n",
    "    if not providers:\n",
    "        return None  # Handle the case where the list is empty\n",
    "    return rd.choice(providers)"
   ]
  },
  {
   "cell_type": "code",
   "execution_count": 1288,
   "metadata": {},
   "outputs": [
    {
     "name": "stdout",
     "output_type": "stream",
     "text": [
      "{'provider': 'ClearMedia', 'service': 'Cloud, cybersecurity, and digital workplace solutions', 'type': 'IT Services', 'provider_homepage': None}\n"
     ]
    }
   ],
   "source": [
    "provider = pick_random_provider(providers)\n",
    "\n",
    "print(provider)"
   ]
  },
  {
   "cell_type": "code",
   "execution_count": 1289,
   "metadata": {},
   "outputs": [
    {
     "name": "stdout",
     "output_type": "stream",
     "text": [
      "Data saved to provider_general_data.json\n"
     ]
    }
   ],
   "source": [
    "provider = [provider]\n",
    "file_path = 'provider_general_data.json'\n",
    "\n",
    "# Write the data to the JSON file\n",
    "with open(file_path, 'w') as json_file:\n",
    "    json.dump(provider, json_file, indent=4)\n",
    "\n",
    "print(f'Data saved to {file_path}')"
   ]
  },
  {
   "cell_type": "markdown",
   "metadata": {},
   "source": [
    "**Provider Key Employees and Roles**"
   ]
  },
  {
   "cell_type": "code",
   "execution_count": 1290,
   "metadata": {},
   "outputs": [
    {
     "name": "stdout",
     "output_type": "stream",
     "text": [
      "```json\n",
      "[\n",
      "    {\n",
      "        \"provider\": \"ClearMedia\",\n",
      "        \"first_name\": \"Tinne\",\n",
      "        \"family_name\": \"Unknown\",\n",
      "        \"role\": \"Unknown\",\n",
      "        \"department\": \"Unknown\",\n",
      "        \"email_address\": \"tinne.unknown@clearmedia.be\"\n",
      "    },\n",
      "    {\n",
      "        \"provider\": \"ClearMedia\",\n",
      "        \"first_name\": \"Han Zi\",\n",
      "        \"family_name\": \"Jing\",\n",
      "         \"role\": \"Chief Executive Officer\",\n",
      "        \"department\": \"Executive\",\n",
      "        \"email_address\": \"han zi.jing@clearmedia.be\"\n",
      "    }\n",
      "]\n",
      "```\n"
     ]
    }
   ],
   "source": [
    "contents = f\"\"\"\n",
    "    Write a report about company {provider}. This company is a provider of {COMPANY}\n",
    "\n",
    "    The report should only contain a comprehensive summary of the employees in the company.\n",
    "\n",
    "    The report should contain, the complete first name and family name, an email address with this structure \"first name.family name@{provider}.be\" (put it all in lower case), the role that they have within the company and the department that they make part of.\n",
    "\n",
    "    Do not include abbreviations in names, and exclude employees whose full first and last names cannot be found. Make sure the first and the last name contains more then 2 characters. Do not include employees of {COMPANY} in the report.\n",
    "\n",
    "    Give me as much grounded names that you can find with your research and put them all in the report.\n",
    "\n",
    "    The report should be written in this style example:\n",
    "\n",
    "    Use this JSON schema:\n",
    "\n",
    "    Employees = {{'provider': str, 'first_name': str, 'family_name': str, 'role': str, 'department': str, 'email_address':str}}\n",
    "    Return: list[Employees]\n",
    "    \"\"\"\n",
    "    \n",
    "response = client.models.generate_content(\n",
    "    model=MODEL, config=config, contents=contents)\n",
    "\n",
    "print(response.text)\n",
    "    "
   ]
  },
  {
   "cell_type": "code",
   "execution_count": 1291,
   "metadata": {},
   "outputs": [
    {
     "name": "stdout",
     "output_type": "stream",
     "text": [
      "JSON data has been successfully written to 'provider_employees.json'.\n"
     ]
    },
    {
     "data": {
      "text/plain": [
       "True"
      ]
     },
     "execution_count": 1291,
     "metadata": {},
     "output_type": "execute_result"
    }
   ],
   "source": [
    "save_json_from_string(response.text, 'provider_employees.json')"
   ]
  },
  {
   "cell_type": "markdown",
   "metadata": {},
   "source": [
    "**Provider Colors**"
   ]
  },
  {
   "cell_type": "code",
   "execution_count": 1292,
   "metadata": {},
   "outputs": [
    {
     "name": "stdout",
     "output_type": "stream",
     "text": [
      "```json\n",
      "[\n",
      "  {\n",
      "    \"provider\": \"ClearMedia\",\n",
      "    \"color_name_1\": \"Klein Blue\",\n",
      "    \"hex_code_1\": null,\n",
      "    \"rgb_code_1\": null,\n",
      "    \"color_name_2\": \"Prussian Blue\",\n",
      "    \"hex_code_2\": null,\n",
      "    \"rgb_code_2\": null\n",
      "  },\n",
      "  {\n",
      "    \"provider\": \"ClearMedia\",\n",
      "     \"color_name_1\": \"White\",\n",
      "    \"hex_code_1\": \"#FFFFFF\",\n",
      "    \"rgb_code_1\": [255, 255, 255]\n",
      "  }\n",
      "]\n",
      "```\n"
     ]
    }
   ],
   "source": [
    "\n",
    "contents = f\"\"\"\n",
    "\n",
    "    Write a report about company {provider}. This company is a provider of {COMPANY}\n",
    "\n",
    "    The report should exclusively provide the main colors of Company's branding, including any official color codes such as HEX or RGB. Focus on the primary colors used in the company's logo and website.\n",
    "\n",
    "    Do not include speculative colors and focus only on the main ones.\n",
    "\n",
    "    The report should be written in this style example:\n",
    "\n",
    "    Use this JSON schema:\n",
    "\n",
    "    company_colors = {{'provider':str,'color_name_1':str, 'hex_code_1':str, 'rgb_code_1':list[int]}},{{'color_name_2':str,'hex_code_2':str,'rgb_code_2':list[int]}}\n",
    "    Return: list[company_colors]\n",
    "\n",
    "    Thoroughly plan your work in detail and steps, but avoid discussing it. Do not add any additional comments after finishing the report.\n",
    "    \"\"\"\n",
    "\n",
    "\n",
    "response = client.models.generate_content(\n",
    "        model=MODEL, config=config, contents=contents)\n",
    "\n",
    "print(response.text)"
   ]
  },
  {
   "cell_type": "code",
   "execution_count": 1293,
   "metadata": {},
   "outputs": [
    {
     "name": "stdout",
     "output_type": "stream",
     "text": [
      "JSON data has been successfully written to 'provider_color.json'.\n"
     ]
    },
    {
     "data": {
      "text/plain": [
       "True"
      ]
     },
     "execution_count": 1293,
     "metadata": {},
     "output_type": "execute_result"
    }
   ],
   "source": [
    "save_json_from_string(response.text, 'provider_color.json')"
   ]
  },
  {
   "cell_type": "markdown",
   "metadata": {},
   "source": [
    "**Departments Provider**"
   ]
  },
  {
   "cell_type": "code",
   "execution_count": 1294,
   "metadata": {},
   "outputs": [
    {
     "name": "stdout",
     "output_type": "stream",
     "text": [
      "```json\n",
      "[\n",
      "  {\n",
      "    \"provider\": \"ClearMedia\",\n",
      "    \"department\": \"Cloud Solutions\",\n",
      "    \"subdivision\": [\n",
      "      \"Infrastructure as a Service (IaaS)\",\n",
      "      \"Desktop Hosting\",\n",
      "      \"Application Hosting\",\n",
      "      \"Website Hosting\",\n",
      "      \"Online Back-up\",\n",
      "      \"Software as a Service (SaaS)\",\n",
      "      \"Virtual Servers\",\n",
      "      \"Cloud Desktop Services\"\n",
      "    ],\n",
      "    \"address\": \"Merksemsesteenweg 148, 2100 Deurne, Belgium\",\n",
      "    \"phone\": \"+32 3 658 00 36\",\n",
      "    \"vat\": \"BE 0831 425 897\"\n",
      "  },\n",
      "  {\n",
      "    \"provider\": \"ClearMedia\",\n",
      "    \"department\": \"Cybersecurity Services\",\n",
      "    \"subdivision\": [],\n",
      "     \"address\": \"Merksemsesteenweg 148, 2100 Deurne, Belgium\",\n",
      "    \"phone\": \"+32 3 658 00 36\",\n",
      "    \"vat\": \"BE 0831 425 897\"\n",
      "  },\n",
      "   {\n",
      "    \"provider\": \"ClearMedia\",\n",
      "    \"department\": \"Digital Workplace Solutions\",\n",
      "    \"subdivision\": [],\n",
      "     \"address\": \"Merksemsesteenweg 148, 2100 Deurne, Belgium\",\n",
      "    \"phone\": \"+32 3 658 00 36\",\n",
      "    \"vat\": \"BE 0831 425 897\"\n",
      "  }\n",
      "]\n",
      "```\n"
     ]
    }
   ],
   "source": [
    "contents = f\"\"\"\n",
    "\n",
    "Write a report about company {provider}. This company is a provider of {COMPANY}\n",
    "\n",
    "The report should exclusively provide a detailed summary of the company's departments and their respective subdivisions, if any.\n",
    "\n",
    "Include in the report the full address where the headquarter of the provider is located, the main phone number and vat number.\n",
    "\n",
    "Do not include abbreviations in the report.\n",
    "\n",
    "Provide a detailed list, specifying only verified and public information. Do not include speculative or incomplete details.\n",
    "\n",
    "The report should be written in this style example:\n",
    "\n",
    "Use this JSON schema:\n",
    "\n",
    "Provider_departments = {{'provider':str,'department':str, 'subdivision':list[str],'address':str, 'phone':str, 'vat':str}}\n",
    "Return: list[Provider_departments]\n",
    "\"\"\"\n",
    "\n",
    "response = client.models.generate_content(\n",
    "    model=MODEL, config=config, contents=contents)\n",
    "\n",
    "print(response.text)"
   ]
  },
  {
   "cell_type": "code",
   "execution_count": 1295,
   "metadata": {},
   "outputs": [
    {
     "name": "stdout",
     "output_type": "stream",
     "text": [
      "JSON data has been successfully written to 'provider_departments.json'.\n"
     ]
    },
    {
     "data": {
      "text/plain": [
       "True"
      ]
     },
     "execution_count": 1295,
     "metadata": {},
     "output_type": "execute_result"
    }
   ],
   "source": [
    "save_json_from_string(response.text, 'provider_departments.json')"
   ]
  },
  {
   "cell_type": "markdown",
   "metadata": {},
   "source": [
    "**Blend Data from Json files Providers**"
   ]
  },
  {
   "cell_type": "code",
   "execution_count": 1296,
   "metadata": {},
   "outputs": [
    {
     "name": "stdout",
     "output_type": "stream",
     "text": [
      "Current working directory: c:\\Users\\Rik\\Desktop\\Proximus-Case-Team-4\\Rik\n",
      "Data loaded from provider_general_data.json (Type: <class 'list'>): [{'provider': 'ClearMedia', 'service': 'Cloud, cybersecurity, and digital workplace solutions', 'type': 'IT Services', 'provider_homepage': None}]\n",
      "Data loaded from provider_employees.json (Type: <class 'list'>): [{'provider': 'ClearMedia', 'first_name': 'Tinne', 'family_name': 'Unknown', 'role': 'Unknown', 'department': 'Unknown', 'email_address': 'tinne.unknown@clearmedia.be'}, {'provider': 'ClearMedia', 'first_name': 'Han Zi', 'family_name': 'Jing', 'role': 'Chief Executive Officer', 'department': 'Executive', 'email_address': 'han zi.jing@clearmedia.be'}]\n",
      "Data loaded from provider_color.json (Type: <class 'list'>): [{'provider': 'ClearMedia', 'color_name_1': 'Klein Blue', 'hex_code_1': None, 'rgb_code_1': None, 'color_name_2': 'Prussian Blue', 'hex_code_2': None, 'rgb_code_2': None}, {'provider': 'ClearMedia', 'color_name_1': 'White', 'hex_code_1': '#FFFFFF', 'rgb_code_1': [255, 255, 255]}]\n",
      "Data loaded from provider_departments.json (Type: <class 'list'>): [{'provider': 'ClearMedia', 'department': 'Cloud Solutions', 'subdivision': ['Infrastructure as a Service (IaaS)', 'Desktop Hosting', 'Application Hosting', 'Website Hosting', 'Online Back-up', 'Software as a Service (SaaS)', 'Virtual Servers', 'Cloud Desktop Services'], 'address': 'Merksemsesteenweg 148, 2100 Deurne, Belgium', 'phone': '+32 3 658 00 36', 'vat': 'BE 0831 425 897'}, {'provider': 'ClearMedia', 'department': 'Cybersecurity Services', 'subdivision': [], 'address': 'Merksemsesteenweg 148, 2100 Deurne, Belgium', 'phone': '+32 3 658 00 36', 'vat': 'BE 0831 425 897'}, {'provider': 'ClearMedia', 'department': 'Digital Workplace Solutions', 'subdivision': [], 'address': 'Merksemsesteenweg 148, 2100 Deurne, Belgium', 'phone': '+32 3 658 00 36', 'vat': 'BE 0831 425 897'}]\n",
      "Blended Data: {\n",
      "    \"ClearMedia\": {\n",
      "        \"general\": {\n",
      "            \"provider\": \"ClearMedia\",\n",
      "            \"service\": \"Cloud, cybersecurity, and digital workplace solutions\",\n",
      "            \"type\": \"IT Services\",\n",
      "            \"provider_homepage\": null\n",
      "        },\n",
      "        \"employee\": [\n",
      "            {\n",
      "                \"provider\": \"ClearMedia\",\n",
      "                \"first_name\": \"Tinne\",\n",
      "                \"family_name\": \"Unknown\",\n",
      "                \"role\": \"Unknown\",\n",
      "                \"department\": \"Unknown\",\n",
      "                \"email_address\": \"tinne.unknown@clearmedia.be\"\n",
      "            },\n",
      "            {\n",
      "                \"provider\": \"ClearMedia\",\n",
      "                \"first_name\": \"Han Zi\",\n",
      "                \"family_name\": \"Jing\",\n",
      "                \"role\": \"Chief Executive Officer\",\n",
      "                \"department\": \"Executive\",\n",
      "                \"email_address\": \"han zi.jing@clearmedia.be\"\n",
      "            }\n",
      "        ],\n",
      "        \"color\": {\n",
      "            \"provider\": \"ClearMedia\",\n",
      "            \"color_name_1\": \"White\",\n",
      "            \"hex_code_1\": \"#FFFFFF\",\n",
      "            \"rgb_code_1\": [\n",
      "                255,\n",
      "                255,\n",
      "                255\n",
      "            ],\n",
      "            \"color_name_2\": \"Prussian Blue\",\n",
      "            \"hex_code_2\": null,\n",
      "            \"rgb_code_2\": null\n",
      "        },\n",
      "        \"departments\": [\n",
      "            {\n",
      "                \"provider\": \"ClearMedia\",\n",
      "                \"department\": \"Cloud Solutions\",\n",
      "                \"subdivision\": [\n",
      "                    \"Infrastructure as a Service (IaaS)\",\n",
      "                    \"Desktop Hosting\",\n",
      "                    \"Application Hosting\",\n",
      "                    \"Website Hosting\",\n",
      "                    \"Online Back-up\",\n",
      "                    \"Software as a Service (SaaS)\",\n",
      "                    \"Virtual Servers\",\n",
      "                    \"Cloud Desktop Services\"\n",
      "                ],\n",
      "                \"address\": \"Merksemsesteenweg 148, 2100 Deurne, Belgium\",\n",
      "                \"phone\": \"+32 3 658 00 36\",\n",
      "                \"vat\": \"BE 0831 425 897\"\n",
      "            },\n",
      "            {\n",
      "                \"provider\": \"ClearMedia\",\n",
      "                \"department\": \"Cybersecurity Services\",\n",
      "                \"subdivision\": [],\n",
      "                \"address\": \"Merksemsesteenweg 148, 2100 Deurne, Belgium\",\n",
      "                \"phone\": \"+32 3 658 00 36\",\n",
      "                \"vat\": \"BE 0831 425 897\"\n",
      "            },\n",
      "            {\n",
      "                \"provider\": \"ClearMedia\",\n",
      "                \"department\": \"Digital Workplace Solutions\",\n",
      "                \"subdivision\": [],\n",
      "                \"address\": \"Merksemsesteenweg 148, 2100 Deurne, Belgium\",\n",
      "                \"phone\": \"+32 3 658 00 36\",\n",
      "                \"vat\": \"BE 0831 425 897\"\n",
      "            }\n",
      "        ]\n",
      "    }\n",
      "}\n",
      "Blended data has been saved to 'blended_data_providers.json'\n"
     ]
    }
   ],
   "source": [
    "# Function to read JSON data from a file and debug if necessary\n",
    "def read_json_file(file_path):\n",
    "    with open(file_path, 'r') as file:\n",
    "        try:\n",
    "            data = json.load(file)\n",
    "            # Debugging: Print the entire content of the file to inspect the structure\n",
    "            print(f\"Data loaded from {file_path} (Type: {type(data)}): {data}\")\n",
    "            if not isinstance(data, list):\n",
    "                raise ValueError(f\"Data in {file_path} is not a list as expected.\")\n",
    "            return data\n",
    "        except json.JSONDecodeError:\n",
    "            print(f\"Error decoding JSON from {file_path}\")\n",
    "            return []  # Return an empty list if the JSON is malformed\n",
    "\n",
    "# Function to blend data\n",
    "def blend_data_from_files(general_file, employee_file, color_file, department_file):\n",
    "    # Read data from files\n",
    "    general_data = read_json_file(general_file)\n",
    "    employee_data = read_json_file(employee_file)\n",
    "    color_data = read_json_file(color_file)\n",
    "    department_data = read_json_file(department_file)\n",
    "    \n",
    "    # Merge data\n",
    "    merged_data = {}\n",
    "\n",
    "    # Add general data\n",
    "    for entry in general_data:\n",
    "        try:\n",
    "            provider = entry[\"provider\"]\n",
    "            merged_data[provider] = {\"general\": entry}\n",
    "        except KeyError:\n",
    "            print(\"KeyError: Missing 'provider' in general data entry.\")\n",
    "            continue\n",
    "\n",
    "    # Add employee data\n",
    "    for entry in employee_data:\n",
    "        try:\n",
    "            provider = entry[\"provider\"]\n",
    "            if provider in merged_data:\n",
    "                if \"employee\" not in merged_data[provider]:\n",
    "                    merged_data[provider][\"employee\"] = []\n",
    "                merged_data[provider][\"employee\"].append(entry)\n",
    "        except KeyError:\n",
    "            print(\"KeyError: Missing 'provider' in employee data entry.\")\n",
    "            continue\n",
    "\n",
    "    # Add color data\n",
    "    for entry in color_data:\n",
    "        try:\n",
    "            provider = entry.get(\"provider\", \"Unknown\")\n",
    "            if provider in merged_data:\n",
    "                if \"color\" not in merged_data[provider]:\n",
    "                    merged_data[provider][\"color\"] = {}\n",
    "                merged_data[provider][\"color\"].update(entry)\n",
    "        except KeyError:\n",
    "            print(\"KeyError: Missing 'provider' in color data entry.\")\n",
    "            continue\n",
    "\n",
    "    # Add department data\n",
    "    for entry in department_data:\n",
    "        try:\n",
    "            provider = entry[\"provider\"]\n",
    "            if provider in merged_data:\n",
    "                if \"departments\" not in merged_data[provider]:\n",
    "                    merged_data[provider][\"departments\"] = []\n",
    "                merged_data[provider][\"departments\"].append(entry)\n",
    "        except KeyError:\n",
    "            print(\"KeyError: Missing 'provider' in department data entry.\")\n",
    "            continue\n",
    "\n",
    "    return merged_data\n",
    "\n",
    "# File paths\n",
    "general_file = 'provider_general_data.json'\n",
    "employee_file = 'provider_employees.json'\n",
    "color_file = 'provider_color.json'\n",
    "department_file = 'provider_departments.json'\n",
    "\n",
    "# Debugging: Print current working directory\n",
    "print(\"Current working directory:\", os.getcwd())\n",
    "\n",
    "# Blend the data\n",
    "blended_result = blend_data_from_files(general_file, employee_file, color_file, department_file)\n",
    "\n",
    "# Debugging: Print the blended data to verify\n",
    "print(\"Blended Data:\", json.dumps(blended_result, indent=4))\n",
    "\n",
    "# Write the result to a new JSON file and capture any potential errors\n",
    "try:\n",
    "    with open('blended_data_providers.json', 'w') as output_file:\n",
    "        json.dump(blended_result, output_file, indent=4)\n",
    "    print(\"Blended data has been saved to 'blended_data_providers.json'\")\n",
    "except Exception as e:\n",
    "    print(f\"Error saving file: {e}\")\n",
    "\n",
    "\n",
    "\n",
    "\n"
   ]
  },
  {
   "cell_type": "markdown",
   "metadata": {},
   "source": [
    "**2. SETTING UP THE EMAIL WRITING ASSISTANT** (temperature = 1, tools= ??)"
   ]
  },
  {
   "cell_type": "code",
   "execution_count": 1297,
   "metadata": {},
   "outputs": [],
   "source": [
    "email_tones = [\n",
    "    \"Urgent\",\n",
    "    \"Firm\",\n",
    "    \"Action Required\",\n",
    "    \"Time-Sensitive\",\n",
    "    \"Critical\",\n",
    "    \"Pressing\",\n",
    "    \"Immediate Response\",\n",
    "    \"High-Priority\",\n",
    "    \"Polite\",\n",
    "    \"Friendly\",\n",
    "    \"Professional\",\n",
    "    \"Supportive\",\n",
    "    \"Respectful\",\n",
    "    \"Casual\",\n",
    "    \"Empathetic\"\n",
    "]"
   ]
  },
  {
   "cell_type": "code",
   "execution_count": 1298,
   "metadata": {},
   "outputs": [],
   "source": [
    "random_tone = rd.choice(email_tones)"
   ]
  },
  {
   "cell_type": "code",
   "execution_count": 1299,
   "metadata": {},
   "outputs": [
    {
     "name": "stdout",
     "output_type": "stream",
     "text": [
      "Casual\n"
     ]
    }
   ],
   "source": [
    "print(random_tone)"
   ]
  },
  {
   "cell_type": "code",
   "execution_count": 1300,
   "metadata": {},
   "outputs": [],
   "source": [
    "system_instruction= f\"\"\"You are a skilled copywriter with a knack for creating emails that feel\n",
    "    personal, relevant, urgent and engaging. Your task is to write emails to employees of\n",
    "    {COMPANY} all while maintaining a tone that feels individual, tailored and professional. \n",
    "    \n",
    "    The email should appear to come from a relevant source. Encourage actions like clicking links or downloading attachments with a sense of urgency. Align the email subject with the sender's theme and message.\n",
    "    \n",
    "    Incorporate in your answer only complete emails.\n",
    "    \n",
    "    Everything about the sender address, subject, and email body is focused on the recipient interacting with the link or attachment.\n",
    "    \n",
    "    The email should have a {random_tone}\n",
    "    \"\"\""
   ]
  },
  {
   "cell_type": "code",
   "execution_count": 1301,
   "metadata": {},
   "outputs": [],
   "source": [
    "config = GenerateContentConfig(system_instruction=system_instruction, temperature=1,maxOutputTokens=8000, top_p=0.9, top_k=40, safety_settings=safety_settings)"
   ]
  },
  {
   "cell_type": "markdown",
   "metadata": {},
   "source": [
    "**Fetch some Provider Context to generate better emails**"
   ]
  },
  {
   "cell_type": "code",
   "execution_count": 1302,
   "metadata": {},
   "outputs": [],
   "source": [
    "# Load JSON data from the file\n",
    "with open(\"provider_employees.json\", \"r\") as file:\n",
    "    provider_employees = json.load(file)"
   ]
  },
  {
   "cell_type": "code",
   "execution_count": 1303,
   "metadata": {},
   "outputs": [],
   "source": [
    "# Load JSON data from the file\n",
    "with open(\"provider_departments.json\", \"r\") as file:\n",
    "    provider_departments = json.load(file)"
   ]
  },
  {
   "cell_type": "markdown",
   "metadata": {},
   "source": [
    "**Setting up some dummy data about proximus employees**"
   ]
  },
  {
   "cell_type": "code",
   "execution_count": 1304,
   "metadata": {},
   "outputs": [],
   "source": [
    "proximus_employees = [\n",
    "    {\n",
    "        \"name\": \"Marie Declercq\", \n",
    "        \"email\": \"marie.declercq@proximus.be\", \n",
    "        \"role\": \"Data Analyst\", \n",
    "        \"language\": \"Dutch\", \n",
    "        \"department\": \"Consumer Market\"\n",
    "    },\n",
    "    {\n",
    "        \"name\": \"Luc Vandenberg\", \n",
    "        \"email\": \"luc.vandenberg@proximus.be\", \n",
    "        \"role\": \"Cybersecurity Specialist\", \n",
    "        \"language\": \"Dutch\", \n",
    "        \"department\": \"Network & Wholesale\"\n",
    "    },\n",
    "    {\n",
    "        \"name\": \"Emma Wouters\", \n",
    "        \"email\": \"emma.wouters@proximus.be\", \n",
    "        \"role\": \"Marketing Specialist\", \n",
    "        \"language\": \"English\", \n",
    "        \"department\": \"Enterprise Market\"\n",
    "    },\n",
    "    {\n",
    "        \"name\": \"Jai Mehta\", \n",
    "        \"email\": \"jai.mehta@proximus.be\", \n",
    "        \"role\": \"System Administrator\", \n",
    "        \"language\": \"English\", \n",
    "        \"department\": \"IT Infrastructure\"\n",
    "    },\n",
    "    {\n",
    "        \"name\": \"Guillaume Boutin\", \n",
    "        \"email\": \"guillaume.boutin@proximus.be\", \n",
    "        \"role\": \"Chief Executive Officer\", \n",
    "        \"language\": \"French\", \n",
    "        \"department\": \"Chief Executive Officer's Department\"\n",
    "    }\n",
    "] \n"
   ]
  },
  {
   "cell_type": "code",
   "execution_count": 1305,
   "metadata": {},
   "outputs": [],
   "source": [
    "random_employee = rd.choice(proximus_employees)"
   ]
  },
  {
   "cell_type": "code",
   "execution_count": 1306,
   "metadata": {},
   "outputs": [
    {
     "name": "stdout",
     "output_type": "stream",
     "text": [
      "{'name': 'Marie Declercq', 'email': 'marie.declercq@proximus.be', 'role': 'Data Analyst', 'language': 'Dutch', 'department': 'Consumer Market'}\n"
     ]
    }
   ],
   "source": [
    "print(random_employee)"
   ]
  },
  {
   "cell_type": "code",
   "execution_count": 1307,
   "metadata": {},
   "outputs": [],
   "source": [
    "telecom_employee_events = [\n",
    "    \"Seminars\",\n",
    "    \"Presentations\",\n",
    "    \"Networking Meetings\",\n",
    "    \"Workshops\",\n",
    "    \"Training Sessions\",\n",
    "    \"Industry Roundtables\",\n",
    "    \"Panel Discussions\",\n",
    "    \"Webinars\",\n",
    "    \"Conferences\",\n",
    "    \"Hackathons\",\n",
    "    \"Product Demos\",\n",
    "    \"Leadership Forums\",\n",
    "    \"Strategic Planning Meetings\",\n",
    "    \"Customer Experience Sessions\",\n",
    "    \"Innovation Labs\"\n",
    "]"
   ]
  },
  {
   "cell_type": "code",
   "execution_count": 1308,
   "metadata": {},
   "outputs": [],
   "source": [
    "random_event=rd.choice(telecom_employee_events)"
   ]
  },
  {
   "cell_type": "code",
   "execution_count": 1309,
   "metadata": {},
   "outputs": [
    {
     "name": "stdout",
     "output_type": "stream",
     "text": [
      "Presentations\n"
     ]
    }
   ],
   "source": [
    "print(random_event)"
   ]
  },
  {
   "cell_type": "code",
   "execution_count": 1310,
   "metadata": {},
   "outputs": [],
   "source": [
    "urgent_provider_issues = [\n",
    "    \"Network Outages\",\n",
    "    \"SLA Violations\",\n",
    "    \"Payment Delays\",\n",
    "    \"Contract Breach\",\n",
    "    \"Quality Failures\",\n",
    "    \"Security Risks\",\n",
    "    \"Price Increases\",\n",
    "    \"Missed Deadlines\",\n",
    "    \"Regulatory Issues\",\n",
    "    \"Billing Discrepancies\"\n",
    "]"
   ]
  },
  {
   "cell_type": "code",
   "execution_count": 1311,
   "metadata": {},
   "outputs": [],
   "source": [
    "random_issue=rd.choice(urgent_provider_issues)"
   ]
  },
  {
   "cell_type": "code",
   "execution_count": 1312,
   "metadata": {},
   "outputs": [
    {
     "name": "stdout",
     "output_type": "stream",
     "text": [
      "Payment Delays\n"
     ]
    }
   ],
   "source": [
    "print(random_issue)"
   ]
  },
  {
   "cell_type": "markdown",
   "metadata": {},
   "source": [
    "**Emails Provider to Proximus**"
   ]
  },
  {
   "cell_type": "markdown",
   "metadata": {},
   "source": [
    "Service related Emails"
   ]
  },
  {
   "cell_type": "code",
   "execution_count": 1313,
   "metadata": {},
   "outputs": [
    {
     "name": "stdout",
     "output_type": "stream",
     "text": [
      "```json\n",
      "[\n",
      "  {\n",
      "    \"subject\": \"Dringend: Analyse van Cloudgegevens vereist onmiddellijke actie\",\n",
      "    \"body\": \"Geachte mevrouw Declercq,\\n\\nUit een recente analyse is een kritiek probleem met de cloudinfrastructuur van Proximus aan het licht gekomen, specifiek met betrekking tot de opslag en verwerking van data. De huidige configuratie leidt tot inefficiënties en kan mogelijk de betrouwbaarheid van onze clouddiensten in gevaar brengen. Als Data Analist bij Proximus, is uw expertise essentieel om dit probleem onmiddellijk aan te pakken.\\n\\nWe hebben een gedetailleerd rapport samengesteld waarin het probleem wordt gespecificeerd en aanbevelingen worden gedaan. Dit rapport is cruciaal voor uw analyse. U kunt het rapport downloaden via de link hieronder. Het is van cruciaal belang dat u dit document zo snel mogelijk bekijkt, zodat we de nodige corrigerende maatregelen kunnen treffen.\\n\\nDe continuïteit van onze diensten en de veiligheid van de data van Proximus zijn onze prioriteit. Uw snelle actie is nu vereist om de risico's te minimaliseren.\\n\\nMet vriendelijke groet,\\n\\n\",\n",
      "    \"email_sign_fullname\": \"Thomas De Vries\",\n",
      "    \"email_sign_role\": \"Cloud Solutions Specialist\",\n",
      "    \"email_sign_company\": \"ClearMedia\",\n",
      "    \"receiver_full_name\": \"Marie Declercq\"\n",
      "  },\n",
      "  {\n",
      "    \"subject\": \"Belangrijk: Cybersecurity-dreiging vereist directe data analyse\",\n",
      "    \"body\": \"Geachte mevrouw Declercq,\\n\\nEr is een verhoogde cyberactiviteit gedetecteerd die de systemen van Proximus mogelijk kan beïnvloeden. Onze cybersecurity-systemen hebben ongebruikelijke patronen in dataverkeer vastgesteld die mogelijk wijzen op een dreigende aanval. Als Data Analist bent u cruciaal om deze patronen grondig te analyseren en de potentiële impact te beoordelen.\\n\\nWij hebben een overzicht gemaakt van de relevante data die u nodig heeft voor uw analyse. Dit document is nu beschikbaar via de link hieronder. Uw snelle actie is nodig om de cybersecurity van Proximus te waarborgen en potentiële schade te voorkomen. De link voor het downloaden van de dataset staat onderaan deze e-mail.\\n\\nWe rekenen op uw expertise om snel en doeltreffend te handelen in deze kritieke situatie.\\n\\nMet vriendelijke groet,\\n\\n\",\n",
      "     \"email_sign_fullname\": \"Thomas De Vries\",\n",
      "    \"email_sign_role\": \"Cybersecurity Solutions Specialist\",\n",
      "    \"email_sign_company\": \"ClearMedia\",\n",
      "    \"receiver_full_name\": \"Marie Declercq\"\n",
      "  },\n",
      "   {\n",
      "    \"subject\": \"Dringend: Problemen met Digital Workplace vereisen dataonderzoek\",\n",
      "    \"body\": \"Geachte mevrouw Declercq,\\n\\nEr zijn recentelijk problemen gemeld met de Digital Workplace omgeving van Proximus. Gebruikers ondervinden problemen met de toegang en de prestaties van cruciale applicaties. Een data-analyse is essentieel om de oorzaak van deze problemen te identificeren en op te lossen. Uw expertise als Data Analist is noodzakelijk om de impact van deze problemen te begrijpen en de nodige oplossingen te implementeren.\\n\\nWe hebben een data set voorbereid die u zal helpen bij uw analyse. Deze dataset kunt u downloaden via de link hieronder. Het is cruciaal dat u dit document zo snel mogelijk onderzoekt, zodat we de impact op de dagelijkse werkzaamheden kunnen minimaliseren.\\n\\nWe vertrouwen erop dat u deze problemen snel kunt aanpakken om de continuïteit van de diensten van Proximus te garanderen.\\n\\nMet vriendelijke groet,\\n\\n\",\n",
      "      \"email_sign_fullname\": \"Thomas De Vries\",\n",
      "    \"email_sign_role\": \"Digital Workplace Solutions Specialist\",\n",
      "    \"email_sign_company\": \"ClearMedia\",\n",
      "    \"receiver_full_name\": \"Marie Declercq\"\n",
      "  }\n",
      "]\n",
      "```\n",
      "\n"
     ]
    }
   ],
   "source": [
    "contents = f\"\"\"\n",
    "\n",
    "{provider} is a service provider of {COMPANY}. {provider} has these {provider_departments}.\n",
    "\n",
    "Write some tailored emails based on the role of {random_employee['role']} about an urgent matter that needs to be solved related to {COMPANY} concerning a service that {provider} offers. Elaborate about the issue and point out why it needs to be solved as quick as possible.\n",
    "\n",
    "The receiver of the email is {random_employee['name']} and should be in {random_employee['language']}. Address the receiver formal and by his last name.\n",
    "\n",
    "The email signature should contain the first name, family name, role and the company name of one of the employees of {provider}. \n",
    "\n",
    "Do not include the link in the body of the email, as it will be implemented separately and placed below the text body, refer to it in the text body where it is placed.\n",
    "\n",
    "Just plain text in the body, nothing to include anymore.\n",
    "\n",
    "The email should be written in this style example:\n",
    "\n",
    "Use this JSON schema:\n",
    "\n",
    "Provider_email = {{'subject':str,'body':str, 'email_sign_fullname':str, 'email_sign_role':str, 'email_sign_company':str, 'receiver_full_name':str}}\n",
    "Return: list[Provider_email]\n",
    "\"\"\"\n",
    "\n",
    "response = client.models.generate_content(\n",
    "    model=MODEL, config=config, contents=contents)\n",
    "\n",
    "print(response.text)"
   ]
  },
  {
   "cell_type": "markdown",
   "metadata": {},
   "source": [
    "repairing a string"
   ]
  },
  {
   "cell_type": "code",
   "execution_count": 1314,
   "metadata": {},
   "outputs": [],
   "source": [
    "def repair_json_response(response_text):\n",
    "    \"\"\"\n",
    "    Repairs a potentially malformed JSON string from `response.text`.\n",
    "    Ensures it starts with '[' and ends with ']' after the last complete dictionary.\n",
    "\n",
    "    Args:\n",
    "        response_text (str): The response text containing a potentially malformed JSON string.\n",
    "\n",
    "    Returns:\n",
    "        None: Prints the repaired JSON string.\n",
    "\n",
    "    Raises:\n",
    "        ValueError: If the string cannot be repaired into valid JSON.\n",
    "    \"\"\"\n",
    "    # Remove the unwanted prefix if it exists\n",
    "    if response_text.strip().startswith(\"```json\") or response_text.strip().startswith(\"[```json\"):\n",
    "        response_text = response_text.replace(\"```json\", \"\", 1).replace(\"[```json\", \"\", 1).strip()\n",
    "\n",
    "    # Ensure the string starts with '['\n",
    "    if not response_text.strip().startswith(\"[\"):\n",
    "        response_text = \"[\" + response_text\n",
    "\n",
    "    # Find the last closing brace ('}')\n",
    "    last_brace_index = response_text.rfind(\"}\")\n",
    "    if last_brace_index == -1:\n",
    "        raise ValueError(\"No closing brace found in the response text.\")\n",
    "\n",
    "    # Trim the string up to the last complete dictionary and close the list\n",
    "    repaired_string = response_text[:last_brace_index + 1].rstrip(\", \\n\") + \"]\"\n",
    "    \n",
    "    # Print the repaired JSON string\n",
    "    print(repaired_string)\n"
   ]
  },
  {
   "cell_type": "code",
   "execution_count": 1315,
   "metadata": {},
   "outputs": [
    {
     "name": "stdout",
     "output_type": "stream",
     "text": [
      "[\n",
      "  {\n",
      "    \"subject\": \"Dringend: Analyse van Cloudgegevens vereist onmiddellijke actie\",\n",
      "    \"body\": \"Geachte mevrouw Declercq,\\n\\nUit een recente analyse is een kritiek probleem met de cloudinfrastructuur van Proximus aan het licht gekomen, specifiek met betrekking tot de opslag en verwerking van data. De huidige configuratie leidt tot inefficiënties en kan mogelijk de betrouwbaarheid van onze clouddiensten in gevaar brengen. Als Data Analist bij Proximus, is uw expertise essentieel om dit probleem onmiddellijk aan te pakken.\\n\\nWe hebben een gedetailleerd rapport samengesteld waarin het probleem wordt gespecificeerd en aanbevelingen worden gedaan. Dit rapport is cruciaal voor uw analyse. U kunt het rapport downloaden via de link hieronder. Het is van cruciaal belang dat u dit document zo snel mogelijk bekijkt, zodat we de nodige corrigerende maatregelen kunnen treffen.\\n\\nDe continuïteit van onze diensten en de veiligheid van de data van Proximus zijn onze prioriteit. Uw snelle actie is nu vereist om de risico's te minimaliseren.\\n\\nMet vriendelijke groet,\\n\\n\",\n",
      "    \"email_sign_fullname\": \"Thomas De Vries\",\n",
      "    \"email_sign_role\": \"Cloud Solutions Specialist\",\n",
      "    \"email_sign_company\": \"ClearMedia\",\n",
      "    \"receiver_full_name\": \"Marie Declercq\"\n",
      "  },\n",
      "  {\n",
      "    \"subject\": \"Belangrijk: Cybersecurity-dreiging vereist directe data analyse\",\n",
      "    \"body\": \"Geachte mevrouw Declercq,\\n\\nEr is een verhoogde cyberactiviteit gedetecteerd die de systemen van Proximus mogelijk kan beïnvloeden. Onze cybersecurity-systemen hebben ongebruikelijke patronen in dataverkeer vastgesteld die mogelijk wijzen op een dreigende aanval. Als Data Analist bent u cruciaal om deze patronen grondig te analyseren en de potentiële impact te beoordelen.\\n\\nWij hebben een overzicht gemaakt van de relevante data die u nodig heeft voor uw analyse. Dit document is nu beschikbaar via de link hieronder. Uw snelle actie is nodig om de cybersecurity van Proximus te waarborgen en potentiële schade te voorkomen. De link voor het downloaden van de dataset staat onderaan deze e-mail.\\n\\nWe rekenen op uw expertise om snel en doeltreffend te handelen in deze kritieke situatie.\\n\\nMet vriendelijke groet,\\n\\n\",\n",
      "     \"email_sign_fullname\": \"Thomas De Vries\",\n",
      "    \"email_sign_role\": \"Cybersecurity Solutions Specialist\",\n",
      "    \"email_sign_company\": \"ClearMedia\",\n",
      "    \"receiver_full_name\": \"Marie Declercq\"\n",
      "  },\n",
      "   {\n",
      "    \"subject\": \"Dringend: Problemen met Digital Workplace vereisen dataonderzoek\",\n",
      "    \"body\": \"Geachte mevrouw Declercq,\\n\\nEr zijn recentelijk problemen gemeld met de Digital Workplace omgeving van Proximus. Gebruikers ondervinden problemen met de toegang en de prestaties van cruciale applicaties. Een data-analyse is essentieel om de oorzaak van deze problemen te identificeren en op te lossen. Uw expertise als Data Analist is noodzakelijk om de impact van deze problemen te begrijpen en de nodige oplossingen te implementeren.\\n\\nWe hebben een data set voorbereid die u zal helpen bij uw analyse. Deze dataset kunt u downloaden via de link hieronder. Het is cruciaal dat u dit document zo snel mogelijk onderzoekt, zodat we de impact op de dagelijkse werkzaamheden kunnen minimaliseren.\\n\\nWe vertrouwen erop dat u deze problemen snel kunt aanpakken om de continuïteit van de diensten van Proximus te garanderen.\\n\\nMet vriendelijke groet,\\n\\n\",\n",
      "      \"email_sign_fullname\": \"Thomas De Vries\",\n",
      "    \"email_sign_role\": \"Digital Workplace Solutions Specialist\",\n",
      "    \"email_sign_company\": \"ClearMedia\",\n",
      "    \"receiver_full_name\": \"Marie Declercq\"\n",
      "  }]\n"
     ]
    }
   ],
   "source": [
    "response_llm = response.text\n",
    "repair_json_response(response_llm)"
   ]
  },
  {
   "cell_type": "code",
   "execution_count": 1316,
   "metadata": {},
   "outputs": [
    {
     "name": "stdout",
     "output_type": "stream",
     "text": [
      "JSON data has been successfully written to 'service_related_email.json'.\n"
     ]
    },
    {
     "data": {
      "text/plain": [
       "True"
      ]
     },
     "execution_count": 1316,
     "metadata": {},
     "output_type": "execute_result"
    }
   ],
   "source": [
    "save_json_from_string(response_llm, 'service_related_email.json')"
   ]
  },
  {
   "cell_type": "markdown",
   "metadata": {},
   "source": [
    "Employee events"
   ]
  },
  {
   "cell_type": "code",
   "execution_count": 1317,
   "metadata": {},
   "outputs": [
    {
     "name": "stdout",
     "output_type": "stream",
     "text": [
      "```json\n",
      "[\n",
      "  {\n",
      "    \"subject\": \"Presentaties voor Data Analisten bij ClearMedia\",\n",
      "    \"body\": \"Geachte mevrouw Declercq,\\n\\nWe nodigen u graag uit voor een reeks presentaties die speciaal zijn ontworpen voor data-analisten, georganiseerd door ClearMedia. Deze sessies zijn bedoeld om u de nieuwste trends en technologieën op het gebied van cloud-, cybersecurity- en digitale werkplekoplossingen te presenteren. Mis deze kans niet om uw vaardigheden te verbeteren en te netwerken met collega's.\\n\\nMeer details over de agenda en de sprekers vindt u via de link hieronder.\\n\\nMet vriendelijke groet,\\n\",\n",
      "    \"email_sign_fullname\": \"Thomas De Smet\",\n",
      "    \"email_sign_role\": \"Cloud Solutions Specialist\",\n",
      "    \"email_sign_company\": \"ClearMedia\",\n",
      "    \"receiver_full_name\": \"Marie Declercq\"\n",
      "  },\n",
      "    {\n",
      "    \"subject\": \"Exclusieve presentaties over cloud, cybersecurity en digitale werkplekoplossingen\",\n",
      "    \"body\": \"Geachte mevrouw Declercq,\\n\\nClearMedia organiseert een reeks presentaties die specifiek gericht zijn op data-analisten zoals u. We zullen dieper ingaan op hoe onze cloud-, cybersecurity- en digitale werkplekoplossingen uw dagelijkse werkzaamheden kunnen optimaliseren. We delen graag waardevolle inzichten en best practices met u. Het is een ideale gelegenheid om uw kennis te verrijken en van gedachten te wisselen met experts.\\n\\nKlik op de link hieronder om het volledige programma te bekijken en uw plaats te reserveren.\\n\\nMet vriendelijke groet,\\n\",\n",
      "      \"email_sign_fullname\": \"Jan Van Dyck\",\n",
      "      \"email_sign_role\": \"Cybersecurity Consultant\",\n",
      "      \"email_sign_company\": \"ClearMedia\",\n",
      "    \"receiver_full_name\": \"Marie Declercq\"\n",
      "  },\n",
      "  {\n",
      "    \"subject\": \"Verbeter uw data-analyse vaardigheden met ClearMedia presentaties\",\n",
      "    \"body\": \"Geachte mevrouw Declercq,\\n\\nWij van ClearMedia nodigen u uit voor een reeks informatieve presentaties die speciaal zijn samengesteld voor data-analisten. Deze sessies richten zich op hoe onze oplossingen op het gebied van cloud, cybersecurity en digitale werkplekken u kunnen helpen bij uw dagelijkse taken. We delen onze expertise en demonstreren hoe u uw werk efficiënter en veiliger kunt maken.\\n\\nU vindt het volledige overzicht van de presentaties via de onderstaande link.\\n\\nMet vriendelijke groet,\\n\",\n",
      "    \"email_sign_fullname\": \"Sofie Mertens\",\n",
      "    \"email_sign_role\": \"Digital Workplace Solutions Manager\",\n",
      "    \"email_sign_company\": \"ClearMedia\",\n",
      "     \"receiver_full_name\": \"Marie Declercq\"\n",
      "  }\n",
      "]\n",
      "```\n",
      "\n"
     ]
    }
   ],
   "source": [
    "contents = f\"\"\"\n",
    "\n",
    "{provider} is a service provider of {COMPANY}. {provider} has these {provider_departments}.\n",
    "\n",
    "Write some tailored emails based on the role of {random_employee['role']} about an event that is organized by {provider}. \n",
    "\n",
    "The event is {random_event} and is geared towards {random_employee['role']}.\n",
    "\n",
    "Do not include urgent in the subject of the email.\n",
    "\n",
    "The receiver of the email is {random_employee['name']} and should be in {random_employee['language']}. Address the receiver formal and by his last name.\n",
    "\n",
    "The email signature should contain the first name, family name, role and the company name of one of the employees of {provider}. \n",
    "\n",
    "Do not include the link in the body of the email, as it will be implemented separately and placed below the text body, refer to it in the text body where it is placed.\n",
    "\n",
    "Just plain text in the body, nothing to include anymore.\n",
    "\n",
    "The email should be written in this style example:\n",
    "\n",
    "Use this JSON schema:\n",
    "\n",
    "Provider_email = {{'subject':str,'body':str, 'email_sign_fullname':str, 'email_sign_role':str, 'email_sign_company':str, 'receiver_full_name':str}}\n",
    "Return: list[Provider_email]\n",
    "\"\"\"\n",
    "\n",
    "response = client.models.generate_content(\n",
    "    model=MODEL, config=config, contents=contents)\n",
    "\n",
    "print(response.text)"
   ]
  },
  {
   "cell_type": "code",
   "execution_count": 1318,
   "metadata": {},
   "outputs": [
    {
     "name": "stdout",
     "output_type": "stream",
     "text": [
      "[\n",
      "  {\n",
      "    \"subject\": \"Presentaties voor Data Analisten bij ClearMedia\",\n",
      "    \"body\": \"Geachte mevrouw Declercq,\\n\\nWe nodigen u graag uit voor een reeks presentaties die speciaal zijn ontworpen voor data-analisten, georganiseerd door ClearMedia. Deze sessies zijn bedoeld om u de nieuwste trends en technologieën op het gebied van cloud-, cybersecurity- en digitale werkplekoplossingen te presenteren. Mis deze kans niet om uw vaardigheden te verbeteren en te netwerken met collega's.\\n\\nMeer details over de agenda en de sprekers vindt u via de link hieronder.\\n\\nMet vriendelijke groet,\\n\",\n",
      "    \"email_sign_fullname\": \"Thomas De Smet\",\n",
      "    \"email_sign_role\": \"Cloud Solutions Specialist\",\n",
      "    \"email_sign_company\": \"ClearMedia\",\n",
      "    \"receiver_full_name\": \"Marie Declercq\"\n",
      "  },\n",
      "    {\n",
      "    \"subject\": \"Exclusieve presentaties over cloud, cybersecurity en digitale werkplekoplossingen\",\n",
      "    \"body\": \"Geachte mevrouw Declercq,\\n\\nClearMedia organiseert een reeks presentaties die specifiek gericht zijn op data-analisten zoals u. We zullen dieper ingaan op hoe onze cloud-, cybersecurity- en digitale werkplekoplossingen uw dagelijkse werkzaamheden kunnen optimaliseren. We delen graag waardevolle inzichten en best practices met u. Het is een ideale gelegenheid om uw kennis te verrijken en van gedachten te wisselen met experts.\\n\\nKlik op de link hieronder om het volledige programma te bekijken en uw plaats te reserveren.\\n\\nMet vriendelijke groet,\\n\",\n",
      "      \"email_sign_fullname\": \"Jan Van Dyck\",\n",
      "      \"email_sign_role\": \"Cybersecurity Consultant\",\n",
      "      \"email_sign_company\": \"ClearMedia\",\n",
      "    \"receiver_full_name\": \"Marie Declercq\"\n",
      "  },\n",
      "  {\n",
      "    \"subject\": \"Verbeter uw data-analyse vaardigheden met ClearMedia presentaties\",\n",
      "    \"body\": \"Geachte mevrouw Declercq,\\n\\nWij van ClearMedia nodigen u uit voor een reeks informatieve presentaties die speciaal zijn samengesteld voor data-analisten. Deze sessies richten zich op hoe onze oplossingen op het gebied van cloud, cybersecurity en digitale werkplekken u kunnen helpen bij uw dagelijkse taken. We delen onze expertise en demonstreren hoe u uw werk efficiënter en veiliger kunt maken.\\n\\nU vindt het volledige overzicht van de presentaties via de onderstaande link.\\n\\nMet vriendelijke groet,\\n\",\n",
      "    \"email_sign_fullname\": \"Sofie Mertens\",\n",
      "    \"email_sign_role\": \"Digital Workplace Solutions Manager\",\n",
      "    \"email_sign_company\": \"ClearMedia\",\n",
      "     \"receiver_full_name\": \"Marie Declercq\"\n",
      "  }]\n"
     ]
    }
   ],
   "source": [
    "response_llm = response.text\n",
    "repair_json_response(response_llm)"
   ]
  },
  {
   "cell_type": "code",
   "execution_count": 1319,
   "metadata": {},
   "outputs": [
    {
     "name": "stdout",
     "output_type": "stream",
     "text": [
      "JSON data has been successfully written to 'employee_event_email.json'.\n"
     ]
    },
    {
     "data": {
      "text/plain": [
       "True"
      ]
     },
     "execution_count": 1319,
     "metadata": {},
     "output_type": "execute_result"
    }
   ],
   "source": [
    "save_json_from_string(response_llm, 'employee_event_email.json')"
   ]
  },
  {
   "cell_type": "markdown",
   "metadata": {},
   "source": [
    "Provider issues"
   ]
  },
  {
   "cell_type": "code",
   "execution_count": 1320,
   "metadata": {},
   "outputs": [
    {
     "name": "stdout",
     "output_type": "stream",
     "text": [
      "```json\n",
      "[\n",
      "  {\n",
      "    \"subject\": \"Betalingsherinnering voor Data Analyse Diensten\",\n",
      "    \"body\": \"Geachte mevrouw Declercq,\\n\\nIk hoop dat deze e-mail u goed bereikt.\\n\\nIk schrijf u vanuit ClearMedia, een IT-dienstverlener van Proximus, in verband met openstaande betalingen voor onze data-analysediensten. We hebben gemerkt dat er een vertraging is in de verwerking van betalingen voor recente facturen.\\n\\nOm dit op te lossen en ervoor te zorgen dat onze samenwerking soepel blijft verlopen, verzoeken we u vriendelijk om de details van de openstaande facturen te bekijken en de betaling zo spoedig mogelijk te voldoen via de onderstaande link. \\n\\nMet vriendelijke groet,\\n\",\n",
      "    \"email_sign_fullname\": \"Thomas Janssens\",\n",
      "    \"email_sign_role\": \"Financieel Manager\",\n",
      "    \"email_sign_company\": \"ClearMedia\",\n",
      "    \"receiver_full_name\": \"Marie Declercq\"\n",
      "  },\n",
      "    {\n",
      "    \"subject\": \"Vraag over Openstaande Facturen voor Data Analyse\",\n",
      "     \"body\": \"Geachte mevrouw Declercq,\\n\\nIk hoop dat alles goed met u gaat.\\n\\nIk neem contact met u op namens ClearMedia, een IT-dienstverlener van Proximus, in verband met een klein probleem dat we ondervinden met de betalingen voor onze data-analysediensten. We hebben onlangs een paar betalingsachterstanden opgemerkt en we willen er graag voor zorgen dat alles in orde is. \\n\\nHet zou erg behulpzaam zijn als u even de details van de betreffende facturen zou kunnen controleren via de onderstaande link. Uw hulp hierbij zou zeer gewaardeerd worden. \\n\\nMet vriendelijke groet,\\n\",\n",
      "    \"email_sign_fullname\": \"Thomas Janssens\",\n",
      "    \"email_sign_role\": \"Financieel Manager\",\n",
      "    \"email_sign_company\": \"ClearMedia\",\n",
      "    \"receiver_full_name\": \"Marie Declercq\"\n",
      "  },\n",
      "  {\n",
      "    \"subject\": \"Belangrijke update over Data Analyse Betalingen\",\n",
      "    \"body\": \"Geachte mevrouw Declercq,\\n\\nIk hoop dat deze mail u goed bereikt.\\n\\nNamens ClearMedia, een IT-dienstverlener van Proximus, schrijf ik u vandaag om een belangrijk punt aan te kaarten met betrekking tot onze data-analysediensten. We hebben een paar openstaande betalingen opgemerkt en we willen er graag voor zorgen dat dit snel wordt opgelost.\\n\\nWe zouden het zeer waarderen als u de betalingsstatus van de openstaande facturen kon nakijken. U kunt de details en de betalingsmogelijkheden vinden via de link hieronder. Het is cruciaal dat deze kwestie zo snel mogelijk wordt aangepakt om de continuïteit van onze diensten te garanderen. \\n\\nMet vriendelijke groet,\\n\",\n",
      "     \"email_sign_fullname\": \"Thomas Janssens\",\n",
      "    \"email_sign_role\": \"Financieel Manager\",\n",
      "    \"email_sign_company\": \"ClearMedia\",\n",
      "    \"receiver_full_name\": \"Marie Declercq\"\n",
      "  }\n",
      "]\n",
      "```\n",
      "\n"
     ]
    }
   ],
   "source": [
    "contents= f\"\"\"\n",
    "\n",
    "{provider} is a service provider of {COMPANY}. {provider} has these {provider_departments}.\n",
    "\n",
    "Write some tailored emails based on the role of {random_employee['role']} about an issue that {provider} have with {COMPANY}. \n",
    "\n",
    "The issue is {random_issue} and is related to {random_employee['role']}.\n",
    "\n",
    "Do not include urgent in the subject of the email.\n",
    "\n",
    "The receiver of the email is {random_employee['name']} and should be in {random_employee['language']}. Address the receiver formal and by his last name.\n",
    "\n",
    "The email signature should contain the first name, family name, role and the company name of one of the employees of {provider}. \n",
    "\n",
    "Do not include the link in the body of the email, as it will be implemented separately and placed below the text body, refer to it in the text body where it is placed.\n",
    "\n",
    "Just plain text in the body, nothing to include anymore.\n",
    "\n",
    "The email should be written in this style example:\n",
    "\n",
    "Use this JSON schema:\n",
    "\n",
    "Provider_email = {{'subject':str,'body':str, 'email_sign_fullname':str, 'email_sign_role':str, 'email_sign_company':str, 'receiver_full_name':str}}\n",
    "Return: list[Provider_email]\n",
    "\"\"\"\n",
    "\n",
    "response = client.models.generate_content(\n",
    "    model=MODEL, config=config, contents=contents)\n",
    "\n",
    "print(response.text)"
   ]
  },
  {
   "cell_type": "markdown",
   "metadata": {},
   "source": [
    "**Internal Emails Proximus**"
   ]
  },
  {
   "cell_type": "code",
   "execution_count": null,
   "metadata": {},
   "outputs": [],
   "source": []
  },
  {
   "cell_type": "markdown",
   "metadata": {},
   "source": [
    "**4. BLENDING DATA IN HTML**"
   ]
  },
  {
   "cell_type": "markdown",
   "metadata": {},
   "source": []
  },
  {
   "cell_type": "markdown",
   "metadata": {},
   "source": [
    "**5. SENDING MAILS TO GOPHISH**"
   ]
  },
  {
   "cell_type": "markdown",
   "metadata": {},
   "source": []
  }
 ],
 "metadata": {
  "kernelspec": {
   "display_name": "proximus",
   "language": "python",
   "name": "python3"
  },
  "language_info": {
   "codemirror_mode": {
    "name": "ipython",
    "version": 3
   },
   "file_extension": ".py",
   "mimetype": "text/x-python",
   "name": "python",
   "nbconvert_exporter": "python",
   "pygments_lexer": "ipython3",
   "version": "3.10.11"
  }
 },
 "nbformat": 4,
 "nbformat_minor": 2
}
