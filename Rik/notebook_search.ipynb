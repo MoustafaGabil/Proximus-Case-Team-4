{
 "cells": [
  {
   "cell_type": "code",
   "execution_count": 1374,
   "metadata": {},
   "outputs": [
    {
     "name": "stdout",
     "output_type": "stream",
     "text": [
      "I am a large language model, trained by Google.\n",
      "\n"
     ]
    }
   ],
   "source": [
    "from google import genai\n",
    "from dotenv import load_dotenv\n",
    "import os\n",
    "from pydantic import BaseModel, ValidationError\n",
    "from typing import List\n",
    "from google.genai.types import GenerateContentConfig, Tool\n",
    "from google.generativeai.types import HarmCategory, HarmBlockThreshold\n",
    "import json\n",
    "import re\n",
    "import random as rd\n",
    "\n",
    "# Load environment variables from the .env file\n",
    "load_dotenv()\n",
    "\n",
    "# Retrieve the API key from the .env file\n",
    "api_key = os.getenv('GEMINI_API_KEY')\n",
    "\n",
    "# Initialize the Google AI client\n",
    "client = genai.Client(api_key=api_key)\n",
    "\n",
    "# Generate content\n",
    "response = client.models.generate_content(\n",
    "    model='gemini-2.0-flash-exp', contents='What is your name?'\n",
    ")\n",
    "print(response.text)\n",
    "\n",
    "\n"
   ]
  },
  {
   "cell_type": "markdown",
   "metadata": {},
   "source": [
    "*Function to extract Json of LLm output and save it to a file*"
   ]
  },
  {
   "cell_type": "code",
   "execution_count": 1375,
   "metadata": {},
   "outputs": [],
   "source": [
    "def save_json_from_string(input_string, output_filename):\n",
    "    \"\"\"\n",
    "    Extracts JSON content from a string and saves it to a JSON file with the specified name.\n",
    "\n",
    "    :param input_string: The input string containing JSON data within brackets.\n",
    "    :param output_filename: The name of the output JSON file (e.g., \"data.json\").\n",
    "    :return: True if the operation was successful, False otherwise.\n",
    "    \"\"\"\n",
    "    # Step 1: Extract the JSON content within the brackets\n",
    "    result = re.search(r'\\[.*\\]', input_string, re.DOTALL)\n",
    "\n",
    "    if result:\n",
    "        extracted_content = result.group(0)  # Get the matched content\n",
    "\n",
    "        try:\n",
    "            # Step 2: Parse the extracted content into a Python object (list/dict)\n",
    "            json_data = json.loads(extracted_content)\n",
    "\n",
    "            # Step 3: Write the JSON data to a file\n",
    "            with open(output_filename, \"w\", encoding=\"utf-8\") as json_file:\n",
    "                json.dump(json_data, json_file, indent=4)  # Save with pretty formatting\n",
    "\n",
    "            print(f\"JSON data has been successfully written to '{output_filename}'.\")\n",
    "            return True  # Operation was successful\n",
    "        except json.JSONDecodeError as e:\n",
    "            print(f\"Error parsing JSON: {e}\")\n",
    "        except Exception as e:\n",
    "            print(f\"An error occurred while writing the file: {e}\")\n",
    "    else:\n",
    "        print(\"No content found within brackets.\")\n",
    "\n",
    "    return False  # Operation failed"
   ]
  },
  {
   "cell_type": "code",
   "execution_count": 1376,
   "metadata": {},
   "outputs": [],
   "source": [
    "MODEL = \"gemini-2.0-flash-exp\""
   ]
  },
  {
   "cell_type": "code",
   "execution_count": 1377,
   "metadata": {},
   "outputs": [],
   "source": [
    "\n",
    "COMPANY = 'Proximus'"
   ]
  },
  {
   "cell_type": "code",
   "execution_count": 1378,
   "metadata": {},
   "outputs": [],
   "source": [
    "safety_settings = [\n",
    "    {\"category\": \"HARM_CATEGORY_HARASSMENT\", \"threshold\": \"BLOCK_NONE\"},\n",
    "    {\"category\": \"HARM_CATEGORY_HATE_SPEECH\", \"threshold\": \"BLOCK_NONE\"},\n",
    "    {\"category\": \"HARM_CATEGORY_SEXUALLY_EXPLICIT\", \"threshold\": \"BLOCK_NONE\"},\n",
    "    {\"category\": \"HARM_CATEGORY_DANGEROUS_CONTENT\", \"threshold\": \"BLOCK_NONE\"},\n",
    "]"
   ]
  },
  {
   "cell_type": "markdown",
   "metadata": {},
   "source": [
    "**1. SETTING UP A RESEARCH ASSISTANT** (temperature = 0, tools = google search)"
   ]
  },
  {
   "cell_type": "code",
   "execution_count": 1379,
   "metadata": {},
   "outputs": [],
   "source": [
    "system_instruction = \"\"\"You are an analyst that conducts company research.\n",
    "You are given a company name, and you will work on a company report. You have access\n",
    "to Google Search to look up company news, updates, metrics, public records and linkedin pages to write research reports.\n",
    "\n",
    "When given a company name, identify key aspects to research, look up that information\n",
    "and then write an elaborate company report. \n",
    "\n",
    "Thoroughly plan your work in detail and steps, but avoid discussing it. Do not add any additional comments after finishing the report.\"\"\""
   ]
  },
  {
   "cell_type": "code",
   "execution_count": 1380,
   "metadata": {},
   "outputs": [],
   "source": [
    "config = GenerateContentConfig(system_instruction=system_instruction, tools=[Tool(google_search={})], temperature=0,maxOutputTokens=8000, top_p=0.9, top_k=5, safety_settings=safety_settings)"
   ]
  },
  {
   "cell_type": "markdown",
   "metadata": {},
   "source": [
    "**Main Company report**"
   ]
  },
  {
   "cell_type": "code",
   "execution_count": 1381,
   "metadata": {},
   "outputs": [
    {
     "name": "stdout",
     "output_type": "stream",
     "text": [
      "```json\n",
      "[\n",
      "    {\n",
      "        \"subject\": \"Proximus Rebrands Global Arm as Proximus Global\",\n",
      "        \"overview\": \"Proximus has integrated its international divisions, including BICS, Telesign, and Route Mobile, under a new umbrella brand called Proximus Global. This new entity is valued at approximately €3.1 billion and aims to streamline operations, harmonize roles, and drive commercial growth by leveraging the group's diverse talent and global presence. The move is intended to position Proximus as a global leader in digital communications. Guillaume Boutin will serve as CEO of Proximus Global while continuing as group CEO. Clear Bridge Ventures, the investment vehicle of Route Mobile founders, will retain 8.7% of shares in Proximus Global, with Proximus owning the rest.\",\n",
      "        \"source\": \"Light Reading, telecomtv.com, Mobile Europe\"\n",
      "    },\n",
      "    {\n",
      "        \"subject\": \"Scarlet Offers More Data at Same Price\",\n",
      "        \"overview\": \"Scarlet, a subsidiary of Proximus, has launched a new offer for 2025, providing increased data volumes on its mobile plans at no extra cost. This initiative aims to provide more value to customers while maintaining the same advantageous pricing.\",\n",
      "        \"source\": \"Proximus Group News, proximus.com\"\n",
      "    },\n",
      "    {\n",
      "        \"subject\": \"Proximus Tests Cargo Sailboat in Supply Chain\",\n",
      "        \"overview\": \"Proximus is exploring sustainable transportation methods by testing the use of a cargo sailboat in its supply chain. This initiative, in collaboration with Sagemcom, highlights Proximus' commitment to environmental responsibility.\",\n",
      "        \"source\": \"Proximus Group News, proximus.com\"\n",
      "    },\n",
      "    {\n",
      "        \"subject\": \"Proximus Fiber Network Recognized for Speed and Performance\",\n",
      "        \"overview\": \"Studies by nPerf and Ookla have recognized Proximus' fiber network for its superior speed and performance compared to competitors. These recognitions from international institutions specializing in network quality and speed measurements highlight the strength of Proximus' fiber infrastructure.\",\n",
      "         \"source\": \"proximus.com\"\n",
      "    },\n",
      "     {\n",
      "        \"subject\": \"Proximus Sells Luxembourg Towers\",\n",
      "        \"overview\": \"Proximus has sold its mobile tower assets in Luxembourg to InfraRed Capital Partners for approximately €108 million. This deal involves 267 mobile tower assets.\",\n",
      "        \"source\": \"DCD - Data Center Dynamics, MarketScreener\"\n",
      "    },\n",
      "    {\n",
      "        \"subject\": \"Proximus to Sell Be-Mobile\",\n",
      "        \"overview\": \"Proximus is reportedly planning to sell its mobility subsidiary, Be-Mobile, to fund its fiber optic cable rollout. Be-Mobile is known for its parking payment system via text message. Proximus owns around 93% of Be-Mobile.\",\n",
      "        \"source\": \"DCD - Data Center Dynamics\"\n",
      "    },\n",
      "    {\n",
      "        \"subject\": \"Proximus and Microsoft Announce Strategic Partnership\",\n",
      "        \"overview\": \"Proximus and Microsoft have announced a 5-year strategic partnership to enhance cloud and AI solutions. This collaboration will allow both companies to leverage their expertise and product leadership, with Microsoft strengthening its use of Proximus' CPaaS & DI product suites. The partnership aims to redefine customer experiences in Belgium and abroad.\",\n",
      "        \"source\": \"The Cyber Express\"\n",
      "    },\n",
      "     {\n",
      "        \"subject\": \"Proximus Divests Data Centers\",\n",
      "        \"overview\": \"Proximus has sold its data center business to Datacenter United in a sale-leaseback deal valued at €128 million. This transaction involves four data centers across Evere and Mechelen and is expected to close by Q1 2025.\",\n",
      "        \"source\": \"DCD - Data Center Dynamics, MarketScreener\"\n",
      "    }\n",
      "]\n",
      "```\n"
     ]
    }
   ],
   "source": [
    "contents = f\"\"\"\n",
    "Write a report about {COMPANY}.\n",
    "\n",
    "The report should contain an extensive overview of the most important news facts of the last 2 weeks. \n",
    "\n",
    "The report should be written in this style example:\n",
    "\n",
    "Use this JSON schema:\n",
    "\n",
    "Proximus_news = {{'subject':str, 'overview':str, 'source':str}}\n",
    "Return: list[Proximus_news]\n",
    "\"\"\"\n",
    "\n",
    "response = client.models.generate_content(\n",
    "    model=MODEL, config=config, contents=contents)\n",
    "\n",
    "print(response.text)\n"
   ]
  },
  {
   "cell_type": "code",
   "execution_count": 1382,
   "metadata": {},
   "outputs": [
    {
     "name": "stdout",
     "output_type": "stream",
     "text": [
      "JSON data has been successfully written to 'proximus_news.json'.\n"
     ]
    },
    {
     "data": {
      "text/plain": [
       "True"
      ]
     },
     "execution_count": 1382,
     "metadata": {},
     "output_type": "execute_result"
    }
   ],
   "source": [
    "save_json_from_string(response.text, 'proximus_news.json')"
   ]
  },
  {
   "cell_type": "markdown",
   "metadata": {},
   "source": [
    "**Proximus Key Employees and Roles**"
   ]
  },
  {
   "cell_type": "code",
   "execution_count": 1383,
   "metadata": {},
   "outputs": [
    {
     "name": "stdout",
     "output_type": "stream",
     "text": [
      "```json\n",
      "[\n",
      "    {\n",
      "        \"first_name\": \"Guillaume\",\n",
      "        \"family_name\": \"Boutin\",\n",
      "        \"role\": \"Chief Executive Officer of the Proximus Group\",\n",
      "        \"department\": \"CEO's department\",\n",
      "        \"email_address\": \"guillaume.boutin@proximus.be\"\n",
      "    },\n",
      "    {\n",
      "        \"first_name\": \"Ben\",\n",
      "        \"family_name\": \"Appel\",\n",
      "        \"role\": \"Corporate Affairs Lead\",\n",
      "        \"department\": \"Corporate Affairs\",\n",
      "        \"email_address\": \"ben.appel@proximus.be\"\n",
      "    },\n",
      "    {\n",
      "        \"first_name\": \"Jim\",\n",
      "        \"family_name\": \"Casteele\",\n",
      "        \"role\": \"Consumer Market Lead\",\n",
      "         \"department\":\"Consumer Market\",\n",
      "        \"email_address\": \"jim.casteele@proximus.be\"\n",
      "    },\n",
      "    {\n",
      "        \"first_name\": \"Anne-Sophie\",\n",
      "        \"family_name\": \"Lotgering\",\n",
      "        \"role\": \"Enterprise IT Services & Segments Lead\",\n",
      "        \"department\": \"Enterprise Market\",\n",
      "        \"email_address\": \"anne-sophie.lotgering@proximus.be\"\n",
      "    },\n",
      "   {\n",
      "        \"first_name\": \"Antonietta\",\n",
      "        \"family_name\": \"Mastroianni\",\n",
      "        \"role\": \"Digital & IT Lead\",\n",
      "        \"department\": \"Digital & IT\",\n",
      "        \"email_address\": \"antonietta.mastroianni@proximus.be\"\n",
      "    },\n",
      "    {\n",
      "        \"first_name\": \"Mark\",\n",
      "        \"family_name\": \"Reid\",\n",
      "        \"role\": \"Finance Lead\",\n",
      "        \"department\": \"Finance\",\n",
      "        \"email_address\":\"mark.reid@proximus.be\"\n",
      "    },\n",
      "    {\n",
      "        \"first_name\":\"Geert\",\n",
      "        \"family_name\":\"Standaert\",\n",
      "        \"role\":\"Network & Wholesale Lead\",\n",
      "        \"department\":\"Network & Wholesale\",\n",
      "        \"email_address\":\"geert.standaert@proximus.be\"\n",
      "    },\n",
      "    {\n",
      "       \"first_name\": \"Renaud\",\n",
      "       \"family_name\": \"Tilmans\",\n",
      "       \"role\": \"Enterprise Telco Services & Ops Lead\",\n",
      "       \"department\": \"Customer Operations\",\n",
      "       \"email_address\": \"renaud.tilmans@proximus.be\"\n",
      "    },\n",
      "    {\n",
      "        \"first_name\": \"Jan\",\n",
      "        \"family_name\": \"Van Acoleyen\",\n",
      "        \"role\": \"Human Capital Lead\",\n",
      "        \"department\": \"Human Capital\",\n",
      "        \"email_address\": \"jan.vanacoleyen@proximus.be\"\n",
      "    },\n",
      "    {\n",
      "        \"first_name\": \"Stefaan\",\n",
      "        \"family_name\": \"De Clerck\",\n",
      "        \"role\": \"Chairman of the Proximus Board\",\n",
      "        \"department\": \"Board of directors\",\n",
      "         \"email_address\": \"stefaan.declerck@proximus.be\"\n",
      "    },\n",
      "    {\n",
      "        \"first_name\": \"Caroline\",\n",
      "        \"family_name\": \"Basyn\",\n",
      "         \"role\": \"Independent director\",\n",
      "         \"department\":\"Board of directors\",\n",
      "         \"email_address\":\"caroline.basyn@proximus.be\"\n",
      "    },\n",
      "    {\n",
      "        \"first_name\": \"Cécile\",\n",
      "        \"family_name\": \"Coune\",\n",
      "        \"role\": \"Independent director\",\n",
      "        \"department\":\"Board of directors\",\n",
      "        \"email_address\":\"cecile.coune@proximus.be\"\n",
      "    },\n",
      "    {\n",
      "        \"first_name\":\"Karel\",\n",
      "        \"family_name\":\"De Gucht\",\n",
      "        \"role\":\"Director appointed by the Belgian State\",\n",
      "        \"department\":\"Board of directors\",\n",
      "        \"email_address\":\"karel.degucht@proximus.be\"\n",
      "    },\n",
      "    {\n",
      "        \"first_name\":\"Béatrice\",\n",
      "        \"family_name\":\"de Mahieu\",\n",
      "        \"role\":\"Director appointed by the Belgian State\",\n",
      "        \"department\":\"Board of directors\",\n",
      "        \"email_address\":\"beatrice.demahieu@proximus.be\"\n",
      "    },\n",
      "    {\n",
      "        \"first_name\":\"Martin\",\n",
      "        \"family_name\":\"De Prycker\",\n",
      "        \"role\":\"Independent director\",\n",
      "        \"department\":\"Board of directors\",\n",
      "        \"email_address\":\"martin.deprycker@proximus.be\"\n",
      "    },\n",
      "    {\n",
      "        \"first_name\":\"Audrey\",\n",
      "        \"family_name\":\"Hanard\",\n",
      "        \"role\":\"Director appointed by the Belgian State\",\n",
      "        \"department\":\"Board of directors\",\n",
      "        \"email_address\":\"audrey.hanard@proximus.be\"\n",
      "    },\n",
      "    {\n",
      "        \"first_name\":\"Ibrahim\",\n",
      "        \"family_name\":\"Ouassari\",\n",
      "        \"role\":\"Director\",\n",
      "        \"department\":\"Board of directors\",\n",
      "        \"email_address\":\"ibrahim.ouassari@proximus.be\"\n",
      "    },\n",
      "    {\n",
      "        \"first_name\":\"Catherine\",\n",
      "        \"family_name\":\"Rutten\",\n",
      "        \"role\":\"Independent director\",\n",
      "        \"department\":\"Board of directors\",\n",
      "        \"email_address\":\"catherine.rutten@proximus.be\"\n",
      "    },\n",
      "    {\n",
      "        \"first_name\":\"Joachim\",\n",
      "        \"family_name\":\"Sonne\",\n",
      "        \"role\":\"Independent director\",\n",
      "        \"department\":\"Board of directors\",\n",
      "        \"email_address\":\"joachim.sonne@proximus.be\"\n",
      "    },\n",
      "    {\n",
      "        \"first_name\":\"Karl\",\n",
      "        \"family_name\":\"Cuveele\",\n",
      "        \"role\":\"Managing Director Proximus Real Estate - Connectimmo\",\n",
      "         \"department\":\"Real Estate\",\n",
      "        \"email_address\":\"karl.cuveele@proximus.be\"\n",
      "    },\n",
      "    {\n",
      "        \"first_name\":\"Jacques\",\n",
      "        \"family_name\":\"Ruckert\",\n",
      "        \"role\":\"Chief Solutions & Innovation Officer\",\n",
      "        \"department\":\"Solutions & Innovation\",\n",
      "        \"email_address\":\"jacques.ruckert@proximus.be\"\n",
      "    },\n",
      "     {\n",
      "        \"first_name\":\"Jason\",\n",
      "        \"family_name\":\"Vanherrewegge\",\n",
      "        \"role\":\"Chief Editor\",\n",
      "         \"department\":\"Editorial\",\n",
      "        \"email_address\":\"jason.vanherrewegge@proximus.be\"\n",
      "    },\n",
      "    {\n",
      "        \"first_name\":\"Geert\",\n",
      "        \"family_name\":\"Kelchtermans\",\n",
      "        \"role\":\"VP Small & Medium Enterprises - Tribe Lead\",\n",
      "        \"department\":\"Small & Medium Enterprises\",\n",
      "        \"email_address\":\"geert.kelchtermans@proximus.be\"\n",
      "    },\n",
      "    {\n",
      "        \"first_name\":\"Jan\",\n",
      "        \"family_name\":\"van Oekelen\",\n",
      "        \"role\":\"Lead Manager Solution Sales\",\n",
      "        \"department\":\"Sales\",\n",
      "        \"email_address\":\"jan.vanoekelen@proximus.be\"\n",
      "    },\n",
      "    {\n",
      "        \"first_name\":\"Sebastien\",\n",
      "        \"family_name\":\"Evrard\",\n",
      "        \"role\":\"Center Of Excellence Lead - Pricing & Promotions\",\n",
      "        \"department\":\"Pricing & Promotions\",\n",
      "        \"email_address\":\"sebastien.evrard@proximus.be\"\n",
      "    },\n",
      "    {\n",
      "        \"first_name\":\"Thomas\",\n",
      "        \"family_name\":\"Vanherk\",\n",
      "        \"role\":\"Team Lead ICT Pricing & Costing\",\n",
      "        \"department\":\"ICT Pricing & Costing\",\n",
      "        \"email_address\":\"thomas.vanherk@proximus.be\"\n",
      "    },\n",
      "    {\n",
      "        \"first_name\":\"Annemie\",\n",
      "        \"family_name\":\"Peetermans\",\n",
      "        \"role\":\"Product Owner Lead - E2e Sales Journeys Physical Channels\",\n",
      "        \"department\":\"Sales Journeys\",\n",
      "        \"email_address\":\"annemie.peetermans@proximus.be\"\n",
      "    },\n",
      "    {\n",
      "        \"first_name\":\"Olivier\",\n",
      "        \"family_name\":\"Crucq\",\n",
      "        \"role\":\"Director Commercial & Marketing Chapter Area\",\n",
      "        \"department\":\"Commercial & Marketing\",\n",
      "        \"email_address\":\"olivier.crucq@proximus.be\"\n",
      "    },\n",
      "    {\n",
      "        \"first_name\":\"Paul\",\n",
      "        \"family_name\":\"Burch\",\n",
      "         \"role\":\"Sales & Marketing Director\",\n",
      "         \"department\":\"Sales & Marketing\",\n",
      "        \"email_address\":\"paul.burch@proximus.be\"\n",
      "    },\n",
      "    {\n",
      "        \"first_name\":\"Pierre\",\n",
      "        \"family_name\":\"Demoulin\",\n",
      "        \"role\":\"Fiber Sales Lead\",\n",
      "        \"department\":\"Fiber Sales\",\n",
      "        \"email_address\":\"pierre.demoulin@proximus.be\"\n",
      "    },\n",
      "    {\n",
      "        \"first_name\":\"Igor\",\n",
      "        \"family_name\":\"Makedonsky\",\n",
      "        \"role\":\"Director Group Legal & Insurance - General Counsel\",\n",
      "        \"department\":\"Legal & Insurance\",\n",
      "        \"email_address\":\"igor.makedonsky@proximus.be\"\n",
      "    }\n",
      "]\n",
      "```\n"
     ]
    }
   ],
   "source": [
    "contents = f\"\"\"\n",
    "Write a report about {COMPANY}\n",
    "\n",
    "The report should only contain a comprehensive summary of the employees in the company. \n",
    "\n",
    "The report should contain, the complete first name and family name, an email address with this structure \"first name.family name@{COMPANY}.be\" (put it all in lower case), the role that they have within the company and the department that they make part of.\n",
    "\n",
    "Do not include abbreviations in names, and exclude employees whose full first and last names cannot be found.\n",
    "\n",
    "Give me as much grounded names that you can find with your research and put them all in the report.\n",
    "\n",
    "The report should be written in this style example:\n",
    "\n",
    "Use this JSON schema:\n",
    "\n",
    "Proximus_employees = {{'first_name':str, 'family_name':str, 'role':str, 'department':str, 'email_address':str}}\n",
    "Return: list[Proximus_employees]\n",
    "\"\"\"\n",
    "\n",
    "response = client.models.generate_content(\n",
    "    model=MODEL, config=config, contents=contents)\n",
    "\n",
    "print(response.text)"
   ]
  },
  {
   "cell_type": "code",
   "execution_count": 1384,
   "metadata": {},
   "outputs": [
    {
     "name": "stdout",
     "output_type": "stream",
     "text": [
      "JSON data has been successfully written to 'proximus_employees.json'.\n"
     ]
    },
    {
     "data": {
      "text/plain": [
       "True"
      ]
     },
     "execution_count": 1384,
     "metadata": {},
     "output_type": "execute_result"
    }
   ],
   "source": [
    "save_json_from_string(response.text, 'proximus_employees.json')"
   ]
  },
  {
   "cell_type": "markdown",
   "metadata": {},
   "source": [
    "**Departments Proximus**"
   ]
  },
  {
   "cell_type": "code",
   "execution_count": 1385,
   "metadata": {},
   "outputs": [
    {
     "name": "stdout",
     "output_type": "stream",
     "text": [
      "```json\n",
      "[\n",
      "  {\n",
      "    \"department\": \"CEO's Department\",\n",
      "    \"subdivision\": [],\n",
      "    \"address\": \"Koning Albert II-laan 27, 1030 Brussels, Belgium\",\n",
      "    \"phone\": \"+32 2 205 40 00\",\n",
      "    \"vat\": \"BE 0202239951\"\n",
      "  },\n",
      "  {\n",
      "    \"department\": \"Consumer Market\",\n",
      "    \"subdivision\": [],\n",
      "     \"address\": \"Koning Albert II-laan 27, 1030 Brussels, Belgium\",\n",
      "    \"phone\": \"+32 2 205 40 00\",\n",
      "    \"vat\": \"BE 0202239951\"\n",
      "  },\n",
      "  {\n",
      "    \"department\": \"Enterprise Market\",\n",
      "    \"subdivision\": [],\n",
      "     \"address\": \"Koning Albert II-laan 27, 1030 Brussels, Belgium\",\n",
      "    \"phone\": \"+32 2 205 40 00\",\n",
      "    \"vat\": \"BE 0202239951\"\n",
      "  },\n",
      "   {\n",
      "    \"department\": \"Corporate Affairs\",\n",
      "    \"subdivision\": [],\n",
      "     \"address\": \"Koning Albert II-laan 27, 1030 Brussels, Belgium\",\n",
      "    \"phone\": \"+32 2 205 40 00\",\n",
      "    \"vat\": \"BE 0202239951\"\n",
      "  },\n",
      "  {\n",
      "    \"department\": \"Network & Wholesale\",\n",
      "    \"subdivision\": [],\n",
      "     \"address\": \"Koning Albert II-laan 27, 1030 Brussels, Belgium\",\n",
      "    \"phone\": \"+32 2 205 40 00\",\n",
      "    \"vat\": \"BE 0202239951\"\n",
      "  },\n",
      "  {\n",
      "    \"department\": \"Customer Operations\",\n",
      "    \"subdivision\": [],\n",
      "     \"address\": \"Koning Albert II-laan 27, 1030 Brussels, Belgium\",\n",
      "    \"phone\": \"+32 2 205 40 00\",\n",
      "    \"vat\": \"BE 0202239951\"\n",
      "  },\n",
      "    {\n",
      "    \"department\": \"Human Capital\",\n",
      "    \"subdivision\": [],\n",
      "     \"address\": \"Koning Albert II-laan 27, 1030 Brussels, Belgium\",\n",
      "    \"phone\": \"+32 2 205 40 00\",\n",
      "    \"vat\": \"BE 0202239951\"\n",
      "  },\n",
      "  {\n",
      "    \"department\": \"Digital & IT\",\n",
      "    \"subdivision\": [],\n",
      "     \"address\": \"Koning Albert II-laan 27, 1030 Brussels, Belgium\",\n",
      "    \"phone\": \"+32 2 205 40 00\",\n",
      "    \"vat\": \"BE 0202239951\"\n",
      "  },\n",
      "  {\n",
      "    \"department\": \"Finance\",\n",
      "    \"subdivision\": [],\n",
      "     \"address\": \"Koning Albert II-laan 27, 1030 Brussels, Belgium\",\n",
      "    \"phone\": \"+32 2 205 40 00\",\n",
      "    \"vat\": \"BE 0202239951\"\n",
      "  }\n",
      "]\n",
      "```\n"
     ]
    }
   ],
   "source": [
    "contents = f\"\"\"\n",
    "\n",
    "Write a report about {COMPANY}\n",
    "\n",
    "The report should exclusively provide a detailed summary of the company's departments and their respective subdivisions, if any.\n",
    "\n",
    "Include in the report the full address where the headquarter of the provider is located, the main phone number and vat number.\n",
    "\n",
    "Do not include abbreviations in the report.\n",
    "\n",
    "Provide a detailed list, specifying only verified and public information. Do not include speculative or incomplete details.\n",
    "\n",
    "The report should be written in this style example:\n",
    "\n",
    "Use this JSON schema:\n",
    "\n",
    "Proximus_departments = {{'department':str, 'subdivision':list[str], 'address':str, 'phone':str, 'vat':str}}\n",
    "Return: list[Proximus_departments]\n",
    "\"\"\"\n",
    "\n",
    "response = client.models.generate_content(\n",
    "    model=MODEL, config=config, contents=contents)\n",
    "\n",
    "print(response.text)"
   ]
  },
  {
   "cell_type": "code",
   "execution_count": 1386,
   "metadata": {},
   "outputs": [
    {
     "name": "stdout",
     "output_type": "stream",
     "text": [
      "JSON data has been successfully written to 'proximus_departments.json'.\n"
     ]
    },
    {
     "data": {
      "text/plain": [
       "True"
      ]
     },
     "execution_count": 1386,
     "metadata": {},
     "output_type": "execute_result"
    }
   ],
   "source": [
    "save_json_from_string(response.text, 'proximus_departments.json')"
   ]
  },
  {
   "cell_type": "markdown",
   "metadata": {},
   "source": [
    "**Company Colors**"
   ]
  },
  {
   "cell_type": "code",
   "execution_count": 1387,
   "metadata": {},
   "outputs": [
    {
     "name": "stdout",
     "output_type": "stream",
     "text": [
      "```json\n",
      "[\n",
      "    {\n",
      "        \"color_name_1\": \"Primary Purple\",\n",
      "        \"hex_code_1\": \"#5C2D91\",\n",
      "        \"rgb_code_1\": [92, 45, 145]\n",
      "    },\n",
      "    {\n",
      "        \"color_name_2\": \"White\",\n",
      "        \"hex_code_2\": \"#FFFFFF\",\n",
      "        \"rgb_code_2\": [255, 255, 255]\n",
      "    },\n",
      "    {\n",
      "        \"color_name_3\": \"Black\",\n",
      "         \"hex_code_3\": \"#000000\",\n",
      "        \"rgb_code_3\": [0, 0, 0]\n",
      "    }\n",
      "]\n",
      "```\n"
     ]
    }
   ],
   "source": [
    "contents = f\"\"\"\n",
    "\n",
    "Write a report about {COMPANY}\n",
    "\n",
    "The report should exclusively provide the main colors of Company's branding, including any official color codes such as HEX or RGB. Focus on the primary colors used in the company's logo and website.\n",
    "\n",
    "Do not include speculative colors and focus only on the main ones.\n",
    "\n",
    "The report should be written in this style example:\n",
    "\n",
    "Use this JSON schema:\n",
    "\n",
    "company_colors = {{'color_name_1':str, 'hex_code_1':str, 'rgb_code_1':list[int]}},{{'color_name_2':str,'hex_code_2':str,'rgb_code_2':list[int]}}\n",
    "Return: list[company_colors]\n",
    "\n",
    "Thoroughly plan your work in detail and steps, but avoid discussing it. Do not add any additional comments after finishing the report.\n",
    "\"\"\"\n",
    "\n",
    "\n",
    "response = client.models.generate_content(\n",
    "    model=MODEL, config=config, contents=contents)\n",
    "\n",
    "print(response.text)"
   ]
  },
  {
   "cell_type": "code",
   "execution_count": 1388,
   "metadata": {},
   "outputs": [
    {
     "name": "stdout",
     "output_type": "stream",
     "text": [
      "JSON data has been successfully written to 'proximus_colors.json'.\n"
     ]
    },
    {
     "data": {
      "text/plain": [
       "True"
      ]
     },
     "execution_count": 1388,
     "metadata": {},
     "output_type": "execute_result"
    }
   ],
   "source": [
    "save_json_from_string(response.text, 'proximus_colors.json')"
   ]
  },
  {
   "cell_type": "markdown",
   "metadata": {},
   "source": [
    "**Blend data from Json files Proximus**"
   ]
  },
  {
   "cell_type": "code",
   "execution_count": 1389,
   "metadata": {},
   "outputs": [
    {
     "name": "stdout",
     "output_type": "stream",
     "text": [
      "Data successfully merged into blended_data_proximus.json\n"
     ]
    }
   ],
   "source": [
    "\n",
    "# File paths for input and output\n",
    "input_files = {\n",
    "    \"colors\": \"proximus_colors.json\",\n",
    "    \"departments\": \"proximus_departments.json\",\n",
    "    \"employees\": \"proximus_employees.json\",\n",
    "    \"news\": \"proximus_news.json\",\n",
    "    \"providers\": \"proximus_providers.json\"\n",
    "}\n",
    "output_file = \"blended_data_proximus.json\"\n",
    "\n",
    "# Combine all data into one dictionary\n",
    "blended_data = {}\n",
    "\n",
    "for key, file_path in input_files.items():\n",
    "    with open(file_path, 'r') as f:\n",
    "        blended_data[key] = json.load(f)\n",
    "\n",
    "# Write the combined data to a new JSON file\n",
    "with open(output_file, 'w') as f:\n",
    "    json.dump(blended_data, f, indent=4)\n",
    "\n",
    "print(f\"Data successfully merged into {output_file}\")\n"
   ]
  },
  {
   "cell_type": "markdown",
   "metadata": {},
   "source": [
    "**Service providers**"
   ]
  },
  {
   "cell_type": "code",
   "execution_count": 1390,
   "metadata": {},
   "outputs": [
    {
     "name": "stdout",
     "output_type": "stream",
     "text": [
      "```json\n",
      "[\n",
      "  {\n",
      "    \"provider\": \"Be-Mobile\",\n",
      "    \"service\": \"Smart mobility solutions\",\n",
      "    \"type\": \"Technology Partner\",\n",
      "    \"provider_homepage\": \"https://www.be-mobile.com/\"\n",
      "  },\n",
      "  {\n",
      "    \"provider\": \"ClearMedia\",\n",
      "    \"service\": \"Cloud, cybersecurity and digital workplace solutions\",\n",
      "    \"type\": \"Technology Partner\",\n",
      "    \"provider_homepage\": \"https://www.clearmedia.be/\"\n",
      "  },\n",
      "   {\n",
      "    \"provider\": \"Codit\",\n",
      "    \"service\": \"Microsoft Azure cloud solutions\",\n",
      "    \"type\": \"Technology Partner\",\n",
      "    \"provider_homepage\": \"https://www.codit.eu/\"\n",
      "  },\n",
      "  {\n",
      "    \"provider\": \"Davinsi Labs\",\n",
      "    \"service\": \"Cybersecurity and operational intelligence\",\n",
      "    \"type\": \"Technology Partner\",\n",
      "     \"provider_homepage\": \"https://www.davinsilabs.com/\"\n",
      "  },\n",
      "    {\n",
      "    \"provider\": \"Proximus Spearit\",\n",
      "    \"service\": \"IT solutions\",\n",
      "     \"type\": \"Technology Partner\",\n",
      "    \"provider_homepage\": \"https://www.proximus.com/en/about-us/our-company/proximus-accelerators\"\n",
      "  },\n",
      "  {\n",
      "    \"provider\": \"Telindus\",\n",
      "    \"service\": \"IT solutions\",\n",
      "    \"type\": \"Technology Partner\",\n",
      "    \"provider_homepage\": \"https://www.telindus.lu/\"\n",
      "  },\n",
      "  {\n",
      "    \"provider\": \"BICS\",\n",
      "    \"service\": \"International communication platform\",\n",
      "    \"type\": \"Affiliate\",\n",
      "    \"provider_homepage\": \"https://www.bics.com/\"\n",
      "  },\n",
      "  {\n",
      "    \"provider\": \"Telesign\",\n",
      "    \"service\": \"Digital identity and communication platform\",\n",
      "    \"type\": \"Affiliate\",\n",
      "    \"provider_homepage\": \"https://www.telesign.com/\"\n",
      "  },\n",
      "  {\n",
      "    \"provider\": \"Nokia\",\n",
      "    \"service\": \"Network infrastructure\",\n",
      "    \"type\": \"Vendor\",\n",
      "    \"provider_homepage\": \"https://www.nokia.com/\"\n",
      "  },\n",
      "    {\n",
      "    \"provider\": \"Ericsson\",\n",
      "    \"service\": \"Network infrastructure\",\n",
      "     \"type\": \"Vendor\",\n",
      "    \"provider_homepage\": \"https://www.ericsson.com/\"\n",
      "  },\n",
      "  {\n",
      "    \"provider\": \"Unifiber\",\n",
      "    \"service\": \"Fiber optic network solutions\",\n",
      "    \"type\": \"Vendor\",\n",
      "    \"provider_homepage\": \"https://www.unifiber.com/\"\n",
      "  },\n",
      "  {\n",
      "    \"provider\":\"Infosys\",\n",
      "    \"service\":\"IT services\",\n",
      "    \"type\":\"Vendor\",\n",
      "    \"provider_homepage\":\"https://www.infosys.com/\"\n",
      "  },\n",
      "  {\n",
      "    \"provider\": \"Citymesh\",\n",
      "    \"service\": \"Wireless network development and management\",\n",
      "    \"type\": \"Mobile Virtual Network Operator\",\n",
      "    \"provider_homepage\": \"https://www.citymesh.com/\"\n",
      "  },\n",
      "    {\n",
      "    \"provider\": \"Destiny\",\n",
      "    \"service\": \"Secure cloud communication solutions\",\n",
      "     \"type\": \"Mobile Virtual Network Operator\",\n",
      "    \"provider_homepage\": \"https://www.destiny.be/\"\n",
      "  },\n",
      "  {\n",
      "    \"provider\": \"Tech Mahindra\",\n",
      "    \"service\": \"Technology platform design and building\",\n",
      "    \"type\": \"Technology Partner\",\n",
      "    \"provider_homepage\": \"https://www.techmahindra.com/\"\n",
      "  },\n",
      "  {\n",
      "    \"provider\": \"Sewan\",\n",
      "    \"service\": \"Fixed and mobile voice, cloud services, and internet access\",\n",
      "    \"type\": \"Telecom Carrier\",\n",
      "     \"provider_homepage\": \"https://www.sewan.com/\"\n",
      "  },\n",
      "    {\n",
      "    \"provider\": \"H. Essers\",\n",
      "    \"service\": \"Logistics and transport\",\n",
      "     \"type\": \"Contractor\",\n",
      "    \"provider_homepage\": \"https://www.essers.com/\"\n",
      "  },\n",
      "  {\n",
      "    \"provider\": \"VMware\",\n",
      "    \"service\": \"Hosted Private Cloud services\",\n",
      "     \"type\": \"Technology Provider\",\n",
      "    \"provider_homepage\": \"https://www.vmware.com/\"\n",
      "  },\n",
      "    {\n",
      "    \"provider\": \"Granton Marketing Service\",\n",
      "    \"service\": \"Marketing services\",\n",
      "     \"type\": \"Partner\",\n",
      "    \"provider_homepage\": \"https://www.gmsf.be/\"\n",
      "  },\n",
      "  {\n",
      "    \"provider\": \"NEO GROUP\",\n",
      "    \"service\": \"Telecommunication services\",\n",
      "     \"type\": \"Partner\",\n",
      "    \"provider_homepage\": \"https://www.neo-group.be/\"\n",
      "  },\n",
      "  {\n",
      "    \"provider\": \"One Telecom\",\n",
      "    \"service\": \"Telecommunication services\",\n",
      "     \"type\": \"Partner\",\n",
      "    \"provider_homepage\": \"https://www.one-telecom.be/\"\n",
      "  },\n",
      "  {\n",
      "    \"provider\": \"ONLYOO\",\n",
      "     \"service\": \"Telecommunication services\",\n",
      "     \"type\": \"Partner\",\n",
      "    \"provider_homepage\": \"https://www.onlyoo.be/\"\n",
      "  },\n",
      "  {\n",
      "    \"provider\": \"Totaalplan\",\n",
      "    \"service\": \"Telecommunication services\",\n",
      "     \"type\": \"Partner\",\n",
      "     \"provider_homepage\": \"https://www.totaalplan.be/\"\n",
      "  },\n",
      "  {\n",
      "    \"provider\": \"U-smile\",\n",
      "    \"service\": \"Telecommunication services\",\n",
      "     \"type\": \"Partner\",\n",
      "    \"provider_homepage\": \"https://www.u-smile.be/\"\n",
      "  },\n",
      "   {\n",
      "    \"provider\": \"YOUL\",\n",
      "    \"service\": \"Telecommunication services\",\n",
      "     \"type\": \"Partner\",\n",
      "    \"provider_homepage\": \"https://www.youl.be/\"\n",
      "  }\n",
      "]\n",
      "```\n"
     ]
    }
   ],
   "source": [
    "contents = f\"\"\"\n",
    "\n",
    "Write a report about {COMPANY}\n",
    "\n",
    "List the main service providers of the company. Include any known suppliers, contractors, technology service providers, or any other third-party companies that the company relies on. \n",
    "Provide the names of the service providers, type and description of the services they provide to the company. Also include the providers homepage in the report, if you can't find it, don not include the provider in the report. Don t include providers with brackets in their company name. \n",
    "\n",
    "The report should be written in this style example:\n",
    "\n",
    "Use this JSON schema:\n",
    "\n",
    "company_service = {{\"provider\":str,\"service\":str,\"type\":str,\"provider_homepage\":str]}}\n",
    "Return: list[company_service]\n",
    "\"\"\"\n",
    "\n",
    "response = client.models.generate_content(\n",
    "    model=MODEL, config=config, contents=contents)\n",
    "\n",
    "print(response.text)"
   ]
  },
  {
   "cell_type": "code",
   "execution_count": 1391,
   "metadata": {},
   "outputs": [
    {
     "name": "stdout",
     "output_type": "stream",
     "text": [
      "JSON data has been successfully written to 'proximus_providers.json'.\n"
     ]
    },
    {
     "data": {
      "text/plain": [
       "True"
      ]
     },
     "execution_count": 1391,
     "metadata": {},
     "output_type": "execute_result"
    }
   ],
   "source": [
    "save_json_from_string(response.text, 'proximus_providers.json')"
   ]
  },
  {
   "cell_type": "markdown",
   "metadata": {},
   "source": [
    "**Providers info** (Proceed with one Provider)"
   ]
  },
  {
   "cell_type": "code",
   "execution_count": 1392,
   "metadata": {},
   "outputs": [],
   "source": [
    "# Load JSON data from the file\n",
    "with open(\"proximus_providers.json\", \"r\") as file:\n",
    "    providers = json.load(file)"
   ]
  },
  {
   "cell_type": "code",
   "execution_count": 1393,
   "metadata": {},
   "outputs": [],
   "source": [
    "# Function to pick a random provider\n",
    "def pick_random_provider(providers):\n",
    "    if not providers:\n",
    "        return None  # Handle the case where the list is empty\n",
    "    return rd.choice(providers)"
   ]
  },
  {
   "cell_type": "code",
   "execution_count": 1394,
   "metadata": {},
   "outputs": [
    {
     "name": "stdout",
     "output_type": "stream",
     "text": [
      "{'provider': 'ClearMedia', 'service': 'Cloud, cybersecurity and digital workplace solutions', 'type': 'Technology Partner', 'provider_homepage': 'https://www.clearmedia.be/'}\n"
     ]
    }
   ],
   "source": [
    "provider = pick_random_provider(providers)\n",
    "\n",
    "print(provider)"
   ]
  },
  {
   "cell_type": "code",
   "execution_count": 1395,
   "metadata": {},
   "outputs": [
    {
     "name": "stdout",
     "output_type": "stream",
     "text": [
      "Data saved to provider_general_data.json\n"
     ]
    }
   ],
   "source": [
    "provider = [provider]\n",
    "file_path = 'provider_general_data.json'\n",
    "\n",
    "# Write the data to the JSON file\n",
    "with open(file_path, 'w') as json_file:\n",
    "    json.dump(provider, json_file, indent=4)\n",
    "\n",
    "print(f'Data saved to {file_path}')"
   ]
  },
  {
   "cell_type": "markdown",
   "metadata": {},
   "source": [
    "**Provider Key Employees and Roles**"
   ]
  },
  {
   "cell_type": "code",
   "execution_count": 1396,
   "metadata": {},
   "outputs": [
    {
     "name": "stdout",
     "output_type": "stream",
     "text": [
      "```json\n",
      "[\n",
      "    {\n",
      "        \"provider\": \"ClearMedia\",\n",
      "        \"first_name\": \"Pavel\",\n",
      "        \"family_name\": \"Pragin\",\n",
      "        \"role\": \"Team Lead\",\n",
      "        \"department\": \"Engineering\",\n",
      "        \"email_address\": \"pavel.pragin@clearmedia.be\"\n",
      "    }\n",
      "]\n",
      "```\n"
     ]
    }
   ],
   "source": [
    "contents = f\"\"\"\n",
    "    Write a report about company {provider}. This company is a provider of {COMPANY}\n",
    "\n",
    "    The report should only contain a comprehensive summary of the employees in the company.\n",
    "\n",
    "    The report should contain, the complete first name and family name, an email address with this structure \"first name.family name@{provider}.be\" (put it all in lower case), the role that they have within the company and the department that they make part of.\n",
    "\n",
    "    Do not include abbreviations in names, and exclude employees whose full first and last names cannot be found. Make sure the first and the last name contains more then 2 characters. Do not include employees of {COMPANY} in the report.\n",
    "\n",
    "    Give me as much grounded names that you can find with your research and put them all in the report.\n",
    "\n",
    "    The report should be written in this style example:\n",
    "\n",
    "    Use this JSON schema:\n",
    "\n",
    "    Employees = {{'provider': str, 'first_name': str, 'family_name': str, 'role': str, 'department': str, 'email_address':str}}\n",
    "    Return: list[Employees]\n",
    "    \"\"\"\n",
    "    \n",
    "response = client.models.generate_content(\n",
    "    model=MODEL, config=config, contents=contents)\n",
    "\n",
    "print(response.text)\n",
    "    "
   ]
  },
  {
   "cell_type": "code",
   "execution_count": 1397,
   "metadata": {},
   "outputs": [
    {
     "name": "stdout",
     "output_type": "stream",
     "text": [
      "JSON data has been successfully written to 'provider_employees.json'.\n"
     ]
    },
    {
     "data": {
      "text/plain": [
       "True"
      ]
     },
     "execution_count": 1397,
     "metadata": {},
     "output_type": "execute_result"
    }
   ],
   "source": [
    "save_json_from_string(response.text, 'provider_employees.json')"
   ]
  },
  {
   "cell_type": "markdown",
   "metadata": {},
   "source": [
    "**Provider Colors**"
   ]
  },
  {
   "cell_type": "code",
   "execution_count": 1398,
   "metadata": {},
   "outputs": [
    {
     "name": "stdout",
     "output_type": "stream",
     "text": [
      "```json\n",
      "[\n",
      "  {\n",
      "    \"provider\": \"ClearMedia\",\n",
      "    \"color_name_1\": \"Klein Blue\",\n",
      "    \"hex_code_1\": null,\n",
      "    \"rgb_code_1\": null\n",
      "  },\n",
      "  {\n",
      "    \"provider\": \"ClearMedia\",\n",
      "    \"color_name_2\": \"Prussian Blue\",\n",
      "    \"hex_code_2\": null,\n",
      "    \"rgb_code_2\": null\n",
      "  }\n",
      "]\n",
      "```\n"
     ]
    }
   ],
   "source": [
    "\n",
    "contents = f\"\"\"\n",
    "\n",
    "    Write a report about company {provider}. This company is a provider of {COMPANY}\n",
    "\n",
    "    The report should exclusively provide the main colors of Company's branding, including any official color codes such as HEX or RGB. Focus on the primary colors used in the company's logo and website.\n",
    "\n",
    "    Do not include speculative colors and focus only on the main ones.\n",
    "\n",
    "    The report should be written in this style example:\n",
    "\n",
    "    Use this JSON schema:\n",
    "\n",
    "    company_colors = {{'provider':str,'color_name_1':str, 'hex_code_1':str, 'rgb_code_1':list[int]}},{{'color_name_2':str,'hex_code_2':str,'rgb_code_2':list[int]}}\n",
    "    Return: list[company_colors]\n",
    "\n",
    "    Thoroughly plan your work in detail and steps, but avoid discussing it. Do not add any additional comments after finishing the report.\n",
    "    \"\"\"\n",
    "\n",
    "\n",
    "response = client.models.generate_content(\n",
    "        model=MODEL, config=config, contents=contents)\n",
    "\n",
    "print(response.text)"
   ]
  },
  {
   "cell_type": "code",
   "execution_count": 1399,
   "metadata": {},
   "outputs": [
    {
     "name": "stdout",
     "output_type": "stream",
     "text": [
      "JSON data has been successfully written to 'provider_color.json'.\n"
     ]
    },
    {
     "data": {
      "text/plain": [
       "True"
      ]
     },
     "execution_count": 1399,
     "metadata": {},
     "output_type": "execute_result"
    }
   ],
   "source": [
    "save_json_from_string(response.text, 'provider_color.json')"
   ]
  },
  {
   "cell_type": "markdown",
   "metadata": {},
   "source": [
    "**Departments Provider**"
   ]
  },
  {
   "cell_type": "code",
   "execution_count": 1400,
   "metadata": {},
   "outputs": [
    {
     "name": "stdout",
     "output_type": "stream",
     "text": [
      "```json\n",
      "[\n",
      "  {\n",
      "    \"provider\": \"ClearMedia\",\n",
      "    \"department\": \"Cloud Solutions\",\n",
      "    \"subdivision\": [\n",
      "      \"Infrastructure as a Service\",\n",
      "      \"Desktop as a Service\",\n",
      "      \"Application Hosting\",\n",
      "      \"Website Hosting\",\n",
      "      \"Online Backup\",\n",
      "      \"Software as a Service\",\n",
      "      \"Virtual Servers\",\n",
      "      \"Cloud Desktop Services\"\n",
      "     ],\n",
      "    \"address\": \"Merksemsesteenweg 148, 2100 Antwerpen\",\n",
      "    \"phone\": \"+32 3 658 00 36\",\n",
      "    \"vat\": \"BE0831425897\"\n",
      "  },\n",
      "  {\n",
      "    \"provider\": \"ClearMedia\",\n",
      "    \"department\": \"Cybersecurity Solutions\",\n",
      "     \"subdivision\": [],\n",
      "    \"address\": \"Merksemsesteenweg 148, 2100 Antwerpen\",\n",
      "    \"phone\": \"+32 3 658 00 36\",\n",
      "    \"vat\": \"BE0831425897\"\n",
      "  },\n",
      "   {\n",
      "    \"provider\": \"ClearMedia\",\n",
      "    \"department\": \"Digital Workplace Solutions\",\n",
      "    \"subdivision\": [],\n",
      "    \"address\": \"Merksemsesteenweg 148, 2100 Antwerpen\",\n",
      "    \"phone\": \"+32 3 658 00 36\",\n",
      "    \"vat\": \"BE0831425897\"\n",
      "  },\n",
      "  {\n",
      "    \"provider\": \"ClearMedia\",\n",
      "    \"department\": \"IT Solutions\",\n",
      "    \"subdivision\": [],\n",
      "     \"address\": \"Merksemsesteenweg 148, 2100 Antwerpen\",\n",
      "    \"phone\": \"+32 3 658 00 36\",\n",
      "    \"vat\": \"BE0831425897\"\n",
      "  }\n",
      "]\n",
      "```\n"
     ]
    }
   ],
   "source": [
    "contents = f\"\"\"\n",
    "\n",
    "Write a report about company {provider}. This company is a provider of {COMPANY}\n",
    "\n",
    "The report should exclusively provide a detailed summary of the company's departments and their respective subdivisions, if any.\n",
    "\n",
    "Include in the report the full address where the headquarter of the provider is located, the main phone number and vat number.\n",
    "\n",
    "Do not include abbreviations in the report.\n",
    "\n",
    "Provide a detailed list, specifying only verified and public information. Do not include speculative or incomplete details.\n",
    "\n",
    "The report should be written in this style example:\n",
    "\n",
    "Use this JSON schema:\n",
    "\n",
    "Provider_departments = {{'provider':str,'department':str, 'subdivision':list[str],'address':str, 'phone':str, 'vat':str}}\n",
    "Return: list[Provider_departments]\n",
    "\"\"\"\n",
    "\n",
    "response = client.models.generate_content(\n",
    "    model=MODEL, config=config, contents=contents)\n",
    "\n",
    "print(response.text)"
   ]
  },
  {
   "cell_type": "code",
   "execution_count": 1401,
   "metadata": {},
   "outputs": [
    {
     "name": "stdout",
     "output_type": "stream",
     "text": [
      "JSON data has been successfully written to 'provider_departments.json'.\n"
     ]
    },
    {
     "data": {
      "text/plain": [
       "True"
      ]
     },
     "execution_count": 1401,
     "metadata": {},
     "output_type": "execute_result"
    }
   ],
   "source": [
    "save_json_from_string(response.text, 'provider_departments.json')"
   ]
  },
  {
   "cell_type": "markdown",
   "metadata": {},
   "source": [
    "**Blend Data from Json files Providers**"
   ]
  },
  {
   "cell_type": "code",
   "execution_count": 1402,
   "metadata": {},
   "outputs": [
    {
     "name": "stdout",
     "output_type": "stream",
     "text": [
      "Current working directory: c:\\Users\\Rik\\Desktop\\Proximus-Case-Team-4\\Rik\n",
      "Data loaded from provider_general_data.json (Type: <class 'list'>): [{'provider': 'ClearMedia', 'service': 'Cloud, cybersecurity and digital workplace solutions', 'type': 'Technology Partner', 'provider_homepage': 'https://www.clearmedia.be/'}]\n",
      "Data loaded from provider_employees.json (Type: <class 'list'>): [{'provider': 'ClearMedia', 'first_name': 'Pavel', 'family_name': 'Pragin', 'role': 'Team Lead', 'department': 'Engineering', 'email_address': 'pavel.pragin@clearmedia.be'}]\n",
      "Data loaded from provider_color.json (Type: <class 'list'>): [{'provider': 'ClearMedia', 'color_name_1': 'Klein Blue', 'hex_code_1': None, 'rgb_code_1': None}, {'provider': 'ClearMedia', 'color_name_2': 'Prussian Blue', 'hex_code_2': None, 'rgb_code_2': None}]\n",
      "Data loaded from provider_departments.json (Type: <class 'list'>): [{'provider': 'ClearMedia', 'department': 'Cloud Solutions', 'subdivision': ['Infrastructure as a Service', 'Desktop as a Service', 'Application Hosting', 'Website Hosting', 'Online Backup', 'Software as a Service', 'Virtual Servers', 'Cloud Desktop Services'], 'address': 'Merksemsesteenweg 148, 2100 Antwerpen', 'phone': '+32 3 658 00 36', 'vat': 'BE0831425897'}, {'provider': 'ClearMedia', 'department': 'Cybersecurity Solutions', 'subdivision': [], 'address': 'Merksemsesteenweg 148, 2100 Antwerpen', 'phone': '+32 3 658 00 36', 'vat': 'BE0831425897'}, {'provider': 'ClearMedia', 'department': 'Digital Workplace Solutions', 'subdivision': [], 'address': 'Merksemsesteenweg 148, 2100 Antwerpen', 'phone': '+32 3 658 00 36', 'vat': 'BE0831425897'}, {'provider': 'ClearMedia', 'department': 'IT Solutions', 'subdivision': [], 'address': 'Merksemsesteenweg 148, 2100 Antwerpen', 'phone': '+32 3 658 00 36', 'vat': 'BE0831425897'}]\n",
      "Blended Data: {\n",
      "    \"ClearMedia\": {\n",
      "        \"general\": {\n",
      "            \"provider\": \"ClearMedia\",\n",
      "            \"service\": \"Cloud, cybersecurity and digital workplace solutions\",\n",
      "            \"type\": \"Technology Partner\",\n",
      "            \"provider_homepage\": \"https://www.clearmedia.be/\"\n",
      "        },\n",
      "        \"employee\": [\n",
      "            {\n",
      "                \"provider\": \"ClearMedia\",\n",
      "                \"first_name\": \"Pavel\",\n",
      "                \"family_name\": \"Pragin\",\n",
      "                \"role\": \"Team Lead\",\n",
      "                \"department\": \"Engineering\",\n",
      "                \"email_address\": \"pavel.pragin@clearmedia.be\"\n",
      "            }\n",
      "        ],\n",
      "        \"color\": {\n",
      "            \"provider\": \"ClearMedia\",\n",
      "            \"color_name_1\": \"Klein Blue\",\n",
      "            \"hex_code_1\": null,\n",
      "            \"rgb_code_1\": null,\n",
      "            \"color_name_2\": \"Prussian Blue\",\n",
      "            \"hex_code_2\": null,\n",
      "            \"rgb_code_2\": null\n",
      "        },\n",
      "        \"departments\": [\n",
      "            {\n",
      "                \"provider\": \"ClearMedia\",\n",
      "                \"department\": \"Cloud Solutions\",\n",
      "                \"subdivision\": [\n",
      "                    \"Infrastructure as a Service\",\n",
      "                    \"Desktop as a Service\",\n",
      "                    \"Application Hosting\",\n",
      "                    \"Website Hosting\",\n",
      "                    \"Online Backup\",\n",
      "                    \"Software as a Service\",\n",
      "                    \"Virtual Servers\",\n",
      "                    \"Cloud Desktop Services\"\n",
      "                ],\n",
      "                \"address\": \"Merksemsesteenweg 148, 2100 Antwerpen\",\n",
      "                \"phone\": \"+32 3 658 00 36\",\n",
      "                \"vat\": \"BE0831425897\"\n",
      "            },\n",
      "            {\n",
      "                \"provider\": \"ClearMedia\",\n",
      "                \"department\": \"Cybersecurity Solutions\",\n",
      "                \"subdivision\": [],\n",
      "                \"address\": \"Merksemsesteenweg 148, 2100 Antwerpen\",\n",
      "                \"phone\": \"+32 3 658 00 36\",\n",
      "                \"vat\": \"BE0831425897\"\n",
      "            },\n",
      "            {\n",
      "                \"provider\": \"ClearMedia\",\n",
      "                \"department\": \"Digital Workplace Solutions\",\n",
      "                \"subdivision\": [],\n",
      "                \"address\": \"Merksemsesteenweg 148, 2100 Antwerpen\",\n",
      "                \"phone\": \"+32 3 658 00 36\",\n",
      "                \"vat\": \"BE0831425897\"\n",
      "            },\n",
      "            {\n",
      "                \"provider\": \"ClearMedia\",\n",
      "                \"department\": \"IT Solutions\",\n",
      "                \"subdivision\": [],\n",
      "                \"address\": \"Merksemsesteenweg 148, 2100 Antwerpen\",\n",
      "                \"phone\": \"+32 3 658 00 36\",\n",
      "                \"vat\": \"BE0831425897\"\n",
      "            }\n",
      "        ]\n",
      "    }\n",
      "}\n",
      "Blended data has been saved to 'blended_data_providers.json'\n"
     ]
    }
   ],
   "source": [
    "# Function to read JSON data from a file and debug if necessary\n",
    "def read_json_file(file_path):\n",
    "    with open(file_path, 'r') as file:\n",
    "        try:\n",
    "            data = json.load(file)\n",
    "            # Debugging: Print the entire content of the file to inspect the structure\n",
    "            print(f\"Data loaded from {file_path} (Type: {type(data)}): {data}\")\n",
    "            if not isinstance(data, list):\n",
    "                raise ValueError(f\"Data in {file_path} is not a list as expected.\")\n",
    "            return data\n",
    "        except json.JSONDecodeError:\n",
    "            print(f\"Error decoding JSON from {file_path}\")\n",
    "            return []  # Return an empty list if the JSON is malformed\n",
    "\n",
    "# Function to blend data\n",
    "def blend_data_from_files(general_file, employee_file, color_file, department_file):\n",
    "    # Read data from files\n",
    "    general_data = read_json_file(general_file)\n",
    "    employee_data = read_json_file(employee_file)\n",
    "    color_data = read_json_file(color_file)\n",
    "    department_data = read_json_file(department_file)\n",
    "    \n",
    "    # Merge data\n",
    "    merged_data = {}\n",
    "\n",
    "    # Add general data\n",
    "    for entry in general_data:\n",
    "        try:\n",
    "            provider = entry[\"provider\"]\n",
    "            merged_data[provider] = {\"general\": entry}\n",
    "        except KeyError:\n",
    "            print(\"KeyError: Missing 'provider' in general data entry.\")\n",
    "            continue\n",
    "\n",
    "    # Add employee data\n",
    "    for entry in employee_data:\n",
    "        try:\n",
    "            provider = entry[\"provider\"]\n",
    "            if provider in merged_data:\n",
    "                if \"employee\" not in merged_data[provider]:\n",
    "                    merged_data[provider][\"employee\"] = []\n",
    "                merged_data[provider][\"employee\"].append(entry)\n",
    "        except KeyError:\n",
    "            print(\"KeyError: Missing 'provider' in employee data entry.\")\n",
    "            continue\n",
    "\n",
    "    # Add color data\n",
    "    for entry in color_data:\n",
    "        try:\n",
    "            provider = entry.get(\"provider\", \"Unknown\")\n",
    "            if provider in merged_data:\n",
    "                if \"color\" not in merged_data[provider]:\n",
    "                    merged_data[provider][\"color\"] = {}\n",
    "                merged_data[provider][\"color\"].update(entry)\n",
    "        except KeyError:\n",
    "            print(\"KeyError: Missing 'provider' in color data entry.\")\n",
    "            continue\n",
    "\n",
    "    # Add department data\n",
    "    for entry in department_data:\n",
    "        try:\n",
    "            provider = entry[\"provider\"]\n",
    "            if provider in merged_data:\n",
    "                if \"departments\" not in merged_data[provider]:\n",
    "                    merged_data[provider][\"departments\"] = []\n",
    "                merged_data[provider][\"departments\"].append(entry)\n",
    "        except KeyError:\n",
    "            print(\"KeyError: Missing 'provider' in department data entry.\")\n",
    "            continue\n",
    "\n",
    "    return merged_data\n",
    "\n",
    "# File paths\n",
    "general_file = 'provider_general_data.json'\n",
    "employee_file = 'provider_employees.json'\n",
    "color_file = 'provider_color.json'\n",
    "department_file = 'provider_departments.json'\n",
    "\n",
    "# Debugging: Print current working directory\n",
    "print(\"Current working directory:\", os.getcwd())\n",
    "\n",
    "# Blend the data\n",
    "blended_result = blend_data_from_files(general_file, employee_file, color_file, department_file)\n",
    "\n",
    "# Debugging: Print the blended data to verify\n",
    "print(\"Blended Data:\", json.dumps(blended_result, indent=4))\n",
    "\n",
    "# Write the result to a new JSON file and capture any potential errors\n",
    "try:\n",
    "    with open('blended_data_providers.json', 'w') as output_file:\n",
    "        json.dump(blended_result, output_file, indent=4)\n",
    "    print(\"Blended data has been saved to 'blended_data_providers.json'\")\n",
    "except Exception as e:\n",
    "    print(f\"Error saving file: {e}\")\n",
    "\n",
    "\n",
    "\n",
    "\n"
   ]
  },
  {
   "cell_type": "markdown",
   "metadata": {},
   "source": [
    "**2. SETTING UP THE EMAIL WRITING ASSISTANT** (temperature = 1, tools= ??)"
   ]
  },
  {
   "cell_type": "code",
   "execution_count": 1403,
   "metadata": {},
   "outputs": [],
   "source": [
    "email_tones = [\n",
    "    \"Urgent\",\n",
    "    \"Firm\",\n",
    "    \"Action Required\",\n",
    "    \"Time-Sensitive\",\n",
    "    \"Critical\",\n",
    "    \"Pressing\",\n",
    "    \"Immediate Response\",\n",
    "    \"High-Priority\",\n",
    "    \"Polite\",\n",
    "    \"Friendly\",\n",
    "    \"Professional\",\n",
    "    \"Supportive\",\n",
    "    \"Respectful\",\n",
    "    \"Casual\",\n",
    "    \"Empathetic\"\n",
    "]"
   ]
  },
  {
   "cell_type": "code",
   "execution_count": 1404,
   "metadata": {},
   "outputs": [],
   "source": [
    "random_tone = rd.choice(email_tones)"
   ]
  },
  {
   "cell_type": "code",
   "execution_count": 1405,
   "metadata": {},
   "outputs": [
    {
     "name": "stdout",
     "output_type": "stream",
     "text": [
      "Supportive\n"
     ]
    }
   ],
   "source": [
    "print(random_tone)"
   ]
  },
  {
   "cell_type": "code",
   "execution_count": 1406,
   "metadata": {},
   "outputs": [],
   "source": [
    "system_instruction= f\"\"\"You are a skilled copywriter with a knack for creating emails that feel\n",
    "    personal, relevant, urgent and engaging. Your task is to write emails to employees of\n",
    "    {COMPANY} all while maintaining a tone that feels individual, tailored and professional. \n",
    "    \n",
    "    The email should appear to come from a relevant source. Encourage actions like clicking links or downloading attachments with a sense of urgency. Align the email subject with the sender's theme and message.\n",
    "    \n",
    "    Incorporate in your answer only complete emails.\n",
    "    \n",
    "    Everything about the sender address, subject, and email body is focused on the recipient interacting with the link or attachment.\n",
    "    \n",
    "    The email should have a {random_tone}\n",
    "    \"\"\""
   ]
  },
  {
   "cell_type": "code",
   "execution_count": 1407,
   "metadata": {},
   "outputs": [],
   "source": [
    "config = GenerateContentConfig(system_instruction=system_instruction, temperature=1,maxOutputTokens=8000, top_p=0.9, top_k=40, safety_settings=safety_settings)"
   ]
  },
  {
   "cell_type": "markdown",
   "metadata": {},
   "source": [
    "**Fetch some Provider Context to generate better emails**"
   ]
  },
  {
   "cell_type": "code",
   "execution_count": 1408,
   "metadata": {},
   "outputs": [],
   "source": [
    "# Load JSON data from the file\n",
    "with open(\"provider_employees.json\", \"r\") as file:\n",
    "    provider_employees = json.load(file)"
   ]
  },
  {
   "cell_type": "code",
   "execution_count": 1409,
   "metadata": {},
   "outputs": [],
   "source": [
    "# Load JSON data from the file\n",
    "with open(\"provider_departments.json\", \"r\") as file:\n",
    "    provider_departments = json.load(file)"
   ]
  },
  {
   "cell_type": "markdown",
   "metadata": {},
   "source": [
    "**Setting up some dummy data about proximus employees**"
   ]
  },
  {
   "cell_type": "code",
   "execution_count": 1410,
   "metadata": {},
   "outputs": [],
   "source": [
    "proximus_employees = [\n",
    "    {\n",
    "        \"name\": \"Marie Declercq\", \n",
    "        \"email\": \"marie.declercq@proximus.be\", \n",
    "        \"role\": \"Data Analyst\", \n",
    "        \"language\": \"Dutch\", \n",
    "        \"department\": \"Consumer Market\"\n",
    "    },\n",
    "    {\n",
    "        \"name\": \"Luc Vandenberg\", \n",
    "        \"email\": \"luc.vandenberg@proximus.be\", \n",
    "        \"role\": \"Cybersecurity Specialist\", \n",
    "        \"language\": \"Dutch\", \n",
    "        \"department\": \"Network & Wholesale\"\n",
    "    },\n",
    "    {\n",
    "        \"name\": \"Emma Wouters\", \n",
    "        \"email\": \"emma.wouters@proximus.be\", \n",
    "        \"role\": \"Marketing Specialist\", \n",
    "        \"language\": \"English\", \n",
    "        \"department\": \"Enterprise Market\"\n",
    "    },\n",
    "    {\n",
    "        \"name\": \"Jai Mehta\", \n",
    "        \"email\": \"jai.mehta@proximus.be\", \n",
    "        \"role\": \"System Administrator\", \n",
    "        \"language\": \"English\", \n",
    "        \"department\": \"IT Infrastructure\"\n",
    "    },\n",
    "    {\n",
    "        \"name\": \"Guillaume Boutin\", \n",
    "        \"email\": \"guillaume.boutin@proximus.be\", \n",
    "        \"role\": \"Chief Executive Officer\", \n",
    "        \"language\": \"French\", \n",
    "        \"department\": \"Chief Executive Officer's Department\"\n",
    "    }\n",
    "] \n"
   ]
  },
  {
   "cell_type": "code",
   "execution_count": 1411,
   "metadata": {},
   "outputs": [],
   "source": [
    "random_employee = rd.choice(proximus_employees)"
   ]
  },
  {
   "cell_type": "code",
   "execution_count": 1412,
   "metadata": {},
   "outputs": [
    {
     "name": "stdout",
     "output_type": "stream",
     "text": [
      "{'name': 'Luc Vandenberg', 'email': 'luc.vandenberg@proximus.be', 'role': 'Cybersecurity Specialist', 'language': 'Dutch', 'department': 'Network & Wholesale'}\n"
     ]
    }
   ],
   "source": [
    "print(random_employee)"
   ]
  },
  {
   "cell_type": "code",
   "execution_count": 1413,
   "metadata": {},
   "outputs": [],
   "source": [
    "telecom_employee_events = [\n",
    "    \"Seminars\",\n",
    "    \"Presentations\",\n",
    "    \"Networking Meetings\",\n",
    "    \"Workshops\",\n",
    "    \"Training Sessions\",\n",
    "    \"Industry Roundtables\",\n",
    "    \"Panel Discussions\",\n",
    "    \"Webinars\",\n",
    "    \"Conferences\",\n",
    "    \"Hackathons\",\n",
    "    \"Product Demos\",\n",
    "    \"Leadership Forums\",\n",
    "    \"Strategic Planning Meetings\",\n",
    "    \"Customer Experience Sessions\",\n",
    "    \"Innovation Labs\"\n",
    "]"
   ]
  },
  {
   "cell_type": "code",
   "execution_count": 1414,
   "metadata": {},
   "outputs": [],
   "source": [
    "random_event=rd.choice(telecom_employee_events)"
   ]
  },
  {
   "cell_type": "code",
   "execution_count": 1415,
   "metadata": {},
   "outputs": [
    {
     "name": "stdout",
     "output_type": "stream",
     "text": [
      "Workshops\n"
     ]
    }
   ],
   "source": [
    "print(random_event)"
   ]
  },
  {
   "cell_type": "code",
   "execution_count": 1416,
   "metadata": {},
   "outputs": [],
   "source": [
    "urgent_provider_issues = [\n",
    "    \"Network Outages\",\n",
    "    \"SLA Violations\",\n",
    "    \"Payment Delays\",\n",
    "    \"Contract Breach\",\n",
    "    \"Quality Failures\",\n",
    "    \"Security Risks\",\n",
    "    \"Price Increases\",\n",
    "    \"Missed Deadlines\",\n",
    "    \"Regulatory Issues\",\n",
    "    \"Billing Discrepancies\"\n",
    "]"
   ]
  },
  {
   "cell_type": "code",
   "execution_count": 1417,
   "metadata": {},
   "outputs": [],
   "source": [
    "random_issue=rd.choice(urgent_provider_issues)"
   ]
  },
  {
   "cell_type": "code",
   "execution_count": 1418,
   "metadata": {},
   "outputs": [
    {
     "name": "stdout",
     "output_type": "stream",
     "text": [
      "Payment Delays\n"
     ]
    }
   ],
   "source": [
    "print(random_issue)"
   ]
  },
  {
   "cell_type": "markdown",
   "metadata": {},
   "source": [
    "**Emails Provider to Proximus**"
   ]
  },
  {
   "cell_type": "markdown",
   "metadata": {},
   "source": [
    "Service related Emails"
   ]
  },
  {
   "cell_type": "code",
   "execution_count": 1419,
   "metadata": {},
   "outputs": [
    {
     "name": "stdout",
     "output_type": "stream",
     "text": [
      "```json\n",
      "[\n",
      "  {\n",
      "    \"subject\": \"Dringend: Potentieel beveiligingsrisico in Cloud Infrastructuur\",\n",
      "    \"body\": \"Geachte heer Vandenberg,\\n\\nEr is een potentieel beveiligingsrisico ontdekt in de cloudinfrastructuur die wij aan Proximus leveren. Dit risico vereist onmiddellijke aandacht om de integriteit en veiligheid van uw gegevens te waarborgen. \\n\\nHet betreft een kwetsbaarheid die, indien niet snel verholpen, kan leiden tot ongeautoriseerde toegang. Wij hebben een noodzakelijke update ontwikkeld om dit probleem aan te pakken. \\n\\nWij verzoeken u dringend om de update te downloaden via de onderstaande link. De link is essentieel om uw systemen te beschermen tegen mogelijke inbreuken. Dit is een kritieke stap die zo snel mogelijk moet worden uitgevoerd.\\n\\nMet vriendelijke groet,\\n\\n\",\n",
      "    \"email_sign_fullname\": \"Thomas De Wit\",\n",
      "    \"email_sign_role\": \"Cybersecurity Specialist\",\n",
      "    \"email_sign_company\": \"ClearMedia\",\n",
      "    \"receiver_full_name\": \"Luc Vandenberg\"\n",
      "  },\n",
      "  {\n",
      "    \"subject\": \"Belangrijk: Onmiddellijke actie vereist voor cybersecurity\",\n",
      "    \"body\": \"Geachte heer Vandenberg,\\n\\nEr is een significante cybersecuritydreiging geïdentificeerd binnen de digitale werkplekoplossingen die ClearMedia voor Proximus beheert. Deze dreiging is serieus en moet direct worden aangepakt om uw bedrijfscontinuïteit te waarborgen.\\n\\nHet betreft een recente cyberaanval die gericht is op het compromitteren van gebruikersaccounts. Om uw systemen te beveiligen en mogelijke schade te voorkomen, hebben wij een kritieke patch ontwikkeld. \\n\\nWij verzoeken u met klem om de patch te installeren via de onderstaande link. De tijd dringt, dus we vragen u dit zo snel mogelijk te doen om uw systemen te beschermen. \\n\\nMet vriendelijke groet,\\n\\n\",\n",
      "    \"email_sign_fullname\": \"Thomas De Wit\",\n",
      "    \"email_sign_role\": \"Cybersecurity Specialist\",\n",
      "    \"email_sign_company\": \"ClearMedia\",\n",
      "      \"receiver_full_name\": \"Luc Vandenberg\"\n",
      "  },\n",
      "    {\n",
      "    \"subject\": \"Alert: Kritieke kwetsbaarheid in uw online back-upsysteem\",\n",
      "    \"body\": \"Geachte heer Vandenberg,\\n\\nEr is een kritieke kwetsbaarheid ontdekt in het online back-upsysteem dat wij voor Proximus leveren. Deze kwetsbaarheid vormt een direct risico voor de veiligheid en integriteit van uw back-ups en vereist onmiddellijke actie.\\n\\nDeze kwetsbaarheid kan leiden tot onbevoegde toegang tot uw opgeslagen gegevens. We hebben een beveiligingsupdate ontwikkeld die dit probleem oplost. \\n\\nGelieve de update zo snel mogelijk te installeren via de link die hieronder te vinden is. De veiligheid van uw back-ups hangt af van deze snelle actie. Wacht niet langer om de nodige maatregelen te treffen.\\n\\nMet vriendelijke groet,\\n\\n\",\n",
      "    \"email_sign_fullname\": \"Thomas De Wit\",\n",
      "    \"email_sign_role\": \"Cybersecurity Specialist\",\n",
      "    \"email_sign_company\": \"ClearMedia\",\n",
      "        \"receiver_full_name\": \"Luc Vandenberg\"\n",
      "  }\n",
      "]\n",
      "```\n",
      "\n"
     ]
    }
   ],
   "source": [
    "contents = f\"\"\"\n",
    "\n",
    "{provider} is a service provider of {COMPANY}. {provider} has these {provider_departments}.\n",
    "\n",
    "Write some tailored emails based on the role of {random_employee['role']} about an urgent matter that needs to be solved related to {COMPANY} concerning a service that {provider} offers. Elaborate about the issue and point out why it needs to be solved as quick as possible.\n",
    "\n",
    "The receiver of the email is {random_employee['name']} and should be in {random_employee['language']}. Address the receiver formal and by his last name.\n",
    "\n",
    "The email signature should contain the first name, family name, role and the company name of one of the employees of {provider}. \n",
    "\n",
    "Do not include the link in the body of the email, as it will be implemented separately and placed below the text body, refer to it in the text body where it is placed.\n",
    "\n",
    "Just plain text in the body, nothing to include anymore.\n",
    "\n",
    "The email should be written in this style example:\n",
    "\n",
    "Use this JSON schema:\n",
    "\n",
    "Provider_email = {{'subject':str,'body':str, 'email_sign_fullname':str, 'email_sign_role':str, 'email_sign_company':str, 'receiver_full_name':str}}\n",
    "Return: list[Provider_email]\n",
    "\"\"\"\n",
    "\n",
    "response = client.models.generate_content(\n",
    "    model=MODEL, config=config, contents=contents)\n",
    "\n",
    "print(response.text)"
   ]
  },
  {
   "cell_type": "markdown",
   "metadata": {},
   "source": [
    "repairing a string"
   ]
  },
  {
   "cell_type": "code",
   "execution_count": 1420,
   "metadata": {},
   "outputs": [],
   "source": [
    "def repair_json_response(response_text):\n",
    "    \"\"\"\n",
    "    Repairs a potentially malformed JSON string from `response.text`.\n",
    "    Ensures it starts with '[' and ends with ']' after the last complete dictionary.\n",
    "\n",
    "    Args:\n",
    "        response_text (str): The response text containing a potentially malformed JSON string.\n",
    "\n",
    "    Returns:\n",
    "        None: Prints the repaired JSON string.\n",
    "\n",
    "    Raises:\n",
    "        ValueError: If the string cannot be repaired into valid JSON.\n",
    "    \"\"\"\n",
    "    # Remove the unwanted prefix if it exists\n",
    "    if response_text.strip().startswith(\"```json\") or response_text.strip().startswith(\"[```json\"):\n",
    "        response_text = response_text.replace(\"```json\", \"\", 1).replace(\"[```json\", \"\", 1).strip()\n",
    "\n",
    "    # Ensure the string starts with '['\n",
    "    if not response_text.strip().startswith(\"[\"):\n",
    "        response_text = \"[\" + response_text\n",
    "\n",
    "    # Find the last closing brace ('}')\n",
    "    last_brace_index = response_text.rfind(\"}\")\n",
    "    if last_brace_index == -1:\n",
    "        raise ValueError(\"No closing brace found in the response text.\")\n",
    "\n",
    "    # Trim the string up to the last complete dictionary and close the list\n",
    "    repaired_string = response_text[:last_brace_index + 1].rstrip(\", \\n\") + \"]\"\n",
    "    \n",
    "    # Print the repaired JSON string\n",
    "    print(repaired_string)\n"
   ]
  },
  {
   "cell_type": "code",
   "execution_count": 1421,
   "metadata": {},
   "outputs": [
    {
     "name": "stdout",
     "output_type": "stream",
     "text": [
      "[\n",
      "  {\n",
      "    \"subject\": \"Dringend: Potentieel beveiligingsrisico in Cloud Infrastructuur\",\n",
      "    \"body\": \"Geachte heer Vandenberg,\\n\\nEr is een potentieel beveiligingsrisico ontdekt in de cloudinfrastructuur die wij aan Proximus leveren. Dit risico vereist onmiddellijke aandacht om de integriteit en veiligheid van uw gegevens te waarborgen. \\n\\nHet betreft een kwetsbaarheid die, indien niet snel verholpen, kan leiden tot ongeautoriseerde toegang. Wij hebben een noodzakelijke update ontwikkeld om dit probleem aan te pakken. \\n\\nWij verzoeken u dringend om de update te downloaden via de onderstaande link. De link is essentieel om uw systemen te beschermen tegen mogelijke inbreuken. Dit is een kritieke stap die zo snel mogelijk moet worden uitgevoerd.\\n\\nMet vriendelijke groet,\\n\\n\",\n",
      "    \"email_sign_fullname\": \"Thomas De Wit\",\n",
      "    \"email_sign_role\": \"Cybersecurity Specialist\",\n",
      "    \"email_sign_company\": \"ClearMedia\",\n",
      "    \"receiver_full_name\": \"Luc Vandenberg\"\n",
      "  },\n",
      "  {\n",
      "    \"subject\": \"Belangrijk: Onmiddellijke actie vereist voor cybersecurity\",\n",
      "    \"body\": \"Geachte heer Vandenberg,\\n\\nEr is een significante cybersecuritydreiging geïdentificeerd binnen de digitale werkplekoplossingen die ClearMedia voor Proximus beheert. Deze dreiging is serieus en moet direct worden aangepakt om uw bedrijfscontinuïteit te waarborgen.\\n\\nHet betreft een recente cyberaanval die gericht is op het compromitteren van gebruikersaccounts. Om uw systemen te beveiligen en mogelijke schade te voorkomen, hebben wij een kritieke patch ontwikkeld. \\n\\nWij verzoeken u met klem om de patch te installeren via de onderstaande link. De tijd dringt, dus we vragen u dit zo snel mogelijk te doen om uw systemen te beschermen. \\n\\nMet vriendelijke groet,\\n\\n\",\n",
      "    \"email_sign_fullname\": \"Thomas De Wit\",\n",
      "    \"email_sign_role\": \"Cybersecurity Specialist\",\n",
      "    \"email_sign_company\": \"ClearMedia\",\n",
      "      \"receiver_full_name\": \"Luc Vandenberg\"\n",
      "  },\n",
      "    {\n",
      "    \"subject\": \"Alert: Kritieke kwetsbaarheid in uw online back-upsysteem\",\n",
      "    \"body\": \"Geachte heer Vandenberg,\\n\\nEr is een kritieke kwetsbaarheid ontdekt in het online back-upsysteem dat wij voor Proximus leveren. Deze kwetsbaarheid vormt een direct risico voor de veiligheid en integriteit van uw back-ups en vereist onmiddellijke actie.\\n\\nDeze kwetsbaarheid kan leiden tot onbevoegde toegang tot uw opgeslagen gegevens. We hebben een beveiligingsupdate ontwikkeld die dit probleem oplost. \\n\\nGelieve de update zo snel mogelijk te installeren via de link die hieronder te vinden is. De veiligheid van uw back-ups hangt af van deze snelle actie. Wacht niet langer om de nodige maatregelen te treffen.\\n\\nMet vriendelijke groet,\\n\\n\",\n",
      "    \"email_sign_fullname\": \"Thomas De Wit\",\n",
      "    \"email_sign_role\": \"Cybersecurity Specialist\",\n",
      "    \"email_sign_company\": \"ClearMedia\",\n",
      "        \"receiver_full_name\": \"Luc Vandenberg\"\n",
      "  }]\n"
     ]
    }
   ],
   "source": [
    "response_llm = response.text\n",
    "repair_json_response(response_llm)"
   ]
  },
  {
   "cell_type": "code",
   "execution_count": 1422,
   "metadata": {},
   "outputs": [
    {
     "name": "stdout",
     "output_type": "stream",
     "text": [
      "JSON data has been successfully written to 'service_related_email.json'.\n"
     ]
    },
    {
     "data": {
      "text/plain": [
       "True"
      ]
     },
     "execution_count": 1422,
     "metadata": {},
     "output_type": "execute_result"
    }
   ],
   "source": [
    "save_json_from_string(response_llm, 'service_related_email.json')"
   ]
  },
  {
   "cell_type": "markdown",
   "metadata": {},
   "source": [
    "Employee events"
   ]
  },
  {
   "cell_type": "code",
   "execution_count": 1423,
   "metadata": {},
   "outputs": [
    {
     "name": "stdout",
     "output_type": "stream",
     "text": [
      "```json\n",
      "[\n",
      "  {\n",
      "    \"subject\": \"Exclusieve Cybersecurity Workshop voor Specialisten\",\n",
      "    \"body\": \"Geachte Heer Vandenberg,\\n\\nClearMedia nodigt u graag uit voor een exclusieve reeks workshops, speciaal ontworpen voor cybersecurity specialisten zoals uzelf. Deze sessies bieden een diepgaande blik op de nieuwste trends en technieken in cybersecurity, en zijn een uitstekende gelegenheid om uw vaardigheden aan te scherpen.\\n\\nDe beschikbare plaatsen zijn beperkt, dus snelle actie is vereist om uw deelname te verzekeren. Klik op de onderstaande link voor meer informatie en om u aan te melden.\",\n",
      "    \"email_sign_fullname\": \"Thomas De Smet\",\n",
      "    \"email_sign_role\": \"Cybersecurity Expert\",\n",
      "    \"email_sign_company\": \"ClearMedia\",\n",
      "    \"receiver_full_name\": \"Luc Vandenberg\"\n",
      "  },\n",
      "    {\n",
      "    \"subject\": \"Verbeter uw Cybersecurity Vaardigheden: Workshops voor Specialisten\",\n",
      "    \"body\": \"Geachte Heer Vandenberg,\\n\\nNamens ClearMedia, willen wij u graag informeren over onze aankomende workshops gericht op cybersecurity. Deze sessies zijn exclusief ontwikkeld voor cybersecurity specialisten en bieden een unieke kans om uw kennis te verrijken en te netwerken met collega's in het veld.\\n\\nWees er snel bij, want de plaatsen zijn beperkt. Voor details en inschrijving, klik op de onderstaande link.\",\n",
      "    \"email_sign_fullname\": \"Thomas De Smet\",\n",
      "    \"email_sign_role\": \"Cybersecurity Expert\",\n",
      "    \"email_sign_company\": \"ClearMedia\",\n",
      "      \"receiver_full_name\": \"Luc Vandenberg\"\n",
      "  },\n",
      "  {\n",
      "    \"subject\": \"Cybersecurity Workshops: Mis deze kans niet\",\n",
      "    \"body\": \"Geachte Heer Vandenberg,\\n\\nClearMedia organiseert workshops die speciaal zijn afgestemd op de behoeften van cybersecurity specialisten. Deze sessies bieden waardevolle inzichten en praktische vaardigheden die essentieel zijn in het huidige dreigingslandschap.\\n\\nDe plaatsen zijn beperkt en er is veel interesse, dus wacht niet te lang. Klik op de link hieronder voor meer informatie en om uw plaats te reserveren.\",\n",
      "    \"email_sign_fullname\": \"Thomas De Smet\",\n",
      "    \"email_sign_role\": \"Cybersecurity Expert\",\n",
      "    \"email_sign_company\": \"ClearMedia\",\n",
      "      \"receiver_full_name\": \"Luc Vandenberg\"\n",
      "  }\n",
      "]\n",
      "```\n",
      "\n"
     ]
    }
   ],
   "source": [
    "contents = f\"\"\"\n",
    "\n",
    "{provider} is a service provider of {COMPANY}. {provider} has these {provider_departments}.\n",
    "\n",
    "Write some tailored emails based on the role of {random_employee['role']} about an event that is organized by {provider}. \n",
    "\n",
    "The event is {random_event} and is geared towards {random_employee['role']}.\n",
    "\n",
    "Do not include urgent in the subject of the email. State that the spots available are limited and urgent action is required.\n",
    "\n",
    "The receiver of the email is {random_employee['name']} and should be in {random_employee['language']}. Address the receiver formal and by his last name.\n",
    "\n",
    "The email signature should contain the first name, family name, role and the company name of one of the employees of {provider}. \n",
    "\n",
    "Do not include the link in the body of the email, as it will be implemented separately and placed below the text body, refer to it in the text body where it is placed.\n",
    "\n",
    "Just plain text in the body, nothing to include anymore.\n",
    "\n",
    "The email should be written in this style example:\n",
    "\n",
    "Use this JSON schema:\n",
    "\n",
    "Provider_email = {{'subject':str,'body':str, 'email_sign_fullname':str, 'email_sign_role':str, 'email_sign_company':str, 'receiver_full_name':str}}\n",
    "Return: list[Provider_email]\n",
    "\"\"\"\n",
    "\n",
    "response = client.models.generate_content(\n",
    "    model=MODEL, config=config, contents=contents)\n",
    "\n",
    "print(response.text)"
   ]
  },
  {
   "cell_type": "code",
   "execution_count": 1424,
   "metadata": {},
   "outputs": [
    {
     "name": "stdout",
     "output_type": "stream",
     "text": [
      "[\n",
      "  {\n",
      "    \"subject\": \"Exclusieve Cybersecurity Workshop voor Specialisten\",\n",
      "    \"body\": \"Geachte Heer Vandenberg,\\n\\nClearMedia nodigt u graag uit voor een exclusieve reeks workshops, speciaal ontworpen voor cybersecurity specialisten zoals uzelf. Deze sessies bieden een diepgaande blik op de nieuwste trends en technieken in cybersecurity, en zijn een uitstekende gelegenheid om uw vaardigheden aan te scherpen.\\n\\nDe beschikbare plaatsen zijn beperkt, dus snelle actie is vereist om uw deelname te verzekeren. Klik op de onderstaande link voor meer informatie en om u aan te melden.\",\n",
      "    \"email_sign_fullname\": \"Thomas De Smet\",\n",
      "    \"email_sign_role\": \"Cybersecurity Expert\",\n",
      "    \"email_sign_company\": \"ClearMedia\",\n",
      "    \"receiver_full_name\": \"Luc Vandenberg\"\n",
      "  },\n",
      "    {\n",
      "    \"subject\": \"Verbeter uw Cybersecurity Vaardigheden: Workshops voor Specialisten\",\n",
      "    \"body\": \"Geachte Heer Vandenberg,\\n\\nNamens ClearMedia, willen wij u graag informeren over onze aankomende workshops gericht op cybersecurity. Deze sessies zijn exclusief ontwikkeld voor cybersecurity specialisten en bieden een unieke kans om uw kennis te verrijken en te netwerken met collega's in het veld.\\n\\nWees er snel bij, want de plaatsen zijn beperkt. Voor details en inschrijving, klik op de onderstaande link.\",\n",
      "    \"email_sign_fullname\": \"Thomas De Smet\",\n",
      "    \"email_sign_role\": \"Cybersecurity Expert\",\n",
      "    \"email_sign_company\": \"ClearMedia\",\n",
      "      \"receiver_full_name\": \"Luc Vandenberg\"\n",
      "  },\n",
      "  {\n",
      "    \"subject\": \"Cybersecurity Workshops: Mis deze kans niet\",\n",
      "    \"body\": \"Geachte Heer Vandenberg,\\n\\nClearMedia organiseert workshops die speciaal zijn afgestemd op de behoeften van cybersecurity specialisten. Deze sessies bieden waardevolle inzichten en praktische vaardigheden die essentieel zijn in het huidige dreigingslandschap.\\n\\nDe plaatsen zijn beperkt en er is veel interesse, dus wacht niet te lang. Klik op de link hieronder voor meer informatie en om uw plaats te reserveren.\",\n",
      "    \"email_sign_fullname\": \"Thomas De Smet\",\n",
      "    \"email_sign_role\": \"Cybersecurity Expert\",\n",
      "    \"email_sign_company\": \"ClearMedia\",\n",
      "      \"receiver_full_name\": \"Luc Vandenberg\"\n",
      "  }]\n"
     ]
    }
   ],
   "source": [
    "response_llm = response.text\n",
    "repair_json_response(response_llm)"
   ]
  },
  {
   "cell_type": "code",
   "execution_count": 1425,
   "metadata": {},
   "outputs": [
    {
     "name": "stdout",
     "output_type": "stream",
     "text": [
      "JSON data has been successfully written to 'employee_event_email.json'.\n"
     ]
    },
    {
     "data": {
      "text/plain": [
       "True"
      ]
     },
     "execution_count": 1425,
     "metadata": {},
     "output_type": "execute_result"
    }
   ],
   "source": [
    "save_json_from_string(response_llm, 'employee_event_email.json')"
   ]
  },
  {
   "cell_type": "markdown",
   "metadata": {},
   "source": [
    "Provider issues"
   ]
  },
  {
   "cell_type": "code",
   "execution_count": 1426,
   "metadata": {},
   "outputs": [
    {
     "name": "stdout",
     "output_type": "stream",
     "text": [
      "```json\n",
      "[\n",
      "  {\n",
      "    \"subject\": \"Betalingsvertragingen: Cybersecurity Specialist\",\n",
      "    \"body\": \"Geachte heer Vandenberg,\\n\\nWe hopen dat deze e-mail u goed bereikt.\\n\\nWe schrijven u vanuit ClearMedia met betrekking tot de recente betalingsvertragingen die van invloed zijn op onze cybersecurity services die wij aan Proximus leveren. We begrijpen dat dergelijke vertragingen operationele uitdagingen met zich meebrengen en willen dit graag zo snel mogelijk oplossen. Wij verzoeken u vriendelijk om de bijgevoegde link te raadplegen voor een gedetailleerd overzicht van de openstaande betalingen en de bijbehorende facturen. Uw snelle actie wordt zeer gewaardeerd.\\n\\nMet vriendelijke groet,\\n\\n\",\n",
      "    \"email_sign_fullname\": \"Sophie Dubois\",\n",
      "    \"email_sign_role\": \"Account Manager\",\n",
      "    \"email_sign_company\": \"ClearMedia\",\n",
      "    \"receiver_full_name\": \"Luc Vandenberg\"\n",
      "  },\n",
      "    {\n",
      "    \"subject\": \"Betalingsvertraging: Cybersecurity Services\",\n",
      "    \"body\": \"Geachte heer Vandenberg,\\n\\nIk hoop dat deze email u goed bereikt.\\n\\nWe nemen contact met u op vanuit ClearMedia om een recent probleem met betalingsvertragingen te bespreken met betrekking tot de cybersecurity services die we aan Proximus leveren. We beseffen de impact van deze vertragingen op onze samenwerking en willen dit graag gezamenlijk snel oplossen. In de link hieronder vindt u een overzicht van de openstaande facturen met de details van de vertragingen.\\n\\nMet vriendelijke groet,\\n\\n\",\n",
      "    \"email_sign_fullname\": \"Tom Janssens\",\n",
      "    \"email_sign_role\": \"Sales Manager\",\n",
      "    \"email_sign_company\": \"ClearMedia\",\n",
      "    \"receiver_full_name\": \"Luc Vandenberg\"\n",
      "  },\n",
      "  {\n",
      "    \"subject\": \"Achterstallige Betalingen: Cybersecurity Dienstverlening\",\n",
      "    \"body\": \"Geachte heer Vandenberg,\\n\\nWe hopen dat deze mail u goed bereikt.\\n\\nDit bericht van ClearMedia is om u op de hoogte te brengen van een probleem met de huidige betalingstermijnen die van invloed zijn op onze cybersecurity oplossingen voor Proximus. We hechten veel waarde aan onze samenwerking en we willen dit ongemak zo snel mogelijk oplossen. Raadpleeg de link hieronder voor een gedetailleerd overzicht van de openstaande facturen en de bijbehorende informatie.\\n\\nMet vriendelijke groet,\\n\\n\",\n",
      "    \"email_sign_fullname\": \"Annelies De Smet\",\n",
      "     \"email_sign_role\": \"Finance Director\",\n",
      "    \"email_sign_company\": \"ClearMedia\",\n",
      "     \"receiver_full_name\": \"Luc Vandenberg\"\n",
      "  }\n",
      "]\n",
      "```\n",
      "\n"
     ]
    }
   ],
   "source": [
    "contents= f\"\"\"\n",
    "\n",
    "{provider} is a service provider of {COMPANY}. {provider} has these {provider_departments}.\n",
    "\n",
    "Write some tailored emails based on the role of {random_employee['role']} about an issue that {provider} have with {COMPANY}. \n",
    "\n",
    "The issue is {random_issue} and is related to {random_employee['role']}.\n",
    "\n",
    "Do not include urgent in the subject of the email.\n",
    "\n",
    "The receiver of the email is {random_employee['name']} and should be in {random_employee['language']}. Address the receiver formal and by his last name.\n",
    "\n",
    "The email signature should contain the first name, family name, role and the company name of one of the employees of {provider}. \n",
    "\n",
    "Do not include the link in the body of the email, as it will be implemented separately and placed below the text body, refer to it in the text body where it is placed.\n",
    "\n",
    "Just plain text in the body, nothing to include anymore.\n",
    "\n",
    "The email should be written in this style example:\n",
    "\n",
    "Use this JSON schema:\n",
    "\n",
    "Provider_email = {{'subject':str,'body':str, 'email_sign_fullname':str, 'email_sign_role':str, 'email_sign_company':str, 'receiver_full_name':str}}\n",
    "Return: list[Provider_email]\n",
    "\"\"\"\n",
    "\n",
    "response = client.models.generate_content(\n",
    "    model=MODEL, config=config, contents=contents)\n",
    "\n",
    "print(response.text)"
   ]
  },
  {
   "cell_type": "markdown",
   "metadata": {},
   "source": [
    "**Internal Emails Proximus**"
   ]
  },
  {
   "cell_type": "code",
   "execution_count": null,
   "metadata": {},
   "outputs": [],
   "source": []
  },
  {
   "cell_type": "markdown",
   "metadata": {},
   "source": [
    "**4. BLENDING DATA IN HTML**"
   ]
  },
  {
   "cell_type": "markdown",
   "metadata": {},
   "source": []
  },
  {
   "cell_type": "markdown",
   "metadata": {},
   "source": [
    "**5. SENDING MAILS TO GOPHISH**"
   ]
  },
  {
   "cell_type": "markdown",
   "metadata": {},
   "source": []
  }
 ],
 "metadata": {
  "kernelspec": {
   "display_name": "proximus",
   "language": "python",
   "name": "python3"
  },
  "language_info": {
   "codemirror_mode": {
    "name": "ipython",
    "version": 3
   },
   "file_extension": ".py",
   "mimetype": "text/x-python",
   "name": "python",
   "nbconvert_exporter": "python",
   "pygments_lexer": "ipython3",
   "version": "3.10.11"
  }
 },
 "nbformat": 4,
 "nbformat_minor": 2
}
