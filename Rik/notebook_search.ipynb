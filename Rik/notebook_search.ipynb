{
 "cells": [
  {
   "cell_type": "code",
   "execution_count": 2,
   "metadata": {},
   "outputs": [
    {
     "name": "stdout",
     "output_type": "stream",
     "text": [
      "I am a large language model, trained by Google.\n",
      "\n"
     ]
    }
   ],
   "source": [
    "from google import genai\n",
    "from google.genai import types\n",
    "from dotenv import load_dotenv\n",
    "import os\n",
    "\n",
    "# Load environment variables from the .env file\n",
    "load_dotenv()\n",
    "\n",
    "# Retrieve the API key from the .env file\n",
    "api_key = os.getenv('GEMINI_API_KEY')\n",
    "\n",
    "# Initialize the Google AI client\n",
    "client = genai.Client(api_key=api_key)\n",
    "\n",
    "# Generate content\n",
    "response = client.models.generate_content(\n",
    "    model='gemini-2.0-flash-exp', contents='What is your name?'\n",
    ")\n",
    "print(response.text)\n",
    "\n",
    "\n"
   ]
  },
  {
   "cell_type": "code",
   "execution_count": 3,
   "metadata": {},
   "outputs": [],
   "source": [
    "from google.genai.types import GenerateContentConfig, Tool\n",
    "from google.generativeai.types import HarmCategory, HarmBlockThreshold\n",
    "from IPython.display import display, HTML, Markdown\n",
    "import io\n",
    "import json\n",
    "import re"
   ]
  },
  {
   "cell_type": "code",
   "execution_count": 4,
   "metadata": {},
   "outputs": [],
   "source": [
    "MODEL = \"gemini-2.0-flash-exp\""
   ]
  },
  {
   "cell_type": "code",
   "execution_count": 5,
   "metadata": {},
   "outputs": [],
   "source": [
    "\n",
    "COMPANY = 'Proximus'"
   ]
  },
  {
   "cell_type": "code",
   "execution_count": 6,
   "metadata": {},
   "outputs": [
    {
     "data": {
      "text/markdown": [
       "Okay"
      ],
      "text/plain": [
       "<IPython.core.display.Markdown object>"
      ]
     },
     "metadata": {},
     "output_type": "display_data"
    },
    {
     "data": {
      "text/markdown": [
       ", I will create a company report for Proximus. Here's my"
      ],
      "text/plain": [
       "<IPython.core.display.Markdown object>"
      ]
     },
     "metadata": {},
     "output_type": "display_data"
    },
    {
     "data": {
      "text/markdown": [
       " plan:\n",
       "\n",
       "1.  **Company Overview:** I'll start by gathering"
      ],
      "text/plain": [
       "<IPython.core.display.Markdown object>"
      ]
     },
     "metadata": {},
     "output_type": "display_data"
    },
    {
     "data": {
      "text/markdown": [
       " general information about Proximus, such as its industry, headquarters, and a brief history.\n",
       "2.  **Logo:** I'll find the most"
      ],
      "text/plain": [
       "<IPython.core.display.Markdown object>"
      ]
     },
     "metadata": {},
     "output_type": "display_data"
    },
    {
     "data": {
      "text/markdown": [
       " recent company logo and include a link to it.\n",
       "3.  **Services:** I'll research what services Proximus offers and identify companies that provide"
      ],
      "text/plain": [
       "<IPython.core.display.Markdown object>"
      ]
     },
     "metadata": {},
     "output_type": "display_data"
    },
    {
     "data": {
      "text/markdown": [
       " services to them.\n",
       "4.  **Key People:** I'll identify key personnel within the company and their roles.\n",
       "5.  **Departments:** I'll look into the different departments within Proximus.\n",
       "6."
      ],
      "text/plain": [
       "<IPython.core.display.Markdown object>"
      ]
     },
     "metadata": {},
     "output_type": "display_data"
    },
    {
     "data": {
      "text/markdown": [
       "  **Recent News/Updates:** I'll search for any recent news or updates about the company.\n",
       "\n",
       "Now, let's start with the research.\n",
       "\n"
      ],
      "text/plain": [
       "<IPython.core.display.Markdown object>"
      ]
     },
     "metadata": {},
     "output_type": "display_data"
    },
    {
     "data": {
      "text/markdown": [
       "Okay"
      ],
      "text/plain": [
       "<IPython.core.display.Markdown object>"
      ]
     },
     "metadata": {},
     "output_type": "display_data"
    },
    {
     "data": {
      "text/markdown": [
       ", I have gathered a lot of information about Proximus. Here's"
      ],
      "text/plain": [
       "<IPython.core.display.Markdown object>"
      ]
     },
     "metadata": {},
     "output_type": "display_data"
    },
    {
     "data": {
      "text/markdown": [
       " the company report:\n",
       "\n",
       "---\n",
       "\n",
       "**Company Report: Proximus**\n",
       "\n"
      ],
      "text/plain": [
       "<IPython.core.display.Markdown object>"
      ]
     },
     "metadata": {},
     "output_type": "display_data"
    },
    {
     "data": {
      "text/markdown": [
       "**Overview:**\n",
       "\n",
       "Proximus Group is a leading provider of digital services and communication solutions, operating primarily in Belgium and international markets. It offers a wide range"
      ],
      "text/plain": [
       "<IPython.core.display.Markdown object>"
      ]
     },
     "metadata": {},
     "output_type": "display_data"
    },
    {
     "data": {
      "text/markdown": [
       " of services, including fixed and mobile telephony, internet, and digital television. In Belgium, the company operates under the brands Proximus, Scarlet, and Mobile"
      ],
      "text/plain": [
       "<IPython.core.display.Markdown object>"
      ]
     },
     "metadata": {},
     "output_type": "display_data"
    },
    {
     "data": {
      "text/markdown": [
       " Vikings. The group also has a presence in Luxembourg (Proximus Luxembourg SA with brands Tango and Telindus Luxembourg) and the Netherlands (Telindus Netherlands). Internationally, Proximus operates through BICS and Telesign."
      ],
      "text/plain": [
       "<IPython.core.display.Markdown object>"
      ]
     },
     "metadata": {},
     "output_type": "display_data"
    },
    {
     "data": {
      "text/markdown": [
       " The company was founded on July 19, 1930, as RTT, and rebranded to Proximus in 2014. The Belgian government owns 53.51% of the Proxim"
      ],
      "text/plain": [
       "<IPython.core.display.Markdown object>"
      ]
     },
     "metadata": {},
     "output_type": "display_data"
    },
    {
     "data": {
      "text/markdown": [
       "us Group.\n",
       "\n",
       "**Logo:**\n",
       "\n",
       "The Proximus logo features a stylized butterfly design. You can find examples of the logo here: [Proximus Logo](https://www.pinterest.com/pin/proximus-logo-04-png-logo-vector-brand-downloads-svg"
      ],
      "text/plain": [
       "<IPython.core.display.Markdown object>"
      ]
     },
     "metadata": {},
     "output_type": "display_data"
    },
    {
     "data": {
      "text/markdown": [
       "-eps--770989898888788888/)\n",
       "\n",
       "**Services:**\n",
       "\n",
       "Proximus provides a variety of services, including:\n",
       "\n",
       "*   Fixed and mobile telephony\n",
       "*   Internet services\n",
       "*   Digital television\n",
       "*   ICT services\n",
       "*   Digital"
      ],
      "text/plain": [
       "<IPython.core.display.Markdown object>"
      ]
     },
     "metadata": {},
     "output_type": "display_data"
    },
    {
     "data": {
      "text/markdown": [
       " ecosystems development\n",
       "*   Innovative solutions\n",
       "\n",
       "They also have a range of IT affiliates, including Proximus NXT IT, Telindus, Codit, Be-Mobile, ClearMedia, and Davinsi Labs, which provide expertise in various fields such as app development, integrated ICT solutions, data privacy and security, and"
      ],
      "text/plain": [
       "<IPython.core.display.Markdown object>"
      ]
     },
     "metadata": {},
     "output_type": "display_data"
    },
    {
     "data": {
      "text/markdown": [
       " intelligent mobility solutions.\n",
       "\n",
       "Companies that provide services to Proximus include:\n",
       "\n",
       "*   **Scarlet:** A subsidiary of Proximus, using its infrastructure to offer telecom services.\n",
       "*   **Sewan:** An international telecom carrier offering fixed and mobile voice, cloud services, and internet access.\n",
       "*   "
      ],
      "text/plain": [
       "<IPython.core.display.Markdown object>"
      ]
     },
     "metadata": {},
     "output_type": "display_data"
    },
    {
     "data": {
      "text/markdown": [
       "**Belcenter:** A B2B telco player operating an IP-based network.\n",
       "*   **BICS:** A leading international communications enabler and provider of mobile data services.\n",
       "*   **Citymesh:** A B2B telecom operator specializing in wireless networks.\n",
       "*   **Colt Technology Services"
      ],
      "text/plain": [
       "<IPython.core.display.Markdown object>"
      ]
     },
     "metadata": {},
     "output_type": "display_data"
    },
    {
     "data": {
      "text/markdown": [
       ":** A global digital infrastructure company providing digital connectivity.\n",
       "*   **Comsave:** An e-commerce platform for sourcing and provisioning internet and last-mile access services.\n",
       "*   **Accenture:** Collaborates with Proximus on video services innovation and customer service support.\n",
       "*   **Yoin:** An"
      ],
      "text/plain": [
       "<IPython.core.display.Markdown object>"
      ]
     },
     "metadata": {},
     "output_type": "display_data"
    },
    {
     "data": {
      "text/markdown": [
       " independent telecom provider in Belgium, specializing in mobile subscriptions and internet at home.\n",
       "\n",
       "**Key People:**\n",
       "\n",
       "*   **Guillaume Boutin:** Chief Executive Officer (CEO) of the Proximus Group.\n",
       "*   **Stefaan De Clerck:** Chairman of the Executive Board.\n",
       "*   **Jim"
      ],
      "text/plain": [
       "<IPython.core.display.Markdown object>"
      ]
     },
     "metadata": {},
     "output_type": "display_data"
    },
    {
     "data": {
      "text/markdown": [
       " Casteele:** Chief Consumer Market Officer.\n",
       "*   **Jan Van Acoleyen:** Chief Human Resources Officer.\n",
       "*   **Mark Reid:** Finance Lead.\n",
       "*   **Renaud Tilmans:** Customer Operations Lead.\n",
       "*   **Geert Standaert:** Network & Wholesale Lead.\n",
       "*   "
      ],
      "text/plain": [
       "<IPython.core.display.Markdown object>"
      ]
     },
     "metadata": {},
     "output_type": "display_data"
    },
    {
     "data": {
      "text/markdown": [
       "**Antonietta Mastroianni:** Digital & IT Lead.\n",
       "*   **Ben Appel:** Corporate Affairs Lead.\n",
       "*   **Karl Cuveele:** Managing Director Proximus Real Estate - Connectimmo.\n",
       "*   **Jacques Ruckert:** Chief Solutions & Innovation Officer.\n",
       "\n",
       "**Departments:**"
      ],
      "text/plain": [
       "<IPython.core.display.Markdown object>"
      ]
     },
     "metadata": {},
     "output_type": "display_data"
    },
    {
     "data": {
      "text/markdown": [
       "\n",
       "\n",
       "The Proximus Group is structured into several units, including:\n",
       "\n",
       "*   CEO's department\n",
       "*   Consumer Market\n",
       "*   Enterprise Market\n",
       "*   Corporate Affairs\n",
       "*   Network & Wholesale\n",
       "*   Customer Operations\n",
       "*   Human Capital\n",
       "*   Digital & IT\n",
       "*   Finance\n",
       "\n",
       "**"
      ],
      "text/plain": [
       "<IPython.core.display.Markdown object>"
      ]
     },
     "metadata": {},
     "output_type": "display_data"
    },
    {
     "data": {
      "text/markdown": [
       "Recent News/Updates:**\n",
       "\n",
       "*   **Proximus Global:** Proximus has created Proximus Global, integrating its international activities, including BICS, Telesign, and Route Mobile, under one brand. This new unit is valued at around €3.1 billion in equity.\n",
       "*   **Fiber"
      ],
      "text/plain": [
       "<IPython.core.display.Markdown object>"
      ]
     },
     "metadata": {},
     "output_type": "display_data"
    },
    {
     "data": {
      "text/markdown": [
       " Network Recognition:** Proximus' fiber network has been recognized for its speed and performance by nPerf and Ookla.\n",
       "*   **Sale of Luxembourg Infrastructure:** Proximus has sold its Proximus Luxembourg Infrastructure (PLI) business, including 267 mobile tower assets, to InfraRed Capital Partners"
      ],
      "text/plain": [
       "<IPython.core.display.Markdown object>"
      ]
     },
     "metadata": {},
     "output_type": "display_data"
    },
    {
     "data": {
      "text/markdown": [
       " for €108 million. Proximus will remain an anchor tenant on these sites.\n",
       "*   **Scarlet Offer:** Scarlet has increased data volumes on its mobile plans at no extra cost.\n",
       "*   **Supply Chain Innovation:** Proximus is testing cargo sailboats in its supply chain.\n",
       "\n",
       "---\n"
      ],
      "text/plain": [
       "<IPython.core.display.Markdown object>"
      ]
     },
     "metadata": {},
     "output_type": "display_data"
    }
   ],
   "source": [
    "sys_instruction = \"\"\"You are an analyst that conducts company research.\n",
    "You are given a company name, and you will work on a company report. You have access\n",
    "to Google Search to look up company news, updates and metrics to write research reports.\n",
    "\n",
    "When given a company name, identify key aspects to research, look up that information\n",
    "and then write a concise company report.\n",
    "\n",
    "Add to the report a link to the most recent company logo, a summary of companies who offer services to them, a comprehensive summary of the key and their roles in the company, a summary of departments of the company. \n",
    "\n",
    "Feel free to plan your work and talk about it, but when you start writing the report,\n",
    "put a line of dashes (---) to demarcate the report itself, and say nothing else after\n",
    "the report has finished.\n",
    "\"\"\"\n",
    "\n",
    "config = GenerateContentConfig(system_instruction=sys_instruction, tools=[Tool(google_search={})], temperature=0)\n",
    "response_stream = client.models.generate_content_stream(\n",
    "    model=MODEL, config=config, contents=[COMPANY])\n",
    "\n",
    "report = io.StringIO()\n",
    "for chunk in response_stream:\n",
    "  candidate = chunk.candidates[0]\n",
    "\n",
    "  for part in candidate.content.parts:\n",
    "    if part.text:\n",
    "      display(Markdown(part.text))\n",
    "\n",
    "      # Find and save the report itself.\n",
    "      if m := re.search('(^|\\n)-+\\n(.*)$', part.text, re.M):\n",
    "          # Find the starting '---' line and start saving.\n",
    "          report.write(m.group(2))\n",
    "      elif report.tell():\n",
    "        # If there's already something in the buffer, keep recording.\n",
    "        report.write(part.text)\n",
    "\n",
    "    else:\n",
    "      print(json.dumps(part.model_dump(exclude_none=True), indent=2))\n",
    "\n",
    "  # You must enable Google Search Suggestions\n",
    "  if gm := candidate.grounding_metadata:\n",
    "    if sep := gm.search_entry_point:\n",
    "      display(HTML(sep.rendered_content))"
   ]
  },
  {
   "cell_type": "code",
   "execution_count": 9,
   "metadata": {},
   "outputs": [
    {
     "name": "stdout",
     "output_type": "stream",
     "text": [
      "Okay, I will create a company report for Proximus. Here's my plan:\n",
      "\n",
      "1.  **Company Overview:** I'll start by gathering general information about Proximus, including its industry, location, and what it does.\n",
      "2.  **Logo and Colors:** I'll find the most recent company logo and identify the company's primary colors.\n",
      "3.  **Service Providers:** I'll research companies that provide services to Proximus.\n",
      "4.  **Key People:** I'll identify key personnel and their roles within the company.\n",
      "5.  **Departments:** I'll look into the different departments that make up Proximus.\n",
      "6.  **Recent News and Updates:** I'll search for any recent news or updates about the company.\n",
      "\n",
      "Now, let's start with the research.\n",
      "\n",
      "Okay, I've gathered a lot of information about Proximus. Here's the company report:\n",
      "\n",
      "---\n",
      "# Proximus Company Report\n",
      "\n",
      "**Company Overview:**\n",
      "\n",
      "Proximus Group is a leading provider of digital services and communication solutions, operating primarily in Belgium and international markets. In Belgium, it offers services under the brands Proximus, Scarlet, and Mobile Vikings. The company also has operations in Luxembourg (Proximus Luxembourg SA with brands Tango and Telindus Luxembourg) and the Netherlands (Telindus Netherlands). Internationally, Proximus operates through BICS and Telesign. Proximus is the largest telecommunications company in Belgium. The company's services include fixed and mobile telephony, internet, digital television, and IT services.\n",
      "\n",
      "Proximus was founded in 1930 as RTT, and later became Belgacom. In 1994, Belgacom launched the Proximus mobile network. In 2014, Belgacom rebranded to Proximus. The Belgian government owns 53.51% of the Proximus Group.\n",
      "\n",
      "**Logo and Colors:**\n",
      "\n",
      "*   **Logo:** The Proximus logo is a stylized \"pro⌘imus\" with a distinctive \"⌘\" symbol. You can find examples of the logo here: [Proximus logo](https://www.alamy.com/stock-photo-los-angeles-california-usa-8-april-2019-illustrative-editorial-of-232887878.html) and [Proximus logo](https://www.shutterstock.com/search/proximus+sign).\n",
      "*   **Colors:** The primary brand color is purple (RGB 92, 45, 145). Black and white are also used, with red used as an indicator of promotions.\n",
      "\n",
      "**Service Providers:**\n",
      "\n",
      "Proximus has a wide ecosystem of partners and service providers, including:\n",
      "\n",
      "*   **IT Partners:** Be-Mobile, ClearMedia, Codit, Davinsi Labs, Proximus Spearit, and Telindus.\n",
      "*   **Telecom Operators:** Scarlet (a subsidiary of Proximus), Sewan, Yoin, Belcenter, Citymesh, and Colt Technology Services.\n",
      "*   **Other:** Comsave (acquired by Expereo), Accenture (for digital TV services).\n",
      "\n",
      "**Key People:**\n",
      "\n",
      "*   **Guillaume Boutin:** Chief Executive Officer (CEO) of the Proximus Group.\n",
      "*   **Stefaan De Clerck:** Chairman of the Proximus Board.\n",
      "*   **Ben Appel:** Corporate Affairs Lead.\n",
      "*   **Jim Casteele:** Consumer Market Lead.\n",
      "*   **Anne-Sophie Lotgering:** Enterprise IT Services & Segments Lead.\n",
      "*   **Antonietta Mastroianni:** Digital & IT Lead.\n",
      "*   **Mark Reid:** Finance Lead.\n",
      "*   **Geert Standaert:** Network & Wholesale Lead.\n",
      "*   **Jan Van Acoleyen:** Chief Human Resources Officer.\n",
      "*   **Renaud Tilmans:** Customer Operations Lead.\n",
      "\n",
      "**Departments:**\n",
      "\n",
      "The Proximus Group is structured into several key departments:\n",
      "\n",
      "*   CEO's Department\n",
      "*   Consumer Market\n",
      "*   Enterprise Market\n",
      "*   Corporate Affairs\n",
      "*   Network & Wholesale\n",
      "*   Customer Operations\n",
      "*   Human Capital\n",
      "*   Digital & IT\n",
      "*   Finance\n",
      "\n",
      "**Recent News and Updates:**\n",
      "\n",
      "*   **Proximus Global:** Proximus is integrating its international activities (BICS, Telesign, and Route Mobile) under a new umbrella called Proximus Global.\n",
      "*   **Sale of Be-Mobile:** Proximus is reportedly planning to sell its mobility subsidiary, Be-Mobile, to fund its fiber optic cable rollout.\n",
      "*   **Data Center Sale:** Proximus sold its data centers to Datacenter United in a sale-leaseback deal.\n",
      "*   **Luxembourg Tower Sale:** Proximus sold its Luxembourg towers to InfraRed Capital Partners.\n",
      "*   **Scarlet New Offer:** Scarlet has launched a new offer with more data at the same price.\n",
      "*   **Fiber Network Recognition:** Proximus' fiber network has received recognition for its speed and performance from nPerf and Ookla.\n",
      "\n",
      "This report provides a comprehensive overview of Proximus, including its operations, key personnel, and recent developments.\n",
      "\n"
     ]
    }
   ],
   "source": [
    "sys_instruction = \"\"\"You are an analyst that conducts company research.\n",
    "You are given a company name, and you will work on a company report. You have access\n",
    "to Google Search to look up company news, updates and metrics to write research reports.\n",
    "\n",
    "When given a company name, identify key aspects to research, look up that information\n",
    "and then write a concise company report.\n",
    "\n",
    "Add to the report a link to the most recent company logo, the company colors and a summary of companies who offer services to them, a comprehensive summary of the key and their roles in the company, a summary of departments of the company. \n",
    "\n",
    "Add \n",
    "Feel free to plan your work and talk about it, but when you start writing the report,\n",
    "put a line of dashes (---) to demarcate the report itself, and say nothing else after\n",
    "the report has finished.\n",
    "\"\"\"\n",
    "\n",
    "config = GenerateContentConfig(system_instruction=sys_instruction, tools=[Tool(google_search={})], temperature=0)\n",
    "response = client.models.generate_content(\n",
    "    model=MODEL, config=config, contents=[COMPANY])\n",
    "\n",
    "print(response.text)\n"
   ]
  },
  {
   "cell_type": "code",
   "execution_count": null,
   "metadata": {},
   "outputs": [],
   "source": []
  }
 ],
 "metadata": {
  "kernelspec": {
   "display_name": "proximus",
   "language": "python",
   "name": "python3"
  },
  "language_info": {
   "codemirror_mode": {
    "name": "ipython",
    "version": 3
   },
   "file_extension": ".py",
   "mimetype": "text/x-python",
   "name": "python",
   "nbconvert_exporter": "python",
   "pygments_lexer": "ipython3",
   "version": "3.10.11"
  }
 },
 "nbformat": 4,
 "nbformat_minor": 2
}
