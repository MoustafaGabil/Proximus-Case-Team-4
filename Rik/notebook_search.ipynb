{
 "cells": [
  {
   "cell_type": "code",
   "execution_count": 10,
   "metadata": {},
   "outputs": [
    {
     "name": "stdout",
     "output_type": "stream",
     "text": [
      "I am a large language model, trained by Google.\n",
      "\n"
     ]
    }
   ],
   "source": [
    "from google import genai\n",
    "from google.genai import types\n",
    "from dotenv import load_dotenv\n",
    "import os\n",
    "\n",
    "# Load environment variables from the .env file\n",
    "load_dotenv()\n",
    "\n",
    "# Retrieve the API key from the .env file\n",
    "api_key = os.getenv('GEMINI_API_KEY')\n",
    "\n",
    "# Initialize the Google AI client\n",
    "client = genai.Client(api_key=api_key)\n",
    "\n",
    "# Generate content\n",
    "response = client.models.generate_content(\n",
    "    model='gemini-2.0-flash-exp', contents='What is your name?'\n",
    ")\n",
    "print(response.text)\n",
    "\n",
    "\n"
   ]
  },
  {
   "cell_type": "code",
   "execution_count": 17,
   "metadata": {},
   "outputs": [],
   "source": [
    "from google.genai.types import GenerateContentConfig, Tool\n",
    "from google.generativeai.types import HarmCategory, HarmBlockThreshold\n",
    "from IPython.display import display, HTML, Markdown\n",
    "import io\n",
    "import json\n",
    "import re"
   ]
  },
  {
   "cell_type": "code",
   "execution_count": 18,
   "metadata": {},
   "outputs": [],
   "source": [
    "MODEL = \"gemini-2.0-flash-exp\""
   ]
  },
  {
   "cell_type": "code",
   "execution_count": 19,
   "metadata": {},
   "outputs": [],
   "source": [
    "\n",
    "COMPANY = 'Proximus'"
   ]
  },
  {
   "cell_type": "code",
   "execution_count": 23,
   "metadata": {},
   "outputs": [
    {
     "data": {
      "text/markdown": [
       "Okay"
      ],
      "text/plain": [
       "<IPython.core.display.Markdown object>"
      ]
     },
     "metadata": {},
     "output_type": "display_data"
    },
    {
     "data": {
      "text/markdown": [
       ", I will create a company report for Proximus. Here's my"
      ],
      "text/plain": [
       "<IPython.core.display.Markdown object>"
      ]
     },
     "metadata": {},
     "output_type": "display_data"
    },
    {
     "data": {
      "text/markdown": [
       " plan:\n",
       "\n",
       "1.  **Company Overview:** I'll start by gathering"
      ],
      "text/plain": [
       "<IPython.core.display.Markdown object>"
      ]
     },
     "metadata": {},
     "output_type": "display_data"
    },
    {
     "data": {
      "text/markdown": [
       " general information about Proximus, such as its industry, headquarters location, and a brief history.\n",
       "2.  **Logo:** I will find the most"
      ],
      "text/plain": [
       "<IPython.core.display.Markdown object>"
      ]
     },
     "metadata": {},
     "output_type": "display_data"
    },
    {
     "data": {
      "text/markdown": [
       " recent company logo and include a link to it.\n",
       "3.  **Services:** I will identify companies that provide services to Proximus.\n",
       "4."
      ],
      "text/plain": [
       "<IPython.core.display.Markdown object>"
      ]
     },
     "metadata": {},
     "output_type": "display_data"
    },
    {
     "data": {
      "text/markdown": [
       "  **Key People:** I will research the key people in the company and their roles.\n",
       "5.  **Departments:** I will look into the different departments within Proximus.\n",
       "6.  **Recent News/Updates:** I"
      ],
      "text/plain": [
       "<IPython.core.display.Markdown object>"
      ]
     },
     "metadata": {},
     "output_type": "display_data"
    },
    {
     "data": {
      "text/markdown": [
       " will search for any recent news or updates about the company.\n",
       "\n",
       "Now, let's start with the research.\n",
       "\n"
      ],
      "text/plain": [
       "<IPython.core.display.Markdown object>"
      ]
     },
     "metadata": {},
     "output_type": "display_data"
    },
    {
     "data": {
      "text/markdown": [
       "Okay"
      ],
      "text/plain": [
       "<IPython.core.display.Markdown object>"
      ]
     },
     "metadata": {},
     "output_type": "display_data"
    },
    {
     "data": {
      "text/markdown": [
       ", I've gathered a lot of information about Proximus. Here'"
      ],
      "text/plain": [
       "<IPython.core.display.Markdown object>"
      ]
     },
     "metadata": {},
     "output_type": "display_data"
    },
    {
     "data": {
      "text/markdown": [
       "s the company report:\n",
       "\n",
       "---\n",
       "**Company Report: Proximus**"
      ],
      "text/plain": [
       "<IPython.core.display.Markdown object>"
      ]
     },
     "metadata": {},
     "output_type": "display_data"
    },
    {
     "data": {
      "text/markdown": [
       "\n",
       "\n",
       "**1. Company Overview:**\n",
       "\n",
       "Proximus Group is a leading provider of digital services and communication solutions, operating primarily in Belgium and international markets. It"
      ],
      "text/plain": [
       "<IPython.core.display.Markdown object>"
      ]
     },
     "metadata": {},
     "output_type": "display_data"
    },
    {
     "data": {
      "text/markdown": [
       " offers a range of services including fixed and mobile telephony, internet, and television services. The company is publicly traded on Euronext Brussels under the ticker symbol PRO"
      ],
      "text/plain": [
       "<IPython.core.display.Markdown object>"
      ]
     },
     "metadata": {},
     "output_type": "display_data"
    },
    {
     "data": {
      "text/markdown": [
       "X and is a component of the BEL 20 index. The Belgian government owns a majority stake (53.51%) in the company. Proximus was founded in 1930 as RTT, and later"
      ],
      "text/plain": [
       "<IPython.core.display.Markdown object>"
      ]
     },
     "metadata": {},
     "output_type": "display_data"
    },
    {
     "data": {
      "text/markdown": [
       " became Belgacom before rebranding to Proximus in 2015.\n",
       "\n",
       "**2. Logo:**\n",
       "\n",
       "The Proximus logo is a stylized \"X\" shape.\n",
       "[Proximus Logo](https://worldvectorlogo"
      ],
      "text/plain": [
       "<IPython.core.display.Markdown object>"
      ]
     },
     "metadata": {},
     "output_type": "display_data"
    },
    {
     "data": {
      "text/markdown": [
       ".com/logo/proximus)\n",
       "\n",
       "**3. Services:**\n",
       "\n",
       "Proximus provides a wide array of services, including:\n",
       "\n",
       "*   **Connectivity:** Fixed and mobile telephony, internet, and digital television.\n",
       "*   **Digital Services:** ICT services, managed and platform services, integrating networking, cloud"
      ],
      "text/plain": [
       "<IPython.core.display.Markdown object>"
      ]
     },
     "metadata": {},
     "output_type": "display_data"
    },
    {
     "data": {
      "text/markdown": [
       ", cybersecurity, business applications, and data and artificial intelligence.\n",
       "*   **International Services:** International delivery authentication and digital identity services through its subsidiaries BICS and Telesign.\n",
       "*   **Other Brands:** Services are also offered under the brands Scarlet, Mobile Vikings, Tango, Telindus, and Telindus"
      ],
      "text/plain": [
       "<IPython.core.display.Markdown object>"
      ]
     },
     "metadata": {},
     "output_type": "display_data"
    },
    {
     "data": {
      "text/markdown": [
       " Netherlands.\n",
       "\n",
       "Companies that provide services to Proximus include:\n",
       "\n",
       "*   **Accenture:** Collaborates on video services innovation and customer service support.\n",
       "*   **Sewan:** An international telecom carrier offering fixed and mobile voice, cloud-based services, and internet access.\n",
       "*   **Belcenter:**"
      ],
      "text/plain": [
       "<IPython.core.display.Markdown object>"
      ]
     },
     "metadata": {},
     "output_type": "display_data"
    },
    {
     "data": {
      "text/markdown": [
       " A B2B telco player operating an IP-based network.\n",
       "*   **BICS:** A leading international communications enabler.\n",
       "*   **Citymesh:** A B2B telecom operator specializing in wireless networks.\n",
       "*   **Colt Technology Services:** A global digital infrastructure company providing digital connectivity."
      ],
      "text/plain": [
       "<IPython.core.display.Markdown object>"
      ]
     },
     "metadata": {},
     "output_type": "display_data"
    },
    {
     "data": {
      "text/markdown": [
       "\n",
       "*   **Comsave:** An e-commerce platform for sourcing and provisioning internet and last-mile access services.\n",
       "*   **Scarlet:** A subsidiary of Proximus, offering telecom services at lower prices.\n",
       "*   **Yoin:** An independent telecom provider specializing in mobile subscriptions and internet.\n",
       "\n"
      ],
      "text/plain": [
       "<IPython.core.display.Markdown object>"
      ]
     },
     "metadata": {},
     "output_type": "display_data"
    },
    {
     "data": {
      "text/markdown": [
       "**4. Key People:**\n",
       "\n",
       "*   **Guillaume Boutin:** CEO of Proximus Group and CEO of Proximus Global.\n",
       "*   **Stefaan De Clerck:** Chairman of the Board.\n",
       "*   **Mark Reid:** Chief Financial Officer.\n",
       "*   **Jim Casteele:**"
      ],
      "text/plain": [
       "<IPython.core.display.Markdown object>"
      ]
     },
     "metadata": {},
     "output_type": "display_data"
    },
    {
     "data": {
      "text/markdown": [
       " Chief Consumer Market Officer.\n",
       "*   **Jan Van Acoleyen:** Chief Human Resources Officer.\n",
       "*   **Renaud Tilmans:** Customer Operations Lead.\n",
       "*   **Geert Standaert:** Network & Wholesale Lead.\n",
       "*   **Antonietta Mastroianni:** Digital & IT Lead."
      ],
      "text/plain": [
       "<IPython.core.display.Markdown object>"
      ]
     },
     "metadata": {},
     "output_type": "display_data"
    },
    {
     "data": {
      "text/markdown": [
       "\n",
       "*   **Ben Appel:** Corporate Affairs Lead.\n",
       "*   **Karl Cuveele:** Managing Director Proximus Real Estate - Connectimmo.\n",
       "*   **Jacques Ruckert:** Chief Solutions & Innovation Officer.\n",
       "*   **Igor Makedonsky:** Director Group Legal & Insurance - General"
      ],
      "text/plain": [
       "<IPython.core.display.Markdown object>"
      ]
     },
     "metadata": {},
     "output_type": "display_data"
    },
    {
     "data": {
      "text/markdown": [
       " Counsel.\n",
       "*   **Catherine Vandenborre:** Independent Director\n",
       "*   **Karel de Gucht:** Director\n",
       "*   **Catherine Rutten:** Independent Director\n",
       "*   **Luc Van den hove:** Independent Director\n",
       "*   **Joachim Sonne:** Independent Director\n",
       "*   **Ibrahim Ouass"
      ],
      "text/plain": [
       "<IPython.core.display.Markdown object>"
      ]
     },
     "metadata": {},
     "output_type": "display_data"
    },
    {
     "data": {
      "text/markdown": [
       "ari:** Director\n",
       "*   **Beatrice De Mahieu:** Director\n",
       "*   **Martin De Prycker:** Independent Director\n",
       "*   **Audrey Hanard:** Director\n",
       "*   **Claire Tillekaerts:** Director\n",
       "*   **Cécile Coune:** Independent Director\n",
       "*   **Caroline Bas"
      ],
      "text/plain": [
       "<IPython.core.display.Markdown object>"
      ]
     },
     "metadata": {},
     "output_type": "display_data"
    },
    {
     "data": {
      "text/markdown": [
       "yn:** Independent Director\n",
       "\n",
       "**5. Departments:**\n",
       "\n",
       "Proximus Group is structured into several key departments:\n",
       "\n",
       "*   CEO's Department\n",
       "*   Consumer Market\n",
       "*   Enterprise Market\n",
       "*   Corporate Affairs\n",
       "*   Network & Wholesale\n",
       "*   Customer Operations\n",
       "*   Human Capital\n",
       "*   Digital"
      ],
      "text/plain": [
       "<IPython.core.display.Markdown object>"
      ]
     },
     "metadata": {},
     "output_type": "display_data"
    },
    {
     "data": {
      "text/markdown": [
       " & IT\n",
       "*   Finance\n",
       "\n",
       "**6. Recent News/Updates:**\n",
       "\n",
       "*   **Proximus Global:** Proximus has created Proximus Global by integrating BICS, Telesign, and Route Mobile under one umbrella, with an equity value of approximately €3.1 billion.\n",
       "*   **"
      ],
      "text/plain": [
       "<IPython.core.display.Markdown object>"
      ]
     },
     "metadata": {},
     "output_type": "display_data"
    },
    {
     "data": {
      "text/markdown": [
       "Fiber Network:** Proximus' fiber network has been recognized for its speed and performance by nPerf and Ookla. The company is aiming for 95% fiber coverage in Belgium by 2032.\n",
       "*   **Be-Mobile Sale:** Proximus is reportedly planning to sell its mobility subsidiary"
      ],
      "text/plain": [
       "<IPython.core.display.Markdown object>"
      ]
     },
     "metadata": {},
     "output_type": "display_data"
    },
    {
     "data": {
      "text/markdown": [
       ", Be-Mobile, to fund its fiber optic cable rollout.\n",
       "*   **Data Center Sale:** Proximus sold its data centers to Datacenter United in a sale-leaseback deal.\n",
       "*   **Luxembourg Towers Sale:** Proximus sold its Luxembourg towers to InfraRed Capital Partners.\n"
      ],
      "text/plain": [
       "<IPython.core.display.Markdown object>"
      ]
     },
     "metadata": {},
     "output_type": "display_data"
    },
    {
     "data": {
      "text/markdown": [
       "*   **Scarlet New Offer:** Scarlet has launched a new offer with increased data volumes at the same price.\n",
       "*   **Supply Chain Testing:** Proximus is testing cargo sailboats in its supply chain with Sagemcom.\n",
       "\n",
       "---\n"
      ],
      "text/plain": [
       "<IPython.core.display.Markdown object>"
      ]
     },
     "metadata": {},
     "output_type": "display_data"
    },
    {
     "data": {
      "text/html": [
       "<style>\n",
       ".container {\n",
       "  align-items: center;\n",
       "  border-radius: 8px;\n",
       "  display: flex;\n",
       "  font-family: Google Sans, Roboto, sans-serif;\n",
       "  font-size: 14px;\n",
       "  line-height: 20px;\n",
       "  padding: 8px 12px;\n",
       "}\n",
       ".chip {\n",
       "  display: inline-block;\n",
       "  border: solid 1px;\n",
       "  border-radius: 16px;\n",
       "  min-width: 14px;\n",
       "  padding: 5px 16px;\n",
       "  text-align: center;\n",
       "  user-select: none;\n",
       "  margin: 0 8px;\n",
       "  -webkit-tap-highlight-color: transparent;\n",
       "}\n",
       ".carousel {\n",
       "  overflow: auto;\n",
       "  scrollbar-width: none;\n",
       "  white-space: nowrap;\n",
       "  margin-right: -12px;\n",
       "}\n",
       ".headline {\n",
       "  display: flex;\n",
       "  margin-right: 4px;\n",
       "}\n",
       ".gradient-container {\n",
       "  position: relative;\n",
       "}\n",
       ".gradient {\n",
       "  position: absolute;\n",
       "  transform: translate(3px, -9px);\n",
       "  height: 36px;\n",
       "  width: 9px;\n",
       "}\n",
       "@media (prefers-color-scheme: light) {\n",
       "  .container {\n",
       "    background-color: #fafafa;\n",
       "    box-shadow: 0 0 0 1px #0000000f;\n",
       "  }\n",
       "  .headline-label {\n",
       "    color: #1f1f1f;\n",
       "  }\n",
       "  .chip {\n",
       "    background-color: #ffffff;\n",
       "    border-color: #d2d2d2;\n",
       "    color: #5e5e5e;\n",
       "    text-decoration: none;\n",
       "  }\n",
       "  .chip:hover {\n",
       "    background-color: #f2f2f2;\n",
       "  }\n",
       "  .chip:focus {\n",
       "    background-color: #f2f2f2;\n",
       "  }\n",
       "  .chip:active {\n",
       "    background-color: #d8d8d8;\n",
       "    border-color: #b6b6b6;\n",
       "  }\n",
       "  .logo-dark {\n",
       "    display: none;\n",
       "  }\n",
       "  .gradient {\n",
       "    background: linear-gradient(90deg, #fafafa 15%, #fafafa00 100%);\n",
       "  }\n",
       "}\n",
       "@media (prefers-color-scheme: dark) {\n",
       "  .container {\n",
       "    background-color: #1f1f1f;\n",
       "    box-shadow: 0 0 0 1px #ffffff26;\n",
       "  }\n",
       "  .headline-label {\n",
       "    color: #fff;\n",
       "  }\n",
       "  .chip {\n",
       "    background-color: #2c2c2c;\n",
       "    border-color: #3c4043;\n",
       "    color: #fff;\n",
       "    text-decoration: none;\n",
       "  }\n",
       "  .chip:hover {\n",
       "    background-color: #353536;\n",
       "  }\n",
       "  .chip:focus {\n",
       "    background-color: #353536;\n",
       "  }\n",
       "  .chip:active {\n",
       "    background-color: #464849;\n",
       "    border-color: #53575b;\n",
       "  }\n",
       "  .logo-light {\n",
       "    display: none;\n",
       "  }\n",
       "  .gradient {\n",
       "    background: linear-gradient(90deg, #1f1f1f 15%, #1f1f1f00 100%);\n",
       "  }\n",
       "}\n",
       "</style>\n",
       "<div class=\"container\">\n",
       "  <div class=\"headline\">\n",
       "    <svg class=\"logo-light\" width=\"18\" height=\"18\" viewBox=\"9 9 35 35\" fill=\"none\" xmlns=\"http://www.w3.org/2000/svg\">\n",
       "      <path fill-rule=\"evenodd\" clip-rule=\"evenodd\" d=\"M42.8622 27.0064C42.8622 25.7839 42.7525 24.6084 42.5487 23.4799H26.3109V30.1568H35.5897C35.1821 32.3041 33.9596 34.1222 32.1258 35.3448V39.6864H37.7213C40.9814 36.677 42.8622 32.2571 42.8622 27.0064V27.0064Z\" fill=\"#4285F4\"/>\n",
       "      <path fill-rule=\"evenodd\" clip-rule=\"evenodd\" d=\"M26.3109 43.8555C30.9659 43.8555 34.8687 42.3195 37.7213 39.6863L32.1258 35.3447C30.5898 36.3792 28.6306 37.0061 26.3109 37.0061C21.8282 37.0061 18.0195 33.9811 16.6559 29.906H10.9194V34.3573C13.7563 39.9841 19.5712 43.8555 26.3109 43.8555V43.8555Z\" fill=\"#34A853\"/>\n",
       "      <path fill-rule=\"evenodd\" clip-rule=\"evenodd\" d=\"M16.6559 29.8904C16.3111 28.8559 16.1074 27.7588 16.1074 26.6146C16.1074 25.4704 16.3111 24.3733 16.6559 23.3388V18.8875H10.9194C9.74388 21.2072 9.06992 23.8247 9.06992 26.6146C9.06992 29.4045 9.74388 32.022 10.9194 34.3417L15.3864 30.8621L16.6559 29.8904V29.8904Z\" fill=\"#FBBC05\"/>\n",
       "      <path fill-rule=\"evenodd\" clip-rule=\"evenodd\" d=\"M26.3109 16.2386C28.85 16.2386 31.107 17.1164 32.9095 18.8091L37.8466 13.8719C34.853 11.082 30.9659 9.3736 26.3109 9.3736C19.5712 9.3736 13.7563 13.245 10.9194 18.8875L16.6559 23.3388C18.0195 19.2636 21.8282 16.2386 26.3109 16.2386V16.2386Z\" fill=\"#EA4335\"/>\n",
       "    </svg>\n",
       "    <svg class=\"logo-dark\" width=\"18\" height=\"18\" viewBox=\"0 0 48 48\" xmlns=\"http://www.w3.org/2000/svg\">\n",
       "      <circle cx=\"24\" cy=\"23\" fill=\"#FFF\" r=\"22\"/>\n",
       "      <path d=\"M33.76 34.26c2.75-2.56 4.49-6.37 4.49-11.26 0-.89-.08-1.84-.29-3H24.01v5.99h8.03c-.4 2.02-1.5 3.56-3.07 4.56v.75l3.91 2.97h.88z\" fill=\"#4285F4\"/>\n",
       "      <path d=\"M15.58 25.77A8.845 8.845 0 0 0 24 31.86c1.92 0 3.62-.46 4.97-1.31l4.79 3.71C31.14 36.7 27.65 38 24 38c-5.93 0-11.01-3.4-13.45-8.36l.17-1.01 4.06-2.85h.8z\" fill=\"#34A853\"/>\n",
       "      <path d=\"M15.59 20.21a8.864 8.864 0 0 0 0 5.58l-5.03 3.86c-.98-2-1.53-4.25-1.53-6.64 0-2.39.55-4.64 1.53-6.64l1-.22 3.81 2.98.22 1.08z\" fill=\"#FBBC05\"/>\n",
       "      <path d=\"M24 14.14c2.11 0 4.02.75 5.52 1.98l4.36-4.36C31.22 9.43 27.81 8 24 8c-5.93 0-11.01 3.4-13.45 8.36l5.03 3.85A8.86 8.86 0 0 1 24 14.14z\" fill=\"#EA4335\"/>\n",
       "    </svg>\n",
       "    <div class=\"gradient-container\"><div class=\"gradient\"></div></div>\n",
       "  </div>\n",
       "  <div class=\"carousel\">\n",
       "    <a class=\"chip\" href=\"https://vertexaisearch.cloud.google.com/grounding-api-redirect/AUBnsYv-IlKu1WzhcsXRE5ppNgO7rWS_MtEKW7-YE-4w5c2k6hsTJEfWd5zMozyaarpNn8n0_iKd2exWjn5rWx2gqxRmHL8YL-n7gF2LDOK2gPrwnvrEN-meEdHHbvHFj9yfD1W2JSXlD70Lyj01VZps72jtlQJcpTFn49jgbcKlzjl4_IQf7RRD-3uG8HOaaJK4g24-7EHLpWgtPO1xkDfsG178tk7LH-ZI\">Proximus key people and their roles</a>\n",
       "    <a class=\"chip\" href=\"https://vertexaisearch.cloud.google.com/grounding-api-redirect/AUBnsYsNTUC4hmSUjJ3H4-PCOPzfBd5a1rXdn9itSd4Usmd9kHfekTUO-n7rlh0vgIN-uWBOlcaNGZR-6Eh-DFoqHwcstnKs7mJdlNfKRyyPAOqOSedL7VR5eA1PAp4K4aZDrujpB_PjA1UEKNBOmOOPmJ-4PeXOOJylyHaN3aAk0CwPlGqohMvHDLPGnP6EbIIn1oEcGMXtEgPRrcWBKPsD0jrJaQ==\">Proximus headquarters location</a>\n",
       "    <a class=\"chip\" href=\"https://vertexaisearch.cloud.google.com/grounding-api-redirect/AUBnsYsax_1n2Dd-DMUgtJMIIJDnfnZo7NU1KWgQsUOvpt95CTC6cpkMy6TXYjy2tq0qIoqiCJPdLK42P9zPwq2phkSE_KGy5Ad5dklcSL1y3ZHx-WBj4Xp401RflSbBM07WmGvtCx2FyUlYeDrZqxQgvjWZNI_yY_dFp76MQYnR8IYHlNnfy93XAPoemeDk_1COL8BeyHYfj3Zplv4_rA==\">what is Proximus company</a>\n",
       "    <a class=\"chip\" href=\"https://vertexaisearch.cloud.google.com/grounding-api-redirect/AUBnsYtbw34zt0YlP-ilD_55xVKhv3FRHqSmW7cI0_dYz7rO3vfqoa17yjwLd5Mvo9OimXGd9r2U5yLnZM_MASbQgCDJUlrgVU1WAvjgxxDj8LNfLRGve4BzgyT9dKfJnh13-ER5Xmw3P1EbErc9l7MfmAHOzZxyIL59hlb-hGSPILLy8Ee_ctDtMkK2JF91PXIXl89xh8bKdTRUkrwjAA==\">Proximus company history</a>\n",
       "    <a class=\"chip\" href=\"https://vertexaisearch.cloud.google.com/grounding-api-redirect/AUBnsYsFZXDLcYVqEGdlgpIon6h1BDcuq-vN_8rIg3PqjbU4Sy1IQW1jUjfyPV9st8mWeu-nua5k0ky3d7JGb9cxoxqOe8WAV6wzd780gFoLb6MyFXRxqg1WpZC71edSwQd1ZsXvZbYBoe4Vc5UpK0kp1drenJalxVGo5YsErWYVsSsLDitAU4o3WeI9VFqpCXYtOboCt95Ul9uELkqtWPLdqD7cv-xlKMG0Jn7Vi6qj4QI=\">companies that provide services to Proximus</a>\n",
       "    <a class=\"chip\" href=\"https://vertexaisearch.cloud.google.com/grounding-api-redirect/AUBnsYsxmMCyNV2c4iVJu8TbPcL3BgKo3USllMq2CUjIy_LOfMBkExjGVowR2W3krv8pHN0T-nkFYN82Gqi1Nbkr0lWOa9EoS9tjUDvdNnGAIYhqg9_EHdkpzX4XTd94hyhSMxTRkFSu4yGFASVtuBXViW7WN3TgzahNukzkOigxYV1YTT7qWv8LBXEFNCCzaTnmFu8JtC_WhkZSYKkiEgBXTbA=\">Proximus company departments</a>\n",
       "    <a class=\"chip\" href=\"https://vertexaisearch.cloud.google.com/grounding-api-redirect/AUBnsYtgFA7QPKqvvqN79HbQzjnyB3KDczy0MMWtY0Npqyd3oniZrEm3YHqDiFq295kPbVr9QEhRWVa7ufl2BNL3WsRuo73D5LCb3PCpQVMlpoZfoCO-2pvLidglSerOsJ4ZbT9r4XC6mlAK9-gBwV6RSSzO6k6Rv7ONC4QrC7T0bIB7ZGPNXCMRu_21uSpXXTnF7GU=\">Proximus logo</a>\n",
       "    <a class=\"chip\" href=\"https://vertexaisearch.cloud.google.com/grounding-api-redirect/AUBnsYttbQhEi4zOqgp9weEY3T0utTnavIWUYhHjaEHoaIAXUZ97EXp0ecHF6Ivm8w7OgiuW1NeF549ULHGljf5QSFuWjfuGQV3iYTaQnPe8udOfYAD3DUACzTg-Bc5Cq71cuYT6lq16M7RC3pc42E1hh8fk3hxd862W21uX5wWX7IrOyf7qoiziZrb_g9zRrOvVyVnX1FsEN1LF\">Proximus recent news</a>\n",
       "  </div>\n",
       "</div>\n"
      ],
      "text/plain": [
       "<IPython.core.display.HTML object>"
      ]
     },
     "metadata": {},
     "output_type": "display_data"
    }
   ],
   "source": [
    "sys_instruction = \"\"\"You are an analyst that conducts company research.\n",
    "You are given a company name, and you will work on a company report. You have access\n",
    "to Google Search to look up company news, updates and metrics to write research reports.\n",
    "\n",
    "When given a company name, identify key aspects to research, look up that information\n",
    "and then write a concise company report.\n",
    "\n",
    "Add to the report a link to the most recent company logo, a summary of companies who offer services to them, a comprehensive summary of the key and their roles in the company, a summary of departments of the company. \n",
    "\n",
    "Feel free to plan your work and talk about it, but when you start writing the report,\n",
    "put a line of dashes (---) to demarcate the report itself, and say nothing else after\n",
    "the report has finished.\n",
    "\"\"\"\n",
    "\n",
    "config = GenerateContentConfig(system_instruction=sys_instruction, tools=[Tool(google_search={})], temperature=0)\n",
    "response_stream = client.models.generate_content_stream(\n",
    "    model=MODEL, config=config, contents=[COMPANY])\n",
    "\n",
    "report = io.StringIO()\n",
    "for chunk in response_stream:\n",
    "  candidate = chunk.candidates[0]\n",
    "\n",
    "  for part in candidate.content.parts:\n",
    "    if part.text:\n",
    "      display(Markdown(part.text))\n",
    "\n",
    "      # Find and save the report itself.\n",
    "      if m := re.search('(^|\\n)-+\\n(.*)$', part.text, re.M):\n",
    "          # Find the starting '---' line and start saving.\n",
    "          report.write(m.group(2))\n",
    "      elif report.tell():\n",
    "        # If there's already something in the buffer, keep recording.\n",
    "        report.write(part.text)\n",
    "\n",
    "    else:\n",
    "      print(json.dumps(part.model_dump(exclude_none=True), indent=2))\n",
    "\n",
    "  # You must enable Google Search Suggestions\n",
    "  if gm := candidate.grounding_metadata:\n",
    "    if sep := gm.search_entry_point:\n",
    "      display(HTML(sep.rendered_content))"
   ]
  },
  {
   "cell_type": "code",
   "execution_count": 24,
   "metadata": {},
   "outputs": [
    {
     "name": "stdout",
     "output_type": "stream",
     "text": [
      "Okay, I will create a company report for Proximus. Here's my plan:\n",
      "\n",
      "1.  **Company Overview:** I'll start by gathering general information about Proximus, such as its industry, headquarters location, and a brief history.\n",
      "2.  **Logo:** I will find the most recent company logo and include a link to it.\n",
      "3.  **Services:** I will identify companies that provide services to Proximus.\n",
      "4.  **Key People:** I will research the key people in the company and their roles.\n",
      "5.  **Departments:** I will look into the different departments within Proximus.\n",
      "6.  **Recent News/Updates:** I will search for any recent news or updates about the company.\n",
      "\n",
      "Now, let's start with the research.\n",
      "Okay, I have gathered a lot of information about Proximus. Here's the company report:\n",
      "\n",
      "---\n",
      "**Proximus Company Report**\n",
      "\n",
      "**Company Overview:**\n",
      "\n",
      "Proximus Group is a major telecommunications and digital services provider operating in Belgium and international markets. It offers a range of services including fixed and mobile telephony, internet, and television services. The company is headquartered in Brussels, Belgium. Proximus was founded in 1930 as RTT, and later became Belgacom before rebranding to Proximus in 2015. The Belgian government owns a majority stake (53.51%) in the company. Proximus is the largest of Belgium's three mobile telecommunications companies, competing with Orange Belgium and Base.\n",
      "\n",
      "**Logo:**\n",
      "\n",
      "The Proximus logo is a stylized \"X\" shape. A link to a vector version of the logo can be found here: [Proximus Vector Logo](https://worldvectorlogo.com/logo/proximus).\n",
      "\n",
      "**Services:**\n",
      "\n",
      "Proximus provides a wide array of services, including:\n",
      "\n",
      "*   Fixed and mobile telephony\n",
      "*   Internet services\n",
      "*   Digital television\n",
      "*   ICT services (including managed and platform services, networking, cloud, cybersecurity, business applications, and data and AI)\n",
      "*   International delivery authentication and digital identity services\n",
      "\n",
      "Proximus operates under several brands, including Proximus, Scarlet, Mobile Vikings, Tango, Telindus, and Telindus Netherlands.\n",
      "\n",
      "**Companies Providing Services to Proximus:**\n",
      "\n",
      "Proximus has a wide ecosystem of partners and companies that provide services to them. These include:\n",
      "\n",
      "*   **IT Partners:** Be-Mobile, ClearMedia, Codit, Davinsi Labs, Proximus Spearit, and Telindus (Proximus Accelerators ecosystem)\n",
      "*   **Telecom Operators:** Scarlet (a subsidiary), Sewan, Yoin, Belcenter, Citymesh\n",
      "*   **International Carriers:** BICS\n",
      "*   **Digital Infrastructure:** Colt Technology Services\n",
      "*   **E-commerce Platforms:** Comsave (acquired by Expereo)\n",
      "*   **Technology and Consulting:** Accenture\n",
      "*   **Other:** Sagemcom\n",
      "\n",
      "**Key People and Their Roles:**\n",
      "\n",
      "*   **Guillaume Boutin:** CEO of the Proximus Group and Chief Enterprise Market Officer ad interim.\n",
      "*   **Stefaan De Clerck:** Chairman of the Board of Directors.\n",
      "*   **Jim Casteele:** Chief Consumer Market Officer.\n",
      "*   **Jan Van Acoleyen:** Chief Human Resources Officer.\n",
      "*   **Mark Reid:** Finance Lead (CFO).\n",
      "*   **Renaud Tilmans:** Customer Operations Lead.\n",
      "*   **Geert Standaert:** Network & Wholesale Lead.\n",
      "*   **Antonietta Mastroianni:** Digital & IT Lead.\n",
      "*   **Ben Appel:** Corporate Affairs Lead.\n",
      "*   **Karl Cuveele:** Managing Director Proximus Real Estate - Connectimmo.\n",
      "*   **Jacques Ruckert:** Chief Solutions & Innovation Officer.\n",
      "*   **Other Board Members:** Caroline Basyn, Cécile Coune, Karel De Gucht, Béatrice de Mahieu, Martin De Prycker, Audrey Hanard, Ibrahim Ouassari, Catherine Rutten, Joachim Sonne, Claire Tillekaerts, Luc Van den Hove, Catherine Vandenborre.\n",
      "\n",
      "**Departments:**\n",
      "\n",
      "The Proximus Group is structured into several key departments:\n",
      "\n",
      "*   CEO's department\n",
      "*   Consumer Market\n",
      "*   Enterprise Market\n",
      "*   Corporate Affairs\n",
      "*   Network & Wholesale\n",
      "*   Customer Operations\n",
      "*   Human Capital\n",
      "*   Digital & IT\n",
      "*   Finance\n",
      "\n",
      "**Recent News/Updates:**\n",
      "\n",
      "*   **Proximus Global:** Proximus has created Proximus Global, integrating its international activities, including BICS, Telesign, and Route Mobile, under one umbrella. This new unit is valued at approximately €3.1 billion in equity.\n",
      "*   **Luxembourg Infrastructure Sale:** Proximus sold its Proximus Luxembourg Infrastructure (PLI) business, including 267 mobile tower assets, to InfraRed Capital Partners for €108 million. Proximus remains an anchor tenant on these sites.\n",
      "*   **Fiber Network Recognition:** Proximus' fiber network has been recognized for its speed and performance by nPerf and Ookla.\n",
      "*   **Scarlet Offer:** Scarlet, a subsidiary of Proximus, has increased data volumes on its mobile plans at no extra cost.\n",
      "*   **Supply Chain Innovation:** Proximus is testing cargo sailboats in its supply chain with Sagemcom.\n",
      "\n",
      "---\n",
      "\n"
     ]
    }
   ],
   "source": [
    "sys_instruction = \"\"\"You are an analyst that conducts company research.\n",
    "You are given a company name, and you will work on a company report. You have access\n",
    "to Google Search to look up company news, updates and metrics to write research reports.\n",
    "\n",
    "When given a company name, identify key aspects to research, look up that information\n",
    "and then write a concise company report.\n",
    "\n",
    "Add to the report a link to the most recent company logo, a summary of companies who offer services to them, a comprehensive summary of the key and their roles in the company, a summary of departments of the company. \n",
    "\n",
    "Feel free to plan your work and talk about it, but when you start writing the report,\n",
    "put a line of dashes (---) to demarcate the report itself, and say nothing else after\n",
    "the report has finished.\n",
    "\"\"\"\n",
    "\n",
    "config = GenerateContentConfig(system_instruction=sys_instruction, tools=[Tool(google_search={})], temperature=0)\n",
    "response = client.models.generate_content(\n",
    "    model=MODEL, config=config, contents=[COMPANY])\n",
    "\n",
    "print(response.text)\n"
   ]
  }
 ],
 "metadata": {
  "kernelspec": {
   "display_name": "proximus",
   "language": "python",
   "name": "python3"
  },
  "language_info": {
   "codemirror_mode": {
    "name": "ipython",
    "version": 3
   },
   "file_extension": ".py",
   "mimetype": "text/x-python",
   "name": "python",
   "nbconvert_exporter": "python",
   "pygments_lexer": "ipython3",
   "version": "3.10.11"
  }
 },
 "nbformat": 4,
 "nbformat_minor": 2
}
