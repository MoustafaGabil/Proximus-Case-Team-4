{
 "cells": [
  {
   "cell_type": "code",
   "execution_count": 1641,
   "metadata": {},
   "outputs": [
    {
     "name": "stdout",
     "output_type": "stream",
     "text": [
      "I am a large language model, trained by Google.\n",
      "\n"
     ]
    }
   ],
   "source": [
    "from google import genai\n",
    "from dotenv import load_dotenv\n",
    "import os\n",
    "from google.genai.types import GenerateContentConfig, Tool\n",
    "import json\n",
    "import re\n",
    "import random as rd\n",
    "\n",
    "# Load environment variables from the .env file\n",
    "load_dotenv()\n",
    "\n",
    "# Retrieve the API key from the .env file\n",
    "api_key = os.getenv('GEMINI_API_KEY')\n",
    "\n",
    "# Initialize the Google AI client\n",
    "client = genai.Client(api_key=api_key)\n",
    "\n",
    "# Generate content\n",
    "response = client.models.generate_content(\n",
    "    model='gemini-2.0-flash-exp', contents='What is your name?'\n",
    ")\n",
    "print(response.text)\n",
    "\n",
    "\n"
   ]
  },
  {
   "cell_type": "markdown",
   "metadata": {},
   "source": [
    "*Function to extract Json of LLm output and save it to a file*"
   ]
  },
  {
   "cell_type": "code",
   "execution_count": 1642,
   "metadata": {},
   "outputs": [],
   "source": [
    "def save_json_from_string(input_string, output_filename):\n",
    "    \"\"\"\n",
    "    Extracts JSON content from a string and saves it to a JSON file with the specified name.\n",
    "\n",
    "    :param input_string: The input string containing JSON data within brackets.\n",
    "    :param output_filename: The name of the output JSON file (e.g., \"data.json\").\n",
    "    :return: True if the operation was successful, False otherwise.\n",
    "    \"\"\"\n",
    "    # Step 1: Extract the JSON content within the brackets\n",
    "    result = re.search(r'\\[.*\\]', input_string, re.DOTALL)\n",
    "\n",
    "    if result:\n",
    "        extracted_content = result.group(0)  # Get the matched content\n",
    "\n",
    "        try:\n",
    "            # Step 2: Parse the extracted content into a Python object (list/dict)\n",
    "            json_data = json.loads(extracted_content)\n",
    "\n",
    "            # Step 3: Write the JSON data to a file\n",
    "            with open(output_filename, \"w\", encoding=\"utf-8\") as json_file:\n",
    "                json.dump(json_data, json_file, indent=4)  # Save with pretty formatting\n",
    "\n",
    "            print(f\"JSON data has been successfully written to '{output_filename}'.\")\n",
    "            return True  # Operation was successful\n",
    "        except json.JSONDecodeError as e:\n",
    "            print(f\"Error parsing JSON: {e}\")\n",
    "        except Exception as e:\n",
    "            print(f\"An error occurred while writing the file: {e}\")\n",
    "    else:\n",
    "        print(\"No content found within brackets.\")\n",
    "\n",
    "    return False  # Operation failed"
   ]
  },
  {
   "cell_type": "code",
   "execution_count": 1643,
   "metadata": {},
   "outputs": [],
   "source": [
    "MODEL = \"gemini-2.0-flash-exp\""
   ]
  },
  {
   "cell_type": "code",
   "execution_count": 1644,
   "metadata": {},
   "outputs": [],
   "source": [
    "\n",
    "COMPANY = 'Proximus'"
   ]
  },
  {
   "cell_type": "code",
   "execution_count": 1645,
   "metadata": {},
   "outputs": [],
   "source": [
    "safety_settings = [\n",
    "    {\"category\": \"HARM_CATEGORY_HARASSMENT\", \"threshold\": \"BLOCK_NONE\"},\n",
    "    {\"category\": \"HARM_CATEGORY_HATE_SPEECH\", \"threshold\": \"BLOCK_NONE\"},\n",
    "    {\"category\": \"HARM_CATEGORY_SEXUALLY_EXPLICIT\", \"threshold\": \"BLOCK_NONE\"},\n",
    "    {\"category\": \"HARM_CATEGORY_DANGEROUS_CONTENT\", \"threshold\": \"BLOCK_NONE\"},\n",
    "]"
   ]
  },
  {
   "cell_type": "markdown",
   "metadata": {},
   "source": [
    "**1. SETTING UP A RESEARCH ASSISTANT** (temperature = 0, tools = google search)"
   ]
  },
  {
   "cell_type": "code",
   "execution_count": 1646,
   "metadata": {},
   "outputs": [],
   "source": [
    "system_instruction = \"\"\"You are an analyst that conducts company research.\n",
    "You are given a company name, and you will work on a company report. You have access\n",
    "to Google Search to look up company news, updates, metrics, public records and linkedin pages to write research reports.\n",
    "\n",
    "When given a company name, identify key aspects to research, look up that information\n",
    "and then write an elaborate company report. \n",
    "\n",
    "Focus on Belgian companies.\n",
    "\n",
    "Thoroughly plan your work in detail and steps, but avoid discussing it. Do not add any additional comments after finishing the report.\"\"\""
   ]
  },
  {
   "cell_type": "code",
   "execution_count": 1647,
   "metadata": {},
   "outputs": [],
   "source": [
    "config = GenerateContentConfig(system_instruction=system_instruction, tools=[Tool(google_search={})], temperature=0,maxOutputTokens=8000, top_p=0.9, top_k=5, safety_settings=safety_settings)"
   ]
  },
  {
   "cell_type": "markdown",
   "metadata": {},
   "source": [
    "**Proximus News report**"
   ]
  },
  {
   "cell_type": "code",
   "execution_count": 1648,
   "metadata": {},
   "outputs": [],
   "source": [
    "contents = f\"\"\"\n",
    "Write a report about {COMPANY}.\n",
    "\n",
    "The report should contain an extensive overview of the most important news facts of the last 2 weeks. \n",
    "\n",
    "The report should be written in this style example:\n",
    "\n",
    "Use this JSON schema:\n",
    "\n",
    "Proximus_news = {{'subject':str, 'overview':str, 'source':str}}\n",
    "Return: list[Proximus_news]\n",
    "\"\"\"\n",
    "\n",
    "response = client.models.generate_content(\n",
    "    model=MODEL, config=config, contents=contents)\n",
    "\n"
   ]
  },
  {
   "cell_type": "code",
   "execution_count": 1649,
   "metadata": {},
   "outputs": [
    {
     "name": "stdout",
     "output_type": "stream",
     "text": [
      "JSON data has been successfully written to 'proximus_news.json'.\n"
     ]
    },
    {
     "data": {
      "text/plain": [
       "True"
      ]
     },
     "execution_count": 1649,
     "metadata": {},
     "output_type": "execute_result"
    }
   ],
   "source": [
    "save_json_from_string(response.text, 'proximus_news.json')"
   ]
  },
  {
   "cell_type": "markdown",
   "metadata": {},
   "source": [
    "**Proximus Key Employees and Roles**"
   ]
  },
  {
   "cell_type": "code",
   "execution_count": 1650,
   "metadata": {},
   "outputs": [],
   "source": [
    "contents = f\"\"\"\n",
    "Write a report about {COMPANY}\n",
    "\n",
    "The report should only contain a comprehensive summary of the employees in the company. \n",
    "\n",
    "The report should contain, the complete first name and family name, an email address with this structure \"first name.family name@{COMPANY}.be\" (put it all in lower case), the role that they have within the company and the department that they make part of.\n",
    "\n",
    "Do not include abbreviations in names, and exclude employees whose full first and last names cannot be found.\n",
    "\n",
    "Give me as much grounded names that you can find with your research and put them all in the report.\n",
    "\n",
    "The report should be written in this style example:\n",
    "\n",
    "Use this JSON schema:\n",
    "\n",
    "Proximus_employees = {{'first_name':str, 'family_name':str, 'role':str, 'department':str, 'email_address':str}}\n",
    "Return: list[Proximus_employees]\n",
    "\"\"\"\n",
    "\n",
    "response = client.models.generate_content(\n",
    "    model=MODEL, config=config, contents=contents)\n"
   ]
  },
  {
   "cell_type": "code",
   "execution_count": 1651,
   "metadata": {},
   "outputs": [
    {
     "name": "stdout",
     "output_type": "stream",
     "text": [
      "JSON data has been successfully written to 'proximus_employees.json'.\n"
     ]
    },
    {
     "data": {
      "text/plain": [
       "True"
      ]
     },
     "execution_count": 1651,
     "metadata": {},
     "output_type": "execute_result"
    }
   ],
   "source": [
    "save_json_from_string(response.text, 'proximus_employees.json')"
   ]
  },
  {
   "cell_type": "markdown",
   "metadata": {},
   "source": [
    "**Proximus Departments**"
   ]
  },
  {
   "cell_type": "code",
   "execution_count": 1652,
   "metadata": {},
   "outputs": [],
   "source": [
    "contents = f\"\"\"\n",
    "\n",
    "Write a report about {COMPANY}\n",
    "\n",
    "The report should exclusively provide a detailed summary of the company's departments and their respective subdivisions, if any.\n",
    "\n",
    "Include in the report the full address where the headquarter of the provider is located, the main phone number and vat number.\n",
    "\n",
    "Do not include abbreviations in the report.\n",
    "\n",
    "Provide a detailed list, specifying only verified and public information. Do not include speculative or incomplete details.\n",
    "\n",
    "The report should be written in this style example:\n",
    "\n",
    "Use this JSON schema:\n",
    "\n",
    "Proximus_departments = {{'department':str, 'subdivision':list[str], 'address':str, 'phone':str, 'vat':str}}\n",
    "Return: list[Proximus_departments]\n",
    "\"\"\"\n",
    "\n",
    "response = client.models.generate_content(\n",
    "    model=MODEL, config=config, contents=contents)\n"
   ]
  },
  {
   "cell_type": "code",
   "execution_count": 1653,
   "metadata": {},
   "outputs": [
    {
     "name": "stdout",
     "output_type": "stream",
     "text": [
      "JSON data has been successfully written to 'proximus_departments.json'.\n"
     ]
    },
    {
     "data": {
      "text/plain": [
       "True"
      ]
     },
     "execution_count": 1653,
     "metadata": {},
     "output_type": "execute_result"
    }
   ],
   "source": [
    "save_json_from_string(response.text, 'proximus_departments.json')"
   ]
  },
  {
   "cell_type": "markdown",
   "metadata": {},
   "source": [
    "**Proximus Colors**"
   ]
  },
  {
   "cell_type": "code",
   "execution_count": 1654,
   "metadata": {},
   "outputs": [],
   "source": [
    "contents = f\"\"\"\n",
    "\n",
    "Write a report about {COMPANY}\n",
    "\n",
    "The report should exclusively provide the main colors of Company's branding, including any official color codes such as HEX or RGB. Focus on the primary colors used in the company's logo and website.\n",
    "\n",
    "Do not include speculative colors and focus only on the main ones.\n",
    "\n",
    "The report should be written in this style example:\n",
    "\n",
    "Use this JSON schema:\n",
    "\n",
    "company_colors = {{'color_name_1':str, 'hex_code_1':str, 'rgb_code_1':list[int]}},{{'color_name_2':str,'hex_code_2':str,'rgb_code_2':list[int]}}\n",
    "Return: list[company_colors]\n",
    "\n",
    "Thoroughly plan your work in detail and steps, but avoid discussing it. Do not add any additional comments after finishing the report.\n",
    "\"\"\"\n",
    "\n",
    "\n",
    "response = client.models.generate_content(\n",
    "    model=MODEL, config=config, contents=contents)\n",
    "\n"
   ]
  },
  {
   "cell_type": "code",
   "execution_count": 1655,
   "metadata": {},
   "outputs": [
    {
     "name": "stdout",
     "output_type": "stream",
     "text": [
      "JSON data has been successfully written to 'proximus_colors.json'.\n"
     ]
    },
    {
     "data": {
      "text/plain": [
       "True"
      ]
     },
     "execution_count": 1655,
     "metadata": {},
     "output_type": "execute_result"
    }
   ],
   "source": [
    "save_json_from_string(response.text, 'proximus_colors.json')"
   ]
  },
  {
   "cell_type": "markdown",
   "metadata": {},
   "source": [
    "**Proximus Service providers**"
   ]
  },
  {
   "cell_type": "markdown",
   "metadata": {},
   "source": [
    "Picking a particular type of service provider"
   ]
  },
  {
   "cell_type": "code",
   "execution_count": 1656,
   "metadata": {},
   "outputs": [],
   "source": [
    "type_service = [\n",
    "    \"Infrastructure and maintenance\",\n",
    "    \"Technology and equipment supply\",\n",
    "    \"Network and connectivity services\",\n",
    "    \"Customer support\",\n",
    "    \"Billing and payments\",\n",
    "    \"Cloud and data hosting\",\n",
    "    \"Marketing and advertising\",\n",
    "    \"Consulting\",\n",
    "    \"Research and innovation\"\n",
    "]"
   ]
  },
  {
   "cell_type": "code",
   "execution_count": 1657,
   "metadata": {},
   "outputs": [
    {
     "name": "stdout",
     "output_type": "stream",
     "text": [
      "Consulting\n"
     ]
    }
   ],
   "source": [
    "random_service=rd.choice(type_service)\n",
    "print(random_service)"
   ]
  },
  {
   "cell_type": "code",
   "execution_count": 1658,
   "metadata": {},
   "outputs": [],
   "source": [
    "contents = f\"\"\"\n",
    "\n",
    "Write a report about {COMPANY}\n",
    "\n",
    "List the main Belgian service providers of the company. Include any known suppliers, contractors, technology service providers, or any other third-party companies that the company relies on. \n",
    "Provide the names of the service providers, type and description of the services they provide to the company. Also include the providers homepage in the report, if you can't find it, don not include the provider in the report. \n",
    "\n",
    "The service provider needs to be active in delivering {random_service} to {COMPANY}\n",
    "\n",
    "The report should be written in this style example:\n",
    "\n",
    "Use this JSON schema:\n",
    "\n",
    "company_service = {{\"provider\":str,\"service\":str,\"type\":str,\"provider_homepage\":str]}}\n",
    "Return: list[company_service]\n",
    "\"\"\"\n",
    "\n",
    "response = client.models.generate_content(\n",
    "    model=MODEL, config=config, contents=contents)\n",
    "\n"
   ]
  },
  {
   "cell_type": "code",
   "execution_count": 1659,
   "metadata": {},
   "outputs": [
    {
     "name": "stdout",
     "output_type": "stream",
     "text": [
      "JSON data has been successfully written to 'proximus_providers.json'.\n"
     ]
    },
    {
     "data": {
      "text/plain": [
       "True"
      ]
     },
     "execution_count": 1659,
     "metadata": {},
     "output_type": "execute_result"
    }
   ],
   "source": [
    "save_json_from_string(response.text, 'proximus_providers.json')"
   ]
  },
  {
   "cell_type": "markdown",
   "metadata": {},
   "source": [
    "**Merge the proximus data**"
   ]
  },
  {
   "cell_type": "code",
   "execution_count": 1660,
   "metadata": {},
   "outputs": [
    {
     "name": "stdout",
     "output_type": "stream",
     "text": [
      "Data successfully merged into blended_data_proximus.json\n"
     ]
    }
   ],
   "source": [
    "\n",
    "# File paths for input and output\n",
    "input_files = {\n",
    "    \"colors\": \"proximus_colors.json\",\n",
    "    \"departments\": \"proximus_departments.json\",\n",
    "    \"employees\": \"proximus_employees.json\",\n",
    "    \"news\": \"proximus_news.json\",\n",
    "    \"providers\": \"proximus_providers.json\"\n",
    "}\n",
    "output_file = \"blended_data_proximus.json\"\n",
    "\n",
    "# Combine all data into one dictionary\n",
    "blended_data = {}\n",
    "\n",
    "for key, file_path in input_files.items():\n",
    "    with open(file_path, 'r') as f:\n",
    "        blended_data[key] = json.load(f)\n",
    "\n",
    "# Write the combined data to a new JSON file\n",
    "with open(output_file, 'w') as f:\n",
    "    json.dump(blended_data, f, indent=4)\n",
    "\n",
    "print(f\"Data successfully merged into {output_file}\")"
   ]
  },
  {
   "cell_type": "markdown",
   "metadata": {},
   "source": [
    "**Providers info** (Proceed with one Provider)"
   ]
  },
  {
   "cell_type": "code",
   "execution_count": 1661,
   "metadata": {},
   "outputs": [],
   "source": [
    "# Load JSON data from the file\n",
    "with open(\"proximus_providers.json\", \"r\") as file:\n",
    "    providers = json.load(file)"
   ]
  },
  {
   "cell_type": "code",
   "execution_count": 1662,
   "metadata": {},
   "outputs": [],
   "source": [
    "# Function to pick a random provider\n",
    "def pick_random_provider(providers):\n",
    "    if not providers:\n",
    "        return None  # Handle the case where the list is empty\n",
    "    return rd.choice(providers)"
   ]
  },
  {
   "cell_type": "code",
   "execution_count": 1663,
   "metadata": {},
   "outputs": [
    {
     "name": "stdout",
     "output_type": "stream",
     "text": [
      "{'provider': 'Proximus Business Partners', 'service': 'Certified local experts in ICT and telecom, offering tailored solutions for SMEs, including analysis of needs and development of personalized solutions for internet, telephony, mobile, and cybersecurity.', 'type': 'Consulting and IT Services', 'provider_homepage': 'https://www.proximus.be/'}\n"
     ]
    }
   ],
   "source": [
    "provider = pick_random_provider(providers)\n",
    "\n",
    "print(provider)"
   ]
  },
  {
   "cell_type": "code",
   "execution_count": 1664,
   "metadata": {},
   "outputs": [
    {
     "name": "stdout",
     "output_type": "stream",
     "text": [
      "Data saved to provider_general_data.json\n"
     ]
    }
   ],
   "source": [
    "provider = [provider]\n",
    "file_path = 'provider_general_data.json'\n",
    "\n",
    "# Write the data to the JSON file\n",
    "with open(file_path, 'w') as json_file:\n",
    "    json.dump(provider, json_file, indent=4)\n",
    "\n",
    "print(f'Data saved to {file_path}')"
   ]
  },
  {
   "cell_type": "markdown",
   "metadata": {},
   "source": [
    "**Provider Key Employees and Roles**"
   ]
  },
  {
   "cell_type": "code",
   "execution_count": 1665,
   "metadata": {},
   "outputs": [],
   "source": [
    "contents = f\"\"\"\n",
    "    Write a report about company {provider}. This company is a provider of {COMPANY}\n",
    "\n",
    "    The report should only contain a comprehensive summary of the employees in the company.\n",
    "\n",
    "    The report should contain, the complete first name and family name, an email address with this structure \"first name.family name@{provider}.be\" (put it all in lower case), the role that they have within the company and the department that they make part of.\n",
    "\n",
    "    Do not include abbreviations in names, and exclude employees whose full first and last names cannot be found. Make sure the first and the last name contains more then 2 characters. Do not include employees of {COMPANY} in the report.\n",
    "\n",
    "    Give me as much grounded names that you can find with your research and put them all in the report.\n",
    "\n",
    "    The report should be written in this style example:\n",
    "\n",
    "    Use this JSON schema:\n",
    "\n",
    "    Employees = {{'provider': str, 'first_name': str, 'family_name': str, 'role': str, 'department': str, 'email_address':str}}\n",
    "    Return: list[Employees]\n",
    "    \"\"\"\n",
    "    \n",
    "response = client.models.generate_content(\n",
    "    model=MODEL, config=config, contents=contents)\n",
    "\n",
    "\n",
    "    "
   ]
  },
  {
   "cell_type": "code",
   "execution_count": 1666,
   "metadata": {},
   "outputs": [
    {
     "name": "stdout",
     "output_type": "stream",
     "text": [
      "JSON data has been successfully written to 'provider_employees.json'.\n"
     ]
    },
    {
     "data": {
      "text/plain": [
       "True"
      ]
     },
     "execution_count": 1666,
     "metadata": {},
     "output_type": "execute_result"
    }
   ],
   "source": [
    "save_json_from_string(response.text, 'provider_employees.json')"
   ]
  },
  {
   "cell_type": "markdown",
   "metadata": {},
   "source": [
    "**Provider Colors**"
   ]
  },
  {
   "cell_type": "code",
   "execution_count": 1667,
   "metadata": {},
   "outputs": [],
   "source": [
    "\n",
    "contents = f\"\"\"\n",
    "\n",
    "    Write a report about company {provider}. This company is a provider of {COMPANY}\n",
    "\n",
    "    The report should exclusively provide the main colors of Company's branding, including any official color codes such as HEX or RGB. Focus on the primary colors used in the company's logo and website.\n",
    "\n",
    "    Do not include speculative colors and focus only on the main ones.\n",
    "\n",
    "    The report should be written in this style example:\n",
    "\n",
    "    Use this JSON schema:\n",
    "\n",
    "    company_colors = {{'provider':str,'color_name_1':str, 'hex_code_1':str, 'rgb_code_1':list[int]}},{{'color_name_2':str,'hex_code_2':str,'rgb_code_2':list[int]}}\n",
    "    Return: list[company_colors]\n",
    "\n",
    "    Thoroughly plan your work in detail and steps, but avoid discussing it. Do not add any additional comments after finishing the report.\n",
    "    \"\"\"\n",
    "\n",
    "\n",
    "response = client.models.generate_content(\n",
    "        model=MODEL, config=config, contents=contents)\n",
    "\n"
   ]
  },
  {
   "cell_type": "code",
   "execution_count": 1668,
   "metadata": {},
   "outputs": [
    {
     "name": "stdout",
     "output_type": "stream",
     "text": [
      "JSON data has been successfully written to 'provider_color.json'.\n"
     ]
    },
    {
     "data": {
      "text/plain": [
       "True"
      ]
     },
     "execution_count": 1668,
     "metadata": {},
     "output_type": "execute_result"
    }
   ],
   "source": [
    "save_json_from_string(response.text, 'provider_color.json')"
   ]
  },
  {
   "cell_type": "markdown",
   "metadata": {},
   "source": [
    "**Provider Departments**"
   ]
  },
  {
   "cell_type": "code",
   "execution_count": 1669,
   "metadata": {},
   "outputs": [],
   "source": [
    "contents = f\"\"\"\n",
    "\n",
    "Write a report about company {provider}. This company is a provider of {COMPANY}\n",
    "\n",
    "The report should exclusively provide a detailed summary of the company's departments and their respective subdivisions, if any.\n",
    "\n",
    "Include in the report the full address where the headquarter of the provider is located, the main phone number and vat number.\n",
    "\n",
    "Do not include abbreviations in the report.\n",
    "\n",
    "Provide a detailed list, specifying only verified and public information. Do not include speculative or incomplete details.\n",
    "\n",
    "The report should be written in this style example:\n",
    "\n",
    "Use this JSON schema:\n",
    "\n",
    "Provider_departments = {{'provider':str,'department':str, 'subdivision':list[str],'address':str, 'phone':str, 'vat':str}}\n",
    "Return: list[Provider_departments]\n",
    "\"\"\"\n",
    "\n",
    "response = client.models.generate_content(\n",
    "    model=MODEL, config=config, contents=contents)\n",
    "\n"
   ]
  },
  {
   "cell_type": "code",
   "execution_count": 1670,
   "metadata": {},
   "outputs": [
    {
     "name": "stdout",
     "output_type": "stream",
     "text": [
      "JSON data has been successfully written to 'provider_departments.json'.\n"
     ]
    },
    {
     "data": {
      "text/plain": [
       "True"
      ]
     },
     "execution_count": 1670,
     "metadata": {},
     "output_type": "execute_result"
    }
   ],
   "source": [
    "save_json_from_string(response.text, 'provider_departments.json')"
   ]
  },
  {
   "cell_type": "markdown",
   "metadata": {},
   "source": [
    "**Blend Data from Json files Providers**"
   ]
  },
  {
   "cell_type": "code",
   "execution_count": 1671,
   "metadata": {},
   "outputs": [
    {
     "name": "stdout",
     "output_type": "stream",
     "text": [
      "Current working directory: c:\\Users\\Rik\\Desktop\\Proximus-Case-Team-4\\Rik\n",
      "Data loaded from provider_general_data.json (Type: <class 'list'>): [{'provider': 'Proximus Business Partners', 'service': 'Certified local experts in ICT and telecom, offering tailored solutions for SMEs, including analysis of needs and development of personalized solutions for internet, telephony, mobile, and cybersecurity.', 'type': 'Consulting and IT Services', 'provider_homepage': 'https://www.proximus.be/'}]\n",
      "Data loaded from provider_employees.json (Type: <class 'list'>): [{'provider': 'Proximus Business Partners', 'first_name': 'Guillaume', 'family_name': 'Boutin', 'role': 'Chief Executive Officer', 'department': 'Leadership', 'email_address': 'guillaume.boutin@proximusbusinesspartners.be'}, {'provider': 'Proximus Business Partners', 'first_name': 'Mark', 'family_name': 'Reid', 'role': 'Finance Lead', 'department': 'Finance', 'email_address': 'mark.reid@proximusbusinesspartners.be'}, {'provider': 'Proximus Business Partners', 'first_name': 'Anne-Sophie', 'family_name': 'Lotgering', 'role': 'Enterprise IT Services & Segments Lead', 'department': 'Enterprise IT', 'email_address': 'anne-sophie.lotgering@proximusbusinesspartners.be'}, {'provider': 'Proximus Business Partners', 'first_name': 'Antonietta', 'family_name': 'Mastroianni', 'role': 'Digital & IT Lead', 'department': 'Digital & IT', 'email_address': 'antonietta.mastroianni@proximusbusinesspartners.be'}, {'provider': 'Proximus Business Partners', 'first_name': 'Geert', 'family_name': 'Standaert', 'role': 'Network & Wholesale Lead', 'department': 'Network & Wholesale', 'email_address': 'geert.standaert@proximusbusinesspartners.be'}, {'provider': 'Proximus Business Partners', 'first_name': 'Dirk', 'family_name': 'Lybaert', 'role': 'Secretary General', 'department': 'General Management', 'email_address': 'dirk.lybaert@proximusbusinesspartners.be'}, {'provider': 'Proximus Business Partners', 'first_name': 'Stefaan', 'family_name': 'De Clerck', 'role': 'Chairman of the Board', 'department': 'Board of Directors', 'email_address': 'stefaan.declerck@proximusbusinesspartners.be'}, {'provider': 'Proximus Business Partners', 'first_name': 'Catherine', 'family_name': 'Rutten', 'role': 'Independent Director', 'department': 'Board of Directors', 'email_address': 'catherine.rutten@proximusbusinesspartners.be'}, {'provider': 'Proximus Business Partners', 'first_name': 'Joachim', 'family_name': 'Sonne', 'role': 'Independent Director', 'department': 'Board of Directors', 'email_address': 'joachim.sonne@proximusbusinesspartners.be'}, {'provider': 'Proximus Business Partners', 'first_name': 'Martin', 'family_name': 'De Prycker', 'role': 'Independent Director', 'department': 'Board of Directors', 'email_address': 'martin.deprycker@proximusbusinesspartners.be'}, {'provider': 'Proximus Business Partners', 'first_name': 'Catherine', 'family_name': 'Vandenborre', 'role': 'Independent Director', 'department': 'Board of Directors', 'email_address': 'catherine.vandenborre@proximusbusinesspartners.be'}, {'provider': 'Proximus Business Partners', 'first_name': 'Cécile', 'family_name': 'Coune', 'role': 'Independent Director', 'department': 'Board of Directors', 'email_address': 'cecile.coune@proximusbusinesspartners.be'}, {'provider': 'Proximus Business Partners', 'first_name': 'Béatrice', 'family_name': 'De Mahieu', 'role': 'Director', 'department': 'Board of Directors', 'email_address': 'beatrice.demahieu@proximusbusinesspartners.be'}, {'provider': 'Proximus Business Partners', 'first_name': 'Audrey', 'family_name': 'Hanard', 'role': 'Director', 'department': 'Board of Directors', 'email_address': 'audrey.hanard@proximusbusinesspartners.be'}, {'provider': 'Proximus Business Partners', 'first_name': 'Claire', 'family_name': 'Tillekaerts', 'role': 'Director', 'department': 'Board of Directors', 'email_address': 'claire.tillekaerts@proximusbusinesspartners.be'}, {'provider': 'Proximus Business Partners', 'first_name': 'Ibrahim', 'family_name': 'Ouassari', 'role': 'Director', 'department': 'Board of Directors', 'email_address': 'ibrahim.ouassari@proximusbusinesspartners.be'}, {'provider': 'Proximus Business Partners', 'first_name': 'Karel', 'family_name': 'De Gucht', 'role': 'Director', 'department': 'Board of Directors', 'email_address': 'karel.degucht@proximusbusinesspartners.be'}, {'provider': 'Proximus Business Partners', 'first_name': 'Renaud', 'family_name': 'Tilmans', 'role': 'Chief Customer Operations Officer', 'department': 'Customer Operations', 'email_address': 'renaud.tilmans@proximusbusinesspartners.be'}, {'provider': 'Proximus Business Partners', 'first_name': 'Nancy', 'family_name': 'Goossens', 'role': 'Director of Investor Relations', 'department': 'Investor Relations', 'email_address': 'nancy.goossens@proximusbusinesspartners.be'}, {'provider': 'Proximus Business Partners', 'first_name': 'Jan', 'family_name': 'Van Acoleyen', 'role': 'Human Capital Lead', 'department': 'Human Resources', 'email_address': 'jan.vanacoleyen@proximusbusinesspartners.be'}, {'provider': 'Proximus Business Partners', 'first_name': 'Alex', 'family_name': 'Lorette', 'role': 'Head of Telecom Solutions Department', 'department': 'Telecom Solutions', 'email_address': 'alex.lorette@proximusbusinesspartners.be'}, {'provider': 'Proximus Business Partners', 'first_name': 'Peter', 'family_name': 'Van den broeck', 'role': 'Account Manager', 'department': 'Sales', 'email_address': 'peter.vandenbroeck@proximusbusinesspartners.be'}, {'provider': 'Proximus Business Partners', 'first_name': 'Stijn', 'family_name': 'Bogaerts', 'role': 'Smart Building & Retail Expert', 'department': 'Smart Building & Retail', 'email_address': 'stijn.bogaerts@proximusbusinesspartners.be'}]\n",
      "Data loaded from provider_color.json (Type: <class 'list'>): [{'provider': 'Proximus Business Partners', 'color_name_1': 'Primary Purple', 'hex_code_1': '#5C2D91', 'rgb_code_1': [92, 45, 145], 'color_name_2': 'White', 'hex_code_2': '#FFFFFF', 'rgb_code_2': [255, 255, 255]}, {'color_name_1': 'Secondary Purple', 'hex_code_1': '#7D57A7', 'rgb_code_1': [125, 87, 167]}, {'color_name_1': 'Black', 'hex_code_1': '#000000', 'rgb_code_1': [0, 0, 0]}]\n",
      "Data loaded from provider_departments.json (Type: <class 'list'>): [{'provider': 'Proximus Business Partners', 'department': \"CEO's Department\", 'subdivision': [], 'address': 'Koning Albert II-laan 27, B-1030 Brussels, Belgium', 'phone': '+32 2 205 4000', 'vat': 'BE 0202.239.951'}, {'provider': 'Proximus Business Partners', 'department': 'Consumer Market', 'subdivision': [], 'address': 'Koning Albert II-laan 27, B-1030 Brussels, Belgium', 'phone': '+32 2 205 4000', 'vat': 'BE 0202.239.951'}, {'provider': 'Proximus Business Partners', 'department': 'Enterprise Market', 'subdivision': [], 'address': 'Koning Albert II-laan 27, B-1030 Brussels, Belgium', 'phone': '+32 2 205 4000', 'vat': 'BE 0202.239.951'}, {'provider': 'Proximus Business Partners', 'department': 'Corporate Affairs', 'subdivision': [], 'address': 'Koning Albert II-laan 27, B-1030 Brussels, Belgium', 'phone': '+32 2 205 4000', 'vat': 'BE 0202.239.951'}, {'provider': 'Proximus Business Partners', 'department': 'Network & Wholesale', 'subdivision': [], 'address': 'Koning Albert II-laan 27, B-1030 Brussels, Belgium', 'phone': '+32 2 205 4000', 'vat': 'BE 0202.239.951'}, {'provider': 'Proximus Business Partners', 'department': 'Customer Operations', 'subdivision': [], 'address': 'Koning Albert II-laan 27, B-1030 Brussels, Belgium', 'phone': '+32 2 205 4000', 'vat': 'BE 0202.239.951'}, {'provider': 'Proximus Business Partners', 'department': 'Human Capital', 'subdivision': [], 'address': 'Koning Albert II-laan 27, B-1030 Brussels, Belgium', 'phone': '+32 2 205 4000', 'vat': 'BE 0202.239.951'}, {'provider': 'Proximus Business Partners', 'department': 'Digital & IT', 'subdivision': [], 'address': 'Koning Albert II-laan 27, B-1030 Brussels, Belgium', 'phone': '+32 2 205 4000', 'vat': 'BE 0202.239.951'}, {'provider': 'Proximus Business Partners', 'department': 'Finance', 'subdivision': [], 'address': 'Koning Albert II-laan 27, B-1030 Brussels, Belgium', 'phone': '+32 2 205 4000', 'vat': 'BE 0202.239.951'}]\n",
      "Blended Data: {\n",
      "    \"Proximus Business Partners\": {\n",
      "        \"general\": {\n",
      "            \"provider\": \"Proximus Business Partners\",\n",
      "            \"service\": \"Certified local experts in ICT and telecom, offering tailored solutions for SMEs, including analysis of needs and development of personalized solutions for internet, telephony, mobile, and cybersecurity.\",\n",
      "            \"type\": \"Consulting and IT Services\",\n",
      "            \"provider_homepage\": \"https://www.proximus.be/\"\n",
      "        },\n",
      "        \"employee\": [\n",
      "            {\n",
      "                \"provider\": \"Proximus Business Partners\",\n",
      "                \"first_name\": \"Guillaume\",\n",
      "                \"family_name\": \"Boutin\",\n",
      "                \"role\": \"Chief Executive Officer\",\n",
      "                \"department\": \"Leadership\",\n",
      "                \"email_address\": \"guillaume.boutin@proximusbusinesspartners.be\"\n",
      "            },\n",
      "            {\n",
      "                \"provider\": \"Proximus Business Partners\",\n",
      "                \"first_name\": \"Mark\",\n",
      "                \"family_name\": \"Reid\",\n",
      "                \"role\": \"Finance Lead\",\n",
      "                \"department\": \"Finance\",\n",
      "                \"email_address\": \"mark.reid@proximusbusinesspartners.be\"\n",
      "            },\n",
      "            {\n",
      "                \"provider\": \"Proximus Business Partners\",\n",
      "                \"first_name\": \"Anne-Sophie\",\n",
      "                \"family_name\": \"Lotgering\",\n",
      "                \"role\": \"Enterprise IT Services & Segments Lead\",\n",
      "                \"department\": \"Enterprise IT\",\n",
      "                \"email_address\": \"anne-sophie.lotgering@proximusbusinesspartners.be\"\n",
      "            },\n",
      "            {\n",
      "                \"provider\": \"Proximus Business Partners\",\n",
      "                \"first_name\": \"Antonietta\",\n",
      "                \"family_name\": \"Mastroianni\",\n",
      "                \"role\": \"Digital & IT Lead\",\n",
      "                \"department\": \"Digital & IT\",\n",
      "                \"email_address\": \"antonietta.mastroianni@proximusbusinesspartners.be\"\n",
      "            },\n",
      "            {\n",
      "                \"provider\": \"Proximus Business Partners\",\n",
      "                \"first_name\": \"Geert\",\n",
      "                \"family_name\": \"Standaert\",\n",
      "                \"role\": \"Network & Wholesale Lead\",\n",
      "                \"department\": \"Network & Wholesale\",\n",
      "                \"email_address\": \"geert.standaert@proximusbusinesspartners.be\"\n",
      "            },\n",
      "            {\n",
      "                \"provider\": \"Proximus Business Partners\",\n",
      "                \"first_name\": \"Dirk\",\n",
      "                \"family_name\": \"Lybaert\",\n",
      "                \"role\": \"Secretary General\",\n",
      "                \"department\": \"General Management\",\n",
      "                \"email_address\": \"dirk.lybaert@proximusbusinesspartners.be\"\n",
      "            },\n",
      "            {\n",
      "                \"provider\": \"Proximus Business Partners\",\n",
      "                \"first_name\": \"Stefaan\",\n",
      "                \"family_name\": \"De Clerck\",\n",
      "                \"role\": \"Chairman of the Board\",\n",
      "                \"department\": \"Board of Directors\",\n",
      "                \"email_address\": \"stefaan.declerck@proximusbusinesspartners.be\"\n",
      "            },\n",
      "            {\n",
      "                \"provider\": \"Proximus Business Partners\",\n",
      "                \"first_name\": \"Catherine\",\n",
      "                \"family_name\": \"Rutten\",\n",
      "                \"role\": \"Independent Director\",\n",
      "                \"department\": \"Board of Directors\",\n",
      "                \"email_address\": \"catherine.rutten@proximusbusinesspartners.be\"\n",
      "            },\n",
      "            {\n",
      "                \"provider\": \"Proximus Business Partners\",\n",
      "                \"first_name\": \"Joachim\",\n",
      "                \"family_name\": \"Sonne\",\n",
      "                \"role\": \"Independent Director\",\n",
      "                \"department\": \"Board of Directors\",\n",
      "                \"email_address\": \"joachim.sonne@proximusbusinesspartners.be\"\n",
      "            },\n",
      "            {\n",
      "                \"provider\": \"Proximus Business Partners\",\n",
      "                \"first_name\": \"Martin\",\n",
      "                \"family_name\": \"De Prycker\",\n",
      "                \"role\": \"Independent Director\",\n",
      "                \"department\": \"Board of Directors\",\n",
      "                \"email_address\": \"martin.deprycker@proximusbusinesspartners.be\"\n",
      "            },\n",
      "            {\n",
      "                \"provider\": \"Proximus Business Partners\",\n",
      "                \"first_name\": \"Catherine\",\n",
      "                \"family_name\": \"Vandenborre\",\n",
      "                \"role\": \"Independent Director\",\n",
      "                \"department\": \"Board of Directors\",\n",
      "                \"email_address\": \"catherine.vandenborre@proximusbusinesspartners.be\"\n",
      "            },\n",
      "            {\n",
      "                \"provider\": \"Proximus Business Partners\",\n",
      "                \"first_name\": \"C\\u00e9cile\",\n",
      "                \"family_name\": \"Coune\",\n",
      "                \"role\": \"Independent Director\",\n",
      "                \"department\": \"Board of Directors\",\n",
      "                \"email_address\": \"cecile.coune@proximusbusinesspartners.be\"\n",
      "            },\n",
      "            {\n",
      "                \"provider\": \"Proximus Business Partners\",\n",
      "                \"first_name\": \"B\\u00e9atrice\",\n",
      "                \"family_name\": \"De Mahieu\",\n",
      "                \"role\": \"Director\",\n",
      "                \"department\": \"Board of Directors\",\n",
      "                \"email_address\": \"beatrice.demahieu@proximusbusinesspartners.be\"\n",
      "            },\n",
      "            {\n",
      "                \"provider\": \"Proximus Business Partners\",\n",
      "                \"first_name\": \"Audrey\",\n",
      "                \"family_name\": \"Hanard\",\n",
      "                \"role\": \"Director\",\n",
      "                \"department\": \"Board of Directors\",\n",
      "                \"email_address\": \"audrey.hanard@proximusbusinesspartners.be\"\n",
      "            },\n",
      "            {\n",
      "                \"provider\": \"Proximus Business Partners\",\n",
      "                \"first_name\": \"Claire\",\n",
      "                \"family_name\": \"Tillekaerts\",\n",
      "                \"role\": \"Director\",\n",
      "                \"department\": \"Board of Directors\",\n",
      "                \"email_address\": \"claire.tillekaerts@proximusbusinesspartners.be\"\n",
      "            },\n",
      "            {\n",
      "                \"provider\": \"Proximus Business Partners\",\n",
      "                \"first_name\": \"Ibrahim\",\n",
      "                \"family_name\": \"Ouassari\",\n",
      "                \"role\": \"Director\",\n",
      "                \"department\": \"Board of Directors\",\n",
      "                \"email_address\": \"ibrahim.ouassari@proximusbusinesspartners.be\"\n",
      "            },\n",
      "            {\n",
      "                \"provider\": \"Proximus Business Partners\",\n",
      "                \"first_name\": \"Karel\",\n",
      "                \"family_name\": \"De Gucht\",\n",
      "                \"role\": \"Director\",\n",
      "                \"department\": \"Board of Directors\",\n",
      "                \"email_address\": \"karel.degucht@proximusbusinesspartners.be\"\n",
      "            },\n",
      "            {\n",
      "                \"provider\": \"Proximus Business Partners\",\n",
      "                \"first_name\": \"Renaud\",\n",
      "                \"family_name\": \"Tilmans\",\n",
      "                \"role\": \"Chief Customer Operations Officer\",\n",
      "                \"department\": \"Customer Operations\",\n",
      "                \"email_address\": \"renaud.tilmans@proximusbusinesspartners.be\"\n",
      "            },\n",
      "            {\n",
      "                \"provider\": \"Proximus Business Partners\",\n",
      "                \"first_name\": \"Nancy\",\n",
      "                \"family_name\": \"Goossens\",\n",
      "                \"role\": \"Director of Investor Relations\",\n",
      "                \"department\": \"Investor Relations\",\n",
      "                \"email_address\": \"nancy.goossens@proximusbusinesspartners.be\"\n",
      "            },\n",
      "            {\n",
      "                \"provider\": \"Proximus Business Partners\",\n",
      "                \"first_name\": \"Jan\",\n",
      "                \"family_name\": \"Van Acoleyen\",\n",
      "                \"role\": \"Human Capital Lead\",\n",
      "                \"department\": \"Human Resources\",\n",
      "                \"email_address\": \"jan.vanacoleyen@proximusbusinesspartners.be\"\n",
      "            },\n",
      "            {\n",
      "                \"provider\": \"Proximus Business Partners\",\n",
      "                \"first_name\": \"Alex\",\n",
      "                \"family_name\": \"Lorette\",\n",
      "                \"role\": \"Head of Telecom Solutions Department\",\n",
      "                \"department\": \"Telecom Solutions\",\n",
      "                \"email_address\": \"alex.lorette@proximusbusinesspartners.be\"\n",
      "            },\n",
      "            {\n",
      "                \"provider\": \"Proximus Business Partners\",\n",
      "                \"first_name\": \"Peter\",\n",
      "                \"family_name\": \"Van den broeck\",\n",
      "                \"role\": \"Account Manager\",\n",
      "                \"department\": \"Sales\",\n",
      "                \"email_address\": \"peter.vandenbroeck@proximusbusinesspartners.be\"\n",
      "            },\n",
      "            {\n",
      "                \"provider\": \"Proximus Business Partners\",\n",
      "                \"first_name\": \"Stijn\",\n",
      "                \"family_name\": \"Bogaerts\",\n",
      "                \"role\": \"Smart Building & Retail Expert\",\n",
      "                \"department\": \"Smart Building & Retail\",\n",
      "                \"email_address\": \"stijn.bogaerts@proximusbusinesspartners.be\"\n",
      "            }\n",
      "        ],\n",
      "        \"color\": {\n",
      "            \"provider\": \"Proximus Business Partners\",\n",
      "            \"color_name_1\": \"Primary Purple\",\n",
      "            \"hex_code_1\": \"#5C2D91\",\n",
      "            \"rgb_code_1\": [\n",
      "                92,\n",
      "                45,\n",
      "                145\n",
      "            ],\n",
      "            \"color_name_2\": \"White\",\n",
      "            \"hex_code_2\": \"#FFFFFF\",\n",
      "            \"rgb_code_2\": [\n",
      "                255,\n",
      "                255,\n",
      "                255\n",
      "            ]\n",
      "        },\n",
      "        \"departments\": [\n",
      "            {\n",
      "                \"provider\": \"Proximus Business Partners\",\n",
      "                \"department\": \"CEO's Department\",\n",
      "                \"subdivision\": [],\n",
      "                \"address\": \"Koning Albert II-laan 27, B-1030 Brussels, Belgium\",\n",
      "                \"phone\": \"+32 2 205 4000\",\n",
      "                \"vat\": \"BE 0202.239.951\"\n",
      "            },\n",
      "            {\n",
      "                \"provider\": \"Proximus Business Partners\",\n",
      "                \"department\": \"Consumer Market\",\n",
      "                \"subdivision\": [],\n",
      "                \"address\": \"Koning Albert II-laan 27, B-1030 Brussels, Belgium\",\n",
      "                \"phone\": \"+32 2 205 4000\",\n",
      "                \"vat\": \"BE 0202.239.951\"\n",
      "            },\n",
      "            {\n",
      "                \"provider\": \"Proximus Business Partners\",\n",
      "                \"department\": \"Enterprise Market\",\n",
      "                \"subdivision\": [],\n",
      "                \"address\": \"Koning Albert II-laan 27, B-1030 Brussels, Belgium\",\n",
      "                \"phone\": \"+32 2 205 4000\",\n",
      "                \"vat\": \"BE 0202.239.951\"\n",
      "            },\n",
      "            {\n",
      "                \"provider\": \"Proximus Business Partners\",\n",
      "                \"department\": \"Corporate Affairs\",\n",
      "                \"subdivision\": [],\n",
      "                \"address\": \"Koning Albert II-laan 27, B-1030 Brussels, Belgium\",\n",
      "                \"phone\": \"+32 2 205 4000\",\n",
      "                \"vat\": \"BE 0202.239.951\"\n",
      "            },\n",
      "            {\n",
      "                \"provider\": \"Proximus Business Partners\",\n",
      "                \"department\": \"Network & Wholesale\",\n",
      "                \"subdivision\": [],\n",
      "                \"address\": \"Koning Albert II-laan 27, B-1030 Brussels, Belgium\",\n",
      "                \"phone\": \"+32 2 205 4000\",\n",
      "                \"vat\": \"BE 0202.239.951\"\n",
      "            },\n",
      "            {\n",
      "                \"provider\": \"Proximus Business Partners\",\n",
      "                \"department\": \"Customer Operations\",\n",
      "                \"subdivision\": [],\n",
      "                \"address\": \"Koning Albert II-laan 27, B-1030 Brussels, Belgium\",\n",
      "                \"phone\": \"+32 2 205 4000\",\n",
      "                \"vat\": \"BE 0202.239.951\"\n",
      "            },\n",
      "            {\n",
      "                \"provider\": \"Proximus Business Partners\",\n",
      "                \"department\": \"Human Capital\",\n",
      "                \"subdivision\": [],\n",
      "                \"address\": \"Koning Albert II-laan 27, B-1030 Brussels, Belgium\",\n",
      "                \"phone\": \"+32 2 205 4000\",\n",
      "                \"vat\": \"BE 0202.239.951\"\n",
      "            },\n",
      "            {\n",
      "                \"provider\": \"Proximus Business Partners\",\n",
      "                \"department\": \"Digital & IT\",\n",
      "                \"subdivision\": [],\n",
      "                \"address\": \"Koning Albert II-laan 27, B-1030 Brussels, Belgium\",\n",
      "                \"phone\": \"+32 2 205 4000\",\n",
      "                \"vat\": \"BE 0202.239.951\"\n",
      "            },\n",
      "            {\n",
      "                \"provider\": \"Proximus Business Partners\",\n",
      "                \"department\": \"Finance\",\n",
      "                \"subdivision\": [],\n",
      "                \"address\": \"Koning Albert II-laan 27, B-1030 Brussels, Belgium\",\n",
      "                \"phone\": \"+32 2 205 4000\",\n",
      "                \"vat\": \"BE 0202.239.951\"\n",
      "            }\n",
      "        ]\n",
      "    }\n",
      "}\n",
      "Blended data has been saved to 'blended_data_providers.json'\n"
     ]
    }
   ],
   "source": [
    "# Function to read JSON data from a file and debug if necessary\n",
    "def read_json_file(file_path):\n",
    "    with open(file_path, 'r') as file:\n",
    "        try:\n",
    "            data = json.load(file)\n",
    "            # Debugging: Print the entire content of the file to inspect the structure\n",
    "            print(f\"Data loaded from {file_path} (Type: {type(data)}): {data}\")\n",
    "            if not isinstance(data, list):\n",
    "                raise ValueError(f\"Data in {file_path} is not a list as expected.\")\n",
    "            return data\n",
    "        except json.JSONDecodeError:\n",
    "            print(f\"Error decoding JSON from {file_path}\")\n",
    "            return []  # Return an empty list if the JSON is malformed\n",
    "\n",
    "# Function to blend data\n",
    "def blend_data_from_files(general_file, employee_file, color_file, department_file):\n",
    "    # Read data from files\n",
    "    general_data = read_json_file(general_file)\n",
    "    employee_data = read_json_file(employee_file)\n",
    "    color_data = read_json_file(color_file)\n",
    "    department_data = read_json_file(department_file)\n",
    "    \n",
    "    # Merge data\n",
    "    merged_data = {}\n",
    "\n",
    "    # Add general data\n",
    "    for entry in general_data:\n",
    "        try:\n",
    "            provider = entry[\"provider\"]\n",
    "            merged_data[provider] = {\"general\": entry}\n",
    "        except KeyError:\n",
    "            print(\"KeyError: Missing 'provider' in general data entry.\")\n",
    "            continue\n",
    "\n",
    "    # Add employee data\n",
    "    for entry in employee_data:\n",
    "        try:\n",
    "            provider = entry[\"provider\"]\n",
    "            if provider in merged_data:\n",
    "                if \"employee\" not in merged_data[provider]:\n",
    "                    merged_data[provider][\"employee\"] = []\n",
    "                merged_data[provider][\"employee\"].append(entry)\n",
    "        except KeyError:\n",
    "            print(\"KeyError: Missing 'provider' in employee data entry.\")\n",
    "            continue\n",
    "\n",
    "    # Add color data\n",
    "    for entry in color_data:\n",
    "        try:\n",
    "            provider = entry.get(\"provider\", \"Unknown\")\n",
    "            if provider in merged_data:\n",
    "                if \"color\" not in merged_data[provider]:\n",
    "                    merged_data[provider][\"color\"] = {}\n",
    "                merged_data[provider][\"color\"].update(entry)\n",
    "        except KeyError:\n",
    "            print(\"KeyError: Missing 'provider' in color data entry.\")\n",
    "            continue\n",
    "\n",
    "    # Add department data\n",
    "    for entry in department_data:\n",
    "        try:\n",
    "            provider = entry[\"provider\"]\n",
    "            if provider in merged_data:\n",
    "                if \"departments\" not in merged_data[provider]:\n",
    "                    merged_data[provider][\"departments\"] = []\n",
    "                merged_data[provider][\"departments\"].append(entry)\n",
    "        except KeyError:\n",
    "            print(\"KeyError: Missing 'provider' in department data entry.\")\n",
    "            continue\n",
    "\n",
    "    return merged_data\n",
    "\n",
    "# File paths\n",
    "general_file = 'provider_general_data.json'\n",
    "employee_file = 'provider_employees.json'\n",
    "color_file = 'provider_color.json'\n",
    "department_file = 'provider_departments.json'\n",
    "\n",
    "# Debugging: Print current working directory\n",
    "print(\"Current working directory:\", os.getcwd())\n",
    "\n",
    "# Blend the data\n",
    "blended_result = blend_data_from_files(general_file, employee_file, color_file, department_file)\n",
    "\n",
    "# Debugging: Print the blended data to verify\n",
    "print(\"Blended Data:\", json.dumps(blended_result, indent=4))\n",
    "\n",
    "# Write the result to a new JSON file and capture any potential errors\n",
    "try:\n",
    "    with open('blended_data_providers.json', 'w') as output_file:\n",
    "        json.dump(blended_result, output_file, indent=4)\n",
    "    print(\"Blended data has been saved to 'blended_data_providers.json'\")\n",
    "except Exception as e:\n",
    "    print(f\"Error saving file: {e}\")\n",
    "\n",
    "\n",
    "\n",
    "\n"
   ]
  },
  {
   "cell_type": "markdown",
   "metadata": {},
   "source": [
    "**2. SETTING UP THE EMAIL WRITING ASSISTANT** (temperature = 1, tools= ??)"
   ]
  },
  {
   "cell_type": "markdown",
   "metadata": {},
   "source": [
    "**Determine Tone of Email**"
   ]
  },
  {
   "cell_type": "code",
   "execution_count": 1672,
   "metadata": {},
   "outputs": [],
   "source": [
    "email_tones = [\n",
    "    \"Urgent\",\n",
    "    \"Firm\",\n",
    "    \"Action Required\",\n",
    "    \"Time-Sensitive\",\n",
    "    \"Polite\",\n",
    "    \"Friendly\",\n",
    "    \"Professional\",\n",
    "    \"Empathetic\"\n",
    "]"
   ]
  },
  {
   "cell_type": "code",
   "execution_count": 1673,
   "metadata": {},
   "outputs": [],
   "source": [
    "random_tone = rd.choice(email_tones)"
   ]
  },
  {
   "cell_type": "code",
   "execution_count": 1674,
   "metadata": {},
   "outputs": [
    {
     "name": "stdout",
     "output_type": "stream",
     "text": [
      "Friendly\n"
     ]
    }
   ],
   "source": [
    "print(random_tone)"
   ]
  },
  {
   "cell_type": "markdown",
   "metadata": {},
   "source": [
    "**Setting up some dummy data about proximus employees**"
   ]
  },
  {
   "cell_type": "code",
   "execution_count": 1675,
   "metadata": {},
   "outputs": [],
   "source": [
    "proximus_employees = [\n",
    "    {\n",
    "        \"name\": \"Marie Declercq\", \n",
    "        \"email\": \"marie.declercq@proximus.be\", \n",
    "        \"role\": \"Data Analyst\", \n",
    "        \"language\": \"Dutch\", \n",
    "        \"department\": \"Consumer Market\"\n",
    "    },\n",
    "    {\n",
    "        \"name\": \"Luc Vandenberg\", \n",
    "        \"email\": \"luc.vandenberg@proximus.be\", \n",
    "        \"role\": \"Cybersecurity Specialist\", \n",
    "        \"language\": \"Dutch\", \n",
    "        \"department\": \"Network & Wholesale\"\n",
    "    },\n",
    "    {\n",
    "        \"name\": \"Emma Wouters\", \n",
    "        \"email\": \"emma.wouters@proximus.be\", \n",
    "        \"role\": \"Marketing Specialist\", \n",
    "        \"language\": \"English\", \n",
    "        \"department\": \"Enterprise Market\"\n",
    "    },\n",
    "    {\n",
    "        \"name\": \"Jai Mehta\", \n",
    "        \"email\": \"jai.mehta@proximus.be\", \n",
    "        \"role\": \"System Administrator\", \n",
    "        \"language\": \"English\", \n",
    "        \"department\": \"IT Infrastructure\"\n",
    "    },\n",
    "    {\n",
    "        \"name\": \"Guillaume Boutin\", \n",
    "        \"email\": \"guillaume.boutin@proximus.be\", \n",
    "        \"role\": \"Chief Executive Officer\", \n",
    "        \"language\": \"French\", \n",
    "        \"department\": \"Chief Executive Officer's Department\"\n",
    "    }\n",
    "] "
   ]
  },
  {
   "cell_type": "code",
   "execution_count": 1676,
   "metadata": {},
   "outputs": [],
   "source": [
    "random_employee = rd.choice(proximus_employees)"
   ]
  },
  {
   "cell_type": "code",
   "execution_count": 1677,
   "metadata": {},
   "outputs": [
    {
     "name": "stdout",
     "output_type": "stream",
     "text": [
      "{'name': 'Emma Wouters', 'email': 'emma.wouters@proximus.be', 'role': 'Marketing Specialist', 'language': 'English', 'department': 'Enterprise Market'}\n"
     ]
    }
   ],
   "source": [
    "print(random_employee)"
   ]
  },
  {
   "cell_type": "markdown",
   "metadata": {},
   "source": [
    "**Setting Up the Model Configuration**"
   ]
  },
  {
   "cell_type": "code",
   "execution_count": 1678,
   "metadata": {},
   "outputs": [],
   "source": [
    "system_instruction= f\"\"\"You are a skilled copywriter with a knack for creating emails that feel\n",
    "    personal, relevant, urgent and engaging. Your task is to write emails to employees of\n",
    "    {COMPANY} all while maintaining a tone that feels individual, tailored and professional. \n",
    "    \n",
    "    The email should appear to come from a relevant source. Encourage actions like clicking links or downloading attachments with a sense of urgency. Align the email subject with the sender's theme and message.\n",
    "    \n",
    "    Incorporate in your answer only complete emails.\n",
    "    \n",
    "    Everything about the sender address, subject, and email body is focused on the recipient interacting with the link.\n",
    "    \n",
    "    If you encounter any characters as \"/\", \"\\\", \"-\",\"_\" replace them with an empty string. \n",
    "    \n",
    "    The email should have a {random_tone} tone.\n",
    "    \n",
    "    The receiver of the email is {random_employee['name']} and should be in {random_employee['language']}. Address the receiver formal and by his full name.\n",
    "\n",
    "    The email signature should contain the first name, family name, role and the company name of one of the employees of {provider}. \n",
    "\n",
    "    Do not include the link in the body of the email, as it will be implemented separately and placed below the text body, refer to it in the text body where it is placed.\n",
    "\n",
    "    Just plain text in the body, nothing to include anymore.\n",
    "    \n",
    "    Create also a call to action text that is limited to maximum 3 words but do not include it in the body.\n",
    "\n",
    "    The email should be written in this style example:\n",
    "\n",
    "    Use this JSON schema:\n",
    "\n",
    "    Provider_email = {{'subject':str,'addressing_the_receiver':str, 'body':str, 'email_sign_fullname':str, 'email_sign_role':str, 'email_sign_company':str, 'call_to_action_text':str}}\n",
    "    Return: list[Provider_email]\n",
    "        \n",
    "        \n",
    "        \"\"\""
   ]
  },
  {
   "cell_type": "code",
   "execution_count": 1679,
   "metadata": {},
   "outputs": [],
   "source": [
    "config = GenerateContentConfig(system_instruction=system_instruction, temperature=1,maxOutputTokens=8000, top_p=0.9, top_k=40, safety_settings=safety_settings)"
   ]
  },
  {
   "cell_type": "markdown",
   "metadata": {},
   "source": [
    "**Fetch some Provider Context to generate better emails**"
   ]
  },
  {
   "cell_type": "code",
   "execution_count": 1680,
   "metadata": {},
   "outputs": [],
   "source": [
    "# Load JSON data from the file\n",
    "with open(\"provider_employees.json\", \"r\") as file:\n",
    "    provider_employees = json.load(file)"
   ]
  },
  {
   "cell_type": "code",
   "execution_count": 1681,
   "metadata": {},
   "outputs": [],
   "source": [
    "# Load JSON data from the file\n",
    "with open(\"provider_departments.json\", \"r\") as file:\n",
    "    provider_departments = json.load(file)"
   ]
  },
  {
   "cell_type": "markdown",
   "metadata": {},
   "source": [
    "**Fetch a random Date**"
   ]
  },
  {
   "cell_type": "code",
   "execution_count": 1682,
   "metadata": {},
   "outputs": [
    {
     "name": "stdout",
     "output_type": "stream",
     "text": [
      "Random Date: 2025-01-27 15:00:00\n",
      "Day (number): 27\n",
      "Day (name): Monday\n",
      "Month: January\n",
      "Hour: 15\n",
      "Formatted Date: Monday 27 January\n",
      "Formatted Date with Hour: Monday 27 January at 15 hour\n"
     ]
    }
   ],
   "source": [
    "import random as rd\n",
    "from datetime import datetime, timedelta\n",
    "\n",
    "def pick_random_date():\n",
    "    # Define the time range\n",
    "    start_hour = 9  # 9 AM\n",
    "    end_hour = 16   # 4 PM (exclusive)\n",
    "\n",
    "    # Get the current date\n",
    "    today = datetime.now()\n",
    "\n",
    "    # Generate a list of valid weekdays (Monday to Friday) within 7 days\n",
    "    valid_days = []\n",
    "    for i in range(1, 8):\n",
    "        candidate_date = today + timedelta(days=i)\n",
    "        if candidate_date.weekday() < 5:  # 0=Monday, 4=Friday\n",
    "            valid_days.append(candidate_date)\n",
    "\n",
    "    # Pick a random day from the valid weekdays\n",
    "    random_day = rd.choice(valid_days)\n",
    "\n",
    "    # Randomly choose an hour between 9 AM and 4 PM\n",
    "    random_hour = rd.randint(start_hour, end_hour - 1)\n",
    "\n",
    "    # Combine the random day and hour into a datetime object\n",
    "    random_date = random_day.replace(hour=random_hour, minute=0, second=0, microsecond=0)\n",
    "\n",
    "    return random_date\n",
    "\n",
    "# Usage example\n",
    "random_date = pick_random_date()\n",
    "print(\"Random Date:\", random_date)\n",
    "print(\"Day (number):\", random_date.day)\n",
    "print(\"Day (name):\", random_date.strftime('%A'))  # Full day name like 'Monday'\n",
    "print(\"Month:\", random_date.strftime('%B'))  # Full month name like 'December'\n",
    "print(\"Hour:\", random_date.hour)\n",
    "print(\"Formatted Date:\", random_date.strftime('%A %d %B'))  # Example: 'Friday 24 January'\n",
    "print(\"Formatted Date with Hour:\", random_date.strftime('%A %d %B at %H hour'))  # Example: 'Friday 24 January at 11 hour'\n"
   ]
  },
  {
   "cell_type": "code",
   "execution_count": 1683,
   "metadata": {},
   "outputs": [],
   "source": [
    "telecom_employee_events = [\n",
    "    \"Seminars\",\n",
    "    \"Presentations\",\n",
    "    \"Networking Meetings\",\n",
    "    \"Workshops\",\n",
    "    \"Training Sessions\",\n",
    "    \"Industry Roundtables\",\n",
    "    \"Panel Discussions\",\n",
    "    \"Webinars\",\n",
    "    \"Conferences\",\n",
    "    \"Hackathons\",\n",
    "    \"Product Demos\",\n",
    "    \"Leadership Forums\",\n",
    "    \"Strategic Planning Meetings\",\n",
    "    \"Customer Experience Sessions\",\n",
    "    \"Innovation Labs\"\n",
    "]"
   ]
  },
  {
   "cell_type": "code",
   "execution_count": 1684,
   "metadata": {},
   "outputs": [],
   "source": [
    "random_event=rd.choice(telecom_employee_events)"
   ]
  },
  {
   "cell_type": "code",
   "execution_count": 1685,
   "metadata": {},
   "outputs": [
    {
     "name": "stdout",
     "output_type": "stream",
     "text": [
      "Presentations\n"
     ]
    }
   ],
   "source": [
    "print(random_event)"
   ]
  },
  {
   "cell_type": "code",
   "execution_count": 1686,
   "metadata": {},
   "outputs": [],
   "source": [
    "urgent_provider_issues = [\n",
    "    \"Network Outages\",\n",
    "    \"SLA Violations\",\n",
    "    \"Payment Delays\",\n",
    "    \"Contract Breach\",\n",
    "    \"Quality Failures\",\n",
    "    \"Security Risks\",\n",
    "    \"Price Increases\",\n",
    "    \"Missed Deadlines\",\n",
    "    \"Regulatory Issues\",\n",
    "    \"Billing Discrepancies\"\n",
    "]"
   ]
  },
  {
   "cell_type": "code",
   "execution_count": 1687,
   "metadata": {},
   "outputs": [],
   "source": [
    "random_issue=rd.choice(urgent_provider_issues)"
   ]
  },
  {
   "cell_type": "code",
   "execution_count": 1688,
   "metadata": {},
   "outputs": [
    {
     "name": "stdout",
     "output_type": "stream",
     "text": [
      "Security Risks\n"
     ]
    }
   ],
   "source": [
    "print(random_issue)"
   ]
  },
  {
   "cell_type": "markdown",
   "metadata": {},
   "source": [
    "**Emails Provider to Proximus**"
   ]
  },
  {
   "cell_type": "markdown",
   "metadata": {},
   "source": [
    "Service related Emails"
   ]
  },
  {
   "cell_type": "code",
   "execution_count": 1689,
   "metadata": {},
   "outputs": [],
   "source": [
    "contents = f\"\"\"\n",
    "\n",
    "{provider} is a service provider of {COMPANY}. {provider} has these {provider_departments}.\n",
    "\n",
    "Write some tailored emails based on the role of {random_employee['role']} about an urgent matter that needs to be solved related to {COMPANY} concerning a service that {provider} offers. Elaborate about the issue and point out why it needs to be solved as quick as possible.\n",
    "\n",
    "\"\"\"\n",
    "\n",
    "response = client.models.generate_content(\n",
    "    model=MODEL, config=config, contents=contents)\n",
    "\n"
   ]
  },
  {
   "cell_type": "markdown",
   "metadata": {},
   "source": [
    "repairing a string"
   ]
  },
  {
   "cell_type": "code",
   "execution_count": 1690,
   "metadata": {},
   "outputs": [],
   "source": [
    "def repair_json_response(response_text):\n",
    "    \"\"\"\n",
    "    Repairs a potentially malformed JSON string from `response.text`.\n",
    "    Ensures it starts with '[' and ends with ']' after the last complete dictionary.\n",
    "\n",
    "    Args:\n",
    "        response_text (str): The response text containing a potentially malformed JSON string.\n",
    "\n",
    "    Returns:\n",
    "        None: Prints the repaired JSON string.\n",
    "\n",
    "    Raises:\n",
    "        ValueError: If the string cannot be repaired into valid JSON.\n",
    "    \"\"\"\n",
    "    # Remove the unwanted prefix if it exists\n",
    "    if response_text.strip().startswith(\"```json\") or response_text.strip().startswith(\"[```json\"):\n",
    "        response_text = response_text.replace(\"```json\", \"\", 1).replace(\"[```json\", \"\", 1).strip()\n",
    "\n",
    "    # Ensure the string starts with '['\n",
    "    if not response_text.strip().startswith(\"[\"):\n",
    "        response_text = \"[\" + response_text\n",
    "\n",
    "    # Find the last closing brace ('}')\n",
    "    last_brace_index = response_text.rfind(\"}\")\n",
    "    if last_brace_index == -1:\n",
    "        raise ValueError(\"No closing brace found in the response text.\")\n",
    "\n",
    "    # Trim the string up to the last complete dictionary and close the list\n",
    "    repaired_string = response_text[:last_brace_index + 1].rstrip(\", \\n\") + \"]\"\n",
    "    \n",
    "    # Print the repaired JSON string\n",
    "    return repaired_string\n"
   ]
  },
  {
   "cell_type": "code",
   "execution_count": 1691,
   "metadata": {},
   "outputs": [
    {
     "data": {
      "text/plain": [
       "'[\\n  {\\n    \"subject\": \"Immediate Action Required: Cybersecurity Vulnerability\",\\n    \"addressing_the_receiver\": \"Dear Emma Wouters,\",\\n    \"body\": \"Our team has identified a critical vulnerability in our current cybersecurity protocols that could potentially impact our network and data. It\\'s imperative that we address this immediately to safeguard our systems and maintain the trust of our clients. We urge you to review the attached report to understand the scope and implications. This is a time-sensitive issue requiring your prompt attention.\",\\n    \"email_sign_fullname\": \"John Doe\",\\n    \"email_sign_role\": \"ICT Consultant\",\\n    \"email_sign_company\": \"Proximus Business Partners\",\\n    \"call_to_action_text\": \"View Now\"\\n  },\\n  {\\n    \"subject\": \"Urgent: Internet Service Performance Degradation\",\\n    \"addressing_the_receiver\": \"Dear Emma Wouters,\",\\n    \"body\": \"We\\'ve detected a significant performance drop in our internet services that is affecting multiple users and could disrupt essential business operations. To mitigate this, we need to investigate the root cause without delay. Please download the analysis document for details on the issue and follow the recommended steps for assessment. This requires your urgent attention.\",\\n    \"email_sign_fullname\": \"John Doe\",\\n    \"email_sign_role\": \"ICT Consultant\",\\n    \"email_sign_company\": \"Proximus Business Partners\",\\n     \"call_to_action_text\": \"Download Now\"\\n  },\\n    {\\n    \"subject\": \"Critical Alert: Mobile Network Instability\",\\n    \"addressing_the_receiver\": \"Dear Emma Wouters,\",\\n    \"body\": \"We have noticed a concerning instability within our mobile network that needs immediate action. This issue is impacting several key areas and requires a thorough assessment to restore optimal performance. Please find the detailed breakdown of the network instability in the document provided via the link. Your swift response is crucial to resolve this matter.\",\\n     \"email_sign_fullname\": \"John Doe\",\\n    \"email_sign_role\": \"ICT Consultant\",\\n    \"email_sign_company\": \"Proximus Business Partners\",\\n    \"call_to_action_text\": \"Access Here\"\\n  }]'"
      ]
     },
     "execution_count": 1691,
     "metadata": {},
     "output_type": "execute_result"
    }
   ],
   "source": [
    "response_llm = response.text\n",
    "repair_json_response(response_llm)"
   ]
  },
  {
   "cell_type": "code",
   "execution_count": 1692,
   "metadata": {},
   "outputs": [
    {
     "name": "stdout",
     "output_type": "stream",
     "text": [
      "JSON data has been successfully written to 'emails_related_service.json'.\n"
     ]
    },
    {
     "data": {
      "text/plain": [
       "True"
      ]
     },
     "execution_count": 1692,
     "metadata": {},
     "output_type": "execute_result"
    }
   ],
   "source": [
    "save_json_from_string(response_llm, 'emails_related_service.json')"
   ]
  },
  {
   "cell_type": "markdown",
   "metadata": {},
   "source": [
    "Provider - Proximus Employee events"
   ]
  },
  {
   "cell_type": "code",
   "execution_count": 1693,
   "metadata": {},
   "outputs": [],
   "source": [
    "contents = f\"\"\"\n",
    "\n",
    "{provider} is a service provider of {COMPANY}. {provider} has these {provider_departments}.\n",
    "\n",
    "Write some tailored emails based on the role of {random_employee['role']} about an event that is organized by {provider}. \n",
    "\n",
    "The event is {random_event} and is geared towards {random_employee['role']}. The event will take place {random_date.strftime('%A %d %B at %H hour')}\n",
    "\n",
    "Do not include urgent in the subject of the email. State that the spots available are limited and urgent action is required.\n",
    "\n",
    "\"\"\"\n",
    "\n",
    "response = client.models.generate_content(\n",
    "    model=MODEL, config=config, contents=contents)\n",
    "\n"
   ]
  },
  {
   "cell_type": "code",
   "execution_count": 1694,
   "metadata": {},
   "outputs": [
    {
     "data": {
      "text/plain": [
       "'[\\n    {\\n        \"subject\": \"Exclusive Presentation for Marketing Specialists\",\\n        \"addressing_the_receiver\": \"Dear Emma Wouters,\",\\n        \"body\": \"We\\'re excited to invite you to a special presentation tailored specifically for Marketing Specialists. Join us on Monday, January 27th, at 3 PM for insights and strategies that can elevate your marketing efforts. Given the limited spots available, we encourage you to secure your place now by clicking the link below. We look forward to seeing you there!\",\\n        \"email_sign_fullname\": \"Alex Dubois\",\\n        \"email_sign_role\": \"ICT Consultant\",\\n         \"email_sign_company\": \"Proximus Business Partners\",\\n         \"call_to_action_text\": \"Register Now\"\\n    },\\n      {\\n        \"subject\": \"Don\\'t Miss: Marketing Presentation on January 27th\",\\n        \"addressing_the_receiver\": \"Dear Emma Wouters,\",\\n        \"body\":\" A focused presentation for Marketing Specialists is coming up on Monday, January 27th, at 3 PM. This is a unique opportunity to gain new perspectives and tactics to drive your marketing initiatives forward. Given the limited spots, please click the link below to ensure your participation. We anticipate a highly engaging session!\",\\n        \"email_sign_fullname\": \"Alex Dubois\",\\n        \"email_sign_role\": \"ICT Consultant\",\\n        \"email_sign_company\":\"Proximus Business Partners\",\\n        \"call_to_action_text\": \"Join Event\"\\n    },\\n     {\\n        \"subject\": \"Marketing Specialist Presentation: Limited Seats Available\",\\n        \"addressing_the_receiver\": \"Dear Emma Wouters,\",\\n         \"body\": \"We have organized an exclusive presentation for Marketing Specialists on Monday, January 27th at 3 PM. This session is designed to provide valuable insights to help you in your role. Given that seats are limited, we urge you to act quickly and click the link below to confirm your spot. We\\'re confident this presentation will be beneficial to you.\",\\n        \"email_sign_fullname\": \"Alex Dubois\",\\n         \"email_sign_role\":\"ICT Consultant\",\\n        \"email_sign_company\": \"Proximus Business Partners\",\\n        \"call_to_action_text\": \"Claim Spot\"\\n    }]'"
      ]
     },
     "execution_count": 1694,
     "metadata": {},
     "output_type": "execute_result"
    }
   ],
   "source": [
    "response_llm = response.text\n",
    "repair_json_response(response_llm)"
   ]
  },
  {
   "cell_type": "code",
   "execution_count": 1695,
   "metadata": {},
   "outputs": [
    {
     "name": "stdout",
     "output_type": "stream",
     "text": [
      "JSON data has been successfully written to 'emails_employee_event.json'.\n"
     ]
    },
    {
     "data": {
      "text/plain": [
       "True"
      ]
     },
     "execution_count": 1695,
     "metadata": {},
     "output_type": "execute_result"
    }
   ],
   "source": [
    "save_json_from_string(response_llm, 'emails_employee_event.json')"
   ]
  },
  {
   "cell_type": "markdown",
   "metadata": {},
   "source": [
    "Provider issues with Proximus"
   ]
  },
  {
   "cell_type": "code",
   "execution_count": 1696,
   "metadata": {},
   "outputs": [],
   "source": [
    "contents= f\"\"\"\n",
    "\n",
    "{provider} is a service provider of {COMPANY}. {provider} has these {provider_departments}.\n",
    "\n",
    "Write some tailored emails based on the role of {random_employee['role']} about an issue that {provider} have with {COMPANY}. \n",
    "\n",
    "The issue is {random_issue} and is related to {random_employee['role']}. Elaborate about the issue.\n",
    "\n",
    "The issue needs to be solved before {random_date.strftime('%A %d %B at %H hour')}\n",
    "\n",
    "\"\"\"\n",
    "\n",
    "response = client.models.generate_content(\n",
    "    model=MODEL, config=config, contents=contents)\n",
    "\n"
   ]
  },
  {
   "cell_type": "code",
   "execution_count": 1697,
   "metadata": {},
   "outputs": [
    {
     "data": {
      "text/plain": [
       "'[\\n  {\\n    \"subject\": \"Immediate Action Required: Security Risk Assessment for Marketing Campaigns\",\\n    \"addressing_the_receiver\": \"Dear Emma Wouters,\",\\n    \"body\": \"It has come to our attention that there\\'s a potential security vulnerability affecting some of our marketing campaign materials. This could expose sensitive data and compromise our communication efforts. We need your immediate attention to address this issue and ensure the security of our marketing assets. Please access the link below to review the details of the risk and the recommended actions. We must resolve this before Monday, January 27th at 15:00.\",\\n    \"email_sign_fullname\": \"John Doe\",\\n    \"email_sign_role\": \"Consultant\",\\n    \"email_sign_company\": \"Proximus Business Partners\",\\n        \"call_to_action_text\": \"Review Now\"\\n  },\\n    {\\n    \"subject\": \"Urgent: Marketing Security Protocol Update Needed\",\\n    \"addressing_the_receiver\": \"Dear Emma Wouters,\",\\n    \"body\": \"We\\'ve identified a gap in our current marketing security protocols that requires your immediate review. This issue, if not addressed quickly, could pose a significant risk to our campaign integrity and data protection. Please follow the link below for detailed instructions and updated guidelines. Your prompt action is crucial to safeguard our marketing activities, and we need this resolved before Monday, January 27th at 15:00.\",\\n     \"email_sign_fullname\": \"Jane Smith\",\\n    \"email_sign_role\": \"IT Security Analyst\",\\n    \"email_sign_company\": \"Proximus Business Partners\",\\n        \"call_to_action_text\": \"Check Details\"\\n  },\\n  {\\n    \"subject\": \"Critical: Marketing Campaign Security Alert\",\\n     \"addressing_the_receiver\": \"Dear Emma Wouters,\",\\n    \"body\": \"There\\'s an urgent security matter concerning our marketing campaigns that requires your immediate attention. A potential breach could lead to unauthorized access to sensitive campaign information. To understand the scope of the problem and the necessary steps to mitigate it, please use the link provided. Your swift action is vital to prevent any further damage. This needs to be addressed before Monday, January 27th at 15:00.\",\\n     \"email_sign_fullname\": \"Peter Jones\",\\n    \"email_sign_role\": \"Cybersecurity Expert\",\\n    \"email_sign_company\": \"Proximus Business Partners\",\\n        \"call_to_action_text\": \"Act Fast\"\\n  }]'"
      ]
     },
     "execution_count": 1697,
     "metadata": {},
     "output_type": "execute_result"
    }
   ],
   "source": [
    "response_llm = response.text\n",
    "repair_json_response(response_llm)"
   ]
  },
  {
   "cell_type": "code",
   "execution_count": 1698,
   "metadata": {},
   "outputs": [
    {
     "name": "stdout",
     "output_type": "stream",
     "text": [
      "JSON data has been successfully written to 'emails_provider_issue.json'.\n"
     ]
    },
    {
     "data": {
      "text/plain": [
       "True"
      ]
     },
     "execution_count": 1698,
     "metadata": {},
     "output_type": "execute_result"
    }
   ],
   "source": [
    "save_json_from_string(response_llm, 'emails_provider_issue.json')"
   ]
  },
  {
   "cell_type": "markdown",
   "metadata": {},
   "source": [
    "Proximus News"
   ]
  },
  {
   "cell_type": "code",
   "execution_count": 1699,
   "metadata": {},
   "outputs": [],
   "source": [
    "# Load JSON data from the file\n",
    "with open(\"proximus_news.json\", \"r\") as file:\n",
    "    proximus_news = json.load(file)"
   ]
  },
  {
   "cell_type": "code",
   "execution_count": 1700,
   "metadata": {},
   "outputs": [],
   "source": [
    "contents= f\"\"\"\n",
    "\n",
    "{provider} is a service provider of {COMPANY}.\n",
    "\n",
    "Write some tailored emails based on the role of {random_employee['role']} about an business opportunity that {provider} can offer {COMPANY} regarding {proximus_news}.\n",
    "\n",
    "The particular business opportunity is also closely related to {random_employee}\n",
    "\n",
    "\"\"\"\n",
    "\n",
    "response = client.models.generate_content(\n",
    "    model=MODEL, config=config, contents=contents)"
   ]
  },
  {
   "cell_type": "code",
   "execution_count": 1701,
   "metadata": {},
   "outputs": [
    {
     "data": {
      "text/plain": [
       "'[\\n  {\\n    \"subject\": \"Enhance Proximus\\' Market Presence with Tailored ICT Solutions\",\\n    \"addressing_the_receiver\": \"Dear Emma Wouters,\",\\n    \"body\": \"Given Proximus\\' recent refinancing and the strategic moves regarding its headquarters, there\\'s a significant opportunity to strengthen your market position. Our certified local experts at Proximus Business Partners specialize in creating tailored ICT solutions for SMEs, and we believe our services align perfectly with your current needs. We can analyze your requirements and develop personalized solutions for internet, telephony, mobile, and cybersecurity to ensure Proximus maintains its competitive edge and ensures a smooth transition during this period of change. We\\'ve included a document with more details, which you can access by clicking the link below.\",\\n    \"email_sign_fullname\": \"Alex Janssens\",\\n    \"email_sign_role\": \"ICT Consultant\",\\n    \"email_sign_company\": \"Proximus Business Partners\",\\n     \"call_to_action_text\":\"View Now\"\\n  },\\n  {\\n    \"subject\": \"Boost Proximus\\' Fiber Network Recognition with Strategic ICT\",\\n    \"addressing_the_receiver\": \"Dear Emma Wouters,\",\\n    \"body\": \"With the recent recognition of Proximus\\' fiber network, now is the time to capitalize on this achievement. Proximus Business Partners offers certified local expertise in ICT and telecom, providing tailored solutions for SMEs that can further enhance your network\\'s visibility and performance. Our analysis of your needs, combined with personalized solutions for internet, telephony, mobile, and cybersecurity, can amplify the impact of this recognition. Find out more by reviewing the details in the attached document, accessible by clicking the link below.\",\\n    \"email_sign_fullname\": \"Alex Janssens\",\\n    \"email_sign_role\": \"ICT Consultant\",\\n    \"email_sign_company\": \"Proximus Business Partners\",\\n     \"call_to_action_text\":\"Access Details\"\\n  },\\n    {\\n    \"subject\": \"Strategic ICT Solutions to Leverage Scarlet\\'s New Offer\",\\n    \"addressing_the_receiver\": \"Dear Emma Wouters,\",\\n    \"body\": \"Scarlet\\'s new offer for 2025 presents a great opportunity for Proximus. At Proximus Business Partners, we are certified local experts in ICT and telecom, providing tailored solutions for SMEs, including analysis of needs and development of personalized solutions for internet, telephony, mobile, and cybersecurity. We can help leverage this offer by aligning it with the right technology. Please find more information in the attached document, by clicking the link below.\",\\n        \"email_sign_fullname\": \"Alex Janssens\",\\n    \"email_sign_role\": \"ICT Consultant\",\\n    \"email_sign_company\": \"Proximus Business Partners\",\\n     \"call_to_action_text\":\"Explore Now\"\\n  },\\n  {\\n    \"subject\": \"Optimize Proximus Global\\'s Launch with Tailored ICT Support\",\\n    \"addressing_the_receiver\": \"Dear Emma Wouters,\",\\n     \"body\":\"The creation of Proximus Global represents a significant step for Proximus. Proximus Business Partners, with our expertise in ICT and telecom solutions, can provide the support needed to ensure a successful launch. Our tailored solutions for SMEs, including analysis of needs and personalized development for internet, telephony, mobile, and cybersecurity, can be instrumental in optimizing this new venture. Please click the link below to access the document with further details.\",\\n    \"email_sign_fullname\": \"Alex Janssens\",\\n    \"email_sign_role\": \"ICT Consultant\",\\n    \"email_sign_company\": \"Proximus Business Partners\",\\n     \"call_to_action_text\":\"Check Here\"\\n  },\\n  {\\n    \"subject\": \"Maximize Microsoft Partnership with Advanced ICT Solutions\",\\n    \"addressing_the_receiver\": \"Dear Emma Wouters,\",\\n     \"body\":\"The strategic partnership between Microsoft and Proximus opens up numerous possibilities for innovation. Proximus Business Partners is uniquely positioned to help leverage this partnership with our tailored ICT solutions. As certified local experts in ICT and telecom, we offer services like analyzing needs and developing solutions for internet, telephony, mobile, and cybersecurity that can enhance both companies\\' offerings. For more details, please check the document by clicking the link below.\",\\n    \"email_sign_fullname\": \"Alex Janssens\",\\n    \"email_sign_role\": \"ICT Consultant\",\\n    \"email_sign_company\": \"Proximus Business Partners\",\\n     \"call_to_action_text\":\"Read More\"\\n  },\\n    {\\n    \"subject\": \"Strategic ICT Support to Boost Infosys Collaboration\",\\n    \"addressing_the_receiver\": \"Dear Emma Wouters,\",\\n     \"body\":\"The collaboration between Infosys and Proximus presents new avenues for growth. Proximus Business Partners is ready to support this initiative by offering certified local ICT and telecom expertise, including tailored solutions for SMEs, personalized development for internet, telephony, mobile, and cybersecurity. Click on the link below to see the attached document for further details.\",\\n    \"email_sign_fullname\": \"Alex Janssens\",\\n    \"email_sign_role\": \"ICT Consultant\",\\n    \"email_sign_company\": \"Proximus Business Partners\",\\n    \"call_to_action_text\":\"Learn More\"\\n  }]'"
      ]
     },
     "execution_count": 1701,
     "metadata": {},
     "output_type": "execute_result"
    }
   ],
   "source": [
    "response_llm = response.text\n",
    "repair_json_response(response_llm)"
   ]
  },
  {
   "cell_type": "code",
   "execution_count": 1702,
   "metadata": {},
   "outputs": [
    {
     "name": "stdout",
     "output_type": "stream",
     "text": [
      "JSON data has been successfully written to 'emails_provider_news_issue.json'.\n"
     ]
    },
    {
     "data": {
      "text/plain": [
       "True"
      ]
     },
     "execution_count": 1702,
     "metadata": {},
     "output_type": "execute_result"
    }
   ],
   "source": [
    "save_json_from_string(response_llm, 'emails_provider_news_issue.json')"
   ]
  },
  {
   "cell_type": "markdown",
   "metadata": {},
   "source": [
    "**Internal Emails Proximus**"
   ]
  },
  {
   "cell_type": "code",
   "execution_count": null,
   "metadata": {},
   "outputs": [],
   "source": []
  },
  {
   "cell_type": "markdown",
   "metadata": {},
   "source": [
    "**3. BLENDING DATA IN HTML**"
   ]
  },
  {
   "cell_type": "markdown",
   "metadata": {},
   "source": []
  },
  {
   "cell_type": "markdown",
   "metadata": {},
   "source": [
    "**4. SENDING MAILS TO GOPHISH**"
   ]
  },
  {
   "cell_type": "markdown",
   "metadata": {},
   "source": []
  }
 ],
 "metadata": {
  "kernelspec": {
   "display_name": "proximus",
   "language": "python",
   "name": "python3"
  },
  "language_info": {
   "codemirror_mode": {
    "name": "ipython",
    "version": 3
   },
   "file_extension": ".py",
   "mimetype": "text/x-python",
   "name": "python",
   "nbconvert_exporter": "python",
   "pygments_lexer": "ipython3",
   "version": "3.10.11"
  }
 },
 "nbformat": 4,
 "nbformat_minor": 2
}
