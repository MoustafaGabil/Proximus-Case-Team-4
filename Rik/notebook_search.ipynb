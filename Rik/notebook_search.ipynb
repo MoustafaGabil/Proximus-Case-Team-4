{
 "cells": [
  {
   "cell_type": "code",
   "execution_count": 735,
   "metadata": {},
   "outputs": [
    {
     "name": "stdout",
     "output_type": "stream",
     "text": [
      "I am a large language model, trained by Google.\n",
      "\n"
     ]
    }
   ],
   "source": [
    "from google import genai\n",
    "from dotenv import load_dotenv\n",
    "import os\n",
    "from pydantic import BaseModel, ValidationError\n",
    "from typing import List\n",
    "from google.genai.types import GenerateContentConfig, Tool\n",
    "from google.generativeai.types import HarmCategory, HarmBlockThreshold\n",
    "import json\n",
    "import re\n",
    "import random as rd\n",
    "\n",
    "# Load environment variables from the .env file\n",
    "load_dotenv()\n",
    "\n",
    "# Retrieve the API key from the .env file\n",
    "api_key = os.getenv('GEMINI_API_KEY')\n",
    "\n",
    "# Initialize the Google AI client\n",
    "client = genai.Client(api_key=api_key)\n",
    "\n",
    "# Generate content\n",
    "response = client.models.generate_content(\n",
    "    model='gemini-2.0-flash-exp', contents='What is your name?'\n",
    ")\n",
    "print(response.text)\n",
    "\n",
    "\n"
   ]
  },
  {
   "cell_type": "markdown",
   "metadata": {},
   "source": [
    "*Function to extract Json of LLm output and save it to a file*"
   ]
  },
  {
   "cell_type": "code",
   "execution_count": 736,
   "metadata": {},
   "outputs": [],
   "source": [
    "def save_json_from_string(input_string, output_filename):\n",
    "    \"\"\"\n",
    "    Extracts JSON content from a string and saves it to a JSON file with the specified name.\n",
    "\n",
    "    :param input_string: The input string containing JSON data within brackets.\n",
    "    :param output_filename: The name of the output JSON file (e.g., \"data.json\").\n",
    "    :return: True if the operation was successful, False otherwise.\n",
    "    \"\"\"\n",
    "    # Step 1: Extract the JSON content within the brackets\n",
    "    result = re.search(r'\\[.*\\]', input_string, re.DOTALL)\n",
    "\n",
    "    if result:\n",
    "        extracted_content = result.group(0)  # Get the matched content\n",
    "\n",
    "        try:\n",
    "            # Step 2: Parse the extracted content into a Python object (list/dict)\n",
    "            json_data = json.loads(extracted_content)\n",
    "\n",
    "            # Step 3: Write the JSON data to a file\n",
    "            with open(output_filename, \"w\", encoding=\"utf-8\") as json_file:\n",
    "                json.dump(json_data, json_file, indent=4)  # Save with pretty formatting\n",
    "\n",
    "            print(f\"JSON data has been successfully written to '{output_filename}'.\")\n",
    "            return True  # Operation was successful\n",
    "        except json.JSONDecodeError as e:\n",
    "            print(f\"Error parsing JSON: {e}\")\n",
    "        except Exception as e:\n",
    "            print(f\"An error occurred while writing the file: {e}\")\n",
    "    else:\n",
    "        print(\"No content found within brackets.\")\n",
    "\n",
    "    return False  # Operation failed"
   ]
  },
  {
   "cell_type": "code",
   "execution_count": 737,
   "metadata": {},
   "outputs": [],
   "source": [
    "MODEL = \"gemini-2.0-flash-exp\""
   ]
  },
  {
   "cell_type": "code",
   "execution_count": 738,
   "metadata": {},
   "outputs": [],
   "source": [
    "\n",
    "COMPANY = 'Proximus'"
   ]
  },
  {
   "cell_type": "code",
   "execution_count": 739,
   "metadata": {},
   "outputs": [],
   "source": [
    "safety_settings = [\n",
    "    {\"category\": \"HARM_CATEGORY_HARASSMENT\", \"threshold\": \"BLOCK_NONE\"},\n",
    "    {\"category\": \"HARM_CATEGORY_HATE_SPEECH\", \"threshold\": \"BLOCK_NONE\"},\n",
    "    {\"category\": \"HARM_CATEGORY_SEXUALLY_EXPLICIT\", \"threshold\": \"BLOCK_NONE\"},\n",
    "    {\"category\": \"HARM_CATEGORY_DANGEROUS_CONTENT\", \"threshold\": \"BLOCK_NONE\"},\n",
    "]"
   ]
  },
  {
   "cell_type": "markdown",
   "metadata": {},
   "source": [
    "**1. SETTING UP A RESEARCH ASSISTANT** (temperature = 0, tools = google search)"
   ]
  },
  {
   "cell_type": "code",
   "execution_count": 740,
   "metadata": {},
   "outputs": [],
   "source": [
    "system_instruction = \"\"\"You are an analyst that conducts company research.\n",
    "You are given a company name, and you will work on a company report. You have access\n",
    "to Google Search to look up company news, updates, metrics, public records and linkedin pages to write research reports.\n",
    "\n",
    "When given a company name, identify key aspects to research, look up that information\n",
    "and then write an elaborate company report. \n",
    "\n",
    "Thoroughly plan your work in detail and steps, but avoid discussing it. Do not add any additional comments after finishing the report.\"\"\""
   ]
  },
  {
   "cell_type": "code",
   "execution_count": 741,
   "metadata": {},
   "outputs": [],
   "source": [
    "config = GenerateContentConfig(system_instruction=system_instruction, tools=[Tool(google_search={})], temperature=0,maxOutputTokens=8000, top_p=0.9, top_k=5, safety_settings=safety_settings)"
   ]
  },
  {
   "cell_type": "markdown",
   "metadata": {},
   "source": [
    "**Main Company report**"
   ]
  },
  {
   "cell_type": "code",
   "execution_count": 742,
   "metadata": {},
   "outputs": [
    {
     "name": "stdout",
     "output_type": "stream",
     "text": [
      "```json\n",
      "[\n",
      "    {\n",
      "        \"subject\": \"Proximus Rebrands International Division as Proximus Global\",\n",
      "        \"overview\": \"Proximus has rebranded its international division, integrating BICS, Telesign, and Route Mobile under the new name Proximus Global. This new entity is valued at approximately €3.1 billion and aims to streamline operations and drive global growth in digital communications. The move consolidates Proximus' international assets under a single umbrella, with a unified leadership team, and is intended to facilitate the creation of a global leader in digital communications.\",\n",
      "        \"source\": \"lightreading.com, mobileeurope.co.uk, telecomtv.com, techzine.eu\"\n",
      "    },\n",
      "    {\n",
      "        \"subject\": \"Scarlet Increases Mobile Data Volumes\",\n",
      "        \"overview\": \"Scarlet, a subsidiary of Proximus, has increased the data volumes on its mobile plans at no extra cost. This new offer is effective as of the start of 2025, providing customers with more data for the same price.\",\n",
      "        \"source\": \"proximus.com\"\n",
      "    },\n",
      "     {\n",
      "        \"subject\": \"Proximus Tests Cargo Sailboat in Supply Chain\",\n",
      "        \"overview\": \"Proximus is exploring sustainable transportation methods by testing the use of a cargo sailboat in its supply chain, in collaboration with Sagemcom. This initiative highlights Proximus' commitment to environmental responsibility.\",\n",
      "        \"source\": \"proximus.com\"\n",
      "    },\n",
      "    {\n",
      "        \"subject\": \"Proximus Fiber Network Recognized for Speed and Performance\",\n",
      "        \"overview\": \"Studies by nPerf and Ookla have recognized Proximus' fiber network for its superior speed and performance compared to competitors. This recognition underscores Proximus' commitment to providing high-quality network services.\",\n",
      "         \"source\": \"proximus.com\"\n",
      "    },\n",
      "    {\n",
      "        \"subject\": \"Proximus Welcomes New Employees\",\n",
      "        \"overview\": \"Proximus has welcomed 47 new colleagues, marking a positive start to 2025. This indicates the company's continued growth and investment in its workforce.\",\n",
      "        \"source\": \"proximus.com\"\n",
      "    },\n",
      "    {\n",
      "        \"subject\": \"Proximus and Microsoft Announce Strategic Partnership\",\n",
      "        \"overview\": \"Proximus and Microsoft have announced a 5-year strategic partnership to enhance cloud and AI solutions. This collaboration will allow both companies to leverage their expertise and product leadership, with Microsoft increasing its use of Proximus' CPaaS & DI products.\",\n",
      "         \"source\": \"thecyberexpress.com\"\n",
      "    },\n",
      "    {\n",
      "        \"subject\": \"Proximus to Replace Thousands of Facade Boxes in Brussels\",\n",
      "        \"overview\": \"Proximus, along with Digi, is required to replace thousands of telecommunication boxes on building facades in Brussels to comply with new color codes. This is in response to public concerns about the aesthetics of these installations, with the new boxes needing to match the facade colors.\",\n",
      "        \"source\": \"bx1.be\"\n",
      "    }\n",
      "]\n",
      "```\n"
     ]
    }
   ],
   "source": [
    "contents = f\"\"\"\n",
    "Write a report about {COMPANY}.\n",
    "\n",
    "The report should contain an extensive overview of the most important news facts of the last 2 weeks. \n",
    "\n",
    "The report should be written in this style example:\n",
    "\n",
    "Use this JSON schema:\n",
    "\n",
    "Proximus_news = {{'subject':str, 'overview':str, 'source':str}}\n",
    "Return: list[Proximus_news]\n",
    "\"\"\"\n",
    "\n",
    "response = client.models.generate_content(\n",
    "    model=MODEL, config=config, contents=contents)\n",
    "\n",
    "print(response.text)\n"
   ]
  },
  {
   "cell_type": "code",
   "execution_count": 743,
   "metadata": {},
   "outputs": [
    {
     "name": "stdout",
     "output_type": "stream",
     "text": [
      "JSON data has been successfully written to 'proximus_news.json'.\n"
     ]
    },
    {
     "data": {
      "text/plain": [
       "True"
      ]
     },
     "execution_count": 743,
     "metadata": {},
     "output_type": "execute_result"
    }
   ],
   "source": [
    "save_json_from_string(response.text, 'proximus_news.json')"
   ]
  },
  {
   "cell_type": "markdown",
   "metadata": {},
   "source": [
    "**Proximus Key Employees and Roles**"
   ]
  },
  {
   "cell_type": "code",
   "execution_count": 744,
   "metadata": {},
   "outputs": [
    {
     "name": "stdout",
     "output_type": "stream",
     "text": [
      "```json\n",
      "[\n",
      "    {\n",
      "        \"first_name\": \"Guillaume\",\n",
      "        \"family_name\": \"Boutin\",\n",
      "        \"role\": \"Chief Executive Officer\",\n",
      "        \"department\": \"CEO's department\",\n",
      "        \"email_address\": \"guillaume.boutin@proximus.be\"\n",
      "    },\n",
      "    {\n",
      "        \"first_name\": \"Stefaan\",\n",
      "        \"family_name\": \"De Clerck\",\n",
      "        \"role\": \"Chairman of the Board\",\n",
      "         \"department\": \"Board of Directors\",\n",
      "        \"email_address\": \"stefaan.declerck@proximus.be\"\n",
      "    },\n",
      "     {\n",
      "        \"first_name\": \"Caroline\",\n",
      "        \"family_name\": \"Basyn\",\n",
      "        \"role\": \"Independent director\",\n",
      "         \"department\": \"Board of Directors\",\n",
      "        \"email_address\": \"caroline.basyn@proximus.be\"\n",
      "    },\n",
      "    {\n",
      "        \"first_name\": \"Cécile\",\n",
      "        \"family_name\": \"Coune\",\n",
      "         \"role\": \"Independent director\",\n",
      "         \"department\": \"Board of Directors\",\n",
      "        \"email_address\": \"cécile.coune@proximus.be\"\n",
      "    },\n",
      "     {\n",
      "        \"first_name\": \"Karel\",\n",
      "        \"family_name\": \"De Gucht\",\n",
      "        \"role\": \"Director\",\n",
      "         \"department\": \"Board of Directors\",\n",
      "        \"email_address\": \"karel.degucht@proximus.be\"\n",
      "    },\n",
      "    {\n",
      "        \"first_name\": \"Béatrice\",\n",
      "        \"family_name\": \"de Mahieu\",\n",
      "         \"role\": \"Director\",\n",
      "         \"department\": \"Board of Directors\",\n",
      "        \"email_address\": \"béatrice.demahieu@proximus.be\"\n",
      "    },\n",
      "    {\n",
      "        \"first_name\":\"Martin\",\n",
      "        \"family_name\":\"De Prycker\",\n",
      "        \"role\":\"Independent director\",\n",
      "        \"department\":\"Board of Directors\",\n",
      "        \"email_address\":\"martin.deprycker@proximus.be\"\n",
      "    },\n",
      "     {\n",
      "        \"first_name\":\"Audrey\",\n",
      "        \"family_name\":\"Hanard\",\n",
      "        \"role\":\"Director\",\n",
      "         \"department\":\"Board of Directors\",\n",
      "        \"email_address\":\"audrey.hanard@proximus.be\"\n",
      "    },\n",
      "    {\n",
      "        \"first_name\":\"Ibrahim\",\n",
      "        \"family_name\":\"Ouassari\",\n",
      "        \"role\":\"Director\",\n",
      "         \"department\":\"Board of Directors\",\n",
      "        \"email_address\":\"ibrahim.ouassari@proximus.be\"\n",
      "    },\n",
      "    {\n",
      "        \"first_name\":\"Catherine\",\n",
      "        \"family_name\":\"Rutten\",\n",
      "        \"role\":\"Independent director\",\n",
      "         \"department\":\"Board of Directors\",\n",
      "        \"email_address\":\"catherine.rutten@proximus.be\"\n",
      "    },\n",
      "    {\n",
      "        \"first_name\":\"Joachim\",\n",
      "        \"family_name\":\"Sonne\",\n",
      "        \"role\":\"Independent director\",\n",
      "         \"department\":\"Board of Directors\",\n",
      "        \"email_address\":\"joachim.sonne@proximus.be\"\n",
      "    },\n",
      "    {\n",
      "       \"first_name\": \"Ben\",\n",
      "        \"family_name\": \"Appel\",\n",
      "        \"role\": \"Corporate Affairs Lead\",\n",
      "        \"department\": \"Corporate Affairs\",\n",
      "        \"email_address\": \"ben.appel@proximus.be\"\n",
      "    },\n",
      "    {\n",
      "        \"first_name\": \"Jim\",\n",
      "        \"family_name\": \"Casteele\",\n",
      "        \"role\": \"Consumer Market Lead\",\n",
      "        \"department\":\"Consumer Market\",\n",
      "        \"email_address\": \"jim.casteele@proximus.be\"\n",
      "    },\n",
      "     {\n",
      "        \"first_name\": \"Anne-Sophie\",\n",
      "        \"family_name\": \"Lotgering\",\n",
      "        \"role\": \"Enterprise IT Services & Segments Lead\",\n",
      "         \"department\":\"Enterprise Market\",\n",
      "        \"email_address\": \"anne-sophie.lotgering@proximus.be\"\n",
      "    },\n",
      "    {\n",
      "        \"first_name\": \"Antonietta\",\n",
      "        \"family_name\": \"Mastroianni\",\n",
      "        \"role\": \"Digital & IT Lead\",\n",
      "        \"department\": \"Digital & IT\",\n",
      "        \"email_address\":\"antonietta.mastroianni@proximus.be\"\n",
      "    },\n",
      "    {\n",
      "        \"first_name\": \"Mark\",\n",
      "        \"family_name\": \"Reid\",\n",
      "        \"role\": \"Finance Lead\",\n",
      "        \"department\": \"Finance\",\n",
      "        \"email_address\": \"mark.reid@proximus.be\"\n",
      "    },\n",
      "    {\n",
      "        \"first_name\": \"Geert\",\n",
      "        \"family_name\": \"Standaert\",\n",
      "        \"role\": \"Network & Wholesale Lead\",\n",
      "        \"department\": \"Network & Wholesale\",\n",
      "        \"email_address\": \"geert.standaert@proximus.be\"\n",
      "    },\n",
      "     {\n",
      "        \"first_name\": \"Jan\",\n",
      "        \"family_name\": \"Van Acoleyen\",\n",
      "         \"role\": \"Chief Human Resources Officer\",\n",
      "         \"department\": \"Human Capital\",\n",
      "        \"email_address\": \"jan.vanacoleyen@proximus.be\"\n",
      "    },\n",
      "    {\n",
      "        \"first_name\": \"Renaud\",\n",
      "        \"family_name\": \"Tilmans\",\n",
      "        \"role\": \"Customer Operations Lead\",\n",
      "         \"department\": \"Customer Operations\",\n",
      "        \"email_address\": \"renaud.tilmans@proximus.be\"\n",
      "    },\n",
      "    {\n",
      "        \"first_name\": \"Karl\",\n",
      "        \"family_name\": \"Cuveele\",\n",
      "        \"role\": \"Managing Director Proximus Real Estate\",\n",
      "        \"department\": \"Real Estate\",\n",
      "        \"email_address\": \"karl.cuveele@proximus.be\"\n",
      "    },\n",
      "     {\n",
      "        \"first_name\":\"Jacques\",\n",
      "        \"family_name\":\"Ruckert\",\n",
      "        \"role\":\"Chief Solutions & Innovation Officer\",\n",
      "        \"department\":\"Solutions & Innovation\",\n",
      "        \"email_address\":\"jacques.ruckert@proximus.be\"\n",
      "    },\n",
      "    {\n",
      "        \"first_name\":\"Jason\",\n",
      "        \"family_name\":\"Vanherrewegge\",\n",
      "        \"role\":\"Chief Editor\",\n",
      "        \"department\":\"Editorial\",\n",
      "        \"email_address\":\"jason.vanherrewegge@proximus.be\"\n",
      "    },\n",
      "    {\n",
      "        \"first_name\":\"Geert\",\n",
      "        \"family_name\":\"Kelchtermans\",\n",
      "        \"role\":\"VP Small & Medium Enterprises - Tribe Lead\",\n",
      "        \"department\":\"Small & Medium Enterprises\",\n",
      "        \"email_address\":\"geert.kelchtermans@proximus.be\"\n",
      "    },\n",
      "    {\n",
      "        \"first_name\":\"Jan\",\n",
      "        \"family_name\":\"van Oekelen\",\n",
      "        \"role\":\"Lead Manager Solution Sales\",\n",
      "        \"department\":\"Solution Sales\",\n",
      "        \"email_address\":\"jan.vanoekelen@proximus.be\"\n",
      "    },\n",
      "    {\n",
      "        \"first_name\":\"Sebastien\",\n",
      "        \"family_name\":\"Evrard\",\n",
      "        \"role\":\"Center Of Excellence Lead - Pricing & Promotions\",\n",
      "        \"department\":\"Pricing & Promotions\",\n",
      "        \"email_address\":\"sebastien.evrard@proximus.be\"\n",
      "    },\n",
      "    {\n",
      "        \"first_name\":\"Thomas\",\n",
      "        \"family_name\":\"Vanherk\",\n",
      "        \"role\":\"Team Lead ICT Pricing & Costing\",\n",
      "        \"department\":\"ICT Pricing & Costing\",\n",
      "        \"email_address\":\"thomas.vanherk@proximus.be\"\n",
      "    },\n",
      "    {\n",
      "        \"first_name\":\"Annemie\",\n",
      "        \"family_name\":\"Peetermans\",\n",
      "        \"role\":\"Product Owner Lead - E2e Sales Journeys Physical Channels\",\n",
      "        \"department\":\"Sales Journeys Physical Channels\",\n",
      "        \"email_address\":\"annemie.peetermans@proximus.be\"\n",
      "    },\n",
      "    {\n",
      "        \"first_name\":\"Olivier\",\n",
      "        \"family_name\":\"Crucq\",\n",
      "        \"role\":\"Director Commercial & Marketing Chapter Area\",\n",
      "        \"department\":\"Commercial & Marketing\",\n",
      "        \"email_address\":\"olivier.crucq@proximus.be\"\n",
      "    },\n",
      "     {\n",
      "        \"first_name\":\"Paul\",\n",
      "        \"family_name\":\"Burch\",\n",
      "        \"role\":\"Sales & Marketing Director\",\n",
      "        \"department\":\"Sales & Marketing\",\n",
      "        \"email_address\":\"paul.burch@proximus.be\"\n",
      "    },\n",
      "    {\n",
      "        \"first_name\":\"Pierre\",\n",
      "        \"family_name\":\"Demoulin\",\n",
      "        \"role\":\"Fiber Sales Lead\",\n",
      "        \"department\":\"Fiber Sales\",\n",
      "        \"email_address\":\"pierre.demoulin@proximus.be\"\n",
      "    },\n",
      "    {\n",
      "        \"first_name\":\"Igor\",\n",
      "        \"family_name\":\"Makedonsky\",\n",
      "        \"role\":\"Director Group Legal & Insurance - General Counsel\",\n",
      "        \"department\":\"Legal & Insurance\",\n",
      "        \"email_address\":\"igor.makedonsky@proximus.be\"\n",
      "    }\n",
      "]\n",
      "```\n"
     ]
    }
   ],
   "source": [
    "contents = f\"\"\"\n",
    "Write a report about {COMPANY}\n",
    "\n",
    "The report should only contain a comprehensive summary of the employees in the company. \n",
    "\n",
    "The report should contain, the complete first name and family name, an email address with this structure \"first name.family name@{COMPANY}.be\" (put it all in lower case), the role that they have within the company and the department that they make part of.\n",
    "\n",
    "Do not include abbreviations in names, and exclude employees whose full first and last names cannot be found.\n",
    "\n",
    "Give me as much grounded names that you can find with your research and put them all in the report.\n",
    "\n",
    "The report should be written in this style example:\n",
    "\n",
    "Use this JSON schema:\n",
    "\n",
    "Proximus_employees = {{'first_name':str, 'family_name':str, 'role':str, 'department':str, 'email_address':str}}\n",
    "Return: list[Proximus_employees]\n",
    "\"\"\"\n",
    "\n",
    "response = client.models.generate_content(\n",
    "    model=MODEL, config=config, contents=contents)\n",
    "\n",
    "print(response.text)"
   ]
  },
  {
   "cell_type": "code",
   "execution_count": 745,
   "metadata": {},
   "outputs": [
    {
     "name": "stdout",
     "output_type": "stream",
     "text": [
      "JSON data has been successfully written to 'proximus_employees.json'.\n"
     ]
    },
    {
     "data": {
      "text/plain": [
       "True"
      ]
     },
     "execution_count": 745,
     "metadata": {},
     "output_type": "execute_result"
    }
   ],
   "source": [
    "save_json_from_string(response.text, 'proximus_employees.json')"
   ]
  },
  {
   "cell_type": "markdown",
   "metadata": {},
   "source": [
    "**Departments Proximus**"
   ]
  },
  {
   "cell_type": "code",
   "execution_count": 746,
   "metadata": {},
   "outputs": [
    {
     "name": "stdout",
     "output_type": "stream",
     "text": [
      "```json\n",
      "[\n",
      "  {\n",
      "    \"department\": \"CEO's Department\",\n",
      "    \"subdivision\": [],\n",
      "    \"address\": \"Boulevard du Roi Albert II, 27, 1030 Brussels, Belgium\",\n",
      "    \"phone\": \"+32 2 202 41 11\",\n",
      "    \"vat\": \"BE 0202239951\"\n",
      "  },\n",
      "  {\n",
      "    \"department\": \"Consumer Market\",\n",
      "    \"subdivision\": [],\n",
      "     \"address\": \"Boulevard du Roi Albert II, 27, 1030 Brussels, Belgium\",\n",
      "    \"phone\": \"+32 2 202 41 11\",\n",
      "    \"vat\": \"BE 0202239951\"\n",
      "  },\n",
      "  {\n",
      "    \"department\": \"Enterprise Market\",\n",
      "    \"subdivision\": [],\n",
      "     \"address\": \"Boulevard du Roi Albert II, 27, 1030 Brussels, Belgium\",\n",
      "    \"phone\": \"+32 2 202 41 11\",\n",
      "    \"vat\": \"BE 0202239951\"\n",
      "  },\n",
      "   {\n",
      "    \"department\": \"Corporate Affairs\",\n",
      "    \"subdivision\": [],\n",
      "     \"address\": \"Boulevard du Roi Albert II, 27, 1030 Brussels, Belgium\",\n",
      "    \"phone\": \"+32 2 202 41 11\",\n",
      "    \"vat\": \"BE 0202239951\"\n",
      "  },\n",
      "  {\n",
      "    \"department\": \"Network & Wholesale\",\n",
      "    \"subdivision\": [],\n",
      "     \"address\": \"Boulevard du Roi Albert II, 27, 1030 Brussels, Belgium\",\n",
      "    \"phone\": \"+32 2 202 41 11\",\n",
      "    \"vat\": \"BE 0202239951\"\n",
      "  },\n",
      "  {\n",
      "    \"department\": \"Customer Operations\",\n",
      "    \"subdivision\": [],\n",
      "     \"address\": \"Boulevard du Roi Albert II, 27, 1030 Brussels, Belgium\",\n",
      "    \"phone\": \"+32 2 202 41 11\",\n",
      "    \"vat\": \"BE 0202239951\"\n",
      "  },\n",
      "    {\n",
      "    \"department\": \"Human Capital\",\n",
      "    \"subdivision\": [],\n",
      "     \"address\": \"Boulevard du Roi Albert II, 27, 1030 Brussels, Belgium\",\n",
      "    \"phone\": \"+32 2 202 41 11\",\n",
      "    \"vat\": \"BE 0202239951\"\n",
      "  },\n",
      "  {\n",
      "    \"department\": \"Digital & IT\",\n",
      "    \"subdivision\": [],\n",
      "     \"address\": \"Boulevard du Roi Albert II, 27, 1030 Brussels, Belgium\",\n",
      "    \"phone\": \"+32 2 202 41 11\",\n",
      "    \"vat\": \"BE 0202239951\"\n",
      "  },\n",
      "  {\n",
      "    \"department\": \"Finance\",\n",
      "    \"subdivision\": [],\n",
      "     \"address\": \"Boulevard du Roi Albert II, 27, 1030 Brussels, Belgium\",\n",
      "    \"phone\": \"+32 2 202 41 11\",\n",
      "    \"vat\": \"BE 0202239951\"\n",
      "  }\n",
      "]\n",
      "```\n"
     ]
    }
   ],
   "source": [
    "contents = f\"\"\"\n",
    "\n",
    "Write a report about {COMPANY}\n",
    "\n",
    "The report should exclusively provide a detailed summary of the company's departments and their respective subdivisions, if any.\n",
    "\n",
    "Include in the report the full address where the headquarter of the provider is located, the main phone number and vat number.\n",
    "\n",
    "Do not include abbreviations in the report.\n",
    "\n",
    "Provide a detailed list, specifying only verified and public information. Do not include speculative or incomplete details.\n",
    "\n",
    "The report should be written in this style example:\n",
    "\n",
    "Use this JSON schema:\n",
    "\n",
    "Proximus_departments = {{'department':str, 'subdivision':list[str], 'address':str, 'phone':str, 'vat':str}}\n",
    "Return: list[Proximus_departments]\n",
    "\"\"\"\n",
    "\n",
    "response = client.models.generate_content(\n",
    "    model=MODEL, config=config, contents=contents)\n",
    "\n",
    "print(response.text)"
   ]
  },
  {
   "cell_type": "code",
   "execution_count": 747,
   "metadata": {},
   "outputs": [
    {
     "name": "stdout",
     "output_type": "stream",
     "text": [
      "JSON data has been successfully written to 'proximus_departments.json'.\n"
     ]
    },
    {
     "data": {
      "text/plain": [
       "True"
      ]
     },
     "execution_count": 747,
     "metadata": {},
     "output_type": "execute_result"
    }
   ],
   "source": [
    "save_json_from_string(response.text, 'proximus_departments.json')"
   ]
  },
  {
   "cell_type": "markdown",
   "metadata": {},
   "source": [
    "**Company Colors**"
   ]
  },
  {
   "cell_type": "code",
   "execution_count": 748,
   "metadata": {},
   "outputs": [
    {
     "name": "stdout",
     "output_type": "stream",
     "text": [
      "```json\n",
      "[\n",
      "  {\n",
      "    \"color_name_1\": \"Primary Purple\",\n",
      "    \"hex_code_1\": \"#5C2D91\",\n",
      "    \"rgb_code_1\": [92, 45, 145]\n",
      "  },\n",
      "  {\n",
      "    \"color_name_2\": \"White\",\n",
      "    \"hex_code_2\": \"#FFFFFF\",\n",
      "    \"rgb_code_2\": [255, 255, 255]\n",
      "  },\n",
      "  {\n",
      "    \"color_name_3\": \"Black\",\n",
      "    \"hex_code_3\": \"#000000\",\n",
      "    \"rgb_code_3\": [0, 0, 0]\n",
      "  }\n",
      "]\n",
      "```\n"
     ]
    }
   ],
   "source": [
    "contents = f\"\"\"\n",
    "\n",
    "Write a report about {COMPANY}\n",
    "\n",
    "The report should exclusively provide the main colors of Company's branding, including any official color codes such as HEX or RGB. Focus on the primary colors used in the company's logo and website.\n",
    "\n",
    "Do not include speculative colors and focus only on the main ones.\n",
    "\n",
    "The report should be written in this style example:\n",
    "\n",
    "Use this JSON schema:\n",
    "\n",
    "company_colors = {{'color_name_1':str, 'hex_code_1':str, 'rgb_code_1':list[int]}},{{'color_name_2':str,'hex_code_2':str,'rgb_code_2':list[int]}}\n",
    "Return: list[company_colors]\n",
    "\n",
    "Thoroughly plan your work in detail and steps, but avoid discussing it. Do not add any additional comments after finishing the report.\n",
    "\"\"\"\n",
    "\n",
    "\n",
    "response = client.models.generate_content(\n",
    "    model=MODEL, config=config, contents=contents)\n",
    "\n",
    "print(response.text)"
   ]
  },
  {
   "cell_type": "code",
   "execution_count": 749,
   "metadata": {},
   "outputs": [
    {
     "name": "stdout",
     "output_type": "stream",
     "text": [
      "JSON data has been successfully written to 'proximus_colors.json'.\n"
     ]
    },
    {
     "data": {
      "text/plain": [
       "True"
      ]
     },
     "execution_count": 749,
     "metadata": {},
     "output_type": "execute_result"
    }
   ],
   "source": [
    "save_json_from_string(response.text, 'proximus_colors.json')"
   ]
  },
  {
   "cell_type": "markdown",
   "metadata": {},
   "source": [
    "**Blend data from Json files Proximus**"
   ]
  },
  {
   "cell_type": "code",
   "execution_count": 750,
   "metadata": {},
   "outputs": [
    {
     "name": "stdout",
     "output_type": "stream",
     "text": [
      "Data successfully merged into blended_data_proximus.json\n"
     ]
    }
   ],
   "source": [
    "\n",
    "# File paths for input and output\n",
    "input_files = {\n",
    "    \"colors\": \"proximus_colors.json\",\n",
    "    \"departments\": \"proximus_departments.json\",\n",
    "    \"employees\": \"proximus_employees.json\",\n",
    "    \"news\": \"proximus_news.json\",\n",
    "    \"providers\": \"proximus_providers.json\"\n",
    "}\n",
    "output_file = \"blended_data_proximus.json\"\n",
    "\n",
    "# Combine all data into one dictionary\n",
    "blended_data = {}\n",
    "\n",
    "for key, file_path in input_files.items():\n",
    "    with open(file_path, 'r') as f:\n",
    "        blended_data[key] = json.load(f)\n",
    "\n",
    "# Write the combined data to a new JSON file\n",
    "with open(output_file, 'w') as f:\n",
    "    json.dump(blended_data, f, indent=4)\n",
    "\n",
    "print(f\"Data successfully merged into {output_file}\")\n"
   ]
  },
  {
   "cell_type": "markdown",
   "metadata": {},
   "source": [
    "**Service providers**"
   ]
  },
  {
   "cell_type": "code",
   "execution_count": 751,
   "metadata": {},
   "outputs": [
    {
     "name": "stdout",
     "output_type": "stream",
     "text": [
      "```json\n",
      "[\n",
      "    {\n",
      "        \"provider\": \"Be-Mobile\",\n",
      "        \"service\": \"Smart mobility solutions\",\n",
      "        \"type\": \"Technology Partner\",\n",
      "        \"provider_homepage\": \"https://www.be-mobile.com/\"\n",
      "    },\n",
      "    {\n",
      "        \"provider\": \"ClearMedia\",\n",
      "        \"service\": \"Cloud, cybersecurity and digital workplace solutions\",\n",
      "        \"type\": \"Technology Partner\",\n",
      "         \"provider_homepage\": \"https://www.clearmedia.be/\"\n",
      "    },\n",
      "    {\n",
      "        \"provider\": \"Codit\",\n",
      "        \"service\": \"Data-driven cloud solutions\",\n",
      "        \"type\": \"Technology Partner\",\n",
      "        \"provider_homepage\": \"https://www.codit.eu/\"\n",
      "    },\n",
      "     {\n",
      "        \"provider\": \"Davinsi Labs\",\n",
      "        \"service\": \"Cybersecurity and operational intelligence\",\n",
      "        \"type\": \"Technology Partner\",\n",
      "         \"provider_homepage\": \"https://www.davinsilabs.com/\"\n",
      "    },\n",
      "    {\n",
      "        \"provider\": \"Proximus Spearit\",\n",
      "        \"service\": \"IT solutions\",\n",
      "         \"type\": \"Technology Partner\",\n",
      "        \"provider_homepage\": \"https://www.proximus.com/en/about-us/our-brands-and-affiliates/proximus-spearit.html\"\n",
      "    },\n",
      "    {\n",
      "        \"provider\":\"Telindus\",\n",
      "        \"service\":\"ICT and telecom services\",\n",
      "        \"type\":\"Technology Partner\",\n",
      "        \"provider_homepage\":\"https://www.telindus.lu/\"\n",
      "    },\n",
      "    {\n",
      "        \"provider\": \"Tech Mahindra\",\n",
      "        \"service\": \"Technology platform design and building\",\n",
      "        \"type\": \"Technology Partner\",\n",
      "        \"provider_homepage\": \"https://www.techmahindra.com/\"\n",
      "    },\n",
      "    {\n",
      "        \"provider\": \"Nokia\",\n",
      "        \"service\": \"Network infrastructure\",\n",
      "        \"type\": \"Vendor\",\n",
      "        \"provider_homepage\": \"https://www.nokia.com/\"\n",
      "    },\n",
      "     {\n",
      "        \"provider\": \"Ericsson\",\n",
      "        \"service\": \"Network infrastructure\",\n",
      "         \"type\": \"Vendor\",\n",
      "        \"provider_homepage\": \"https://www.ericsson.com/\"\n",
      "    },\n",
      "    {\n",
      "        \"provider\": \"Unifiber\",\n",
      "        \"service\": \"Fiber optic network solutions\",\n",
      "         \"type\": \"Vendor\",\n",
      "        \"provider_homepage\": \"https://www.unifiber.com/\"\n",
      "    },\n",
      "     {\n",
      "        \"provider\": \"Infosys\",\n",
      "        \"service\": \"IT services\",\n",
      "         \"type\": \"Vendor\",\n",
      "        \"provider_homepage\":\"https://www.infosys.com/\"\n",
      "    },\n",
      "    {\n",
      "        \"provider\": \"Citymesh\",\n",
      "        \"service\": \"Mobile and fixed telecom services\",\n",
      "        \"type\": \"Mobile Virtual Network Operator (MVNO)\",\n",
      "        \"provider_homepage\": \"https://www.citymesh.com/\"\n",
      "    },\n",
      "     {\n",
      "        \"provider\": \"Destiny\",\n",
      "        \"service\": \"Secure cloud communication solutions\",\n",
      "         \"type\": \"Mobile Virtual Network Operator (MVNO)\",\n",
      "        \"provider_homepage\": \"https://www.destiny.be/\"\n",
      "    },\n",
      "    {\n",
      "        \"provider\": \"Granton Marketing Service (GMSF)\",\n",
      "        \"service\": \"Marketing services\",\n",
      "        \"type\": \"Partner\",\n",
      "        \"provider_homepage\": \"https://www.gmsf.be/\"\n",
      "    },\n",
      "     {\n",
      "        \"provider\": \"NEO GROUP\",\n",
      "        \"service\": \"Telecommunication services\",\n",
      "         \"type\": \"Partner\",\n",
      "        \"provider_homepage\": \"https://www.neo-group.be/\"\n",
      "    },\n",
      "    {\n",
      "        \"provider\": \"One Telecom\",\n",
      "        \"service\": \"Telecommunication services\",\n",
      "         \"type\": \"Partner\",\n",
      "        \"provider_homepage\": \"https://www.one-telecom.be/\"\n",
      "    },\n",
      "    {\n",
      "        \"provider\": \"ONLYOO\",\n",
      "         \"service\": \"Telecommunication services\",\n",
      "        \"type\": \"Partner\",\n",
      "        \"provider_homepage\": \"https://www.onlyoo.be/\"\n",
      "    },\n",
      "    {\n",
      "        \"provider\": \"Totaalplan\",\n",
      "        \"service\": \"Telecommunication services\",\n",
      "         \"type\": \"Partner\",\n",
      "        \"provider_homepage\": \"https://www.totaalplan.be/\"\n",
      "    },\n",
      "    {\n",
      "        \"provider\": \"U-smile\",\n",
      "        \"service\": \"Telecommunication services\",\n",
      "         \"type\": \"Partner\",\n",
      "         \"provider_homepage\": \"https://www.u-smile.be/\"\n",
      "    },\n",
      "     {\n",
      "        \"provider\": \"YOUL\",\n",
      "        \"service\": \"Telecommunication services\",\n",
      "         \"type\": \"Partner\",\n",
      "        \"provider_homepage\": \"https://www.youl.be/\"\n",
      "    },\n",
      "    {\n",
      "        \"provider\": \"AUSY BELGIUM / Data Flow\",\n",
      "        \"service\": \"Datacenter Operations, Troubleshooting, customer support & maintenance\",\n",
      "        \"type\": \"Subcontractor\",\n",
      "         \"provider_homepage\": \"https://www.ausy.be/\"\n",
      "    },\n",
      "    {\n",
      "        \"provider\": \"Broadcom\",\n",
      "        \"service\": \"Cloud services\",\n",
      "        \"type\": \"Technology Provider\",\n",
      "         \"provider_homepage\": \"https://www.broadcom.com/\"\n",
      "    },\n",
      "    {\n",
      "        \"provider\": \"Sewan\",\n",
      "         \"service\": \"Fixed and mobile voice, cloud services and internet access\",\n",
      "        \"type\": \"Telecom Carrier\",\n",
      "        \"provider_homepage\": \"https://www.sewan.com/\"\n",
      "    },\n",
      "     {\n",
      "        \"provider\":\"Yoin\",\n",
      "        \"service\":\"Mobile subscriptions and internet\",\n",
      "        \"type\":\"Telecom Provider\",\n",
      "        \"provider_homepage\":\"https://www.yoin.be/\"\n",
      "    }\n",
      "]\n",
      "```\n"
     ]
    }
   ],
   "source": [
    "contents = f\"\"\"\n",
    "\n",
    "Write a report about {COMPANY}\n",
    "\n",
    "List the main service providers of the company. Include any known suppliers, contractors, technology service providers, or any other third-party companies that the company relies on. \n",
    "Provide the names of the service providers, type and description of the services they provide to the company. Also include the providers homepage in the report, if you can't find it, don not include the provider in the report. Don t include providers with brackets in their company name. \n",
    "\n",
    "The report should be written in this style example:\n",
    "\n",
    "Use this JSON schema:\n",
    "\n",
    "company_service = {{\"provider\":str,\"service\":str,\"type\":str,\"provider_homepage\":str]}}\n",
    "Return: list[company_service]\n",
    "\"\"\"\n",
    "\n",
    "response = client.models.generate_content(\n",
    "    model=MODEL, config=config, contents=contents)\n",
    "\n",
    "print(response.text)"
   ]
  },
  {
   "cell_type": "code",
   "execution_count": 752,
   "metadata": {},
   "outputs": [
    {
     "name": "stdout",
     "output_type": "stream",
     "text": [
      "JSON data has been successfully written to 'proximus_providers.json'.\n"
     ]
    },
    {
     "data": {
      "text/plain": [
       "True"
      ]
     },
     "execution_count": 752,
     "metadata": {},
     "output_type": "execute_result"
    }
   ],
   "source": [
    "save_json_from_string(response.text, 'proximus_providers.json')"
   ]
  },
  {
   "cell_type": "markdown",
   "metadata": {},
   "source": [
    "**Providers info** (Proceed with one Provider)"
   ]
  },
  {
   "cell_type": "code",
   "execution_count": 753,
   "metadata": {},
   "outputs": [],
   "source": [
    "# Load JSON data from the file\n",
    "with open(\"proximus_providers.json\", \"r\") as file:\n",
    "    providers = json.load(file)"
   ]
  },
  {
   "cell_type": "code",
   "execution_count": 754,
   "metadata": {},
   "outputs": [],
   "source": [
    "# Function to pick a random provider\n",
    "def pick_random_provider(providers):\n",
    "    if not providers:\n",
    "        return None  # Handle the case where the list is empty\n",
    "    return rd.choice(providers)"
   ]
  },
  {
   "cell_type": "code",
   "execution_count": 755,
   "metadata": {},
   "outputs": [
    {
     "name": "stdout",
     "output_type": "stream",
     "text": [
      "{'provider': 'One Telecom', 'service': 'Telecommunication services', 'type': 'Partner', 'provider_homepage': 'https://www.one-telecom.be/'}\n"
     ]
    }
   ],
   "source": [
    "provider = pick_random_provider(providers)\n",
    "\n",
    "print(provider)"
   ]
  },
  {
   "cell_type": "code",
   "execution_count": 756,
   "metadata": {},
   "outputs": [
    {
     "name": "stdout",
     "output_type": "stream",
     "text": [
      "Data saved to provider_general_data.json\n"
     ]
    }
   ],
   "source": [
    "provider = [provider]\n",
    "file_path = 'provider_general_data.json'\n",
    "\n",
    "# Write the data to the JSON file\n",
    "with open(file_path, 'w') as json_file:\n",
    "    json.dump(provider, json_file, indent=4)\n",
    "\n",
    "print(f'Data saved to {file_path}')"
   ]
  },
  {
   "cell_type": "markdown",
   "metadata": {},
   "source": [
    "**Provider Key Employees and Roles**"
   ]
  },
  {
   "cell_type": "code",
   "execution_count": 757,
   "metadata": {},
   "outputs": [
    {
     "name": "stdout",
     "output_type": "stream",
     "text": [
      "```json\n",
      "[\n",
      "    {\n",
      "        \"provider\": \"One Telecom\",\n",
      "        \"first_name\": \"Adam\",\n",
      "        \"family_name\": \"Cathcart\",\n",
      "        \"role\": \"Managing Director\",\n",
      "        \"department\": \"Leadership Team\",\n",
      "        \"email_address\": \"adam.cathcart@one-telecom.be\"\n",
      "    },\n",
      "    {\n",
      "        \"provider\": \"One Telecom\",\n",
      "        \"first_name\": \"Roan\",\n",
      "        \"family_name\": \"Pratt\",\n",
      "        \"role\": \"Sales Director\",\n",
      "         \"department\": \"Leadership Team\",\n",
      "        \"email_address\": \"roan.pratt@one-telecom.be\"\n",
      "    },\n",
      "    {\n",
      "        \"provider\": \"One Telecom\",\n",
      "        \"first_name\": \"Vicki\",\n",
      "        \"family_name\": \"Cowperthwaite\",\n",
      "        \"role\": \"Operations Director\",\n",
      "         \"department\": \"Leadership Team\",\n",
      "        \"email_address\": \"vicki.cowperthwaite@one-telecom.be\"\n",
      "    },\n",
      "    {\n",
      "        \"provider\": \"One Telecom\",\n",
      "        \"first_name\": \"Tara\",\n",
      "        \"family_name\": \"Kelman\",\n",
      "        \"role\": \"Billing & Commercial Director\",\n",
      "         \"department\": \"Leadership Team\",\n",
      "        \"email_address\": \"tara.kelman@one-telecom.be\"\n",
      "    },\n",
      "    {\n",
      "        \"provider\": \"One Telecom\",\n",
      "        \"first_name\": \"Bernie\",\n",
      "        \"family_name\": \"Young\",\n",
      "        \"role\": \"Head of Business Improvement\",\n",
      "         \"department\": \"Leadership Team\",\n",
      "        \"email_address\": \"bernie.young@one-telecom.be\"\n",
      "    },\n",
      "    {\n",
      "        \"provider\": \"One Telecom\",\n",
      "        \"first_name\": \"Tim\",\n",
      "        \"family_name\": \"Nelson\",\n",
      "        \"role\": \"Head of Solution Sales\",\n",
      "         \"department\": \"Leadership Team\",\n",
      "        \"email_address\": \"tim.nelson@one-telecom.be\"\n",
      "    },\n",
      "     {\n",
      "        \"provider\": \"One Telecom\",\n",
      "        \"first_name\": \"Harli\",\n",
      "        \"family_name\": \"Dewar\",\n",
      "        \"role\": \"Marketing Manager\",\n",
      "         \"department\": \"Leadership Team\",\n",
      "        \"email_address\": \"harli.dewar@one-telecom.be\"\n",
      "    }\n",
      "]\n",
      "```\n"
     ]
    }
   ],
   "source": [
    "contents = f\"\"\"\n",
    "    Write a report about company {provider}. This company is a provider of {COMPANY}\n",
    "\n",
    "    The report should only contain a comprehensive summary of the employees in the company.\n",
    "\n",
    "    The report should contain, the complete first name and family name, an email address with this structure \"first name.family name@{provider}.be\" (put it all in lower case), the role that they have within the company and the department that they make part of.\n",
    "\n",
    "    Do not include abbreviations in names, and exclude employees whose full first and last names cannot be found. Make sure the first and the last name contains more then 2 characters. Do not include employees of {COMPANY} in the report.\n",
    "\n",
    "    Give me as much grounded names that you can find with your research and put them all in the report.\n",
    "\n",
    "    The report should be written in this style example:\n",
    "\n",
    "    Use this JSON schema:\n",
    "\n",
    "    Employees = {{'provider': str, 'first_name': str, 'family_name': str, 'role': str, 'department': str, 'email_address':str}}\n",
    "    Return: list[Employees]\n",
    "    \"\"\"\n",
    "    \n",
    "response = client.models.generate_content(\n",
    "    model=MODEL, config=config, contents=contents)\n",
    "\n",
    "print(response.text)\n",
    "    "
   ]
  },
  {
   "cell_type": "code",
   "execution_count": 758,
   "metadata": {},
   "outputs": [
    {
     "name": "stdout",
     "output_type": "stream",
     "text": [
      "JSON data has been successfully written to 'provider_employees.json'.\n"
     ]
    },
    {
     "data": {
      "text/plain": [
       "True"
      ]
     },
     "execution_count": 758,
     "metadata": {},
     "output_type": "execute_result"
    }
   ],
   "source": [
    "save_json_from_string(response.text, 'provider_employees.json')"
   ]
  },
  {
   "cell_type": "markdown",
   "metadata": {},
   "source": [
    "**Provider Colors**"
   ]
  },
  {
   "cell_type": "code",
   "execution_count": 759,
   "metadata": {},
   "outputs": [
    {
     "name": "stdout",
     "output_type": "stream",
     "text": [
      "```json\n",
      "[\n",
      "  {\n",
      "    \"provider\": \"One Telecom\",\n",
      "    \"color_name_1\": \"White\",\n",
      "    \"hex_code_1\": \"#ffffff\",\n",
      "    \"rgb_code_1\": [255, 255, 255]\n",
      "  },\n",
      "  {\n",
      "    \"color_name_2\": \"Black\",\n",
      "    \"hex_code_2\": \"#000000\",\n",
      "    \"rgb_code_2\": [0, 0, 0]\n",
      "  },\n",
      "   {\n",
      "    \"color_name_3\": \"Blue\",\n",
      "    \"hex_code_3\": null,\n",
      "    \"rgb_code_3\": null\n",
      "  }\n",
      "]\n",
      "```\n"
     ]
    }
   ],
   "source": [
    "\n",
    "contents = f\"\"\"\n",
    "\n",
    "    Write a report about company {provider}. This company is a provider of {COMPANY}\n",
    "\n",
    "    The report should exclusively provide the main colors of Company's branding, including any official color codes such as HEX or RGB. Focus on the primary colors used in the company's logo and website.\n",
    "\n",
    "    Do not include speculative colors and focus only on the main ones.\n",
    "\n",
    "    The report should be written in this style example:\n",
    "\n",
    "    Use this JSON schema:\n",
    "\n",
    "    company_colors = {{'provider':str,'color_name_1':str, 'hex_code_1':str, 'rgb_code_1':list[int]}},{{'color_name_2':str,'hex_code_2':str,'rgb_code_2':list[int]}}\n",
    "    Return: list[company_colors]\n",
    "\n",
    "    Thoroughly plan your work in detail and steps, but avoid discussing it. Do not add any additional comments after finishing the report.\n",
    "    \"\"\"\n",
    "\n",
    "\n",
    "response = client.models.generate_content(\n",
    "        model=MODEL, config=config, contents=contents)\n",
    "\n",
    "print(response.text)"
   ]
  },
  {
   "cell_type": "code",
   "execution_count": 760,
   "metadata": {},
   "outputs": [
    {
     "name": "stdout",
     "output_type": "stream",
     "text": [
      "JSON data has been successfully written to 'provider_color.json'.\n"
     ]
    },
    {
     "data": {
      "text/plain": [
       "True"
      ]
     },
     "execution_count": 760,
     "metadata": {},
     "output_type": "execute_result"
    }
   ],
   "source": [
    "save_json_from_string(response.text, 'provider_color.json')"
   ]
  },
  {
   "cell_type": "markdown",
   "metadata": {},
   "source": [
    "**Departments Provider**"
   ]
  },
  {
   "cell_type": "code",
   "execution_count": 761,
   "metadata": {},
   "outputs": [
    {
     "name": "stdout",
     "output_type": "stream",
     "text": [
      "```json\n",
      "[\n",
      "    {\n",
      "        \"provider\": \"One Telecom\",\n",
      "        \"department\": \"General\",\n",
      "        \"subdivision\": [],\n",
      "        \"address\": \"Rue de l'Ile Dossai 9, B-5300 Andenne, Belgium\",\n",
      "        \"phone\": \"+32 (0)85 24 16 10\",\n",
      "        \"vat\": null\n",
      "    },\n",
      "    {\n",
      "        \"provider\": \"One Telecom\",\n",
      "         \"department\": \"Customer Service\",\n",
      "        \"subdivision\": [\n",
      "            \"Internet\",\n",
      "            \"Mobile telephony\",\n",
      "            \"Fixed telephony\"\n",
      "         ],\n",
      "        \"address\": \"Rue de l'Ile Dossai 9, B-5300 Andenne, Belgium\",\n",
      "        \"phone\": \"+32 (0)85 24 16 10\",\n",
      "         \"vat\": null\n",
      "    }\n",
      "]\n",
      "```\n"
     ]
    }
   ],
   "source": [
    "contents = f\"\"\"\n",
    "\n",
    "Write a report about company {provider}. This company is a provider of {COMPANY}\n",
    "\n",
    "The report should exclusively provide a detailed summary of the company's departments and their respective subdivisions, if any.\n",
    "\n",
    "Include in the report the full address where the headquarter of the provider is located, the main phone number and vat number.\n",
    "\n",
    "Do not include abbreviations in the report.\n",
    "\n",
    "Provide a detailed list, specifying only verified and public information. Do not include speculative or incomplete details.\n",
    "\n",
    "The report should be written in this style example:\n",
    "\n",
    "Use this JSON schema:\n",
    "\n",
    "Provider_departments = {{'provider':str,'department':str, 'subdivision':list[str],'address':str, 'phone':str, 'vat':str}}\n",
    "Return: list[Provider_departments]\n",
    "\"\"\"\n",
    "\n",
    "response = client.models.generate_content(\n",
    "    model=MODEL, config=config, contents=contents)\n",
    "\n",
    "print(response.text)"
   ]
  },
  {
   "cell_type": "code",
   "execution_count": 762,
   "metadata": {},
   "outputs": [
    {
     "name": "stdout",
     "output_type": "stream",
     "text": [
      "JSON data has been successfully written to 'provider_departments.json'.\n"
     ]
    },
    {
     "data": {
      "text/plain": [
       "True"
      ]
     },
     "execution_count": 762,
     "metadata": {},
     "output_type": "execute_result"
    }
   ],
   "source": [
    "save_json_from_string(response.text, 'provider_departments.json')"
   ]
  },
  {
   "cell_type": "markdown",
   "metadata": {},
   "source": [
    "**Blend Data from Json files Providers**"
   ]
  },
  {
   "cell_type": "code",
   "execution_count": 763,
   "metadata": {},
   "outputs": [
    {
     "name": "stdout",
     "output_type": "stream",
     "text": [
      "Current working directory: c:\\Users\\Rik\\Desktop\\Proximus-Case-Team-4\\Rik\n",
      "Data loaded from provider_general_data.json (Type: <class 'list'>): [{'provider': 'One Telecom', 'service': 'Telecommunication services', 'type': 'Partner', 'provider_homepage': 'https://www.one-telecom.be/'}]\n",
      "Data loaded from provider_employees.json (Type: <class 'list'>): [{'provider': 'One Telecom', 'first_name': 'Adam', 'family_name': 'Cathcart', 'role': 'Managing Director', 'department': 'Leadership Team', 'email_address': 'adam.cathcart@one-telecom.be'}, {'provider': 'One Telecom', 'first_name': 'Roan', 'family_name': 'Pratt', 'role': 'Sales Director', 'department': 'Leadership Team', 'email_address': 'roan.pratt@one-telecom.be'}, {'provider': 'One Telecom', 'first_name': 'Vicki', 'family_name': 'Cowperthwaite', 'role': 'Operations Director', 'department': 'Leadership Team', 'email_address': 'vicki.cowperthwaite@one-telecom.be'}, {'provider': 'One Telecom', 'first_name': 'Tara', 'family_name': 'Kelman', 'role': 'Billing & Commercial Director', 'department': 'Leadership Team', 'email_address': 'tara.kelman@one-telecom.be'}, {'provider': 'One Telecom', 'first_name': 'Bernie', 'family_name': 'Young', 'role': 'Head of Business Improvement', 'department': 'Leadership Team', 'email_address': 'bernie.young@one-telecom.be'}, {'provider': 'One Telecom', 'first_name': 'Tim', 'family_name': 'Nelson', 'role': 'Head of Solution Sales', 'department': 'Leadership Team', 'email_address': 'tim.nelson@one-telecom.be'}, {'provider': 'One Telecom', 'first_name': 'Harli', 'family_name': 'Dewar', 'role': 'Marketing Manager', 'department': 'Leadership Team', 'email_address': 'harli.dewar@one-telecom.be'}]\n",
      "Data loaded from provider_color.json (Type: <class 'list'>): [{'provider': 'One Telecom', 'color_name_1': 'White', 'hex_code_1': '#ffffff', 'rgb_code_1': [255, 255, 255]}, {'color_name_2': 'Black', 'hex_code_2': '#000000', 'rgb_code_2': [0, 0, 0]}, {'color_name_3': 'Blue', 'hex_code_3': None, 'rgb_code_3': None}]\n",
      "Data loaded from provider_departments.json (Type: <class 'list'>): [{'provider': 'One Telecom', 'department': 'General', 'subdivision': [], 'address': \"Rue de l'Ile Dossai 9, B-5300 Andenne, Belgium\", 'phone': '+32 (0)85 24 16 10', 'vat': None}, {'provider': 'One Telecom', 'department': 'Customer Service', 'subdivision': ['Internet', 'Mobile telephony', 'Fixed telephony'], 'address': \"Rue de l'Ile Dossai 9, B-5300 Andenne, Belgium\", 'phone': '+32 (0)85 24 16 10', 'vat': None}]\n",
      "Blended Data: {\n",
      "    \"One Telecom\": {\n",
      "        \"general\": {\n",
      "            \"provider\": \"One Telecom\",\n",
      "            \"service\": \"Telecommunication services\",\n",
      "            \"type\": \"Partner\",\n",
      "            \"provider_homepage\": \"https://www.one-telecom.be/\"\n",
      "        },\n",
      "        \"employee\": [\n",
      "            {\n",
      "                \"provider\": \"One Telecom\",\n",
      "                \"first_name\": \"Adam\",\n",
      "                \"family_name\": \"Cathcart\",\n",
      "                \"role\": \"Managing Director\",\n",
      "                \"department\": \"Leadership Team\",\n",
      "                \"email_address\": \"adam.cathcart@one-telecom.be\"\n",
      "            },\n",
      "            {\n",
      "                \"provider\": \"One Telecom\",\n",
      "                \"first_name\": \"Roan\",\n",
      "                \"family_name\": \"Pratt\",\n",
      "                \"role\": \"Sales Director\",\n",
      "                \"department\": \"Leadership Team\",\n",
      "                \"email_address\": \"roan.pratt@one-telecom.be\"\n",
      "            },\n",
      "            {\n",
      "                \"provider\": \"One Telecom\",\n",
      "                \"first_name\": \"Vicki\",\n",
      "                \"family_name\": \"Cowperthwaite\",\n",
      "                \"role\": \"Operations Director\",\n",
      "                \"department\": \"Leadership Team\",\n",
      "                \"email_address\": \"vicki.cowperthwaite@one-telecom.be\"\n",
      "            },\n",
      "            {\n",
      "                \"provider\": \"One Telecom\",\n",
      "                \"first_name\": \"Tara\",\n",
      "                \"family_name\": \"Kelman\",\n",
      "                \"role\": \"Billing & Commercial Director\",\n",
      "                \"department\": \"Leadership Team\",\n",
      "                \"email_address\": \"tara.kelman@one-telecom.be\"\n",
      "            },\n",
      "            {\n",
      "                \"provider\": \"One Telecom\",\n",
      "                \"first_name\": \"Bernie\",\n",
      "                \"family_name\": \"Young\",\n",
      "                \"role\": \"Head of Business Improvement\",\n",
      "                \"department\": \"Leadership Team\",\n",
      "                \"email_address\": \"bernie.young@one-telecom.be\"\n",
      "            },\n",
      "            {\n",
      "                \"provider\": \"One Telecom\",\n",
      "                \"first_name\": \"Tim\",\n",
      "                \"family_name\": \"Nelson\",\n",
      "                \"role\": \"Head of Solution Sales\",\n",
      "                \"department\": \"Leadership Team\",\n",
      "                \"email_address\": \"tim.nelson@one-telecom.be\"\n",
      "            },\n",
      "            {\n",
      "                \"provider\": \"One Telecom\",\n",
      "                \"first_name\": \"Harli\",\n",
      "                \"family_name\": \"Dewar\",\n",
      "                \"role\": \"Marketing Manager\",\n",
      "                \"department\": \"Leadership Team\",\n",
      "                \"email_address\": \"harli.dewar@one-telecom.be\"\n",
      "            }\n",
      "        ],\n",
      "        \"color\": {\n",
      "            \"provider\": \"One Telecom\",\n",
      "            \"color_name_1\": \"White\",\n",
      "            \"hex_code_1\": \"#ffffff\",\n",
      "            \"rgb_code_1\": [\n",
      "                255,\n",
      "                255,\n",
      "                255\n",
      "            ]\n",
      "        },\n",
      "        \"departments\": [\n",
      "            {\n",
      "                \"provider\": \"One Telecom\",\n",
      "                \"department\": \"General\",\n",
      "                \"subdivision\": [],\n",
      "                \"address\": \"Rue de l'Ile Dossai 9, B-5300 Andenne, Belgium\",\n",
      "                \"phone\": \"+32 (0)85 24 16 10\",\n",
      "                \"vat\": null\n",
      "            },\n",
      "            {\n",
      "                \"provider\": \"One Telecom\",\n",
      "                \"department\": \"Customer Service\",\n",
      "                \"subdivision\": [\n",
      "                    \"Internet\",\n",
      "                    \"Mobile telephony\",\n",
      "                    \"Fixed telephony\"\n",
      "                ],\n",
      "                \"address\": \"Rue de l'Ile Dossai 9, B-5300 Andenne, Belgium\",\n",
      "                \"phone\": \"+32 (0)85 24 16 10\",\n",
      "                \"vat\": null\n",
      "            }\n",
      "        ]\n",
      "    }\n",
      "}\n",
      "Blended data has been saved to 'blended_data_providers.json'\n"
     ]
    }
   ],
   "source": [
    "# Function to read JSON data from a file and debug if necessary\n",
    "def read_json_file(file_path):\n",
    "    with open(file_path, 'r') as file:\n",
    "        try:\n",
    "            data = json.load(file)\n",
    "            # Debugging: Print the entire content of the file to inspect the structure\n",
    "            print(f\"Data loaded from {file_path} (Type: {type(data)}): {data}\")\n",
    "            if not isinstance(data, list):\n",
    "                raise ValueError(f\"Data in {file_path} is not a list as expected.\")\n",
    "            return data\n",
    "        except json.JSONDecodeError:\n",
    "            print(f\"Error decoding JSON from {file_path}\")\n",
    "            return []  # Return an empty list if the JSON is malformed\n",
    "\n",
    "# Function to blend data\n",
    "def blend_data_from_files(general_file, employee_file, color_file, department_file):\n",
    "    # Read data from files\n",
    "    general_data = read_json_file(general_file)\n",
    "    employee_data = read_json_file(employee_file)\n",
    "    color_data = read_json_file(color_file)\n",
    "    department_data = read_json_file(department_file)\n",
    "    \n",
    "    # Merge data\n",
    "    merged_data = {}\n",
    "\n",
    "    # Add general data\n",
    "    for entry in general_data:\n",
    "        try:\n",
    "            provider = entry[\"provider\"]\n",
    "            merged_data[provider] = {\"general\": entry}\n",
    "        except KeyError:\n",
    "            print(\"KeyError: Missing 'provider' in general data entry.\")\n",
    "            continue\n",
    "\n",
    "    # Add employee data\n",
    "    for entry in employee_data:\n",
    "        try:\n",
    "            provider = entry[\"provider\"]\n",
    "            if provider in merged_data:\n",
    "                if \"employee\" not in merged_data[provider]:\n",
    "                    merged_data[provider][\"employee\"] = []\n",
    "                merged_data[provider][\"employee\"].append(entry)\n",
    "        except KeyError:\n",
    "            print(\"KeyError: Missing 'provider' in employee data entry.\")\n",
    "            continue\n",
    "\n",
    "    # Add color data\n",
    "    for entry in color_data:\n",
    "        try:\n",
    "            provider = entry.get(\"provider\", \"Unknown\")\n",
    "            if provider in merged_data:\n",
    "                if \"color\" not in merged_data[provider]:\n",
    "                    merged_data[provider][\"color\"] = {}\n",
    "                merged_data[provider][\"color\"].update(entry)\n",
    "        except KeyError:\n",
    "            print(\"KeyError: Missing 'provider' in color data entry.\")\n",
    "            continue\n",
    "\n",
    "    # Add department data\n",
    "    for entry in department_data:\n",
    "        try:\n",
    "            provider = entry[\"provider\"]\n",
    "            if provider in merged_data:\n",
    "                if \"departments\" not in merged_data[provider]:\n",
    "                    merged_data[provider][\"departments\"] = []\n",
    "                merged_data[provider][\"departments\"].append(entry)\n",
    "        except KeyError:\n",
    "            print(\"KeyError: Missing 'provider' in department data entry.\")\n",
    "            continue\n",
    "\n",
    "    return merged_data\n",
    "\n",
    "# File paths\n",
    "general_file = 'provider_general_data.json'\n",
    "employee_file = 'provider_employees.json'\n",
    "color_file = 'provider_color.json'\n",
    "department_file = 'provider_departments.json'\n",
    "\n",
    "# Debugging: Print current working directory\n",
    "print(\"Current working directory:\", os.getcwd())\n",
    "\n",
    "# Blend the data\n",
    "blended_result = blend_data_from_files(general_file, employee_file, color_file, department_file)\n",
    "\n",
    "# Debugging: Print the blended data to verify\n",
    "print(\"Blended Data:\", json.dumps(blended_result, indent=4))\n",
    "\n",
    "# Write the result to a new JSON file and capture any potential errors\n",
    "try:\n",
    "    with open('blended_data_providers.json', 'w') as output_file:\n",
    "        json.dump(blended_result, output_file, indent=4)\n",
    "    print(\"Blended data has been saved to 'blended_data_providers.json'\")\n",
    "except Exception as e:\n",
    "    print(f\"Error saving file: {e}\")\n",
    "\n",
    "\n",
    "\n",
    "\n"
   ]
  },
  {
   "cell_type": "markdown",
   "metadata": {},
   "source": [
    "**2. SETTING UP THE EMAIL WRITING ASSISTANT** (temperature = 1, tools= ??)"
   ]
  },
  {
   "cell_type": "code",
   "execution_count": 764,
   "metadata": {},
   "outputs": [],
   "source": [
    "system_instruction= f\"\"\"You are a skilled copywriter with a knack for creating emails that feel\n",
    "    personal, relevant, urgent and engaging. Your task is to write emails to employees of\n",
    "    {COMPANY} all while maintaining a tone that feels individual, tailored and professional. \n",
    "    \n",
    "    The email should appear to come from a relevant source. Encourage actions like clicking links or downloading attachments with a sense of urgency. Align the email subject with the sender's theme and message.\n",
    "    \n",
    "    Incorporate in your answer only complete emails.\n",
    "    \n",
    "    Everything about the sender address, subject, and email body is focused on the recipient interacting with the link or attachment.\n",
    "    \"\"\""
   ]
  },
  {
   "cell_type": "code",
   "execution_count": 765,
   "metadata": {},
   "outputs": [],
   "source": [
    "config = GenerateContentConfig(system_instruction=system_instruction, temperature=1,maxOutputTokens=8000, top_p=0.9, top_k=40, safety_settings=safety_settings)"
   ]
  },
  {
   "cell_type": "markdown",
   "metadata": {},
   "source": [
    "**Fetch some Provider Context to generate better emails**"
   ]
  },
  {
   "cell_type": "code",
   "execution_count": 766,
   "metadata": {},
   "outputs": [],
   "source": [
    "# Load JSON data from the file\n",
    "with open(\"provider_employees.json\", \"r\") as file:\n",
    "    provider_employees = json.load(file)"
   ]
  },
  {
   "cell_type": "code",
   "execution_count": 767,
   "metadata": {},
   "outputs": [],
   "source": [
    "# Load JSON data from the file\n",
    "with open(\"provider_departments.json\", \"r\") as file:\n",
    "    provider_departments = json.load(file)"
   ]
  },
  {
   "cell_type": "markdown",
   "metadata": {},
   "source": [
    "**Setting up some dummy data about proximus employees**"
   ]
  },
  {
   "cell_type": "code",
   "execution_count": 768,
   "metadata": {},
   "outputs": [],
   "source": [
    "proximus_employees = [\n",
    "    {\n",
    "        \"name\": \"Marie Declercq\", \n",
    "        \"email\": \"marie.declercq@proximus.be\", \n",
    "        \"role\": \"Data Analyst\", \n",
    "        \"language\": \"Dutch\", \n",
    "        \"department\": \"Consumer Market\"\n",
    "    },\n",
    "    {\n",
    "        \"name\": \"Luc Vandenberg\", \n",
    "        \"email\": \"luc.vandenberg@proximus.be\", \n",
    "        \"role\": \"Cybersecurity Specialist\", \n",
    "        \"language\": \"Dutch\", \n",
    "        \"department\": \"Network & Wholesale\"\n",
    "    },\n",
    "    {\n",
    "        \"name\": \"Emma Wouters\", \n",
    "        \"email\": \"emma.wouters@proximus.be\", \n",
    "        \"role\": \"Marketing Specialist\", \n",
    "        \"language\": \"English\", \n",
    "        \"department\": \"Enterprise Market\"\n",
    "    },\n",
    "    {\n",
    "        \"name\": \"Jai Mehta\", \n",
    "        \"email\": \"jai.mehta@proximus.be\", \n",
    "        \"role\": \"System Administrator\", \n",
    "        \"language\": \"English\", \n",
    "        \"department\": \"IT Infrastructure\"\n",
    "    },\n",
    "    {\n",
    "        \"name\": \"Guillaume Boutin\", \n",
    "        \"email\": \"guillaume.boutin@proximus.be\", \n",
    "        \"role\": \"Chief Executive Officer\", \n",
    "        \"language\": \"French\", \n",
    "        \"department\": \"Chief Executive Officer's Department\"\n",
    "    }\n",
    "] # type: ignore\n"
   ]
  },
  {
   "cell_type": "code",
   "execution_count": 769,
   "metadata": {},
   "outputs": [],
   "source": [
    "random_employee = rd.choice(proximus_employees)"
   ]
  },
  {
   "cell_type": "code",
   "execution_count": 774,
   "metadata": {},
   "outputs": [],
   "source": [
    "telecom_employee_events = [\n",
    "    \"Seminars\",\n",
    "    \"Presentations\",\n",
    "    \"Networking Meetings\",\n",
    "    \"Workshops\",\n",
    "    \"Training Sessions\",\n",
    "    \"Industry Roundtables\",\n",
    "    \"Panel Discussions\",\n",
    "    \"Webinars\",\n",
    "    \"Conferences\",\n",
    "    \"Hackathons\",\n",
    "    \"Product Demos\",\n",
    "    \"Leadership Forums\",\n",
    "    \"Strategic Planning Meetings\",\n",
    "    \"Customer Experience Sessions\",\n",
    "    \"Innovation Labs\"\n",
    "]"
   ]
  },
  {
   "cell_type": "code",
   "execution_count": null,
   "metadata": {},
   "outputs": [],
   "source": [
    "urgent_management_subjects = [\n",
    "    \"Network Downtime or Service Outages\",\n",
    "    \"Critical System Failures or Bugs\",\n",
    "    \"Security Breaches or Cyber Attacks\",\n",
    "    \"Customer Complaints or Escalations\",\n",
    "    \"Regulatory Compliance Issues\",\n",
    "    \"Financial Performance Gaps (e.g., missed revenue targets)\",\n",
    "    \"Market Share Loss or Competitive Threats\",\n",
    "    \"Product Launch Delays\",\n",
    "    \"Data Loss or Corruption\",\n",
    "    \"Staffing Shortages or High Turnover\",\n",
    "    \"Emergency Risk Mitigation Plans\",\n",
    "    \"Vendor or Partner Relationship Breakdowns\",\n",
    "    \"Legal or Contractual Issues\",\n",
    "    \"Compliance with New Legislation or Policy\",\n",
    "    \"Customer Churn or Retention Crisis\",\n",
    "    \"High-Impact Marketing Campaigns\",\n",
    "    \"Supply Chain Disruptions\",\n",
    "    \"Unresolved Customer Billing Issues\",\n",
    "    \"Network Security Vulnerabilities\",\n",
    "    \"Natural Disasters or Crisis Response\"\n",
    "]"
   ]
  },
  {
   "cell_type": "markdown",
   "metadata": {},
   "source": [
    "**Emails Provider to Proximus**"
   ]
  },
  {
   "cell_type": "code",
   "execution_count": 770,
   "metadata": {},
   "outputs": [
    {
     "name": "stdout",
     "output_type": "stream",
     "text": [
      "```json\n",
      "[\n",
      "  {\n",
      "    \"subject\": \"Dringend: Analyse van One Telecom Data vereist voor Proximus Diensten\",\n",
      "    \"body\": \"Beste Marie,\\n\\nIk hoop dat deze e-mail je goed bereikt.\\n\\nEr is een dringende kwestie die onmiddellijke aandacht vereist. Onze partner, One Telecom, heeft een significante anomalie in de data van hun telecommunicatiediensten gemeld. Deze anomalie kan een impact hebben op de service die Proximus aan onze klanten levert. We hebben de One Telecom data nodig voor een diepgaande analyse om de impact te bepalen en een passende oplossing te implementeren.\\n\\nHet is cruciaal dat we deze data zo snel mogelijk onderzoeken om eventuele verstoringen te voorkomen. De impact van het probleem kan namelijk escaleren als we niet snel handelen. Gelieve de bijgevoegde data-extract te downloaden en direct te beginnen met de analyse. Ik reken op je expertise om hier snel duidelijkheid in te scheppen. \\n\\nMet vriendelijke groet,\\n\\n\",\n",
      "    \"email_sign_fullname\": \"Jan Van Damme\",\n",
      "    \"email_sign_role\": \"Data Analist\",\n",
      "    \"email_sign_company\": \"One Telecom\",\n",
      "    \"receiver_name\": \"Marie Declercq\"\n",
      "  },\n",
      "    {\n",
      "    \"subject\": \"BELANGRIJK: Onmiddellijke Datacheck One Telecom noodzakelijk\",\n",
      "    \"body\": \"Hallo Marie,\\n\\nIk hoop dat alles goed met je gaat.\\n\\nWe hebben een kritieke situatie met betrekking tot de telecommunicatiediensten van One Telecom, onze partner. Er is een probleem geconstateerd dat mogelijk onze Proximus-klanten beïnvloedt. Het is noodzakelijk dat je een analyse uitvoert op de One Telecom data om de ernst van het probleem te begrijpen en een strategie te ontwikkelen om het op te lossen.\\n\\nDeze situatie vereist onmiddellijke actie. Elke vertraging kan leiden tot een grotere impact op onze klanten. Ik heb de relevante data hieronder in een bijlage toegevoegd. Zou je deze data zo snel mogelijk kunnen controleren? We moeten deze problemen snel oplossen. Jouw expertise is cruciaal voor ons in dit proces.\\n\\nMet vriendelijke groet,\\n\\n\",\n",
      "     \"email_sign_fullname\": \"Jan Van Damme\",\n",
      "    \"email_sign_role\": \"Data Analist\",\n",
      "    \"email_sign_company\": \"One Telecom\",\n",
      "    \"receiver_name\": \"Marie Declercq\"\n",
      "  },\n",
      "    {\n",
      "    \"subject\": \"Dringende Data Analyse Vereist - One Telecom Incident\",\n",
      "    \"body\": \"Dag Marie,\\n\\nIk hoop dat je een goede dag hebt.\\n\\nWe ondervinden een acuut probleem met de door One Telecom geleverde telecommunicatiediensten, een belangrijke partner van ons. Het is essentieel dat je onmiddellijk een diepgaande analyse uitvoert op de meest recente data die we hebben ontvangen. Deze data bevat een significante afwijking die mogelijk grote gevolgen kan hebben voor de kwaliteit van onze Proximus-diensten.\\n\\nWe moeten deze afwijking zo snel mogelijk identificeren en corrigeren. De bijgevoegde data is cruciaal voor je analyse. Download deze direct en start met de analyse. We hebben jouw expertise nodig om dit probleem snel op te lossen.\\n\\nMet vriendelijke groet,\\n\\n\",\n",
      "     \"email_sign_fullname\": \"Jan Van Damme\",\n",
      "    \"email_sign_role\": \"Data Analist\",\n",
      "    \"email_sign_company\": \"One Telecom\",\n",
      "    \"receiver_name\": \"Marie Declercq\"\n",
      "  }\n",
      "]\n",
      "```\n",
      "\n"
     ]
    }
   ],
   "source": [
    "contents = f\"\"\"\n",
    "\n",
    "{provider} is a service provider of {COMPANY}. {provider} has these {provider_departments}.\n",
    "\n",
    "Write some tailored emails based on the role of {random_employee['role']} about an urgent matter that needs to be solved related to {COMPANY} concerning a service that {provider} offers. Elaborate about the issue and point out why it needs to be solved as quick as possible.\n",
    "\n",
    "The receiver of the email is {random_employee['name']} and should be in {random_employee['language']}\n",
    "\n",
    "The email signature should contain the first name, family name, role and the company name of one of the employees of {provider}. \n",
    "\n",
    "The email should be written in this style example:\n",
    "\n",
    "Use this JSON schema:\n",
    "\n",
    "Provider_email = {{'subject':str,'body':str, 'email_sign_fullname':str, 'email_sign_role':str, 'email_sign_company':str, 'receiver_name':str}}\n",
    "Return: list[Provider_email]\n",
    "\"\"\"\n",
    "\n",
    "response = client.models.generate_content(\n",
    "    model=MODEL, config=config, contents=contents)\n",
    "\n",
    "print(response.text)"
   ]
  },
  {
   "cell_type": "markdown",
   "metadata": {},
   "source": [
    "repairing a string"
   ]
  },
  {
   "cell_type": "code",
   "execution_count": 771,
   "metadata": {},
   "outputs": [],
   "source": [
    "def repair_json_response(response_text):\n",
    "    \"\"\"\n",
    "    Repairs a potentially malformed JSON string from `response.text`.\n",
    "    Ensures it starts with '[' and ends with ']' after the last complete dictionary.\n",
    "\n",
    "    Args:\n",
    "        response_text (str): The response text containing a potentially malformed JSON string.\n",
    "\n",
    "    Returns:\n",
    "        None: Prints the repaired JSON string.\n",
    "\n",
    "    Raises:\n",
    "        ValueError: If the string cannot be repaired into valid JSON.\n",
    "    \"\"\"\n",
    "    # Remove the unwanted prefix if it exists\n",
    "    if response_text.strip().startswith(\"[```json\"):\n",
    "        response_text = response_text.replace(\"[```json\", \"\", 1).strip()\n",
    "\n",
    "    # Ensure the string starts with '['\n",
    "    if not response_text.strip().startswith(\"[\"):\n",
    "        response_text = \"[\" + response_text\n",
    "\n",
    "    # Find the last closing brace ('}')\n",
    "    last_brace_index = response_text.rfind(\"}\")\n",
    "    if last_brace_index == -1:\n",
    "        raise ValueError(\"No closing brace found in the response text.\")\n",
    "\n",
    "    # Trim the string up to the last complete dictionary and close the list\n",
    "    repaired_string = response_text[:last_brace_index + 1].rstrip(\", \\n\") + \"]\"\n",
    "    \n",
    "    # Print the repaired JSON string\n",
    "    print(repaired_string)\n"
   ]
  },
  {
   "cell_type": "code",
   "execution_count": 772,
   "metadata": {},
   "outputs": [
    {
     "name": "stdout",
     "output_type": "stream",
     "text": [
      "[```json\n",
      "[\n",
      "  {\n",
      "    \"subject\": \"Dringend: Analyse van One Telecom Data vereist voor Proximus Diensten\",\n",
      "    \"body\": \"Beste Marie,\\n\\nIk hoop dat deze e-mail je goed bereikt.\\n\\nEr is een dringende kwestie die onmiddellijke aandacht vereist. Onze partner, One Telecom, heeft een significante anomalie in de data van hun telecommunicatiediensten gemeld. Deze anomalie kan een impact hebben op de service die Proximus aan onze klanten levert. We hebben de One Telecom data nodig voor een diepgaande analyse om de impact te bepalen en een passende oplossing te implementeren.\\n\\nHet is cruciaal dat we deze data zo snel mogelijk onderzoeken om eventuele verstoringen te voorkomen. De impact van het probleem kan namelijk escaleren als we niet snel handelen. Gelieve de bijgevoegde data-extract te downloaden en direct te beginnen met de analyse. Ik reken op je expertise om hier snel duidelijkheid in te scheppen. \\n\\nMet vriendelijke groet,\\n\\n\",\n",
      "    \"email_sign_fullname\": \"Jan Van Damme\",\n",
      "    \"email_sign_role\": \"Data Analist\",\n",
      "    \"email_sign_company\": \"One Telecom\",\n",
      "    \"receiver_name\": \"Marie Declercq\"\n",
      "  },\n",
      "    {\n",
      "    \"subject\": \"BELANGRIJK: Onmiddellijke Datacheck One Telecom noodzakelijk\",\n",
      "    \"body\": \"Hallo Marie,\\n\\nIk hoop dat alles goed met je gaat.\\n\\nWe hebben een kritieke situatie met betrekking tot de telecommunicatiediensten van One Telecom, onze partner. Er is een probleem geconstateerd dat mogelijk onze Proximus-klanten beïnvloedt. Het is noodzakelijk dat je een analyse uitvoert op de One Telecom data om de ernst van het probleem te begrijpen en een strategie te ontwikkelen om het op te lossen.\\n\\nDeze situatie vereist onmiddellijke actie. Elke vertraging kan leiden tot een grotere impact op onze klanten. Ik heb de relevante data hieronder in een bijlage toegevoegd. Zou je deze data zo snel mogelijk kunnen controleren? We moeten deze problemen snel oplossen. Jouw expertise is cruciaal voor ons in dit proces.\\n\\nMet vriendelijke groet,\\n\\n\",\n",
      "     \"email_sign_fullname\": \"Jan Van Damme\",\n",
      "    \"email_sign_role\": \"Data Analist\",\n",
      "    \"email_sign_company\": \"One Telecom\",\n",
      "    \"receiver_name\": \"Marie Declercq\"\n",
      "  },\n",
      "    {\n",
      "    \"subject\": \"Dringende Data Analyse Vereist - One Telecom Incident\",\n",
      "    \"body\": \"Dag Marie,\\n\\nIk hoop dat je een goede dag hebt.\\n\\nWe ondervinden een acuut probleem met de door One Telecom geleverde telecommunicatiediensten, een belangrijke partner van ons. Het is essentieel dat je onmiddellijk een diepgaande analyse uitvoert op de meest recente data die we hebben ontvangen. Deze data bevat een significante afwijking die mogelijk grote gevolgen kan hebben voor de kwaliteit van onze Proximus-diensten.\\n\\nWe moeten deze afwijking zo snel mogelijk identificeren en corrigeren. De bijgevoegde data is cruciaal voor je analyse. Download deze direct en start met de analyse. We hebben jouw expertise nodig om dit probleem snel op te lossen.\\n\\nMet vriendelijke groet,\\n\\n\",\n",
      "     \"email_sign_fullname\": \"Jan Van Damme\",\n",
      "    \"email_sign_role\": \"Data Analist\",\n",
      "    \"email_sign_company\": \"One Telecom\",\n",
      "    \"receiver_name\": \"Marie Declercq\"\n",
      "  }]\n"
     ]
    }
   ],
   "source": [
    "response_llm = response.text\n",
    "repair_json_response(response_llm)"
   ]
  },
  {
   "cell_type": "code",
   "execution_count": 773,
   "metadata": {},
   "outputs": [
    {
     "name": "stdout",
     "output_type": "stream",
     "text": [
      "JSON data has been successfully written to 'email_provider_to_proximus.json'.\n"
     ]
    },
    {
     "data": {
      "text/plain": [
       "True"
      ]
     },
     "execution_count": 773,
     "metadata": {},
     "output_type": "execute_result"
    }
   ],
   "source": [
    "save_json_from_string(response_llm, 'email_provider_to_proximus.json')"
   ]
  },
  {
   "cell_type": "markdown",
   "metadata": {},
   "source": [
    "**Internal Emails Proximus**"
   ]
  },
  {
   "cell_type": "code",
   "execution_count": null,
   "metadata": {},
   "outputs": [],
   "source": []
  },
  {
   "cell_type": "markdown",
   "metadata": {},
   "source": [
    "**4. BLENDING DATA IN HTML**"
   ]
  },
  {
   "cell_type": "markdown",
   "metadata": {},
   "source": []
  },
  {
   "cell_type": "markdown",
   "metadata": {},
   "source": [
    "**5. SENDING MAILS TO GOPHISH**"
   ]
  },
  {
   "cell_type": "markdown",
   "metadata": {},
   "source": []
  }
 ],
 "metadata": {
  "kernelspec": {
   "display_name": "proximus",
   "language": "python",
   "name": "python3"
  },
  "language_info": {
   "codemirror_mode": {
    "name": "ipython",
    "version": 3
   },
   "file_extension": ".py",
   "mimetype": "text/x-python",
   "name": "python",
   "nbconvert_exporter": "python",
   "pygments_lexer": "ipython3",
   "version": "3.10.11"
  }
 },
 "nbformat": 4,
 "nbformat_minor": 2
}
