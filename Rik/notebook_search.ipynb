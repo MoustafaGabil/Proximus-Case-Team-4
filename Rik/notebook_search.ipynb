{
 "cells": [
  {
   "cell_type": "code",
   "execution_count": 1,
   "metadata": {},
   "outputs": [
    {
     "name": "stdout",
     "output_type": "stream",
     "text": [
      "I am a large language model, trained by Google.\n",
      "\n"
     ]
    }
   ],
   "source": [
    "from google import genai\n",
    "from google.genai import types\n",
    "from dotenv import load_dotenv\n",
    "import os\n",
    "\n",
    "# Load environment variables from the .env file\n",
    "load_dotenv()\n",
    "\n",
    "# Retrieve the API key from the .env file\n",
    "api_key = os.getenv('GEMINI_API_KEY')\n",
    "\n",
    "# Initialize the Google AI client\n",
    "client = genai.Client(api_key=api_key)\n",
    "\n",
    "# Generate content\n",
    "response = client.models.generate_content(\n",
    "    model='gemini-2.0-flash-exp', contents='What is your name?'\n",
    ")\n",
    "print(response.text)\n",
    "\n",
    "\n"
   ]
  },
  {
   "cell_type": "code",
   "execution_count": 2,
   "metadata": {},
   "outputs": [],
   "source": [
    "from google.genai.types import GenerateContentConfig, Tool\n",
    "from google.generativeai.types import HarmCategory, HarmBlockThreshold\n",
    "from IPython.display import display, HTML, Markdown\n",
    "import io\n",
    "import json\n",
    "import re"
   ]
  },
  {
   "cell_type": "code",
   "execution_count": 3,
   "metadata": {},
   "outputs": [],
   "source": [
    "MODEL = \"gemini-2.0-flash-exp\""
   ]
  },
  {
   "cell_type": "code",
   "execution_count": 4,
   "metadata": {},
   "outputs": [],
   "source": [
    "\n",
    "COMPANY = 'Proximus'"
   ]
  },
  {
   "cell_type": "code",
   "execution_count": 5,
   "metadata": {},
   "outputs": [
    {
     "data": {
      "text/markdown": [
       "Okay"
      ],
      "text/plain": [
       "<IPython.core.display.Markdown object>"
      ]
     },
     "metadata": {},
     "output_type": "display_data"
    },
    {
     "data": {
      "text/markdown": [
       ", I will create a company report for Proximus. Here's my"
      ],
      "text/plain": [
       "<IPython.core.display.Markdown object>"
      ]
     },
     "metadata": {},
     "output_type": "display_data"
    },
    {
     "data": {
      "text/markdown": [
       " plan:\n",
       "\n",
       "1.  **Company Overview:** I'll start by gathering"
      ],
      "text/plain": [
       "<IPython.core.display.Markdown object>"
      ]
     },
     "metadata": {},
     "output_type": "display_data"
    },
    {
     "data": {
      "text/markdown": [
       " general information about Proximus, such as its industry, headquarters, and a brief history.\n",
       "2.  **Logo:** I'll find the most"
      ],
      "text/plain": [
       "<IPython.core.display.Markdown object>"
      ]
     },
     "metadata": {},
     "output_type": "display_data"
    },
    {
     "data": {
      "text/markdown": [
       " recent company logo and include a link to it.\n",
       "3.  **Services:** I'll research what services Proximus offers and identify companies that provide"
      ],
      "text/plain": [
       "<IPython.core.display.Markdown object>"
      ]
     },
     "metadata": {},
     "output_type": "display_data"
    },
    {
     "data": {
      "text/markdown": [
       " services to them.\n",
       "4.  **Key People:** I'll identify key personnel within the company and their roles.\n",
       "5.  **Departments:** I'll look into the different departments within Proximus.\n",
       "6."
      ],
      "text/plain": [
       "<IPython.core.display.Markdown object>"
      ]
     },
     "metadata": {},
     "output_type": "display_data"
    },
    {
     "data": {
      "text/markdown": [
       "  **Recent News/Updates:** I'll search for any recent news or updates about the company.\n",
       "\n",
       "Now, let's start with the searches.\n",
       "\n"
      ],
      "text/plain": [
       "<IPython.core.display.Markdown object>"
      ]
     },
     "metadata": {},
     "output_type": "display_data"
    },
    {
     "data": {
      "text/markdown": [
       "Okay"
      ],
      "text/plain": [
       "<IPython.core.display.Markdown object>"
      ]
     },
     "metadata": {},
     "output_type": "display_data"
    },
    {
     "data": {
      "text/markdown": [
       ", I have gathered a lot of information about Proximus. Here's"
      ],
      "text/plain": [
       "<IPython.core.display.Markdown object>"
      ]
     },
     "metadata": {},
     "output_type": "display_data"
    },
    {
     "data": {
      "text/markdown": [
       " the company report:\n",
       "\n",
       "---\n",
       "**Company Report: Proximus**\n",
       "\n"
      ],
      "text/plain": [
       "<IPython.core.display.Markdown object>"
      ]
     },
     "metadata": {},
     "output_type": "display_data"
    },
    {
     "data": {
      "text/markdown": [
       "**Overview:**\n",
       "\n",
       "Proximus is a major telecommunications and digital services provider in Belgium and international markets. It was founded in 1930 as"
      ],
      "text/plain": [
       "<IPython.core.display.Markdown object>"
      ]
     },
     "metadata": {},
     "output_type": "display_data"
    },
    {
     "data": {
      "text/markdown": [
       " RTT and later became Belgacom before rebranding to Proximus in 2015. The company offers a wide range of services, including fixed and"
      ],
      "text/plain": [
       "<IPython.core.display.Markdown object>"
      ]
     },
     "metadata": {},
     "output_type": "display_data"
    },
    {
     "data": {
      "text/markdown": [
       " mobile telephony, internet, digital television, and ICT solutions. Proximus is the incumbent telecom operator in Belgium, with a significant market share in broadband and mobile services. The Belgian government owns a majority stake (53.51%)"
      ],
      "text/plain": [
       "<IPython.core.display.Markdown object>"
      ]
     },
     "metadata": {},
     "output_type": "display_data"
    },
    {
     "data": {
      "text/markdown": [
       " in the company.\n",
       "\n",
       "**Logo:**\n",
       "\n",
       "The Proximus logo is a stylized \"X\" shape. A vector version of the logo can be found here: [Proximus Vector Logo](https://worldvectorlogo.com/"
      ],
      "text/plain": [
       "<IPython.core.display.Markdown object>"
      ]
     },
     "metadata": {},
     "output_type": "display_data"
    },
    {
     "data": {
      "text/markdown": [
       "logo/proximus).\n",
       "\n",
       "**Services:**\n",
       "\n",
       "Proximus provides a variety of services, including:\n",
       "\n",
       "*   **For Consumers:** Fixed and mobile telephony, internet, digital television, and bundled services under the brands Proximus, Scarlet, and Mobile Vikings.\n",
       "*   **For Businesses:** ICT services"
      ],
      "text/plain": [
       "<IPython.core.display.Markdown object>"
      ]
     },
     "metadata": {},
     "output_type": "display_data"
    },
    {
     "data": {
      "text/markdown": [
       ", managed and platform services, networking, cloud, cybersecurity, business applications, data and AI services.\n",
       "*   **International Services:** Through its subsidiaries BICS and Telesign, Proximus offers international communication platforms, digital identity, and authentication services.\n",
       "*   **Wholesale Services:** Providing network access to other"
      ],
      "text/plain": [
       "<IPython.core.display.Markdown object>"
      ]
     },
     "metadata": {},
     "output_type": "display_data"
    },
    {
     "data": {
      "text/markdown": [
       " operators and service providers.\n",
       "\n",
       "**Companies that provide services to Proximus:**\n",
       "\n",
       "Proximus has a wide ecosystem of partners, including:\n",
       "\n",
       "*   **IT Partners:** Be-Mobile, ClearMedia, Codit, Davinsi Labs, Proximus Spearit, and Telindus.\n",
       "*   "
      ],
      "text/plain": [
       "<IPython.core.display.Markdown object>"
      ]
     },
     "metadata": {},
     "output_type": "display_data"
    },
    {
     "data": {
      "text/markdown": [
       "**Telecom Partners:** Sewan, 3StarsNet, Yoin, Belcenter, Citymesh, Colt Technology Services, Comsave, Nokia, Ericsson, Unifiber, Infosys.\n",
       "*   **Technology Partners:** Accenture.\n",
       "\n",
       "**Key People:**\n",
       "\n",
       "*   **Guillaume Boutin:** Chief Executive"
      ],
      "text/plain": [
       "<IPython.core.display.Markdown object>"
      ]
     },
     "metadata": {},
     "output_type": "display_data"
    },
    {
     "data": {
      "text/markdown": [
       " Officer (CEO) of the Proximus Group.\n",
       "*   **Stefaan De Clerck:** Chairman of the Proximus Board.\n",
       "*   **Ben Appel:** Corporate Affairs Lead.\n",
       "*   **Jim Casteele:** Consumer Market Lead.\n",
       "*   **Anne-Sophie Lotgering:**"
      ],
      "text/plain": [
       "<IPython.core.display.Markdown object>"
      ]
     },
     "metadata": {},
     "output_type": "display_data"
    },
    {
     "data": {
      "text/markdown": [
       " Enterprise IT Services & Segments Lead.\n",
       "*   **Antonietta Mastroianni:** Digital & IT Lead.\n",
       "*   **Mark Reid:** Finance Lead.\n",
       "*   **Geert Standaert:** Network & Wholesale Lead.\n",
       "*   **Other Board Members:** Caroline Basyn, Cécile"
      ],
      "text/plain": [
       "<IPython.core.display.Markdown object>"
      ]
     },
     "metadata": {},
     "output_type": "display_data"
    },
    {
     "data": {
      "text/markdown": [
       " Coune, Karel De Gucht, Béatrice de Mahieu, Martin De Prycker, Audrey Hanard, Ibrahim Ouassari, Catherine Rutten, Joachim Sonne.\n",
       "\n",
       "**Departments:**\n",
       "\n",
       "The Proximus Group is structured into several departments:\n",
       "\n",
       "*   CEO's Department\n",
       "*   Consumer Market\n"
      ],
      "text/plain": [
       "<IPython.core.display.Markdown object>"
      ]
     },
     "metadata": {},
     "output_type": "display_data"
    },
    {
     "data": {
      "text/markdown": [
       "*   Enterprise Market\n",
       "*   Corporate Affairs\n",
       "*   Network & Wholesale\n",
       "*   Customer Operations\n",
       "*   Human Capital\n",
       "*   Digital & IT\n",
       "*   Finance\n",
       "\n",
       "**Recent News/Updates:**\n",
       "\n",
       "*   **Proximus Global:** Proximus has created Proximus Global, integrating its international"
      ],
      "text/plain": [
       "<IPython.core.display.Markdown object>"
      ]
     },
     "metadata": {},
     "output_type": "display_data"
    },
    {
     "data": {
      "text/markdown": [
       " activities under one umbrella, including BICS, Telesign, and Route Mobile.\n",
       "*   **Fiber Network:** Proximus' fiber network has received recognition for its speed and performance.\n",
       "*   **Scarlet Offer:** Scarlet has launched a new offer with increased data volumes at the same price.\n",
       "*   "
      ],
      "text/plain": [
       "<IPython.core.display.Markdown object>"
      ]
     },
     "metadata": {},
     "output_type": "display_data"
    },
    {
     "data": {
      "text/markdown": [
       "**Supply Chain:** Proximus is testing cargo sailboats in its supply chain.\n",
       "*   **Data Center Sale:** Proximus sold its data center business to Datacenter United.\n",
       "*   **Luxembourg Towers Sale:** Proximus sold its Luxembourg towers to InfraRed Capital Partners.\n",
       "\n",
       "Proximus"
      ],
      "text/plain": [
       "<IPython.core.display.Markdown object>"
      ]
     },
     "metadata": {},
     "output_type": "display_data"
    },
    {
     "data": {
      "text/markdown": [
       " is actively expanding its fiber network in Belgium, aiming for 95% coverage by 2032. The company is also focusing on digital transformation and international growth.\n",
       "---\n"
      ],
      "text/plain": [
       "<IPython.core.display.Markdown object>"
      ]
     },
     "metadata": {},
     "output_type": "display_data"
    },
    {
     "data": {
      "text/html": [
       "<style>\n",
       ".container {\n",
       "  align-items: center;\n",
       "  border-radius: 8px;\n",
       "  display: flex;\n",
       "  font-family: Google Sans, Roboto, sans-serif;\n",
       "  font-size: 14px;\n",
       "  line-height: 20px;\n",
       "  padding: 8px 12px;\n",
       "}\n",
       ".chip {\n",
       "  display: inline-block;\n",
       "  border: solid 1px;\n",
       "  border-radius: 16px;\n",
       "  min-width: 14px;\n",
       "  padding: 5px 16px;\n",
       "  text-align: center;\n",
       "  user-select: none;\n",
       "  margin: 0 8px;\n",
       "  -webkit-tap-highlight-color: transparent;\n",
       "}\n",
       ".carousel {\n",
       "  overflow: auto;\n",
       "  scrollbar-width: none;\n",
       "  white-space: nowrap;\n",
       "  margin-right: -12px;\n",
       "}\n",
       ".headline {\n",
       "  display: flex;\n",
       "  margin-right: 4px;\n",
       "}\n",
       ".gradient-container {\n",
       "  position: relative;\n",
       "}\n",
       ".gradient {\n",
       "  position: absolute;\n",
       "  transform: translate(3px, -9px);\n",
       "  height: 36px;\n",
       "  width: 9px;\n",
       "}\n",
       "@media (prefers-color-scheme: light) {\n",
       "  .container {\n",
       "    background-color: #fafafa;\n",
       "    box-shadow: 0 0 0 1px #0000000f;\n",
       "  }\n",
       "  .headline-label {\n",
       "    color: #1f1f1f;\n",
       "  }\n",
       "  .chip {\n",
       "    background-color: #ffffff;\n",
       "    border-color: #d2d2d2;\n",
       "    color: #5e5e5e;\n",
       "    text-decoration: none;\n",
       "  }\n",
       "  .chip:hover {\n",
       "    background-color: #f2f2f2;\n",
       "  }\n",
       "  .chip:focus {\n",
       "    background-color: #f2f2f2;\n",
       "  }\n",
       "  .chip:active {\n",
       "    background-color: #d8d8d8;\n",
       "    border-color: #b6b6b6;\n",
       "  }\n",
       "  .logo-dark {\n",
       "    display: none;\n",
       "  }\n",
       "  .gradient {\n",
       "    background: linear-gradient(90deg, #fafafa 15%, #fafafa00 100%);\n",
       "  }\n",
       "}\n",
       "@media (prefers-color-scheme: dark) {\n",
       "  .container {\n",
       "    background-color: #1f1f1f;\n",
       "    box-shadow: 0 0 0 1px #ffffff26;\n",
       "  }\n",
       "  .headline-label {\n",
       "    color: #fff;\n",
       "  }\n",
       "  .chip {\n",
       "    background-color: #2c2c2c;\n",
       "    border-color: #3c4043;\n",
       "    color: #fff;\n",
       "    text-decoration: none;\n",
       "  }\n",
       "  .chip:hover {\n",
       "    background-color: #353536;\n",
       "  }\n",
       "  .chip:focus {\n",
       "    background-color: #353536;\n",
       "  }\n",
       "  .chip:active {\n",
       "    background-color: #464849;\n",
       "    border-color: #53575b;\n",
       "  }\n",
       "  .logo-light {\n",
       "    display: none;\n",
       "  }\n",
       "  .gradient {\n",
       "    background: linear-gradient(90deg, #1f1f1f 15%, #1f1f1f00 100%);\n",
       "  }\n",
       "}\n",
       "</style>\n",
       "<div class=\"container\">\n",
       "  <div class=\"headline\">\n",
       "    <svg class=\"logo-light\" width=\"18\" height=\"18\" viewBox=\"9 9 35 35\" fill=\"none\" xmlns=\"http://www.w3.org/2000/svg\">\n",
       "      <path fill-rule=\"evenodd\" clip-rule=\"evenodd\" d=\"M42.8622 27.0064C42.8622 25.7839 42.7525 24.6084 42.5487 23.4799H26.3109V30.1568H35.5897C35.1821 32.3041 33.9596 34.1222 32.1258 35.3448V39.6864H37.7213C40.9814 36.677 42.8622 32.2571 42.8622 27.0064V27.0064Z\" fill=\"#4285F4\"/>\n",
       "      <path fill-rule=\"evenodd\" clip-rule=\"evenodd\" d=\"M26.3109 43.8555C30.9659 43.8555 34.8687 42.3195 37.7213 39.6863L32.1258 35.3447C30.5898 36.3792 28.6306 37.0061 26.3109 37.0061C21.8282 37.0061 18.0195 33.9811 16.6559 29.906H10.9194V34.3573C13.7563 39.9841 19.5712 43.8555 26.3109 43.8555V43.8555Z\" fill=\"#34A853\"/>\n",
       "      <path fill-rule=\"evenodd\" clip-rule=\"evenodd\" d=\"M16.6559 29.8904C16.3111 28.8559 16.1074 27.7588 16.1074 26.6146C16.1074 25.4704 16.3111 24.3733 16.6559 23.3388V18.8875H10.9194C9.74388 21.2072 9.06992 23.8247 9.06992 26.6146C9.06992 29.4045 9.74388 32.022 10.9194 34.3417L15.3864 30.8621L16.6559 29.8904V29.8904Z\" fill=\"#FBBC05\"/>\n",
       "      <path fill-rule=\"evenodd\" clip-rule=\"evenodd\" d=\"M26.3109 16.2386C28.85 16.2386 31.107 17.1164 32.9095 18.8091L37.8466 13.8719C34.853 11.082 30.9659 9.3736 26.3109 9.3736C19.5712 9.3736 13.7563 13.245 10.9194 18.8875L16.6559 23.3388C18.0195 19.2636 21.8282 16.2386 26.3109 16.2386V16.2386Z\" fill=\"#EA4335\"/>\n",
       "    </svg>\n",
       "    <svg class=\"logo-dark\" width=\"18\" height=\"18\" viewBox=\"0 0 48 48\" xmlns=\"http://www.w3.org/2000/svg\">\n",
       "      <circle cx=\"24\" cy=\"23\" fill=\"#FFF\" r=\"22\"/>\n",
       "      <path d=\"M33.76 34.26c2.75-2.56 4.49-6.37 4.49-11.26 0-.89-.08-1.84-.29-3H24.01v5.99h8.03c-.4 2.02-1.5 3.56-3.07 4.56v.75l3.91 2.97h.88z\" fill=\"#4285F4\"/>\n",
       "      <path d=\"M15.58 25.77A8.845 8.845 0 0 0 24 31.86c1.92 0 3.62-.46 4.97-1.31l4.79 3.71C31.14 36.7 27.65 38 24 38c-5.93 0-11.01-3.4-13.45-8.36l.17-1.01 4.06-2.85h.8z\" fill=\"#34A853\"/>\n",
       "      <path d=\"M15.59 20.21a8.864 8.864 0 0 0 0 5.58l-5.03 3.86c-.98-2-1.53-4.25-1.53-6.64 0-2.39.55-4.64 1.53-6.64l1-.22 3.81 2.98.22 1.08z\" fill=\"#FBBC05\"/>\n",
       "      <path d=\"M24 14.14c2.11 0 4.02.75 5.52 1.98l4.36-4.36C31.22 9.43 27.81 8 24 8c-5.93 0-11.01 3.4-13.45 8.36l5.03 3.85A8.86 8.86 0 0 1 24 14.14z\" fill=\"#EA4335\"/>\n",
       "    </svg>\n",
       "    <div class=\"gradient-container\"><div class=\"gradient\"></div></div>\n",
       "  </div>\n",
       "  <div class=\"carousel\">\n",
       "    <a class=\"chip\" href=\"https://vertexaisearch.cloud.google.com/grounding-api-redirect/AUBnsYubdOwHEYpOgvNCJeG5lNQz7bIsFL6omI46NSlS4B5f_9Coo7TbEcLleeQSeAKP2FkWSYk2EMt7K2HNaNML3ZcF4ndZOLEIorl3FvKEUpt8DdC07c6ux6c_qMj8pfwaPWtsi29i6SOfKuzP1IMiIKMhcmezT_dKhYHeweU6OYzBFpJ1q9TRJgoLsG_0HUQ9_kQ=\">Proximus logo</a>\n",
       "    <a class=\"chip\" href=\"https://vertexaisearch.cloud.google.com/grounding-api-redirect/AUBnsYsB_pLXnx-DWvpTOE3XmhJwfgz_9jpjRktmqiKPKO1-9a0-D3907QbDHOGYCikqsLswBeEQTu4aX0JJPOmY4f_Zp4TcDEmer7yHed6IbcU2TW5lqHdgBhEUkzBW9sENhM0SOpYDOELRohQSnlODS3QgFiIjNLniqb4QCyC-rmdFshLsA97cJ9ePGQZRY7CKlCBqMTMewPZ9C7NDhw==\">Proximus company history</a>\n",
       "    <a class=\"chip\" href=\"https://vertexaisearch.cloud.google.com/grounding-api-redirect/AUBnsYs8D-fmLl7WnD8xg2oOVVcuAP98uqqpcVgQIW1kwSd4tAuNpFBM9I-9qlbcIutUxV_0k3Zlg3Krale1LhhbbVOaMc_uunUN_pFhBb9Sd890SRaIbQ92ETgVkl8HI72tOR4MA1gxDgYcj-HClCIWx0fuVFvGmdJqPwg3UdBtAJ-9yG2ObRlKrObqqT0otAljPaaAn2M=\">what is Proximus</a>\n",
       "    <a class=\"chip\" href=\"https://vertexaisearch.cloud.google.com/grounding-api-redirect/AUBnsYvZbBfOywMRIk59niApGOJ8p97FyAF9lM6QuLGhevSYn6up0uw3A781uwX_0kKFqLRV8pBAjqXKw2W-NOdz8Sh2z14YGHZsHUSoum2vGii6xgKWkNVQK-Bt4cjzjOM0Si1vrZJK728Jnq8b42ia9KdcQFaSXKoL-FZZzfjcGayFe3xfcQaWpMjtpX5q3rsjzmxF7FVNJQaLIA==\">Proximus headquarters</a>\n",
       "    <a class=\"chip\" href=\"https://vertexaisearch.cloud.google.com/grounding-api-redirect/AUBnsYu4Bi-G5QNVPmpsrMWubnUGJ__xDYGNiDyVLLo9HV42fPPnXOG9mM2p-H2lkyVJjFo5B0I4IlG4LggJSaP1VhGxcWIDE48mAEot-HqpFeZW122g8-tR9rE3AVNhPuNp8EC0k0Z3n3mckJDcZZeIHVLImcVsDCSL93o3AZPRF42lY2KllrsWbBJGguRfcFY_GM7x_ZQ0HsCK3w3-Wp29Any_n2qt01hmghlkUpECjYI=\">companies that provide services to Proximus</a>\n",
       "    <a class=\"chip\" href=\"https://vertexaisearch.cloud.google.com/grounding-api-redirect/AUBnsYv4gzajHhCoE3qQzgWXrM9TbXu8IBgTKeAT_dZ1YtV30f2efeQxaE1KwolGjiQipXFvnNypgHhdCB78PWMevC6lWhXXVaqB3w_lvt1073swOnQrFBg_r916jMH8xPMERt9MACWWENA5OjaH3x4Vl-H6C4EOci1dsKFu3ReT1WBC-WtRw8M8vv4stkVPaJ8lErt9pvT1ICw=\">Proximus key people</a>\n",
       "    <a class=\"chip\" href=\"https://vertexaisearch.cloud.google.com/grounding-api-redirect/AUBnsYtQxhDZAM_gg61KjAHdepgDBw3sJi4ijZK0xvSKHr6XZg7BTWjJdzilhe_6bs0i5w2TU0qRc-vqsgUDr6Hj78NysxB3F7Vxt9GW1OwTbIGepjD0m2C-QrpUEWtLMKEgz_39f77Sw83iC_PrdSvoUCryeQY-GyHjksT_pq54Ogdu2H1O4cwpf0N7LSecRokAqjoyVrBVRakU\">Proximus departments</a>\n",
       "    <a class=\"chip\" href=\"https://vertexaisearch.cloud.google.com/grounding-api-redirect/AUBnsYuBA4MKY3_L0oyEn6ad2bR34l8vSbfep8wd0HrOewF9tGGaLCtuvoG1rnJbnprYd5g4z43XkxEnPF6JmPTUhZQW1frqY0ENHWJS0z3sl9PchjNz-XDJA8gERpkZmXXVP6ITXJ5v5gq4jE1SLU9eLQH4ZkzwC92ZUV-sadG3ME0VBctuGJZfywHPzYF9m5PyMAFcKGopdpkk\">Proximus recent news</a>\n",
       "  </div>\n",
       "</div>\n"
      ],
      "text/plain": [
       "<IPython.core.display.HTML object>"
      ]
     },
     "metadata": {},
     "output_type": "display_data"
    }
   ],
   "source": [
    "sys_instruction = \"\"\"You are an analyst that conducts company research.\n",
    "You are given a company name, and you will work on a company report. You have access\n",
    "to Google Search to look up company news, updates and metrics to write research reports.\n",
    "\n",
    "When given a company name, identify key aspects to research, look up that information\n",
    "and then write a concise company report.\n",
    "\n",
    "Add to the report a link to the most recent company logo, a summary of companies who offer services to them, a comprehensive summary of the key and their roles in the company, a summary of departments of the company. \n",
    "\n",
    "Feel free to plan your work and talk about it, but when you start writing the report,\n",
    "put a line of dashes (---) to demarcate the report itself, and say nothing else after\n",
    "the report has finished.\n",
    "\"\"\"\n",
    "\n",
    "config = GenerateContentConfig(system_instruction=sys_instruction, tools=[Tool(google_search={})], temperature=0)\n",
    "response_stream = client.models.generate_content_stream(\n",
    "    model=MODEL, config=config, contents=[COMPANY])\n",
    "\n",
    "report = io.StringIO()\n",
    "for chunk in response_stream:\n",
    "  candidate = chunk.candidates[0]\n",
    "\n",
    "  for part in candidate.content.parts:\n",
    "    if part.text:\n",
    "      display(Markdown(part.text))\n",
    "\n",
    "      # Find and save the report itself.\n",
    "      if m := re.search('(^|\\n)-+\\n(.*)$', part.text, re.M):\n",
    "          # Find the starting '---' line and start saving.\n",
    "          report.write(m.group(2))\n",
    "      elif report.tell():\n",
    "        # If there's already something in the buffer, keep recording.\n",
    "        report.write(part.text)\n",
    "\n",
    "    else:\n",
    "      print(json.dumps(part.model_dump(exclude_none=True), indent=2))\n",
    "\n",
    "  # You must enable Google Search Suggestions\n",
    "  if gm := candidate.grounding_metadata:\n",
    "    if sep := gm.search_entry_point:\n",
    "      display(HTML(sep.rendered_content))"
   ]
  },
  {
   "cell_type": "code",
   "execution_count": 12,
   "metadata": {},
   "outputs": [
    {
     "name": "stdout",
     "output_type": "stream",
     "text": [
      "Okay, I will create a company report for Proximus. Here's my plan:\n",
      "\n",
      "1.  **Company Overview:** I'll start by gathering general information about Proximus, such as its industry, headquarters location, and a brief history.\n",
      "2.  **Logo and Colors:** I'll find the most recent company logo and identify its official colors in RGB format.\n",
      "3.  **Service Providers:** I'll research companies that provide services to Proximus.\n",
      "4.  **Key Employees:** I'll identify key employees and their roles within the company.\n",
      "5.  **Company Departments:** I'll outline the main departments within Proximus.\n",
      "6.  **Recent News and Updates:** I'll look for any recent news or updates about the company.\n",
      "\n",
      "Now, let's start with the research.\n",
      "Okay, I have gathered a lot of information about Proximus. Here's the company report:\n",
      "\n",
      "---\n",
      "**Company Report: Proximus**\n",
      "\n",
      "**1. Company Overview:**\n",
      "\n",
      "Proximus Group is a Belgian telecommunications and digital services provider. It is the incumbent telecom operator in Belgium, offering a range of services including fixed and mobile telephony, internet, and television. The company operates under several brands, including Proximus, Scarlet, and Mobile Vikings in Belgium, and Tango and Telindus in Luxembourg. Internationally, it operates through BICS and Telesign. Proximus was founded in 1930 as RTT, and later became Belgacom before rebranding to Proximus in 2015. The Belgian government owns 53.51% of the Proximus Group.\n",
      "\n",
      "**2. Logo and Colors:**\n",
      "\n",
      "*   **Logo:** The Proximus logo is a stylized \"X\" shape. A vector version of the logo can be found here: [Proximus Vector Logo](https://worldvectorlogo.com/logo/proximus).\n",
      "*   **Colors:**\n",
      "    *   The primary brand color is a deep purple, with the RGB value of **(92, 45, 145)**.\n",
      "    *   Other colors used include black **(0, 0, 0)** and white **(255, 255, 255)**.\n",
      "    *   Proximus also uses secondary colors, which are lighter shades of the primary purple, and tertiary colors, which are shades of black and white.\n",
      "\n",
      "**3. Service Providers:**\n",
      "\n",
      "Proximus collaborates with various companies to deliver its services. Some of these include:\n",
      "\n",
      "*   **Technology Partners:** Nokia, Ericsson, Unifiber, Infosys\n",
      "*   **Telecom Operators:** Sewan, Belcenter, Citymesh, Colt Technology Services, Yoin\n",
      "*   **Infrastructure:** Scarlet (a subsidiary of Proximus), Comsave (acquired by Expereo)\n",
      "*   **Content:** Netflix, Apple\n",
      "*   **Digital Services:** Accenture\n",
      "\n",
      "**4. Key Employees:**\n",
      "\n",
      "The key leadership team at Proximus includes:\n",
      "\n",
      "*   **Guillaume Boutin:** Chief Executive Officer (CEO) of the Proximus Group\n",
      "*   **Mark Reid:** Chief Financial Officer (CFO)\n",
      "*   **Ben Appel:** Corporate Affairs Lead\n",
      "*   **Jim Casteele:** Consumer Market Lead\n",
      "*   **Anne-Sophie Lotgering:** Enterprise IT Services & Segments Lead\n",
      "*   **Antonietta Mastroianni:** Digital & IT Lead\n",
      "*   **Geert Standaert:** Network & Wholesale Lead\n",
      "*   **Renaud Tilmans:** (Role not specified)\n",
      "*   **Jan Van Acoleyen:** (Role not specified)\n",
      "*   **C.V.D.W.:** Chief Executive Officer Telesign\n",
      "*   **D.L.:** CEO (likely former CEO Dominique Leroy)\n",
      "\n",
      "**5. Company Departments:**\n",
      "\n",
      "Proximus Group is structured into several key departments:\n",
      "\n",
      "*   **CEO's Department:** Oversees the overall strategy and direction of the company.\n",
      "*   **Consumer Market:** Focuses on services and products for individual customers.\n",
      "*   **Enterprise Market:** Caters to the needs of business clients.\n",
      "*   **Corporate Affairs:** Manages the company's public image and relations.\n",
      "*   **Network & Wholesale:** Responsible for the company's network infrastructure and wholesale services.\n",
      "*   **Customer Operations:** Handles customer service and support.\n",
      "*   **Human Capital:** Manages human resources and employee development.\n",
      "*   **Digital & IT:** Oversees the company's digital transformation and IT infrastructure.\n",
      "*   **Finance:** Manages the company's financial operations.\n",
      "*   **Proximus Global:** Integrates BICS, Telesign, and Route Mobile for international operations.\n",
      "*   **Proximus NXT IT, Telindus, Codit, Be-Mobile, ClearMedia, and Davinsi Labs:** IT affiliates that create a vast ecosystem of top-tier experts in various fields.\n",
      "*   **Proximus Media House (PmH):** Handles content creation, production, and broadcasting.\n",
      "*   **ConnectImmo:** The real estate company of the Proximus Group.\n",
      "\n",
      "**6. Recent News and Updates:**\n",
      "\n",
      "*   **Proximus Global:** Proximus has created Proximus Global, integrating its international activities under one umbrella, including BICS, Telesign, and Route Mobile. This new unit is valued at around €3.1 billion.\n",
      "*   **Fiber Network:** Proximus' fiber network has been recognized for its speed and performance by nPerf and Ookla.\n",
      "*   **Scarlet:** Scarlet, a subsidiary of Proximus, has increased data volumes on its mobile plans at no extra cost.\n",
      "*   **Data Center Sale:** Proximus sold its Datacenter Business (PDC Business) to Datacenter United for EUR 128 million.\n",
      "*   **Luxembourg Towers Sale:** Proximus sold its Luxembourg towers to InfraRed Capital Partners in a €108 million deal.\n",
      "*   **Be-Mobile Sale:** Proximus is reportedly selling Be-Mobile.\n",
      "*   **Supply Chain Innovation:** Proximus is testing cargo sailboats in its supply chain.\n",
      "\n",
      "Proximus is actively expanding its fiber network and focusing on digital transformation, while also streamlining its international operations.\n",
      "---\n",
      "\n"
     ]
    }
   ],
   "source": [
    "sys_instruction = \"\"\"You are an analyst that conducts company research.\n",
    "You are given a company name, and you will work on a company report. You have access\n",
    "to Google Search to look up company news, updates and metrics to write research reports.\n",
    "\n",
    "When given a company name, identify key aspects to research, look up that information\n",
    "and then write a concise company report.\n",
    "\n",
    "Add to the report a link to the most recent company logo, the company colors in rgb, a summary of companies who offer services to them, a comprehensive summary of the key employees and their roles in the company, a summary of departments of the company. \n",
    "\n",
    "Feel free to plan your work and talk about it, but when you start writing the report,\n",
    "put a line of dashes (---) to demarcate the report itself, and say nothing else after\n",
    "the report has finished.\n",
    "\"\"\"\n",
    "\n",
    "config = GenerateContentConfig(system_instruction=sys_instruction, tools=[Tool(google_search={})], temperature=0,maxOutputTokens=8000, top_k=1, top_p=1)\n",
    "response = client.models.generate_content(\n",
    "    model=MODEL, config=config, contents=[COMPANY])\n",
    "\n",
    "print(response.text)\n"
   ]
  },
  {
   "cell_type": "markdown",
   "metadata": {},
   "source": [
    "**Proximus Key Employees and Roles**"
   ]
  },
  {
   "cell_type": "code",
   "execution_count": 26,
   "metadata": {},
   "outputs": [
    {
     "name": "stdout",
     "output_type": "stream",
     "text": [
      "```json\n",
      "[\n",
      "    {\n",
      "        \"first_name\": \"Guillaume\",\n",
      "        \"family_name\": \"Boutin\",\n",
      "        \"role\": \"Chief Executive Officer\",\n",
      "        \"department\": \"CEO's department\"\n",
      "    },\n",
      "    {\n",
      "        \"first_name\": \"Stefaan\",\n",
      "        \"family_name\": \"De Clerck\",\n",
      "        \"role\": \"Chairman of the Board\",\n",
      "        \"department\": \"Board of Directors\"\n",
      "    },\n",
      "     {\n",
      "        \"first_name\": \"Ben\",\n",
      "        \"family_name\": \"Appel\",\n",
      "        \"role\": \"Corporate Affairs Lead\",\n",
      "        \"department\": \"Corporate Affairs\"\n",
      "    },\n",
      "    {\n",
      "        \"first_name\": \"Jim\",\n",
      "        \"family_name\": \"Casteele\",\n",
      "        \"role\": \"Consumer Market Lead\",\n",
      "         \"department\": \"Consumer Market\"\n",
      "    },\n",
      "    {\n",
      "        \"first_name\": \"Anne-Sophie\",\n",
      "        \"family_name\": \"Lotgering\",\n",
      "        \"role\": \"Enterprise IT Services & Segments Lead\",\n",
      "        \"department\": \"Enterprise Market\"\n",
      "    },\n",
      "    {\n",
      "        \"first_name\": \"Antonietta\",\n",
      "        \"family_name\": \"Mastroianni\",\n",
      "        \"role\": \"Digital & IT Lead\",\n",
      "        \"department\":\"Digital & IT\"\n",
      "    },\n",
      "    {\n",
      "        \"first_name\":\"Mark\",\n",
      "        \"family_name\":\"Reid\",\n",
      "        \"role\":\"Finance Lead\",\n",
      "        \"department\":\"Finance\"\n",
      "    },\n",
      "    {\n",
      "        \"first_name\":\"Geert\",\n",
      "        \"family_name\":\"Standaert\",\n",
      "        \"role\":\"Network & Wholesale Lead\",\n",
      "        \"department\":\"Network & Wholesale\"\n",
      "    },\n",
      "     {\n",
      "        \"first_name\": \"Renaud\",\n",
      "        \"family_name\": \"Tilmans\",\n",
      "        \"role\": \"Enterprise Telco Services & Ops Lead\",\n",
      "         \"department\": \"Customer Operations\"\n",
      "    },\n",
      "    {\n",
      "        \"first_name\": \"Jan\",\n",
      "        \"family_name\": \"Van Acoleyen\",\n",
      "        \"role\": \"Human Capital Lead\",\n",
      "        \"department\": \"Human Capital\"\n",
      "    },\n",
      "    {\n",
      "        \"first_name\": \"Caroline\",\n",
      "        \"family_name\": \"Basyn\",\n",
      "         \"role\": \"Independent director\",\n",
      "        \"department\": \"Board of Directors\"\n",
      "    },\n",
      "     {\n",
      "        \"first_name\": \"Cécile\",\n",
      "        \"family_name\": \"Coune\",\n",
      "         \"role\":\"Independent director\",\n",
      "        \"department\": \"Board of Directors\"\n",
      "    },\n",
      "    {\n",
      "        \"first_name\": \"Karel\",\n",
      "        \"family_name\": \"De Gucht\",\n",
      "        \"role\": \"Director\",\n",
      "         \"department\": \"Board of Directors\"\n",
      "    },\n",
      "     {\n",
      "        \"first_name\": \"Béatrice\",\n",
      "        \"family_name\": \"de Mahieu\",\n",
      "        \"role\": \"Director\",\n",
      "         \"department\": \"Board of Directors\"\n",
      "    },\n",
      "    {\n",
      "        \"first_name\": \"Martin\",\n",
      "        \"family_name\": \"De Prycker\",\n",
      "        \"role\":\"Independent director\",\n",
      "         \"department\": \"Board of Directors\"\n",
      "    },\n",
      "     {\n",
      "        \"first_name\": \"Audrey\",\n",
      "        \"family_name\": \"Hanard\",\n",
      "        \"role\": \"Director\",\n",
      "         \"department\": \"Board of Directors\"\n",
      "    },\n",
      "    {\n",
      "        \"first_name\": \"Ibrahim\",\n",
      "        \"family_name\": \"Ouassari\",\n",
      "        \"role\": \"Director\",\n",
      "         \"department\": \"Board of Directors\"\n",
      "    },\n",
      "     {\n",
      "        \"first_name\": \"Catherine\",\n",
      "        \"family_name\": \"Rutten\",\n",
      "        \"role\": \"Independent director\",\n",
      "         \"department\": \"Board of Directors\"\n",
      "    },\n",
      "    {\n",
      "        \"first_name\": \"Joachim\",\n",
      "        \"family_name\": \"Sonne\",\n",
      "        \"role\": \"Independent director\",\n",
      "         \"department\": \"Board of Directors\"\n",
      "    },\n",
      "     {\n",
      "       \"first_name\": \"Karl\",\n",
      "       \"family_name\": \"Cuveele\",\n",
      "       \"role\": \"Managing Director Proximus Real Estate\",\n",
      "       \"department\": \"Real Estate\"\n",
      "    },\n",
      "    {\n",
      "        \"first_name\": \"Jacques\",\n",
      "        \"family_name\": \"Ruckert\",\n",
      "        \"role\": \"Chief Solutions & Innovation Officer\",\n",
      "        \"department\": \"Solutions & Innovation\"\n",
      "    },\n",
      "     {\n",
      "        \"first_name\": \"Jason\",\n",
      "        \"family_name\": \"Vanherrewegge\",\n",
      "        \"role\": \"Chief Editor\",\n",
      "        \"department\": \"Editorial\"\n",
      "    },\n",
      "    {\n",
      "        \"first_name\": \"Geert\",\n",
      "        \"family_name\": \"Kelchtermans\",\n",
      "        \"role\": \"VP Small & Medium Enterprises - Tribe Lead\",\n",
      "        \"department\": \"Small & Medium Enterprises\"\n",
      "    },\n",
      "    {\n",
      "       \"first_name\": \"Jan\",\n",
      "       \"family_name\": \"van Oekelen\",\n",
      "       \"role\": \"Lead Manager Solution Sales\",\n",
      "       \"department\": \"Sales\"\n",
      "    },\n",
      "    {\n",
      "        \"first_name\":\"Sebastien\",\n",
      "        \"family_name\":\"Evrard\",\n",
      "        \"role\":\"Center Of Excellence Lead - Pricing & Promotions\",\n",
      "        \"department\":\"Pricing & Promotions\"\n",
      "    },\n",
      "    {\n",
      "        \"first_name\":\"Thomas\",\n",
      "        \"family_name\":\"Vanherk\",\n",
      "        \"role\":\"Team Lead ICT Pricing & Costing\",\n",
      "        \"department\":\"ICT Pricing & Costing\"\n",
      "    },\n",
      "    {\n",
      "        \"first_name\":\"Annemie\",\n",
      "        \"family_name\":\"Peetermans\",\n",
      "        \"role\":\"Product Owner Lead - E2e Sales Journeys Physical Channels\",\n",
      "        \"department\":\"Sales\"\n",
      "    },\n",
      "    {\n",
      "        \"first_name\":\"Olivier\",\n",
      "        \"family_name\":\"Crucq\",\n",
      "        \"role\":\"Director Commercial & Marketing Chapter Area\",\n",
      "        \"department\":\"Commercial & Marketing\"\n",
      "    },\n",
      "    {\n",
      "        \"first_name\":\"Paul\",\n",
      "        \"family_name\":\"Burch\",\n",
      "        \"role\":\"Sales & Marketing Director\",\n",
      "        \"department\":\"Sales & Marketing\"\n",
      "    },\n",
      "    {\n",
      "        \"first_name\":\"Pierre\",\n",
      "        \"family_name\":\"Demoulin\",\n",
      "        \"role\":\"Fiber Sales Lead\",\n",
      "        \"department\":\"Sales\"\n",
      "    },\n",
      "    {\n",
      "        \"first_name\":\"Igor\",\n",
      "        \"family_name\":\"Makedonsky\",\n",
      "        \"role\":\"Director Group Legal & Insurance - General Counsel\",\n",
      "        \"department\":\"Legal & Insurance\"\n",
      "    },\n",
      "    {\n",
      "        \"first_name\":\"Agnès\",\n",
      "        \"family_name\":\"Touraine\",\n",
      "        \"role\":\"CEO of Act III Consultants\",\n",
      "        \"department\":\"Consulting\"\n",
      "    },\n",
      "    {\n",
      "        \"first_name\":\"Catherine\",\n",
      "        \"family_name\":\"Vandenborre\",\n",
      "        \"role\":\"Chief Financial Officer at Elia\",\n",
      "        \"department\":\"Finance\"\n",
      "    }\n",
      "]\n",
      "```\n"
     ]
    }
   ],
   "source": [
    "sys_instruction = \"\"\"You are an analyst that conducts company research.\n",
    "You are given a company name, and you will work on a company report. You have access\n",
    "to Google Search to look up company news, updates, metrics, linkedin pages, common news articles, financial reports and public records to write a research reports.\n",
    "\n",
    "When given a company name, identify key aspects to research, look up that information\n",
    "and then write a concise company report.\n",
    "\n",
    "The report should only contain a comprehensive summary of the employees in the company. \n",
    "\n",
    "The report should contain, the complete first name and family name, the role that they have within the company and the department that they make part of.\n",
    "\n",
    "Do not include abbreviations in names, and exclude employees whose full first and last names cannot be found.\n",
    "\n",
    "Give me as much grounded names that you can find with your research and put them all in the report.\n",
    "\n",
    "The report should be written in this style example:\n",
    "\n",
    "Use this JSON schema:\n",
    "\n",
    "Proximus_employees = {'first_name':str, 'family_name':str, 'role':str, 'department':str}\n",
    "Return: list[Proximus_employees]\n",
    "\n",
    "Thoroughly plan your work in detail and steps, but avoid discussing it. Do not add any additional comments after finishing the report.\n",
    "\"\"\"\n",
    "\n",
    "config = GenerateContentConfig(system_instruction=sys_instruction, tools=[Tool(google_search={})], temperature=0,maxOutputTokens=8000, top_p=0.9)\n",
    "response = client.models.generate_content(\n",
    "    model=MODEL, config=config, contents=[COMPANY])\n",
    "\n",
    "print(response.text)\n"
   ]
  },
  {
   "cell_type": "code",
   "execution_count": null,
   "metadata": {},
   "outputs": [],
   "source": []
  }
 ],
 "metadata": {
  "kernelspec": {
   "display_name": "proximus",
   "language": "python",
   "name": "python3"
  },
  "language_info": {
   "codemirror_mode": {
    "name": "ipython",
    "version": 3
   },
   "file_extension": ".py",
   "mimetype": "text/x-python",
   "name": "python",
   "nbconvert_exporter": "python",
   "pygments_lexer": "ipython3",
   "version": "3.10.11"
  }
 },
 "nbformat": 4,
 "nbformat_minor": 2
}
