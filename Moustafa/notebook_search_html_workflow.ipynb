{
 "cells": [
  {
   "cell_type": "code",
   "execution_count": 1,
   "metadata": {},
   "outputs": [
    {
     "name": "stdout",
     "output_type": "stream",
     "text": [
      "I am a large language model, trained by Google.\n",
      "\n"
     ]
    }
   ],
   "source": [
    "from google import genai\n",
    "from dotenv import load_dotenv\n",
    "import os\n",
    "from google.genai.types import GenerateContentConfig, Tool\n",
    "import json\n",
    "import re\n",
    "import random as rd\n",
    "\n",
    "# Load environment variables from the .env file\n",
    "load_dotenv()\n",
    "\n",
    "# Retrieve the API key from the .env file\n",
    "api_key = os.getenv('GEMINI_API_KEY')\n",
    "\n",
    "# Initialize the Google AI client\n",
    "client = genai.Client(api_key=api_key)\n",
    "\n",
    "# Generate content\n",
    "response = client.models.generate_content(\n",
    "    model='gemini-2.0-flash-exp', contents='What is your name?'\n",
    ")\n",
    "print(response.text)\n",
    "\n",
    "\n"
   ]
  },
  {
   "cell_type": "markdown",
   "metadata": {},
   "source": [
    "*Function to extract Json of LLm output and save it to a file*"
   ]
  },
  {
   "cell_type": "code",
   "execution_count": 2,
   "metadata": {},
   "outputs": [],
   "source": [
    "def save_json_from_string(input_string, output_filename):\n",
    "    \"\"\"\n",
    "    Extracts JSON content from a string and saves it to a JSON file with the specified name.\n",
    "\n",
    "    :param input_string: The input string containing JSON data within brackets.\n",
    "    :param output_filename: The name of the output JSON file (e.g., \"data.json\").\n",
    "    :return: True if the operation was successful, False otherwise.\n",
    "    \"\"\"\n",
    "    # Step 1: Extract the JSON content within the brackets\n",
    "    result = re.search(r'\\[.*\\]', input_string, re.DOTALL)\n",
    "\n",
    "    if result:\n",
    "        extracted_content = result.group(0)  # Get the matched content\n",
    "\n",
    "        try:\n",
    "            # Step 2: Parse the extracted content into a Python object (list/dict)\n",
    "            json_data = json.loads(extracted_content)\n",
    "\n",
    "            # Step 3: Write the JSON data to a file\n",
    "            with open(output_filename, \"w\", encoding=\"utf-8\") as json_file:\n",
    "                json.dump(json_data, json_file, indent=4)  # Save with pretty formatting\n",
    "\n",
    "            print(f\"JSON data has been successfully written to '{output_filename}'.\")\n",
    "            return True  # Operation was successful\n",
    "        except json.JSONDecodeError as e:\n",
    "            print(f\"Error parsing JSON: {e}\")\n",
    "        except Exception as e:\n",
    "            print(f\"An error occurred while writing the file: {e}\")\n",
    "    else:\n",
    "        print(\"No content found within brackets.\")\n",
    "\n",
    "    return False  # Operation failed"
   ]
  },
  {
   "cell_type": "code",
   "execution_count": 3,
   "metadata": {},
   "outputs": [],
   "source": [
    "MODEL = \"gemini-2.0-flash-exp\""
   ]
  },
  {
   "cell_type": "code",
   "execution_count": 4,
   "metadata": {},
   "outputs": [],
   "source": [
    "\n",
    "COMPANY = 'Proximus'"
   ]
  },
  {
   "cell_type": "code",
   "execution_count": 5,
   "metadata": {},
   "outputs": [],
   "source": [
    "safety_settings = [\n",
    "    {\"category\": \"HARM_CATEGORY_HARASSMENT\", \"threshold\": \"BLOCK_NONE\"},\n",
    "    {\"category\": \"HARM_CATEGORY_HATE_SPEECH\", \"threshold\": \"BLOCK_NONE\"},\n",
    "    {\"category\": \"HARM_CATEGORY_SEXUALLY_EXPLICIT\", \"threshold\": \"BLOCK_NONE\"},\n",
    "    {\"category\": \"HARM_CATEGORY_DANGEROUS_CONTENT\", \"threshold\": \"BLOCK_NONE\"},\n",
    "]"
   ]
  },
  {
   "cell_type": "markdown",
   "metadata": {},
   "source": [
    "**1. SETTING UP A RESEARCH ASSISTANT** (temperature = 0, tools = google search)"
   ]
  },
  {
   "cell_type": "code",
   "execution_count": 6,
   "metadata": {},
   "outputs": [],
   "source": [
    "system_instruction = \"\"\"You are an analyst that conducts company research.\n",
    "You are given a company name, and you will work on a company report. You have access\n",
    "to Google Search to look up company news, updates, metrics, public records and linkedin pages to write research reports.\n",
    "\n",
    "When given a company name, identify key aspects to research, look up that information\n",
    "and then write an elaborate company report. \n",
    "\n",
    "Thoroughly plan your work in detail and steps, but avoid discussing it. Do not add any additional comments after finishing the report.\"\"\""
   ]
  },
  {
   "cell_type": "code",
   "execution_count": 7,
   "metadata": {},
   "outputs": [],
   "source": [
    "config = GenerateContentConfig(system_instruction=system_instruction, tools=[Tool(google_search={})], temperature=0,maxOutputTokens=8000, top_p=0.9, top_k=5, safety_settings=safety_settings)"
   ]
  },
  {
   "cell_type": "markdown",
   "metadata": {},
   "source": [
    "**Proximus News report**"
   ]
  },
  {
   "cell_type": "code",
   "execution_count": 8,
   "metadata": {},
   "outputs": [],
   "source": [
    "contents = f\"\"\"\n",
    "Write a report about {COMPANY}.\n",
    "\n",
    "The report should contain an extensive overview of the most important news facts of the last 2 weeks. \n",
    "\n",
    "The report should be written in this style example:\n",
    "\n",
    "Use this JSON schema:\n",
    "\n",
    "Proximus_news = {{'subject':str, 'overview':str, 'source':str}}\n",
    "Return: list[Proximus_news]\n",
    "\"\"\"\n",
    "\n",
    "response = client.models.generate_content(\n",
    "    model=MODEL, config=config, contents=contents)\n",
    "\n"
   ]
  },
  {
   "cell_type": "code",
   "execution_count": 9,
   "metadata": {},
   "outputs": [
    {
     "name": "stdout",
     "output_type": "stream",
     "text": [
      "JSON data has been successfully written to 'proximus_news.json'.\n"
     ]
    },
    {
     "data": {
      "text/plain": [
       "True"
      ]
     },
     "execution_count": 9,
     "metadata": {},
     "output_type": "execute_result"
    }
   ],
   "source": [
    "save_json_from_string(response.text, 'proximus_news.json')"
   ]
  },
  {
   "cell_type": "markdown",
   "metadata": {},
   "source": [
    "**Proximus Key Employees and Roles**"
   ]
  },
  {
   "cell_type": "code",
   "execution_count": 10,
   "metadata": {},
   "outputs": [],
   "source": [
    "contents = f\"\"\"\n",
    "Write a report about {COMPANY}\n",
    "\n",
    "The report should only contain a comprehensive summary of the employees in the company. \n",
    "\n",
    "The report should contain, the complete first name and family name, an email address with this structure \"first name.family name@{COMPANY}.be\" (put it all in lower case), the role that they have within the company and the department that they make part of.\n",
    "\n",
    "Do not include abbreviations in names, and exclude employees whose full first and last names cannot be found.\n",
    "\n",
    "Give me as much grounded names that you can find with your research and put them all in the report.\n",
    "\n",
    "The report should be written in this style example:\n",
    "\n",
    "Use this JSON schema:\n",
    "\n",
    "Proximus_employees = {{'first_name':str, 'family_name':str, 'role':str, 'department':str, 'email_address':str}}\n",
    "Return: list[Proximus_employees]\n",
    "\"\"\"\n",
    "\n",
    "response = client.models.generate_content(\n",
    "    model=MODEL, config=config, contents=contents)\n"
   ]
  },
  {
   "cell_type": "code",
   "execution_count": 11,
   "metadata": {},
   "outputs": [
    {
     "name": "stdout",
     "output_type": "stream",
     "text": [
      "JSON data has been successfully written to 'proximus_employees.json'.\n"
     ]
    },
    {
     "data": {
      "text/plain": [
       "True"
      ]
     },
     "execution_count": 11,
     "metadata": {},
     "output_type": "execute_result"
    }
   ],
   "source": [
    "save_json_from_string(response.text, 'proximus_employees.json')"
   ]
  },
  {
   "cell_type": "markdown",
   "metadata": {},
   "source": [
    "**Proximus Departments**"
   ]
  },
  {
   "cell_type": "code",
   "execution_count": 12,
   "metadata": {},
   "outputs": [],
   "source": [
    "contents = f\"\"\"\n",
    "\n",
    "Write a report about {COMPANY}\n",
    "\n",
    "The report should exclusively provide a detailed summary of the company's departments and their respective subdivisions, if any.\n",
    "\n",
    "Include in the report the full address where the headquarter of the provider is located, the main phone number and vat number.\n",
    "\n",
    "Do not include abbreviations in the report.\n",
    "\n",
    "Provide a detailed list, specifying only verified and public information. Do not include speculative or incomplete details.\n",
    "\n",
    "The report should be written in this style example:\n",
    "\n",
    "Use this JSON schema:\n",
    "\n",
    "Proximus_departments = {{'department':str, 'subdivision':list[str], 'address':str, 'phone':str, 'vat':str}}\n",
    "Return: list[Proximus_departments]\n",
    "\"\"\"\n",
    "\n",
    "response = client.models.generate_content(\n",
    "    model=MODEL, config=config, contents=contents)\n"
   ]
  },
  {
   "cell_type": "code",
   "execution_count": 13,
   "metadata": {},
   "outputs": [
    {
     "name": "stdout",
     "output_type": "stream",
     "text": [
      "JSON data has been successfully written to 'proximus_departments.json'.\n"
     ]
    },
    {
     "data": {
      "text/plain": [
       "True"
      ]
     },
     "execution_count": 13,
     "metadata": {},
     "output_type": "execute_result"
    }
   ],
   "source": [
    "save_json_from_string(response.text, 'proximus_departments.json')"
   ]
  },
  {
   "cell_type": "markdown",
   "metadata": {},
   "source": [
    "**Proximus Colors**"
   ]
  },
  {
   "cell_type": "code",
   "execution_count": 14,
   "metadata": {},
   "outputs": [],
   "source": [
    "contents = f\"\"\"\n",
    "\n",
    "Write a report about {COMPANY}\n",
    "\n",
    "The report should exclusively provide the main colors of Company's branding, including any official color codes such as HEX or RGB. Focus on the primary colors used in the company's logo and website.\n",
    "\n",
    "Do not include speculative colors and focus only on the main ones.\n",
    "\n",
    "The report should be written in this style example:\n",
    "\n",
    "Use this JSON schema:\n",
    "\n",
    "company_colors = {{'color_name_1':str, 'hex_code_1':str, 'rgb_code_1':list[int]}},{{'color_name_2':str,'hex_code_2':str,'rgb_code_2':list[int]}}\n",
    "Return: list[company_colors]\n",
    "\n",
    "Thoroughly plan your work in detail and steps, but avoid discussing it. Do not add any additional comments after finishing the report.\n",
    "\"\"\"\n",
    "\n",
    "\n",
    "response = client.models.generate_content(\n",
    "    model=MODEL, config=config, contents=contents)\n",
    "\n"
   ]
  },
  {
   "cell_type": "code",
   "execution_count": 15,
   "metadata": {},
   "outputs": [
    {
     "name": "stdout",
     "output_type": "stream",
     "text": [
      "JSON data has been successfully written to 'proximus_colors.json'.\n"
     ]
    },
    {
     "data": {
      "text/plain": [
       "True"
      ]
     },
     "execution_count": 15,
     "metadata": {},
     "output_type": "execute_result"
    }
   ],
   "source": [
    "save_json_from_string(response.text, 'proximus_colors.json')"
   ]
  },
  {
   "cell_type": "markdown",
   "metadata": {},
   "source": [
    "**Proximus Service providers**"
   ]
  },
  {
   "cell_type": "markdown",
   "metadata": {},
   "source": [
    "Picking a particular type of service provider"
   ]
  },
  {
   "cell_type": "code",
   "execution_count": 16,
   "metadata": {},
   "outputs": [],
   "source": [
    "type_service = [\n",
    "    \"Infrastructure and maintenance\",\n",
    "    \"Technology and equipment supply\",\n",
    "    \"Network and connectivity services\",\n",
    "    \"Customer support\",\n",
    "    \"Billing and payments\",\n",
    "    \"Cloud and data hosting\",\n",
    "    \"Marketing and advertising\",\n",
    "    \"Consulting\",\n",
    "    \"Research and innovation\"\n",
    "]"
   ]
  },
  {
   "cell_type": "code",
   "execution_count": 17,
   "metadata": {},
   "outputs": [
    {
     "name": "stdout",
     "output_type": "stream",
     "text": [
      "Technology and equipment supply\n"
     ]
    }
   ],
   "source": [
    "random_service=rd.choice(type_service)\n",
    "print(random_service)"
   ]
  },
  {
   "cell_type": "code",
   "execution_count": 18,
   "metadata": {},
   "outputs": [],
   "source": [
    "contents = f\"\"\"\n",
    "\n",
    "Write a report about {COMPANY}\n",
    "\n",
    "List the main Belgian service providers of the company. Include any known suppliers, contractors, technology service providers, or any other third-party companies that the company relies on. \n",
    "Provide the names of the service providers, type and description of the services they provide to the company. Also include the providers homepage in the report, if you can't find it, don not include the provider in the report. \n",
    "\n",
    "The service provider needs to be active in delivering {random_service} to {COMPANY}\n",
    "\n",
    "The report should be written in this style example:\n",
    "\n",
    "Use this JSON schema:\n",
    "\n",
    "company_service = {{\"provider\":str,\"service\":str,\"type\":str,\"provider_homepage\":str]}}\n",
    "Return: list[company_service]\n",
    "\"\"\"\n",
    "\n",
    "response = client.models.generate_content(\n",
    "    model=MODEL, config=config, contents=contents)\n",
    "\n"
   ]
  },
  {
   "cell_type": "code",
   "execution_count": 19,
   "metadata": {},
   "outputs": [
    {
     "name": "stdout",
     "output_type": "stream",
     "text": [
      "JSON data has been successfully written to 'proximus_providers.json'.\n"
     ]
    },
    {
     "data": {
      "text/plain": [
       "True"
      ]
     },
     "execution_count": 19,
     "metadata": {},
     "output_type": "execute_result"
    }
   ],
   "source": [
    "save_json_from_string(response.text, 'proximus_providers.json')"
   ]
  },
  {
   "cell_type": "markdown",
   "metadata": {},
   "source": [
    "**Merge the proximus data**"
   ]
  },
  {
   "cell_type": "code",
   "execution_count": 20,
   "metadata": {},
   "outputs": [
    {
     "name": "stdout",
     "output_type": "stream",
     "text": [
      "Data successfully merged into blended_data_proximus.json\n"
     ]
    }
   ],
   "source": [
    "\n",
    "# File paths for input and output\n",
    "input_files = {\n",
    "    \"colors\": \"proximus_colors.json\",\n",
    "    \"departments\": \"proximus_departments.json\",\n",
    "    \"employees\": \"proximus_employees.json\",\n",
    "    \"news\": \"proximus_news.json\",\n",
    "    \"providers\": \"proximus_providers.json\"\n",
    "}\n",
    "output_file = \"blended_data_proximus.json\"\n",
    "\n",
    "# Combine all data into one dictionary\n",
    "blended_data = {}\n",
    "\n",
    "for key, file_path in input_files.items():\n",
    "    with open(file_path, 'r') as f:\n",
    "        blended_data[key] = json.load(f)\n",
    "\n",
    "# Write the combined data to a new JSON file\n",
    "with open(output_file, 'w') as f:\n",
    "    json.dump(blended_data, f, indent=4)\n",
    "\n",
    "print(f\"Data successfully merged into {output_file}\")"
   ]
  },
  {
   "cell_type": "markdown",
   "metadata": {},
   "source": [
    "**Providers info** (Proceed with one Provider)"
   ]
  },
  {
   "cell_type": "code",
   "execution_count": 21,
   "metadata": {},
   "outputs": [],
   "source": [
    "# Load JSON data from the file\n",
    "with open(\"proximus_providers.json\", \"r\") as file:\n",
    "    providers = json.load(file)"
   ]
  },
  {
   "cell_type": "code",
   "execution_count": 22,
   "metadata": {},
   "outputs": [],
   "source": [
    "# Function to pick a random provider\n",
    "def pick_random_provider(providers):\n",
    "    if not providers:\n",
    "        return None  # Handle the case where the list is empty\n",
    "    return rd.choice(providers)"
   ]
  },
  {
   "cell_type": "code",
   "execution_count": 23,
   "metadata": {},
   "outputs": [
    {
     "name": "stdout",
     "output_type": "stream",
     "text": [
      "{'provider': 'BICS', 'service': 'International communications enabler, global voice carrier, mobile data services', 'type': 'Technology service provider', 'provider_homepage': 'www.bics.com'}\n"
     ]
    }
   ],
   "source": [
    "provider = pick_random_provider(providers)\n",
    "\n",
    "print(provider)"
   ]
  },
  {
   "cell_type": "code",
   "execution_count": 24,
   "metadata": {},
   "outputs": [
    {
     "name": "stdout",
     "output_type": "stream",
     "text": [
      "Data saved to provider_general_data.json\n"
     ]
    }
   ],
   "source": [
    "provider = [provider]\n",
    "file_path = 'provider_general_data.json'\n",
    "\n",
    "# Write the data to the JSON file\n",
    "with open(file_path, 'w') as json_file:\n",
    "    json.dump(provider, json_file, indent=4)\n",
    "\n",
    "print(f'Data saved to {file_path}')"
   ]
  },
  {
   "cell_type": "markdown",
   "metadata": {},
   "source": [
    "**Provider Key Employees and Roles**"
   ]
  },
  {
   "cell_type": "code",
   "execution_count": 25,
   "metadata": {},
   "outputs": [],
   "source": [
    "contents = f\"\"\"\n",
    "    Write a report about company {provider}. This company is a provider of {COMPANY}\n",
    "\n",
    "    The report should only contain a comprehensive summary of the employees in the company.\n",
    "\n",
    "    The report should contain, the complete first name and family name, an email address with this structure \"first name.family name@{provider}.be\" (put it all in lower case), the role that they have within the company and the department that they make part of.\n",
    "\n",
    "    Do not include abbreviations in names, and exclude employees whose full first and last names cannot be found. Make sure the first and the last name contains more then 2 characters. Do not include employees of {COMPANY} in the report.\n",
    "\n",
    "    Give me as much grounded names that you can find with your research and put them all in the report.\n",
    "\n",
    "    The report should be written in this style example:\n",
    "\n",
    "    Use this JSON schema:\n",
    "\n",
    "    Employees = {{'provider': str, 'first_name': str, 'family_name': str, 'role': str, 'department': str, 'email_address':str}}\n",
    "    Return: list[Employees]\n",
    "    \"\"\"\n",
    "    \n",
    "response = client.models.generate_content(\n",
    "    model=MODEL, config=config, contents=contents)\n",
    "\n",
    "\n",
    "    "
   ]
  },
  {
   "cell_type": "code",
   "execution_count": 26,
   "metadata": {},
   "outputs": [
    {
     "name": "stdout",
     "output_type": "stream",
     "text": [
      "JSON data has been successfully written to 'provider_employees.json'.\n"
     ]
    },
    {
     "data": {
      "text/plain": [
       "True"
      ]
     },
     "execution_count": 26,
     "metadata": {},
     "output_type": "execute_result"
    }
   ],
   "source": [
    "save_json_from_string(response.text, 'provider_employees.json')"
   ]
  },
  {
   "cell_type": "markdown",
   "metadata": {},
   "source": [
    "**Provider Colors**"
   ]
  },
  {
   "cell_type": "code",
   "execution_count": 27,
   "metadata": {},
   "outputs": [],
   "source": [
    "\n",
    "contents = f\"\"\"\n",
    "\n",
    "    Write a report about company {provider}. This company is a provider of {COMPANY}\n",
    "\n",
    "    The report should exclusively provide the main colors of Company's branding, including any official color codes such as HEX or RGB. Focus on the primary colors used in the company's logo and website.\n",
    "\n",
    "    Do not include speculative colors and focus only on the main ones.\n",
    "\n",
    "    The report should be written in this style example:\n",
    "\n",
    "    Use this JSON schema:\n",
    "\n",
    "    company_colors = {{'provider':str,'color_name_1':str, 'hex_code_1':str, 'rgb_code_1':list[int]}},{{'color_name_2':str,'hex_code_2':str,'rgb_code_2':list[int]}}\n",
    "    Return: list[company_colors]\n",
    "\n",
    "    Thoroughly plan your work in detail and steps, but avoid discussing it. Do not add any additional comments after finishing the report.\n",
    "    \"\"\"\n",
    "\n",
    "\n",
    "response = client.models.generate_content(\n",
    "        model=MODEL, config=config, contents=contents)\n",
    "\n"
   ]
  },
  {
   "cell_type": "code",
   "execution_count": 28,
   "metadata": {},
   "outputs": [
    {
     "name": "stdout",
     "output_type": "stream",
     "text": [
      "JSON data has been successfully written to 'provider_color.json'.\n"
     ]
    },
    {
     "data": {
      "text/plain": [
       "True"
      ]
     },
     "execution_count": 28,
     "metadata": {},
     "output_type": "execute_result"
    }
   ],
   "source": [
    "save_json_from_string(response.text, 'provider_color.json')"
   ]
  },
  {
   "cell_type": "markdown",
   "metadata": {},
   "source": [
    "**Provider Departments**"
   ]
  },
  {
   "cell_type": "code",
   "execution_count": 29,
   "metadata": {},
   "outputs": [],
   "source": [
    "contents = f\"\"\"\n",
    "\n",
    "Write a report about company {provider}. This company is a provider of {COMPANY}\n",
    "\n",
    "The report should exclusively provide a detailed summary of the company's departments and their respective subdivisions, if any.\n",
    "\n",
    "Include in the report the full address where the headquarter of the provider is located, the main phone number and vat number.\n",
    "\n",
    "Do not include abbreviations in the report.\n",
    "\n",
    "Provide a detailed list, specifying only verified and public information. Do not include speculative or incomplete details.\n",
    "\n",
    "The report should be written in this style example:\n",
    "\n",
    "Use this JSON schema:\n",
    "\n",
    "Provider_departments = {{'provider':str,'department':str, 'subdivision':list[str],'address':str, 'phone':str, 'vat':str}}\n",
    "Return: list[Provider_departments]\n",
    "\"\"\"\n",
    "\n",
    "response = client.models.generate_content(\n",
    "    model=MODEL, config=config, contents=contents)\n",
    "\n"
   ]
  },
  {
   "cell_type": "code",
   "execution_count": 30,
   "metadata": {},
   "outputs": [
    {
     "name": "stdout",
     "output_type": "stream",
     "text": [
      "JSON data has been successfully written to 'provider_departments.json'.\n"
     ]
    },
    {
     "data": {
      "text/plain": [
       "True"
      ]
     },
     "execution_count": 30,
     "metadata": {},
     "output_type": "execute_result"
    }
   ],
   "source": [
    "save_json_from_string(response.text, 'provider_departments.json')"
   ]
  },
  {
   "cell_type": "markdown",
   "metadata": {},
   "source": [
    "**Blend Data from Json files Providers**"
   ]
  },
  {
   "cell_type": "code",
   "execution_count": 31,
   "metadata": {},
   "outputs": [
    {
     "name": "stdout",
     "output_type": "stream",
     "text": [
      "Current working directory: c:\\Users\\mgabi\\Desktop\\becode\\becode_projects\\Proximus-Case-Team-4\\Moustafa\n",
      "Data loaded from provider_general_data.json (Type: <class 'list'>): [{'provider': 'BICS', 'service': 'International communications enabler, global voice carrier, mobile data services', 'type': 'Technology service provider', 'provider_homepage': 'www.bics.com'}]\n",
      "Data loaded from provider_employees.json (Type: <class 'list'>): [{'provider': 'BICS', 'first_name': 'Surash', 'family_name': 'Patel', 'role': 'Managing Director', 'department': 'Leadership', 'email_address': 'surash.patel@bics.be'}, {'provider': 'BICS', 'first_name': 'Cédric', 'family_name': 'Grandjean', 'role': 'Chief Financial Officer', 'department': 'Finance', 'email_address': 'cedric.grandjean@bics.be'}, {'provider': 'BICS', 'first_name': 'Divya', 'family_name': 'Ghai Wakankar', 'role': 'VP Strategy and Corporate Development', 'department': 'Strategy', 'email_address': 'divya.ghaiwakankar@bics.be'}, {'provider': 'BICS', 'first_name': 'Joeri', 'family_name': 'Veldeman', 'role': 'VP People & Transformation', 'department': 'Human Resources', 'email_address': 'joeri.veldeman@bics.be'}, {'provider': 'BICS', 'first_name': 'Jorn', 'family_name': 'Vercamert', 'role': 'VP Customer Solutions & Products', 'department': 'Customer Solutions', 'email_address': 'jorn.vercamert@bics.be'}, {'provider': 'BICS', 'first_name': 'Mikaël', 'family_name': 'Schachne', 'role': 'Chief Revenue Officer Enterprise Sales', 'department': 'Sales', 'email_address': 'mikael.schachne@bics.be'}, {'provider': 'BICS', 'first_name': 'Sophie', 'family_name': 'Greffier', 'role': 'Chief Revenue Officer Telco Sales', 'department': 'Sales', 'email_address': 'sophie.greffier@bics.be'}, {'provider': 'BICS', 'first_name': 'Talia', 'family_name': 'Goldstein', 'role': 'VP Business Operations', 'department': 'Operations', 'email_address': 'talia.goldstein@bics.be'}, {'provider': 'BICS', 'first_name': 'Yaunese', 'family_name': 'Aazibou', 'role': 'Chief Technology & Customer Service', 'department': 'Technology', 'email_address': 'yaunese.aazibou@bics.be'}, {'provider': 'BICS', 'first_name': 'Matteo', 'family_name': 'Gatta', 'role': 'CEO', 'department': 'Leadership', 'email_address': 'matteo.gatta@bics.be'}]\n",
      "Data loaded from provider_color.json (Type: <class 'list'>): [{'provider': 'BICS', 'color_name_1': 'Blue', 'hex_code_1': '#1C97D4', 'rgb_code_1': [28, 151, 212]}, {'color_name_2': 'Green', 'hex_code_2': '#36B556', 'rgb_code_2': [54, 181, 86]}, {'color_name_3': 'Orange', 'hex_code_3': '#F58224', 'rgb_code_3': [245, 130, 36]}, {'color_name_4': 'Red', 'hex_code_4': '#E8242D', 'rgb_code_4': [232, 36, 45]}, {'color_name_5': 'Yellow', 'hex_code_5': '#FDB717', 'rgb_code_5': [253, 183, 23]}, {'color_name_6': 'Black', 'hex_code_6': '#050708', 'rgb_code_6': [5, 7, 8]}]\n",
      "Data loaded from provider_departments.json (Type: <class 'list'>): [{'provider': 'BICS', 'department': 'Executive Management', 'subdivision': ['Chief Executive Officer', 'Chief Financial Officer', 'Chief Strategy & Business Development Officer'], 'address': 'Boulevard du Roi Albert II, 27, B-1030 Brussels, Belgium', 'phone': '+32 2 547 52 10', 'vat': 'BE 0866 977 981'}, {'provider': 'BICS', 'department': 'Finance', 'subdivision': ['Finance Transformation', 'Revenue Enterprise Sales', 'Revenue Telco Sales'], 'address': 'Boulevard du Roi Albert II, 27, B-1030 Brussels, Belgium', 'phone': '+32 2 547 52 10', 'vat': 'BE 0866 977 981'}, {'provider': 'BICS', 'department': 'Technology and Information', 'subdivision': ['Architecture & IT Solution Development', 'Architecture & Solution Development'], 'address': 'Boulevard du Roi Albert II, 27, B-1030 Brussels, Belgium', 'phone': '+32 2 547 52 10', 'vat': 'BE 0866 977 981'}, {'provider': 'BICS', 'department': 'Customer Service Operations', 'subdivision': [], 'address': 'Boulevard du Roi Albert II, 27, B-1030 Brussels, Belgium', 'phone': '+32 2 547 52 10', 'vat': 'BE 0866 977 981'}, {'provider': 'BICS', 'department': 'Legal Affairs', 'subdivision': [], 'address': 'Boulevard du Roi Albert II, 27, B-1030 Brussels, Belgium', 'phone': '+32 2 547 52 10', 'vat': 'BE 0866 977 981'}, {'provider': 'BICS', 'department': 'Regional Operations', 'subdivision': ['Middle East & Africa'], 'address': 'Boulevard du Roi Albert II, 27, B-1030 Brussels, Belgium', 'phone': '+32 2 547 52 10', 'vat': 'BE 0866 977 981'}, {'provider': 'BICS', 'department': 'Business Operations', 'subdivision': [], 'address': 'Boulevard du Roi Albert II, 27, B-1030 Brussels, Belgium', 'phone': '+32 2 547 52 10', 'vat': 'BE 0866 977 981'}, {'provider': 'BICS', 'department': 'Enterprise Business & Market Development', 'subdivision': [], 'address': 'Boulevard du Roi Albert II, 27, B-1030 Brussels, Belgium', 'phone': '+32 2 547 52 10', 'vat': 'BE 0866 977 981'}, {'provider': 'BICS', 'department': 'Human Resources & Transformation', 'subdivision': [], 'address': 'Boulevard du Roi Albert II, 27, B-1030 Brussels, Belgium', 'phone': '+32 2 547 52 10', 'vat': 'BE 0866 977 981'}, {'provider': 'BICS', 'department': 'Products & Solutions', 'subdivision': [], 'address': 'Boulevard du Roi Albert II, 27, B-1030 Brussels, Belgium', 'phone': '+32 2 547 52 10', 'vat': 'BE 0866 977 981'}]\n",
      "Blended Data: {\n",
      "    \"BICS\": {\n",
      "        \"general\": {\n",
      "            \"provider\": \"BICS\",\n",
      "            \"service\": \"International communications enabler, global voice carrier, mobile data services\",\n",
      "            \"type\": \"Technology service provider\",\n",
      "            \"provider_homepage\": \"www.bics.com\"\n",
      "        },\n",
      "        \"employee\": [\n",
      "            {\n",
      "                \"provider\": \"BICS\",\n",
      "                \"first_name\": \"Surash\",\n",
      "                \"family_name\": \"Patel\",\n",
      "                \"role\": \"Managing Director\",\n",
      "                \"department\": \"Leadership\",\n",
      "                \"email_address\": \"surash.patel@bics.be\"\n",
      "            },\n",
      "            {\n",
      "                \"provider\": \"BICS\",\n",
      "                \"first_name\": \"C\\u00e9dric\",\n",
      "                \"family_name\": \"Grandjean\",\n",
      "                \"role\": \"Chief Financial Officer\",\n",
      "                \"department\": \"Finance\",\n",
      "                \"email_address\": \"cedric.grandjean@bics.be\"\n",
      "            },\n",
      "            {\n",
      "                \"provider\": \"BICS\",\n",
      "                \"first_name\": \"Divya\",\n",
      "                \"family_name\": \"Ghai Wakankar\",\n",
      "                \"role\": \"VP Strategy and Corporate Development\",\n",
      "                \"department\": \"Strategy\",\n",
      "                \"email_address\": \"divya.ghaiwakankar@bics.be\"\n",
      "            },\n",
      "            {\n",
      "                \"provider\": \"BICS\",\n",
      "                \"first_name\": \"Joeri\",\n",
      "                \"family_name\": \"Veldeman\",\n",
      "                \"role\": \"VP People & Transformation\",\n",
      "                \"department\": \"Human Resources\",\n",
      "                \"email_address\": \"joeri.veldeman@bics.be\"\n",
      "            },\n",
      "            {\n",
      "                \"provider\": \"BICS\",\n",
      "                \"first_name\": \"Jorn\",\n",
      "                \"family_name\": \"Vercamert\",\n",
      "                \"role\": \"VP Customer Solutions & Products\",\n",
      "                \"department\": \"Customer Solutions\",\n",
      "                \"email_address\": \"jorn.vercamert@bics.be\"\n",
      "            },\n",
      "            {\n",
      "                \"provider\": \"BICS\",\n",
      "                \"first_name\": \"Mika\\u00ebl\",\n",
      "                \"family_name\": \"Schachne\",\n",
      "                \"role\": \"Chief Revenue Officer Enterprise Sales\",\n",
      "                \"department\": \"Sales\",\n",
      "                \"email_address\": \"mikael.schachne@bics.be\"\n",
      "            },\n",
      "            {\n",
      "                \"provider\": \"BICS\",\n",
      "                \"first_name\": \"Sophie\",\n",
      "                \"family_name\": \"Greffier\",\n",
      "                \"role\": \"Chief Revenue Officer Telco Sales\",\n",
      "                \"department\": \"Sales\",\n",
      "                \"email_address\": \"sophie.greffier@bics.be\"\n",
      "            },\n",
      "            {\n",
      "                \"provider\": \"BICS\",\n",
      "                \"first_name\": \"Talia\",\n",
      "                \"family_name\": \"Goldstein\",\n",
      "                \"role\": \"VP Business Operations\",\n",
      "                \"department\": \"Operations\",\n",
      "                \"email_address\": \"talia.goldstein@bics.be\"\n",
      "            },\n",
      "            {\n",
      "                \"provider\": \"BICS\",\n",
      "                \"first_name\": \"Yaunese\",\n",
      "                \"family_name\": \"Aazibou\",\n",
      "                \"role\": \"Chief Technology & Customer Service\",\n",
      "                \"department\": \"Technology\",\n",
      "                \"email_address\": \"yaunese.aazibou@bics.be\"\n",
      "            },\n",
      "            {\n",
      "                \"provider\": \"BICS\",\n",
      "                \"first_name\": \"Matteo\",\n",
      "                \"family_name\": \"Gatta\",\n",
      "                \"role\": \"CEO\",\n",
      "                \"department\": \"Leadership\",\n",
      "                \"email_address\": \"matteo.gatta@bics.be\"\n",
      "            }\n",
      "        ],\n",
      "        \"color\": {\n",
      "            \"provider\": \"BICS\",\n",
      "            \"color_name_1\": \"Blue\",\n",
      "            \"hex_code_1\": \"#1C97D4\",\n",
      "            \"rgb_code_1\": [\n",
      "                28,\n",
      "                151,\n",
      "                212\n",
      "            ]\n",
      "        },\n",
      "        \"departments\": [\n",
      "            {\n",
      "                \"provider\": \"BICS\",\n",
      "                \"department\": \"Executive Management\",\n",
      "                \"subdivision\": [\n",
      "                    \"Chief Executive Officer\",\n",
      "                    \"Chief Financial Officer\",\n",
      "                    \"Chief Strategy & Business Development Officer\"\n",
      "                ],\n",
      "                \"address\": \"Boulevard du Roi Albert II, 27, B-1030 Brussels, Belgium\",\n",
      "                \"phone\": \"+32 2 547 52 10\",\n",
      "                \"vat\": \"BE 0866 977 981\"\n",
      "            },\n",
      "            {\n",
      "                \"provider\": \"BICS\",\n",
      "                \"department\": \"Finance\",\n",
      "                \"subdivision\": [\n",
      "                    \"Finance Transformation\",\n",
      "                    \"Revenue Enterprise Sales\",\n",
      "                    \"Revenue Telco Sales\"\n",
      "                ],\n",
      "                \"address\": \"Boulevard du Roi Albert II, 27, B-1030 Brussels, Belgium\",\n",
      "                \"phone\": \"+32 2 547 52 10\",\n",
      "                \"vat\": \"BE 0866 977 981\"\n",
      "            },\n",
      "            {\n",
      "                \"provider\": \"BICS\",\n",
      "                \"department\": \"Technology and Information\",\n",
      "                \"subdivision\": [\n",
      "                    \"Architecture & IT Solution Development\",\n",
      "                    \"Architecture & Solution Development\"\n",
      "                ],\n",
      "                \"address\": \"Boulevard du Roi Albert II, 27, B-1030 Brussels, Belgium\",\n",
      "                \"phone\": \"+32 2 547 52 10\",\n",
      "                \"vat\": \"BE 0866 977 981\"\n",
      "            },\n",
      "            {\n",
      "                \"provider\": \"BICS\",\n",
      "                \"department\": \"Customer Service Operations\",\n",
      "                \"subdivision\": [],\n",
      "                \"address\": \"Boulevard du Roi Albert II, 27, B-1030 Brussels, Belgium\",\n",
      "                \"phone\": \"+32 2 547 52 10\",\n",
      "                \"vat\": \"BE 0866 977 981\"\n",
      "            },\n",
      "            {\n",
      "                \"provider\": \"BICS\",\n",
      "                \"department\": \"Legal Affairs\",\n",
      "                \"subdivision\": [],\n",
      "                \"address\": \"Boulevard du Roi Albert II, 27, B-1030 Brussels, Belgium\",\n",
      "                \"phone\": \"+32 2 547 52 10\",\n",
      "                \"vat\": \"BE 0866 977 981\"\n",
      "            },\n",
      "            {\n",
      "                \"provider\": \"BICS\",\n",
      "                \"department\": \"Regional Operations\",\n",
      "                \"subdivision\": [\n",
      "                    \"Middle East & Africa\"\n",
      "                ],\n",
      "                \"address\": \"Boulevard du Roi Albert II, 27, B-1030 Brussels, Belgium\",\n",
      "                \"phone\": \"+32 2 547 52 10\",\n",
      "                \"vat\": \"BE 0866 977 981\"\n",
      "            },\n",
      "            {\n",
      "                \"provider\": \"BICS\",\n",
      "                \"department\": \"Business Operations\",\n",
      "                \"subdivision\": [],\n",
      "                \"address\": \"Boulevard du Roi Albert II, 27, B-1030 Brussels, Belgium\",\n",
      "                \"phone\": \"+32 2 547 52 10\",\n",
      "                \"vat\": \"BE 0866 977 981\"\n",
      "            },\n",
      "            {\n",
      "                \"provider\": \"BICS\",\n",
      "                \"department\": \"Enterprise Business & Market Development\",\n",
      "                \"subdivision\": [],\n",
      "                \"address\": \"Boulevard du Roi Albert II, 27, B-1030 Brussels, Belgium\",\n",
      "                \"phone\": \"+32 2 547 52 10\",\n",
      "                \"vat\": \"BE 0866 977 981\"\n",
      "            },\n",
      "            {\n",
      "                \"provider\": \"BICS\",\n",
      "                \"department\": \"Human Resources & Transformation\",\n",
      "                \"subdivision\": [],\n",
      "                \"address\": \"Boulevard du Roi Albert II, 27, B-1030 Brussels, Belgium\",\n",
      "                \"phone\": \"+32 2 547 52 10\",\n",
      "                \"vat\": \"BE 0866 977 981\"\n",
      "            },\n",
      "            {\n",
      "                \"provider\": \"BICS\",\n",
      "                \"department\": \"Products & Solutions\",\n",
      "                \"subdivision\": [],\n",
      "                \"address\": \"Boulevard du Roi Albert II, 27, B-1030 Brussels, Belgium\",\n",
      "                \"phone\": \"+32 2 547 52 10\",\n",
      "                \"vat\": \"BE 0866 977 981\"\n",
      "            }\n",
      "        ]\n",
      "    }\n",
      "}\n",
      "Blended data has been saved to 'blended_data_providers.json'\n"
     ]
    }
   ],
   "source": [
    "# Function to read JSON data from a file and debug if necessary\n",
    "def read_json_file(file_path):\n",
    "    with open(file_path, 'r') as file:\n",
    "        try:\n",
    "            data = json.load(file)\n",
    "            # Debugging: Print the entire content of the file to inspect the structure\n",
    "            print(f\"Data loaded from {file_path} (Type: {type(data)}): {data}\")\n",
    "            if not isinstance(data, list):\n",
    "                raise ValueError(f\"Data in {file_path} is not a list as expected.\")\n",
    "            return data\n",
    "        except json.JSONDecodeError:\n",
    "            print(f\"Error decoding JSON from {file_path}\")\n",
    "            return []  # Return an empty list if the JSON is malformed\n",
    "\n",
    "# Function to blend data\n",
    "def blend_data_from_files(general_file, employee_file, color_file, department_file):\n",
    "    # Read data from files\n",
    "    general_data = read_json_file(general_file)\n",
    "    employee_data = read_json_file(employee_file)\n",
    "    color_data = read_json_file(color_file)\n",
    "    department_data = read_json_file(department_file)\n",
    "    \n",
    "    # Merge data\n",
    "    merged_data = {}\n",
    "\n",
    "    # Add general data\n",
    "    for entry in general_data:\n",
    "        try:\n",
    "            provider = entry[\"provider\"]\n",
    "            merged_data[provider] = {\"general\": entry}\n",
    "        except KeyError:\n",
    "            print(\"KeyError: Missing 'provider' in general data entry.\")\n",
    "            continue\n",
    "\n",
    "    # Add employee data\n",
    "    for entry in employee_data:\n",
    "        try:\n",
    "            provider = entry[\"provider\"]\n",
    "            if provider in merged_data:\n",
    "                if \"employee\" not in merged_data[provider]:\n",
    "                    merged_data[provider][\"employee\"] = []\n",
    "                merged_data[provider][\"employee\"].append(entry)\n",
    "        except KeyError:\n",
    "            print(\"KeyError: Missing 'provider' in employee data entry.\")\n",
    "            continue\n",
    "\n",
    "    # Add color data\n",
    "    for entry in color_data:\n",
    "        try:\n",
    "            provider = entry.get(\"provider\", \"Unknown\")\n",
    "            if provider in merged_data:\n",
    "                if \"color\" not in merged_data[provider]:\n",
    "                    merged_data[provider][\"color\"] = {}\n",
    "                merged_data[provider][\"color\"].update(entry)\n",
    "        except KeyError:\n",
    "            print(\"KeyError: Missing 'provider' in color data entry.\")\n",
    "            continue\n",
    "\n",
    "    # Add department data\n",
    "    for entry in department_data:\n",
    "        try:\n",
    "            provider = entry[\"provider\"]\n",
    "            if provider in merged_data:\n",
    "                if \"departments\" not in merged_data[provider]:\n",
    "                    merged_data[provider][\"departments\"] = []\n",
    "                merged_data[provider][\"departments\"].append(entry)\n",
    "        except KeyError:\n",
    "            print(\"KeyError: Missing 'provider' in department data entry.\")\n",
    "            continue\n",
    "\n",
    "    return merged_data\n",
    "\n",
    "# File paths\n",
    "general_file = 'provider_general_data.json'\n",
    "employee_file = 'provider_employees.json'\n",
    "color_file = 'provider_color.json'\n",
    "department_file = 'provider_departments.json'\n",
    "\n",
    "# Debugging: Print current working directory\n",
    "print(\"Current working directory:\", os.getcwd())\n",
    "\n",
    "# Blend the data\n",
    "blended_result = blend_data_from_files(general_file, employee_file, color_file, department_file)\n",
    "\n",
    "# Debugging: Print the blended data to verify\n",
    "print(\"Blended Data:\", json.dumps(blended_result, indent=4))\n",
    "\n",
    "# Write the result to a new JSON file and capture any potential errors\n",
    "try:\n",
    "    with open('blended_data_providers.json', 'w') as output_file:\n",
    "        json.dump(blended_result, output_file, indent=4)\n",
    "    print(\"Blended data has been saved to 'blended_data_providers.json'\")\n",
    "except Exception as e:\n",
    "    print(f\"Error saving file: {e}\")\n",
    "\n",
    "\n",
    "\n",
    "\n"
   ]
  },
  {
   "cell_type": "markdown",
   "metadata": {},
   "source": [
    "**2. SETTING UP THE EMAIL WRITING ASSISTANT** (temperature = 1, tools= ??)"
   ]
  },
  {
   "cell_type": "markdown",
   "metadata": {},
   "source": [
    "**Determine Tone of Email**"
   ]
  },
  {
   "cell_type": "code",
   "execution_count": 32,
   "metadata": {},
   "outputs": [],
   "source": [
    "email_tones = [\n",
    "    \"Urgent\",\n",
    "    \"Firm\",\n",
    "    \"Action Required\",\n",
    "    \"Time-Sensitive\",\n",
    "    \"Polite\",\n",
    "    \"Friendly\",\n",
    "    \"Professional\",\n",
    "    \"Empathetic\"\n",
    "]"
   ]
  },
  {
   "cell_type": "code",
   "execution_count": 33,
   "metadata": {},
   "outputs": [],
   "source": [
    "random_tone = rd.choice(email_tones)"
   ]
  },
  {
   "cell_type": "code",
   "execution_count": 34,
   "metadata": {},
   "outputs": [
    {
     "name": "stdout",
     "output_type": "stream",
     "text": [
      "Action Required\n"
     ]
    }
   ],
   "source": [
    "print(random_tone)"
   ]
  },
  {
   "cell_type": "markdown",
   "metadata": {},
   "source": [
    "**Setting up some dummy data about proximus employees**"
   ]
  },
  {
   "cell_type": "code",
   "execution_count": 35,
   "metadata": {},
   "outputs": [],
   "source": [
    "proximus_employees = [\n",
    "    {\n",
    "        \"name\": \"Marie Declercq\", \n",
    "        \"email\": \"marie.declercq@proximus.be\", \n",
    "        \"role\": \"Data Analyst\", \n",
    "        \"language\": \"Dutch\", \n",
    "        \"department\": \"Consumer Market\"\n",
    "    },\n",
    "    {\n",
    "        \"name\": \"Luc Vandenberg\", \n",
    "        \"email\": \"luc.vandenberg@proximus.be\", \n",
    "        \"role\": \"Cybersecurity Specialist\", \n",
    "        \"language\": \"Dutch\", \n",
    "        \"department\": \"Network & Wholesale\"\n",
    "    },\n",
    "    {\n",
    "        \"name\": \"Emma Wouters\", \n",
    "        \"email\": \"emma.wouters@proximus.be\", \n",
    "        \"role\": \"Marketing Specialist\", \n",
    "        \"language\": \"English\", \n",
    "        \"department\": \"Enterprise Market\"\n",
    "    },\n",
    "    {\n",
    "        \"name\": \"Jai Mehta\", \n",
    "        \"email\": \"jai.mehta@proximus.be\", \n",
    "        \"role\": \"System Administrator\", \n",
    "        \"language\": \"English\", \n",
    "        \"department\": \"IT Infrastructure\"\n",
    "    },\n",
    "    {\n",
    "        \"name\": \"Guillaume Boutin\", \n",
    "        \"email\": \"guillaume.boutin@proximus.be\", \n",
    "        \"role\": \"Chief Executive Officer\", \n",
    "        \"language\": \"French\", \n",
    "        \"department\": \"Chief Executive Officer's Department\"\n",
    "    }\n",
    "] "
   ]
  },
  {
   "cell_type": "code",
   "execution_count": 36,
   "metadata": {},
   "outputs": [],
   "source": [
    "random_employee = rd.choice(proximus_employees)"
   ]
  },
  {
   "cell_type": "code",
   "execution_count": 37,
   "metadata": {},
   "outputs": [
    {
     "name": "stdout",
     "output_type": "stream",
     "text": [
      "{'name': 'Marie Declercq', 'email': 'marie.declercq@proximus.be', 'role': 'Data Analyst', 'language': 'Dutch', 'department': 'Consumer Market'}\n"
     ]
    }
   ],
   "source": [
    "print(random_employee)"
   ]
  },
  {
   "cell_type": "code",
   "execution_count": 38,
   "metadata": {},
   "outputs": [],
   "source": [
    "system_instruction= f\"\"\"You are a skilled copywriter with a knack for creating emails that feel\n",
    "    personal, relevant, urgent and engaging. Your task is to write emails to employees of\n",
    "    {COMPANY} all while maintaining a tone that feels individual, tailored and professional. \n",
    "    \n",
    "    The email should appear to come from a relevant source. Encourage actions like clicking links or downloading attachments with a sense of urgency. Align the email subject with the sender's theme and message.\n",
    "    \n",
    "    Incorporate in your answer only complete emails.\n",
    "    \n",
    "    Everything about the sender address, subject, and email body is focused on the recipient interacting with the link.\n",
    "    \n",
    "    If you encounter any characters as \"/\", \"\\\", \"-\" replace them with \"_\"\n",
    "    \n",
    "    The email should have a {random_tone} tone.\n",
    "    \n",
    "    The receiver of the email is {random_employee['name']} and should be in {random_employee['language']}. Address the receiver formal and by his full name.\n",
    "\n",
    "    The email signature should contain the first name, family name, role and the company name of one of the employees of {provider}. \n",
    "\n",
    "    Do not include the link in the body of the email, as it will be implemented separately and placed below the text body, refer to it in the text body where it is placed.\n",
    "\n",
    "    Just plain text in the body, nothing to include anymore.\n",
    "    \n",
    "    Create also a call to action text that is limited to maximum 3 words but do not include it in the body.\n",
    "\n",
    "    The email should be written in this style example:\n",
    "\n",
    "    Use this JSON schema:\n",
    "\n",
    "    Provider_email = {{'subject':str,'addressing_the_receiver':str, 'body':str, 'email_sign_fullname':str, 'email_sign_role':str, 'email_sign_company':str, 'call_to_action_text':str}}\n",
    "    Return: list[Provider_email]\n",
    "        \n",
    "        \n",
    "        \"\"\""
   ]
  },
  {
   "cell_type": "code",
   "execution_count": 39,
   "metadata": {},
   "outputs": [],
   "source": [
    "config = GenerateContentConfig(system_instruction=system_instruction, temperature=1,maxOutputTokens=8000, top_p=0.9, top_k=40, safety_settings=safety_settings)"
   ]
  },
  {
   "cell_type": "markdown",
   "metadata": {},
   "source": [
    "**Fetch some Provider Context to generate better emails**"
   ]
  },
  {
   "cell_type": "code",
   "execution_count": 40,
   "metadata": {},
   "outputs": [],
   "source": [
    "# Load JSON data from the file\n",
    "with open(\"provider_employees.json\", \"r\") as file:\n",
    "    provider_employees = json.load(file)"
   ]
  },
  {
   "cell_type": "code",
   "execution_count": 41,
   "metadata": {},
   "outputs": [],
   "source": [
    "# Load JSON data from the file\n",
    "with open(\"provider_departments.json\", \"r\") as file:\n",
    "    provider_departments = json.load(file)"
   ]
  },
  {
   "cell_type": "code",
   "execution_count": 42,
   "metadata": {},
   "outputs": [],
   "source": [
    "telecom_employee_events = [\n",
    "    \"Seminars\",\n",
    "    \"Presentations\",\n",
    "    \"Networking Meetings\",\n",
    "    \"Workshops\",\n",
    "    \"Training Sessions\",\n",
    "    \"Industry Roundtables\",\n",
    "    \"Panel Discussions\",\n",
    "    \"Webinars\",\n",
    "    \"Conferences\",\n",
    "    \"Hackathons\",\n",
    "    \"Product Demos\",\n",
    "    \"Leadership Forums\",\n",
    "    \"Strategic Planning Meetings\",\n",
    "    \"Customer Experience Sessions\",\n",
    "    \"Innovation Labs\"\n",
    "]"
   ]
  },
  {
   "cell_type": "code",
   "execution_count": 43,
   "metadata": {},
   "outputs": [],
   "source": [
    "random_event=rd.choice(telecom_employee_events)"
   ]
  },
  {
   "cell_type": "code",
   "execution_count": 44,
   "metadata": {},
   "outputs": [
    {
     "name": "stdout",
     "output_type": "stream",
     "text": [
      "Training Sessions\n"
     ]
    }
   ],
   "source": [
    "print(random_event)"
   ]
  },
  {
   "cell_type": "code",
   "execution_count": 45,
   "metadata": {},
   "outputs": [],
   "source": [
    "urgent_provider_issues = [\n",
    "    \"Network Outages\",\n",
    "    \"SLA Violations\",\n",
    "    \"Payment Delays\",\n",
    "    \"Contract Breach\",\n",
    "    \"Quality Failures\",\n",
    "    \"Security Risks\",\n",
    "    \"Price Increases\",\n",
    "    \"Missed Deadlines\",\n",
    "    \"Regulatory Issues\",\n",
    "    \"Billing Discrepancies\"\n",
    "]"
   ]
  },
  {
   "cell_type": "code",
   "execution_count": 46,
   "metadata": {},
   "outputs": [],
   "source": [
    "random_issue=rd.choice(urgent_provider_issues)"
   ]
  },
  {
   "cell_type": "code",
   "execution_count": 47,
   "metadata": {},
   "outputs": [
    {
     "name": "stdout",
     "output_type": "stream",
     "text": [
      "Contract Breach\n"
     ]
    }
   ],
   "source": [
    "print(random_issue)"
   ]
  },
  {
   "cell_type": "markdown",
   "metadata": {},
   "source": [
    "**Emails Provider to Proximus**"
   ]
  },
  {
   "cell_type": "markdown",
   "metadata": {},
   "source": [
    "Service related Emails"
   ]
  },
  {
   "cell_type": "code",
   "execution_count": 48,
   "metadata": {},
   "outputs": [],
   "source": [
    "contents = f\"\"\"\n",
    "\n",
    "{provider} is a service provider of {COMPANY}. {provider} has these {provider_departments}.\n",
    "\n",
    "Write some tailored emails based on the role of {random_employee['role']} about an urgent matter that needs to be solved related to {COMPANY} concerning a service that {provider} offers. Elaborate about the issue and point out why it needs to be solved as quick as possible.\n",
    "\n",
    "\"\"\"\n",
    "\n",
    "response = client.models.generate_content(\n",
    "    model=MODEL, config=config, contents=contents)\n",
    "\n"
   ]
  },
  {
   "cell_type": "markdown",
   "metadata": {},
   "source": [
    "repairing a string"
   ]
  },
  {
   "cell_type": "code",
   "execution_count": 49,
   "metadata": {},
   "outputs": [],
   "source": [
    "def repair_json_response(response_text):\n",
    "    \"\"\"\n",
    "    Repairs a potentially malformed JSON string from `response.text`.\n",
    "    Ensures it starts with '[' and ends with ']' after the last complete dictionary.\n",
    "\n",
    "    Args:\n",
    "        response_text (str): The response text containing a potentially malformed JSON string.\n",
    "\n",
    "    Returns:\n",
    "        None: Prints the repaired JSON string.\n",
    "\n",
    "    Raises:\n",
    "        ValueError: If the string cannot be repaired into valid JSON.\n",
    "    \"\"\"\n",
    "    # Remove the unwanted prefix if it exists\n",
    "    if response_text.strip().startswith(\"```json\") or response_text.strip().startswith(\"[```json\"):\n",
    "        response_text = response_text.replace(\"```json\", \"\", 1).replace(\"[```json\", \"\", 1).strip()\n",
    "\n",
    "    # Ensure the string starts with '['\n",
    "    if not response_text.strip().startswith(\"[\"):\n",
    "        response_text = \"[\" + response_text\n",
    "\n",
    "    # Find the last closing brace ('}')\n",
    "    last_brace_index = response_text.rfind(\"}\")\n",
    "    if last_brace_index == -1:\n",
    "        raise ValueError(\"No closing brace found in the response text.\")\n",
    "\n",
    "    # Trim the string up to the last complete dictionary and close the list\n",
    "    repaired_string = response_text[:last_brace_index + 1].rstrip(\", \\n\") + \"]\"\n",
    "    \n",
    "    # Print the repaired JSON string\n",
    "    return repaired_string\n"
   ]
  },
  {
   "cell_type": "code",
   "execution_count": 50,
   "metadata": {},
   "outputs": [
    {
     "data": {
      "text/plain": [
       "'[\\n  {\\n    \"subject\": \"Dringend_Actie_vereist: Onderzoek naar afwijkingen in internationale gespreksgegevens\",\\n    \"addressing_the_receiver\": \"Geachte Mevrouw Declercq,\",\\n    \"body\": \"We hebben onlangs aanzienlijke afwijkingen vastgesteld in de internationale gespreksgegevens die door BICS worden geleverd. Deze discrepanties kunnen een impact hebben op de nauwkeurigheid van onze facturatie en rapportage. Uw expertise als Data Analist is cruciaal om de oorzaak van deze problemen te achterhalen en een snelle oplossing te bieden. Wij verzoeken u vriendelijk om zo spoedig mogelijk de details te onderzoeken die beschikbaar zijn via de onderstaande link. Het is van het grootste belang dat dit probleem snel wordt opgelost om verdere financiële gevolgen te voorkomen.\",\\n    \"email_sign_fullname\": \"Michael De Bruyne\",\\n    \"email_sign_role\": \"Chief Strategy & Business Development Officer\",\\n    \"email_sign_company\": \"BICS\",\\n    \"call_to_action_text\": \"Bekijk Nu\"\\n  },\\n  {\\n    \"subject\": \"Belangrijk: Data-analyse nodig voor BICS internationale gesprekken\",\\n     \"addressing_the_receiver\": \"Geachte Mevrouw Declercq,\",\\n    \"body\": \"Er is een onmiddellijk onderzoek nodig naar een ernstige inconsistentie in de data van BICS’ internationale gesprekken. Deze inconsistenties hebben mogelijk verreikende gevolgen voor de operationele efficiëntie en de financiële integriteit. Uw expertise in data-analyse is van essentieel belang om de bron van deze problemen te identificeren en te verhelpen. We vragen u dringend om de volgende stappen te ondernemen, die u kunt vinden via de link hieronder. Een spoedige reactie is essentieel om mogelijke schade te minimaliseren.\",\\n    \"email_sign_fullname\": \"Sarah Dubois\",\\n    \"email_sign_role\": \"Finance Transformation\",\\n    \"email_sign_company\": \"BICS\",\\n    \"call_to_action_text\": \"Analyseer Nu\"\\n  },\\n    {\\n    \"subject\": \"Onmiddellijke_Data_Analyse_Vereist: BICS Internationale Communicatie\",\\n    \"addressing_the_receiver\": \"Geachte Mevrouw Declercq,\",\\n    \"body\": \"We hebben een significant probleem ontdekt met de data van internationale communicatiediensten geleverd door BICS. Er is een kritieke noodzaak om de onderliggende oorzaken van deze onregelmatigheden te onderzoeken om ervoor te zorgen dat onze diensten naar behoren functioneren en dat onze gegevens betrouwbaar zijn. Uw rol als Data Analist is hierbij essentieel. We verzoeken u dringend om de details, te vinden in de onderstaande link, te bekijken en actie te ondernemen. De timing van dit onderzoek is essentieel om verdere verstoringen te voorkomen.\",\\n     \"email_sign_fullname\": \"Thomas Van Der Elst\",\\n    \"email_sign_role\": \"Architecture & IT Solution Development\",\\n    \"email_sign_company\": \"BICS\",\\n    \"call_to_action_text\": \"Start Analyse\"\\n  }]'"
      ]
     },
     "execution_count": 50,
     "metadata": {},
     "output_type": "execute_result"
    }
   ],
   "source": [
    "response_llm = response.text\n",
    "repair_json_response(response_llm)"
   ]
  },
  {
   "cell_type": "code",
   "execution_count": 51,
   "metadata": {},
   "outputs": [
    {
     "name": "stdout",
     "output_type": "stream",
     "text": [
      "JSON data has been successfully written to 'emails_related_service.json'.\n"
     ]
    },
    {
     "data": {
      "text/plain": [
       "True"
      ]
     },
     "execution_count": 51,
     "metadata": {},
     "output_type": "execute_result"
    }
   ],
   "source": [
    "save_json_from_string(response_llm, 'emails_related_service.json')"
   ]
  },
  {
   "cell_type": "markdown",
   "metadata": {},
   "source": [
    "Provider - Proximus Employee events"
   ]
  },
  {
   "cell_type": "code",
   "execution_count": 52,
   "metadata": {},
   "outputs": [],
   "source": [
    "contents = f\"\"\"\n",
    "\n",
    "{provider} is a service provider of {COMPANY}. {provider} has these {provider_departments}.\n",
    "\n",
    "Write some tailored emails based on the role of {random_employee['role']} about an event that is organized by {provider}. \n",
    "\n",
    "The event is {random_event} and is geared towards {random_employee['role']}.\n",
    "\n",
    "Do not include urgent in the subject of the email. State that the spots available are limited and urgent action is required.\n",
    "\n",
    "\"\"\"\n",
    "\n",
    "response = client.models.generate_content(\n",
    "    model=MODEL, config=config, contents=contents)\n",
    "\n"
   ]
  },
  {
   "cell_type": "code",
   "execution_count": 53,
   "metadata": {},
   "outputs": [
    {
     "data": {
      "text/plain": [
       "'[\\n  {\\n    \"subject\": \"Training Sessies voor Data Analisten_Beperkte Plaatsen\",\\n    \"addressing_the_receiver\": \"Geachte Mevrouw Declercq,\",\\n    \"body\": \"We nodigen u graag uit voor onze exclusieve trainingssessies, speciaal ontworpen voor data-analisten. Deze sessies bieden waardevolle inzichten en praktische vaardigheden om uw analytische capaciteiten te verbeteren. De plaatsen zijn beperkt, dus wees er snel bij om uw plek te reserveren. Bekijk de details en schrijf u in via de link hieronder.\",\\n    \"email_sign_fullname\": \"Jan Van Den Berg\",\\n    \"email_sign_role\": \"Chief Executive Officer\",\\n    \"email_sign_company\": \"BICS\",\\n    \"call_to_action_text\": \"Schrijf nu in\"\\n  },\\n  {\\n    \"subject\": \"Versterk uw vaardigheden_Data Analyse Training\",\\n     \"addressing_the_receiver\": \"Geachte Mevrouw Declercq,\",\\n    \"body\": \"Verbeter uw expertise met onze data-analyse trainingssessies. Deze training is een must voor elke data-analist die voorop wil lopen. Er zijn beperkte plaatsen beschikbaar. Handel snel om uw plek te verzekeren. Meer informatie en inschrijven is mogelijk via de link hieronder.\",\\n    \"email_sign_fullname\": \"Sophie Dubois\",\\n    \"email_sign_role\": \"Chief Financial Officer\",\\n     \"email_sign_company\": \"BICS\",\\n    \"call_to_action_text\": \"Registreer vandaag\"\\n  },\\n  {\\n     \"subject\": \"Exclusieve Training voor Data Analisten_Mis het niet\",\\n    \"addressing_the_receiver\": \"Geachte Mevrouw Declercq,\",\\n    \"body\": \"Mis onze exclusieve trainingssessies voor data-analisten niet! Deze sessies zijn ontworpen om uw vaardigheden naar een hoger niveau te tillen. De beschikbaarheid is beperkt, dus handel nu. Alle details en de inschrijflink vindt u hieronder.\",\\n     \"email_sign_fullname\": \"Thomas De Smet\",\\n    \"email_sign_role\": \"Chief Strategy & Business Development Officer\",\\n    \"email_sign_company\": \"BICS\",\\n    \"call_to_action_text\": \"Klik hier\"\\n  }]'"
      ]
     },
     "execution_count": 53,
     "metadata": {},
     "output_type": "execute_result"
    }
   ],
   "source": [
    "response_llm = response.text\n",
    "repair_json_response(response_llm)"
   ]
  },
  {
   "cell_type": "code",
   "execution_count": 54,
   "metadata": {},
   "outputs": [
    {
     "name": "stdout",
     "output_type": "stream",
     "text": [
      "JSON data has been successfully written to 'emails_employee_event.json'.\n"
     ]
    },
    {
     "data": {
      "text/plain": [
       "True"
      ]
     },
     "execution_count": 54,
     "metadata": {},
     "output_type": "execute_result"
    }
   ],
   "source": [
    "save_json_from_string(response_llm, 'emails_employee_event.json')"
   ]
  },
  {
   "cell_type": "markdown",
   "metadata": {},
   "source": [
    "Provider issues with Proximus"
   ]
  },
  {
   "cell_type": "code",
   "execution_count": 55,
   "metadata": {},
   "outputs": [],
   "source": [
    "contents= f\"\"\"\n",
    "\n",
    "{provider} is a service provider of {COMPANY}. {provider} has these {provider_departments}.\n",
    "\n",
    "Write some tailored emails based on the role of {random_employee['role']} about an issue that {provider} have with {COMPANY}. \n",
    "\n",
    "The issue is {random_issue} and is related to {random_employee['role']}. Elaborate about the issue. \n",
    "\n",
    "\"\"\"\n",
    "\n",
    "response = client.models.generate_content(\n",
    "    model=MODEL, config=config, contents=contents)\n",
    "\n"
   ]
  },
  {
   "cell_type": "code",
   "execution_count": 56,
   "metadata": {},
   "outputs": [
    {
     "data": {
      "text/plain": [
       "'[\\n  {\\n    \"subject\": \"Dringend_Contractbreuk_Analyse_Vereist\",\\n    \"addressing_the_receiver\": \"Geachte mevrouw Declercq,\",\\n    \"body\": \"We hebben een contractbreuk vastgesteld die onmiddellijke aandacht vereist. Uit een recente analyse blijkt dat er discrepanties zijn in de data-uitwisseling tussen Proximus en BICS. Dit kan aanzienlijke gevolgen hebben voor onze operationele efficiëntie en contractuele verplichtingen.\\\\n\\\\nWe verzoeken u dringend om de details te bekijken via de link hieronder. Uw expertise als data-analist is cruciaal om deze kwestie snel op te lossen.\\\\n\\\\n\",\\n    \"email_sign_fullname\": \"Joris Van Damme\",\\n    \"email_sign_role\": \"Chief Financial Officer\",\\n    \"email_sign_company\": \"BICS\",\\n    \"call_to_action_text\": \"Bekijk Nu\"\\n  },\\n    {\\n    \"subject\": \"Belangrijk_Data_Discrepantie_Contract\",\\n    \"addressing_the_receiver\": \"Geachte mevrouw Declercq,\",\\n      \"body\": \"Er is een belangrijk probleem vastgesteld met betrekking tot een contractbreuk. We hebben significante afwijkingen opgemerkt in de datastromen tussen onze systemen en die van Proximus. Dit is een kritieke situatie die onmiddellijke analyse vereist om de impact en oorzaak te bepalen.\\\\n\\\\nKlik op de onderstaande link om toegang te krijgen tot de benodigde informatie. Uw snelle actie is van essentieel belang.\\\\n\\\\n\",\\n    \"email_sign_fullname\": \"Joris Van Damme\",\\n    \"email_sign_role\": \"Chief Financial Officer\",\\n    \"email_sign_company\": \"BICS\",\\n    \"call_to_action_text\": \"Analyseer Direct\"\\n  },\\n  {\\n    \"subject\": \"Actie_Vereist_Contractbreuk_Data\",\\n    \"addressing_the_receiver\":\"Geachte mevrouw Declercq,\",\\n    \"body\": \"We hebben een duidelijke contractbreuk vastgesteld die direct moet worden onderzocht. Er zijn aanzienlijke inconsistenties in de data-uitwisseling met Proximus die wijzen op een potentiële schending van onze overeenkomst. Het is essentieel dat we deze situatie onmiddellijk aanpakken.\\\\n\\\\nDe details zijn beschikbaar via de link hieronder. We rekenen op uw expertise om deze zaak zo snel mogelijk op te helderen.\\\\n\\\\n\",\\n     \"email_sign_fullname\": \"Joris Van Damme\",\\n    \"email_sign_role\": \"Chief Financial Officer\",\\n    \"email_sign_company\": \"BICS\",\\n     \"call_to_action_text\": \"Onderzoek Nu\"\\n  }]'"
      ]
     },
     "execution_count": 56,
     "metadata": {},
     "output_type": "execute_result"
    }
   ],
   "source": [
    "response_llm = response.text\n",
    "repair_json_response(response_llm)"
   ]
  },
  {
   "cell_type": "code",
   "execution_count": 57,
   "metadata": {},
   "outputs": [
    {
     "name": "stdout",
     "output_type": "stream",
     "text": [
      "JSON data has been successfully written to 'emails_provider_issue.json'.\n"
     ]
    },
    {
     "data": {
      "text/plain": [
       "True"
      ]
     },
     "execution_count": 57,
     "metadata": {},
     "output_type": "execute_result"
    }
   ],
   "source": [
    "save_json_from_string(response_llm, 'emails_provider_issue.json')"
   ]
  },
  {
   "cell_type": "markdown",
   "metadata": {},
   "source": [
    "**Internal Emails Proximus**"
   ]
  },
  {
   "cell_type": "code",
   "execution_count": null,
   "metadata": {},
   "outputs": [],
   "source": []
  },
  {
   "cell_type": "markdown",
   "metadata": {},
   "source": [
    "**3. BLENDING DATA IN HTML**"
   ]
  },
  {
   "cell_type": "code",
   "execution_count": 58,
   "metadata": {},
   "outputs": [],
   "source": [
    "\n",
    "fake_link = \"https://example.com/secure-login\"\n",
    "logo = \"https://encrypted-tbn0.gstatic.com/images?q=tbn:ANd9GcTSGEPQPSgVcETmtsfevb9aZp2LTlYOcy1mAm8xD0FROr4oMWA-xuO6vEV6v3Igwpr7tS8&usqp=CAU\""
   ]
  },
  {
   "cell_type": "code",
   "execution_count": 59,
   "metadata": {},
   "outputs": [],
   "source": [
    "\n",
    "with open('blended_data_providers.json', 'r') as file:\n",
    "    data = json.load(file)\n",
    "\n",
    "# If I don't know the provider name so, I have to loop over them.\n",
    "for provider_data in data.values():\n",
    "    general_info = provider_data.get('general', {})\n",
    "    provider = general_info.get('provider', 'N/A')\n",
    "    departments = provider_data.get('departments', [])\n",
    "    address = departments[0].get('address', 'N/A') if departments else 'N/A'\n",
    "    color_info = provider_data.get('color', {})\n",
    "    color_name = color_info.get('color_name_1', 'white')     #################### I am suggesting to write \"light\" before the color name to avoid sight harm ####\n",
    "    \n"
   ]
  },
  {
   "cell_type": "code",
   "execution_count": 63,
   "metadata": {},
   "outputs": [],
   "source": [
    "with open(\"emails_employee_event.json\", \"r\", encoding=\"utf-8\") as file:\n",
    "    email_data = json.load(file)\n",
    "\n",
    "# Iterate through each dictionary in the list\n",
    "for email in email_data:\n",
    "    subject =  email[\"subject\"]\n",
    "    email_body = email[\"body\"]\n",
    "    sender_name = email[\"email_sign_fullname\"]\n",
    "    sender_role = email[\"email_sign_role\"]\n",
    "    company_name = email[\"email_sign_company\"]\n",
    "    receiver_name = email[\"addressing_the_receiver\"]\n",
    "    cta = email[\"call_to_action_text\"]\n",
    "    \n",
    "    \n",
    "    # for reciver in receiver_employee[:2]:  #------> check how many receiver you prefere\n",
    "    #     \"\"\" Here we can extract the data for the reciver later as done for the sender\"\"\"\n",
    "    html_content = f\"\"\"\n",
    "                    <!DOCTYPE html>\n",
    "                    <html lang=\"en\">\n",
    "                    <head>\n",
    "                        <meta charset=\"UTF-8\">\n",
    "                        <meta name=\"viewport\" content=\"width=device-width, initial-scale=1.0\">\n",
    "                        <title>{subject}</title>\n",
    "                        <style>\n",
    "                            body {{\n",
    "                                font-family: Arial, sans-serif;\n",
    "                                background-color: #f4f4f4;\n",
    "                                margin: 0;\n",
    "                                padding: 0;\n",
    "                            }}\n",
    "                            .email-container {{\n",
    "                                width: 600px;\n",
    "                                margin: 20px auto;\n",
    "                                background-color: #fff;\n",
    "                                border: 1px solid #ddd;\n",
    "                                border-radius: 10px;\n",
    "                                padding: 20px;\n",
    "                            }}\n",
    "                            .email-header {{\n",
    "                                background-color: {color_name};\n",
    "                                color: #fff;\n",
    "                                padding: 10px 0;\n",
    "                                text-align: center;\n",
    "                            }}\n",
    "                            .email-header img {{\n",
    "                                width: 120px;\n",
    "                                margin-bottom: 10px;\n",
    "                            }}\n",
    "                            .email-header h1 {{\n",
    "                                font-size: 24px;\n",
    "                                font-weight: bold;\n",
    "                                margin: 0;\n",
    "                            }}\n",
    "                            .email-content {{\n",
    "                                font-size: 16px;\n",
    "                                color: #333;\n",
    "                                margin-top: 20px;\n",
    "                            }}\n",
    "                            .cta-button {{\n",
    "                                display: inline-block;\n",
    "                                padding: 10px 20px;\n",
    "                                background-color: {color_name};\n",
    "                                color: white;\n",
    "                                text-align: center;\n",
    "                                font-weight: bold;\n",
    "                                border-radius: 5px;\n",
    "                                text-decoration: none;\n",
    "                                margin-top: 20px;\n",
    "                            }}\n",
    "                            .cta-button:hover {{\n",
    "                                background-color: {color_name};\n",
    "                            }}\n",
    "                            .email-footer {{\n",
    "                                font-size: 14px;\n",
    "                                color: #777;\n",
    "                                text-align: center;\n",
    "                                margin-top: 20px;\n",
    "                                border-top: 1px solid #ddd;\n",
    "                                padding-top: 20px;\n",
    "                            }}\n",
    "                            .email-footer a {{\n",
    "                                color: {color_name};\n",
    "                                text-decoration: none;\n",
    "                            }}\n",
    "                            .social-icons {{\n",
    "                                margin-top: 10px;\n",
    "                                text-align: center;\n",
    "                            }}\n",
    "                            .social-icons a {{\n",
    "                                margin: 0 10px;\n",
    "                                display: inline-block;\n",
    "                            }}\n",
    "                            .social-icons img {{\n",
    "                                width: 24px;\n",
    "                                height: 24px;\n",
    "                            }}\n",
    "                            .additional-footer {{\n",
    "                                font-size: 12px;\n",
    "                                color: #333;\n",
    "                                background-color: #d3d3d3; /* Gray background color */\n",
    "                                text-align: center;\n",
    "                                padding: 10px;\n",
    "                                border-top: 1px solid #ccc;\n",
    "                                border-radius: 0 0 10px 10px;\n",
    "                                margin-top: 10px;\n",
    "                            }}\n",
    "                        </style>\n",
    "                    </head>\n",
    "                    <body>\n",
    "                        <div class=\"email-container\">\n",
    "                            <div class=\"email-header\">\n",
    "                                <img src=\"{logo}\" alt=\"{provider} Logo\">    \n",
    "                                <h1>{subject}</h1>\n",
    "                            </div>\n",
    "\n",
    "                            <div class=\"email-content\">\n",
    "                                <h2>{receiver_name}</h2>\n",
    "                                <p>{email_body}</p>  <!-- Use the dynamically generated email body here -->\n",
    "                                <a href=\"{fake_link}\" class=\"cta-button\">{cta}</a>\n",
    "                                \n",
    "                                <!-- Signature Directly Integrated -->\n",
    "                                <p style=\"margin-top: 20px;\">Best regards,</p>\n",
    "                                <p style=\"margin: 5px 0;\"><strong>{sender_name}</strong></p>\n",
    "                                <p style=\"margin: 5px 0;\">{sender_role}</p>\n",
    "                                <p style=\"margin: 5px 0;\">{company_name}</p>\n",
    "                            </div>\n",
    "\n",
    "                            <div class=\"email-footer\">\n",
    "                                <p><strong>{sender_role}</strong></p>\n",
    "                                <p>Email: support@{provider.lower().replace(' ', '')}.be | Phone: +32 475 15 60 30</p>\n",
    "                                <p>Visit our website: <a href=\"{fake_link}\">www.{provider.lower().replace(' ', '')}.com</a></p>\n",
    "\n",
    "                                <div class=\"social-icons\">\n",
    "                                    <a href={fake_link}>\n",
    "                                        <img src=\"https://upload.wikimedia.org/wikipedia/commons/5/51/Facebook_f_logo_%282019%29.svg\" alt=\"Facebook\">\n",
    "                                    </a>\n",
    "                                    <a href={fake_link}>\n",
    "                                        <img src=\"https://www.svgrepo.com/show/452123/twitter.svg\" alt=\"Twitter\">\n",
    "                                    </a>\n",
    "                                    <a href={fake_link}>\n",
    "                                        <img src=\"https://upload.wikimedia.org/wikipedia/commons/e/e9/Linkedin_icon.svg\" alt=\"LinkedIn\">\n",
    "                                    </a>\n",
    "                                </div>\n",
    "                            </div>\n",
    "\n",
    "                            <div class=\"additional-footer\">\n",
    "                                <p>Please be aware that this email and its links include data about your individual profile. \n",
    "                                In order to avoid that third parties can access your personal data, \n",
    "                                you should not forward this email and the links contained in it.</p>\n",
    "                                <p><strong>© 2025 The {provider} Belgium n.v./s.a.</strong></p>\n",
    "                                <p>{address}<br>KBO/BCE 0459.971.228 (RPR/RPM Brussel/Bruxelles)</p>\n",
    "                                <p>\n",
    "                                    <a href={fake_link}>Terms of use</a> - \n",
    "                                    <a href={fake_link}>Privacy policy</a> - \n",
    "                                    <a href={fake_link}>Contact us</a>\n",
    "                                </p>\n",
    "\n",
    "                                <!-- Container for logo and QR code -->\n",
    "                                <div class=\"unsubscribe-container\" style=\"text-align: center; margin-top: 20px; font-size: 12px; color: #555;\">\n",
    "                                    <p>If you no longer wish to receive notifications, you can \n",
    "                                        <a href=\"{fake_link}\" style=\"color: #007BFF; text-decoration: none;\">unsubscribe here</a>.\n",
    "                                    </p>\n",
    "                                </div>\n",
    "                            </div>\n",
    "                        </div>\n",
    "                    </body>\n",
    "\n",
    "                    \"\"\"\n",
    "\n",
    "    # Save the HTML file\n",
    "    os.makedirs('samples', exist_ok=True)\n",
    "    sanitized_subject = re.sub(r'[\\/:*?\"<>|]', '_', subject)\n",
    "    filename = f\"{receiver_name}_phishing_email_{sanitized_subject}.html\"\n",
    "    file_path = os.path.join('samples', filename)\n",
    "\n",
    "    # Save the HTML file\n",
    "    with open(file_path, \"w\", encoding=\"utf-8\") as file:\n",
    "        file.write(html_content)"
   ]
  },
  {
   "cell_type": "markdown",
   "metadata": {},
   "source": []
  },
  {
   "cell_type": "markdown",
   "metadata": {},
   "source": [
    "**4. SENDING MAILS TO GOPHISH**"
   ]
  },
  {
   "cell_type": "markdown",
   "metadata": {},
   "source": []
  }
 ],
 "metadata": {
  "kernelspec": {
   "display_name": "prox_Moustafa",
   "language": "python",
   "name": "python3"
  },
  "language_info": {
   "codemirror_mode": {
    "name": "ipython",
    "version": 3
   },
   "file_extension": ".py",
   "mimetype": "text/x-python",
   "name": "python",
   "nbconvert_exporter": "python",
   "pygments_lexer": "ipython3",
   "version": "3.12.4"
  }
 },
 "nbformat": 4,
 "nbformat_minor": 2
}
