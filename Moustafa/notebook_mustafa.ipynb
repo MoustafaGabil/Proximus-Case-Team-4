{
 "cells": [
  {
   "cell_type": "code",
   "execution_count": 72,
   "metadata": {},
   "outputs": [],
   "source": [
    "import google.generativeai as genai\n",
    "from dotenv import load_dotenv\n",
    "import os\n",
    "import random\n",
    "\n",
    "load_dotenv()\n",
    "gemini_api_key = os.getenv(\"GEMINI_API_KEY\")\n",
    "genai.configure(api_key=gemini_api_key)\n",
    "def get_gemini_completion(prompt, temperature=0.7, top_p=0.95, max_output_tokens=256):\n",
    "    model = genai.GenerativeModel('gemini-1.5-flash')\n",
    "    generation_config = genai.types.GenerationConfig(\n",
    "        temperature=temperature,\n",
    "        top_p=top_p,\n",
    "        max_output_tokens=max_output_tokens,\n",
    "    )\n",
    "    response = model.generate_content(prompt, generation_config=generation_config)\n",
    "    \n",
    "    return response.text"
   ]
  },
  {
   "cell_type": "code",
   "execution_count": 73,
   "metadata": {},
   "outputs": [],
   "source": [
    "# Employee information\n",
    "name = \"John\"\n",
    "surname = \"Doe\"\n",
    "email = \"john.doe@example.com\"\n",
    "business_unit = \"Sales\"\n",
    "team_name = \"B2B Sales\"\n",
    "\n",
    "# Phishing simulation examples\n",
    "phishing_examples = [\n",
    "    {\n",
    "        \"Reason\": \"Pending payment for domain renewal\",\n",
    "        \"Fake Link\": \"https://example.com/pay-invoice\",\n",
    "        \"Service\": \"Domain name renewal for JDoeCorp.com\",\n",
    "        \"Amount\": \"13.49 EUR\",\n",
    "        \"Created By\": \"Combell Support\",\n",
    "        \"Contact Email\": \"support@combellservices.com\",\n",
    "        \"Phone\": \"Tel. +32 (0)9 218 70 79\"\n",
    "    },\n",
    "    {\n",
    "        \"Reason\": \"Urgent password reset required\",\n",
    "        \"Fake Link\": \"https://example.com/reset-password\",\n",
    "        \"Service\": \"Account security update\",\n",
    "        \"Amount\": \"-\",\n",
    "        \"Created By\": \"IT Security Team\",\n",
    "        \"Contact Email\": \"security@itservices.com\",\n",
    "        \"Phone\": \"Tel. +32 (0)9 555 12 34\"\n",
    "    }\n",
    "]"
   ]
  },
  {
   "cell_type": "code",
   "execution_count": 74,
   "metadata": {},
   "outputs": [
    {
     "name": "stdout",
     "output_type": "stream",
     "text": [
      "Subject: Gentle Reminder: Payment for JDoeCorp.com Domain Renewal\n",
      "\n",
      "Hi John,\n",
      "\n",
      "Hope you're having a productive week!\n",
      "\n",
      "This is a friendly reminder about the outstanding payment for the renewal of your domain name, JDoeCorp.com.  The renewal cost is 13.49 EUR.\n",
      "\n",
      "We noticed the payment is currently pending, and to avoid any interruption of service, we kindly ask you to settle this invoice as soon as possible.  The deadline for payment is [Insert Deadline Date Here -  e.g., October 27th, 2023].\n",
      "\n",
      "You can easily make the payment by clicking on the link below:\n",
      "\n",
      "[https://example.com/pay-invoice]\n",
      "\n",
      "If you've already processed the payment, please disregard this email.  If you have any questions or require assistance with the payment, please don't hesitate to contact us.\n",
      "\n",
      "Thanks for your prompt attention to this matter.\n",
      "\n",
      "\n",
      "Best regards,\n",
      "\n",
      "The Combell Support Team\n",
      "\n",
      "\n",
      "DC Belgium\n",
      "support@combellservices.com\n",
      "Tel. +32 (0)9 218 70 79\n",
      "https://example.com/pay-invoice\n",
      "\n"
     ]
    }
   ],
   "source": [
    "# Randomly select a phishing scenario\n",
    "random_pick = random.choice(phishing_examples)\n",
    "\n",
    "# Prompt for generating the email\n",
    "prompt = f\"\"\"\n",
    "Write a professional email from {random_pick['Created By']} to {name} {surname} from the {team_name} team on the following theme: {random_pick['Reason']}. \n",
    "Make it look like a real notice about {random_pick['Service']} with a payment reminder of {random_pick['Amount']}.\n",
    "The recipient will have to click on this link: [{random_pick['Fake Link']}]. Only write the body of this email, ensuring it looks like a human wrote it.\n",
    "The sender details should include:\n",
    "- Company: DC Belgium\n",
    "- Email: {random_pick['Contact Email']}\n",
    "- Phone: {random_pick['Phone']}\n",
    "- Website: {random_pick['Fake Link']} as a signature.\n",
    "\"\"\"\n",
    "\n",
    "response = get_gemini_completion(prompt)\n",
    "print(response)"
   ]
  }
 ],
 "metadata": {
  "kernelspec": {
   "display_name": "prox_Moustafa",
   "language": "python",
   "name": "python3"
  },
  "language_info": {
   "codemirror_mode": {
    "name": "ipython",
    "version": 3
   },
   "file_extension": ".py",
   "mimetype": "text/x-python",
   "name": "python",
   "nbconvert_exporter": "python",
   "pygments_lexer": "ipython3",
   "version": "3.12.4"
  }
 },
 "nbformat": 4,
 "nbformat_minor": 2
}
