{
 "cells": [
  {
   "cell_type": "code",
   "execution_count": 212,
   "metadata": {},
   "outputs": [
    {
     "name": "stdout",
     "output_type": "stream",
     "text": [
      "I am a large language model, trained by Google.\n",
      "\n"
     ]
    }
   ],
   "source": [
    "from google import genai\n",
    "from dotenv import load_dotenv\n",
    "import os\n",
    "from google.genai.types import GenerateContentConfig, Tool\n",
    "import json\n",
    "import re\n",
    "import random as rd\n",
    "\n",
    "# Load environment variables from the .env file\n",
    "load_dotenv()\n",
    "\n",
    "# Retrieve the API key from the .env file\n",
    "api_key = os.getenv('GEMINI_API_KEY')\n",
    "\n",
    "# Initialize the Google AI client\n",
    "client = genai.Client(api_key=api_key)\n",
    "\n",
    "# Generate content\n",
    "response = client.models.generate_content(\n",
    "    model='gemini-2.0-flash-exp', contents='What is your name?'\n",
    ")\n",
    "print(response.text)\n",
    "\n",
    "\n"
   ]
  },
  {
   "cell_type": "markdown",
   "metadata": {},
   "source": [
    "*Function to extract Json of LLm output and save it to a file*"
   ]
  },
  {
   "cell_type": "code",
   "execution_count": 213,
   "metadata": {},
   "outputs": [],
   "source": [
    "def save_json_from_string(input_string, output_filename):\n",
    "    \"\"\"\n",
    "    Extracts JSON content from a string and saves it to a JSON file with the specified name.\n",
    "\n",
    "    :param input_string: The input string containing JSON data within brackets.\n",
    "    :param output_filename: The name of the output JSON file (e.g., \"data.json\").\n",
    "    :return: True if the operation was successful, False otherwise.\n",
    "    \"\"\"\n",
    "    # Step 1: Extract the JSON content within the brackets\n",
    "    result = re.search(r'\\[.*\\]', input_string, re.DOTALL)\n",
    "\n",
    "    if result:\n",
    "        extracted_content = result.group(0)  # Get the matched content\n",
    "\n",
    "        try:\n",
    "            # Step 2: Parse the extracted content into a Python object (list/dict)\n",
    "            json_data = json.loads(extracted_content)\n",
    "\n",
    "            # Step 3: Write the JSON data to a file\n",
    "            with open(output_filename, \"w\", encoding=\"utf-8\") as json_file:\n",
    "                json.dump(json_data, json_file, indent=4)  # Save with pretty formatting\n",
    "\n",
    "            print(f\"JSON data has been successfully written to '{output_filename}'.\")\n",
    "            return True  # Operation was successful\n",
    "        except json.JSONDecodeError as e:\n",
    "            print(f\"Error parsing JSON: {e}\")\n",
    "        except Exception as e:\n",
    "            print(f\"An error occurred while writing the file: {e}\")\n",
    "    else:\n",
    "        print(\"No content found within brackets.\")\n",
    "\n",
    "    return False  # Operation failed"
   ]
  },
  {
   "cell_type": "code",
   "execution_count": 214,
   "metadata": {},
   "outputs": [],
   "source": [
    "MODEL = \"gemini-2.0-flash-exp\""
   ]
  },
  {
   "cell_type": "code",
   "execution_count": 215,
   "metadata": {},
   "outputs": [],
   "source": [
    "\n",
    "COMPANY = 'Proximus'"
   ]
  },
  {
   "cell_type": "code",
   "execution_count": 216,
   "metadata": {},
   "outputs": [],
   "source": [
    "safety_settings = [\n",
    "    {\"category\": \"HARM_CATEGORY_HARASSMENT\", \"threshold\": \"BLOCK_NONE\"},\n",
    "    {\"category\": \"HARM_CATEGORY_HATE_SPEECH\", \"threshold\": \"BLOCK_NONE\"},\n",
    "    {\"category\": \"HARM_CATEGORY_SEXUALLY_EXPLICIT\", \"threshold\": \"BLOCK_NONE\"},\n",
    "    {\"category\": \"HARM_CATEGORY_DANGEROUS_CONTENT\", \"threshold\": \"BLOCK_NONE\"},\n",
    "]"
   ]
  },
  {
   "cell_type": "markdown",
   "metadata": {},
   "source": [
    "**1. SETTING UP A RESEARCH ASSISTANT** (temperature = 0, tools = google search)"
   ]
  },
  {
   "cell_type": "code",
   "execution_count": 217,
   "metadata": {},
   "outputs": [],
   "source": [
    "system_instruction = \"\"\"You are an analyst that conducts company research.\n",
    "You are given a company name, and you will work on a company report. You have access\n",
    "to Google Search to look up company news, updates, metrics, public records and linkedin pages to write research reports.\n",
    "\n",
    "When given a company name, identify key aspects to research, look up that information\n",
    "and then write an elaborate company report. \n",
    "\n",
    "Thoroughly plan your work in detail and steps, but avoid discussing it. Do not add any additional comments after finishing the report.\"\"\""
   ]
  },
  {
   "cell_type": "code",
   "execution_count": 218,
   "metadata": {},
   "outputs": [],
   "source": [
    "config = GenerateContentConfig(system_instruction=system_instruction, tools=[Tool(google_search={})], temperature=0,maxOutputTokens=8000, top_p=0.9, top_k=5, safety_settings=safety_settings)"
   ]
  },
  {
   "cell_type": "markdown",
   "metadata": {},
   "source": [
    "**Proximus News report**"
   ]
  },
  {
   "cell_type": "code",
   "execution_count": 219,
   "metadata": {},
   "outputs": [],
   "source": [
    "contents = f\"\"\"\n",
    "Write a report about {COMPANY}.\n",
    "\n",
    "The report should contain an extensive overview of the most important news facts of the last 2 weeks. \n",
    "\n",
    "The report should be written in this style example:\n",
    "\n",
    "Use this JSON schema:\n",
    "\n",
    "Proximus_news = {{'subject':str, 'overview':str, 'source':str}}\n",
    "Return: list[Proximus_news]\n",
    "\"\"\"\n",
    "\n",
    "response = client.models.generate_content(\n",
    "    model=MODEL, config=config, contents=contents)\n",
    "\n"
   ]
  },
  {
   "cell_type": "code",
   "execution_count": 220,
   "metadata": {},
   "outputs": [
    {
     "name": "stdout",
     "output_type": "stream",
     "text": [
      "JSON data has been successfully written to 'proximus_news.json'.\n"
     ]
    },
    {
     "data": {
      "text/plain": [
       "True"
      ]
     },
     "execution_count": 220,
     "metadata": {},
     "output_type": "execute_result"
    }
   ],
   "source": [
    "save_json_from_string(response.text, 'proximus_news.json')"
   ]
  },
  {
   "cell_type": "markdown",
   "metadata": {},
   "source": [
    "**Proximus Key Employees and Roles**"
   ]
  },
  {
   "cell_type": "code",
   "execution_count": 221,
   "metadata": {},
   "outputs": [],
   "source": [
    "contents = f\"\"\"\n",
    "Write a report about {COMPANY}\n",
    "\n",
    "The report should only contain a comprehensive summary of the employees in the company. \n",
    "\n",
    "The report should contain, the complete first name and family name, an email address with this structure \"first name.family name@{COMPANY}.be\" (put it all in lower case), the role that they have within the company and the department that they make part of.\n",
    "\n",
    "Do not include abbreviations in names, and exclude employees whose full first and last names cannot be found.\n",
    "\n",
    "Give me as much grounded names that you can find with your research and put them all in the report.\n",
    "\n",
    "The report should be written in this style example:\n",
    "\n",
    "Use this JSON schema:\n",
    "\n",
    "Proximus_employees = {{'first_name':str, 'family_name':str, 'role':str, 'department':str, 'email_address':str}}\n",
    "Return: list[Proximus_employees]\n",
    "\"\"\"\n",
    "\n",
    "response = client.models.generate_content(\n",
    "    model=MODEL, config=config, contents=contents)\n"
   ]
  },
  {
   "cell_type": "code",
   "execution_count": 222,
   "metadata": {},
   "outputs": [
    {
     "name": "stdout",
     "output_type": "stream",
     "text": [
      "JSON data has been successfully written to 'proximus_employees.json'.\n"
     ]
    },
    {
     "data": {
      "text/plain": [
       "True"
      ]
     },
     "execution_count": 222,
     "metadata": {},
     "output_type": "execute_result"
    }
   ],
   "source": [
    "save_json_from_string(response.text, 'proximus_employees.json')"
   ]
  },
  {
   "cell_type": "markdown",
   "metadata": {},
   "source": [
    "**Proximus Departments**"
   ]
  },
  {
   "cell_type": "code",
   "execution_count": 223,
   "metadata": {},
   "outputs": [],
   "source": [
    "contents = f\"\"\"\n",
    "\n",
    "Write a report about {COMPANY}\n",
    "\n",
    "The report should exclusively provide a detailed summary of the company's departments and their respective subdivisions, if any.\n",
    "\n",
    "Include in the report the full address where the headquarter of the provider is located, the main phone number and vat number.\n",
    "\n",
    "Do not include abbreviations in the report.\n",
    "\n",
    "Provide a detailed list, specifying only verified and public information. Do not include speculative or incomplete details.\n",
    "\n",
    "The report should be written in this style example:\n",
    "\n",
    "Use this JSON schema:\n",
    "\n",
    "Proximus_departments = {{'department':str, 'subdivision':list[str], 'address':str, 'phone':str, 'vat':str}}\n",
    "Return: list[Proximus_departments]\n",
    "\"\"\"\n",
    "\n",
    "response = client.models.generate_content(\n",
    "    model=MODEL, config=config, contents=contents)\n"
   ]
  },
  {
   "cell_type": "code",
   "execution_count": 224,
   "metadata": {},
   "outputs": [
    {
     "name": "stdout",
     "output_type": "stream",
     "text": [
      "JSON data has been successfully written to 'proximus_departments.json'.\n"
     ]
    },
    {
     "data": {
      "text/plain": [
       "True"
      ]
     },
     "execution_count": 224,
     "metadata": {},
     "output_type": "execute_result"
    }
   ],
   "source": [
    "save_json_from_string(response.text, 'proximus_departments.json')"
   ]
  },
  {
   "cell_type": "markdown",
   "metadata": {},
   "source": [
    "**Proximus Colors**"
   ]
  },
  {
   "cell_type": "code",
   "execution_count": 225,
   "metadata": {},
   "outputs": [],
   "source": [
    "contents = f\"\"\"\n",
    "\n",
    "Write a report about {COMPANY}\n",
    "\n",
    "The report should exclusively provide the main colors of Company's branding, including any official color codes such as HEX or RGB. Focus on the primary colors used in the company's logo and website.\n",
    "\n",
    "Do not include speculative colors and focus only on the main ones.\n",
    "\n",
    "The report should be written in this style example:\n",
    "\n",
    "Use this JSON schema:\n",
    "\n",
    "company_colors = {{'color_name_1':str, 'hex_code_1':str, 'rgb_code_1':list[int]}},{{'color_name_2':str,'hex_code_2':str,'rgb_code_2':list[int]}}\n",
    "Return: list[company_colors]\n",
    "\n",
    "Thoroughly plan your work in detail and steps, but avoid discussing it. Do not add any additional comments after finishing the report.\n",
    "\"\"\"\n",
    "\n",
    "\n",
    "response = client.models.generate_content(\n",
    "    model=MODEL, config=config, contents=contents)\n",
    "\n"
   ]
  },
  {
   "cell_type": "code",
   "execution_count": 226,
   "metadata": {},
   "outputs": [
    {
     "name": "stdout",
     "output_type": "stream",
     "text": [
      "JSON data has been successfully written to 'proximus_colors.json'.\n"
     ]
    },
    {
     "data": {
      "text/plain": [
       "True"
      ]
     },
     "execution_count": 226,
     "metadata": {},
     "output_type": "execute_result"
    }
   ],
   "source": [
    "save_json_from_string(response.text, 'proximus_colors.json')"
   ]
  },
  {
   "cell_type": "markdown",
   "metadata": {},
   "source": [
    "**Proximus Service providers**"
   ]
  },
  {
   "cell_type": "markdown",
   "metadata": {},
   "source": [
    "Picking a particular type of service provider"
   ]
  },
  {
   "cell_type": "code",
   "execution_count": 227,
   "metadata": {},
   "outputs": [],
   "source": [
    "type_service = [\n",
    "    \"Infrastructure and maintenance\",\n",
    "    \"Technology and equipment supply\",\n",
    "    \"Network and connectivity services\",\n",
    "    \"Customer support\",\n",
    "    \"Billing and payments\",\n",
    "    \"Cloud and data hosting\",\n",
    "    \"Marketing and advertising\",\n",
    "    \"Consulting\",\n",
    "    \"Research and innovation\"\n",
    "]"
   ]
  },
  {
   "cell_type": "code",
   "execution_count": 228,
   "metadata": {},
   "outputs": [
    {
     "name": "stdout",
     "output_type": "stream",
     "text": [
      "Research and innovation\n"
     ]
    }
   ],
   "source": [
    "random_service=rd.choice(type_service)\n",
    "print(random_service)"
   ]
  },
  {
   "cell_type": "code",
   "execution_count": 229,
   "metadata": {},
   "outputs": [],
   "source": [
    "contents = f\"\"\"\n",
    "\n",
    "Write a report about {COMPANY}\n",
    "\n",
    "List the main Belgian service providers of the company. Include any known suppliers, contractors, technology service providers, or any other third-party companies that the company relies on. \n",
    "Provide the names of the service providers, type and description of the services they provide to the company. Also include the providers homepage in the report, if you can't find it, don not include the provider in the report. \n",
    "\n",
    "The service provider needs to be active in delivering {random_service} to {COMPANY}\n",
    "\n",
    "The report should be written in this style example:\n",
    "\n",
    "Use this JSON schema:\n",
    "\n",
    "company_service = {{\"provider\":str,\"service\":str,\"type\":str,\"provider_homepage\":str]}}\n",
    "Return: list[company_service]\n",
    "\"\"\"\n",
    "\n",
    "response = client.models.generate_content(\n",
    "    model=MODEL, config=config, contents=contents)\n",
    "\n"
   ]
  },
  {
   "cell_type": "code",
   "execution_count": 230,
   "metadata": {},
   "outputs": [
    {
     "name": "stdout",
     "output_type": "stream",
     "text": [
      "JSON data has been successfully written to 'proximus_providers.json'.\n"
     ]
    },
    {
     "data": {
      "text/plain": [
       "True"
      ]
     },
     "execution_count": 230,
     "metadata": {},
     "output_type": "execute_result"
    }
   ],
   "source": [
    "save_json_from_string(response.text, 'proximus_providers.json')"
   ]
  },
  {
   "cell_type": "markdown",
   "metadata": {},
   "source": [
    "**Merge the proximus data**"
   ]
  },
  {
   "cell_type": "code",
   "execution_count": 231,
   "metadata": {},
   "outputs": [
    {
     "name": "stdout",
     "output_type": "stream",
     "text": [
      "Data successfully merged into blended_data_proximus.json\n"
     ]
    }
   ],
   "source": [
    "\n",
    "# File paths for input and output\n",
    "input_files = {\n",
    "    \"colors\": \"proximus_colors.json\",\n",
    "    \"departments\": \"proximus_departments.json\",\n",
    "    \"employees\": \"proximus_employees.json\",\n",
    "    \"news\": \"proximus_news.json\",\n",
    "    \"providers\": \"proximus_providers.json\"\n",
    "}\n",
    "output_file = \"blended_data_proximus.json\"\n",
    "\n",
    "# Combine all data into one dictionary\n",
    "blended_data = {}\n",
    "\n",
    "for key, file_path in input_files.items():\n",
    "    with open(file_path, 'r') as f:\n",
    "        blended_data[key] = json.load(f)\n",
    "\n",
    "# Write the combined data to a new JSON file\n",
    "with open(output_file, 'w') as f:\n",
    "    json.dump(blended_data, f, indent=4)\n",
    "\n",
    "print(f\"Data successfully merged into {output_file}\")"
   ]
  },
  {
   "cell_type": "markdown",
   "metadata": {},
   "source": [
    "**Providers info** (Proceed with one Provider)"
   ]
  },
  {
   "cell_type": "code",
   "execution_count": 232,
   "metadata": {},
   "outputs": [],
   "source": [
    "# Load JSON data from the file\n",
    "with open(\"proximus_providers.json\", \"r\") as file:\n",
    "    providers = json.load(file)"
   ]
  },
  {
   "cell_type": "code",
   "execution_count": 233,
   "metadata": {},
   "outputs": [],
   "source": [
    "# Function to pick a random provider\n",
    "def pick_random_provider(providers):\n",
    "    if not providers:\n",
    "        return None  # Handle the case where the list is empty\n",
    "    return rd.choice(providers)"
   ]
  },
  {
   "cell_type": "code",
   "execution_count": 234,
   "metadata": {},
   "outputs": [
    {
     "name": "stdout",
     "output_type": "stream",
     "text": [
      "{'provider': 'Tech Mahindra', 'service': \"Building a new innovative platform, the 'Tech Hub', to blend software assets in new value propositions for customers\", 'type': 'Technology', 'provider_homepage': 'techmahindra.com'}\n"
     ]
    }
   ],
   "source": [
    "provider = pick_random_provider(providers)\n",
    "\n",
    "print(provider)"
   ]
  },
  {
   "cell_type": "code",
   "execution_count": 235,
   "metadata": {},
   "outputs": [
    {
     "name": "stdout",
     "output_type": "stream",
     "text": [
      "Data saved to provider_general_data.json\n"
     ]
    }
   ],
   "source": [
    "provider = [provider]\n",
    "file_path = 'provider_general_data.json'\n",
    "\n",
    "# Write the data to the JSON file\n",
    "with open(file_path, 'w') as json_file:\n",
    "    json.dump(provider, json_file, indent=4)\n",
    "\n",
    "print(f'Data saved to {file_path}')"
   ]
  },
  {
   "cell_type": "markdown",
   "metadata": {},
   "source": [
    "**Provider Key Employees and Roles**"
   ]
  },
  {
   "cell_type": "code",
   "execution_count": 236,
   "metadata": {},
   "outputs": [],
   "source": [
    "contents = f\"\"\"\n",
    "    Write a report about company {provider}. This company is a provider of {COMPANY}\n",
    "\n",
    "    The report should only contain a comprehensive summary of the employees in the company.\n",
    "\n",
    "    The report should contain, the complete first name and family name, an email address with this structure \"first name.family name@{provider}.be\" (put it all in lower case), the role that they have within the company and the department that they make part of.\n",
    "\n",
    "    Do not include abbreviations in names, and exclude employees whose full first and last names cannot be found. Make sure the first and the last name contains more then 2 characters. Do not include employees of {COMPANY} in the report.\n",
    "\n",
    "    Give me as much grounded names that you can find with your research and put them all in the report.\n",
    "\n",
    "    The report should be written in this style example:\n",
    "\n",
    "    Use this JSON schema:\n",
    "\n",
    "    Employees = {{'provider': str, 'first_name': str, 'family_name': str, 'role': str, 'department': str, 'email_address':str}}\n",
    "    Return: list[Employees]\n",
    "    \"\"\"\n",
    "    \n",
    "response = client.models.generate_content(\n",
    "    model=MODEL, config=config, contents=contents)\n",
    "\n",
    "\n",
    "    "
   ]
  },
  {
   "cell_type": "code",
   "execution_count": 237,
   "metadata": {},
   "outputs": [
    {
     "name": "stdout",
     "output_type": "stream",
     "text": [
      "JSON data has been successfully written to 'provider_employees.json'.\n"
     ]
    },
    {
     "data": {
      "text/plain": [
       "True"
      ]
     },
     "execution_count": 237,
     "metadata": {},
     "output_type": "execute_result"
    }
   ],
   "source": [
    "save_json_from_string(response.text, 'provider_employees.json')"
   ]
  },
  {
   "cell_type": "markdown",
   "metadata": {},
   "source": [
    "**Provider Colors**"
   ]
  },
  {
   "cell_type": "code",
   "execution_count": 238,
   "metadata": {},
   "outputs": [],
   "source": [
    "\n",
    "contents = f\"\"\"\n",
    "\n",
    "    Write a report about company {provider}. This company is a provider of {COMPANY}\n",
    "\n",
    "    The report should exclusively provide the main colors of Company's branding, including any official color codes such as HEX or RGB. Focus on the primary colors used in the company's logo and website.\n",
    "\n",
    "    Do not include speculative colors and focus only on the main ones.\n",
    "\n",
    "    The report should be written in this style example:\n",
    "\n",
    "    Use this JSON schema:\n",
    "\n",
    "    company_colors = {{'provider':str,'color_name_1':str, 'hex_code_1':str, 'rgb_code_1':list[int]}},{{'color_name_2':str,'hex_code_2':str,'rgb_code_2':list[int]}}\n",
    "    Return: list[company_colors]\n",
    "\n",
    "    Thoroughly plan your work in detail and steps, but avoid discussing it. Do not add any additional comments after finishing the report.\n",
    "    \"\"\"\n",
    "\n",
    "\n",
    "response = client.models.generate_content(\n",
    "        model=MODEL, config=config, contents=contents)\n",
    "\n"
   ]
  },
  {
   "cell_type": "code",
   "execution_count": 239,
   "metadata": {},
   "outputs": [
    {
     "name": "stdout",
     "output_type": "stream",
     "text": [
      "JSON data has been successfully written to 'provider_color.json'.\n"
     ]
    },
    {
     "data": {
      "text/plain": [
       "True"
      ]
     },
     "execution_count": 239,
     "metadata": {},
     "output_type": "execute_result"
    }
   ],
   "source": [
    "save_json_from_string(response.text, 'provider_color.json')"
   ]
  },
  {
   "cell_type": "markdown",
   "metadata": {},
   "source": [
    "**Provider Departments**"
   ]
  },
  {
   "cell_type": "code",
   "execution_count": 240,
   "metadata": {},
   "outputs": [],
   "source": [
    "contents = f\"\"\"\n",
    "\n",
    "Write a report about company {provider}. This company is a provider of {COMPANY}\n",
    "\n",
    "The report should exclusively provide a detailed summary of the company's departments and their respective subdivisions, if any.\n",
    "\n",
    "Include in the report the full address where the headquarter of the provider is located, the main phone number and vat number.\n",
    "\n",
    "Do not include abbreviations in the report.\n",
    "\n",
    "Provide a detailed list, specifying only verified and public information. Do not include speculative or incomplete details.\n",
    "\n",
    "The report should be written in this style example:\n",
    "\n",
    "Use this JSON schema:\n",
    "\n",
    "Provider_departments = {{'provider':str,'department':str, 'subdivision':list[str],'address':str, 'phone':str, 'vat':str}}\n",
    "Return: list[Provider_departments]\n",
    "\"\"\"\n",
    "\n",
    "response = client.models.generate_content(\n",
    "    model=MODEL, config=config, contents=contents)\n",
    "\n"
   ]
  },
  {
   "cell_type": "code",
   "execution_count": 241,
   "metadata": {},
   "outputs": [
    {
     "name": "stdout",
     "output_type": "stream",
     "text": [
      "JSON data has been successfully written to 'provider_departments.json'.\n"
     ]
    },
    {
     "data": {
      "text/plain": [
       "True"
      ]
     },
     "execution_count": 241,
     "metadata": {},
     "output_type": "execute_result"
    }
   ],
   "source": [
    "save_json_from_string(response.text, 'provider_departments.json')"
   ]
  },
  {
   "cell_type": "markdown",
   "metadata": {},
   "source": [
    "**Blend Data from Json files Providers**"
   ]
  },
  {
   "cell_type": "code",
   "execution_count": 242,
   "metadata": {},
   "outputs": [
    {
     "name": "stdout",
     "output_type": "stream",
     "text": [
      "Current working directory: c:\\Users\\mgabi\\Desktop\\becode\\becode_projects\\Proximus-Case-Team-4\\Moustafa\n",
      "Data loaded from provider_general_data.json (Type: <class 'list'>): [{'provider': 'Tech Mahindra', 'service': \"Building a new innovative platform, the 'Tech Hub', to blend software assets in new value propositions for customers\", 'type': 'Technology', 'provider_homepage': 'techmahindra.com'}]\n",
      "Data loaded from provider_employees.json (Type: <class 'list'>): [{'provider': 'Tech Mahindra', 'first_name': 'C', 'family_name': 'Gurnani', 'role': 'CEO / President', 'department': 'Executive', 'email_address': 'c.gurnani@techmahindra.be'}, {'provider': 'Tech Mahindra', 'first_name': 'Hetzel', 'family_name': 'Folden', 'role': 'SR VP', 'department': 'Executive', 'email_address': 'hetzel.folden@techmahindra.be'}, {'provider': 'Tech Mahindra', 'first_name': 'Keshab', 'family_name': 'Panda', 'role': 'Sr. Vice President', 'department': 'Executive', 'email_address': 'keshab.panda@techmahindra.be'}, {'provider': 'Tech Mahindra', 'first_name': 'Anil', 'family_name': 'Kumar', 'role': 'SVP', 'department': 'Executive', 'email_address': 'anil.kumar@techmahindra.be'}, {'provider': 'Tech Mahindra', 'first_name': 'Eddie', 'family_name': 'Woods', 'role': 'Vice President', 'department': 'Executive', 'email_address': 'eddie.woods@techmahindra.be'}, {'provider': 'Tech Mahindra', 'first_name': 'Pat', 'family_name': 'Sullivan', 'role': 'Vice President', 'department': 'Executive', 'email_address': 'pat.sullivan@techmahindra.be'}, {'provider': 'Tech Mahindra', 'first_name': 'Aman', 'family_name': 'Sethi', 'role': 'Vice President - Public Sector', 'department': 'Executive', 'email_address': 'aman.sethi@techmahindra.be'}, {'provider': 'Tech Mahindra', 'first_name': 'Jayant', 'family_name': 'Mehta', 'role': 'Vice President & Business Head-Healthcare', 'department': 'Executive', 'email_address': 'jayant.mehta@techmahindra.be'}, {'provider': 'Tech Mahindra', 'first_name': 'Sandeep', 'family_name': 'Khajuria', 'role': 'Vice President, Transportation and Logistics Business', 'department': 'Executive', 'email_address': 'sandeep.khajuria@techmahindra.be'}, {'provider': 'Tech Mahindra', 'first_name': 'Pavan', 'family_name': 'Maddali', 'role': 'Senior Vice President', 'department': 'Executive', 'email_address': 'pavan.maddali@techmahindra.be'}, {'provider': 'Tech Mahindra', 'first_name': 'Mathew', 'family_name': 'Daniel', 'role': 'Senior Vice President', 'department': 'Executive', 'email_address': 'mathew.daniel@techmahindra.be'}, {'provider': 'Tech Mahindra', 'first_name': 'Hari', 'family_name': 'Natarajan', 'role': 'Senior Vice President', 'department': 'Executive', 'email_address': 'hari.natarajan@techmahindra.be'}, {'provider': 'Tech Mahindra', 'first_name': 'Manoj', 'family_name': 'Gupta', 'role': 'Senior Vice President', 'department': 'Executive', 'email_address': 'manoj.gupta@techmahindra.be'}, {'provider': 'Tech Mahindra', 'first_name': 'Raj', 'family_name': 'Lakkamraju', 'role': 'Senior Vice President and Head of Semiconductor Business Group', 'department': 'Executive', 'email_address': 'raj.lakkamraju@techmahindra.be'}, {'provider': 'Tech Mahindra', 'first_name': 'Ken', 'family_name': 'Taormina', 'role': 'Senior Vice President Global Manufacturing', 'department': 'Executive', 'email_address': 'ken.taormina@techmahindra.be'}, {'provider': 'Tech Mahindra', 'first_name': 'Dan', 'family_name': 'Krause', 'role': 'Healthcare Provider Business Development Head', 'department': 'Executive', 'email_address': 'dan.krause@techmahindra.be'}, {'provider': 'Tech Mahindra', 'first_name': 'Venkataraman', 'family_name': 'Lakshminarayanan', 'role': 'Executive Relationships', 'department': 'Executive', 'email_address': 'venkataraman.lakshminarayanan@techmahindra.be'}, {'provider': 'Tech Mahindra', 'first_name': 'Krishna', 'family_name': 'Kumaraswamy', 'role': 'SVP & Head - Global Delivery & Transformation', 'department': 'Executive', 'email_address': 'krishna.kumaraswamy@techmahindra.be'}, {'provider': 'Tech Mahindra', 'first_name': 'Lokesh', 'family_name': 'Gupta', 'role': 'AVP (Global Leadership Cadre) - Sales & BD (Semiconductors)', 'department': 'Executive', 'email_address': 'lokesh.gupta@techmahindra.be'}, {'provider': 'Tech Mahindra', 'first_name': 'Rajiv', 'family_name': 'Sinha', 'role': 'AVP Telecom', 'department': 'Executive', 'email_address': 'rajiv.sinha@techmahindra.be'}, {'provider': 'Tech Mahindra', 'first_name': 'Joseph', 'family_name': 'Abraham', 'role': 'Director and Senior Vice President', 'department': 'Executive', 'email_address': 'joseph.abraham@techmahindra.be'}, {'provider': 'Tech Mahindra', 'first_name': 'Terry', 'family_name': 'Mascarenhas', 'role': 'Senior Vice President Infrastructure', 'department': 'Executive', 'email_address': 'terry.mascarenhas@techmahindra.be'}, {'provider': 'Tech Mahindra', 'first_name': 'Mukund', 'family_name': 'Shinde', 'role': 'Vice President', 'department': 'Executive', 'email_address': 'mukund.shinde@techmahindra.be'}, {'provider': 'Tech Mahindra', 'first_name': 'Salil', 'family_name': 'Saha', 'role': 'Area Vice President Business Development', 'department': 'Executive', 'email_address': 'salil.saha@techmahindra.be'}, {'provider': 'Tech Mahindra', 'first_name': 'Jagadeeswaran', 'family_name': 'Krishnan', 'role': 'AVP - Client Executive - Delivery', 'department': 'Executive', 'email_address': 'jagadeeswaran.krishnan@techmahindra.be'}, {'provider': 'Tech Mahindra', 'first_name': 'Chaitanya', 'family_name': 'Potukuchi', 'role': 'AVP - Sales, Banking & Financial Services', 'department': 'Executive', 'email_address': 'chaitanya.potukuchi@techmahindra.be'}, {'provider': 'Tech Mahindra', 'first_name': 'B', 'family_name': 'G', 'role': 'CIO - Enterprise, Mfg Systems & Corporate Functions', 'department': 'Leadership', 'email_address': 'b.g@techmahindra.be'}, {'provider': 'Tech Mahindra', 'first_name': 'P', 'family_name': 'D', 'role': 'Chief Marketing Officer', 'department': 'Leadership', 'email_address': 'p.d@techmahindra.be'}, {'provider': 'Tech Mahindra', 'first_name': 'N', 'family_name': 'M', 'role': 'Chief Innovation Officer', 'department': 'Leadership', 'email_address': 'n.m@techmahindra.be'}, {'provider': 'Tech Mahindra', 'first_name': 'S', 'family_name': 'C', 'role': 'Chief Sustainability Officer', 'department': 'Leadership', 'email_address': 's.c@techmahindra.be'}, {'provider': 'Tech Mahindra', 'first_name': 'R', 'family_name': 'R', 'role': 'Chief Growth Officer - America Strategic Verticals', 'department': 'Leadership', 'email_address': 'r.r@techmahindra.be'}, {'provider': 'Tech Mahindra', 'first_name': 'L', 'family_name': 'L', 'role': 'Chief Information Security Officer', 'department': 'Leadership', 'email_address': 'l.l@techmahindra.be'}, {'provider': 'Tech Mahindra', 'first_name': 'A', 'family_name': 'S', 'role': 'Chief Operating Officer', 'department': 'Leadership', 'email_address': 'a.s@techmahindra.be'}, {'provider': 'Tech Mahindra', 'first_name': 'M', 'family_name': 'M', 'role': 'Chief Technology Officer - Telecom Business & Global Business Head - Network Services', 'department': 'Leadership', 'email_address': 'm.m@techmahindra.be'}, {'provider': 'Tech Mahindra', 'first_name': 'Anand', 'family_name': 'Mahindra', 'role': 'Chairman', 'department': 'Leadership', 'email_address': 'anand.mahindra@techmahindra.be'}, {'provider': 'Tech Mahindra', 'first_name': 'Anish', 'family_name': 'Shah', 'role': 'Director', 'department': 'Leadership', 'email_address': 'anish.shah@techmahindra.be'}, {'provider': 'Tech Mahindra', 'first_name': 'Mohit', 'family_name': 'Joshi', 'role': 'CEO and Managing Director', 'department': 'Leadership', 'email_address': 'mohit.joshi@techmahindra.be'}, {'provider': 'Tech Mahindra', 'first_name': 'Haigreve', 'family_name': 'Khaitan', 'role': 'Independent Director', 'department': 'Leadership', 'email_address': 'haigreve.khaitan@techmahindra.be'}, {'provider': 'Tech Mahindra', 'first_name': 'Mukti', 'family_name': 'Khaire', 'role': 'Independent Director', 'department': 'Leadership', 'email_address': 'mukti.khaire@techmahindra.be'}, {'provider': 'Tech Mahindra', 'first_name': 'Shikha', 'family_name': 'Sharma', 'role': 'Independent Director', 'department': 'Leadership', 'email_address': 'shikha.sharma@techmahindra.be'}, {'provider': 'Tech Mahindra', 'first_name': 'Penelope', 'family_name': 'Fowler', 'role': 'Independent Director', 'department': 'Leadership', 'email_address': 'penelope.fowler@techmahindra.be'}, {'provider': 'Tech Mahindra', 'first_name': 'Neelam', 'family_name': 'Dhawan', 'role': 'Independent Director', 'department': 'Leadership', 'email_address': 'neelam.dhawan@techmahindra.be'}, {'provider': 'Tech Mahindra', 'first_name': 'Tarun', 'family_name': 'Bajaj', 'role': 'Independent Director', 'department': 'Leadership', 'email_address': 'tarun.bajaj@techmahindra.be'}, {'provider': 'Tech Mahindra', 'first_name': 'Puneet', 'family_name': 'Renjhen', 'role': 'Non-Executive Director', 'department': 'Leadership', 'email_address': 'puneet.renjhen@techmahindra.be'}, {'provider': 'Tech Mahindra', 'first_name': 'Atul', 'family_name': 'Soneja', 'role': 'Chief Operating Officer', 'department': 'Leadership', 'email_address': 'atul.soneja@techmahindra.be'}, {'provider': 'Tech Mahindra', 'first_name': 'Rohit', 'family_name': 'Anand', 'role': 'Chief Financial Officer', 'department': 'Leadership', 'email_address': 'rohit.anand@techmahindra.be'}, {'provider': 'Tech Mahindra', 'first_name': 'Richard', 'family_name': 'Lobo', 'role': 'Chief People Officer', 'department': 'Leadership', 'email_address': 'richard.lobo@techmahindra.be'}, {'provider': 'Tech Mahindra', 'first_name': 'Lakshmanan', 'family_name': 'Chidambaram', 'role': 'President and Head of Americas Leadership Council, Tech Mahindra Americas Head, Mahindra Group', 'department': 'Leadership', 'email_address': 'lakshmanan.chidambaram@techmahindra.be'}, {'provider': 'Tech Mahindra', 'first_name': 'Harshul', 'family_name': 'Asnani', 'role': 'President and Head - Europe Business', 'department': 'Leadership', 'email_address': 'harshul.asnani@techmahindra.be'}, {'provider': 'Tech Mahindra', 'first_name': 'Harshvendra', 'family_name': 'Soin', 'role': 'President - Asia Pacific and Japan Business', 'department': 'Leadership', 'email_address': 'harshvendra.soin@techmahindra.be'}, {'provider': 'Tech Mahindra', 'first_name': 'Abhishek', 'family_name': 'Shankar', 'role': 'President - Communications Business, Americas', 'department': 'Leadership', 'email_address': 'abhishek.shankar@techmahindra.be'}, {'provider': 'Tech Mahindra', 'first_name': 'Ram', 'family_name': 'Ramachandran', 'role': 'Sr. President', 'department': 'Leadership', 'email_address': 'ram.ramachandran@techmahindra.be'}, {'provider': 'Tech Mahindra', 'first_name': 'Sumit', 'family_name': 'Kumar Popli', 'role': 'President - Technology, Media and Entertainment (TME) Business', 'department': 'Leadership', 'email_address': 'sumit.kumarpopli@techmahindra.be'}, {'provider': 'Tech Mahindra', 'first_name': 'Kunal', 'family_name': 'Purohit', 'role': 'President – Next Gen Services', 'department': 'Leadership', 'email_address': 'kunal.purohit@techmahindra.be'}, {'provider': 'Tech Mahindra', 'first_name': 'Narasimham', 'family_name': 'RV', 'role': 'President – Engineering Services', 'department': 'Leadership', 'email_address': 'narasimham.rv@techmahindra.be'}, {'provider': 'Tech Mahindra', 'first_name': 'Birendra', 'family_name': 'Sen', 'role': 'President – Business Process Services', 'department': 'Leadership', 'email_address': 'birendra.sen@techmahindra.be'}, {'provider': 'Tech Mahindra', 'first_name': 'Rajesh', 'family_name': 'Chandiramani', 'role': 'Chief Executive Officer – Comviva', 'department': 'Leadership', 'email_address': 'rajesh.chandiramani@techmahindra.be'}, {'provider': 'Tech Mahindra', 'first_name': 'Vineet', 'family_name': 'Vij', 'role': 'General Counsel & Chief Legal Officer', 'department': 'Leadership', 'email_address': 'vineet.vij@techmahindra.be'}, {'provider': 'Tech Mahindra', 'first_name': 'Nitesh', 'family_name': 'Aggarwal', 'role': 'Chief Strategy and Risk Officer', 'department': 'Leadership', 'email_address': 'nitesh.aggarwal@techmahindra.be'}, {'provider': 'Tech Mahindra', 'first_name': 'Pallavi', 'family_name': 'Katiyar', 'role': 'Chief Information Officer (CIO)', 'department': 'Leadership', 'email_address': 'pallavi.katiyar@techmahindra.be'}, {'provider': 'Tech Mahindra', 'first_name': 'Peeyush', 'family_name': 'Dubey', 'role': 'Chief Marketing Officer', 'department': 'Leadership', 'email_address': 'peeyush.dubey@techmahindra.be'}, {'provider': 'Tech Mahindra', 'first_name': 'Sudeep', 'family_name': 'Chopra', 'role': 'Chief Internal Auditor and Corporate Ombudsman', 'department': 'Leadership', 'email_address': 'sudeep.chopra@techmahindra.be'}, {'provider': 'Tech Mahindra', 'first_name': 'Sandeep', 'family_name': 'Chandna', 'role': 'Chief Sustainability Officer', 'department': 'Leadership', 'email_address': 'sandeep.chandna@techmahindra.be'}, {'provider': 'Tech Mahindra', 'first_name': 'Amitabh', 'family_name': 'Sharma', 'role': 'Asst. VP HR', 'department': 'Human Resources', 'email_address': 'amitabh.sharma@techmahindra.be'}, {'provider': 'Tech Mahindra', 'first_name': 'Dedra', 'family_name': 'Ware', 'role': 'Executive HR', 'department': 'Human Resources', 'email_address': 'dedra.ware@techmahindra.be'}, {'provider': 'Tech Mahindra', 'first_name': 'Divya', 'family_name': 'Vijay', 'role': 'HR Recruiter', 'department': 'Human Resources', 'email_address': 'divya.vijay@techmahindra.be'}, {'provider': 'Tech Mahindra', 'first_name': 'Shrikant', 'family_name': 'Dubey', 'role': 'HUMAN RESOURCES / STAFFING', 'department': 'Human Resources', 'email_address': 'shrikant.dubey@techmahindra.be'}, {'provider': 'Tech Mahindra', 'first_name': 'Anand', 'family_name': 'Gopal', 'role': 'Human Resources Manager', 'department': 'Human Resources', 'email_address': 'anand.gopal@techmahindra.be'}]\n",
      "Data loaded from provider_color.json (Type: <class 'list'>): [{'provider': 'Tech Mahindra', 'color_name_1': 'Rising Red', 'hex_code_1': '#E31837', 'rgb_code_1': [227, 24, 55]}, {'color_name_2': 'Steel Grey', 'hex_code_2': '#4D4D4F', 'rgb_code_2': [77, 77, 79]}, {'color_name_3': 'Ink Black', 'hex_code_3': '#231F20', 'rgb_code_3': [35, 31, 32]}, {'color_name_4': 'Light Grey', 'hex_code_4': '#E6E7E8', 'rgb_code_4': [230, 231, 232]}, {'color_name_5': 'White', 'hex_code_5': '#FFFFFF', 'rgb_code_5': [255, 255, 255]}]\n",
      "Data loaded from provider_departments.json (Type: <class 'list'>): [{'provider': 'Tech Mahindra', 'department': 'Information Technology Services', 'subdivision': ['Digital Transformation', 'Consulting', 'Business Re-engineering', 'Strategy and Consulting', 'Cloud Consulting', 'Digital Supply Chain', 'Application Services', 'Intelligent Automation', 'Testing Services', 'Performance Engineering', 'Engineering Services', 'Network Services', 'Data Analytics', 'Artificial Intelligence', 'Digital Enterprise Applications Services', 'Cloud Software', 'Mobile Solutions', 'Cybersecurity', 'Cloud-based services', 'Cloud-managed services', 'Managed services', 'Modernization', 'Strategy', 'Assessment', 'Service desk support', 'Messaging', 'Collaboration', 'Hybrid workspaces', 'Unified communications', 'Connectivity', 'Network transformation', 'Vulnerability assessment', 'Threat detection', 'Incident response', 'Recovery', 'Hybrid cloud and DevOps services', 'SRE automation', 'Application Development & Maintenance Services', '5G & Network Services', 'Infrastructure & Cloud Services'], 'address': 'Plot No. 1, Phase – III, Rajiv Gandhi Infotech Park, Hinjewadi, Pune, Maharashtra, 411057, India', 'phone': '+91 20 66018100', 'vat': 'L64200MH1986PLC041370'}, {'provider': 'Tech Mahindra', 'department': 'Business Process Services', 'subdivision': ['Business Process Outsourcing', 'Customer Experience Management', 'Remote Work Management'], 'address': 'Plot No. 1, Phase – III, Rajiv Gandhi Infotech Park, Hinjewadi, Pune, Maharashtra, 411057, India', 'phone': '+91 20 66018100', 'vat': 'L64200MH1986PLC041370'}, {'provider': 'Tech Mahindra', 'department': 'Engineering Services', 'subdivision': ['Integrated Engineering Services', 'Semiconductor design', 'Embedded systems', 'Product engineering'], 'address': 'Plot No. 1, Phase – III, Rajiv Gandhi Infotech Park, Hinjewadi, Pune, Maharashtra, 411057, India', 'phone': '+91 20 66018100', 'vat': 'L64200MH1986PLC041370'}, {'provider': 'Tech Mahindra', 'department': 'Consulting and Advisory', 'subdivision': ['Management Consulting', 'Digital Strategy', 'Business Function Reimagination', 'Technology Advisory', 'Co-innovation', 'Innovation-as-a-Service', 'Product/Platform Transformation', 'Post-deal services', 'Mergers and Acquisitions automation', 'Data enrichment', 'Technology integration', 'Separation', 'AI risk analytics', 'Digital agency consulting', 'Product and experience transformation', 'Cloud transformation consulting', 'Enablement and delivery'], 'address': 'Plot No. 1, Phase – III, Rajiv Gandhi Infotech Park, Hinjewadi, Pune, Maharashtra, 411057, India', 'phone': '+91 20 66018100', 'vat': 'L64200MH1986PLC041370'}, {'provider': 'Tech Mahindra', 'department': 'Human Resources', 'subdivision': ['Human Capital Management', 'Recruitment'], 'address': 'Plot No. 1, Phase – III, Rajiv Gandhi Infotech Park, Hinjewadi, Pune, Maharashtra, 411057, India', 'phone': '+91 20 66018100', 'vat': 'L64200MH1986PLC041370'}, {'provider': 'Tech Mahindra', 'department': 'Other Services', 'subdivision': ['Legal Risk', 'Compliance', 'Technology Platforms', 'Experience Design Services', 'Supply Chain Digital Transformation', 'Architectural & Industrial Design', 'Digital value-added service (VAS)', 'Mobile network solutions'], 'address': 'Plot No. 1, Phase – III, Rajiv Gandhi Infotech Park, Hinjewadi, Pune, Maharashtra, 411057, India', 'phone': '+91 20 66018100', 'vat': 'L64200MH1986PLC041370'}, {'provider': 'Tech Mahindra', 'department': 'Geographic Business Units', 'subdivision': ['Americas (divided into three units)', 'Asia-Pacific', 'Europe', 'India'], 'address': 'Plot No. 1, Phase – III, Rajiv Gandhi Infotech Park, Hinjewadi, Pune, Maharashtra, 411057, India', 'phone': '+91 20 66018100', 'vat': 'L64200MH1986PLC041370'}]\n",
      "Blended Data: {\n",
      "    \"Tech Mahindra\": {\n",
      "        \"general\": {\n",
      "            \"provider\": \"Tech Mahindra\",\n",
      "            \"service\": \"Building a new innovative platform, the 'Tech Hub', to blend software assets in new value propositions for customers\",\n",
      "            \"type\": \"Technology\",\n",
      "            \"provider_homepage\": \"techmahindra.com\"\n",
      "        },\n",
      "        \"employee\": [\n",
      "            {\n",
      "                \"provider\": \"Tech Mahindra\",\n",
      "                \"first_name\": \"C\",\n",
      "                \"family_name\": \"Gurnani\",\n",
      "                \"role\": \"CEO / President\",\n",
      "                \"department\": \"Executive\",\n",
      "                \"email_address\": \"c.gurnani@techmahindra.be\"\n",
      "            },\n",
      "            {\n",
      "                \"provider\": \"Tech Mahindra\",\n",
      "                \"first_name\": \"Hetzel\",\n",
      "                \"family_name\": \"Folden\",\n",
      "                \"role\": \"SR VP\",\n",
      "                \"department\": \"Executive\",\n",
      "                \"email_address\": \"hetzel.folden@techmahindra.be\"\n",
      "            },\n",
      "            {\n",
      "                \"provider\": \"Tech Mahindra\",\n",
      "                \"first_name\": \"Keshab\",\n",
      "                \"family_name\": \"Panda\",\n",
      "                \"role\": \"Sr. Vice President\",\n",
      "                \"department\": \"Executive\",\n",
      "                \"email_address\": \"keshab.panda@techmahindra.be\"\n",
      "            },\n",
      "            {\n",
      "                \"provider\": \"Tech Mahindra\",\n",
      "                \"first_name\": \"Anil\",\n",
      "                \"family_name\": \"Kumar\",\n",
      "                \"role\": \"SVP\",\n",
      "                \"department\": \"Executive\",\n",
      "                \"email_address\": \"anil.kumar@techmahindra.be\"\n",
      "            },\n",
      "            {\n",
      "                \"provider\": \"Tech Mahindra\",\n",
      "                \"first_name\": \"Eddie\",\n",
      "                \"family_name\": \"Woods\",\n",
      "                \"role\": \"Vice President\",\n",
      "                \"department\": \"Executive\",\n",
      "                \"email_address\": \"eddie.woods@techmahindra.be\"\n",
      "            },\n",
      "            {\n",
      "                \"provider\": \"Tech Mahindra\",\n",
      "                \"first_name\": \"Pat\",\n",
      "                \"family_name\": \"Sullivan\",\n",
      "                \"role\": \"Vice President\",\n",
      "                \"department\": \"Executive\",\n",
      "                \"email_address\": \"pat.sullivan@techmahindra.be\"\n",
      "            },\n",
      "            {\n",
      "                \"provider\": \"Tech Mahindra\",\n",
      "                \"first_name\": \"Aman\",\n",
      "                \"family_name\": \"Sethi\",\n",
      "                \"role\": \"Vice President - Public Sector\",\n",
      "                \"department\": \"Executive\",\n",
      "                \"email_address\": \"aman.sethi@techmahindra.be\"\n",
      "            },\n",
      "            {\n",
      "                \"provider\": \"Tech Mahindra\",\n",
      "                \"first_name\": \"Jayant\",\n",
      "                \"family_name\": \"Mehta\",\n",
      "                \"role\": \"Vice President & Business Head-Healthcare\",\n",
      "                \"department\": \"Executive\",\n",
      "                \"email_address\": \"jayant.mehta@techmahindra.be\"\n",
      "            },\n",
      "            {\n",
      "                \"provider\": \"Tech Mahindra\",\n",
      "                \"first_name\": \"Sandeep\",\n",
      "                \"family_name\": \"Khajuria\",\n",
      "                \"role\": \"Vice President, Transportation and Logistics Business\",\n",
      "                \"department\": \"Executive\",\n",
      "                \"email_address\": \"sandeep.khajuria@techmahindra.be\"\n",
      "            },\n",
      "            {\n",
      "                \"provider\": \"Tech Mahindra\",\n",
      "                \"first_name\": \"Pavan\",\n",
      "                \"family_name\": \"Maddali\",\n",
      "                \"role\": \"Senior Vice President\",\n",
      "                \"department\": \"Executive\",\n",
      "                \"email_address\": \"pavan.maddali@techmahindra.be\"\n",
      "            },\n",
      "            {\n",
      "                \"provider\": \"Tech Mahindra\",\n",
      "                \"first_name\": \"Mathew\",\n",
      "                \"family_name\": \"Daniel\",\n",
      "                \"role\": \"Senior Vice President\",\n",
      "                \"department\": \"Executive\",\n",
      "                \"email_address\": \"mathew.daniel@techmahindra.be\"\n",
      "            },\n",
      "            {\n",
      "                \"provider\": \"Tech Mahindra\",\n",
      "                \"first_name\": \"Hari\",\n",
      "                \"family_name\": \"Natarajan\",\n",
      "                \"role\": \"Senior Vice President\",\n",
      "                \"department\": \"Executive\",\n",
      "                \"email_address\": \"hari.natarajan@techmahindra.be\"\n",
      "            },\n",
      "            {\n",
      "                \"provider\": \"Tech Mahindra\",\n",
      "                \"first_name\": \"Manoj\",\n",
      "                \"family_name\": \"Gupta\",\n",
      "                \"role\": \"Senior Vice President\",\n",
      "                \"department\": \"Executive\",\n",
      "                \"email_address\": \"manoj.gupta@techmahindra.be\"\n",
      "            },\n",
      "            {\n",
      "                \"provider\": \"Tech Mahindra\",\n",
      "                \"first_name\": \"Raj\",\n",
      "                \"family_name\": \"Lakkamraju\",\n",
      "                \"role\": \"Senior Vice President and Head of Semiconductor Business Group\",\n",
      "                \"department\": \"Executive\",\n",
      "                \"email_address\": \"raj.lakkamraju@techmahindra.be\"\n",
      "            },\n",
      "            {\n",
      "                \"provider\": \"Tech Mahindra\",\n",
      "                \"first_name\": \"Ken\",\n",
      "                \"family_name\": \"Taormina\",\n",
      "                \"role\": \"Senior Vice President Global Manufacturing\",\n",
      "                \"department\": \"Executive\",\n",
      "                \"email_address\": \"ken.taormina@techmahindra.be\"\n",
      "            },\n",
      "            {\n",
      "                \"provider\": \"Tech Mahindra\",\n",
      "                \"first_name\": \"Dan\",\n",
      "                \"family_name\": \"Krause\",\n",
      "                \"role\": \"Healthcare Provider Business Development Head\",\n",
      "                \"department\": \"Executive\",\n",
      "                \"email_address\": \"dan.krause@techmahindra.be\"\n",
      "            },\n",
      "            {\n",
      "                \"provider\": \"Tech Mahindra\",\n",
      "                \"first_name\": \"Venkataraman\",\n",
      "                \"family_name\": \"Lakshminarayanan\",\n",
      "                \"role\": \"Executive Relationships\",\n",
      "                \"department\": \"Executive\",\n",
      "                \"email_address\": \"venkataraman.lakshminarayanan@techmahindra.be\"\n",
      "            },\n",
      "            {\n",
      "                \"provider\": \"Tech Mahindra\",\n",
      "                \"first_name\": \"Krishna\",\n",
      "                \"family_name\": \"Kumaraswamy\",\n",
      "                \"role\": \"SVP & Head - Global Delivery & Transformation\",\n",
      "                \"department\": \"Executive\",\n",
      "                \"email_address\": \"krishna.kumaraswamy@techmahindra.be\"\n",
      "            },\n",
      "            {\n",
      "                \"provider\": \"Tech Mahindra\",\n",
      "                \"first_name\": \"Lokesh\",\n",
      "                \"family_name\": \"Gupta\",\n",
      "                \"role\": \"AVP (Global Leadership Cadre) - Sales & BD (Semiconductors)\",\n",
      "                \"department\": \"Executive\",\n",
      "                \"email_address\": \"lokesh.gupta@techmahindra.be\"\n",
      "            },\n",
      "            {\n",
      "                \"provider\": \"Tech Mahindra\",\n",
      "                \"first_name\": \"Rajiv\",\n",
      "                \"family_name\": \"Sinha\",\n",
      "                \"role\": \"AVP Telecom\",\n",
      "                \"department\": \"Executive\",\n",
      "                \"email_address\": \"rajiv.sinha@techmahindra.be\"\n",
      "            },\n",
      "            {\n",
      "                \"provider\": \"Tech Mahindra\",\n",
      "                \"first_name\": \"Joseph\",\n",
      "                \"family_name\": \"Abraham\",\n",
      "                \"role\": \"Director and Senior Vice President\",\n",
      "                \"department\": \"Executive\",\n",
      "                \"email_address\": \"joseph.abraham@techmahindra.be\"\n",
      "            },\n",
      "            {\n",
      "                \"provider\": \"Tech Mahindra\",\n",
      "                \"first_name\": \"Terry\",\n",
      "                \"family_name\": \"Mascarenhas\",\n",
      "                \"role\": \"Senior Vice President Infrastructure\",\n",
      "                \"department\": \"Executive\",\n",
      "                \"email_address\": \"terry.mascarenhas@techmahindra.be\"\n",
      "            },\n",
      "            {\n",
      "                \"provider\": \"Tech Mahindra\",\n",
      "                \"first_name\": \"Mukund\",\n",
      "                \"family_name\": \"Shinde\",\n",
      "                \"role\": \"Vice President\",\n",
      "                \"department\": \"Executive\",\n",
      "                \"email_address\": \"mukund.shinde@techmahindra.be\"\n",
      "            },\n",
      "            {\n",
      "                \"provider\": \"Tech Mahindra\",\n",
      "                \"first_name\": \"Salil\",\n",
      "                \"family_name\": \"Saha\",\n",
      "                \"role\": \"Area Vice President Business Development\",\n",
      "                \"department\": \"Executive\",\n",
      "                \"email_address\": \"salil.saha@techmahindra.be\"\n",
      "            },\n",
      "            {\n",
      "                \"provider\": \"Tech Mahindra\",\n",
      "                \"first_name\": \"Jagadeeswaran\",\n",
      "                \"family_name\": \"Krishnan\",\n",
      "                \"role\": \"AVP - Client Executive - Delivery\",\n",
      "                \"department\": \"Executive\",\n",
      "                \"email_address\": \"jagadeeswaran.krishnan@techmahindra.be\"\n",
      "            },\n",
      "            {\n",
      "                \"provider\": \"Tech Mahindra\",\n",
      "                \"first_name\": \"Chaitanya\",\n",
      "                \"family_name\": \"Potukuchi\",\n",
      "                \"role\": \"AVP - Sales, Banking & Financial Services\",\n",
      "                \"department\": \"Executive\",\n",
      "                \"email_address\": \"chaitanya.potukuchi@techmahindra.be\"\n",
      "            },\n",
      "            {\n",
      "                \"provider\": \"Tech Mahindra\",\n",
      "                \"first_name\": \"B\",\n",
      "                \"family_name\": \"G\",\n",
      "                \"role\": \"CIO - Enterprise, Mfg Systems & Corporate Functions\",\n",
      "                \"department\": \"Leadership\",\n",
      "                \"email_address\": \"b.g@techmahindra.be\"\n",
      "            },\n",
      "            {\n",
      "                \"provider\": \"Tech Mahindra\",\n",
      "                \"first_name\": \"P\",\n",
      "                \"family_name\": \"D\",\n",
      "                \"role\": \"Chief Marketing Officer\",\n",
      "                \"department\": \"Leadership\",\n",
      "                \"email_address\": \"p.d@techmahindra.be\"\n",
      "            },\n",
      "            {\n",
      "                \"provider\": \"Tech Mahindra\",\n",
      "                \"first_name\": \"N\",\n",
      "                \"family_name\": \"M\",\n",
      "                \"role\": \"Chief Innovation Officer\",\n",
      "                \"department\": \"Leadership\",\n",
      "                \"email_address\": \"n.m@techmahindra.be\"\n",
      "            },\n",
      "            {\n",
      "                \"provider\": \"Tech Mahindra\",\n",
      "                \"first_name\": \"S\",\n",
      "                \"family_name\": \"C\",\n",
      "                \"role\": \"Chief Sustainability Officer\",\n",
      "                \"department\": \"Leadership\",\n",
      "                \"email_address\": \"s.c@techmahindra.be\"\n",
      "            },\n",
      "            {\n",
      "                \"provider\": \"Tech Mahindra\",\n",
      "                \"first_name\": \"R\",\n",
      "                \"family_name\": \"R\",\n",
      "                \"role\": \"Chief Growth Officer - America Strategic Verticals\",\n",
      "                \"department\": \"Leadership\",\n",
      "                \"email_address\": \"r.r@techmahindra.be\"\n",
      "            },\n",
      "            {\n",
      "                \"provider\": \"Tech Mahindra\",\n",
      "                \"first_name\": \"L\",\n",
      "                \"family_name\": \"L\",\n",
      "                \"role\": \"Chief Information Security Officer\",\n",
      "                \"department\": \"Leadership\",\n",
      "                \"email_address\": \"l.l@techmahindra.be\"\n",
      "            },\n",
      "            {\n",
      "                \"provider\": \"Tech Mahindra\",\n",
      "                \"first_name\": \"A\",\n",
      "                \"family_name\": \"S\",\n",
      "                \"role\": \"Chief Operating Officer\",\n",
      "                \"department\": \"Leadership\",\n",
      "                \"email_address\": \"a.s@techmahindra.be\"\n",
      "            },\n",
      "            {\n",
      "                \"provider\": \"Tech Mahindra\",\n",
      "                \"first_name\": \"M\",\n",
      "                \"family_name\": \"M\",\n",
      "                \"role\": \"Chief Technology Officer - Telecom Business & Global Business Head - Network Services\",\n",
      "                \"department\": \"Leadership\",\n",
      "                \"email_address\": \"m.m@techmahindra.be\"\n",
      "            },\n",
      "            {\n",
      "                \"provider\": \"Tech Mahindra\",\n",
      "                \"first_name\": \"Anand\",\n",
      "                \"family_name\": \"Mahindra\",\n",
      "                \"role\": \"Chairman\",\n",
      "                \"department\": \"Leadership\",\n",
      "                \"email_address\": \"anand.mahindra@techmahindra.be\"\n",
      "            },\n",
      "            {\n",
      "                \"provider\": \"Tech Mahindra\",\n",
      "                \"first_name\": \"Anish\",\n",
      "                \"family_name\": \"Shah\",\n",
      "                \"role\": \"Director\",\n",
      "                \"department\": \"Leadership\",\n",
      "                \"email_address\": \"anish.shah@techmahindra.be\"\n",
      "            },\n",
      "            {\n",
      "                \"provider\": \"Tech Mahindra\",\n",
      "                \"first_name\": \"Mohit\",\n",
      "                \"family_name\": \"Joshi\",\n",
      "                \"role\": \"CEO and Managing Director\",\n",
      "                \"department\": \"Leadership\",\n",
      "                \"email_address\": \"mohit.joshi@techmahindra.be\"\n",
      "            },\n",
      "            {\n",
      "                \"provider\": \"Tech Mahindra\",\n",
      "                \"first_name\": \"Haigreve\",\n",
      "                \"family_name\": \"Khaitan\",\n",
      "                \"role\": \"Independent Director\",\n",
      "                \"department\": \"Leadership\",\n",
      "                \"email_address\": \"haigreve.khaitan@techmahindra.be\"\n",
      "            },\n",
      "            {\n",
      "                \"provider\": \"Tech Mahindra\",\n",
      "                \"first_name\": \"Mukti\",\n",
      "                \"family_name\": \"Khaire\",\n",
      "                \"role\": \"Independent Director\",\n",
      "                \"department\": \"Leadership\",\n",
      "                \"email_address\": \"mukti.khaire@techmahindra.be\"\n",
      "            },\n",
      "            {\n",
      "                \"provider\": \"Tech Mahindra\",\n",
      "                \"first_name\": \"Shikha\",\n",
      "                \"family_name\": \"Sharma\",\n",
      "                \"role\": \"Independent Director\",\n",
      "                \"department\": \"Leadership\",\n",
      "                \"email_address\": \"shikha.sharma@techmahindra.be\"\n",
      "            },\n",
      "            {\n",
      "                \"provider\": \"Tech Mahindra\",\n",
      "                \"first_name\": \"Penelope\",\n",
      "                \"family_name\": \"Fowler\",\n",
      "                \"role\": \"Independent Director\",\n",
      "                \"department\": \"Leadership\",\n",
      "                \"email_address\": \"penelope.fowler@techmahindra.be\"\n",
      "            },\n",
      "            {\n",
      "                \"provider\": \"Tech Mahindra\",\n",
      "                \"first_name\": \"Neelam\",\n",
      "                \"family_name\": \"Dhawan\",\n",
      "                \"role\": \"Independent Director\",\n",
      "                \"department\": \"Leadership\",\n",
      "                \"email_address\": \"neelam.dhawan@techmahindra.be\"\n",
      "            },\n",
      "            {\n",
      "                \"provider\": \"Tech Mahindra\",\n",
      "                \"first_name\": \"Tarun\",\n",
      "                \"family_name\": \"Bajaj\",\n",
      "                \"role\": \"Independent Director\",\n",
      "                \"department\": \"Leadership\",\n",
      "                \"email_address\": \"tarun.bajaj@techmahindra.be\"\n",
      "            },\n",
      "            {\n",
      "                \"provider\": \"Tech Mahindra\",\n",
      "                \"first_name\": \"Puneet\",\n",
      "                \"family_name\": \"Renjhen\",\n",
      "                \"role\": \"Non-Executive Director\",\n",
      "                \"department\": \"Leadership\",\n",
      "                \"email_address\": \"puneet.renjhen@techmahindra.be\"\n",
      "            },\n",
      "            {\n",
      "                \"provider\": \"Tech Mahindra\",\n",
      "                \"first_name\": \"Atul\",\n",
      "                \"family_name\": \"Soneja\",\n",
      "                \"role\": \"Chief Operating Officer\",\n",
      "                \"department\": \"Leadership\",\n",
      "                \"email_address\": \"atul.soneja@techmahindra.be\"\n",
      "            },\n",
      "            {\n",
      "                \"provider\": \"Tech Mahindra\",\n",
      "                \"first_name\": \"Rohit\",\n",
      "                \"family_name\": \"Anand\",\n",
      "                \"role\": \"Chief Financial Officer\",\n",
      "                \"department\": \"Leadership\",\n",
      "                \"email_address\": \"rohit.anand@techmahindra.be\"\n",
      "            },\n",
      "            {\n",
      "                \"provider\": \"Tech Mahindra\",\n",
      "                \"first_name\": \"Richard\",\n",
      "                \"family_name\": \"Lobo\",\n",
      "                \"role\": \"Chief People Officer\",\n",
      "                \"department\": \"Leadership\",\n",
      "                \"email_address\": \"richard.lobo@techmahindra.be\"\n",
      "            },\n",
      "            {\n",
      "                \"provider\": \"Tech Mahindra\",\n",
      "                \"first_name\": \"Lakshmanan\",\n",
      "                \"family_name\": \"Chidambaram\",\n",
      "                \"role\": \"President and Head of Americas Leadership Council, Tech Mahindra Americas Head, Mahindra Group\",\n",
      "                \"department\": \"Leadership\",\n",
      "                \"email_address\": \"lakshmanan.chidambaram@techmahindra.be\"\n",
      "            },\n",
      "            {\n",
      "                \"provider\": \"Tech Mahindra\",\n",
      "                \"first_name\": \"Harshul\",\n",
      "                \"family_name\": \"Asnani\",\n",
      "                \"role\": \"President and Head - Europe Business\",\n",
      "                \"department\": \"Leadership\",\n",
      "                \"email_address\": \"harshul.asnani@techmahindra.be\"\n",
      "            },\n",
      "            {\n",
      "                \"provider\": \"Tech Mahindra\",\n",
      "                \"first_name\": \"Harshvendra\",\n",
      "                \"family_name\": \"Soin\",\n",
      "                \"role\": \"President - Asia Pacific and Japan Business\",\n",
      "                \"department\": \"Leadership\",\n",
      "                \"email_address\": \"harshvendra.soin@techmahindra.be\"\n",
      "            },\n",
      "            {\n",
      "                \"provider\": \"Tech Mahindra\",\n",
      "                \"first_name\": \"Abhishek\",\n",
      "                \"family_name\": \"Shankar\",\n",
      "                \"role\": \"President - Communications Business, Americas\",\n",
      "                \"department\": \"Leadership\",\n",
      "                \"email_address\": \"abhishek.shankar@techmahindra.be\"\n",
      "            },\n",
      "            {\n",
      "                \"provider\": \"Tech Mahindra\",\n",
      "                \"first_name\": \"Ram\",\n",
      "                \"family_name\": \"Ramachandran\",\n",
      "                \"role\": \"Sr. President\",\n",
      "                \"department\": \"Leadership\",\n",
      "                \"email_address\": \"ram.ramachandran@techmahindra.be\"\n",
      "            },\n",
      "            {\n",
      "                \"provider\": \"Tech Mahindra\",\n",
      "                \"first_name\": \"Sumit\",\n",
      "                \"family_name\": \"Kumar Popli\",\n",
      "                \"role\": \"President - Technology, Media and Entertainment (TME) Business\",\n",
      "                \"department\": \"Leadership\",\n",
      "                \"email_address\": \"sumit.kumarpopli@techmahindra.be\"\n",
      "            },\n",
      "            {\n",
      "                \"provider\": \"Tech Mahindra\",\n",
      "                \"first_name\": \"Kunal\",\n",
      "                \"family_name\": \"Purohit\",\n",
      "                \"role\": \"President \\u2013 Next Gen Services\",\n",
      "                \"department\": \"Leadership\",\n",
      "                \"email_address\": \"kunal.purohit@techmahindra.be\"\n",
      "            },\n",
      "            {\n",
      "                \"provider\": \"Tech Mahindra\",\n",
      "                \"first_name\": \"Narasimham\",\n",
      "                \"family_name\": \"RV\",\n",
      "                \"role\": \"President \\u2013 Engineering Services\",\n",
      "                \"department\": \"Leadership\",\n",
      "                \"email_address\": \"narasimham.rv@techmahindra.be\"\n",
      "            },\n",
      "            {\n",
      "                \"provider\": \"Tech Mahindra\",\n",
      "                \"first_name\": \"Birendra\",\n",
      "                \"family_name\": \"Sen\",\n",
      "                \"role\": \"President \\u2013 Business Process Services\",\n",
      "                \"department\": \"Leadership\",\n",
      "                \"email_address\": \"birendra.sen@techmahindra.be\"\n",
      "            },\n",
      "            {\n",
      "                \"provider\": \"Tech Mahindra\",\n",
      "                \"first_name\": \"Rajesh\",\n",
      "                \"family_name\": \"Chandiramani\",\n",
      "                \"role\": \"Chief Executive Officer \\u2013 Comviva\",\n",
      "                \"department\": \"Leadership\",\n",
      "                \"email_address\": \"rajesh.chandiramani@techmahindra.be\"\n",
      "            },\n",
      "            {\n",
      "                \"provider\": \"Tech Mahindra\",\n",
      "                \"first_name\": \"Vineet\",\n",
      "                \"family_name\": \"Vij\",\n",
      "                \"role\": \"General Counsel & Chief Legal Officer\",\n",
      "                \"department\": \"Leadership\",\n",
      "                \"email_address\": \"vineet.vij@techmahindra.be\"\n",
      "            },\n",
      "            {\n",
      "                \"provider\": \"Tech Mahindra\",\n",
      "                \"first_name\": \"Nitesh\",\n",
      "                \"family_name\": \"Aggarwal\",\n",
      "                \"role\": \"Chief Strategy and Risk Officer\",\n",
      "                \"department\": \"Leadership\",\n",
      "                \"email_address\": \"nitesh.aggarwal@techmahindra.be\"\n",
      "            },\n",
      "            {\n",
      "                \"provider\": \"Tech Mahindra\",\n",
      "                \"first_name\": \"Pallavi\",\n",
      "                \"family_name\": \"Katiyar\",\n",
      "                \"role\": \"Chief Information Officer (CIO)\",\n",
      "                \"department\": \"Leadership\",\n",
      "                \"email_address\": \"pallavi.katiyar@techmahindra.be\"\n",
      "            },\n",
      "            {\n",
      "                \"provider\": \"Tech Mahindra\",\n",
      "                \"first_name\": \"Peeyush\",\n",
      "                \"family_name\": \"Dubey\",\n",
      "                \"role\": \"Chief Marketing Officer\",\n",
      "                \"department\": \"Leadership\",\n",
      "                \"email_address\": \"peeyush.dubey@techmahindra.be\"\n",
      "            },\n",
      "            {\n",
      "                \"provider\": \"Tech Mahindra\",\n",
      "                \"first_name\": \"Sudeep\",\n",
      "                \"family_name\": \"Chopra\",\n",
      "                \"role\": \"Chief Internal Auditor and Corporate Ombudsman\",\n",
      "                \"department\": \"Leadership\",\n",
      "                \"email_address\": \"sudeep.chopra@techmahindra.be\"\n",
      "            },\n",
      "            {\n",
      "                \"provider\": \"Tech Mahindra\",\n",
      "                \"first_name\": \"Sandeep\",\n",
      "                \"family_name\": \"Chandna\",\n",
      "                \"role\": \"Chief Sustainability Officer\",\n",
      "                \"department\": \"Leadership\",\n",
      "                \"email_address\": \"sandeep.chandna@techmahindra.be\"\n",
      "            },\n",
      "            {\n",
      "                \"provider\": \"Tech Mahindra\",\n",
      "                \"first_name\": \"Amitabh\",\n",
      "                \"family_name\": \"Sharma\",\n",
      "                \"role\": \"Asst. VP HR\",\n",
      "                \"department\": \"Human Resources\",\n",
      "                \"email_address\": \"amitabh.sharma@techmahindra.be\"\n",
      "            },\n",
      "            {\n",
      "                \"provider\": \"Tech Mahindra\",\n",
      "                \"first_name\": \"Dedra\",\n",
      "                \"family_name\": \"Ware\",\n",
      "                \"role\": \"Executive HR\",\n",
      "                \"department\": \"Human Resources\",\n",
      "                \"email_address\": \"dedra.ware@techmahindra.be\"\n",
      "            },\n",
      "            {\n",
      "                \"provider\": \"Tech Mahindra\",\n",
      "                \"first_name\": \"Divya\",\n",
      "                \"family_name\": \"Vijay\",\n",
      "                \"role\": \"HR Recruiter\",\n",
      "                \"department\": \"Human Resources\",\n",
      "                \"email_address\": \"divya.vijay@techmahindra.be\"\n",
      "            },\n",
      "            {\n",
      "                \"provider\": \"Tech Mahindra\",\n",
      "                \"first_name\": \"Shrikant\",\n",
      "                \"family_name\": \"Dubey\",\n",
      "                \"role\": \"HUMAN RESOURCES / STAFFING\",\n",
      "                \"department\": \"Human Resources\",\n",
      "                \"email_address\": \"shrikant.dubey@techmahindra.be\"\n",
      "            },\n",
      "            {\n",
      "                \"provider\": \"Tech Mahindra\",\n",
      "                \"first_name\": \"Anand\",\n",
      "                \"family_name\": \"Gopal\",\n",
      "                \"role\": \"Human Resources Manager\",\n",
      "                \"department\": \"Human Resources\",\n",
      "                \"email_address\": \"anand.gopal@techmahindra.be\"\n",
      "            }\n",
      "        ],\n",
      "        \"color\": {\n",
      "            \"provider\": \"Tech Mahindra\",\n",
      "            \"color_name_1\": \"Rising Red\",\n",
      "            \"hex_code_1\": \"#E31837\",\n",
      "            \"rgb_code_1\": [\n",
      "                227,\n",
      "                24,\n",
      "                55\n",
      "            ]\n",
      "        },\n",
      "        \"departments\": [\n",
      "            {\n",
      "                \"provider\": \"Tech Mahindra\",\n",
      "                \"department\": \"Information Technology Services\",\n",
      "                \"subdivision\": [\n",
      "                    \"Digital Transformation\",\n",
      "                    \"Consulting\",\n",
      "                    \"Business Re-engineering\",\n",
      "                    \"Strategy and Consulting\",\n",
      "                    \"Cloud Consulting\",\n",
      "                    \"Digital Supply Chain\",\n",
      "                    \"Application Services\",\n",
      "                    \"Intelligent Automation\",\n",
      "                    \"Testing Services\",\n",
      "                    \"Performance Engineering\",\n",
      "                    \"Engineering Services\",\n",
      "                    \"Network Services\",\n",
      "                    \"Data Analytics\",\n",
      "                    \"Artificial Intelligence\",\n",
      "                    \"Digital Enterprise Applications Services\",\n",
      "                    \"Cloud Software\",\n",
      "                    \"Mobile Solutions\",\n",
      "                    \"Cybersecurity\",\n",
      "                    \"Cloud-based services\",\n",
      "                    \"Cloud-managed services\",\n",
      "                    \"Managed services\",\n",
      "                    \"Modernization\",\n",
      "                    \"Strategy\",\n",
      "                    \"Assessment\",\n",
      "                    \"Service desk support\",\n",
      "                    \"Messaging\",\n",
      "                    \"Collaboration\",\n",
      "                    \"Hybrid workspaces\",\n",
      "                    \"Unified communications\",\n",
      "                    \"Connectivity\",\n",
      "                    \"Network transformation\",\n",
      "                    \"Vulnerability assessment\",\n",
      "                    \"Threat detection\",\n",
      "                    \"Incident response\",\n",
      "                    \"Recovery\",\n",
      "                    \"Hybrid cloud and DevOps services\",\n",
      "                    \"SRE automation\",\n",
      "                    \"Application Development & Maintenance Services\",\n",
      "                    \"5G & Network Services\",\n",
      "                    \"Infrastructure & Cloud Services\"\n",
      "                ],\n",
      "                \"address\": \"Plot No. 1, Phase \\u2013 III, Rajiv Gandhi Infotech Park, Hinjewadi, Pune, Maharashtra, 411057, India\",\n",
      "                \"phone\": \"+91 20 66018100\",\n",
      "                \"vat\": \"L64200MH1986PLC041370\"\n",
      "            },\n",
      "            {\n",
      "                \"provider\": \"Tech Mahindra\",\n",
      "                \"department\": \"Business Process Services\",\n",
      "                \"subdivision\": [\n",
      "                    \"Business Process Outsourcing\",\n",
      "                    \"Customer Experience Management\",\n",
      "                    \"Remote Work Management\"\n",
      "                ],\n",
      "                \"address\": \"Plot No. 1, Phase \\u2013 III, Rajiv Gandhi Infotech Park, Hinjewadi, Pune, Maharashtra, 411057, India\",\n",
      "                \"phone\": \"+91 20 66018100\",\n",
      "                \"vat\": \"L64200MH1986PLC041370\"\n",
      "            },\n",
      "            {\n",
      "                \"provider\": \"Tech Mahindra\",\n",
      "                \"department\": \"Engineering Services\",\n",
      "                \"subdivision\": [\n",
      "                    \"Integrated Engineering Services\",\n",
      "                    \"Semiconductor design\",\n",
      "                    \"Embedded systems\",\n",
      "                    \"Product engineering\"\n",
      "                ],\n",
      "                \"address\": \"Plot No. 1, Phase \\u2013 III, Rajiv Gandhi Infotech Park, Hinjewadi, Pune, Maharashtra, 411057, India\",\n",
      "                \"phone\": \"+91 20 66018100\",\n",
      "                \"vat\": \"L64200MH1986PLC041370\"\n",
      "            },\n",
      "            {\n",
      "                \"provider\": \"Tech Mahindra\",\n",
      "                \"department\": \"Consulting and Advisory\",\n",
      "                \"subdivision\": [\n",
      "                    \"Management Consulting\",\n",
      "                    \"Digital Strategy\",\n",
      "                    \"Business Function Reimagination\",\n",
      "                    \"Technology Advisory\",\n",
      "                    \"Co-innovation\",\n",
      "                    \"Innovation-as-a-Service\",\n",
      "                    \"Product/Platform Transformation\",\n",
      "                    \"Post-deal services\",\n",
      "                    \"Mergers and Acquisitions automation\",\n",
      "                    \"Data enrichment\",\n",
      "                    \"Technology integration\",\n",
      "                    \"Separation\",\n",
      "                    \"AI risk analytics\",\n",
      "                    \"Digital agency consulting\",\n",
      "                    \"Product and experience transformation\",\n",
      "                    \"Cloud transformation consulting\",\n",
      "                    \"Enablement and delivery\"\n",
      "                ],\n",
      "                \"address\": \"Plot No. 1, Phase \\u2013 III, Rajiv Gandhi Infotech Park, Hinjewadi, Pune, Maharashtra, 411057, India\",\n",
      "                \"phone\": \"+91 20 66018100\",\n",
      "                \"vat\": \"L64200MH1986PLC041370\"\n",
      "            },\n",
      "            {\n",
      "                \"provider\": \"Tech Mahindra\",\n",
      "                \"department\": \"Human Resources\",\n",
      "                \"subdivision\": [\n",
      "                    \"Human Capital Management\",\n",
      "                    \"Recruitment\"\n",
      "                ],\n",
      "                \"address\": \"Plot No. 1, Phase \\u2013 III, Rajiv Gandhi Infotech Park, Hinjewadi, Pune, Maharashtra, 411057, India\",\n",
      "                \"phone\": \"+91 20 66018100\",\n",
      "                \"vat\": \"L64200MH1986PLC041370\"\n",
      "            },\n",
      "            {\n",
      "                \"provider\": \"Tech Mahindra\",\n",
      "                \"department\": \"Other Services\",\n",
      "                \"subdivision\": [\n",
      "                    \"Legal Risk\",\n",
      "                    \"Compliance\",\n",
      "                    \"Technology Platforms\",\n",
      "                    \"Experience Design Services\",\n",
      "                    \"Supply Chain Digital Transformation\",\n",
      "                    \"Architectural & Industrial Design\",\n",
      "                    \"Digital value-added service (VAS)\",\n",
      "                    \"Mobile network solutions\"\n",
      "                ],\n",
      "                \"address\": \"Plot No. 1, Phase \\u2013 III, Rajiv Gandhi Infotech Park, Hinjewadi, Pune, Maharashtra, 411057, India\",\n",
      "                \"phone\": \"+91 20 66018100\",\n",
      "                \"vat\": \"L64200MH1986PLC041370\"\n",
      "            },\n",
      "            {\n",
      "                \"provider\": \"Tech Mahindra\",\n",
      "                \"department\": \"Geographic Business Units\",\n",
      "                \"subdivision\": [\n",
      "                    \"Americas (divided into three units)\",\n",
      "                    \"Asia-Pacific\",\n",
      "                    \"Europe\",\n",
      "                    \"India\"\n",
      "                ],\n",
      "                \"address\": \"Plot No. 1, Phase \\u2013 III, Rajiv Gandhi Infotech Park, Hinjewadi, Pune, Maharashtra, 411057, India\",\n",
      "                \"phone\": \"+91 20 66018100\",\n",
      "                \"vat\": \"L64200MH1986PLC041370\"\n",
      "            }\n",
      "        ]\n",
      "    }\n",
      "}\n",
      "Blended data has been saved to 'blended_data_providers.json'\n"
     ]
    }
   ],
   "source": [
    "# Function to read JSON data from a file and debug if necessary\n",
    "def read_json_file(file_path):\n",
    "    with open(file_path, 'r') as file:\n",
    "        try:\n",
    "            data = json.load(file)\n",
    "            # Debugging: Print the entire content of the file to inspect the structure\n",
    "            print(f\"Data loaded from {file_path} (Type: {type(data)}): {data}\")\n",
    "            if not isinstance(data, list):\n",
    "                raise ValueError(f\"Data in {file_path} is not a list as expected.\")\n",
    "            return data\n",
    "        except json.JSONDecodeError:\n",
    "            print(f\"Error decoding JSON from {file_path}\")\n",
    "            return []  # Return an empty list if the JSON is malformed\n",
    "\n",
    "# Function to blend data\n",
    "def blend_data_from_files(general_file, employee_file, color_file, department_file):\n",
    "    # Read data from files\n",
    "    general_data = read_json_file(general_file)\n",
    "    employee_data = read_json_file(employee_file)\n",
    "    color_data = read_json_file(color_file)\n",
    "    department_data = read_json_file(department_file)\n",
    "    \n",
    "    # Merge data\n",
    "    merged_data = {}\n",
    "\n",
    "    # Add general data\n",
    "    for entry in general_data:\n",
    "        try:\n",
    "            provider = entry[\"provider\"]\n",
    "            merged_data[provider] = {\"general\": entry}\n",
    "        except KeyError:\n",
    "            print(\"KeyError: Missing 'provider' in general data entry.\")\n",
    "            continue\n",
    "\n",
    "    # Add employee data\n",
    "    for entry in employee_data:\n",
    "        try:\n",
    "            provider = entry[\"provider\"]\n",
    "            if provider in merged_data:\n",
    "                if \"employee\" not in merged_data[provider]:\n",
    "                    merged_data[provider][\"employee\"] = []\n",
    "                merged_data[provider][\"employee\"].append(entry)\n",
    "        except KeyError:\n",
    "            print(\"KeyError: Missing 'provider' in employee data entry.\")\n",
    "            continue\n",
    "\n",
    "    # Add color data\n",
    "    for entry in color_data:\n",
    "        try:\n",
    "            provider = entry.get(\"provider\", \"Unknown\")\n",
    "            if provider in merged_data:\n",
    "                if \"color\" not in merged_data[provider]:\n",
    "                    merged_data[provider][\"color\"] = {}\n",
    "                merged_data[provider][\"color\"].update(entry)\n",
    "        except KeyError:\n",
    "            print(\"KeyError: Missing 'provider' in color data entry.\")\n",
    "            continue\n",
    "\n",
    "    # Add department data\n",
    "    for entry in department_data:\n",
    "        try:\n",
    "            provider = entry[\"provider\"]\n",
    "            if provider in merged_data:\n",
    "                if \"departments\" not in merged_data[provider]:\n",
    "                    merged_data[provider][\"departments\"] = []\n",
    "                merged_data[provider][\"departments\"].append(entry)\n",
    "        except KeyError:\n",
    "            print(\"KeyError: Missing 'provider' in department data entry.\")\n",
    "            continue\n",
    "\n",
    "    return merged_data\n",
    "\n",
    "# File paths\n",
    "general_file = 'provider_general_data.json'\n",
    "employee_file = 'provider_employees.json'\n",
    "color_file = 'provider_color.json'\n",
    "department_file = 'provider_departments.json'\n",
    "\n",
    "# Debugging: Print current working directory\n",
    "print(\"Current working directory:\", os.getcwd())\n",
    "\n",
    "# Blend the data\n",
    "blended_result = blend_data_from_files(general_file, employee_file, color_file, department_file)\n",
    "\n",
    "# Debugging: Print the blended data to verify\n",
    "print(\"Blended Data:\", json.dumps(blended_result, indent=4))\n",
    "\n",
    "# Write the result to a new JSON file and capture any potential errors\n",
    "try:\n",
    "    with open('blended_data_providers.json', 'w') as output_file:\n",
    "        json.dump(blended_result, output_file, indent=4)\n",
    "    print(\"Blended data has been saved to 'blended_data_providers.json'\")\n",
    "except Exception as e:\n",
    "    print(f\"Error saving file: {e}\")\n",
    "\n",
    "\n",
    "\n",
    "\n"
   ]
  },
  {
   "cell_type": "markdown",
   "metadata": {},
   "source": [
    "**2. SETTING UP THE EMAIL WRITING ASSISTANT** (temperature = 1, tools= ??)"
   ]
  },
  {
   "cell_type": "markdown",
   "metadata": {},
   "source": [
    "**Determine Tone of Email**"
   ]
  },
  {
   "cell_type": "code",
   "execution_count": 243,
   "metadata": {},
   "outputs": [],
   "source": [
    "email_tones = [\n",
    "    \"Urgent\",\n",
    "    \"Firm\",\n",
    "    \"Action Required\",\n",
    "    \"Time-Sensitive\",\n",
    "    \"Polite\",\n",
    "    \"Friendly\",\n",
    "    \"Professional\",\n",
    "    \"Empathetic\"\n",
    "]"
   ]
  },
  {
   "cell_type": "code",
   "execution_count": 244,
   "metadata": {},
   "outputs": [],
   "source": [
    "random_tone = rd.choice(email_tones)"
   ]
  },
  {
   "cell_type": "code",
   "execution_count": 245,
   "metadata": {},
   "outputs": [
    {
     "name": "stdout",
     "output_type": "stream",
     "text": [
      "Polite\n"
     ]
    }
   ],
   "source": [
    "print(random_tone)"
   ]
  },
  {
   "cell_type": "markdown",
   "metadata": {},
   "source": [
    "**Setting up some dummy data about proximus employees**"
   ]
  },
  {
   "cell_type": "code",
   "execution_count": 246,
   "metadata": {},
   "outputs": [],
   "source": [
    "proximus_employees = [\n",
    "    {\n",
    "        \"name\": \"Marie Declercq\", \n",
    "        \"email\": \"marie.declercq@proximus.be\", \n",
    "        \"role\": \"Data Analyst\", \n",
    "        \"language\": \"Dutch\", \n",
    "        \"department\": \"Consumer Market\"\n",
    "    },\n",
    "    {\n",
    "        \"name\": \"Luc Vandenberg\", \n",
    "        \"email\": \"luc.vandenberg@proximus.be\", \n",
    "        \"role\": \"Cybersecurity Specialist\", \n",
    "        \"language\": \"Dutch\", \n",
    "        \"department\": \"Network & Wholesale\"\n",
    "    },\n",
    "    {\n",
    "        \"name\": \"Emma Wouters\", \n",
    "        \"email\": \"emma.wouters@proximus.be\", \n",
    "        \"role\": \"Marketing Specialist\", \n",
    "        \"language\": \"English\", \n",
    "        \"department\": \"Enterprise Market\"\n",
    "    },\n",
    "    {\n",
    "        \"name\": \"Jai Mehta\", \n",
    "        \"email\": \"jai.mehta@proximus.be\", \n",
    "        \"role\": \"System Administrator\", \n",
    "        \"language\": \"English\", \n",
    "        \"department\": \"IT Infrastructure\"\n",
    "    },\n",
    "    {\n",
    "        \"name\": \"Guillaume Boutin\", \n",
    "        \"email\": \"guillaume.boutin@proximus.be\", \n",
    "        \"role\": \"Chief Executive Officer\", \n",
    "        \"language\": \"French\", \n",
    "        \"department\": \"Chief Executive Officer's Department\"\n",
    "    }\n",
    "] "
   ]
  },
  {
   "cell_type": "code",
   "execution_count": 247,
   "metadata": {},
   "outputs": [],
   "source": [
    "random_employee = rd.choice(proximus_employees)"
   ]
  },
  {
   "cell_type": "code",
   "execution_count": 248,
   "metadata": {},
   "outputs": [
    {
     "name": "stdout",
     "output_type": "stream",
     "text": [
      "{'name': 'Emma Wouters', 'email': 'emma.wouters@proximus.be', 'role': 'Marketing Specialist', 'language': 'English', 'department': 'Enterprise Market'}\n"
     ]
    }
   ],
   "source": [
    "print(random_employee)"
   ]
  },
  {
   "cell_type": "code",
   "execution_count": 249,
   "metadata": {},
   "outputs": [],
   "source": [
    "system_instruction= f\"\"\"You are a skilled copywriter with a knack for creating emails that feel\n",
    "    personal, relevant, urgent and engaging. Your task is to write emails to employees of\n",
    "    {COMPANY} all while maintaining a tone that feels individual, tailored and professional. \n",
    "    \n",
    "    The email should appear to come from a relevant source. Encourage actions like clicking links or downloading attachments with a sense of urgency. Align the email subject with the sender's theme and message.\n",
    "    \n",
    "    Incorporate in your answer only complete emails.\n",
    "    \n",
    "    Everything about the sender address, subject, and email body is focused on the recipient interacting with the link.\n",
    "    \n",
    "    If you encounter any characters as \"/\", \"\\\", \"-\" and \"_\" replace them with space.\n",
    "    \n",
    "    The email should have a {random_tone} tone.\n",
    "    \n",
    "    The receiver of the email is {random_employee['name']} and should be in {random_employee['language']}. Address the receiver formal and by his full name.\n",
    "\n",
    "    The email signature should contain the first name, family name, role and the company name of one of the employees of {provider}. \n",
    "\n",
    "    Do not include the link in the body of the email, as it will be implemented separately and placed below the text body, refer to it in the text body where it is placed.\n",
    "\n",
    "    Just plain text in the body, nothing to include anymore.\n",
    "    \n",
    "    Create also a call to action text that is limited to maximum 3 words but do not include it in the body.\n",
    "\n",
    "    The email should be written in this style example:\n",
    "\n",
    "    Use this JSON schema:\n",
    "\n",
    "    Provider_email = {{'subject':str,'addressing_the_receiver':str, 'body':str, 'email_sign_fullname':str, 'email_sign_role':str, 'email_sign_company':str, 'call_to_action_text':str}}\n",
    "    Return: list[Provider_email]\n",
    "        \n",
    "        \n",
    "        \"\"\""
   ]
  },
  {
   "cell_type": "code",
   "execution_count": 250,
   "metadata": {},
   "outputs": [],
   "source": [
    "config = GenerateContentConfig(system_instruction=system_instruction, temperature=1,maxOutputTokens=8000, top_p=0.9, top_k=40, safety_settings=safety_settings)"
   ]
  },
  {
   "cell_type": "markdown",
   "metadata": {},
   "source": [
    "**Fetch some Provider Context to generate better emails**"
   ]
  },
  {
   "cell_type": "code",
   "execution_count": 251,
   "metadata": {},
   "outputs": [],
   "source": [
    "# Load JSON data from the file\n",
    "with open(\"provider_employees.json\", \"r\") as file:\n",
    "    provider_employees = json.load(file)"
   ]
  },
  {
   "cell_type": "code",
   "execution_count": 252,
   "metadata": {},
   "outputs": [],
   "source": [
    "# Load JSON data from the file\n",
    "with open(\"provider_departments.json\", \"r\") as file:\n",
    "    provider_departments = json.load(file)"
   ]
  },
  {
   "cell_type": "code",
   "execution_count": 253,
   "metadata": {},
   "outputs": [],
   "source": [
    "telecom_employee_events = [\n",
    "    \"Seminars\",\n",
    "    \"Presentations\",\n",
    "    \"Networking Meetings\",\n",
    "    \"Workshops\",\n",
    "    \"Training Sessions\",\n",
    "    \"Industry Roundtables\",\n",
    "    \"Panel Discussions\",\n",
    "    \"Webinars\",\n",
    "    \"Conferences\",\n",
    "    \"Hackathons\",\n",
    "    \"Product Demos\",\n",
    "    \"Leadership Forums\",\n",
    "    \"Strategic Planning Meetings\",\n",
    "    \"Customer Experience Sessions\",\n",
    "    \"Innovation Labs\"\n",
    "]"
   ]
  },
  {
   "cell_type": "code",
   "execution_count": 254,
   "metadata": {},
   "outputs": [],
   "source": [
    "random_event=rd.choice(telecom_employee_events)"
   ]
  },
  {
   "cell_type": "code",
   "execution_count": 255,
   "metadata": {},
   "outputs": [
    {
     "name": "stdout",
     "output_type": "stream",
     "text": [
      "Webinars\n"
     ]
    }
   ],
   "source": [
    "print(random_event)"
   ]
  },
  {
   "cell_type": "code",
   "execution_count": 256,
   "metadata": {},
   "outputs": [],
   "source": [
    "urgent_provider_issues = [\n",
    "    \"Network Outages\",\n",
    "    \"SLA Violations\",\n",
    "    \"Payment Delays\",\n",
    "    \"Contract Breach\",\n",
    "    \"Quality Failures\",\n",
    "    \"Security Risks\",\n",
    "    \"Price Increases\",\n",
    "    \"Missed Deadlines\",\n",
    "    \"Regulatory Issues\",\n",
    "    \"Billing Discrepancies\"\n",
    "]"
   ]
  },
  {
   "cell_type": "code",
   "execution_count": 257,
   "metadata": {},
   "outputs": [],
   "source": [
    "random_issue=rd.choice(urgent_provider_issues)"
   ]
  },
  {
   "cell_type": "code",
   "execution_count": 258,
   "metadata": {},
   "outputs": [
    {
     "name": "stdout",
     "output_type": "stream",
     "text": [
      "Missed Deadlines\n"
     ]
    }
   ],
   "source": [
    "print(random_issue)"
   ]
  },
  {
   "cell_type": "markdown",
   "metadata": {},
   "source": [
    "**Emails Provider to Proximus**"
   ]
  },
  {
   "cell_type": "markdown",
   "metadata": {},
   "source": [
    "Service related Emails"
   ]
  },
  {
   "cell_type": "code",
   "execution_count": 259,
   "metadata": {},
   "outputs": [],
   "source": [
    "contents = f\"\"\"\n",
    "\n",
    "{provider} is a service provider of {COMPANY}. {provider} has these {provider_departments}.\n",
    "\n",
    "Write some tailored emails based on the role of {random_employee['role']} about an urgent matter that needs to be solved related to {COMPANY} concerning a service that {provider} offers. Elaborate about the issue and point out why it needs to be solved as quick as possible.\n",
    "\n",
    "\"\"\"\n",
    "\n",
    "response = client.models.generate_content(\n",
    "    model=MODEL, config=config, contents=contents)\n",
    "\n"
   ]
  },
  {
   "cell_type": "markdown",
   "metadata": {},
   "source": [
    "repairing a string"
   ]
  },
  {
   "cell_type": "code",
   "execution_count": 260,
   "metadata": {},
   "outputs": [],
   "source": [
    "def repair_json_response(response_text):\n",
    "    \"\"\"\n",
    "    Repairs a potentially malformed JSON string from `response.text`.\n",
    "    Ensures it starts with '[' and ends with ']' after the last complete dictionary.\n",
    "\n",
    "    Args:\n",
    "        response_text (str): The response text containing a potentially malformed JSON string.\n",
    "\n",
    "    Returns:\n",
    "        None: Prints the repaired JSON string.\n",
    "\n",
    "    Raises:\n",
    "        ValueError: If the string cannot be repaired into valid JSON.\n",
    "    \"\"\"\n",
    "    # Remove the unwanted prefix if it exists\n",
    "    if response_text.strip().startswith(\"```json\") or response_text.strip().startswith(\"[```json\"):\n",
    "        response_text = response_text.replace(\"```json\", \"\", 1).replace(\"[```json\", \"\", 1).strip()\n",
    "\n",
    "    # Ensure the string starts with '['\n",
    "    if not response_text.strip().startswith(\"[\"):\n",
    "        response_text = \"[\" + response_text\n",
    "\n",
    "    # Find the last closing brace ('}')\n",
    "    last_brace_index = response_text.rfind(\"}\")\n",
    "    if last_brace_index == -1:\n",
    "        raise ValueError(\"No closing brace found in the response text.\")\n",
    "\n",
    "    # Trim the string up to the last complete dictionary and close the list\n",
    "    repaired_string = response_text[:last_brace_index + 1].rstrip(\", \\n\") + \"]\"\n",
    "    \n",
    "    # Print the repaired JSON string\n",
    "    return repaired_string\n"
   ]
  },
  {
   "cell_type": "code",
   "execution_count": 261,
   "metadata": {},
   "outputs": [
    {
     "data": {
      "text/plain": [
       "'[\\n  {\\n    \"subject\": \"Critical Update: Tech Hub Platform and Customer Value Propositions\",\\n    \"addressing_the_receiver\": \"Dear Emma Wouters,\",\\n    \"body\": \"We\\'ve identified a critical issue with the \\'Tech Hub\\' platform that directly impacts our ability to blend software assets for new customer value propositions. This platform, essential for our innovative offerings, is experiencing unexpected latency, which is slowing down our marketing campaigns and potentially affecting our brand reputation. It is imperative to address this immediately to ensure we can effectively launch new products and services. Please, find more details about the issue in the link below.\",\\n    \"email_sign_fullname\": \"Priya Sharma\",\\n    \"email_sign_role\": \"Project Manager\",\\n    \"email_sign_company\": \"Tech Mahindra\",\\n        \"call_to_action_text\": \"Act Now\"\\n  },\\n  {\\n    \"subject\": \"Action Required: Tech Hub Platform Performance Degradation\",\\n    \"addressing_the_receiver\": \"Dear Emma Wouters,\",\\n    \"body\": \"The \\'Tech Hub\\' platform, which is core to delivering new value propositions, is currently facing performance issues that require immediate attention. This degradation is affecting our go-to-market strategies and may lead to missed opportunities in acquiring and retaining customers. It is crucial to understand the root cause and implement the necessary fixes to prevent further setbacks. I urge you to take a moment to check the linked document for more details on the issue and steps required.\",\\n    \"email_sign_fullname\": \"Priya Sharma\",\\n    \"email_sign_role\": \"Project Manager\",\\n     \"email_sign_company\": \"Tech Mahindra\",\\n     \"call_to_action_text\": \"View Details\"\\n  },\\n   {\\n    \"subject\": \"Urgent: Impact on Customer Value Proposition Due to Tech Hub\",\\n    \"addressing_the_receiver\": \"Dear Emma Wouters,\",\\n    \"body\": \"There is a pressing matter regarding the \\'Tech Hub\\' platform, which is vital for creating new customer value propositions. We\\'re observing an unanticipated slowdown in its operation that’s now jeopardizing our ability to deliver on our promises to our clients. This situation demands quick action to restore full functionality and minimize any negative impact. More information on this and the required steps are available below.\",\\n     \"email_sign_fullname\": \"Priya Sharma\",\\n    \"email_sign_role\": \"Project Manager\",\\n    \"email_sign_company\": \"Tech Mahindra\",\\n    \"call_to_action_text\": \"Check Now\"\\n  }]'"
      ]
     },
     "execution_count": 261,
     "metadata": {},
     "output_type": "execute_result"
    }
   ],
   "source": [
    "response_llm = response.text\n",
    "repair_json_response(response_llm)"
   ]
  },
  {
   "cell_type": "code",
   "execution_count": 262,
   "metadata": {},
   "outputs": [
    {
     "name": "stdout",
     "output_type": "stream",
     "text": [
      "JSON data has been successfully written to 'emails_related_service.json'.\n"
     ]
    },
    {
     "data": {
      "text/plain": [
       "True"
      ]
     },
     "execution_count": 262,
     "metadata": {},
     "output_type": "execute_result"
    }
   ],
   "source": [
    "save_json_from_string(response_llm, 'emails_related_service.json')"
   ]
  },
  {
   "cell_type": "markdown",
   "metadata": {},
   "source": [
    "Provider - Proximus Employee events"
   ]
  },
  {
   "cell_type": "code",
   "execution_count": 263,
   "metadata": {},
   "outputs": [],
   "source": [
    "contents = f\"\"\"\n",
    "\n",
    "{provider} is a service provider of {COMPANY}. {provider} has these {provider_departments}.\n",
    "\n",
    "Write some tailored emails based on the role of {random_employee['role']} about an event that is organized by {provider}. \n",
    "\n",
    "The event is {random_event} and is geared towards {random_employee['role']}.\n",
    "\n",
    "Do not include urgent in the subject of the email. State that the spots available are limited and urgent action is required.\n",
    "\n",
    "\"\"\"\n",
    "\n",
    "response = client.models.generate_content(\n",
    "    model=MODEL, config=config, contents=contents)\n",
    "\n"
   ]
  },
  {
   "cell_type": "code",
   "execution_count": 264,
   "metadata": {},
   "outputs": [
    {
     "data": {
      "text/plain": [
       "'[\\n  {\\n    \"subject\": \"Exclusive Webinar Invitation: Elevate Your Marketing Strategies with Tech Mahindra\\'s Tech Hub\",\\n    \"addressing_the_receiver\": \"Dear Emma Wouters,\",\\n    \"body\": \"I hope this email finds you well.\\\\n\\\\nTech Mahindra is excited to invite you to an exclusive webinar designed specifically for Marketing Specialists like yourself. This session will delve into how our innovative \\'Tech Hub\\' platform can revolutionize your marketing approach, blending software assets to create compelling value propositions for your customers.\\\\n\\\\nWe\\'ll explore new strategies, tools, and techniques that can drive engagement and boost your marketing effectiveness. Given the relevance of this topic for your role, I believe you will find this session extremely beneficial.\\\\n\\\\nDue to limited capacity, we urge you to secure your spot as soon as possible. The link below will provide you with all the necessary details and allow you to register. Please take immediate action to ensure you don\\'t miss this opportunity.\",\\n    \"email_sign_fullname\": \"Rajesh Kumar\",\\n    \"email_sign_role\": \"Technology Consultant\",\\n    \"email_sign_company\": \"Tech Mahindra\",\\n    \"call_to_action_text\": \"Register Now\"\\n  },\\n   {\\n    \"subject\": \"Webinar Alert: Transforming Customer Engagement with Tech Mahindra’s Tech Hub\",\\n    \"addressing_the_receiver\": \"Dear Emma Wouters,\",\\n    \"body\": \"We are reaching out to you today with an exclusive invitation to a webinar specifically curated for Marketing Specialists. Tech Mahindra is hosting this session to showcase how our innovative \\'Tech Hub\\' is reshaping the landscape of customer engagement through the strategic blending of software assets.\\\\n\\\\nThis webinar will provide actionable insights and strategies to enhance your marketing campaigns, drive higher ROI, and achieve exceptional customer experiences. We have carefully tailored this content to meet the unique challenges faced by Marketing Specialists in today’s market.\\\\n\\\\nSpaces for this event are limited, and we expect a high level of interest. To avoid disappointment, please secure your spot by following the link below. Your prompt registration is highly recommended.\",\\n    \"email_sign_fullname\": \"Rajesh Kumar\",\\n    \"email_sign_role\": \"Technology Consultant\",\\n     \"email_sign_company\": \"Tech Mahindra\",\\n    \"call_to_action_text\": \"Join Now\"\\n  },\\n   {\\n    \"subject\": \"Invitation: Enhance Marketing Performance with Tech Mahindra\\'s Tech Hub Webinar\",\\n    \"addressing_the_receiver\": \"Dear Emma Wouters,\",\\n     \"body\": \"Tech Mahindra would like to invite you to an essential webinar designed for professionals like you in Marketing. We will be presenting our cutting edge \\'Tech Hub\\' platform and demonstrating how it strategically blends software assets to create value added customer propositions.\\\\n\\\\nIn this webinar, we will provide a detailed overview on the most advanced tools, techniques, and strategies that will help elevate your marketing performance. Considering your expertise as a Marketing Specialist, we believe this is an opportunity you won\\'t want to miss.\\\\n\\\\nSince the availability for this event is limited, we encourage you to confirm your participation promptly through the registration link provided below. Secure your spot now to not miss out on this highly beneficial session.\",\\n    \"email_sign_fullname\": \"Rajesh Kumar\",\\n     \"email_sign_role\": \"Technology Consultant\",\\n     \"email_sign_company\": \"Tech Mahindra\",\\n    \"call_to_action_text\": \"Don\\'t Delay\"\\n  }]'"
      ]
     },
     "execution_count": 264,
     "metadata": {},
     "output_type": "execute_result"
    }
   ],
   "source": [
    "response_llm = response.text\n",
    "repair_json_response(response_llm)"
   ]
  },
  {
   "cell_type": "code",
   "execution_count": 265,
   "metadata": {},
   "outputs": [
    {
     "name": "stdout",
     "output_type": "stream",
     "text": [
      "JSON data has been successfully written to 'emails_employee_event.json'.\n"
     ]
    },
    {
     "data": {
      "text/plain": [
       "True"
      ]
     },
     "execution_count": 265,
     "metadata": {},
     "output_type": "execute_result"
    }
   ],
   "source": [
    "save_json_from_string(response_llm, 'emails_employee_event.json')"
   ]
  },
  {
   "cell_type": "markdown",
   "metadata": {},
   "source": [
    "Provider issues with Proximus"
   ]
  },
  {
   "cell_type": "code",
   "execution_count": 266,
   "metadata": {},
   "outputs": [],
   "source": [
    "contents= f\"\"\"\n",
    "\n",
    "{provider} is a service provider of {COMPANY}. {provider} has these {provider_departments}.\n",
    "\n",
    "Write some tailored emails based on the role of {random_employee['role']} about an issue that {provider} have with {COMPANY}. \n",
    "\n",
    "The issue is {random_issue} and is related to {random_employee['role']}. Elaborate about the issue. \n",
    "\n",
    "\"\"\"\n",
    "\n",
    "response = client.models.generate_content(\n",
    "    model=MODEL, config=config, contents=contents)\n",
    "\n"
   ]
  },
  {
   "cell_type": "code",
   "execution_count": 267,
   "metadata": {},
   "outputs": [
    {
     "data": {
      "text/plain": [
       "'[\\n  {\\n    \"subject\": \"Urgent: Project Delays Impacting Marketing Initiatives\",\\n    \"addressing_the_receiver\": \"Dear Emma Wouters,\",\\n    \"body\": \"I hope this email finds you well. I\\'m reaching out to address a critical concern regarding the recent delays in the Tech Hub project. These missed deadlines are directly impacting our marketing initiatives, causing setbacks in our campaign launches and overall marketing strategy. Your immediate attention to this matter is crucial to mitigate further disruptions. Please review the project timeline and resource allocation by clicking the link below. We need to quickly realign our plans to get back on track.\",\\n    \"email_sign_fullname\": \"Rajesh Kumar\",\\n    \"email_sign_role\": \"Project Manager\",\\n    \"email_sign_company\": \"Tech Mahindra\",\\n     \"call_to_action_text\": \"Review Now\"\\n  },\\n    {\\n    \"subject\": \"Action Required: Tech Hub Project Timeline Issues\",\\n    \"addressing_the_receiver\": \"Dear Emma Wouters,\",\\n    \"body\": \"I am writing to you today regarding the Tech Hub project and its impact on the Marketing Department. We are facing significant delays that are preventing us from effectively executing our marketing plans. These delays are affecting campaign deadlines and our ability to meet key objectives. It\\'s imperative that we resolve this promptly to avoid any further negative impact. Please click below to view the revised timeline and understand the new constraints we are facing and what we can do to improve the situation.\",\\n        \"email_sign_fullname\": \"Rajesh Kumar\",\\n    \"email_sign_role\": \"Project Manager\",\\n    \"email_sign_company\": \"Tech Mahindra\",\\n        \"call_to_action_text\": \"View Details\"\\n  },\\n  {\\n    \"subject\": \"Critical: Tech Hub Project Delay - Marketing Impact\",\\n    \"addressing_the_receiver\": \"Dear Emma Wouters,\",\\n    \"body\": \"I hope this message finds you in good health. I am contacting you to address the ongoing delays with the Tech Hub project which are starting to cause considerable challenges for our Marketing Department. The missed deadlines are directly affecting our ability to launch marketing campaigns effectively, which leads to a major setback in our marketing strategy. It is crucial that we take immediate steps to mitigate these issues. Please access the link provided below to review the detailed project updates and necessary adjustments that need to be implemented.\",\\n        \"email_sign_fullname\": \"Rajesh Kumar\",\\n    \"email_sign_role\": \"Project Manager\",\\n    \"email_sign_company\": \"Tech Mahindra\",\\n        \"call_to_action_text\": \"Check Now\"\\n  }]'"
      ]
     },
     "execution_count": 267,
     "metadata": {},
     "output_type": "execute_result"
    }
   ],
   "source": [
    "response_llm = response.text\n",
    "repair_json_response(response_llm)"
   ]
  },
  {
   "cell_type": "code",
   "execution_count": 268,
   "metadata": {},
   "outputs": [
    {
     "name": "stdout",
     "output_type": "stream",
     "text": [
      "JSON data has been successfully written to 'emails_provider_issue.json'.\n"
     ]
    },
    {
     "data": {
      "text/plain": [
       "True"
      ]
     },
     "execution_count": 268,
     "metadata": {},
     "output_type": "execute_result"
    }
   ],
   "source": [
    "save_json_from_string(response_llm, 'emails_provider_issue.json')"
   ]
  },
  {
   "cell_type": "markdown",
   "metadata": {},
   "source": [
    "**Internal Emails Proximus**"
   ]
  },
  {
   "cell_type": "code",
   "execution_count": null,
   "metadata": {},
   "outputs": [],
   "source": []
  },
  {
   "cell_type": "markdown",
   "metadata": {},
   "source": [
    "**3. BLENDING DATA IN HTML**"
   ]
  },
  {
   "cell_type": "code",
   "execution_count": 269,
   "metadata": {},
   "outputs": [],
   "source": [
    "\n",
    "fake_link = \"https://example.com/secure-login\"\n",
    "logo = \"https://encrypted-tbn0.gstatic.com/images?q=tbn:ANd9GcTSGEPQPSgVcETmtsfevb9aZp2LTlYOcy1mAm8xD0FROr4oMWA-xuO6vEV6v3Igwpr7tS8&usqp=CAU\""
   ]
  },
  {
   "cell_type": "code",
   "execution_count": 270,
   "metadata": {},
   "outputs": [],
   "source": [
    "\n",
    "with open('blended_data_providers.json', 'r') as file:\n",
    "    data = json.load(file)\n",
    "\n",
    "# If I don't know the provider name so, I have to loop over them.\n",
    "for provider_data in data.values():\n",
    "    general_info = provider_data.get('general', {})\n",
    "    provider = general_info.get('provider') or 'BICS'\n",
    "    departments = provider_data.get('departments', [])\n",
    "    address = (departments[0].get('address') if departments else None) or 'Boulevard du Roi Albert II, 27, B-1030 Brussels, Belgium'\n",
    "    color_info = provider_data.get('color', {})\n",
    "    color_name = color_info.get('rgb_code_1') or '[28, 151, 212]'  #################### I am suggesting to write \"light\" before the color name to avoid sight harm ####\n",
    "    color_name = f\"rgb{tuple(color_name)}\" if isinstance(color_name, list) else color_name\n",
    "    phone = (departments[0].get('phone') if departments else None) or '+32 2 547 52 10'\n",
    "    vat = (departments[0].get('vat') if departments else None) or 'BE 0866 977 981'\n",
    "\n"
   ]
  },
  {
   "cell_type": "code",
   "execution_count": 271,
   "metadata": {},
   "outputs": [],
   "source": [
    "with open(\"emails_employee_event.json\", \"r\", encoding=\"utf-8\") as file:\n",
    "    email_data = json.load(file)\n",
    "\n",
    "# Iterate through each dictionary in the list\n",
    "for email in email_data:\n",
    "    subject =  email[\"subject\"]\n",
    "    email_body = email[\"body\"]\n",
    "    sender_name = email[\"email_sign_fullname\"]\n",
    "    sender_role = email[\"email_sign_role\"]\n",
    "    company_name = email[\"email_sign_company\"]\n",
    "    receiver_name = email[\"addressing_the_receiver\"]                ### This can be removed If we have the list of the recivers\n",
    "    cta = email[\"call_to_action_text\"]\n",
    "    \n",
    "    \n",
    "    # for reciver in receiver_employee:  #------> check how many receiver you prefere\n",
    "    #     \"\"\" Here we can extract the data for the reciver later as done for the sender\"\"\"\n",
    "    html_content = f\"\"\"\n",
    "                    <!DOCTYPE html>\n",
    "                    <html lang=\"en\">\n",
    "                    <head>\n",
    "                        <meta charset=\"UTF-8\">\n",
    "                        <meta name=\"viewport\" content=\"width=device-width, initial-scale=1.0\">\n",
    "                        <title>{subject}</title>\n",
    "                        <style>\n",
    "                            body {{\n",
    "                                font-family: Arial, sans-serif;\n",
    "                                background-color: #f4f4f4;\n",
    "                                margin: 0;\n",
    "                                padding: 0;\n",
    "                            }}\n",
    "                            .email-container {{\n",
    "                                width: 600px;\n",
    "                                margin: 20px auto;\n",
    "                                background-color: #fff;\n",
    "                                border: 1px solid #ddd;\n",
    "                                border-radius: 10px;\n",
    "                                padding: 20px;\n",
    "                            }}\n",
    "                            .email-header {{\n",
    "                                background-color: {color_name};\n",
    "                                color: #fff;\n",
    "                                padding: 10px 0;\n",
    "                                text-align: center;\n",
    "                            }}\n",
    "                            .email-header img {{\n",
    "                                width: 120px;\n",
    "                                margin-bottom: 10px;\n",
    "                            }}\n",
    "                            .email-header h1 {{\n",
    "                                font-size: 24px;\n",
    "                                font-weight: bold;\n",
    "                                margin: 0;\n",
    "                            }}\n",
    "                            .email-content {{\n",
    "                                font-size: 16px;\n",
    "                                color: #333;\n",
    "                                margin-top: 20px;\n",
    "                            }}\n",
    "                            .cta-button {{\n",
    "                                display: inline-block;\n",
    "                                padding: 10px 20px;\n",
    "                                background-color: {color_name};\n",
    "                                color: white;\n",
    "                                text-align: center;\n",
    "                                font-weight: bold;\n",
    "                                border-radius: 5px;\n",
    "                                text-decoration: none;\n",
    "                                margin-top: 20px;\n",
    "                            }}\n",
    "                            .cta-button:hover {{\n",
    "                                background-color: {color_name};\n",
    "                            }}\n",
    "                            .email-footer {{\n",
    "                                font-size: 14px;\n",
    "                                color: #777;\n",
    "                                text-align: center;\n",
    "                                margin-top: 20px;\n",
    "                                border-top: 1px solid #ddd;\n",
    "                                padding-top: 20px;\n",
    "                            }}\n",
    "                            .email-footer a {{\n",
    "                                color: {color_name};\n",
    "                                text-decoration: none;\n",
    "                            }}\n",
    "                            .social-icons {{\n",
    "                                margin-top: 10px;\n",
    "                                text-align: center;\n",
    "                            }}\n",
    "                            .social-icons a {{\n",
    "                                margin: 0 10px;\n",
    "                                display: inline-block;\n",
    "                            }}\n",
    "                            .social-icons img {{\n",
    "                                width: 24px;\n",
    "                                height: 24px;\n",
    "                            }}\n",
    "                            .additional-footer {{\n",
    "                                font-size: 12px;\n",
    "                                color: #333;\n",
    "                                background-color: #d3d3d3; /* Gray background color */\n",
    "                                text-align: center;\n",
    "                                padding: 10px;\n",
    "                                border-top: 1px solid #ccc;\n",
    "                                border-radius: 0 0 10px 10px;\n",
    "                                margin-top: 10px;\n",
    "                            }}\n",
    "                        </style>\n",
    "                    </head>\n",
    "                    <body>\n",
    "                        <div class=\"email-container\">\n",
    "                            <div class=\"email-header\">\n",
    "                                <img src=\"{logo}\" alt=\"{provider} Logo\">    \n",
    "                                <h1>{subject}</h1>\n",
    "                            </div>\n",
    "\n",
    "                            <div class=\"email-content\">\n",
    "                                <h2>{receiver_name}</h2>\n",
    "                                <p>{email_body}</p>  <!-- Use the dynamically generated email body here -->\n",
    "                                <a href=\"{fake_link}\" class=\"cta-button\">{cta}</a>\n",
    "                                \n",
    "                                <!-- Signature Directly Integrated -->\n",
    "                                <p style=\"margin-top: 20px;\">Best regards,</p>\n",
    "                                <p style=\"margin: 5px 0;\"><strong>{sender_name}</strong></p>\n",
    "                                <p style=\"margin: 5px 0;\">{sender_role}</p>\n",
    "                                <p style=\"margin: 5px 0;\">{company_name}</p>\n",
    "                            </div>\n",
    "\n",
    "                            <div class=\"email-footer\">\n",
    "                                <p><strong>{sender_role}</strong></p>\n",
    "                                <p>Email: support@{provider.lower().replace(' ', '')}.be | Phone: {phone}</p>\n",
    "                                <p>Visit our website: <a href=\"{fake_link}\">www.{provider.lower().replace(' ', '')}.com</a></p>\n",
    "\n",
    "                                <div class=\"social-icons\">\n",
    "                                    <a href={fake_link}>\n",
    "                                        <img src=\"https://upload.wikimedia.org/wikipedia/commons/5/51/Facebook_f_logo_%282019%29.svg\" alt=\"Facebook\">\n",
    "                                    </a>\n",
    "                                    <a href={fake_link}>\n",
    "                                        <img src=\"https://www.svgrepo.com/show/452123/twitter.svg\" alt=\"Twitter\">\n",
    "                                    </a>\n",
    "                                    <a href={fake_link}>\n",
    "                                        <img src=\"https://upload.wikimedia.org/wikipedia/commons/e/e9/Linkedin_icon.svg\" alt=\"LinkedIn\">\n",
    "                                    </a>\n",
    "                                </div>\n",
    "                            </div>\n",
    "\n",
    "                            <div class=\"additional-footer\">\n",
    "                                <p>Please be aware that this email and its links include data about your individual profile. \n",
    "                                In order to avoid that third parties can access your personal data, \n",
    "                                you should not forward this email and the links contained in it.</p>\n",
    "                                <p><strong>© 2025 The {provider} Belgium n.v./s.a.</strong></p>\n",
    "                                <p>{address}<br>KBO/BCE {vat} (RPR/RPM Brussel/Bruxelles)</p>\n",
    "                                <p>\n",
    "                                    <a href={fake_link}>Terms of use</a> - \n",
    "                                    <a href={fake_link}>Privacy policy</a> - \n",
    "                                    <a href={fake_link}>Contact us</a>\n",
    "                                </p>\n",
    "\n",
    "                                <!-- Container for logo and QR code -->\n",
    "                                <div class=\"unsubscribe-container\" style=\"text-align: center; margin-top: 20px; font-size: 12px; color: #555;\">\n",
    "                                    <p>If you no longer wish to receive notifications, you can \n",
    "                                        <a href=\"{fake_link}\" style=\"color: #007BFF; text-decoration: none;\">unsubscribe here</a>.\n",
    "                                    </p>\n",
    "                                </div>\n",
    "                            </div>\n",
    "                        </div>\n",
    "                    </body>\n",
    "\n",
    "                    \"\"\"\n",
    "\n",
    "    # Save the HTML file\n",
    "    os.makedirs('samples', exist_ok=True)\n",
    "    sanitized_subject = re.sub(r'[\\/:*?\"<>|]', '_', subject)\n",
    "    filename = f\"{receiver_name}_phishing_email_{sanitized_subject}.html\"\n",
    "    file_path = os.path.join('samples', filename)\n",
    "\n",
    "    # Save the HTML file\n",
    "    with open(file_path, \"w\", encoding=\"utf-8\") as file:\n",
    "        file.write(html_content)"
   ]
  },
  {
   "cell_type": "markdown",
   "metadata": {},
   "source": []
  },
  {
   "cell_type": "markdown",
   "metadata": {},
   "source": [
    "**4. SENDING MAILS TO GOPHISH**"
   ]
  },
  {
   "cell_type": "markdown",
   "metadata": {},
   "source": []
  }
 ],
 "metadata": {
  "kernelspec": {
   "display_name": "prox_Moustafa",
   "language": "python",
   "name": "python3"
  },
  "language_info": {
   "codemirror_mode": {
    "name": "ipython",
    "version": 3
   },
   "file_extension": ".py",
   "mimetype": "text/x-python",
   "name": "python",
   "nbconvert_exporter": "python",
   "pygments_lexer": "ipython3",
   "version": "3.12.4"
  }
 },
 "nbformat": 4,
 "nbformat_minor": 2
}
