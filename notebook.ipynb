{
 "cells": [
  {
   "cell_type": "code",
   "execution_count": 209,
   "metadata": {},
   "outputs": [
    {
     "name": "stdout",
     "output_type": "stream",
     "text": [
      "I am a large language model, trained by Google.\n",
      "\n"
     ]
    }
   ],
   "source": [
    "import os\n",
    "from google.genai.types import GenerateContentConfig, Tool\n",
    "import json\n",
    "import re\n",
    "import random as rd\n",
    "from datetime import datetime, timedelta\n",
    "from gophish import Gophish\n",
    "from gophish.models import Template, Page, SMTP, User, Group, Campaign\n",
    "import time\n",
    "\n",
    "# Load environment variables from the .env file\n",
    "load_dotenv()\n",
    "\n",
    "# Retrieve the API key from the .env file\n",
    "api_key = os.getenv('GEMINI_API_KEY')\n",
    "\n",
    "# Initialize the Google AI client\n",
    "client = genai.Client(api_key=api_key)\n",
    "\n",
    "# Generate content\n",
    "response = client.models.generate_content(\n",
    "    model='gemini-2.0-flash-exp', contents='What is your name?'\n",
    ")\n",
    "print(response.text)\n",
    "\n",
    "\n"
   ]
  },
  {
   "cell_type": "markdown",
   "metadata": {},
   "source": [
    "*Function to extract Json of LLm output and save it to a file*"
   ]
  },
  {
   "cell_type": "code",
   "execution_count": 210,
   "metadata": {},
   "outputs": [],
   "source": [
    "def save_json_from_string(input_string, output_filename):\n",
    "    \"\"\"\n",
    "    Extracts JSON content from a string and saves it to a JSON file with the specified name.\n",
    "\n",
    "    :param input_string: The input string containing JSON data within brackets.\n",
    "    :param output_filename: The name of the output JSON file (e.g., \"data.json\").\n",
    "    :return: True if the operation was successful, False otherwise.\n",
    "    \"\"\"\n",
    "    # Step 1: Extract the JSON content within the brackets\n",
    "    result = re.search(r'\\[.*\\]', input_string, re.DOTALL)\n",
    "\n",
    "    if result:\n",
    "        extracted_content = result.group(0)  # Get the matched content\n",
    "\n",
    "        try:\n",
    "            # Step 2: Parse the extracted content into a Python object (list/dict)\n",
    "            json_data = json.loads(extracted_content)\n",
    "\n",
    "            # Step 3: Write the JSON data to a file\n",
    "            with open(output_filename, \"w\", encoding=\"utf-8\") as json_file:\n",
    "                json.dump(json_data, json_file, indent=4)  # Save with pretty formatting\n",
    "\n",
    "            print(f\"JSON data has been successfully written to '{output_filename}'.\")\n",
    "            return True  # Operation was successful\n",
    "        except json.JSONDecodeError as e:\n",
    "            print(f\"Error parsing JSON: {e}\")\n",
    "        except Exception as e:\n",
    "            print(f\"An error occurred while writing the file: {e}\")\n",
    "    else:\n",
    "        print(\"No content found within brackets.\")\n",
    "\n",
    "    return False  # Operation failed"
   ]
  },
  {
   "cell_type": "code",
   "execution_count": 211,
   "metadata": {},
   "outputs": [],
   "source": [
    "MODEL = \"gemini-2.0-flash-exp\""
   ]
  },
  {
   "cell_type": "code",
   "execution_count": 212,
   "metadata": {},
   "outputs": [],
   "source": [
    "\n",
    "COMPANY = 'Proximus'"
   ]
  },
  {
   "cell_type": "code",
   "execution_count": 213,
   "metadata": {},
   "outputs": [],
   "source": [
    "safety_settings = [\n",
    "    {\"category\": \"HARM_CATEGORY_HARASSMENT\", \"threshold\": \"BLOCK_NONE\"},\n",
    "    {\"category\": \"HARM_CATEGORY_HATE_SPEECH\", \"threshold\": \"BLOCK_NONE\"},\n",
    "    {\"category\": \"HARM_CATEGORY_SEXUALLY_EXPLICIT\", \"threshold\": \"BLOCK_NONE\"},\n",
    "    {\"category\": \"HARM_CATEGORY_DANGEROUS_CONTENT\", \"threshold\": \"BLOCK_NONE\"},\n",
    "]"
   ]
  },
  {
   "cell_type": "markdown",
   "metadata": {},
   "source": [
    "**1. SETTING UP A RESEARCH ASSISTANT** (temperature = 0, tools = google search)"
   ]
  },
  {
   "cell_type": "code",
   "execution_count": 214,
   "metadata": {},
   "outputs": [],
   "source": [
    "system_instruction = \"\"\"You are an analyst that conducts company research.\n",
    "You are given a company name, and you will work on a company report. You have access\n",
    "to Google Search to look up company news, updates, metrics, public records and linkedin pages to write research reports.\n",
    "\n",
    "When given a company name, identify key aspects to research, look up that information\n",
    "and then write an elaborate company report. \n",
    "\n",
    "Focus on Belgian companies.\n",
    "\n",
    "Thoroughly plan your work in detail and steps, but avoid discussing it. Do not add any additional comments after finishing the report.\"\"\""
   ]
  },
  {
   "cell_type": "code",
   "execution_count": 215,
   "metadata": {},
   "outputs": [],
   "source": [
    "config = GenerateContentConfig(system_instruction=system_instruction, tools=[Tool(google_search={})], temperature=0,maxOutputTokens=8000, top_p=0.9, top_k=5, safety_settings=safety_settings)"
   ]
  },
  {
   "cell_type": "markdown",
   "metadata": {},
   "source": [
    "**Proximus News report**"
   ]
  },
  {
   "cell_type": "code",
   "execution_count": 216,
   "metadata": {},
   "outputs": [],
   "source": [
    "contents = f\"\"\"\n",
    "Write a report about {COMPANY}.\n",
    "\n",
    "The report should contain an extensive overview of the most important news facts of the last 2 weeks. \n",
    "\n",
    "The report should be written in this style example:\n",
    "\n",
    "Use this JSON schema:\n",
    "\n",
    "Proximus_news = {{'subject':str, 'overview':str, 'source':str}}\n",
    "Return: list[Proximus_news]\n",
    "\"\"\"\n",
    "\n",
    "response = client.models.generate_content(\n",
    "    model=MODEL, config=config, contents=contents)\n",
    "\n"
   ]
  },
  {
   "cell_type": "code",
   "execution_count": 217,
   "metadata": {},
   "outputs": [
    {
     "name": "stdout",
     "output_type": "stream",
     "text": [
      "JSON data has been successfully written to 'proximus_news.json'.\n"
     ]
    },
    {
     "data": {
      "text/plain": [
       "True"
      ]
     },
     "execution_count": 217,
     "metadata": {},
     "output_type": "execute_result"
    }
   ],
   "source": [
    "save_json_from_string(response.text, 'proximus_news.json')"
   ]
  },
  {
   "cell_type": "markdown",
   "metadata": {},
   "source": [
    "**Proximus Key Employees and Roles**"
   ]
  },
  {
   "cell_type": "code",
   "execution_count": 218,
   "metadata": {},
   "outputs": [],
   "source": [
    "contents = f\"\"\"\n",
    "Write a report about {COMPANY}\n",
    "\n",
    "The report should only contain a comprehensive summary of the employees in the company. \n",
    "\n",
    "The report should contain, the complete first name and family name, an email address with this structure \"first name.family name@{COMPANY}.be\" (put it all in lower case), the role that they have within the company and the department that they make part of.\n",
    "\n",
    "Do not include abbreviations in names, and exclude employees whose full first and last names cannot be found.\n",
    "\n",
    "Give me as much grounded names that you can find with your research and put them all in the report.\n",
    "\n",
    "The report should be written in this style example:\n",
    "\n",
    "Use this JSON schema:\n",
    "\n",
    "Proximus_employees = {{'first_name':str, 'family_name':str, 'role':str, 'department':str, 'email_address':str}}\n",
    "Return: list[Proximus_employees]\n",
    "\"\"\"\n",
    "\n",
    "response = client.models.generate_content(\n",
    "    model=MODEL, config=config, contents=contents)\n"
   ]
  },
  {
   "cell_type": "code",
   "execution_count": 219,
   "metadata": {},
   "outputs": [
    {
     "name": "stdout",
     "output_type": "stream",
     "text": [
      "JSON data has been successfully written to 'proximus_employees.json'.\n"
     ]
    },
    {
     "data": {
      "text/plain": [
       "True"
      ]
     },
     "execution_count": 219,
     "metadata": {},
     "output_type": "execute_result"
    }
   ],
   "source": [
    "save_json_from_string(response.text, 'proximus_employees.json')"
   ]
  },
  {
   "cell_type": "markdown",
   "metadata": {},
   "source": [
    "**Proximus Departments**"
   ]
  },
  {
   "cell_type": "code",
   "execution_count": 220,
   "metadata": {},
   "outputs": [],
   "source": [
    "contents = f\"\"\"\n",
    "\n",
    "Write a report about {COMPANY}\n",
    "\n",
    "The report should exclusively provide a detailed summary of the company's departments and their respective subdivisions, if any.\n",
    "\n",
    "Include in the report the full address where the headquarter of the provider is located, the main phone number and vat number.\n",
    "\n",
    "Do not include abbreviations in the report.\n",
    "\n",
    "Provide a detailed list, specifying only verified and public information. Do not include speculative or incomplete details.\n",
    "\n",
    "The report should be written in this style example:\n",
    "\n",
    "Use this JSON schema:\n",
    "\n",
    "Proximus_departments = {{'department':str, 'subdivision':list[str], 'address':str, 'phone':str, 'vat':str}}\n",
    "Return: list[Proximus_departments]\n",
    "\"\"\"\n",
    "\n",
    "response = client.models.generate_content(\n",
    "    model=MODEL, config=config, contents=contents)\n"
   ]
  },
  {
   "cell_type": "code",
   "execution_count": 221,
   "metadata": {},
   "outputs": [
    {
     "name": "stdout",
     "output_type": "stream",
     "text": [
      "JSON data has been successfully written to 'proximus_departments.json'.\n"
     ]
    },
    {
     "data": {
      "text/plain": [
       "True"
      ]
     },
     "execution_count": 221,
     "metadata": {},
     "output_type": "execute_result"
    }
   ],
   "source": [
    "save_json_from_string(response.text, 'proximus_departments.json')"
   ]
  },
  {
   "cell_type": "markdown",
   "metadata": {},
   "source": [
    "**Proximus Colors**"
   ]
  },
  {
   "cell_type": "code",
   "execution_count": 222,
   "metadata": {},
   "outputs": [],
   "source": [
    "contents = f\"\"\"\n",
    "\n",
    "Write a report about {COMPANY}\n",
    "\n",
    "The report should exclusively provide the main colors of Company's branding, including any official color codes such as HEX or RGB. Focus on the primary colors used in the company's logo and website.\n",
    "\n",
    "Do not include speculative colors and focus only on the main ones.\n",
    "\n",
    "The report should be written in this style example:\n",
    "\n",
    "Use this JSON schema:\n",
    "\n",
    "company_colors = {{'color_name_1':str, 'hex_code_1':str, 'rgb_code_1':list[int]}},{{'color_name_2':str,'hex_code_2':str,'rgb_code_2':list[int]}}\n",
    "Return: list[company_colors]\n",
    "\n",
    "Thoroughly plan your work in detail and steps, but avoid discussing it. Do not add any additional comments after finishing the report.\n",
    "\"\"\"\n",
    "\n",
    "\n",
    "response = client.models.generate_content(\n",
    "    model=MODEL, config=config, contents=contents)\n",
    "\n"
   ]
  },
  {
   "cell_type": "code",
   "execution_count": 223,
   "metadata": {},
   "outputs": [
    {
     "name": "stdout",
     "output_type": "stream",
     "text": [
      "JSON data has been successfully written to 'proximus_colors.json'.\n"
     ]
    },
    {
     "data": {
      "text/plain": [
       "True"
      ]
     },
     "execution_count": 223,
     "metadata": {},
     "output_type": "execute_result"
    }
   ],
   "source": [
    "save_json_from_string(response.text, 'proximus_colors.json')"
   ]
  },
  {
   "cell_type": "markdown",
   "metadata": {},
   "source": [
    "**Proximus Service providers**"
   ]
  },
  {
   "cell_type": "markdown",
   "metadata": {},
   "source": [
    "Picking a particular type of service provider"
   ]
  },
  {
   "cell_type": "code",
   "execution_count": 224,
   "metadata": {},
   "outputs": [],
   "source": [
    "type_service = [\n",
    "    \"Infrastructure and maintenance\",\n",
    "    \"Technology and equipment supply\",\n",
    "    \"Network and connectivity services\",\n",
    "    \"Customer support\",\n",
    "    \"Billing and payments\",\n",
    "    \"Cloud and data hosting\",\n",
    "    \"Marketing and advertising\",\n",
    "    \"Consulting\",\n",
    "    \"Research and innovation\"\n",
    "]"
   ]
  },
  {
   "cell_type": "code",
   "execution_count": 225,
   "metadata": {},
   "outputs": [
    {
     "name": "stdout",
     "output_type": "stream",
     "text": [
      "Consulting\n"
     ]
    }
   ],
   "source": [
    "random_service=rd.choice(type_service)\n",
    "print(random_service)"
   ]
  },
  {
   "cell_type": "code",
   "execution_count": 226,
   "metadata": {},
   "outputs": [],
   "source": [
    "contents = f\"\"\"\n",
    "\n",
    "Write a report about {COMPANY}\n",
    "\n",
    "List the main Belgian service providers of the company. Include any known suppliers, contractors, technology service providers, or any other third-party companies that the company relies on. \n",
    "Provide the names of the service providers, type and description of the services they provide to the company. Also include the providers homepage in the report, if you can't find it, don not include the provider in the report. \n",
    "\n",
    "The service provider needs to be active in delivering {random_service} to {COMPANY}\n",
    "\n",
    "The report should be written in this style example:\n",
    "\n",
    "Use this JSON schema:\n",
    "\n",
    "company_service = {{\"provider\":str,\"service\":str,\"type\":str,\"provider_homepage\":str]}}\n",
    "Return: list[company_service]\n",
    "\"\"\"\n",
    "\n",
    "response = client.models.generate_content(\n",
    "    model=MODEL, config=config, contents=contents)\n",
    "\n"
   ]
  },
  {
   "cell_type": "code",
   "execution_count": 227,
   "metadata": {},
   "outputs": [
    {
     "name": "stdout",
     "output_type": "stream",
     "text": [
      "JSON data has been successfully written to 'proximus_providers.json'.\n"
     ]
    },
    {
     "data": {
      "text/plain": [
       "True"
      ]
     },
     "execution_count": 227,
     "metadata": {},
     "output_type": "execute_result"
    }
   ],
   "source": [
    "save_json_from_string(response.text, 'proximus_providers.json')"
   ]
  },
  {
   "cell_type": "markdown",
   "metadata": {},
   "source": [
    "**Merge the proximus data**"
   ]
  },
  {
   "cell_type": "code",
   "execution_count": 228,
   "metadata": {},
   "outputs": [
    {
     "name": "stdout",
     "output_type": "stream",
     "text": [
      "Data successfully merged into blended_data_proximus.json\n"
     ]
    }
   ],
   "source": [
    "\n",
    "# File paths for input and output\n",
    "input_files = {\n",
    "    \"colors\": \"proximus_colors.json\",\n",
    "    \"departments\": \"proximus_departments.json\",\n",
    "    \"employees\": \"proximus_employees.json\",\n",
    "    \"news\": \"proximus_news.json\",\n",
    "    \"providers\": \"proximus_providers.json\"\n",
    "}\n",
    "output_file = \"blended_data_proximus.json\"\n",
    "\n",
    "# Combine all data into one dictionary\n",
    "blended_data = {}\n",
    "\n",
    "for key, file_path in input_files.items():\n",
    "    with open(file_path, 'r') as f:\n",
    "        blended_data[key] = json.load(f)\n",
    "\n",
    "# Write the combined data to a new JSON file\n",
    "with open(output_file, 'w') as f:\n",
    "    json.dump(blended_data, f, indent=4)\n",
    "\n",
    "print(f\"Data successfully merged into {output_file}\")"
   ]
  },
  {
   "cell_type": "markdown",
   "metadata": {},
   "source": [
    "**Providers info** (Proceed with one Provider)"
   ]
  },
  {
   "cell_type": "code",
   "execution_count": 229,
   "metadata": {},
   "outputs": [],
   "source": [
    "# Load JSON data from the file\n",
    "with open(\"proximus_providers.json\", \"r\") as file:\n",
    "    providers = json.load(file)"
   ]
  },
  {
   "cell_type": "code",
   "execution_count": 230,
   "metadata": {},
   "outputs": [],
   "source": [
    "# Function to pick a random provider\n",
    "def pick_random_provider(providers):\n",
    "    if not providers:\n",
    "        return None  # Handle the case where the list is empty\n",
    "    return rd.choice(providers)"
   ]
  },
  {
   "cell_type": "code",
   "execution_count": 231,
   "metadata": {},
   "outputs": [
    {
     "name": "stdout",
     "output_type": "stream",
     "text": [
      "{'provider': 'Proximus NXT', 'service': 'Support for digital transformation, cloud adoption, and IT development.', 'type': 'IT Consulting', 'provider_homepage': 'https://www.proximusnxt.be/'}\n"
     ]
    }
   ],
   "source": [
    "provider = pick_random_provider(providers)\n",
    "\n",
    "print(provider)"
   ]
  },
  {
   "cell_type": "code",
   "execution_count": 232,
   "metadata": {},
   "outputs": [
    {
     "name": "stdout",
     "output_type": "stream",
     "text": [
      "Data saved to provider_general_data.json\n"
     ]
    }
   ],
   "source": [
    "provider = [provider]\n",
    "file_path = 'provider_general_data.json'\n",
    "\n",
    "# Write the data to the JSON file\n",
    "with open(file_path, 'w') as json_file:\n",
    "    json.dump(provider, json_file, indent=4)\n",
    "\n",
    "print(f'Data saved to {file_path}')"
   ]
  },
  {
   "cell_type": "markdown",
   "metadata": {},
   "source": [
    "**Provider Key Employees and Roles**"
   ]
  },
  {
   "cell_type": "code",
   "execution_count": 233,
   "metadata": {},
   "outputs": [],
   "source": [
    "contents = f\"\"\"\n",
    "    Write a report about company {provider}. This company is a provider of {COMPANY}\n",
    "\n",
    "    The report should only contain a comprehensive summary of the employees in the company.\n",
    "\n",
    "    The report should contain, the complete first name and family name, an email address with this structure \"first name.family name@{provider}.be\" (put it all in lower case), the role that they have within the company and the department that they make part of.\n",
    "\n",
    "    Do not include abbreviations in names, and exclude employees whose full first and last names cannot be found. Make sure the first and the last name contains more then 2 characters. Do not include employees of {COMPANY} in the report.\n",
    "\n",
    "    Give me as much grounded names that you can find with your research and put them all in the report.\n",
    "\n",
    "    The report should be written in this style example:\n",
    "\n",
    "    Use this JSON schema:\n",
    "\n",
    "    Employees = {{'provider': str, 'first_name': str, 'family_name': str, 'role': str, 'department': str, 'email_address':str}}\n",
    "    Return: list[Employees]\n",
    "    \"\"\"\n",
    "    \n",
    "response = client.models.generate_content(\n",
    "    model=MODEL, config=config, contents=contents)\n",
    "\n",
    "\n",
    "    "
   ]
  },
  {
   "cell_type": "code",
   "execution_count": 234,
   "metadata": {},
   "outputs": [
    {
     "name": "stdout",
     "output_type": "stream",
     "text": [
      "JSON data has been successfully written to 'provider_employees.json'.\n"
     ]
    },
    {
     "data": {
      "text/plain": [
       "True"
      ]
     },
     "execution_count": 234,
     "metadata": {},
     "output_type": "execute_result"
    }
   ],
   "source": [
    "save_json_from_string(response.text, 'provider_employees.json')"
   ]
  },
  {
   "cell_type": "markdown",
   "metadata": {},
   "source": [
    "**Provider Colors**"
   ]
  },
  {
   "cell_type": "code",
   "execution_count": 235,
   "metadata": {},
   "outputs": [],
   "source": [
    "\n",
    "contents = f\"\"\"\n",
    "\n",
    "    Write a report about company {provider}. This company is a provider of {COMPANY}\n",
    "\n",
    "    The report should exclusively provide the main colors of Company's branding, including any official color codes such as HEX or RGB. Focus on the primary colors used in the company's logo and website.\n",
    "\n",
    "    Do not include speculative colors and focus only on the main ones.\n",
    "\n",
    "    The report should be written in this style example:\n",
    "\n",
    "    Use this JSON schema:\n",
    "\n",
    "    company_colors = {{'provider':str,'color_name_1':str, 'hex_code_1':str, 'rgb_code_1':list[int]}},{{'color_name_2':str,'hex_code_2':str,'rgb_code_2':list[int]}}\n",
    "    Return: list[company_colors]\n",
    "\n",
    "    Thoroughly plan your work in detail and steps, but avoid discussing it. Do not add any additional comments after finishing the report.\n",
    "    \"\"\"\n",
    "\n",
    "\n",
    "response = client.models.generate_content(\n",
    "        model=MODEL, config=config, contents=contents)\n",
    "\n"
   ]
  },
  {
   "cell_type": "code",
   "execution_count": 236,
   "metadata": {},
   "outputs": [
    {
     "name": "stdout",
     "output_type": "stream",
     "text": [
      "JSON data has been successfully written to 'provider_color.json'.\n"
     ]
    },
    {
     "data": {
      "text/plain": [
       "True"
      ]
     },
     "execution_count": 236,
     "metadata": {},
     "output_type": "execute_result"
    }
   ],
   "source": [
    "save_json_from_string(response.text, 'provider_color.json')"
   ]
  },
  {
   "cell_type": "markdown",
   "metadata": {},
   "source": [
    "**Provider Departments**"
   ]
  },
  {
   "cell_type": "code",
   "execution_count": 237,
   "metadata": {},
   "outputs": [],
   "source": [
    "contents = f\"\"\"\n",
    "\n",
    "Write a report about company {provider}. This company is a provider of {COMPANY}\n",
    "\n",
    "The report should exclusively provide a detailed summary of the company's departments and their respective subdivisions, if any.\n",
    "\n",
    "Include in the report the full address where the headquarter of the provider is located, the main phone number and vat number.\n",
    "\n",
    "Do not include abbreviations in the report.\n",
    "\n",
    "Provide a detailed list, specifying only verified and public information. Do not include speculative or incomplete details.\n",
    "\n",
    "The report should be written in this style example:\n",
    "\n",
    "Use this JSON schema:\n",
    "\n",
    "Provider_departments = {{'provider':str,'department':str, 'subdivision':list[str],'address':str, 'phone':str, 'vat':str}}\n",
    "Return: list[Provider_departments]\n",
    "\"\"\"\n",
    "\n",
    "response = client.models.generate_content(\n",
    "    model=MODEL, config=config, contents=contents)\n",
    "\n"
   ]
  },
  {
   "cell_type": "code",
   "execution_count": 238,
   "metadata": {},
   "outputs": [
    {
     "name": "stdout",
     "output_type": "stream",
     "text": [
      "JSON data has been successfully written to 'provider_departments.json'.\n"
     ]
    },
    {
     "data": {
      "text/plain": [
       "True"
      ]
     },
     "execution_count": 238,
     "metadata": {},
     "output_type": "execute_result"
    }
   ],
   "source": [
    "save_json_from_string(response.text, 'provider_departments.json')"
   ]
  },
  {
   "cell_type": "markdown",
   "metadata": {},
   "source": [
    "**Blend Data from Json files Providers**"
   ]
  },
  {
   "cell_type": "code",
   "execution_count": 239,
   "metadata": {},
   "outputs": [
    {
     "name": "stdout",
     "output_type": "stream",
     "text": [
      "Current working directory: c:\\Users\\Rik\\Desktop\\Proximus-Case-Team-4\n",
      "Data loaded from provider_general_data.json (Type: <class 'list'>): [{'provider': 'Proximus NXT', 'service': 'Support for digital transformation, cloud adoption, and IT development.', 'type': 'IT Consulting', 'provider_homepage': 'https://www.proximusnxt.be/'}]\n",
      "Data loaded from provider_employees.json (Type: <class 'list'>): [{'provider': 'Proximus NXT', 'first_name': 'Joris', 'family_name': 'Duysens', 'role': 'Head of Cloud', 'department': 'Cloud', 'email_address': 'joris.duysens@proximusnxt.be'}, {'provider': 'Proximus NXT', 'first_name': 'Yves', 'family_name': 'Maelfait', 'role': 'Data & AI Solution Sales Executive', 'department': 'Sales', 'email_address': 'yves.maelfait@proximusnxt.be'}, {'provider': 'Proximus NXT', 'first_name': 'Gregory', 'family_name': 'Gruber', 'role': 'Deputy Director OutSourcing & Cloud Services', 'department': 'Outsourcing & Cloud Services', 'email_address': 'gregory.gruber@proximusnxt.be'}, {'provider': 'Proximus NXT', 'first_name': 'Yashfeen', 'family_name': 'Saiyid', 'role': 'Data & AI Lead', 'department': 'Data & AI', 'email_address': 'yashfeen.saiyid@proximusnxt.be'}, {'provider': 'Proximus NXT', 'first_name': 'Anne-Sophie', 'family_name': 'Lotgering', 'role': 'CEO Proximus NXT IT and Corporate Segment Lead', 'department': 'Leadership', 'email_address': 'anne-sophie.lotgering@proximusnxt.be'}, {'provider': 'Proximus NXT', 'first_name': 'Christophe', 'family_name': 'Crous', 'role': 'Corporate Segment & Marketing Lead', 'department': 'Marketing', 'email_address': 'christophe.crous@proximusnxt.be'}, {'provider': 'Proximus NXT', 'first_name': 'David', 'family_name': 'Mobers', 'role': 'Product and Solutions Expert SDWAN', 'department': 'Solutions', 'email_address': 'david.mobers@proximusnxt.be'}, {'provider': 'Proximus NXT', 'first_name': 'Wilhelmine', 'family_name': 'Dubuisson', 'role': 'Solution sales Hybrid Cloud', 'department': 'Sales', 'email_address': 'wilhelmine.dubuisson@proximusnxt.be'}, {'provider': 'Proximus NXT', 'first_name': 'Cathérine', 'family_name': 'De Saedeleer', 'role': 'Head of Smart Network Solutions', 'department': 'Smart Network Solutions', 'email_address': 'catherine.desaedeleer@proximusnxt.be'}, {'provider': 'Proximus NXT', 'first_name': 'Kristof', 'family_name': 'Spriet', 'role': 'Smart Network Solutions Lead', 'department': 'Smart Network Solutions', 'email_address': 'kristof.spriet@proximusnxt.be'}, {'provider': 'Proximus NXT', 'first_name': 'Fabrice', 'family_name': 'De Windt', 'role': 'VP Strategic Account Services', 'department': 'Strategic Account Services', 'email_address': 'fabrice.dewindt@proximusnxt.be'}, {'provider': 'Proximus NXT', 'first_name': 'Vincent', 'family_name': 'Briquet', 'role': 'Product Management Lead - Workplace', 'department': 'Product Management', 'email_address': 'vincent.briquet@proximusnxt.be'}, {'provider': 'Proximus NXT', 'first_name': 'Joke', 'family_name': 'Tisaun', 'role': 'Business Innovation and Development Manager Healthcare', 'department': 'Business Innovation and Development', 'email_address': 'joke.tisaun@proximusnxt.be'}, {'provider': 'Proximus NXT', 'first_name': 'Femke', 'family_name': 'Vandoninck', 'role': 'HR Lead', 'department': 'HR', 'email_address': 'femke.vandoninck@proximusnxt.be'}, {'provider': 'Proximus NXT', 'first_name': 'Raf', 'family_name': 'Peeters', 'role': 'VP Cloud and Cybersecurity', 'department': 'Cloud and Cybersecurity', 'email_address': 'raf.peeters@proximusnxt.be'}, {'provider': 'Proximus NXT', 'first_name': 'Sandro', 'family_name': 'Manzo', 'role': 'AI Lead', 'department': 'AI', 'email_address': 'sandro.manzo@proximusnxt.be'}, {'provider': 'Proximus NXT', 'first_name': 'Antoine', 'family_name': 'Van Brussel', 'role': 'Workplace Practice Lead', 'department': 'Workplace', 'email_address': 'antoine.vanbrussel@proximusnxt.be'}, {'provider': 'Proximus NXT', 'first_name': 'Jurgen', 'family_name': 'De Klerck', 'role': '5G Business Development Manager', 'department': 'Business Development', 'email_address': 'jurgen.deklerck@proximusnxt.be'}, {'provider': 'Proximus NXT', 'first_name': 'Henk', 'family_name': 'Destoop', 'role': 'Hybrid Workplace Solutions Sales Lead', 'department': 'Sales', 'email_address': 'henk.destoop@proximusnxt.be'}, {'provider': 'Proximus NXT', 'first_name': 'Wouter', 'family_name': 'Vandenbussche', 'role': 'Cybersecurity Services Lead', 'department': 'Cybersecurity', 'email_address': 'wouter.vandenbussche@proximusnxt.be'}, {'provider': 'Proximus NXT', 'first_name': 'Benoît', 'family_name': 'Simon', 'role': 'Enterprise Market Strategy Lead', 'department': 'Strategy', 'email_address': 'benoit.simon@proximusnxt.be'}, {'provider': 'Proximus NXT', 'first_name': 'Gwénaëlle', 'family_name': 'Hervé', 'role': 'Public & Sovereign Cloud Lead', 'department': 'Cloud', 'email_address': 'gwenaelle.herve@proximusnxt.be'}, {'provider': 'Proximus NXT', 'first_name': 'Jeroen', 'family_name': 'Schmitz', 'role': 'Customer Experience Lead', 'department': 'Customer Experience', 'email_address': 'jeroen.schmitz@proximusnxt.be'}]\n",
      "Data loaded from provider_color.json (Type: <class 'list'>): [{'provider': 'Proximus NXT', 'color_name_1': 'Purple', 'hex_code_1': '#5C2D91', 'rgb_code_1': [92, 45, 145]}, {'color_name_2': 'Turquoise', 'hex_code_2': '#66D2CC', 'rgb_code_2': [102, 210, 204]}, {'color_name_3': 'Grey', 'hex_code_3': '#C1C1C3', 'rgb_code_3': [193, 193, 195]}]\n",
      "Data loaded from provider_departments.json (Type: <class 'list'>): [{'provider': 'Proximus NXT', 'department': 'IT Services', 'subdivision': ['Security', 'Networking', 'Cloud', 'Workplace', 'Data & AI'], 'address': 'Koning Albert II-laan 27, 1030 Brussels, Belgium', 'phone': '+32 800 33 800', 'vat': 'BE0826942915'}]\n",
      "Blended Data: {\n",
      "    \"Proximus NXT\": {\n",
      "        \"general\": {\n",
      "            \"provider\": \"Proximus NXT\",\n",
      "            \"service\": \"Support for digital transformation, cloud adoption, and IT development.\",\n",
      "            \"type\": \"IT Consulting\",\n",
      "            \"provider_homepage\": \"https://www.proximusnxt.be/\"\n",
      "        },\n",
      "        \"employee\": [\n",
      "            {\n",
      "                \"provider\": \"Proximus NXT\",\n",
      "                \"first_name\": \"Joris\",\n",
      "                \"family_name\": \"Duysens\",\n",
      "                \"role\": \"Head of Cloud\",\n",
      "                \"department\": \"Cloud\",\n",
      "                \"email_address\": \"joris.duysens@proximusnxt.be\"\n",
      "            },\n",
      "            {\n",
      "                \"provider\": \"Proximus NXT\",\n",
      "                \"first_name\": \"Yves\",\n",
      "                \"family_name\": \"Maelfait\",\n",
      "                \"role\": \"Data & AI Solution Sales Executive\",\n",
      "                \"department\": \"Sales\",\n",
      "                \"email_address\": \"yves.maelfait@proximusnxt.be\"\n",
      "            },\n",
      "            {\n",
      "                \"provider\": \"Proximus NXT\",\n",
      "                \"first_name\": \"Gregory\",\n",
      "                \"family_name\": \"Gruber\",\n",
      "                \"role\": \"Deputy Director OutSourcing & Cloud Services\",\n",
      "                \"department\": \"Outsourcing & Cloud Services\",\n",
      "                \"email_address\": \"gregory.gruber@proximusnxt.be\"\n",
      "            },\n",
      "            {\n",
      "                \"provider\": \"Proximus NXT\",\n",
      "                \"first_name\": \"Yashfeen\",\n",
      "                \"family_name\": \"Saiyid\",\n",
      "                \"role\": \"Data & AI Lead\",\n",
      "                \"department\": \"Data & AI\",\n",
      "                \"email_address\": \"yashfeen.saiyid@proximusnxt.be\"\n",
      "            },\n",
      "            {\n",
      "                \"provider\": \"Proximus NXT\",\n",
      "                \"first_name\": \"Anne-Sophie\",\n",
      "                \"family_name\": \"Lotgering\",\n",
      "                \"role\": \"CEO Proximus NXT IT and Corporate Segment Lead\",\n",
      "                \"department\": \"Leadership\",\n",
      "                \"email_address\": \"anne-sophie.lotgering@proximusnxt.be\"\n",
      "            },\n",
      "            {\n",
      "                \"provider\": \"Proximus NXT\",\n",
      "                \"first_name\": \"Christophe\",\n",
      "                \"family_name\": \"Crous\",\n",
      "                \"role\": \"Corporate Segment & Marketing Lead\",\n",
      "                \"department\": \"Marketing\",\n",
      "                \"email_address\": \"christophe.crous@proximusnxt.be\"\n",
      "            },\n",
      "            {\n",
      "                \"provider\": \"Proximus NXT\",\n",
      "                \"first_name\": \"David\",\n",
      "                \"family_name\": \"Mobers\",\n",
      "                \"role\": \"Product and Solutions Expert SDWAN\",\n",
      "                \"department\": \"Solutions\",\n",
      "                \"email_address\": \"david.mobers@proximusnxt.be\"\n",
      "            },\n",
      "            {\n",
      "                \"provider\": \"Proximus NXT\",\n",
      "                \"first_name\": \"Wilhelmine\",\n",
      "                \"family_name\": \"Dubuisson\",\n",
      "                \"role\": \"Solution sales Hybrid Cloud\",\n",
      "                \"department\": \"Sales\",\n",
      "                \"email_address\": \"wilhelmine.dubuisson@proximusnxt.be\"\n",
      "            },\n",
      "            {\n",
      "                \"provider\": \"Proximus NXT\",\n",
      "                \"first_name\": \"Cath\\u00e9rine\",\n",
      "                \"family_name\": \"De Saedeleer\",\n",
      "                \"role\": \"Head of Smart Network Solutions\",\n",
      "                \"department\": \"Smart Network Solutions\",\n",
      "                \"email_address\": \"catherine.desaedeleer@proximusnxt.be\"\n",
      "            },\n",
      "            {\n",
      "                \"provider\": \"Proximus NXT\",\n",
      "                \"first_name\": \"Kristof\",\n",
      "                \"family_name\": \"Spriet\",\n",
      "                \"role\": \"Smart Network Solutions Lead\",\n",
      "                \"department\": \"Smart Network Solutions\",\n",
      "                \"email_address\": \"kristof.spriet@proximusnxt.be\"\n",
      "            },\n",
      "            {\n",
      "                \"provider\": \"Proximus NXT\",\n",
      "                \"first_name\": \"Fabrice\",\n",
      "                \"family_name\": \"De Windt\",\n",
      "                \"role\": \"VP Strategic Account Services\",\n",
      "                \"department\": \"Strategic Account Services\",\n",
      "                \"email_address\": \"fabrice.dewindt@proximusnxt.be\"\n",
      "            },\n",
      "            {\n",
      "                \"provider\": \"Proximus NXT\",\n",
      "                \"first_name\": \"Vincent\",\n",
      "                \"family_name\": \"Briquet\",\n",
      "                \"role\": \"Product Management Lead - Workplace\",\n",
      "                \"department\": \"Product Management\",\n",
      "                \"email_address\": \"vincent.briquet@proximusnxt.be\"\n",
      "            },\n",
      "            {\n",
      "                \"provider\": \"Proximus NXT\",\n",
      "                \"first_name\": \"Joke\",\n",
      "                \"family_name\": \"Tisaun\",\n",
      "                \"role\": \"Business Innovation and Development Manager Healthcare\",\n",
      "                \"department\": \"Business Innovation and Development\",\n",
      "                \"email_address\": \"joke.tisaun@proximusnxt.be\"\n",
      "            },\n",
      "            {\n",
      "                \"provider\": \"Proximus NXT\",\n",
      "                \"first_name\": \"Femke\",\n",
      "                \"family_name\": \"Vandoninck\",\n",
      "                \"role\": \"HR Lead\",\n",
      "                \"department\": \"HR\",\n",
      "                \"email_address\": \"femke.vandoninck@proximusnxt.be\"\n",
      "            },\n",
      "            {\n",
      "                \"provider\": \"Proximus NXT\",\n",
      "                \"first_name\": \"Raf\",\n",
      "                \"family_name\": \"Peeters\",\n",
      "                \"role\": \"VP Cloud and Cybersecurity\",\n",
      "                \"department\": \"Cloud and Cybersecurity\",\n",
      "                \"email_address\": \"raf.peeters@proximusnxt.be\"\n",
      "            },\n",
      "            {\n",
      "                \"provider\": \"Proximus NXT\",\n",
      "                \"first_name\": \"Sandro\",\n",
      "                \"family_name\": \"Manzo\",\n",
      "                \"role\": \"AI Lead\",\n",
      "                \"department\": \"AI\",\n",
      "                \"email_address\": \"sandro.manzo@proximusnxt.be\"\n",
      "            },\n",
      "            {\n",
      "                \"provider\": \"Proximus NXT\",\n",
      "                \"first_name\": \"Antoine\",\n",
      "                \"family_name\": \"Van Brussel\",\n",
      "                \"role\": \"Workplace Practice Lead\",\n",
      "                \"department\": \"Workplace\",\n",
      "                \"email_address\": \"antoine.vanbrussel@proximusnxt.be\"\n",
      "            },\n",
      "            {\n",
      "                \"provider\": \"Proximus NXT\",\n",
      "                \"first_name\": \"Jurgen\",\n",
      "                \"family_name\": \"De Klerck\",\n",
      "                \"role\": \"5G Business Development Manager\",\n",
      "                \"department\": \"Business Development\",\n",
      "                \"email_address\": \"jurgen.deklerck@proximusnxt.be\"\n",
      "            },\n",
      "            {\n",
      "                \"provider\": \"Proximus NXT\",\n",
      "                \"first_name\": \"Henk\",\n",
      "                \"family_name\": \"Destoop\",\n",
      "                \"role\": \"Hybrid Workplace Solutions Sales Lead\",\n",
      "                \"department\": \"Sales\",\n",
      "                \"email_address\": \"henk.destoop@proximusnxt.be\"\n",
      "            },\n",
      "            {\n",
      "                \"provider\": \"Proximus NXT\",\n",
      "                \"first_name\": \"Wouter\",\n",
      "                \"family_name\": \"Vandenbussche\",\n",
      "                \"role\": \"Cybersecurity Services Lead\",\n",
      "                \"department\": \"Cybersecurity\",\n",
      "                \"email_address\": \"wouter.vandenbussche@proximusnxt.be\"\n",
      "            },\n",
      "            {\n",
      "                \"provider\": \"Proximus NXT\",\n",
      "                \"first_name\": \"Beno\\u00eet\",\n",
      "                \"family_name\": \"Simon\",\n",
      "                \"role\": \"Enterprise Market Strategy Lead\",\n",
      "                \"department\": \"Strategy\",\n",
      "                \"email_address\": \"benoit.simon@proximusnxt.be\"\n",
      "            },\n",
      "            {\n",
      "                \"provider\": \"Proximus NXT\",\n",
      "                \"first_name\": \"Gw\\u00e9na\\u00eblle\",\n",
      "                \"family_name\": \"Herv\\u00e9\",\n",
      "                \"role\": \"Public & Sovereign Cloud Lead\",\n",
      "                \"department\": \"Cloud\",\n",
      "                \"email_address\": \"gwenaelle.herve@proximusnxt.be\"\n",
      "            },\n",
      "            {\n",
      "                \"provider\": \"Proximus NXT\",\n",
      "                \"first_name\": \"Jeroen\",\n",
      "                \"family_name\": \"Schmitz\",\n",
      "                \"role\": \"Customer Experience Lead\",\n",
      "                \"department\": \"Customer Experience\",\n",
      "                \"email_address\": \"jeroen.schmitz@proximusnxt.be\"\n",
      "            }\n",
      "        ],\n",
      "        \"color\": {\n",
      "            \"provider\": \"Proximus NXT\",\n",
      "            \"color_name_1\": \"Purple\",\n",
      "            \"hex_code_1\": \"#5C2D91\",\n",
      "            \"rgb_code_1\": [\n",
      "                92,\n",
      "                45,\n",
      "                145\n",
      "            ]\n",
      "        },\n",
      "        \"departments\": [\n",
      "            {\n",
      "                \"provider\": \"Proximus NXT\",\n",
      "                \"department\": \"IT Services\",\n",
      "                \"subdivision\": [\n",
      "                    \"Security\",\n",
      "                    \"Networking\",\n",
      "                    \"Cloud\",\n",
      "                    \"Workplace\",\n",
      "                    \"Data & AI\"\n",
      "                ],\n",
      "                \"address\": \"Koning Albert II-laan 27, 1030 Brussels, Belgium\",\n",
      "                \"phone\": \"+32 800 33 800\",\n",
      "                \"vat\": \"BE0826942915\"\n",
      "            }\n",
      "        ]\n",
      "    }\n",
      "}\n",
      "Blended data has been saved to 'blended_data_providers.json'\n"
     ]
    }
   ],
   "source": [
    "# Function to read JSON data from a file and debug if necessary\n",
    "def read_json_file(file_path):\n",
    "    with open(file_path, 'r') as file:\n",
    "        try:\n",
    "            data = json.load(file)\n",
    "            # Debugging: Print the entire content of the file to inspect the structure\n",
    "            print(f\"Data loaded from {file_path} (Type: {type(data)}): {data}\")\n",
    "            if not isinstance(data, list):\n",
    "                raise ValueError(f\"Data in {file_path} is not a list as expected.\")\n",
    "            return data\n",
    "        except json.JSONDecodeError:\n",
    "            print(f\"Error decoding JSON from {file_path}\")\n",
    "            return []  # Return an empty list if the JSON is malformed\n",
    "\n",
    "# Function to blend data\n",
    "def blend_data_from_files(general_file, employee_file, color_file, department_file):\n",
    "    # Read data from files\n",
    "    general_data = read_json_file(general_file)\n",
    "    employee_data = read_json_file(employee_file)\n",
    "    color_data = read_json_file(color_file)\n",
    "    department_data = read_json_file(department_file)\n",
    "    \n",
    "    # Merge data\n",
    "    merged_data = {}\n",
    "\n",
    "    # Add general data\n",
    "    for entry in general_data:\n",
    "        try:\n",
    "            provider = entry[\"provider\"]\n",
    "            merged_data[provider] = {\"general\": entry}\n",
    "        except KeyError:\n",
    "            print(\"KeyError: Missing 'provider' in general data entry.\")\n",
    "            continue\n",
    "\n",
    "    # Add employee data\n",
    "    for entry in employee_data:\n",
    "        try:\n",
    "            provider = entry[\"provider\"]\n",
    "            if provider in merged_data:\n",
    "                if \"employee\" not in merged_data[provider]:\n",
    "                    merged_data[provider][\"employee\"] = []\n",
    "                merged_data[provider][\"employee\"].append(entry)\n",
    "        except KeyError:\n",
    "            print(\"KeyError: Missing 'provider' in employee data entry.\")\n",
    "            continue\n",
    "\n",
    "    # Add color data\n",
    "    for entry in color_data:\n",
    "        try:\n",
    "            provider = entry.get(\"provider\", \"Unknown\")\n",
    "            if provider in merged_data:\n",
    "                if \"color\" not in merged_data[provider]:\n",
    "                    merged_data[provider][\"color\"] = {}\n",
    "                merged_data[provider][\"color\"].update(entry)\n",
    "        except KeyError:\n",
    "            print(\"KeyError: Missing 'provider' in color data entry.\")\n",
    "            continue\n",
    "\n",
    "    # Add department data\n",
    "    for entry in department_data:\n",
    "        try:\n",
    "            provider = entry[\"provider\"]\n",
    "            if provider in merged_data:\n",
    "                if \"departments\" not in merged_data[provider]:\n",
    "                    merged_data[provider][\"departments\"] = []\n",
    "                merged_data[provider][\"departments\"].append(entry)\n",
    "        except KeyError:\n",
    "            print(\"KeyError: Missing 'provider' in department data entry.\")\n",
    "            continue\n",
    "\n",
    "    return merged_data\n",
    "\n",
    "# File paths\n",
    "general_file = 'provider_general_data.json'\n",
    "employee_file = 'provider_employees.json'\n",
    "color_file = 'provider_color.json'\n",
    "department_file = 'provider_departments.json'\n",
    "\n",
    "# Debugging: Print current working directory\n",
    "print(\"Current working directory:\", os.getcwd())\n",
    "\n",
    "# Blend the data\n",
    "blended_result = blend_data_from_files(general_file, employee_file, color_file, department_file)\n",
    "\n",
    "# Debugging: Print the blended data to verify\n",
    "print(\"Blended Data:\", json.dumps(blended_result, indent=4))\n",
    "\n",
    "# Write the result to a new JSON file and capture any potential errors\n",
    "try:\n",
    "    with open('blended_data_providers.json', 'w') as output_file:\n",
    "        json.dump(blended_result, output_file, indent=4)\n",
    "    print(\"Blended data has been saved to 'blended_data_providers.json'\")\n",
    "except Exception as e:\n",
    "    print(f\"Error saving file: {e}\")\n",
    "\n",
    "\n",
    "\n",
    "\n"
   ]
  },
  {
   "cell_type": "markdown",
   "metadata": {},
   "source": [
    "**2. SETTING UP THE EMAIL WRITING ASSISTANT** (temperature = 1, tools= ??)"
   ]
  },
  {
   "cell_type": "markdown",
   "metadata": {},
   "source": [
    "**Determine Tone of Email**"
   ]
  },
  {
   "cell_type": "code",
   "execution_count": 240,
   "metadata": {},
   "outputs": [],
   "source": [
    "email_tones = [\n",
    "    \"Urgent\",\n",
    "    \"Firm\",\n",
    "    \"Action Required\",\n",
    "    \"Time-Sensitive\",\n",
    "    \"Polite\",\n",
    "    \"Friendly\",\n",
    "    \"Professional\",\n",
    "    \"Empathetic\"\n",
    "]"
   ]
  },
  {
   "cell_type": "code",
   "execution_count": 241,
   "metadata": {},
   "outputs": [],
   "source": [
    "random_tone = rd.choice(email_tones)"
   ]
  },
  {
   "cell_type": "code",
   "execution_count": 242,
   "metadata": {},
   "outputs": [
    {
     "name": "stdout",
     "output_type": "stream",
     "text": [
      "Time-Sensitive\n"
     ]
    }
   ],
   "source": [
    "print(random_tone)"
   ]
  },
  {
   "cell_type": "markdown",
   "metadata": {},
   "source": [
    "**Setting up some dummy data about proximus employees**"
   ]
  },
  {
   "cell_type": "code",
   "execution_count": 243,
   "metadata": {},
   "outputs": [],
   "source": [
    "proximus_employees = [\n",
    "    {\n",
    "        \"name\": \"Marie Declercq\", \n",
    "        \"email\": \"marie.declercq@proximus.be\", \n",
    "        \"role\": \"Data Analyst\", \n",
    "        \"language\": \"Dutch\", \n",
    "        \"department\": \"Consumer Market\"\n",
    "    },\n",
    "    {\n",
    "        \"name\": \"Luc Vandenberg\", \n",
    "        \"email\": \"luc.vandenberg@proximus.be\", \n",
    "        \"role\": \"Cybersecurity Specialist\", \n",
    "        \"language\": \"Dutch\", \n",
    "        \"department\": \"Network & Wholesale\"\n",
    "    },\n",
    "    {\n",
    "        \"name\": \"Emma Wouters\", \n",
    "        \"email\": \"emma.wouters@proximus.be\", \n",
    "        \"role\": \"Marketing Specialist\", \n",
    "        \"language\": \"English\", \n",
    "        \"department\": \"Enterprise Market\"\n",
    "    },\n",
    "    {\n",
    "        \"name\": \"Jai Mehta\", \n",
    "        \"email\": \"jai.mehta@proximus.be\", \n",
    "        \"role\": \"System Administrator\", \n",
    "        \"language\": \"English\", \n",
    "        \"department\": \"IT Infrastructure\"\n",
    "    },\n",
    "    {\n",
    "        \"name\": \"Guillaume Boutin\", \n",
    "        \"email\": \"guillaume.boutin@proximus.be\", \n",
    "        \"role\": \"Chief Executive Officer\", \n",
    "        \"language\": \"French\", \n",
    "        \"department\": \"Chief Executive Officer's Department\"\n",
    "    }\n",
    "] "
   ]
  },
  {
   "cell_type": "code",
   "execution_count": 244,
   "metadata": {},
   "outputs": [],
   "source": [
    "random_employee = rd.choice(proximus_employees)"
   ]
  },
  {
   "cell_type": "code",
   "execution_count": 245,
   "metadata": {},
   "outputs": [
    {
     "name": "stdout",
     "output_type": "stream",
     "text": [
      "{'name': 'Jai Mehta', 'email': 'jai.mehta@proximus.be', 'role': 'System Administrator', 'language': 'English', 'department': 'IT Infrastructure'}\n"
     ]
    }
   ],
   "source": [
    "print(random_employee)"
   ]
  },
  {
   "cell_type": "markdown",
   "metadata": {},
   "source": [
    "**Setting Up the Model Configuration**"
   ]
  },
  {
   "cell_type": "code",
   "execution_count": 246,
   "metadata": {},
   "outputs": [],
   "source": [
    "system_instruction= f\"\"\"You are a skilled copywriter with a knack for creating emails that feel\n",
    "    personal, relevant, urgent and engaging. Your task is to write emails to employees of\n",
    "    {COMPANY} all while maintaining a tone that feels individual, tailored and professional. \n",
    "    \n",
    "    The email should appear to come from a relevant source. Encourage actions like clicking links or downloading attachments with a sense of urgency. Align the email subject with the sender's theme and message.\n",
    "    \n",
    "    Incorporate in your answer only complete emails.\n",
    "    \n",
    "    Everything about the sender address, subject, and email body is focused on the recipient interacting with the link.\n",
    "    \n",
    "    If you encounter any characters as \"/\", \"\\\", \"-\",\"_\" replace them with an empty string. \n",
    "    \n",
    "    Separate paragraphs in the email body using HTML paragraph tags:<p>for the start of a paragraph and</p>for the end. This will create proper paragraph breaks when the output is rendered as HTML\n",
    "    \n",
    "    Always put dates and locations in the body of the email between <strong> and </strong> to be used in html code\n",
    "    \n",
    "    If you mention a date it needs to be written in this example format 'Wednesday 29 January at 13:00'\n",
    "    \n",
    "    The email should have a {random_tone} tone.\n",
    "    \n",
    "    The receiver of the email is {random_employee['name']} and should be in {random_employee['language']}. Address the receiver formal and by his full name.\n",
    "\n",
    "    The email signature should contain the first name, family name, role and the company name of one of the employees of {provider}. \n",
    "\n",
    "    Do not include the link in the body of the email, as it will be implemented separately and placed below the text body, refer to it in the text body where it is placed.\n",
    "\n",
    "    Just plain text in the body, nothing to include anymore.\n",
    "    \n",
    "    Give also suitable color for the call to action button based on the subject of the email in rgb.\n",
    "    \n",
    "    Create also a call to action text that is limited to maximum 3 words but do not include it in the body.\n",
    "\n",
    "    The email should be written in this style example:\n",
    "\n",
    "    Use this JSON schema:\n",
    "\n",
    "    Provider_email = {{'subject':str,'addressing_the_receiver':str, 'body':str, 'email_sign_fullname':str, 'email_sign_role':str, 'email_sign_company':str, 'call_to_action_text':str, 'call_to_action_color':list[int]}}\n",
    "    Return: list[Provider_email]\n",
    "        \n",
    "        \n",
    "        \"\"\""
   ]
  },
  {
   "cell_type": "code",
   "execution_count": 247,
   "metadata": {},
   "outputs": [],
   "source": [
    "config = GenerateContentConfig(system_instruction=system_instruction, temperature=1,maxOutputTokens=8000, top_p=0.9, top_k=40, safety_settings=safety_settings)"
   ]
  },
  {
   "cell_type": "markdown",
   "metadata": {},
   "source": [
    "**Fetch some Provider Context to generate better emails**"
   ]
  },
  {
   "cell_type": "code",
   "execution_count": 248,
   "metadata": {},
   "outputs": [],
   "source": [
    "# Load JSON data from the file\n",
    "with open(\"provider_employees.json\", \"r\") as file:\n",
    "    provider_employees = json.load(file)"
   ]
  },
  {
   "cell_type": "code",
   "execution_count": 249,
   "metadata": {},
   "outputs": [],
   "source": [
    "# Load JSON data from the file\n",
    "with open(\"provider_departments.json\", \"r\") as file:\n",
    "    provider_departments = json.load(file)"
   ]
  },
  {
   "cell_type": "markdown",
   "metadata": {},
   "source": [
    "**Fetch a random Date**"
   ]
  },
  {
   "cell_type": "code",
   "execution_count": 250,
   "metadata": {},
   "outputs": [
    {
     "name": "stdout",
     "output_type": "stream",
     "text": [
      "Random Date: 2025-01-30 15:00:00\n",
      "Day (number): 30\n",
      "Day (name): Thursday\n",
      "Month: January\n",
      "Hour: 15\n",
      "Formatted Date: Thursday 30 January\n",
      "Formatted Date with Hour: Thursday 30 January at 15\n"
     ]
    }
   ],
   "source": [
    "def pick_random_date():\n",
    "    # Define the time range\n",
    "    start_hour = 9  # 9 AM\n",
    "    end_hour = 16   # 4 PM (exclusive)\n",
    "\n",
    "    # Get the current date\n",
    "    today = datetime.now()\n",
    "\n",
    "    # Generate a list of valid weekdays (Monday to Friday) within 7 days\n",
    "    valid_days = []\n",
    "    for i in range(1, 8):\n",
    "        candidate_date = today + timedelta(days=i)\n",
    "        if candidate_date.weekday() < 5:  # 0=Monday, 4=Friday\n",
    "            valid_days.append(candidate_date)\n",
    "\n",
    "    # Pick a random day from the valid weekdays\n",
    "    random_day = rd.choice(valid_days)\n",
    "\n",
    "    # Randomly choose an hour between 9 AM and 4 PM\n",
    "    random_hour = rd.randint(start_hour, end_hour - 1)\n",
    "\n",
    "    # Combine the random day and hour into a datetime object\n",
    "    random_date = random_day.replace(hour=random_hour, minute=0, second=0, microsecond=0)\n",
    "\n",
    "    return random_date\n",
    "\n",
    "# Usage example\n",
    "random_date = pick_random_date()\n",
    "print(\"Random Date:\", random_date)\n",
    "print(\"Day (number):\", random_date.day)\n",
    "print(\"Day (name):\", random_date.strftime('%A'))  # Full day name like 'Monday'\n",
    "print(\"Month:\", random_date.strftime('%B'))  # Full month name like 'December'\n",
    "print(\"Hour:\", random_date.hour)\n",
    "print(\"Formatted Date:\", random_date.strftime('%A %d %B'))  # Example: 'Friday 24 January'\n",
    "print(\"Formatted Date with Hour:\", random_date.strftime('%A %d %B at %H'))  # Example: 'Friday 24 January at 11 hour'\n"
   ]
  },
  {
   "cell_type": "code",
   "execution_count": 251,
   "metadata": {},
   "outputs": [],
   "source": [
    "telecom_employee_events = [\n",
    "    \"Seminars\",\n",
    "    \"Presentations\",\n",
    "    \"Networking Meetings\",\n",
    "    \"Workshops\",\n",
    "    \"Training Sessions\",\n",
    "    \"Industry Roundtables\",\n",
    "    \"Panel Discussions\",\n",
    "    \"Webinars\",\n",
    "    \"Conferences\",\n",
    "    \"Hackathons\",\n",
    "    \"Product Demos\",\n",
    "    \"Leadership Forums\",\n",
    "    \"Strategic Planning Meetings\",\n",
    "    \"Customer Experience Sessions\",\n",
    "    \"Innovation Labs\"\n",
    "]"
   ]
  },
  {
   "cell_type": "code",
   "execution_count": 252,
   "metadata": {},
   "outputs": [],
   "source": [
    "random_event=rd.choice(telecom_employee_events)"
   ]
  },
  {
   "cell_type": "code",
   "execution_count": 253,
   "metadata": {},
   "outputs": [
    {
     "name": "stdout",
     "output_type": "stream",
     "text": [
      "Seminars\n"
     ]
    }
   ],
   "source": [
    "print(random_event)"
   ]
  },
  {
   "cell_type": "code",
   "execution_count": 254,
   "metadata": {},
   "outputs": [],
   "source": [
    "urgent_provider_issues = [\n",
    "    \"Network Outages\",\n",
    "    \"SLA Violations\",\n",
    "    \"Payment Delays\",\n",
    "    \"Contract Breach\",\n",
    "    \"Quality Failures\",\n",
    "    \"Security Risks\",\n",
    "    \"Price Increases\",\n",
    "    \"Missed Deadlines\",\n",
    "    \"Regulatory Issues\",\n",
    "    \"Billing Discrepancies\"\n",
    "]"
   ]
  },
  {
   "cell_type": "code",
   "execution_count": 255,
   "metadata": {},
   "outputs": [],
   "source": [
    "random_issue=rd.choice(urgent_provider_issues)"
   ]
  },
  {
   "cell_type": "code",
   "execution_count": 256,
   "metadata": {},
   "outputs": [
    {
     "name": "stdout",
     "output_type": "stream",
     "text": [
      "Contract Breach\n"
     ]
    }
   ],
   "source": [
    "print(random_issue)"
   ]
  },
  {
   "cell_type": "markdown",
   "metadata": {},
   "source": [
    "**Emails Provider to Proximus**"
   ]
  },
  {
   "cell_type": "markdown",
   "metadata": {},
   "source": [
    "Service related Emails"
   ]
  },
  {
   "cell_type": "code",
   "execution_count": 257,
   "metadata": {},
   "outputs": [],
   "source": [
    "contents = f\"\"\"\n",
    "\n",
    "{provider} is a service provider of {COMPANY}. {provider} has these {provider_departments}.\n",
    "\n",
    "Write some tailored emails based on the role of {random_employee['role']} about an urgent matter that needs to be solved related to {COMPANY} concerning a service that {provider} offers. Elaborate about the issue and point out why it needs to be solved as quick as possible.\n",
    "\n",
    "\"\"\"\n",
    "\n",
    "response = client.models.generate_content(\n",
    "    model=MODEL, config=config, contents=contents)\n",
    "\n"
   ]
  },
  {
   "cell_type": "markdown",
   "metadata": {},
   "source": [
    "repairing a string"
   ]
  },
  {
   "cell_type": "code",
   "execution_count": 258,
   "metadata": {},
   "outputs": [],
   "source": [
    "def repair_json_response(response_text):\n",
    "    \"\"\"\n",
    "    Repairs a potentially malformed JSON string from `response.text`.\n",
    "    Ensures it starts with '[' and ends with ']' after the last complete dictionary.\n",
    "\n",
    "    Args:\n",
    "        response_text (str): The response text containing a potentially malformed JSON string.\n",
    "\n",
    "    Returns:\n",
    "        None: Prints the repaired JSON string.\n",
    "\n",
    "    Raises:\n",
    "        ValueError: If the string cannot be repaired into valid JSON.\n",
    "    \"\"\"\n",
    "    # Remove the unwanted prefix if it exists\n",
    "    if response_text.strip().startswith(\"```json\") or response_text.strip().startswith(\"[```json\"):\n",
    "        response_text = response_text.replace(\"```json\", \"\", 1).replace(\"[```json\", \"\", 1).strip()\n",
    "\n",
    "    # Ensure the string starts with '['\n",
    "    if not response_text.strip().startswith(\"[\"):\n",
    "        response_text = \"[\" + response_text\n",
    "\n",
    "    # Find the last closing brace ('}')\n",
    "    last_brace_index = response_text.rfind(\"}\")\n",
    "    if last_brace_index == -1:\n",
    "        raise ValueError(\"No closing brace found in the response text.\")\n",
    "\n",
    "    # Trim the string up to the last complete dictionary and close the list\n",
    "    repaired_string = response_text[:last_brace_index + 1].rstrip(\", \\n\") + \"]\"\n",
    "    \n",
    "    # Print the repaired JSON string\n",
    "    return repaired_string\n"
   ]
  },
  {
   "cell_type": "code",
   "execution_count": 259,
   "metadata": {},
   "outputs": [
    {
     "data": {
      "text/plain": [
       "'[\\n  {\\n    \"subject\": \"Critical Security Alert: Immediate Action Required\",\\n    \"addressing_the_receiver\": \"Dear Jai Mehta,\",\\n    \"body\": \"<p>We\\'ve detected a critical security vulnerability that requires your immediate attention. This issue affects our IT infrastructure and could potentially disrupt our services. Your expertise is vital to resolving this quickly. Please review the attached security report and follow the outlined steps. The urgency of this matter cannot be overstated.</p><p>This is a top priority and needs to be addressed by <strong>Wednesday 29 January at 13:00</strong>. Your prompt action is crucial to safeguarding our systems and preventing any downtime.</p><p>We appreciate your immediate attention to this issue.</p>\",\\n    \"email_sign_fullname\": \"Thomas De Wilde\",\\n    \"email_sign_role\": \"IT Consultant\",\\n    \"email_sign_company\": \"Proximus NXT\",\\n    \"call_to_action_text\": \"View Report\",\\n        \"call_to_action_color\": [\\n      255,\\n      0,\\n      0\\n    ]\\n  },\\n    {\\n    \"subject\": \"Urgent Network Configuration Update Needed\",\\n    \"addressing_the_receiver\": \"Dear Jai Mehta,\",\\n    \"body\": \"<p>A critical network configuration issue has been identified that requires immediate action. This problem is impacting network performance across several key areas and needs to be resolved swiftly to avoid further disruption. Please download the configuration update guide and implement the necessary changes as soon as possible.</p><p>We need this implemented before <strong>Thursday 30 January at 10:00</strong>. Your quick response is vital to restoring network stability and ensuring smooth operations.</p><p>Thank you for your swift attention to this matter.</p>\",\\n    \"email_sign_fullname\": \"Thomas De Wilde\",\\n    \"email_sign_role\": \"IT Consultant\",\\n    \"email_sign_company\": \"Proximus NXT\",\\n    \"call_to_action_text\": \"Download Now\",\\n        \"call_to_action_color\": [\\n      255,\\n      165,\\n      0\\n    ]\\n  },\\n  {\\n    \"subject\": \"Cloud Service Disruption: Immediate Mitigation Needed\",\\n    \"addressing_the_receiver\": \"Dear Jai Mehta,\",\\n     \"body\": \"<p>We have encountered a critical issue affecting one of our cloud services that is impacting key processes. This requires immediate mitigation to ensure continuity of operations. Please review the incident report and follow the steps outlined to resolve the disruption.</p><p>We need this to be addressed no later than <strong>Friday 31 January at 09:00</strong>. Your prompt response is crucial to minimizing downtime and restoring normal service levels.</p><p>We appreciate your quick attention to this urgent matter.</p>\",\\n    \"email_sign_fullname\": \"Thomas De Wilde\",\\n    \"email_sign_role\": \"IT Consultant\",\\n     \"email_sign_company\": \"Proximus NXT\",\\n    \"call_to_action_text\": \"Read Report\",\\n        \"call_to_action_color\": [\\n      255,\\n      0,\\n      0\\n    ]\\n  }]'"
      ]
     },
     "execution_count": 259,
     "metadata": {},
     "output_type": "execute_result"
    }
   ],
   "source": [
    "response_llm = response.text\n",
    "repair_json_response(response_llm)"
   ]
  },
  {
   "cell_type": "code",
   "execution_count": 260,
   "metadata": {},
   "outputs": [
    {
     "name": "stdout",
     "output_type": "stream",
     "text": [
      "JSON data has been successfully written to 'emails_related_service.json'.\n"
     ]
    },
    {
     "data": {
      "text/plain": [
       "True"
      ]
     },
     "execution_count": 260,
     "metadata": {},
     "output_type": "execute_result"
    }
   ],
   "source": [
    "save_json_from_string(response_llm, 'emails_related_service.json')"
   ]
  },
  {
   "cell_type": "markdown",
   "metadata": {},
   "source": [
    "Provider - Proximus Employee events"
   ]
  },
  {
   "cell_type": "code",
   "execution_count": 261,
   "metadata": {},
   "outputs": [],
   "source": [
    "contents = f\"\"\"\n",
    "\n",
    "{provider} is a service provider of {COMPANY}. {provider} has these {provider_departments}.\n",
    "\n",
    "Write some tailored emails based on the role of {random_employee['role']} about an event that is organized by {provider}. \n",
    "\n",
    "The event is {random_event} and is geared towards {random_employee['role']}. \n",
    "\n",
    "The event will take place on this date {random_date.strftime('%A %d %B at %H hour')}, the date needs to at least 5 days from sending.\n",
    "\n",
    "Mention the location of the event based on the {provider} headquarter\n",
    "\n",
    "Do not include urgent in the subject of the email. State that the spots available are limited and urgent action is required.\n",
    "\n",
    "\"\"\"\n",
    "\n",
    "response = client.models.generate_content(\n",
    "    model=MODEL, config=config, contents=contents)\n",
    "\n"
   ]
  },
  {
   "cell_type": "code",
   "execution_count": 262,
   "metadata": {},
   "outputs": [
    {
     "data": {
      "text/plain": [
       "'[\\n  {\\n    \"subject\": \"Exclusive Seminar Invitation for System Administrators\",\\n    \"addressing_the_receiver\": \"Dear Jai Mehta,\",\\n    \"body\": \"<p>We are excited to invite you to an exclusive seminar specifically designed for System Administrators. Proximus NXT is hosting this event to delve into the latest trends and best practices in IT infrastructure management.</p><p>This seminar will be held on <strong>Thursday 30 January at 15:00</strong> at our headquarters located at <strong>Koning Albert II-laan 27, 1030 Brussels, Belgium</strong>. Given your role, we believe you\\'ll find this session incredibly beneficial. </p><p>Please note that spots are limited, and we urge you to register as soon as possible to secure your place. Don\\'t miss out on this valuable opportunity to enhance your skills and network with fellow professionals.</p>\",\\n    \"email_sign_fullname\": \"Niels De Wachter\",\\n    \"email_sign_role\": \"IT Consultant\",\\n    \"email_sign_company\": \"Proximus NXT\",\\n    \"call_to_action_text\": \"Register Now\",\\n     \"call_to_action_color\": [255, 69, 0]\\n  },\\n  {\\n    \"subject\": \"Time Sensitive: System Administrator Seminar\",\\n     \"addressing_the_receiver\": \"Dear Jai Mehta,\",\\n    \"body\": \"<p>You\\'re invited to an essential seminar hosted by Proximus NXT, tailored specifically for System Administrators like yourself. This session will focus on advanced IT solutions and strategies to optimize system performance and security.</p> <p>The seminar will take place on <strong>Thursday 30 January at 15:00</strong> at <strong>Koning Albert II-laan 27, 1030 Brussels, Belgium</strong>. </p> <p>Due to high demand, we have limited spots available. Your prompt response is crucial to ensure your participation. Secure your spot today before it\\'s too late.</p>\",\\n     \"email_sign_fullname\": \"Niels De Wachter\",\\n    \"email_sign_role\": \"IT Consultant\",\\n    \"email_sign_company\": \"Proximus NXT\",\\n    \"call_to_action_text\": \"Claim Spot\",\\n     \"call_to_action_color\": [255, 0, 0]\\n  },\\n    {\\n    \"subject\": \"System Administrator Seminar: Limited Seats Available\",\\n    \"addressing_the_receiver\":\"Dear Jai Mehta,\",\\n    \"body\": \"<p>We are delighted to offer you a unique opportunity to attend a specialized seminar designed for System Administrators by Proximus NXT. This seminar will provide deep insights into modern IT challenges and practical solutions.</p><p>The event is scheduled for <strong>Thursday 30 January at 15:00</strong>, and will be held at <strong>Koning Albert II-laan 27, 1030 Brussels, Belgium</strong>. This is a chance to learn from industry experts and connect with your peers. </p><p>Given the limited seating, we recommend you confirm your attendance immediately to avoid disappointment. Don\\'t wait, your seat awaits!</p>\",\\n     \"email_sign_fullname\": \"Niels De Wachter\",\\n    \"email_sign_role\": \"IT Consultant\",\\n    \"email_sign_company\": \"Proximus NXT\",\\n     \"call_to_action_text\": \"Book Now\",\\n     \"call_to_action_color\": [255, 140, 0]\\n  }]'"
      ]
     },
     "execution_count": 262,
     "metadata": {},
     "output_type": "execute_result"
    }
   ],
   "source": [
    "response_llm = response.text\n",
    "repair_json_response(response_llm)"
   ]
  },
  {
   "cell_type": "code",
   "execution_count": 263,
   "metadata": {},
   "outputs": [
    {
     "name": "stdout",
     "output_type": "stream",
     "text": [
      "JSON data has been successfully written to 'emails_employee_event.json'.\n"
     ]
    },
    {
     "data": {
      "text/plain": [
       "True"
      ]
     },
     "execution_count": 263,
     "metadata": {},
     "output_type": "execute_result"
    }
   ],
   "source": [
    "save_json_from_string(response_llm, 'emails_employee_event.json')"
   ]
  },
  {
   "cell_type": "markdown",
   "metadata": {},
   "source": [
    "Provider issues with Proximus"
   ]
  },
  {
   "cell_type": "code",
   "execution_count": 264,
   "metadata": {},
   "outputs": [],
   "source": [
    "contents= f\"\"\"\n",
    "\n",
    "{provider} is a service provider of {COMPANY}. {provider} has these {provider_departments}.\n",
    "\n",
    "Write some tailored emails based on the role of {random_employee['role']} about an issue that {provider} have with {COMPANY}. \n",
    "\n",
    "The issue is {random_issue} and is related to {random_employee['role']}. Elaborate about the issue.\n",
    "\n",
    "The issue needs to be solved before {random_date.strftime('%A %d %B at %H hour')}\n",
    "\n",
    "\"\"\"\n",
    "\n",
    "response = client.models.generate_content(\n",
    "    model=MODEL, config=config, contents=contents)\n",
    "\n"
   ]
  },
  {
   "cell_type": "code",
   "execution_count": 265,
   "metadata": {},
   "outputs": [
    {
     "data": {
      "text/plain": [
       "'[\\n  {\\n    \"subject\": \"Immediate Action Required: Contract Breach Affecting System Administration\",\\n    \"addressing_the_receiver\": \"Dear Jai Mehta,\",\\n    \"body\": \"<p>We\\'ve identified a critical contract breach impacting system administration that requires your immediate attention. This breach, stemming from discrepancies in service level agreements, directly affects the performance and security of our IT infrastructure.</p><p>The issue revolves around the handling of critical updates and security protocols, which are not being met according to our agreed-upon standards. This situation poses a significant risk to our network\\'s stability and could lead to operational disruptions if not addressed promptly.</p><p>To mitigate this risk, we need your urgent intervention. Please review the attached documentation detailing the breach and the necessary steps for resolution. This must be completed before <strong>Thursday 30 January at 15:00</strong>. Failure to act by this deadline may result in further complications.</p>\",\\n    \"email_sign_fullname\": \"Niels De Bruyne\",\\n    \"email_sign_role\": \"IT Consultant\",\\n    \"email_sign_company\": \"Proximus NXT\",\\n     \"call_to_action_text\": \"Review Now\",\\n    \"call_to_action_color\": [\\n      255,\\n      0,\\n      0\\n    ]\\n  }]'"
      ]
     },
     "execution_count": 265,
     "metadata": {},
     "output_type": "execute_result"
    }
   ],
   "source": [
    "response_llm = response.text\n",
    "repair_json_response(response_llm)"
   ]
  },
  {
   "cell_type": "code",
   "execution_count": 266,
   "metadata": {},
   "outputs": [
    {
     "name": "stdout",
     "output_type": "stream",
     "text": [
      "JSON data has been successfully written to 'emails_provider_issue.json'.\n"
     ]
    },
    {
     "data": {
      "text/plain": [
       "True"
      ]
     },
     "execution_count": 266,
     "metadata": {},
     "output_type": "execute_result"
    }
   ],
   "source": [
    "save_json_from_string(response_llm, 'emails_provider_issue.json')"
   ]
  },
  {
   "cell_type": "markdown",
   "metadata": {},
   "source": [
    "Proximus News"
   ]
  },
  {
   "cell_type": "code",
   "execution_count": 267,
   "metadata": {},
   "outputs": [],
   "source": [
    "# Load JSON data from the file\n",
    "with open(\"proximus_news.json\", \"r\") as file:\n",
    "    proximus_news = json.load(file)"
   ]
  },
  {
   "cell_type": "code",
   "execution_count": 268,
   "metadata": {},
   "outputs": [],
   "source": [
    "contents= f\"\"\"\n",
    "\n",
    "{provider} is a service provider of {COMPANY}.\n",
    "\n",
    "Write some tailored emails based on the role of {random_employee['role']} about an business opportunity that {provider} can offer {COMPANY} regarding {proximus_news}.\n",
    "\n",
    "The particular business opportunity is also closely related to {random_employee}\n",
    "\n",
    "\"\"\"\n",
    "\n",
    "response = client.models.generate_content(\n",
    "    model=MODEL, config=config, contents=contents)"
   ]
  },
  {
   "cell_type": "code",
   "execution_count": 269,
   "metadata": {},
   "outputs": [
    {
     "data": {
      "text/plain": [
       "'[\\n  {\\n    \"subject\": \"Boost Proximus\\' Financial Flexibility with Advanced IT Solutions\",\\n    \"addressing_the_receiver\": \"Dear Jai Mehta,\",\\n    \"body\": \"<p>Given Proximus\\' recent extension of its EUR 700 million Revolving Credit Facility, it\\'s critical to ensure our IT infrastructure is as agile and robust as possible. Proximus NXT specializes in supporting digital transformation and cloud adoption, which can significantly enhance our financial operations. I urge you to explore how our IT consulting services can improve Proximus\\' financial agility.</p><p>Review our proposal for optimizing IT resources, designed to help Proximus capitalize on its strengthened financial position, available in the link below.</p><p>This is a time-sensitive opportunity to align our IT capabilities with the company’s financial goals.</p>\",\\n    \"email_sign_fullname\": \"Frederik De Smet\",\\n    \"email_sign_role\": \"IT Consultant\",\\n    \"email_sign_company\": \"Proximus NXT\",\\n    \"call_to_action_text\": \"View Proposal\",\\n     \"call_to_action_color\": [0, 123, 255]\\n  },\\n  {\\n    \"subject\": \"Enhance Proximus\\' Network Performance: A Strategic IT Perspective\",\\n    \"addressing_the_receiver\": \"Dear Jai Mehta,\",\\n    \"body\": \"<p>With Proximus\\' fiber network outperforming competitors, it is essential to capitalize on this advantage. Proximus NXT offers cutting-edge IT solutions that can further optimize network performance and reliability. As a System Administrator, your input is invaluable in ensuring our infrastructure aligns with these high standards.</p><p>I invite you to examine our suggested improvements to maximize the impact of our superior network capabilities through the link below. This is a crucial moment to solidify our position as a market leader.</p><p>Time is of the essence, and your immediate attention is required.</p>\",\\n    \"email_sign_fullname\": \"Frederik De Smet\",\\n    \"email_sign_role\": \"IT Consultant\",\\n    \"email_sign_company\": \"Proximus NXT\",\\n     \"call_to_action_text\": \"Review Now\",\\n     \"call_to_action_color\": [50, 205, 50]\\n  },\\n    {\\n    \"subject\": \"Immediate Action: Support Scarlet\\'s New Offer with Advanced IT Infrastructure\",\\n    \"addressing_the_receiver\": \"Dear Jai Mehta,\",\\n    \"body\": \"<p>Scarlet\\'s new offer presents an exciting opportunity for Proximus, but it requires a robust and scalable IT infrastructure. Proximus NXT specializes in providing support for digital transformation and IT development, ensuring our systems can handle the increased demand. Your expertise is essential in implementing these improvements swiftly.</p><p>I urge you to review our urgent proposal for supporting Scarlet\\'s new offer, ensuring a seamless customer experience, available in the link below.</p><p>This is a critical moment that demands your immediate attention to capitalize on this opportunity.</p>\",\\n    \"email_sign_fullname\": \"Frederik De Smet\",\\n    \"email_sign_role\": \"IT Consultant\",\\n     \"email_sign_company\": \"Proximus NXT\",\\n    \"call_to_action_text\": \"Act Fast\",\\n     \"call_to_action_color\": [255, 69, 0]\\n  },\\n  {\\n    \"subject\": \"Strengthen Proximus\\' Shareholding Transparency with Secure IT Systems\",\\n    \"addressing_the_receiver\": \"Dear Jai Mehta,\",\\n     \"body\": \"<p>With Proximus releasing a transparency declaration regarding its shareholding structure, it is imperative to ensure our IT systems are secure and reliable. Proximus NXT can provide the necessary support to protect sensitive data and maintain the integrity of our systems. Your role as System Administrator is vital in implementing these crucial security measures.</p><p>Please download our proposal for enhancing the security of our IT systems, which is crucial to maintaining the trust in our transparency efforts, in the link below.</p><p>This is a time-sensitive matter requiring your prompt action.</p>\",\\n    \"email_sign_fullname\": \"Frederik De Smet\",\\n    \"email_sign_role\": \"IT Consultant\",\\n     \"email_sign_company\": \"Proximus NXT\",\\n     \"call_to_action_text\": \"Download Now\",\\n     \"call_to_action_color\": [220, 20, 60]\\n  },\\n   {\\n    \"subject\": \"Ensure Smooth Transition to New Proximus Headquarters with Proximus NXT\",\\n    \"addressing_the_receiver\": \"Dear Jai Mehta,\",\\n    \"body\": \"<p>As Proximus prepares for its new headquarters at the Tour & Taxis site, a well-planned IT infrastructure migration is essential. Proximus NXT specializes in providing support for digital transformation and IT development, which is crucial for this significant move. Your role as System Administrator is vital to ensure a seamless transition.</p><p>I urge you to review our IT migration strategy, designed to minimize disruption and optimize efficiency during the headquarters relocation, available in the link below.</p><p>The timeline for this project is critical, and your immediate engagement is required.</p>\",\\n    \"email_sign_fullname\": \"Frederik De Smet\",\\n    \"email_sign_role\": \"IT Consultant\",\\n     \"email_sign_company\": \"Proximus NXT\",\\n     \"call_to_action_text\": \"View Strategy\",\\n     \"call_to_action_color\": [147, 112, 219]\\n  },\\n  {\\n    \"subject\": \"Optimize Proximus Supply Chain with Advanced IT Solutions\",\\n    \"addressing_the_receiver\": \"Dear Jai Mehta,\",\\n     \"body\": \"<p>Proximus\\' innovative testing of a cargo sailboat in its supply chain highlights the need for advanced IT support. Proximus NXT offers services in digital transformation and cloud adoption, which can enhance the efficiency and sustainability of our logistics operations. As a System Administrator, your input is vital to integrate these new technologies.</p><p>Please review our proposal for optimizing IT infrastructure to support Proximus’ supply chain, and how it aligns with sustainable practices, in the link below.</p><p>This opportunity requires your immediate attention for a seamless transition.</p>\",\\n    \"email_sign_fullname\": \"Frederik De Smet\",\\n    \"email_sign_role\": \"IT Consultant\",\\n     \"email_sign_company\": \"Proximus NXT\",\\n     \"call_to_action_text\": \"Check Now\",\\n     \"call_to_action_color\": [0, 128, 128]\\n  },\\n  {\\n    \"subject\": \"Support Proximus Global with Robust IT Infrastructure\",\\n     \"addressing_the_receiver\": \"Dear Jai Mehta,\",\\n     \"body\":\"<p>The creation of Proximus Global signifies a major expansion, demanding a robust and reliable IT infrastructure. Proximus NXT specializes in providing support for digital transformation and IT development, which is crucial for this global initiative. Your expertise as a System Administrator is essential to ensure the smooth integration of BICS, Telesign, and Route Mobile.</p><p>I invite you to examine our strategic plan to support Proximus Global’s operations, which will ensure a unified and efficient system, available in the link below.</p><p>Time is of the essence to align our IT infrastructure with this significant expansion.</p>\",\\n    \"email_sign_fullname\": \"Frederik De Smet\",\\n    \"email_sign_role\": \"IT Consultant\",\\n    \"email_sign_company\": \"Proximus NXT\",\\n     \"call_to_action_text\": \"See Plan\",\\n     \"call_to_action_color\": [255, 140, 0]\\n  },\\n   {\\n    \"subject\": \"Seize New Business Opportunities: Infosys & Proximus Collaboration\",\\n     \"addressing_the_receiver\": \"Dear Jai Mehta,\",\\n    \"body\": \"<p>The strategic collaboration between Infosys and Proximus Group presents exciting opportunities in CPaaS and digital identity solutions. Proximus NXT can provide the necessary IT consulting and support for these new business ventures, ensuring we are at the forefront of innovation. Your role as System Administrator is crucial for this initiative.</p><p>I encourage you to explore our detailed proposal on how to leverage IT to support this collaboration, securing new business opportunities, in the link below.</p><p>This requires your immediate attention to capitalize on these new opportunities.</p>\",\\n    \"email_sign_fullname\": \"Frederik De Smet\",\\n    \"email_sign_role\": \"IT Consultant\",\\n     \"email_sign_company\": \"Proximus NXT\",\\n     \"call_to_action_text\": \"Explore Now\",\\n     \"call_to_action_color\": [128, 0, 128]\\n  }]'"
      ]
     },
     "execution_count": 269,
     "metadata": {},
     "output_type": "execute_result"
    }
   ],
   "source": [
    "response_llm = response.text\n",
    "repair_json_response(response_llm)"
   ]
  },
  {
   "cell_type": "code",
   "execution_count": 270,
   "metadata": {},
   "outputs": [
    {
     "name": "stdout",
     "output_type": "stream",
     "text": [
      "JSON data has been successfully written to 'emails_provider_news_issue.json'.\n"
     ]
    },
    {
     "data": {
      "text/plain": [
       "True"
      ]
     },
     "execution_count": 270,
     "metadata": {},
     "output_type": "execute_result"
    }
   ],
   "source": [
    "save_json_from_string(response_llm, 'emails_provider_news_issue.json')"
   ]
  },
  {
   "cell_type": "markdown",
   "metadata": {},
   "source": [
    "**Internal Emails Proximus** (To explore/expand)"
   ]
  },
  {
   "cell_type": "code",
   "execution_count": null,
   "metadata": {},
   "outputs": [],
   "source": []
  },
  {
   "cell_type": "markdown",
   "metadata": {},
   "source": [
    "**3. BLENDING DATA IN HTML**"
   ]
  },
  {
   "cell_type": "code",
   "execution_count": 271,
   "metadata": {},
   "outputs": [],
   "source": [
    "\n",
    "fake_link = \"https://example.com/secure-login\"\n",
    "# logo = \"https://encrypted-tbn0.gstatic.com/images?q=tbn:ANd9GcTSGEPQPSgVcETmtsfevb9aZp2LTlYOcy1mAm8xD0FROr4oMWA-xuO6vEV6v3Igwpr7tS8&usqp=CAU\""
   ]
  },
  {
   "cell_type": "code",
   "execution_count": 272,
   "metadata": {},
   "outputs": [],
   "source": [
    "\n",
    "with open('blended_data_providers.json', 'r') as file:\n",
    "    data = json.load(file)\n",
    "\n",
    "# If I don't know the provider name so, I have to loop over them.\n",
    "for provider_data in data.values():\n",
    "    general_info = provider_data.get('general', {})\n",
    "    provider = general_info.get('provider') or 'BICS'\n",
    "    departments = provider_data.get('departments', [])\n",
    "    address = (departments[0].get('address') if departments else None) or 'Boulevard du Roi Albert II, 27, B-1030 Brussels, Belgium'\n",
    "    depart = (departments[0].get('department') if departments else None) or 'IT development'\n",
    "\n",
    "    color_info = provider_data.get('color', {})\n",
    "    color_name = color_info.get('rgb_code_1') or '[28, 151, 212]'  #################### I am suggesting to write \"light\" before the color name to avoid sight harm ####\n",
    "    color_name = f\"rgb{tuple(color_name)}\" if isinstance(color_name, list) else color_name\n",
    "    phone = (departments[0].get('phone') if departments else None) or '+32 2 547 52 10'\n",
    "    vat = (departments[0].get('vat') if departments else None) or 'BE 0866 977 981'\n"
   ]
  },
  {
   "cell_type": "code",
   "execution_count": 273,
   "metadata": {},
   "outputs": [],
   "source": [
    "color_name = color_info.get('rgb_code_1') or [28, 151, 212]  # Default RGB values\n",
    "if isinstance(color_name, list):\n",
    "    brightness_factor = 0.8\n",
    "    color_name = [int(value * brightness_factor) for value in color_name]\n",
    "    color_name = f\"rgb{tuple(color_name)}\"\n",
    "\n",
    "### The header color here is being fixed to avoid wiered extracted colours\n",
    "\n",
    "color_name = \"rgb(192, 192, 192)\""
   ]
  },
  {
   "cell_type": "code",
   "execution_count": 274,
   "metadata": {},
   "outputs": [],
   "source": [
    "json_dir = \"\"  # Replace with the directory containing your files\n",
    "\n",
    "# List of specific JSON files to process\n",
    "specific_files = [\n",
    "    \"emails_employee_event.json\",\n",
    "    \"emails_provider_issue.json\",\n",
    "    \"emails_provider_news_issue.json\",\n",
    "    \"emails_related_service.json\",\n",
    "]\n",
    "\n",
    "# Iterate through the specific JSON files\n",
    "for filename in specific_files:\n",
    "    file_path = os.path.join(json_dir, filename)\n",
    "\n",
    "    # Check if the file exists to avoid errors\n",
    "    if os.path.exists(file_path):\n",
    "        # Open and load the JSON file\n",
    "        with open(file_path, \"r\", encoding=\"utf-8\") as file:\n",
    "            email_data = json.load(file)\n",
    "\n",
    "\n",
    "# Iterate through each dictionary in the list\n",
    "        for email in email_data:\n",
    "            subject =  email[\"subject\"]\n",
    "            email_body = email[\"body\"]\n",
    "            sender_name = email[\"email_sign_fullname\"]\n",
    "            sender_role = email[\"email_sign_role\"]\n",
    "            company_name = email[\"email_sign_company\"]\n",
    "            receiver_name = email[\"addressing_the_receiver\"]                ### This can be removed If we have the list of the recivers\n",
    "            cta = email[\"call_to_action_text\"]\n",
    "            cta_color = email[\"call_to_action_color\"]\n",
    "            cta_color = f\"rgb{tuple(cta_color)}\" if isinstance(cta_color, list) else cta_color\n",
    "            \n",
    "            # for reciver in receiver_employee:  #------> check how many receiver you prefere\n",
    "            #     \"\"\" Here we can extract the data for the reciver later as done for the sender\"\"\"\n",
    "            html_content = f\"\"\"\n",
    "                            <!DOCTYPE html>\n",
    "                            <html lang=\"en\">\n",
    "                            <head>\n",
    "                                <meta charset=\"UTF-8\">\n",
    "                                <meta name=\"viewport\" content=\"width=device-width, initial-scale=1.0\">\n",
    "                                <title>{subject}</title>\n",
    "                                <style>\n",
    "                                    body {{\n",
    "                                        font-family: Arial, sans-serif;\n",
    "                                        background-color: #f4f4f4;\n",
    "                                        margin: 0;\n",
    "                                        padding: 0;\n",
    "                                    }}\n",
    "                                    .email-container {{\n",
    "                                        width: 600px;\n",
    "                                        margin: 20px auto;\n",
    "                                        background-color: #fff;\n",
    "                                        border: 1px solid #ddd;\n",
    "                                        border-radius: 10px;\n",
    "                                        padding: 20px;\n",
    "                                    }}\n",
    "                                    .email-header {{\n",
    "                                        background-color: {color_name};\n",
    "                                        color: #fff;\n",
    "                                        padding: 10px 0;\n",
    "                                        text-align: center;\n",
    "                                    }}\n",
    "                                    .email-header img {{\n",
    "                                        width: 120px;\n",
    "                                        margin-bottom: 10px;\n",
    "                                    }}\n",
    "                                    .email-header h1 {{\n",
    "                                        font-size: 24px;\n",
    "                                        font-weight: bold;\n",
    "                                        margin: 0;\n",
    "                                    }}\n",
    "                                    .email-content {{\n",
    "                                        font-size: 16px;\n",
    "                                        color: #333;\n",
    "                                        margin-top: 20px;\n",
    "                                    }}\n",
    "                                    .cta-button {{\n",
    "                                        display: inline-block;\n",
    "                                        padding: 10px 20px;\n",
    "                                        background-color: {cta_color};\n",
    "                                        color: white;\n",
    "                                        text-align: center;\n",
    "                                        font-weight: bold;\n",
    "                                        border-radius: 5px;\n",
    "                                        text-decoration: none;\n",
    "                                        margin-top: 20px;\n",
    "                                    }}\n",
    "                                    .cta-button:hover {{\n",
    "                                        background-color: {color_name};\n",
    "                                    }}\n",
    "                                    .email-footer {{\n",
    "                                        font-size: 14px;\n",
    "                                        color: #777;\n",
    "                                        text-align: center;\n",
    "                                        margin-top: 20px;\n",
    "                                        border-top: 1px solid #ddd;\n",
    "                                        padding-top: 20px;\n",
    "                                    }}\n",
    "                                    .email-footer a {{\n",
    "                                        color: {color_name};\n",
    "                                        text-decoration: none;\n",
    "                                    }}\n",
    "                                    .social-icons {{\n",
    "                                        margin-top: 10px;\n",
    "                                        text-align: center;\n",
    "                                    }}\n",
    "                                    .social-icons a {{\n",
    "                                        margin: 0 10px;\n",
    "                                        display: inline-block;\n",
    "                                    }}\n",
    "                                    .social-icons img {{\n",
    "                                        width: 24px;\n",
    "                                        height: 24px;\n",
    "                                    }}\n",
    "                                    .additional-footer {{\n",
    "                                        font-size: 12px;\n",
    "                                        color: #333;\n",
    "                                        background-color: #d3d3d3; /* Gray background color */\n",
    "                                        text-align: center;\n",
    "                                        padding: 10px;\n",
    "                                        border-top: 1px solid #ccc;\n",
    "                                        border-radius: 0 0 10px 10px;\n",
    "                                        margin-top: 10px;\n",
    "                                    }}\n",
    "                                </style>\n",
    "                            </head>\n",
    "                            <body>\n",
    "                                <div class=\"email-container\">\n",
    "                                    <div class=\"email-header\">\n",
    "                                        <img src=\"\" alt=\"\">    \n",
    "                                        <h1>{subject}</h1>\n",
    "                                    </div>\n",
    "\n",
    "                                    <div class=\"email-content\">\n",
    "                                        <h2>{receiver_name}</h2>\n",
    "                                        <p>{email_body}</p>  <!-- Use the dynamically generated email body here -->\n",
    "                                        <a href=\"{fake_link}\" class=\"cta-button\">{cta}</a>\n",
    "                                        \n",
    "                                        <!-- Signature Directly Integrated -->\n",
    "                                        <p style=\"margin-top: 20px;\">Best regards,</p>\n",
    "                                        <p style=\"margin: 5px 0;\"><strong>{sender_name}</strong></p>\n",
    "                                        <p style=\"margin: 5px 0;\">{sender_role}</p>\n",
    "                                        <p style=\"margin: 5px 0;\">{company_name}</p>\n",
    "                                    </div>\n",
    "\n",
    "                                    <div class=\"email-footer\">\n",
    "                                        <p><strong>{depart}</strong></p>\n",
    "                                        <p>Email: support@{provider.lower().replace(' ', '')}.be | Phone: {phone}</p>\n",
    "                                        <p>Visit our website: <a href=\"{fake_link}\">www.{provider.lower().replace(' ', '')}.com</a></p>\n",
    "\n",
    "                                        <div class=\"social-icons\">\n",
    "                                            <a href={fake_link}>\n",
    "                                                <img src=\"https://upload.wikimedia.org/wikipedia/commons/5/51/Facebook_f_logo_%282019%29.svg\" alt=\"Facebook\">\n",
    "                                            </a>\n",
    "                                            <a href={fake_link}>\n",
    "                                                <img src=\"https://www.svgrepo.com/show/452123/twitter.svg\" alt=\"Twitter\">\n",
    "                                            </a>\n",
    "                                            <a href={fake_link}>\n",
    "                                                <img src=\"https://upload.wikimedia.org/wikipedia/commons/e/e9/Linkedin_icon.svg\" alt=\"LinkedIn\">\n",
    "                                            </a>\n",
    "                                        </div>\n",
    "                                    </div>\n",
    "\n",
    "                                    <div class=\"additional-footer\">\n",
    "                                        <p>Please be aware that this email and its links include data about your individual profile. \n",
    "                                        In order to avoid that third parties can access your personal data, \n",
    "                                        you should not forward this email and the links contained in it.</p>\n",
    "                                        <p><strong>© 2025 The {provider} Belgium n.v./s.a.</strong></p>\n",
    "                                        <p>{address}<br>KBO/BCE {vat} (RPR/RPM Brussel/Bruxelles)</p>\n",
    "                                        <p>\n",
    "                                            <a href={fake_link}>Terms of use</a> - \n",
    "                                            <a href={fake_link}>Privacy policy</a> - \n",
    "                                            <a href={fake_link}>Contact us</a>\n",
    "                                        </p>\n",
    "\n",
    "                                        <!-- Container for logo and QR code -->\n",
    "                                        <div class=\"unsubscribe-container\" style=\"text-align: center; margin-top: 20px; font-size: 12px; color: #555;\">\n",
    "                                            <p>If you no longer wish to receive notifications, you can \n",
    "                                                <a href=\"{fake_link}\" style=\"color: #007BFF; text-decoration: none;\">unsubscribe here</a>.\n",
    "                                            </p>\n",
    "                                        </div>\n",
    "                                    </div>\n",
    "                                </div>\n",
    "                            </body>\n",
    "\n",
    "                            \"\"\"\n",
    "\n",
    "            # Save the HTML file\n",
    "            os.makedirs('samples', exist_ok=True)\n",
    "            sanitized_subject = re.sub(r'[\\/:*?\"<>|]', '_', subject)\n",
    "            filename = f\"{receiver_name}_phishing_email_{sanitized_subject}.html\"\n",
    "            file_path = os.path.join('samples', filename)\n",
    "\n",
    "            # Save the HTML file\n",
    "            with open(file_path, \"w\", encoding=\"utf-8\") as file:\n",
    "                file.write(html_content)"
   ]
  },
  {
   "cell_type": "markdown",
   "metadata": {},
   "source": []
  },
  {
   "cell_type": "markdown",
   "metadata": {},
   "source": [
    "**4. SENDING MAILS TO GOPHISH**"
   ]
  },
  {
   "cell_type": "markdown",
   "metadata": {},
   "source": []
  },
  {
   "cell_type": "code",
   "execution_count": 275,
   "metadata": {},
   "outputs": [],
   "source": [
    "# Load environment variables from .env file\n",
    "load_dotenv()\n",
    "\n",
    "# Get data from .env file\n",
    "api_key = os.getenv('GOPHISH_API_KEY')\n",
    "smtp_password = os.getenv('SMTP_PASSWORD')\n",
    "smtp_email = os.getenv('SMTP_EMAIL')"
   ]
  },
  {
   "cell_type": "code",
   "execution_count": 276,
   "metadata": {},
   "outputs": [
    {
     "name": "stdout",
     "output_type": "stream",
     "text": [
      "Connection error: HTTPSConnectionPool(host='localhost', port=3333): Max retries exceeded with url: /api/campaigns/ (Caused by NewConnectionError('<urllib3.connection.HTTPSConnection object at 0x000001E32A2B4DA0>: Failed to establish a new connection: [WinError 10061] No connection could be made because the target machine actively refused it'))\n"
     ]
    }
   ],
   "source": [
    "api_url = 'https://localhost:3333'\n",
    "api = Gophish(api_key, host=api_url, verify=False)\n",
    "\n",
    "# Test - Fetching the list of campaigns\n",
    "try:\n",
    "    campaigns = api.campaigns.get()\n",
    "    print(f\"Successfully connected! Number of campaigns: {len(campaigns)}\")\n",
    "except Exception as e:\n",
    "    print(f\"Connection error: {e}\")"
   ]
  },
  {
   "cell_type": "markdown",
   "metadata": {},
   "source": [
    "Email template"
   ]
  },
  {
   "cell_type": "code",
   "execution_count": null,
   "metadata": {},
   "outputs": [
    {
     "ename": "ConnectionError",
     "evalue": "HTTPSConnectionPool(host='localhost', port=3333): Max retries exceeded with url: /api/templates/ (Caused by NewConnectionError('<urllib3.connection.HTTPSConnection object at 0x000001E32A54F2C0>: Failed to establish a new connection: [WinError 10061] No connection could be made because the target machine actively refused it'))",
     "output_type": "error",
     "traceback": [
      "\u001b[1;31m---------------------------------------------------------------------------\u001b[0m",
      "\u001b[1;31mConnectionRefusedError\u001b[0m                    Traceback (most recent call last)",
      "File \u001b[1;32mc:\\Users\\Rik\\Desktop\\Proximus-Case-Team-4\\proximus\\Lib\\site-packages\\urllib3\\connection.py:198\u001b[0m, in \u001b[0;36m_new_conn\u001b[1;34m(self)\u001b[0m\n\u001b[0;32m      0\u001b[0m <Error retrieving source code with stack_data see ipython/ipython#13598>\n",
      "File \u001b[1;32mc:\\Users\\Rik\\Desktop\\Proximus-Case-Team-4\\proximus\\Lib\\site-packages\\urllib3\\util\\connection.py:85\u001b[0m, in \u001b[0;36mcreate_connection\u001b[1;34m(address, timeout, source_address, socket_options)\u001b[0m\n\u001b[0;32m      0\u001b[0m <Error retrieving source code with stack_data see ipython/ipython#13598>\n",
      "File \u001b[1;32mc:\\Users\\Rik\\Desktop\\Proximus-Case-Team-4\\proximus\\Lib\\site-packages\\urllib3\\util\\connection.py:73\u001b[0m, in \u001b[0;36mcreate_connection\u001b[1;34m(address, timeout, source_address, socket_options)\u001b[0m\n\u001b[0;32m     72\u001b[0m \u001b[38;5;28;01mif\u001b[39;00m source_address:\n\u001b[1;32m---> 73\u001b[0m     sock\u001b[38;5;241m.\u001b[39mbind(source_address)\n\u001b[0;32m     74\u001b[0m sock\u001b[38;5;241m.\u001b[39mconnect(sa)\n",
      "\u001b[1;31mConnectionRefusedError\u001b[0m: [WinError 10061] No connection could be made because the target machine actively refused it",
      "\nThe above exception was the direct cause of the following exception:\n",
      "\u001b[1;31mNewConnectionError\u001b[0m                        Traceback (most recent call last)",
      "File \u001b[1;32mc:\\Users\\Rik\\Desktop\\Proximus-Case-Team-4\\proximus\\Lib\\site-packages\\urllib3\\connectionpool.py:787\u001b[0m, in \u001b[0;36murlopen\u001b[1;34m(self, method, url, body, headers, retries, redirect, assert_same_host, timeout, pool_timeout, release_conn, chunked, body_pos, preload_content, decode_content, **response_kw)\u001b[0m\n\u001b[0;32m    786\u001b[0m     log\u001b[38;5;241m.\u001b[39mdebug(\u001b[38;5;124m\"\u001b[39m\u001b[38;5;124mRedirecting \u001b[39m\u001b[38;5;132;01m%s\u001b[39;00m\u001b[38;5;124m -> \u001b[39m\u001b[38;5;132;01m%s\u001b[39;00m\u001b[38;5;124m\"\u001b[39m, url, redirect_location)\n\u001b[1;32m--> 787\u001b[0m     \u001b[38;5;28;01mreturn\u001b[39;00m \u001b[38;5;28mself\u001b[39m\u001b[38;5;241m.\u001b[39murlopen(\n\u001b[0;32m    788\u001b[0m         method,\n\u001b[0;32m    789\u001b[0m         redirect_location,\n\u001b[0;32m    790\u001b[0m         body,\n\u001b[0;32m    791\u001b[0m         headers,\n\u001b[0;32m    792\u001b[0m         retries\u001b[38;5;241m=\u001b[39mretries,\n\u001b[0;32m    793\u001b[0m         redirect\u001b[38;5;241m=\u001b[39mredirect,\n\u001b[0;32m    794\u001b[0m         assert_same_host\u001b[38;5;241m=\u001b[39massert_same_host,\n\u001b[0;32m    795\u001b[0m         timeout\u001b[38;5;241m=\u001b[39mtimeout,\n\u001b[0;32m    796\u001b[0m         pool_timeout\u001b[38;5;241m=\u001b[39mpool_timeout,\n\u001b[0;32m    797\u001b[0m         release_conn\u001b[38;5;241m=\u001b[39mrelease_conn,\n\u001b[0;32m    798\u001b[0m         chunked\u001b[38;5;241m=\u001b[39mchunked,\n\u001b[0;32m    799\u001b[0m         body_pos\u001b[38;5;241m=\u001b[39mbody_pos,\n\u001b[0;32m    800\u001b[0m         \u001b[38;5;241m*\u001b[39m\u001b[38;5;241m*\u001b[39mresponse_kw\n\u001b[0;32m    801\u001b[0m     )\n\u001b[0;32m    803\u001b[0m \u001b[38;5;66;03m# Check if we should retry the HTTP response.\u001b[39;00m\n",
      "File \u001b[1;32mc:\\Users\\Rik\\Desktop\\Proximus-Case-Team-4\\proximus\\Lib\\site-packages\\urllib3\\connectionpool.py:488\u001b[0m, in \u001b[0;36m_make_request\u001b[1;34m(self, conn, method, url, body, headers, retries, timeout, chunked, response_conn, preload_content, decode_content, enforce_content_length)\u001b[0m\n\u001b[0;32m    487\u001b[0m scheme, host, port \u001b[38;5;241m=\u001b[39m get_host(url)\n\u001b[1;32m--> 488\u001b[0m \u001b[38;5;28;01mif\u001b[39;00m host \u001b[38;5;129;01mis\u001b[39;00m \u001b[38;5;129;01mnot\u001b[39;00m \u001b[38;5;28;01mNone\u001b[39;00m:\n\u001b[0;32m    489\u001b[0m     host \u001b[38;5;241m=\u001b[39m _normalize_host(host, scheme\u001b[38;5;241m=\u001b[39mscheme)\n",
      "File \u001b[1;32mc:\\Users\\Rik\\Desktop\\Proximus-Case-Team-4\\proximus\\Lib\\site-packages\\urllib3\\connectionpool.py:464\u001b[0m, in \u001b[0;36m_make_request\u001b[1;34m(self, conn, method, url, body, headers, retries, timeout, chunked, response_conn, preload_content, decode_content, enforce_content_length)\u001b[0m\n\u001b[0;32m    461\u001b[0m \u001b[38;5;250m\u001b[39m\u001b[38;5;124;03m\"\"\"\u001b[39;00m\n\u001b[0;32m    462\u001b[0m \u001b[38;5;124;03mClose all pooled connections and disable the pool.\u001b[39;00m\n\u001b[0;32m    463\u001b[0m \u001b[38;5;124;03m\"\"\"\u001b[39;00m\n\u001b[1;32m--> 464\u001b[0m \u001b[38;5;28;01mif\u001b[39;00m \u001b[38;5;28mself\u001b[39m\u001b[38;5;241m.\u001b[39mpool \u001b[38;5;129;01mis\u001b[39;00m \u001b[38;5;28;01mNone\u001b[39;00m:\n\u001b[0;32m    465\u001b[0m     \u001b[38;5;28;01mreturn\u001b[39;00m\n",
      "File \u001b[1;32mc:\\Users\\Rik\\Desktop\\Proximus-Case-Team-4\\proximus\\Lib\\site-packages\\urllib3\\connectionpool.py:1093\u001b[0m, in \u001b[0;36m_validate_conn\u001b[1;34m(self, conn)\u001b[0m\n\u001b[0;32m      0\u001b[0m <Error retrieving source code with stack_data see ipython/ipython#13598>\n",
      "File \u001b[1;32mc:\\Users\\Rik\\Desktop\\Proximus-Case-Team-4\\proximus\\Lib\\site-packages\\urllib3\\connection.py:704\u001b[0m, in \u001b[0;36mconnect\u001b[1;34m(self)\u001b[0m\n\u001b[0;32m      0\u001b[0m <Error retrieving source code with stack_data see ipython/ipython#13598>\n",
      "File \u001b[1;32mc:\\Users\\Rik\\Desktop\\Proximus-Case-Team-4\\proximus\\Lib\\site-packages\\urllib3\\connection.py:213\u001b[0m, in \u001b[0;36m_new_conn\u001b[1;34m(self)\u001b[0m\n\u001b[0;32m    212\u001b[0m \u001b[38;5;28;01mfor\u001b[39;00m header, value \u001b[38;5;129;01min\u001b[39;00m headers\u001b[38;5;241m.\u001b[39mitems():\n\u001b[1;32m--> 213\u001b[0m     \u001b[38;5;28mself\u001b[39m\u001b[38;5;241m.\u001b[39mputheader(header, value)\n\u001b[0;32m    214\u001b[0m \u001b[38;5;28;01mif\u001b[39;00m \u001b[38;5;124m\"\u001b[39m\u001b[38;5;124mtransfer-encoding\u001b[39m\u001b[38;5;124m\"\u001b[39m \u001b[38;5;129;01mnot\u001b[39;00m \u001b[38;5;129;01min\u001b[39;00m headers:\n",
      "\u001b[1;31mNewConnectionError\u001b[0m: <urllib3.connection.HTTPSConnection object at 0x000001E32A54F2C0>: Failed to establish a new connection: [WinError 10061] No connection could be made because the target machine actively refused it",
      "\nThe above exception was the direct cause of the following exception:\n",
      "\u001b[1;31mMaxRetryError\u001b[0m                             Traceback (most recent call last)",
      "File \u001b[1;32mc:\\Users\\Rik\\Desktop\\Proximus-Case-Team-4\\proximus\\Lib\\site-packages\\requests\\adapters.py:667\u001b[0m, in \u001b[0;36msend\u001b[1;34m(self, request, stream, timeout, verify, cert, proxies)\u001b[0m\n\u001b[0;32m      0\u001b[0m <Error retrieving source code with stack_data see ipython/ipython#13598>\n",
      "File \u001b[1;32mc:\\Users\\Rik\\Desktop\\Proximus-Case-Team-4\\proximus\\Lib\\site-packages\\urllib3\\connectionpool.py:841\u001b[0m, in \u001b[0;36murlopen\u001b[1;34m(self, method, url, body, headers, retries, redirect, assert_same_host, timeout, pool_timeout, release_conn, chunked, body_pos, preload_content, decode_content, **response_kw)\u001b[0m\n\u001b[0;32m    836\u001b[0m \u001b[38;5;28;01mclass\u001b[39;00m\u001b[38;5;250m \u001b[39m\u001b[38;5;21;01mHTTPSConnectionPool\u001b[39;00m(HTTPConnectionPool):\n\u001b[0;32m    837\u001b[0m \u001b[38;5;250m    \u001b[39m\u001b[38;5;124;03m\"\"\"\u001b[39;00m\n\u001b[0;32m    838\u001b[0m \u001b[38;5;124;03m    Same as :class:`.HTTPConnectionPool`, but HTTPS.\u001b[39;00m\n\u001b[0;32m    839\u001b[0m \n\u001b[0;32m    840\u001b[0m \u001b[38;5;124;03m    When Python is compiled with the :mod:`ssl` module, then\u001b[39;00m\n\u001b[1;32m--> 841\u001b[0m \u001b[38;5;124;03m    :class:`.VerifiedHTTPSConnection` is used, which *can* verify certificates,\u001b[39;00m\n\u001b[0;32m    842\u001b[0m \u001b[38;5;124;03m    instead of :class:`.HTTPSConnection`.\u001b[39;00m\n\u001b[0;32m    843\u001b[0m \n\u001b[0;32m    844\u001b[0m \u001b[38;5;124;03m    :class:`.VerifiedHTTPSConnection` uses one of ``assert_fingerprint``,\u001b[39;00m\n\u001b[0;32m    845\u001b[0m \u001b[38;5;124;03m    ``assert_hostname`` and ``host`` in this order to verify connections.\u001b[39;00m\n\u001b[0;32m    846\u001b[0m \u001b[38;5;124;03m    If ``assert_hostname`` is False, no verification is done.\u001b[39;00m\n\u001b[0;32m    847\u001b[0m \n\u001b[0;32m    848\u001b[0m \u001b[38;5;124;03m    The ``key_file``, ``cert_file``, ``cert_reqs``, ``ca_certs``,\u001b[39;00m\n\u001b[0;32m    849\u001b[0m \u001b[38;5;124;03m    ``ca_cert_dir``, ``ssl_version``, ``key_password`` are only used if :mod:`ssl`\u001b[39;00m\n\u001b[0;32m    850\u001b[0m \u001b[38;5;124;03m    is available and are fed into :meth:`urllib3.util.ssl_wrap_socket` to upgrade\u001b[39;00m\n\u001b[0;32m    851\u001b[0m \u001b[38;5;124;03m    the connection socket into an SSL socket.\u001b[39;00m\n\u001b[0;32m    852\u001b[0m \u001b[38;5;124;03m    \"\"\"\u001b[39;00m\n\u001b[0;32m    854\u001b[0m     scheme \u001b[38;5;241m=\u001b[39m \u001b[38;5;124m\"\u001b[39m\u001b[38;5;124mhttps\u001b[39m\u001b[38;5;124m\"\u001b[39m\n",
      "File \u001b[1;32mc:\\Users\\Rik\\Desktop\\Proximus-Case-Team-4\\proximus\\Lib\\site-packages\\urllib3\\util\\retry.py:519\u001b[0m, in \u001b[0;36mincrement\u001b[1;34m(self, method, url, response, error, _pool, _stacktrace)\u001b[0m\n\u001b[0;32m      0\u001b[0m <Error retrieving source code with stack_data see ipython/ipython#13598>\n",
      "\u001b[1;31mMaxRetryError\u001b[0m: HTTPSConnectionPool(host='localhost', port=3333): Max retries exceeded with url: /api/templates/ (Caused by NewConnectionError('<urllib3.connection.HTTPSConnection object at 0x000001E32A54F2C0>: Failed to establish a new connection: [WinError 10061] No connection could be made because the target machine actively refused it'))",
      "\nDuring handling of the above exception, another exception occurred:\n",
      "\u001b[1;31mConnectionError\u001b[0m                           Traceback (most recent call last)",
      "Cell \u001b[1;32mIn[277], line 23\u001b[0m\n\u001b[0;32m     15\u001b[0m template \u001b[38;5;241m=\u001b[39m Template(\n\u001b[0;32m     16\u001b[0m     name\u001b[38;5;241m=\u001b[39mtemplate_name,\n\u001b[0;32m     17\u001b[0m     subject\u001b[38;5;241m=\u001b[39m\u001b[38;5;124m\"\u001b[39m\u001b[38;5;124mImportant Update\u001b[39m\u001b[38;5;124m\"\u001b[39m,  \n\u001b[0;32m     18\u001b[0m     text\u001b[38;5;241m=\u001b[39m\u001b[38;5;124m\"\u001b[39m\u001b[38;5;124mFallback text for the email.\u001b[39m\u001b[38;5;124m\"\u001b[39m,  \n\u001b[0;32m     19\u001b[0m     html\u001b[38;5;241m=\u001b[39mhtml_content  \n\u001b[0;32m     20\u001b[0m )\n\u001b[0;32m     22\u001b[0m \u001b[38;5;66;03m# Send a request to the API to create a template\u001b[39;00m\n\u001b[1;32m---> 23\u001b[0m created_template \u001b[38;5;241m=\u001b[39m \u001b[43mapi\u001b[49m\u001b[38;5;241;43m.\u001b[39;49m\u001b[43mtemplates\u001b[49m\u001b[38;5;241;43m.\u001b[39;49m\u001b[43mpost\u001b[49m\u001b[43m(\u001b[49m\u001b[43mtemplate\u001b[49m\u001b[43m)\u001b[49m\n\u001b[0;32m     24\u001b[0m \u001b[38;5;28mprint\u001b[39m(\u001b[38;5;124mf\u001b[39m\u001b[38;5;124m\"\u001b[39m\u001b[38;5;124mTemplate \u001b[39m\u001b[38;5;124m'\u001b[39m\u001b[38;5;132;01m{\u001b[39;00mtemplate_name\u001b[38;5;132;01m}\u001b[39;00m\u001b[38;5;124m'\u001b[39m\u001b[38;5;124m created with ID: \u001b[39m\u001b[38;5;132;01m{\u001b[39;00mcreated_template\u001b[38;5;241m.\u001b[39mid\u001b[38;5;132;01m}\u001b[39;00m\u001b[38;5;124m\"\u001b[39m)\n",
      "File \u001b[1;32mc:\\Users\\Rik\\Desktop\\Proximus-Case-Team-4\\proximus\\Lib\\site-packages\\gophish\\api\\templates.py:17\u001b[0m, in \u001b[0;36mAPI.post\u001b[1;34m(self, template)\u001b[0m\n\u001b[0;32m     14\u001b[0m \u001b[38;5;28;01mdef\u001b[39;00m\u001b[38;5;250m \u001b[39m\u001b[38;5;21mpost\u001b[39m(\u001b[38;5;28mself\u001b[39m, template):\n\u001b[0;32m     15\u001b[0m \u001b[38;5;250m    \u001b[39m\u001b[38;5;124;03m\"\"\" Creates a new template \"\"\"\u001b[39;00m\n\u001b[1;32m---> 17\u001b[0m     \u001b[38;5;28;01mreturn\u001b[39;00m \u001b[38;5;28;43msuper\u001b[39;49m\u001b[43m(\u001b[49m\u001b[43mAPI\u001b[49m\u001b[43m,\u001b[49m\u001b[43m \u001b[49m\u001b[38;5;28;43mself\u001b[39;49m\u001b[43m)\u001b[49m\u001b[38;5;241;43m.\u001b[39;49m\u001b[43mpost\u001b[49m\u001b[43m(\u001b[49m\u001b[43mtemplate\u001b[49m\u001b[43m)\u001b[49m\n",
      "File \u001b[1;32mc:\\Users\\Rik\\Desktop\\Proximus-Case-Team-4\\proximus\\Lib\\site-packages\\gophish\\api\\api.py:101\u001b[0m, in \u001b[0;36mAPIEndpoint.post\u001b[1;34m(self, resource)\u001b[0m\n\u001b[0;32m     94\u001b[0m \u001b[38;5;28;01mdef\u001b[39;00m\u001b[38;5;250m \u001b[39m\u001b[38;5;21mpost\u001b[39m(\u001b[38;5;28mself\u001b[39m, resource):\n\u001b[0;32m     95\u001b[0m \u001b[38;5;250m    \u001b[39m\u001b[38;5;124;03m\"\"\" Creates a new instance of the resource.\u001b[39;00m\n\u001b[0;32m     96\u001b[0m \n\u001b[0;32m     97\u001b[0m \u001b[38;5;124;03m    Args:\u001b[39;00m\n\u001b[0;32m     98\u001b[0m \u001b[38;5;124;03m        resource - gophish.models.Model - The resource instance\u001b[39;00m\n\u001b[0;32m     99\u001b[0m \n\u001b[0;32m    100\u001b[0m \u001b[38;5;124;03m    \"\"\"\u001b[39;00m\n\u001b[1;32m--> 101\u001b[0m     response \u001b[38;5;241m=\u001b[39m \u001b[38;5;28;43mself\u001b[39;49m\u001b[38;5;241;43m.\u001b[39;49m\u001b[43mapi\u001b[49m\u001b[38;5;241;43m.\u001b[39;49m\u001b[43mexecute\u001b[49m\u001b[43m(\u001b[49m\u001b[38;5;124;43m\"\u001b[39;49m\u001b[38;5;124;43mPOST\u001b[39;49m\u001b[38;5;124;43m\"\u001b[39;49m\u001b[43m,\u001b[49m\n\u001b[0;32m    102\u001b[0m \u001b[43m                                \u001b[49m\u001b[38;5;28;43mself\u001b[39;49m\u001b[38;5;241;43m.\u001b[39;49m\u001b[43mendpoint\u001b[49m\u001b[43m,\u001b[49m\n\u001b[0;32m    103\u001b[0m \u001b[43m                                \u001b[49m\u001b[43mjson\u001b[49m\u001b[38;5;241;43m=\u001b[39;49m\u001b[43m(\u001b[49m\u001b[43mresource\u001b[49m\u001b[38;5;241;43m.\u001b[39;49m\u001b[43mas_dict\u001b[49m\u001b[43m(\u001b[49m\u001b[43m)\u001b[49m\u001b[43m)\u001b[49m\u001b[43m)\u001b[49m\n\u001b[0;32m    105\u001b[0m     \u001b[38;5;28;01mif\u001b[39;00m \u001b[38;5;129;01mnot\u001b[39;00m response\u001b[38;5;241m.\u001b[39mok:\n\u001b[0;32m    106\u001b[0m         \u001b[38;5;28;01mraise\u001b[39;00m Error\u001b[38;5;241m.\u001b[39mparse(response\u001b[38;5;241m.\u001b[39mjson())\n",
      "File \u001b[1;32mc:\\Users\\Rik\\Desktop\\Proximus-Case-Team-4\\proximus\\Lib\\site-packages\\gophish\\client.py:24\u001b[0m, in \u001b[0;36mGophishClient.execute\u001b[1;34m(self, method, path, **kwargs)\u001b[0m\n\u001b[0;32m     22\u001b[0m url \u001b[38;5;241m=\u001b[39m \u001b[38;5;124m\"\u001b[39m\u001b[38;5;132;01m{}\u001b[39;00m\u001b[38;5;132;01m{}\u001b[39;00m\u001b[38;5;124m\"\u001b[39m\u001b[38;5;241m.\u001b[39mformat(\u001b[38;5;28mself\u001b[39m\u001b[38;5;241m.\u001b[39mhost, path)\n\u001b[0;32m     23\u001b[0m kwargs\u001b[38;5;241m.\u001b[39mupdate(\u001b[38;5;28mself\u001b[39m\u001b[38;5;241m.\u001b[39m_client_kwargs)\n\u001b[1;32m---> 24\u001b[0m response \u001b[38;5;241m=\u001b[39m \u001b[43mrequests\u001b[49m\u001b[38;5;241;43m.\u001b[39;49m\u001b[43mrequest\u001b[49m\u001b[43m(\u001b[49m\n\u001b[0;32m     25\u001b[0m \u001b[43m    \u001b[49m\u001b[43mmethod\u001b[49m\u001b[43m,\u001b[49m\n\u001b[0;32m     26\u001b[0m \u001b[43m    \u001b[49m\u001b[43murl\u001b[49m\u001b[43m,\u001b[49m\n\u001b[0;32m     27\u001b[0m \u001b[43m    \u001b[49m\u001b[43mheaders\u001b[49m\u001b[38;5;241;43m=\u001b[39;49m\u001b[43m{\u001b[49m\u001b[38;5;124;43m\"\u001b[39;49m\u001b[38;5;124;43mAuthorization\u001b[39;49m\u001b[38;5;124;43m\"\u001b[39;49m\u001b[43m:\u001b[49m\u001b[43m \u001b[49m\u001b[38;5;124;43m\"\u001b[39;49m\u001b[38;5;124;43mBearer \u001b[39;49m\u001b[38;5;132;43;01m{}\u001b[39;49;00m\u001b[38;5;124;43m\"\u001b[39;49m\u001b[38;5;241;43m.\u001b[39;49m\u001b[43mformat\u001b[49m\u001b[43m(\u001b[49m\u001b[38;5;28;43mself\u001b[39;49m\u001b[38;5;241;43m.\u001b[39;49m\u001b[43mapi_key\u001b[49m\u001b[43m)\u001b[49m\u001b[43m}\u001b[49m\u001b[43m,\u001b[49m\n\u001b[0;32m     28\u001b[0m \u001b[43m    \u001b[49m\u001b[38;5;241;43m*\u001b[39;49m\u001b[38;5;241;43m*\u001b[39;49m\u001b[43mkwargs\u001b[49m\u001b[43m)\u001b[49m\n\u001b[0;32m     29\u001b[0m \u001b[38;5;28;01mreturn\u001b[39;00m response\n",
      "File \u001b[1;32mc:\\Users\\Rik\\Desktop\\Proximus-Case-Team-4\\proximus\\Lib\\site-packages\\requests\\api.py:59\u001b[0m, in \u001b[0;36mrequest\u001b[1;34m(method, url, **kwargs)\u001b[0m\n\u001b[0;32m     16\u001b[0m def request(method, url, **kwargs):\n\u001b[0;32m     17\u001b[0m     \"\"\"Constructs and sends a :class:`Request <Request>`.\n\u001b[0;32m     18\u001b[0m \n\u001b[0;32m     19\u001b[0m     :param method: method for the new :class:`Request` object: ``GET``, ``OPTIONS``, ``HEAD``, ``POST``, ``PUT``, ``PATCH``, or ``DELETE``.\n\u001b[1;32m   (...)\u001b[0m\n\u001b[0;32m     54\u001b[0m       <Response [200]>\n\u001b[0;32m     55\u001b[0m     \"\"\"\n\u001b[0;32m     57\u001b[0m     # By using the 'with' statement we are sure the session is closed, thus we\n\u001b[0;32m     58\u001b[0m     # avoid leaving sockets open which can trigger a ResourceWarning in some\n\u001b[1;32m---> 59\u001b[0m     # cases, and look like a memory leak in others.\n\u001b[0;32m     60\u001b[0m     with sessions.Session() as session:\n\u001b[0;32m     61\u001b[0m         return session.request(method=method, url=url, **kwargs)\n",
      "File \u001b[1;32mc:\\Users\\Rik\\Desktop\\Proximus-Case-Team-4\\proximus\\Lib\\site-packages\\requests\\sessions.py:589\u001b[0m, in \u001b[0;36mrequest\u001b[1;34m(self, method, url, params, data, headers, cookies, files, auth, timeout, allow_redirects, proxies, hooks, stream, verify, cert, json)\u001b[0m\n\u001b[0;32m      0\u001b[0m <Error retrieving source code with stack_data see ipython/ipython#13598>\n",
      "File \u001b[1;32mc:\\Users\\Rik\\Desktop\\Proximus-Case-Team-4\\proximus\\Lib\\site-packages\\requests\\sessions.py:703\u001b[0m, in \u001b[0;36msend\u001b[1;34m(self, request, **kwargs)\u001b[0m\n\u001b[0;32m    700\u001b[0m for (k, v) in env_proxies.items():\n\u001b[0;32m    701\u001b[0m     proxies.setdefault(k, v)\n\u001b[1;32m--> 703\u001b[0m # Look for requests environment configuration and be compatible\n\u001b[0;32m    704\u001b[0m # with cURL.\n\u001b[0;32m    705\u001b[0m if verify is True or verify is None:\n\u001b[0;32m    706\u001b[0m     verify = (os.environ.get('REQUESTS_CA_BUNDLE') or\n\u001b[0;32m    707\u001b[0m               os.environ.get('CURL_CA_BUNDLE'))\n",
      "File \u001b[1;32mc:\\Users\\Rik\\Desktop\\Proximus-Case-Team-4\\proximus\\Lib\\site-packages\\requests\\adapters.py:700\u001b[0m, in \u001b[0;36msend\u001b[1;34m(self, request, stream, timeout, verify, cert, proxies)\u001b[0m\n\u001b[0;32m      0\u001b[0m <Error retrieving source code with stack_data see ipython/ipython#13598>\n",
      "\u001b[1;31mConnectionError\u001b[0m: HTTPSConnectionPool(host='localhost', port=3333): Max retries exceeded with url: /api/templates/ (Caused by NewConnectionError('<urllib3.connection.HTTPSConnection object at 0x000001E32A54F2C0>: Failed to establish a new connection: [WinError 10061] No connection could be made because the target machine actively refused it'))"
     ]
    },
    {
     "ename": "",
     "evalue": "",
     "output_type": "error",
     "traceback": [
      "\u001b[1;31mThe Kernel crashed while executing code in the current cell or a previous cell. \n",
      "\u001b[1;31mPlease review the code in the cell(s) to identify a possible cause of the failure. \n",
      "\u001b[1;31mClick <a href='https://aka.ms/vscodeJupyterKernelCrash'>here</a> for more info. \n",
      "\u001b[1;31mView Jupyter <a href='command:jupyter.viewOutput'>log</a> for further details."
     ]
    }
   ],
   "source": [
    "\n",
    "samples_folder = \"samples\"\n",
    "\n",
    "# Iterating through files in a folder\n",
    "for filename in os.listdir(samples_folder):\n",
    "    if filename.endswith(\".html\"):\n",
    "        # Load the content of the HTML file\n",
    "        file_path = os.path.join(samples_folder, filename)\n",
    "        with open(file_path, \"r\", encoding=\"utf-8\") as file:\n",
    "            html_content = file.read()\n",
    "        \n",
    "        # Create a template name based on the file name\n",
    "        template_name = os.path.splitext(filename)[0]\n",
    "        \n",
    "        # Creating a Email Template \n",
    "        template = Template(\n",
    "            name=template_name,\n",
    "            subject=\"Important Update\",  \n",
    "            text=\"Fallback text for the email.\",  \n",
    "            html=html_content  \n",
    "        )\n",
    "        \n",
    "        # Send a request to the API to create a template\n",
    "        created_template = api.templates.post(template)\n",
    "        print(f\"Template '{template_name}' created with ID: {created_template.id}\")"
   ]
  },
  {
   "cell_type": "markdown",
   "metadata": {},
   "source": [
    "Landing Page"
   ]
  },
  {
   "cell_type": "code",
   "execution_count": 5,
   "metadata": {},
   "outputs": [
    {
     "name": "stdout",
     "output_type": "stream",
     "text": [
      "Landing page created with ID: 7\n"
     ]
    },
    {
     "name": "stderr",
     "output_type": "stream",
     "text": [
      "c:\\Users\\izama\\Documents\\GitHub\\GNT-Arai-7\\Proximus-Case-Team-4\\.venv\\Lib\\site-packages\\urllib3\\connectionpool.py:1097: InsecureRequestWarning: Unverified HTTPS request is being made to host 'localhost'. Adding certificate verification is strongly advised. See: https://urllib3.readthedocs.io/en/latest/advanced-usage.html#tls-warnings\n",
      "  warnings.warn(\n"
     ]
    }
   ],
   "source": [
    "# Create a new landing page with the desired HTML content\n",
    "page = Page(\n",
    "    name='Test Page',  # Name of the page\n",
    "    html=\"<html><body>Click <a href=\\\"{{.URL}}\\\">here</a></body></html>\"  # HTML content with a placeholder for the URL\n",
    ")\n",
    "\n",
    "# Sending the request to the API to create the landing page\n",
    "created_page = api.pages.post(page)\n",
    "\n",
    "# Printing the ID of the created landing page\n",
    "print(f\"Landing page created with ID: {created_page.id}\")\n"
   ]
  },
  {
   "cell_type": "markdown",
   "metadata": {},
   "source": [
    "Sending profile"
   ]
  },
  {
   "cell_type": "code",
   "execution_count": 6,
   "metadata": {},
   "outputs": [
    {
     "name": "stdout",
     "output_type": "stream",
     "text": [
      "Sending profile created with ID: 7\n"
     ]
    },
    {
     "name": "stderr",
     "output_type": "stream",
     "text": [
      "c:\\Users\\izama\\Documents\\GitHub\\GNT-Arai-7\\Proximus-Case-Team-4\\.venv\\Lib\\site-packages\\urllib3\\connectionpool.py:1097: InsecureRequestWarning: Unverified HTTPS request is being made to host 'localhost'. Adding certificate verification is strongly advised. See: https://urllib3.readthedocs.io/en/latest/advanced-usage.html#tls-warnings\n",
      "  warnings.warn(\n"
     ]
    }
   ],
   "source": [
    "# Create a new SMTP sending profile\n",
    "smtp = SMTP(name='Test SMTP')  # Create the SMTP profile with a name\n",
    "smtp.host = \"smtp.gmail.com:587\"  # Gmail SMTP server with port 587\n",
    "smtp.from_address = smtp_email  # Sender email address from .env file\n",
    "smtp.interface_type = \"SMTP\"  # Define interface type as SMTP\n",
    "smtp.username = smtp_email  # Set a user namefrom .env file\n",
    "smtp.password = smtp_password   # Password from .env file\n",
    "smtp.ignore_cert_errors = True  # Ignore certificate errors for testing\n",
    "\n",
    "\n",
    "# Sending the request to the API to create the sending profile\n",
    "created_smtp = api.smtp.post(smtp)\n",
    "\n",
    "# Printing the ID of the created sending profile\n",
    "print(f\"Sending profile created with ID: {created_smtp.id}\")"
   ]
  },
  {
   "cell_type": "markdown",
   "metadata": {},
   "source": [
    "Create New Group"
   ]
  },
  {
   "cell_type": "code",
   "execution_count": 7,
   "metadata": {},
   "outputs": [
    {
     "name": "stdout",
     "output_type": "stream",
     "text": [
      "Group created with ID: 4\n"
     ]
    },
    {
     "name": "stderr",
     "output_type": "stream",
     "text": [
      "c:\\Users\\izama\\Documents\\GitHub\\GNT-Arai-7\\Proximus-Case-Team-4\\.venv\\Lib\\site-packages\\urllib3\\connectionpool.py:1097: InsecureRequestWarning: Unverified HTTPS request is being made to host 'localhost'. Adding certificate verification is strongly advised. See: https://urllib3.readthedocs.io/en/latest/advanced-usage.html#tls-warnings\n",
      "  warnings.warn(\n"
     ]
    }
   ],
   "source": [
    "# Create a list of users (targets)\n",
    "targets = [\n",
    "    User(first_name='Izu', last_name='Mac', email='imb95@icloud.com')\n",
    "]\n",
    "\n",
    "# Create a group with a name and targets\n",
    "group = Group(name='Test Group', targets=targets)\n",
    "\n",
    "# Sending the request to the API to create the group\n",
    "created_group = api.groups.post(group)\n",
    "\n",
    "# Printing the ID of the created group\n",
    "print(f\"Group created with ID: {created_group.id}\")"
   ]
  },
  {
   "cell_type": "markdown",
   "metadata": {},
   "source": [
    "Create New Campaign\n"
   ]
  },
  {
   "cell_type": "code",
   "execution_count": 12,
   "metadata": {},
   "outputs": [
    {
     "name": "stderr",
     "output_type": "stream",
     "text": [
      "c:\\Users\\izama\\Documents\\GitHub\\GNT-Arai-7\\Proximus-Case-Team-4\\.venv\\Lib\\site-packages\\urllib3\\connectionpool.py:1097: InsecureRequestWarning: Unverified HTTPS request is being made to host 'localhost'. Adding certificate verification is strongly advised. See: https://urllib3.readthedocs.io/en/latest/advanced-usage.html#tls-warnings\n",
      "  warnings.warn(\n"
     ]
    },
    {
     "name": "stdout",
     "output_type": "stream",
     "text": [
      "Template 'Dear Emma Wouters,_phishing_email_Critical_ Enhance Fiber Network Marketing with Accenture's Tech Insights_1737655571' created with ID: 19\n"
     ]
    },
    {
     "name": "stderr",
     "output_type": "stream",
     "text": [
      "c:\\Users\\izama\\Documents\\GitHub\\GNT-Arai-7\\Proximus-Case-Team-4\\.venv\\Lib\\site-packages\\urllib3\\connectionpool.py:1097: InsecureRequestWarning: Unverified HTTPS request is being made to host 'localhost'. Adding certificate verification is strongly advised. See: https://urllib3.readthedocs.io/en/latest/advanced-usage.html#tls-warnings\n",
      "  warnings.warn(\n"
     ]
    },
    {
     "name": "stdout",
     "output_type": "stream",
     "text": [
      "Campaign 'Campaign for Dear Emma Wouters,_phishing_email_Critical_ Enhance Fiber Network Marketing with Accenture's Tech Insights_1737655571' created with ID: 13\n"
     ]
    },
    {
     "name": "stderr",
     "output_type": "stream",
     "text": [
      "c:\\Users\\izama\\Documents\\GitHub\\GNT-Arai-7\\Proximus-Case-Team-4\\.venv\\Lib\\site-packages\\urllib3\\connectionpool.py:1097: InsecureRequestWarning: Unverified HTTPS request is being made to host 'localhost'. Adding certificate verification is strongly advised. See: https://urllib3.readthedocs.io/en/latest/advanced-usage.html#tls-warnings\n",
      "  warnings.warn(\n"
     ]
    },
    {
     "name": "stdout",
     "output_type": "stream",
     "text": [
      "Template 'Dear Emma Wouters,_phishing_email_Critical_ Marketing Strategy Adjustment Needed for Digital TV Platform_1737655575' created with ID: 20\n"
     ]
    },
    {
     "name": "stderr",
     "output_type": "stream",
     "text": [
      "c:\\Users\\izama\\Documents\\GitHub\\GNT-Arai-7\\Proximus-Case-Team-4\\.venv\\Lib\\site-packages\\urllib3\\connectionpool.py:1097: InsecureRequestWarning: Unverified HTTPS request is being made to host 'localhost'. Adding certificate verification is strongly advised. See: https://urllib3.readthedocs.io/en/latest/advanced-usage.html#tls-warnings\n",
      "  warnings.warn(\n"
     ]
    },
    {
     "name": "stdout",
     "output_type": "stream",
     "text": [
      "Campaign 'Campaign for Dear Emma Wouters,_phishing_email_Critical_ Marketing Strategy Adjustment Needed for Digital TV Platform_1737655575' created with ID: 14\n"
     ]
    },
    {
     "name": "stderr",
     "output_type": "stream",
     "text": [
      "c:\\Users\\izama\\Documents\\GitHub\\GNT-Arai-7\\Proximus-Case-Team-4\\.venv\\Lib\\site-packages\\urllib3\\connectionpool.py:1097: InsecureRequestWarning: Unverified HTTPS request is being made to host 'localhost'. Adding certificate verification is strongly advised. See: https://urllib3.readthedocs.io/en/latest/advanced-usage.html#tls-warnings\n",
      "  warnings.warn(\n"
     ]
    },
    {
     "name": "stdout",
     "output_type": "stream",
     "text": [
      "Template 'Dear Emma Wouters,_phishing_email_Don't Miss Out_ Digital TV Platform Marketing Conference_1737655579' created with ID: 21\n"
     ]
    },
    {
     "name": "stderr",
     "output_type": "stream",
     "text": [
      "c:\\Users\\izama\\Documents\\GitHub\\GNT-Arai-7\\Proximus-Case-Team-4\\.venv\\Lib\\site-packages\\urllib3\\connectionpool.py:1097: InsecureRequestWarning: Unverified HTTPS request is being made to host 'localhost'. Adding certificate verification is strongly advised. See: https://urllib3.readthedocs.io/en/latest/advanced-usage.html#tls-warnings\n",
      "  warnings.warn(\n"
     ]
    },
    {
     "name": "stdout",
     "output_type": "stream",
     "text": [
      "Campaign 'Campaign for Dear Emma Wouters,_phishing_email_Don't Miss Out_ Digital TV Platform Marketing Conference_1737655579' created with ID: 15\n"
     ]
    },
    {
     "name": "stderr",
     "output_type": "stream",
     "text": [
      "c:\\Users\\izama\\Documents\\GitHub\\GNT-Arai-7\\Proximus-Case-Team-4\\.venv\\Lib\\site-packages\\urllib3\\connectionpool.py:1097: InsecureRequestWarning: Unverified HTTPS request is being made to host 'localhost'. Adding certificate verification is strongly advised. See: https://urllib3.readthedocs.io/en/latest/advanced-usage.html#tls-warnings\n",
      "  warnings.warn(\n"
     ]
    },
    {
     "name": "stdout",
     "output_type": "stream",
     "text": [
      "Template 'Dear Emma Wouters,_phishing_email_Exclusive Invitation_ Digital TV Platform Conference for Marketing Specialists_1737655583' created with ID: 22\n"
     ]
    },
    {
     "name": "stderr",
     "output_type": "stream",
     "text": [
      "c:\\Users\\izama\\Documents\\GitHub\\GNT-Arai-7\\Proximus-Case-Team-4\\.venv\\Lib\\site-packages\\urllib3\\connectionpool.py:1097: InsecureRequestWarning: Unverified HTTPS request is being made to host 'localhost'. Adding certificate verification is strongly advised. See: https://urllib3.readthedocs.io/en/latest/advanced-usage.html#tls-warnings\n",
      "  warnings.warn(\n"
     ]
    },
    {
     "name": "stdout",
     "output_type": "stream",
     "text": [
      "Campaign 'Campaign for Dear Emma Wouters,_phishing_email_Exclusive Invitation_ Digital TV Platform Conference for Marketing Specialists_1737655583' created with ID: 16\n"
     ]
    },
    {
     "name": "stderr",
     "output_type": "stream",
     "text": [
      "c:\\Users\\izama\\Documents\\GitHub\\GNT-Arai-7\\Proximus-Case-Team-4\\.venv\\Lib\\site-packages\\urllib3\\connectionpool.py:1097: InsecureRequestWarning: Unverified HTTPS request is being made to host 'localhost'. Adding certificate verification is strongly advised. See: https://urllib3.readthedocs.io/en/latest/advanced-usage.html#tls-warnings\n",
      "  warnings.warn(\n"
     ]
    },
    {
     "name": "stdout",
     "output_type": "stream",
     "text": [
      "Template 'Dear Emma Wouters,_phishing_email_Immediate Action Required_ Digital TV Platform Marketing Strategy Update_1737655587' created with ID: 23\n"
     ]
    },
    {
     "name": "stderr",
     "output_type": "stream",
     "text": [
      "c:\\Users\\izama\\Documents\\GitHub\\GNT-Arai-7\\Proximus-Case-Team-4\\.venv\\Lib\\site-packages\\urllib3\\connectionpool.py:1097: InsecureRequestWarning: Unverified HTTPS request is being made to host 'localhost'. Adding certificate verification is strongly advised. See: https://urllib3.readthedocs.io/en/latest/advanced-usage.html#tls-warnings\n",
      "  warnings.warn(\n"
     ]
    },
    {
     "name": "stdout",
     "output_type": "stream",
     "text": [
      "Campaign 'Campaign for Dear Emma Wouters,_phishing_email_Immediate Action Required_ Digital TV Platform Marketing Strategy Update_1737655587' created with ID: 17\n"
     ]
    },
    {
     "name": "stderr",
     "output_type": "stream",
     "text": [
      "c:\\Users\\izama\\Documents\\GitHub\\GNT-Arai-7\\Proximus-Case-Team-4\\.venv\\Lib\\site-packages\\urllib3\\connectionpool.py:1097: InsecureRequestWarning: Unverified HTTPS request is being made to host 'localhost'. Adding certificate verification is strongly advised. See: https://urllib3.readthedocs.io/en/latest/advanced-usage.html#tls-warnings\n",
      "  warnings.warn(\n"
     ]
    },
    {
     "name": "stdout",
     "output_type": "stream",
     "text": [
      "Template 'Dear Emma Wouters,_phishing_email_Limited Seats_ Digital TV Marketing Conference - Secure Your Spot Now_1737655592' created with ID: 24\n"
     ]
    },
    {
     "name": "stderr",
     "output_type": "stream",
     "text": [
      "c:\\Users\\izama\\Documents\\GitHub\\GNT-Arai-7\\Proximus-Case-Team-4\\.venv\\Lib\\site-packages\\urllib3\\connectionpool.py:1097: InsecureRequestWarning: Unverified HTTPS request is being made to host 'localhost'. Adding certificate verification is strongly advised. See: https://urllib3.readthedocs.io/en/latest/advanced-usage.html#tls-warnings\n",
      "  warnings.warn(\n"
     ]
    },
    {
     "name": "stdout",
     "output_type": "stream",
     "text": [
      "Campaign 'Campaign for Dear Emma Wouters,_phishing_email_Limited Seats_ Digital TV Marketing Conference - Secure Your Spot Now_1737655592' created with ID: 18\n"
     ]
    },
    {
     "name": "stderr",
     "output_type": "stream",
     "text": [
      "c:\\Users\\izama\\Documents\\GitHub\\GNT-Arai-7\\Proximus-Case-Team-4\\.venv\\Lib\\site-packages\\urllib3\\connectionpool.py:1097: InsecureRequestWarning: Unverified HTTPS request is being made to host 'localhost'. Adding certificate verification is strongly advised. See: https://urllib3.readthedocs.io/en/latest/advanced-usage.html#tls-warnings\n",
      "  warnings.warn(\n"
     ]
    },
    {
     "name": "stdout",
     "output_type": "stream",
     "text": [
      "Template 'Dear Emma Wouters,_phishing_email_URGENT_ Digital TV Platform Analysis Requires Immediate Review_1737655596' created with ID: 25\n"
     ]
    },
    {
     "name": "stderr",
     "output_type": "stream",
     "text": [
      "c:\\Users\\izama\\Documents\\GitHub\\GNT-Arai-7\\Proximus-Case-Team-4\\.venv\\Lib\\site-packages\\urllib3\\connectionpool.py:1097: InsecureRequestWarning: Unverified HTTPS request is being made to host 'localhost'. Adding certificate verification is strongly advised. See: https://urllib3.readthedocs.io/en/latest/advanced-usage.html#tls-warnings\n",
      "  warnings.warn(\n"
     ]
    },
    {
     "name": "stdout",
     "output_type": "stream",
     "text": [
      "Campaign 'Campaign for Dear Emma Wouters,_phishing_email_URGENT_ Digital TV Platform Analysis Requires Immediate Review_1737655596' created with ID: 19\n"
     ]
    },
    {
     "name": "stderr",
     "output_type": "stream",
     "text": [
      "c:\\Users\\izama\\Documents\\GitHub\\GNT-Arai-7\\Proximus-Case-Team-4\\.venv\\Lib\\site-packages\\urllib3\\connectionpool.py:1097: InsecureRequestWarning: Unverified HTTPS request is being made to host 'localhost'. Adding certificate verification is strongly advised. See: https://urllib3.readthedocs.io/en/latest/advanced-usage.html#tls-warnings\n",
      "  warnings.warn(\n"
     ]
    },
    {
     "name": "stdout",
     "output_type": "stream",
     "text": [
      "Template 'Dear Emma Wouters,_phishing_email_Urgent_ Optimize Digital TV Strategy for Proximus' New HQ_1737655600' created with ID: 26\n"
     ]
    },
    {
     "name": "stderr",
     "output_type": "stream",
     "text": [
      "c:\\Users\\izama\\Documents\\GitHub\\GNT-Arai-7\\Proximus-Case-Team-4\\.venv\\Lib\\site-packages\\urllib3\\connectionpool.py:1097: InsecureRequestWarning: Unverified HTTPS request is being made to host 'localhost'. Adding certificate verification is strongly advised. See: https://urllib3.readthedocs.io/en/latest/advanced-usage.html#tls-warnings\n",
      "  warnings.warn(\n"
     ]
    },
    {
     "name": "stdout",
     "output_type": "stream",
     "text": [
      "Campaign 'Campaign for Dear Emma Wouters,_phishing_email_Urgent_ Optimize Digital TV Strategy for Proximus' New HQ_1737655600' created with ID: 20\n"
     ]
    },
    {
     "name": "stderr",
     "output_type": "stream",
     "text": [
      "c:\\Users\\izama\\Documents\\GitHub\\GNT-Arai-7\\Proximus-Case-Team-4\\.venv\\Lib\\site-packages\\urllib3\\connectionpool.py:1097: InsecureRequestWarning: Unverified HTTPS request is being made to host 'localhost'. Adding certificate verification is strongly advised. See: https://urllib3.readthedocs.io/en/latest/advanced-usage.html#tls-warnings\n",
      "  warnings.warn(\n"
     ]
    },
    {
     "name": "stdout",
     "output_type": "stream",
     "text": [
      "Template 'Dear Emma Wouters,_phishing_email_Urgent_ Payment Delay Impacting Marketing Campaigns_1737655605' created with ID: 27\n"
     ]
    },
    {
     "name": "stderr",
     "output_type": "stream",
     "text": [
      "c:\\Users\\izama\\Documents\\GitHub\\GNT-Arai-7\\Proximus-Case-Team-4\\.venv\\Lib\\site-packages\\urllib3\\connectionpool.py:1097: InsecureRequestWarning: Unverified HTTPS request is being made to host 'localhost'. Adding certificate verification is strongly advised. See: https://urllib3.readthedocs.io/en/latest/advanced-usage.html#tls-warnings\n",
      "  warnings.warn(\n"
     ]
    },
    {
     "name": "stdout",
     "output_type": "stream",
     "text": [
      "Campaign 'Campaign for Dear Emma Wouters,_phishing_email_Urgent_ Payment Delay Impacting Marketing Campaigns_1737655605' created with ID: 21\n"
     ]
    },
    {
     "name": "stderr",
     "output_type": "stream",
     "text": [
      "c:\\Users\\izama\\Documents\\GitHub\\GNT-Arai-7\\Proximus-Case-Team-4\\.venv\\Lib\\site-packages\\urllib3\\connectionpool.py:1097: InsecureRequestWarning: Unverified HTTPS request is being made to host 'localhost'. Adding certificate verification is strongly advised. See: https://urllib3.readthedocs.io/en/latest/advanced-usage.html#tls-warnings\n",
      "  warnings.warn(\n"
     ]
    },
    {
     "name": "stdout",
     "output_type": "stream",
     "text": [
      "Template 'Dear Emma Wouters,_phishing_email_Urgent_ Proximus Global Strategy – Digital TV Platform Optimization_1737655609' created with ID: 28\n",
      "Campaign 'Campaign for Dear Emma Wouters,_phishing_email_Urgent_ Proximus Global Strategy – Digital TV Platform Optimization_1737655609' created with ID: 22\n"
     ]
    },
    {
     "name": "stderr",
     "output_type": "stream",
     "text": [
      "c:\\Users\\izama\\Documents\\GitHub\\GNT-Arai-7\\Proximus-Case-Team-4\\.venv\\Lib\\site-packages\\urllib3\\connectionpool.py:1097: InsecureRequestWarning: Unverified HTTPS request is being made to host 'localhost'. Adding certificate verification is strongly advised. See: https://urllib3.readthedocs.io/en/latest/advanced-usage.html#tls-warnings\n",
      "  warnings.warn(\n"
     ]
    }
   ],
   "source": [
    "# Path to the folder with sample HTML emails\n",
    "samples_folder = \"samples\"\n",
    "\n",
    "# List of groups (adjust to existing groups in your system)\n",
    "groups = [Group(name='Test Group')]  # Replace with the actual group name\n",
    "\n",
    "# Landing page (adjust to an existing page in your system)\n",
    "page = Page(name='Test Page')  # Replace with the actual page name\n",
    "\n",
    "# SMTP profile (adjust to an existing SMTP profile in your system)\n",
    "smtp = SMTP(name='Test SMTP')  # Replace with the actual SMTP profile name\n",
    "\n",
    "# URL of the phishing server (adjust to your server URL)\n",
    "url = 'http://phishing_server'  # Replace with the actual URL\n",
    "\n",
    "# Iterate over HTML files in the folder\n",
    "for filename in os.listdir(samples_folder):\n",
    "    if filename.endswith(\".html\"):\n",
    "        # Read the content of the HTML file\n",
    "        file_path = os.path.join(samples_folder, filename)\n",
    "        with open(file_path, \"r\", encoding=\"utf-8\") as file:\n",
    "            html_content = file.read()\n",
    "        \n",
    "        # Create a unique template name by appending a timestamp\n",
    "        base_name = os.path.splitext(filename)[0]\n",
    "        timestamp = int(time.time())  # Current Unix timestamp\n",
    "        template_name = f\"{base_name}_{timestamp}\"        \n",
    "        \n",
    "        # Create a template\n",
    "        template = Template(\n",
    "            name=template_name,\n",
    "            subject=f\"Campaign for {template_name}\",  # Adjust the subject as needed\n",
    "            text=\"Fallback text for the email.\",      # Optional plain text content\n",
    "            html=html_content                         # HTML content from the file\n",
    "        )\n",
    "        \n",
    "        # Send a request to the API to create the template\n",
    "        created_template = api.templates.post(template)\n",
    "        print(f\"Template '{template_name}' created with ID: {created_template.id}\")\n",
    "        \n",
    "        # Create a campaign using the template\n",
    "        campaign = Campaign(\n",
    "            name=f\"Campaign for {template_name}\",  # Campaign name\n",
    "            groups=groups,                         # Groups for the campaign\n",
    "            page=page,                             # Landing page\n",
    "            template=created_template,             # Template for the campaign\n",
    "            smtp=smtp                              # SMTP profile\n",
    "        )\n",
    "        \n",
    "        # Send a request to the API to create the campaign\n",
    "        created_campaign = api.campaigns.post(campaign)\n",
    "        print(f\"Campaign '{campaign.name}' created with ID: {created_campaign.id}\")\n"
   ]
  }
 ],
 "metadata": {
  "kernelspec": {
   "display_name": "proximus",
   "language": "python",
   "name": "python3"
  },
  "language_info": {
   "codemirror_mode": {
    "name": "ipython",
    "version": 3
   },
   "file_extension": ".py",
   "mimetype": "text/x-python",
   "name": "python",
   "nbconvert_exporter": "python",
   "pygments_lexer": "ipython3",
   "version": "3.12.6"
  }
 },
 "nbformat": 4,
 "nbformat_minor": 2
}
